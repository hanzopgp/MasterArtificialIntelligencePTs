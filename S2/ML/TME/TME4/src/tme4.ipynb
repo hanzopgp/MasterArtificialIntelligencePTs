{
 "cells": [
  {
   "cell_type": "code",
   "execution_count": 1,
   "id": "f10829be-fb69-46f2-a83d-fe8aa7b68b6a",
   "metadata": {},
   "outputs": [],
   "source": [
    "import numpy as np\n",
    "import matplotlib.pyplot as plt\n",
    "from matplotlib import cm\n",
    "from mltools import plot_data, plot_frontiere, make_grid, gen_arti\n",
    "from tqdm import tqdm"
   ]
  },
  {
   "cell_type": "code",
   "execution_count": 2,
   "id": "6f421fbb-ecbc-441c-b065-607059500ca5",
   "metadata": {},
   "outputs": [],
   "source": [
    "def mse(w,x,y):\n",
    "    if len(x) != 2:\n",
    "        return np.mean((x@w - y)**2)\n",
    "    else:\n",
    "        return np.mean((x*w-y)**2)\n",
    "\n",
    "def mse_grad(w,x,y):\n",
    "    if len(x) != 2:\n",
    "        return np.mean(1/x.shape[0] * 2 * (x.T @ x @ w - x.T @ y))\n",
    "    else:\n",
    "        return np.mean(2 * (w*x**2 - x*y))\n",
    "\n",
    "def reglog(w,x,y):\n",
    "    return np.mean(np.log(1 + np.exp(-y * (x @ w))))\n",
    "\n",
    "def reglog_grad(w,x,y):\n",
    "    return np.mean(1 / (1+np.exp(-y*(x@w))) * (-y*x) * np.exp(-y * (x@w)), axis=0).reshape(-1,1)\n",
    "\n",
    "def perceptron_loss(w,x,y):\n",
    "    if x.shape[1] == 2:\n",
    "        return np.maximum(0, -y*(x@w))\n",
    "    else:\n",
    "        print((-y.reshape((-1,1))).shape)\n",
    "        print(x.shape)\n",
    "        print(w.shape)\n",
    "        return np.maximum(0, -y.reshape((-1,1))*(x@w))\n",
    "\n",
    "def perceptron_grad(w,x,y):\n",
    "    if x.shape[1] == 2:\n",
    "        return np.where(perceptron_loss(w,x,y) <= 0, 0, -x*y)\n",
    "    else:\n",
    "        print((-y.reshape((-1,1))).shape)\n",
    "        print(x.shape)\n",
    "        print(w.shape)\n",
    "        return np.where(perceptron_loss(w,x,y) <= 0, 0, -x.T@y.reshape((-1,1)))"
   ]
  },
  {
   "cell_type": "code",
   "execution_count": 3,
   "id": "6760ad44-87e5-487b-89b3-beb28da77c50",
   "metadata": {},
   "outputs": [],
   "source": [
    "def descente_gradient(x, y, f_loss, f_grad, eps, n_iter):\n",
    "    list_w = []\n",
    "    list_l = []\n",
    "    w = np.random.randn(datax.shape[1], 1)\n",
    "    for _ in tqdm(range(n_iter)):\n",
    "        w = w - eps * f_grad(w, x, y)\n",
    "        list_w.append(w)\n",
    "        list_l.append(f_loss(w, x, y))\n",
    "    return list_w, list_l, w\n",
    "\n",
    "def descente_gradient_stoch(x, y, f_loss, f_grad, eps, n_iter):\n",
    "    list_w = []\n",
    "    list_l = []\n",
    "    n = x.shape[0]\n",
    "    w = np.random.randn(datax.shape[1], 1)\n",
    "    for _ in tqdm(range(n_iter)):\n",
    "        for _ in range(n):\n",
    "            rand_idx = np.random.randint(n)\n",
    "            w = w - eps * f_grad(w, x[rand_idx], y[rand_idx])\n",
    "        list_w.append(w)\n",
    "        list_l.append(f_loss(w, x, y))\n",
    "    return list_w, list_l, w\n",
    "\n",
    "def descente_gradient_minibatch(x, y, f_loss, f_grad, eps, n_iter):\n",
    "    list_w = []\n",
    "    list_l = []\n",
    "    n = x.shape[0]\n",
    "    w = np.random.randn(x.shape[1], 1)\n",
    "    n_batch = 20\n",
    "    batch_size = n//n_batch\n",
    "    for _ in tqdm(range(n_iter)):\n",
    "        for _ in range(n_batch):\n",
    "            rand_idx = np.random.randint(1, n_batch-1)\n",
    "            w = w - eps * f_grad(w, x[rand_idx*batch_size:rand_idx*(batch_size+1)], y[rand_idx*batch_size:rand_idx*(batch_size+1)])\n",
    "        list_w.append(w)\n",
    "        list_l.append(f_loss(w, x, y))\n",
    "    return list_w, list_l, w"
   ]
  },
  {
   "cell_type": "code",
   "execution_count": 4,
   "id": "6111182b-620a-4704-af89-f104807147f1",
   "metadata": {},
   "outputs": [],
   "source": [
    "class Lineaire(object):\n",
    "    def __init__(self,loss=perceptron_loss,loss_g=perceptron_grad,max_iter=100,eps=0.01):\n",
    "        self.max_iter, self.eps = max_iter,eps\n",
    "        self.w = None\n",
    "        self.loss,self.loss_g = loss,loss_g\n",
    "        \n",
    "    def fit(self,datax,datay):\n",
    "        self.w = np.random.randn(datax.shape[1], 1)\n",
    "        all_w = []\n",
    "        all_loss = []\n",
    "        for _ in range(self.max_iter):\n",
    "            self.w = self.w - self.eps*self.loss_g(self.w,datax,datay).mean(axis=0)\n",
    "            all_loss.append(self.loss(self.w,datax,datay).mean())\n",
    "            all_w.append(self.w)\n",
    "        return self.w, np.array(all_w), np.array(all_loss)\n",
    "\n",
    "    def predict(self,datax):\n",
    "        return np.sign(datax@self.w)\n",
    "\n",
    "    def score(self,datax,datay):\n",
    "        return np.where(self.predict(datax)==datay,1,0).mean()\n",
    "\n",
    "def load_usps(fn):\n",
    "    with open(fn,\"r\") as f:\n",
    "        f.readline()\n",
    "        data = [[float(x) for x in l.split()] for l in f if len(l.split())>2]\n",
    "    tmp=np.array(data)\n",
    "    return tmp[:,1:],tmp[:,0].astype(int)\n",
    "\n",
    "def get_usps(l,datax,datay):\n",
    "    if type(l)!=list:\n",
    "        resx = datax[datay==l,:]\n",
    "        resy = datay[datay==l]\n",
    "        return resx,resy\n",
    "    tmp =   list(zip(*[get_usps(i,datax,datay) for i in l]))\n",
    "    tmpx,tmpy = np.vstack(tmp[0]),np.hstack(tmp[1])\n",
    "    return tmpx,tmpy\n",
    "\n",
    "def show_usps(data):\n",
    "    plt.imshow(data.reshape((16,16)),interpolation=\"nearest\",cmap=\"viridis\")"
   ]
  },
  {
   "cell_type": "code",
   "execution_count": 5,
   "id": "5e2d4bb9-b97b-44d2-a759-dfb817d7d5a5",
   "metadata": {},
   "outputs": [
    {
     "data": {
      "image/png": "[encoded data removed]",
      "text/plain": [
       "<Figure size 432x288 with 1 Axes>"
      ]
     },
     "metadata": {
      "needs_background": "light"
     },
     "output_type": "display_data"
    }
   ],
   "source": [
    "datax, datay = gen_arti(epsilon=0.1, data_type=0)\n",
    "grid, x_grid, y_grid = make_grid(xmin=-2, xmax=2, ymin=-2, ymax=2, step=100)\n",
    "plt.figure()\n",
    "plot_data(datax,datay)"
   ]
  },
  {
   "cell_type": "code",
   "execution_count": 6,
   "id": "cea7e8a1-9f57-4e8b-9006-86d7062bb2f3",
   "metadata": {},
   "outputs": [
    {
     "name": "stdout",
     "output_type": "stream",
     "text": [
      "0.998\n"
     ]
    },
    {
     "data": {
      "image/png": "[encoded data removed]",
      "text/plain": [
       "<Figure size 432x288 with 1 Axes>"
      ]
     },
     "metadata": {
      "needs_background": "light"
     },
     "output_type": "display_data"
    }
   ],
   "source": [
    "model = Lineaire()\n",
    "best_w, w_tab, loss_tab = model.fit(datax,datay)\n",
    "pred = model.predict(datax)\n",
    "score = model.score(datax,datay)\n",
    "print(score)\n",
    "plt.plot(loss_tab)\n",
    "plt.show()"
   ]
  },
  {
   "cell_type": "code",
   "execution_count": 7,
   "id": "4c55ddea-8180-4a3a-9f30-ebe2542c8d3e",
   "metadata": {},
   "outputs": [],
   "source": [
    "# for i in range(best_w.shape[0]):\n",
    "#     plot_frontiere(datax,lambda x : np.sign(x.dot(best_w)),step=100)\n",
    "#     plot_data(datax,datay)"
   ]
  },
  {
   "cell_type": "code",
   "execution_count": 8,
   "id": "d5e1e622-8559-41f4-ab4f-d19238643ccd",
   "metadata": {},
   "outputs": [],
   "source": [
    "uspsdatatrain = \"../data/USPS_train.txt\"\n",
    "uspsdatatest = \"../data/USPS_test.txt\"\n",
    "alltrainx,alltrainy = load_usps(uspsdatatrain)\n",
    "alltestx,alltesty = load_usps(uspsdatatest)\n",
    "neg = 6\n",
    "pos = 9\n",
    "datax,datay = get_usps([neg,pos],alltrainx,alltrainy)\n",
    "testx,testy = get_usps([neg,pos],alltestx,alltesty)"
   ]
  },
  {
   "cell_type": "code",
   "execution_count": 9,
   "id": "ff9bf119-7444-44d8-af25-14a4069926c6",
   "metadata": {},
   "outputs": [],
   "source": [
    "datay = np.where(datay==6,-1,1)"
   ]
  },
  {
   "cell_type": "code",
   "execution_count": 10,
   "id": "db8c9ba4-f8d7-4ccf-9cf8-02c95de5a3ce",
   "metadata": {},
   "outputs": [
    {
     "data": {
      "text/plain": [
       "array([-1, -1, -1, ...,  1,  1,  1])"
      ]
     },
     "execution_count": 10,
     "metadata": {},
     "output_type": "execute_result"
    }
   ],
   "source": [
    "datay"
   ]
  },
  {
   "cell_type": "code",
   "execution_count": 11,
   "id": "4cb99b1d-736c-4656-bb80-9e6749d4e8a5",
   "metadata": {},
   "outputs": [
    {
     "name": "stdout",
     "output_type": "stream",
     "text": [
      "[-1 -1 -1 ...  1  1  1]\n"
     ]
    },
    {
     "data": {
      "image/png": "[encoded data removed]",
      "text/plain": [
       "<Figure size 432x288 with 1 Axes>"
      ]
     },
     "metadata": {
      "needs_background": "light"
     },
     "output_type": "display_data"
    }
   ],
   "source": [
    "show_usps(datax[0])\n",
    "print(datay)"
   ]
  },
  {
   "cell_type": "code",
   "execution_count": 12,
   "id": "d8cf46f6-d1f2-4c85-bde4-6bd1882c059c",
   "metadata": {},
   "outputs": [
    {
     "name": "stdout",
     "output_type": "stream",
     "text": [
      "(1308, 1)\n",
      "(1308, 256)\n",
      "(256, 1)\n",
      "(1308, 1)\n",
      "(1308, 256)\n",
      "(256, 1)\n"
     ]
    },
    {
     "ename": "ValueError",
     "evalue": "operands could not be broadcast together with shapes (1308,1) () (256,1) ",
     "output_type": "error",
     "traceback": [
      "\u001b[1;31m---------------------------------------------------------------------------\u001b[0m",
      "\u001b[1;31mValueError\u001b[0m                                Traceback (most recent call last)",
      "\u001b[1;32m~\\AppData\\Local\\Temp/ipykernel_39200/3174269370.py\u001b[0m in \u001b[0;36m<module>\u001b[1;34m\u001b[0m\n\u001b[0;32m      1\u001b[0m \u001b[0mmodel\u001b[0m \u001b[1;33m=\u001b[0m \u001b[0mLineaire\u001b[0m\u001b[1;33m(\u001b[0m\u001b[1;33m)\u001b[0m\u001b[1;33m\u001b[0m\u001b[1;33m\u001b[0m\u001b[0m\n\u001b[1;32m----> 2\u001b[1;33m \u001b[0mbest_w\u001b[0m\u001b[1;33m,\u001b[0m \u001b[0mw_tab\u001b[0m \u001b[1;33m=\u001b[0m \u001b[0mmodel\u001b[0m\u001b[1;33m.\u001b[0m\u001b[0mfit\u001b[0m\u001b[1;33m(\u001b[0m\u001b[0mdatax\u001b[0m\u001b[1;33m,\u001b[0m\u001b[0mdatay\u001b[0m\u001b[1;33m)\u001b[0m\u001b[1;33m\u001b[0m\u001b[1;33m\u001b[0m\u001b[0m\n\u001b[0m\u001b[0;32m      3\u001b[0m \u001b[0mpred\u001b[0m \u001b[1;33m=\u001b[0m \u001b[0mmodel\u001b[0m\u001b[1;33m.\u001b[0m\u001b[0mpredict\u001b[0m\u001b[1;33m(\u001b[0m\u001b[0mdatax\u001b[0m\u001b[1;33m)\u001b[0m\u001b[1;33m\u001b[0m\u001b[1;33m\u001b[0m\u001b[0m\n\u001b[0;32m      4\u001b[0m \u001b[0mscore\u001b[0m \u001b[1;33m=\u001b[0m \u001b[0mmodel\u001b[0m\u001b[1;33m.\u001b[0m\u001b[0mscore\u001b[0m\u001b[1;33m(\u001b[0m\u001b[0mdatax\u001b[0m\u001b[1;33m,\u001b[0m\u001b[0mdatay\u001b[0m\u001b[1;33m)\u001b[0m\u001b[1;33m\u001b[0m\u001b[1;33m\u001b[0m\u001b[0m\n\u001b[0;32m      5\u001b[0m \u001b[0mprint\u001b[0m\u001b[1;33m(\u001b[0m\u001b[0mscore\u001b[0m\u001b[1;33m)\u001b[0m\u001b[1;33m\u001b[0m\u001b[1;33m\u001b[0m\u001b[0m\n",
      "\u001b[1;32m~\\AppData\\Local\\Temp/ipykernel_39200/449491310.py\u001b[0m in \u001b[0;36mfit\u001b[1;34m(self, datax, datay)\u001b[0m\n\u001b[0;32m     10\u001b[0m         \u001b[0mall_loss\u001b[0m \u001b[1;33m=\u001b[0m \u001b[1;33m[\u001b[0m\u001b[1;33m]\u001b[0m\u001b[1;33m\u001b[0m\u001b[1;33m\u001b[0m\u001b[0m\n\u001b[0;32m     11\u001b[0m         \u001b[1;32mfor\u001b[0m \u001b[0m_\u001b[0m \u001b[1;32min\u001b[0m \u001b[0mrange\u001b[0m\u001b[1;33m(\u001b[0m\u001b[0mself\u001b[0m\u001b[1;33m.\u001b[0m\u001b[0mmax_iter\u001b[0m\u001b[1;33m)\u001b[0m\u001b[1;33m:\u001b[0m\u001b[1;33m\u001b[0m\u001b[1;33m\u001b[0m\u001b[0m\n\u001b[1;32m---> 12\u001b[1;33m             \u001b[0mself\u001b[0m\u001b[1;33m.\u001b[0m\u001b[0mw\u001b[0m \u001b[1;33m=\u001b[0m \u001b[0mself\u001b[0m\u001b[1;33m.\u001b[0m\u001b[0mw\u001b[0m \u001b[1;33m-\u001b[0m \u001b[0mself\u001b[0m\u001b[1;33m.\u001b[0m\u001b[0meps\u001b[0m\u001b[1;33m*\u001b[0m\u001b[0mself\u001b[0m\u001b[1;33m.\u001b[0m\u001b[0mloss_g\u001b[0m\u001b[1;33m(\u001b[0m\u001b[0mself\u001b[0m\u001b[1;33m.\u001b[0m\u001b[0mw\u001b[0m\u001b[1;33m,\u001b[0m\u001b[0mdatax\u001b[0m\u001b[1;33m,\u001b[0m\u001b[0mdatay\u001b[0m\u001b[1;33m)\u001b[0m\u001b[1;33m.\u001b[0m\u001b[0mmean\u001b[0m\u001b[1;33m(\u001b[0m\u001b[0maxis\u001b[0m\u001b[1;33m=\u001b[0m\u001b[1;36m0\u001b[0m\u001b[1;33m)\u001b[0m\u001b[1;33m\u001b[0m\u001b[1;33m\u001b[0m\u001b[0m\n\u001b[0m\u001b[0;32m     13\u001b[0m             \u001b[0mall_loss\u001b[0m\u001b[1;33m.\u001b[0m\u001b[0mappend\u001b[0m\u001b[1;33m(\u001b[0m\u001b[0mself\u001b[0m\u001b[1;33m.\u001b[0m\u001b[0mloss\u001b[0m\u001b[1;33m(\u001b[0m\u001b[0mself\u001b[0m\u001b[1;33m.\u001b[0m\u001b[0mw\u001b[0m\u001b[1;33m,\u001b[0m\u001b[0mdatax\u001b[0m\u001b[1;33m,\u001b[0m\u001b[0mdatay\u001b[0m\u001b[1;33m)\u001b[0m\u001b[1;33m.\u001b[0m\u001b[0mmean\u001b[0m\u001b[1;33m(\u001b[0m\u001b[1;33m)\u001b[0m\u001b[1;33m)\u001b[0m\u001b[1;33m\u001b[0m\u001b[1;33m\u001b[0m\u001b[0m\n\u001b[0;32m     14\u001b[0m             \u001b[0mall_w\u001b[0m\u001b[1;33m.\u001b[0m\u001b[0mappend\u001b[0m\u001b[1;33m(\u001b[0m\u001b[0mself\u001b[0m\u001b[1;33m.\u001b[0m\u001b[0mw\u001b[0m\u001b[1;33m)\u001b[0m\u001b[1;33m\u001b[0m\u001b[1;33m\u001b[0m\u001b[0m\n",
      "\u001b[1;32m~\\AppData\\Local\\Temp/ipykernel_39200/3479928810.py\u001b[0m in \u001b[0;36mperceptron_grad\u001b[1;34m(w, x, y)\u001b[0m\n\u001b[0;32m     33\u001b[0m         \u001b[0mprint\u001b[0m\u001b[1;33m(\u001b[0m\u001b[0mx\u001b[0m\u001b[1;33m.\u001b[0m\u001b[0mshape\u001b[0m\u001b[1;33m)\u001b[0m\u001b[1;33m\u001b[0m\u001b[1;33m\u001b[0m\u001b[0m\n\u001b[0;32m     34\u001b[0m         \u001b[0mprint\u001b[0m\u001b[1;33m(\u001b[0m\u001b[0mw\u001b[0m\u001b[1;33m.\u001b[0m\u001b[0mshape\u001b[0m\u001b[1;33m)\u001b[0m\u001b[1;33m\u001b[0m\u001b[1;33m\u001b[0m\u001b[0m\n\u001b[1;32m---> 35\u001b[1;33m         \u001b[1;32mreturn\u001b[0m \u001b[0mnp\u001b[0m\u001b[1;33m.\u001b[0m\u001b[0mwhere\u001b[0m\u001b[1;33m(\u001b[0m\u001b[0mperceptron_loss\u001b[0m\u001b[1;33m(\u001b[0m\u001b[0mw\u001b[0m\u001b[1;33m,\u001b[0m\u001b[0mx\u001b[0m\u001b[1;33m,\u001b[0m\u001b[0my\u001b[0m\u001b[1;33m)\u001b[0m \u001b[1;33m<=\u001b[0m \u001b[1;36m0\u001b[0m\u001b[1;33m,\u001b[0m \u001b[1;36m0\u001b[0m\u001b[1;33m,\u001b[0m \u001b[1;33m-\u001b[0m\u001b[0mx\u001b[0m\u001b[1;33m.\u001b[0m\u001b[0mT\u001b[0m\u001b[1;33m@\u001b[0m\u001b[0my\u001b[0m\u001b[1;33m.\u001b[0m\u001b[0mreshape\u001b[0m\u001b[1;33m(\u001b[0m\u001b[1;33m(\u001b[0m\u001b[1;33m-\u001b[0m\u001b[1;36m1\u001b[0m\u001b[1;33m,\u001b[0m\u001b[1;36m1\u001b[0m\u001b[1;33m)\u001b[0m\u001b[1;33m)\u001b[0m\u001b[1;33m)\u001b[0m\u001b[1;33m\u001b[0m\u001b[1;33m\u001b[0m\u001b[0m\n\u001b[0m",
      "\u001b[1;32m<__array_function__ internals>\u001b[0m in \u001b[0;36mwhere\u001b[1;34m(*args, **kwargs)\u001b[0m\n",
      "\u001b[1;31mValueError\u001b[0m: operands could not be broadcast together with shapes (1308,1) () (256,1) "
     ]
    }
   ],
   "source": [
    "model = Lineaire()\n",
    "best_w, w_tab = model.fit(datax,datay)\n",
    "pred = model.predict(datax)\n",
    "score = model.score(datax,datay)\n",
    "print(score)"
   ]
  },
  {
   "cell_type": "code",
   "execution_count": null,
   "id": "edc47f1b-48dd-4b2b-8950-990d3e9b760e",
   "metadata": {},
   "outputs": [],
   "source": [
    "show_usps(best_w.mean(axis=0))"
   ]
  },
  {
   "cell_type": "code",
   "execution_count": null,
   "id": "8e693d7c-3aac-44ce-9a0a-202cdf72dcc0",
   "metadata": {},
   "outputs": [],
   "source": [
    "datax = alltrainx\n",
    "datay = np.where(alltrainy==6, -1, 1)"
   ]
  },
  {
   "cell_type": "code",
   "execution_count": null,
   "id": "9a5da969-8964-4845-bf06-bcb61552f62f",
   "metadata": {},
   "outputs": [],
   "source": [
    "show_usps(datax[0])\n",
    "print(datay)"
   ]
  },
  {
   "cell_type": "code",
   "execution_count": null,
   "id": "252affb3-9815-42c9-ac4b-acd8eca227e8",
   "metadata": {},
   "outputs": [],
   "source": [
    "model = Lineaire()\n",
    "best_w, w_tab = model.fit(datax,datay)\n",
    "pred = model.predict(datax)\n",
    "score = model.score(datax,datay)\n",
    "print(best_w.shape)\n",
    "print(datax.shape)"
   ]
  },
  {
   "cell_type": "code",
   "execution_count": null,
   "id": "c31080dc-588c-42f2-bba6-cec6973a8982",
   "metadata": {},
   "outputs": [],
   "source": [
    "# for i in range(best_w.shape[0]): # Modifier la fonction plot_frontiere pour prendre en compte un w n'était pas de shape (2,1)\n",
    "#     plot_frontiere(datax,lambda x : np.sign(x.dot(best_w)),step=100)\n",
    "#     plot_data(datax,datay)"
   ]
  },
  {
   "cell_type": "code",
   "execution_count": null,
   "id": "203fe266-0981-4bd6-bd40-5a227952b7a4",
   "metadata": {},
   "outputs": [],
   "source": []
  }
 ],
 "metadata": {
  "kernelspec": {
   "display_name": "Python 3 (ipykernel)",
   "language": "python",
   "name": "python3"
  },
  "language_info": {
   "codemirror_mode": {
    "name": "ipython",
    "version": 3
   },
   "file_extension": ".py",
   "mimetype": "text/x-python",
   "name": "python",
   "nbconvert_exporter": "python",
   "pygments_lexer": "ipython3",
   "version": "3.8.12"
  }
 },
 "nbformat": 4,
 "nbformat_minor": 5
}
