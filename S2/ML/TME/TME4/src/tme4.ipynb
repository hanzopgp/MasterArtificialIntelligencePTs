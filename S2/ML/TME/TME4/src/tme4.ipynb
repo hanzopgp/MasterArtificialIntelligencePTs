{
 "cells": [
  {
   "cell_type": "code",
   "execution_count": 1,
   "id": "f10829be-fb69-46f2-a83d-fe8aa7b68b6a",
   "metadata": {},
   "outputs": [
    {
     "ename": "ModuleNotFoundError",
     "evalue": "No module named 'mltools'",
     "output_type": "error",
     "traceback": [
      "\u001b[1;31m---------------------------------------------------------------------------\u001b[0m",
      "\u001b[1;31mModuleNotFoundError\u001b[0m                       Traceback (most recent call last)",
      "\u001b[1;32m~\\AppData\\Local\\Temp/ipykernel_12008/1377405984.py\u001b[0m in \u001b[0;36m<module>\u001b[1;34m\u001b[0m\n\u001b[0;32m      2\u001b[0m \u001b[1;32mimport\u001b[0m \u001b[0mmatplotlib\u001b[0m\u001b[1;33m.\u001b[0m\u001b[0mpyplot\u001b[0m \u001b[1;32mas\u001b[0m \u001b[0mplt\u001b[0m\u001b[1;33m\u001b[0m\u001b[1;33m\u001b[0m\u001b[0m\n\u001b[0;32m      3\u001b[0m \u001b[1;32mfrom\u001b[0m \u001b[0mmatplotlib\u001b[0m \u001b[1;32mimport\u001b[0m \u001b[0mcm\u001b[0m\u001b[1;33m\u001b[0m\u001b[1;33m\u001b[0m\u001b[0m\n\u001b[1;32m----> 4\u001b[1;33m \u001b[1;32mfrom\u001b[0m \u001b[0mmltools\u001b[0m \u001b[1;32mimport\u001b[0m \u001b[0mplot_data\u001b[0m\u001b[1;33m,\u001b[0m \u001b[0mplot_frontiere\u001b[0m\u001b[1;33m,\u001b[0m \u001b[0mmake_grid\u001b[0m\u001b[1;33m,\u001b[0m \u001b[0mgen_arti\u001b[0m\u001b[1;33m\u001b[0m\u001b[1;33m\u001b[0m\u001b[0m\n\u001b[0m",
      "\u001b[1;31mModuleNotFoundError\u001b[0m: No module named 'mltools'"
     ]
    }
   ],
   "source": [
    "import numpy as np\n",
    "import matplotlib.pyplot as plt\n",
    "from matplotlib import cm\n",
    "from mltools import plot_data, plot_frontiere, make_grid, gen_arti"
   ]
  },
  {
   "cell_type": "code",
   "execution_count": null,
   "id": "6111182b-620a-4704-af89-f104807147f1",
   "metadata": {},
   "outputs": [],
   "source": [
    "class Lineaire(object):\n",
    "    def __init__(self,loss=perceptron_loss,loss_g=perceptron_grad,max_iter=100,eps=0.01):\n",
    "        self.max_iter, self.eps = max_iter,eps\n",
    "        self.w = None\n",
    "        self.loss,self.loss_g = loss,loss_g\n",
    "        \n",
    "    def fit(self,datax,datay):\n",
    "        pass\n",
    "\n",
    "    def predict(self,datax):\n",
    "        pass\n",
    "\n",
    "    def score(self,datax,datay):\n",
    "        pass\n",
    "\n",
    "def load_usps(fn):\n",
    "    with open(fn,\"r\") as f:\n",
    "        f.readline()\n",
    "        data = [[float(x) for x in l.split()] for l in f if len(l.split())>2]\n",
    "    tmp=np.array(data)\n",
    "    return tmp[:,1:],tmp[:,0].astype(int)\n",
    "\n",
    "def get_usps(l,datax,datay):\n",
    "    if type(l)!=list:\n",
    "        resx = datax[datay==l,:]\n",
    "        resy = datay[datay==l]\n",
    "        return resx,resy\n",
    "    tmp =   list(zip(*[get_usps(i,datax,datay) for i in l]))\n",
    "    tmpx,tmpy = np.vstack(tmp[0]),np.hstack(tmp[1])\n",
    "    return tmpx,tmpy\n",
    "\n",
    "def show_usps(data):\n",
    "    plt.imshow(data.reshape((16,16)),interpolation=\"nearest\",cmap=\"gray\")\n",
    "\n",
    "\n",
    "\n",
    "if __name__ ==\"__main__\":\n",
    "    uspsdatatrain = \"../data/USPS_train.txt\"\n",
    "    uspsdatatest = \"../data/USPS_test.txt\"\n",
    "    alltrainx,alltrainy = load_usps(uspsdatatrain)\n",
    "    alltestx,alltesty = load_usps(uspsdatatest)\n",
    "    neg = 5\n",
    "    pos = 6\n",
    "    datax,datay = get_usps([neg,pos],alltrainx,alltrainy)\n",
    "    testx,testy = get_usps([neg,pos],alltestx,alltesty)"
   ]
  },
  {
   "cell_type": "code",
   "execution_count": null,
   "id": "19557551-bd15-47ec-a6e0-ace59bb31446",
   "metadata": {},
   "outputs": [],
   "source": []
  }
 ],
 "metadata": {
  "kernelspec": {
   "display_name": "Python 3 (ipykernel)",
   "language": "python",
   "name": "python3"
  },
  "language_info": {
   "codemirror_mode": {
    "name": "ipython",
    "version": 3
   },
   "file_extension": ".py",
   "mimetype": "text/x-python",
   "name": "python",
   "nbconvert_exporter": "python",
   "pygments_lexer": "ipython3",
   "version": "3.8.12"
  }
 },
 "nbformat": 4,
 "nbformat_minor": 5
}
