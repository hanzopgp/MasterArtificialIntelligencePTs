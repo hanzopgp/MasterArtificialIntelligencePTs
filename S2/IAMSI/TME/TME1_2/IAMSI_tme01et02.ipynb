{
 "cells": [
  {
   "cell_type": "markdown",
   "metadata": {},
   "source": [
    "IAMSI -- 2021-2022\n",
    "\n",
    "--------\n",
    "*&copy; Equipe pédagogique : Gauvain Bourgne, Jean-Gabriel Ganascia, Marie-Jeanne Lesot, Christophe Marsala.*"
   ]
  },
  {
   "cell_type": "markdown",
   "metadata": {},
   "source": [
    "# TME 1 et 2 : Jeu à 2 joueurs -  Programmation d'un joueur d'Awélé"
   ]
  },
  {
   "cell_type": "markdown",
   "metadata": {},
   "source": [
    "<font color=\"RED\" size=\"+1\">**[Q]**</font> **Indiquer dans la boîte ci-dessous vos noms et prénoms**"
   ]
  },
  {
   "cell_type": "markdown",
   "metadata": {},
   "source": [
    "*Double-cliquer ici et insérer les noms et prénoms de votre binôme*"
   ]
  },
  {
   "cell_type": "markdown",
   "metadata": {},
   "source": [
    "<font color=\"RED\" size=\"+1\">**[Q]**</font> **Renommer ce fichier ipython**\n",
    "\n",
    "Tout en haut de cette page, cliquer sur <tt>tme01et02</tt> et rajouter à la suite de <tt>tme01et02</tt> les noms des membres du binômes séparés par un tiret.\n",
    "\n",
    "Par exemple, pour le binôme Luke Skywalker et Han Solo, le nom de fichier devient : <pre>tme01et02-Skywalker-Solo</pre>"
   ]
  },
  {
   "cell_type": "markdown",
   "metadata": {},
   "source": [
    "## Présentation"
   ]
  },
  {
   "cell_type": "markdown",
   "metadata": {},
   "source": [
    "### Objectifs des TME 1 et 2\n",
    "\n",
    "Le travail à réaliser est le suivant : programmer en Python un joueur artificiel d'Awélé dont les règles du jeu sont\n",
    "  fournies ci-dessous (ne pas hésiter pas à faire quelques parties sur le site dont l'adresse est donnée).\n",
    "  \n",
    "*A noter* :  Il est autorisé d'écrire des fonctions auxiliaires permettant de simplifier l'écriture\n",
    "  de la fonction répondant à une question. Dans ce cas, ces fonctions doivent être dûment commentées et spécifiées.\n",
    "  "
   ]
  },
  {
   "cell_type": "markdown",
   "metadata": {},
   "source": [
    "#### Compte-rendu des séances de TME 1 et 2\n",
    "\n",
    "Le fichier ipython que vous remplissez ici fait office de compte-rendu pour ces 2 séances de TME.\n",
    "\n",
    "Il y a 2 soumissions à faire **obligatoirement** sur le site Moodle :\n",
    "- 1er compte-rendu : <font color=\"RED\">à l'issue de la première séance</font>, soumettre ce qui a été réalisé lors de la séance.\n",
    "- 2e compte-rendu : <font color=\"RED\">à l'issue de la deuxième séance</font>, soumettre la version finale du travail réalisé durant les 2 séances.\n",
    "\n",
    "Votre compte-rendu a la forme d'un unique fichier ipynb (ce fichier-ci complété, NON ZIPPE).\n"
   ]
  },
  {
   "cell_type": "markdown",
   "metadata": {},
   "source": [
    "### Grille de notation\n",
    "\n",
    "Le barème (indicatif) pour ces 2 séances de TME est le suivant :\n",
    "- implémentation correcte et effective du minimax : 10 sur 20\n",
    "- implémentation correcte et effective de l'alpha-bêta : 15 sur 20\n",
    "- implémentation d'améliorations ou d'extensions (``pour aller plus loin...'') : +0 à +3 points\n",
    "- programme commenté : -1 à +1 points\n",
    "- efficacité des fonctions :  -1 à +2 points\n",
    "\n",
    "La note finale ne dépassera pas 20."
   ]
  },
  {
   "cell_type": "markdown",
   "metadata": {},
   "source": [
    "Une fonction utile dans la suite est la fonction <tt>input</tt> qui permet de demander à l'entrée d'une valeur saisie au clavier. Elle renvoie une chaîne de caractères."
   ]
  },
  {
   "cell_type": "code",
   "execution_count": 4,
   "metadata": {},
   "outputs": [
    {
     "name": "stdout",
     "output_type": "stream",
     "text": [
      "Entrer l'année de naissance : 2018\n",
      "Cela fait donc 3  ans\n"
     ]
    }
   ],
   "source": [
    "# Exemple d'utilisation de input():\n",
    "annee_naiss = input(\"Entrer l\\'année de naissance : \")\n",
    "print(\"Cela fait donc\",2021-int(annee_naiss),\" ans\")"
   ]
  },
  {
   "cell_type": "markdown",
   "metadata": {},
   "source": [
    "## Présentation du jeu d'Awélé\n",
    "\n",
    "L'Awélé est un jeu d'origine africaine qui se joue sur un plateau (ou tablier) où chacun des 2 joueurs (Sud et Nord) possède 6 cases.  Les règles de ce jeu  sont simples et facilement implémentables.\n",
    "\n",
    "Voir la page wikipédia (http://fr.wikipedia.org/wiki/Awalé) qui détaille les règles que nous utilisons ici, ainsi que le site http://s.helan.free.fr/awale/lejeu/jouer/ qui permet de s'initier en jouant\n",
    "  contre un joueur artificiel.\n",
    "\n",
    "### Règles du jeu\n",
    "Dans la position de départ, toutes les cases sont remplies avec 4 graines.  Le joueur dont\n",
    "c'est le tour de jeu (on considère que le camp Sud débute toujours la partie.) choisit une de ses cases contenant des graines, et en retire toutes les graines qu'elle contient.  Il sème alors ces graines une par une dans les cases suivantes dans le sens inverse des aiguilles d'une montre.  Au cours de cette pose, s'il repasse sur la case qui contenait les graines au départ, il n'y dépose pas de graine.\n",
    "\n",
    "Si la dernière graine est semée dans une case de l'adversaire contenant 2 ou 3 graines après la pose, les graines dans cette case sont capturées par le joueur et elles sont alors retirées du jeu (elles sont mises dans le butin du joueur).  Dans ce cas, si l'avant-dernière case est aussi une case ennemie contenant 2 ou 3 graines, les graines en sont aussi capturées, et ainsi de suite tant que des prises sont possibles (toujours dans le camp ennemi).\n",
    "\n",
    "Il est à noter qu'un coup n'effectue pas forcément une prise, mais si une prise existe à l'issue d'un coup, elle doit obligatoirement être réalisée totalement.\n",
    "\n",
    "A l'issue du coup ainsi exécuté, il doit rester au moins une graine dans l'une des cases de l'adversaire (il ne faut pas ''affamer'' l'adversaire) sinon la position est considérée comme illégale et le coup ne peut pas être joué.\n",
    "\n",
    "Dès qu'un joueur a capturé 25 graines ou plus, il est déclaré vainqueur de la partie et le jeu s'arrête.\n",
    "\n",
    "Dans le cas où un joueur ne peut pas jouer, la partie s'arrête et toutes les graines restant sur le tablier sont capturées par son adversaire.  Dans ce cas, le joueur qui a capturé le plus de graines a gagné.\n",
    "\n",
    "### Représentation du tablier\n",
    "\n",
    "Le tablier est toujours représenté avec les cases de Sud en bas.  \n",
    "Les cases sont ordonnées et repérées par des chiffres, de 1 à 6, de la gauche vers la droite. Dans chaque case, on indique le nombre de graines qu'elle contient. Ainsi, le tablier de départ classique est donné ci-dessous:\n",
    "\n",
    "<p />\n",
    "<table>\n",
    "<tr>\n",
    "<td>\n",
    "**NORD**<br>\n",
    "$\\begin{array}{|c|c|c|c|c|c|} \\hline\n",
    "      4 & 4 & 4 & 4 &\t4 & 4\\\\\n",
    "      \\hline\n",
    "      4 & 4 & 4 & 4 & 4 & 4\\\\\n",
    "      \\hline\n",
    "\\end{array}$<br>\n",
    "**SUD**<br>\n",
    "\n",
    "$\\begin{array}{cccccc} \n",
    "      1 & 2 & 3 & 4 & 5 & 6\\\\\n",
    "\\end{array}$\n",
    "</td>\n",
    "</tr>\n",
    "</table>\n",
    "\n",
    "Un coup est noté en donnant le camp qui joue ainsi que le numéro de la case qui est vidée.  Par exemple, $($SUD$, 2)$ si le camp Sud joue en prenant les graines de la deuxième case en partant de la gauche qui se trouve dans son camp. Ou alors, $($NORD$, 6)$ si le camp Nord joue en prenant les graines de la case numéro 6 qui se trouve dans son camp, c'est à dire la sixième case en partant de la gauche qui se trouve dans son camp, soit celle la plus en haut et à droite du tablier.\n",
    "\n",
    "\n",
    "### Exemple de coup avec prise de graines\n",
    "\n",
    "A partir de la position située à gauche dans la figure ci-dessous, Sud décide de jouer le coup $4$.  La position au centre de la figure montre la situation intermédiaire, suite au dépôt des $6$ graines dans les $6$ cases qui suivent la case $4$ dans l'ordre inverse des aiguilles d'une montre.\n",
    "\n",
    "<p />\n",
    "<table>\n",
    "<tr>\n",
    "<td>Départ</td>\n",
    "<td>SUD a réparti les graines de $4$</td>\n",
    "<td>SUD retire les graines dans le camp NORD</td>\n",
    "</tr>\n",
    "<tr>\n",
    "<td>\n",
    "**NORD**<br>\n",
    "$\\begin{array}{|c|c|c|c|c|c|} \\hline\n",
    " & 2 & 1 & 2 & 1 & 1\\\\\n",
    "\\hline\n",
    "1 & & & {\\bf 6} & & 1\\\\\n",
    "     \\hline\n",
    "\\end{array}$<br>\n",
    "**SUD**<br>\n",
    "$\\begin{array}{cccccc} \n",
    "      1 & 2 & 3 & 4 & 5 & 6\\\\\n",
    "\\end{array}$\n",
    "\n",
    "</td>\n",
    "<td>\n",
    "**NORD**<br>\n",
    "$\\begin{array}{|c|c|c|c|c|c|} \\hline\n",
    "& 2 & {\\bf 2} & {\\bf 3} & {\\bf 2} & {\\bf 2}\\\\\n",
    "\\hline\n",
    "1 & & & & {\\bf 1} & {\\bf 2}\\\\\n",
    "      \\hline\n",
    "\\end{array}$<br>\n",
    "**SUD**<br>\n",
    "\n",
    "$\\begin{array}{cccccc} \n",
    "      1 & 2 & 3 & 4 & 5 & 6\\\\\n",
    "\\end{array}$\n",
    "</td>\n",
    "<td>\n",
    "**NORD**<br>\n",
    "$\\begin{array}{|c|c|c|c|c|c|} \\hline\n",
    "& 2 & & & & \\\\\n",
    "\\hline\n",
    "1 & & & & {\\bf 1} & {\\bf 2}\\\\\n",
    "      \\hline\n",
    "\\end{array}$<br>\n",
    "**SUD**<br>\n",
    "\n",
    "$\\begin{array}{cccccc} \n",
    "      1 & 2 & 3 & 4 & 5 & 6\\\\\n",
    "\\end{array}$\n",
    "</td>\n",
    "</tr>\n",
    "\n",
    "</table>\n",
    "\n",
    "\n",
    "Comme la dernière case où une graine a été posée (la case $3$ du camp Nord) contient maintenant $2$ graines, celles-ci sont prises par Sud, ainsi que celles des cases $4$, $5$ et $6$ qui contiennent (en suivant cet ordre) $2$ ou $3$ graines.  Au total, avec ce coup, Sud prend $9$ graines.  A l'issue des prises réalisées, on obtient finalement la nouvelle position présentée à droite de la figure.  Maintenant, Nord n'a qu'une seule possibilité et doit jouer les graines de la case $2$."
   ]
  },
  {
   "cell_type": "markdown",
   "metadata": {},
   "source": [
    "## Programmer un joueur d'Awélé"
   ]
  },
  {
   "cell_type": "markdown",
   "metadata": {},
   "source": [
    "### Structure de données"
   ]
  },
  {
   "cell_type": "markdown",
   "metadata": {},
   "source": [
    "Pour représenter une position d'Awélé en Python. Une *position* est définie par les éléments suivants :\n",
    "- une *dimension* qui correspond au nombre de colonnes (dans l'Awélé original, il y a 6 colonnes). On note $n$ ce nombre de colonnes dans la suite de ce texte ;\n",
    "- un *plateau* qui correspond au plateau de jeu et donne le nombre de graines dans chaque case ;\n",
    "- le *trait* qui correspond au camp devant jouer dans la position donnée. Il y a\n",
    "  deux camps: \"NORD et \"SUD\" ;\n",
    "- le *butin* qui correspond au nombre de graines déjà ramassées par chacun des joueurs.\n",
    "\n",
    "\n",
    "En Python, une telle position est représentée en tant que dictionnaire qui associe à chaque nom de champ sa valeur.\n",
    "\n",
    "Dans ce qui suit, on distingue :\n",
    "- un coup *correct* qui correspond à un numéro de colonne correct (valeur comprise entre 1 et $n$), et pour lequel la case correspondante contient au moins une graine;\n",
    "- un coup *autorisé* qui est un coup à la fois correct et permettant d'atteindre une position légale du jeu, c'est-à-dire une position qui respecte la règle obligeant à laisser au moins une graine dans le camp de son adversaire."
   ]
  },
  {
   "cell_type": "markdown",
   "metadata": {},
   "source": [
    "** Représentation du plateau de jeu en Python**\n",
    "\n",
    "Pour représenter le plateau en Python, on utilise une liste d'entiers, chaque entier correspondant au nombre de graines dans une case. \n",
    "\n",
    "Soit un plateau de jeu de $n$ colonnes.\n",
    "\n",
    "Pour le camp SUD :\n",
    "- le nombre de graines de la case de la colonne 1 est stocké en position $0$ dans la liste Python ;\n",
    "- le nombre de graines de la case de la colonne  2 est stocké en position $1$ dans la liste Python ;\n",
    "- ...\n",
    "- le nombre de graines de la case de la colonne  $n$ est stocké en position $n-1$ dans la liste Python.\n",
    "\n",
    "Pour le camp NORD :\n",
    "- le nombre de graines de la case de la colonne  1 est stocké en position $2n-1$ dans la liste Python ;\n",
    "- le nombre de graines de la case de la colonne  2 est stocké en position $2n-2$ dans la liste Python ;\n",
    "- ...\n",
    "- le nombre de graines de la case de la colonne  $n$ est stocké en position $n$ dans la liste Python.\n",
    "\n",
    "(il est conseillé de faire un schéma pour bien comprendre).\n",
    "\n",
    "Cette représentation à l'avantage de favoriser le parcours des cases du plateau : en parcourant la liste par positions croissantes, on retrouve le parcours en sens inverse des aiguilles d'une montre. Ce parcours peut alors se faire en Python en incrémentant de 1 la position pour passer à la case suivante, et en réalisant un calcul modulo $2n$."
   ]
  },
  {
   "cell_type": "markdown",
   "metadata": {},
   "source": [
    "### Fonctions fournies"
   ]
  },
  {
   "cell_type": "markdown",
   "metadata": {},
   "source": [
    "Plusieurs fonctions sont fournies dans ce qui suit :\n",
    "- <tt>position_initiale(n)</tt> : qui définit la position initiale du jeu. L'argument est un entier <tt>n</tt> qui donne le nombre de colonnes du plateau du jeu ;\n",
    "- <tt>affichage(position)</tt> : affichage de façon textuelle d'une position ;\n",
    "- <tt>duplique(position)</tt> : recopie d'une position en la dupliquant pour pouvoir y apporter des modifications sans altérer la position originale ;\n",
    "- <tt>joue_un_coup(position,coup)</tt> : renvoie la position obtenue une fois le coup joué dans la position donnée. Cette fonction fait l'hypothèse que le coup donné est un coup correct et elle ne vérifie donc pas que la position résultante est bien une position légale du jeu.\n"
   ]
  },
  {
   "cell_type": "code",
   "execution_count": 5,
   "metadata": {},
   "outputs": [],
   "source": [
    "# - - - - - - - - - - - - - - - TYPES UTILISES\n",
    "# POSITION : dictionnaire non vide qui contient différentes informations sur\n",
    "#            une position, associées au nom de leur champ.\n",
    "# COUP : valeur entière comprise entre 1 et le nombre de colonnes du tablier\n",
    "#\n",
    "#\n",
    "# - - - - - - - - - - - - - - - INITIALISATION\n",
    "def position_initiale(n):\n",
    "    \"\"\" int -> POSITION\n",
    "        Hypothèse : n > 0\n",
    "        définit la position de départ pour n colonnes avec 4 graines dans chaque case.\n",
    "    \"\"\"\n",
    "    position = dict()                                 # initialisation\n",
    "    position['plateau'] = [4 for k in range(0, 2*n)]  # on met 4 graines dans chaque case\n",
    "    position['dimension'] = n                         # le nombre de colonnes du plateau\n",
    "    position['trait'] = 'SUD'                         # le joueur qui doit jouer: 'SUD' ou 'NORD'\n",
    "    position['butin'] = {'SUD':0, 'NORD':0}           # graines prises par chaque joueur\n",
    "    return position\n",
    "\n",
    "# - - - - - - - - - - - - - - - AFFICHAGE (TEXTE)\n",
    "def affichage(position):\n",
    "    \"\"\" POSITION ->\n",
    "        affiche la position de façon textuelle\n",
    "    \"\"\"\n",
    "    print('* * * * * * * * * * * * * * * * * * * *')\n",
    "    n = position['dimension']\n",
    "    buffercol = 'colonnes:'\n",
    "    for i in range(0,n):\n",
    "        buffercol += '\\t ' + str(i+1) + ' '\n",
    "    buffer =''\n",
    "    #print(buffer)\n",
    "    print('\\t\\tNORD (prises: '+str(position['butin']['NORD'])+')')\n",
    "    print('< - - - - - - - - - - - - - - -')\n",
    "    buffer = buffercol+'\\n'+ '        '\n",
    "    for i in range(2*n-1,n-1,-1):   # indices n..(2n-1) pour les cases NORD\n",
    "        buffer += '\\t[' + str(position['plateau'][i]) + ']'\n",
    "    print(buffer)\n",
    "    buffer = '        '\n",
    "    for i in range(0,n):            # indices 0..(n-1) pour les cases SUD\n",
    "        buffer += '\\t[' + str(position['plateau'][i]) + ']'\n",
    "    print(buffer)\n",
    "    print(buffercol+'\\n')\n",
    "    print('- - - - - - - - - - - - - - - >')\n",
    "    print('\\t\\tSUD (prises: '+str(position['butin']['SUD'])+')')\n",
    "    print('\\n-> camp au trait: '+position['trait']+'\\n');\n",
    "\n",
    "# - - - - - - - - - - - - - - - RECOPIE\n",
    "import copy\n",
    "def duplique(position):\n",
    "    \"\"\" POSITION -> POSITION\n",
    "        retourne une copie dupliquée de la position\n",
    "        (qui peut être alors modifiée sans altérer l'originale).\n",
    "    \"\"\"\n",
    "    leclone = dict()\n",
    "    leclone['plateau'] = copy.deepcopy(position['plateau'])\n",
    "    leclone['dimension']  = position['dimension']\n",
    "    leclone['trait']   = position['trait']\n",
    "    leclone['butin'] =  copy.deepcopy(position['butin'])\n",
    "    return leclone\n",
    "\n",
    "# - - - - - - - - - - - - - - - JOUE UN COUP\n",
    "def joue_un_coup(position,coup):\n",
    "    \"\"\" POSITION * COUP -> POSITION\n",
    "        Hypothèse: coup est correct.\n",
    "\n",
    "        Cette fonction renvoie la position obtenue une fois le coup joué.\n",
    "    \"\"\"\n",
    "    nouvelle_pos = duplique(position)   # on duplique pour ne pas modifier l'original\n",
    "    n = nouvelle_pos['dimension']\n",
    "    trait = nouvelle_pos['trait']\n",
    "    # on transforme coup en indice\n",
    "    if trait == 'SUD':\n",
    "        indice_depart = coup-1\n",
    "    else:\n",
    "        indice_depart = 2*n-coup\n",
    "    # retrait des graines de la case de départ\n",
    "    nbGraines = nouvelle_pos['plateau'][indice_depart]\n",
    "    nouvelle_pos['plateau'][indice_depart] = 0\n",
    "    # on sème les graines dans les cases à partir de celle de départ\n",
    "    indice_courant = indice_depart\n",
    "    while nbGraines > 0:\n",
    "        indice_courant = (indice_courant + 1) % (2*n)\n",
    "        if (indice_courant != indice_depart):              # si ce n'est pas la case de départ\n",
    "            nouvelle_pos['plateau'][indice_courant] += 1   # on sème une graine\n",
    "            nbGraines -= 1\n",
    "    # la case d'arrivée est dans le camp ennemi ?\n",
    "    if (trait == 'NORD'):\n",
    "        estChezEnnemi = (indice_courant < n)\n",
    "    else:\n",
    "        estChezEnnemi = (indice_courant >= n)\n",
    "    # réalisation des prises éventuelles\n",
    "    while estChezEnnemi and (nouvelle_pos['plateau'][indice_courant] in range(2,4)):\n",
    "        nouvelle_pos['butin'][trait] += nouvelle_pos['plateau'][indice_courant]\n",
    "        nouvelle_pos['plateau'][indice_courant] = 0\n",
    "        indice_courant = (indice_courant - 1) % (2*n)\n",
    "        if (trait == 'NORD'):\n",
    "            estChezEnnemi = (indice_courant < n)\n",
    "        else:\n",
    "            estChezEnnemi = (indice_courant >= n)\n",
    "    # mise à jour du camp au trait\n",
    "    if trait == 'SUD':\n",
    "        nouvelle_pos['trait'] = 'NORD'\n",
    "    else:\n",
    "        nouvelle_pos['trait'] = 'SUD'\n",
    "    return nouvelle_pos\n",
    "# - - - - - - - - - -\n"
   ]
  },
  {
   "cell_type": "markdown",
   "metadata": {},
   "source": [
    "Les instructions qui suivent permettent de voir comment utiliser les fonctions précédentes."
   ]
  },
  {
   "cell_type": "code",
   "execution_count": 6,
   "metadata": {},
   "outputs": [
    {
     "name": "stdout",
     "output_type": "stream",
     "text": [
      "* * * * * * * * * * * * * * * * * * * *\n",
      "\t\tNORD (prises: 0)\n",
      "< - - - - - - - - - - - - - - -\n",
      "colonnes:\t 1 \t 2 \t 3 \t 4 \t 5 \t 6 \n",
      "        \t[4]\t[4]\t[4]\t[4]\t[4]\t[4]\n",
      "        \t[4]\t[4]\t[4]\t[4]\t[4]\t[4]\n",
      "colonnes:\t 1 \t 2 \t 3 \t 4 \t 5 \t 6 \n",
      "\n",
      "- - - - - - - - - - - - - - - >\n",
      "\t\tSUD (prises: 0)\n",
      "\n",
      "-> camp au trait: SUD\n",
      "\n",
      "* * * * * * * * * * * * * * * * * * * *\n",
      "\t\tNORD (prises: 2)\n",
      "< - - - - - - - - - - - - - - -\n",
      "colonnes:\t 1 \t 2 \t 3 \t 4 \t 5 \t 6 \n",
      "        \t[0]\t[1]\t[7]\t[2]\t[7]\t[7]\n",
      "        \t[1]\t[1]\t[1]\t[9]\t[0]\t[7]\n",
      "colonnes:\t 1 \t 2 \t 3 \t 4 \t 5 \t 6 \n",
      "\n",
      "- - - - - - - - - - - - - - - >\n",
      "\t\tSUD (prises: 3)\n",
      "\n",
      "-> camp au trait: NORD\n",
      "\n",
      "#######################################\n",
      "Partie sur un tablier réduit pour tester:\n",
      "* * * * * * * * * * * * * * * * * * * *\n",
      "\t\tNORD (prises: 0)\n",
      "< - - - - - - - - - - - - - - -\n",
      "colonnes:\t 1 \t 2 \t 3 \t 4 \t 5 \t 6 \n",
      "        \t[4]\t[4]\t[4]\t[4]\t[4]\t[4]\n",
      "        \t[4]\t[4]\t[4]\t[4]\t[4]\t[4]\n",
      "colonnes:\t 1 \t 2 \t 3 \t 4 \t 5 \t 6 \n",
      "\n",
      "- - - - - - - - - - - - - - - >\n",
      "\t\tSUD (prises: 0)\n",
      "\n",
      "-> camp au trait: SUD\n",
      "\n",
      "* * * * * * * * * * * * * * * * * * * *\n",
      "\t\tNORD (prises: 0)\n",
      "< - - - - - - - - - - - - - - -\n",
      "colonnes:\t 1 \t 2 \t 3 \t 4 \t 5 \t 6 \n",
      "        \t[0]\t[5]\t[0]\t[5]\t[5]\t[5]\n",
      "        \t[1]\t[8]\t[1]\t[7]\t[6]\t[5]\n",
      "colonnes:\t 1 \t 2 \t 3 \t 4 \t 5 \t 6 \n",
      "\n",
      "- - - - - - - - - - - - - - - >\n",
      "\t\tSUD (prises: 0)\n",
      "\n",
      "-> camp au trait: SUD\n",
      "\n",
      "#######################################\n",
      "Essai de prises:\n",
      "* * * * * * * * * * * * * * * * * * * *\n",
      "\t\tNORD (prises: 0)\n",
      "< - - - - - - - - - - - - - - -\n",
      "colonnes:\t 1 \t 2 \t 3 \t 4 \t 5 \t 6 \n",
      "        \t[4]\t[4]\t[4]\t[4]\t[4]\t[4]\n",
      "        \t[4]\t[4]\t[4]\t[4]\t[4]\t[4]\n",
      "colonnes:\t 1 \t 2 \t 3 \t 4 \t 5 \t 6 \n",
      "\n",
      "- - - - - - - - - - - - - - - >\n",
      "\t\tSUD (prises: 0)\n",
      "\n",
      "-> camp au trait: SUD\n",
      "\n",
      "* * * * * * * * * * * * * * * * * * * *\n",
      "\t\tNORD (prises: 0)\n",
      "< - - - - - - - - - - - - - - -\n",
      "colonnes:\t 1 \t 2 \t 3 \t 4 \t 5 \t 6 \n",
      "        \t[4]\t[4]\t[4]\t[5]\t[5]\t[5]\n",
      "        \t[4]\t[4]\t[4]\t[4]\t[0]\t[5]\n",
      "colonnes:\t 1 \t 2 \t 3 \t 4 \t 5 \t 6 \n",
      "\n",
      "- - - - - - - - - - - - - - - >\n",
      "\t\tSUD (prises: 0)\n",
      "\n",
      "-> camp au trait: NORD\n",
      "\n"
     ]
    }
   ],
   "source": [
    "# ------------------------- POUR VOIR COMMENT CA MARCHE:\n",
    "maPosition = position_initiale(6)\n",
    "affichage(maPosition)\n",
    "maPosition2 = joue_un_coup(maPosition,1) # SUD joue\n",
    "maPosition2 = joue_un_coup(maPosition2,1) # NORD joue\n",
    "maPosition2 = joue_un_coup(maPosition2,2) # SUD joue\n",
    "maPosition2 = joue_un_coup(maPosition2,4) # NORD joue\n",
    "maPosition2 = joue_un_coup(maPosition2,3) # SUD joue\n",
    "maPosition2 = joue_un_coup(maPosition2,2) # NORD joue\n",
    "maPosition2 = joue_un_coup(maPosition2,5) # SUD joue\n",
    "affichage(maPosition2)\n",
    "print(\"#######################################\\nPartie sur un tablier réduit pour tester:\")\n",
    "#maPosition = position_initiale(3)\n",
    "affichage(maPosition)\n",
    "maPosition2 = joue_un_coup(maPosition,1) # SUD joue\n",
    "maPosition2 = joue_un_coup(maPosition2,1) # NORD joue\n",
    "maPosition2 = joue_un_coup(maPosition2,3) # SUD joue\n",
    "maPosition2 = joue_un_coup(maPosition2,3) # NORD joue\n",
    "maPosition2 = joue_un_coup(maPosition2,1) # SUD joue\n",
    "maPosition2 = joue_un_coup(maPosition2,1) # NORD joue\n",
    "affichage(maPosition2)\n",
    "print(\"#######################################\\nEssai de prises:\")\n",
    "maPosition = position_initiale(6)\n",
    "maPosition['tablier'] = [1, 2, 3, 4, 5, 1, 2, 2, 2, 2, 2, 2]\n",
    "affichage(maPosition)\n",
    "maPosition2 = joue_un_coup(maPosition,5) # SUD joue\n",
    "affichage(maPosition2)\n",
    "# ------------------------- FIN TEST\n"
   ]
  },
  {
   "cell_type": "markdown",
   "metadata": {},
   "source": [
    "### Fonctions simples"
   ]
  },
  {
   "cell_type": "markdown",
   "metadata": {},
   "source": [
    "<font color=\"RED\" size=\"+1\">**[Q]**</font> Ecrire les fonctions suivantes :\n",
    "- <tt>est_correct(position,nombre)</tt>: rend le booléen <tt>True</tt> si le nombre donné peut être un coup correct dans la position donnée, c'est-à-dire si ce nombre est un entier compris entre 1\n",
    "  et <tt>n</tt> et si de plus la case correspondante du plateau (pour le camp qui doit donc jouer\n",
    "  dans la position) contient au moins une graine.\n",
    "- <tt>est_legale(position)</tt>: rend le booléen <tt>True</tt> si la position donnée est légale, c'est-à-dire si le camp qui doit jouer possède au moins une graine dans son camp.\n",
    "- <tt>effectue_si_valide(position,coup)</tt>: rend la nouvelle position obtenue en jouant <tt>coup</tt>\n",
    "  dans la position donnée. Cette fonction retourne le booléen <tt>False</tt> si le coup\n",
    "  n'est pas correct ou si la position résultante n'est pas une position légale du jeu.\n",
    "- <tt>est_terminale(position)</tt>: rend le booléen <tt>True</tt> si la position est\n",
    "  terminale, c'est-à-dire si aucun coup n'est correct, ou si tout coup correct ne permet\n",
    "  pas d'atteindre une position légale ou bien si l'un des deux joueurs a gagné un nombre de graines suffisant. Dans le jeu Awélé original à 6 colonnes, la position est gagnée dès qu'un camp a remporté 25 graines, ce qui correspond à $6*4+1$ graines. Ce nombre de graines nécessaire pour remporter la victoire dépend donc de la taille du plateau de jeu.\n"
   ]
  },
  {
   "cell_type": "code",
   "execution_count": null,
   "metadata": {},
   "outputs": [],
   "source": []
  },
  {
   "cell_type": "markdown",
   "metadata": {},
   "source": [
    "### Moteur de jeu simple"
   ]
  },
  {
   "cell_type": "markdown",
   "metadata": {},
   "source": [
    "<font color=\"RED\" size=\"+1\">**[Q]**</font> Ecrire la fonction <tt>partie_humains(taille)</tt> permettant à deux joueurs humains de\n",
    "  s'affronter dans une partie d'Awélé sur un plateau qui contient <tt>taille</tt> colonnes (on fait l'hypothèse que c'est un entier strictement positif).  \n",
    "  Dans cette fonction, les joueurs entrent à tour de rôle leur coup à jouer. Après chaque coup, la position est affichée avec les butins de chaque joueur. Le jeu s'arrête lorsque une position terminale est atteinte et le programme affiche alors le nom du camp vainqueur.\n",
    "  Durant la partie, les coups sont donnés en utilisant la fonction <tt>input()</tt> de Python.\n"
   ]
  },
  {
   "cell_type": "code",
   "execution_count": null,
   "metadata": {},
   "outputs": [],
   "source": [
    "def partie_humains(taille):\n",
    "    maPosition = position_initiale(taille)\n",
    "    if not \n",
    "    "
   ]
  },
  {
   "cell_type": "markdown",
   "metadata": {},
   "source": [
    "<font color=\"RED\" size=\"+1\">**[Q]**</font> Ecrire la fonction <tt>genere_un_coup(position)</tt> qui retourne un coup autorisé pour la position donnée. Le coup est choisi de façon aléatoire parmi les coups possibles dans la position donnée. Cette fonction rend la valeur 0 si aucun coup n'est possible."
   ]
  },
  {
   "cell_type": "code",
   "execution_count": null,
   "metadata": {},
   "outputs": [],
   "source": []
  },
  {
   "cell_type": "markdown",
   "metadata": {},
   "source": [
    "<font color=\"RED\" size=\"+1\">**[Q]**</font> Ecrire la fonction <tt>partie_aleatoire(taille,campCPU)</tt> permettant à un joueur humain\n",
    "  de jouer contre l'ordinateur qui choisit aléatoirement ses coups. L'argument\n",
    "  <tt>campCPU</tt> donne le camp que doit gérer l'ordinateur (<tt>'SUD'</tt> ou <tt>'NORD'</tt>) et l'argument <tt>taille</tt> est un entier strictement positif donnant le nombre de colonnes du plateau de jeu."
   ]
  },
  {
   "cell_type": "code",
   "execution_count": null,
   "metadata": {},
   "outputs": [],
   "source": []
  },
  {
   "cell_type": "code",
   "execution_count": null,
   "metadata": {},
   "outputs": [],
   "source": [
    "partie_aleatoire(4,'NORD')"
   ]
  },
  {
   "cell_type": "markdown",
   "metadata": {},
   "source": [
    "## Joueur artificiel simple"
   ]
  },
  {
   "cell_type": "markdown",
   "metadata": {},
   "source": [
    "On considère la fonction d'évaluation suivante de la position $P$ :\n",
    "$$f(P) = \\left.\n",
    "  \\begin{array}{ll}\n",
    "        +99      & \\mbox{si } P \\mbox{ est gagnée par sud} \\\\\n",
    "        -99      & \\mbox{si } P \\mbox{ est gagnée par nord} \\\\\n",
    "        (2f_g(P,sud) + f_{12}(P,nord)) - (2f_g(P,nord) + f_{12}(P,sud))& \\mbox{sinon }\n",
    "   \\end{array} \\right.$$\n",
    "\n",
    "avec\n",
    "- $f_g(P,c)$ : nombre de graines déjà gagnées par le camp $c$ dans la position $P$\n",
    "- $f_{12}(P,c)$ : nombre de cases du camp $c$ contenant 1 ou 2 graines, dans la position $P$.\n"
   ]
  },
  {
   "cell_type": "markdown",
   "metadata": {},
   "source": [
    "<font color=\"RED\" size=\"+1\">**[Q]**</font> Ecrire la fonction <tt>evalue(position)</tt> qui rend la valeur de l'évaluation de la position obtenue en utilisant la fonction $f$."
   ]
  },
  {
   "cell_type": "code",
   "execution_count": null,
   "metadata": {},
   "outputs": [],
   "source": []
  },
  {
   "cell_type": "markdown",
   "metadata": {},
   "source": [
    "<font color=\"RED\" size=\"+1\">**[Q]**</font> Ecrire la fonction <tt>minimax(position,prof)</tt> qui, pour la position donnée, retourne un tuple Python dont le premier terme correspond au meilleur coup à jouer trouvé par l'application de l'algorithme du minimax à une profondeur <tt>prof</tt>, et le deuxième terme correspond à l'évaluation de la position obtenue pour ce coup."
   ]
  },
  {
   "cell_type": "code",
   "execution_count": null,
   "metadata": {},
   "outputs": [],
   "source": []
  },
  {
   "cell_type": "markdown",
   "metadata": {},
   "source": [
    "<font color=\"RED\" size=\"+1\">**[Q]**</font> Ecrire la fonction <tt>partie_minimax(taille,campCPU,prof)</tt> permettant à un joueur humain de jouer contre l'ordinateur, celui-ci trouvant ses coups à l'aide de l'algorithme minimax, utilisé à une profondeur <tt>prof</tt>. L'argument <tt>campCPU</tt> donne le camp que doit gérer l'ordinateur (<tt>'SUD'</tt> ou <tt>'NORD'</tt>). L'argument <tt>taille</tt> donne la dimension du plateau de jeu en nombre de colonnes.\n"
   ]
  },
  {
   "cell_type": "code",
   "execution_count": null,
   "metadata": {},
   "outputs": [],
   "source": []
  },
  {
   "cell_type": "code",
   "execution_count": null,
   "metadata": {},
   "outputs": [],
   "source": [
    "# ------------------------- TEST\n",
    "maPosition = position_initiale(6)\n",
    "affichage(maPosition)\n",
    "maPosition2 = joue_un_coup(maPosition,1) # SUD joue\n",
    "maPosition2 = joue_un_coup(maPosition2,1) # NORD joue\n",
    "maPosition2 = joue_un_coup(maPosition2,2) # SUD joue\n",
    "maPosition2 = joue_un_coup(maPosition2,4) # NORD joue\n",
    "maPosition2 = joue_un_coup(maPosition2,3) # SUD joue\n",
    "maPosition2 = joue_un_coup(maPosition2,2) # NORD joue\n",
    "maPosition2 = joue_un_coup(maPosition2,5) # SUD joue\n",
    "affichage(maPosition2)\n",
    "\n",
    "maPosition = position_initiale(3)\n",
    "affichage(maPosition)\n",
    "maPosition2 = joue_un_coup(maPosition,1) # SUD joue\n",
    "maPosition2 = joue_un_coup(maPosition2,1) # NORD joue\n",
    "maPosition2 = joue_un_coup(maPosition2,3) # SUD joue\n",
    "maPosition2 = joue_un_coup(maPosition2,3) # NORD joue\n",
    "maPosition2 = joue_un_coup(maPosition2,1) # SUD joue\n",
    "affichage(maPosition2)\n",
    "maPosition2 = joue_un_coup(maPosition2,1) # NORD joue\n",
    "affichage(maPosition2)\n",
    "\n",
    "# --------\n",
    "#partie_humains(4)\n",
    "#partie_aleatoire(5,\"SUD\")\n",
    "print(\"*************************\\n********* Partie minimax: \");\n",
    "# decommenter la ligne suivante:\n",
    "partie_minimax(6,\"SUD\",7)\n",
    "\n",
    "\n"
   ]
  },
  {
   "cell_type": "markdown",
   "metadata": {},
   "source": [
    "## Joueur artificiel élaboré"
   ]
  },
  {
   "cell_type": "markdown",
   "metadata": {},
   "source": [
    "<font color=\"RED\" size=\"+1\">**[Q]**</font> Ecrire la fonction <code>alphabeta(position,prof,alpha,beta)</code> qui, pour la position donnée, retourne le tuple dont le premier élément correspond au meilleur coup à jouer trouvé par l'application de l'algorithme du alpha-bêta à une profondeur <code>prof</code>, avec les valeurs <code>alpha</code> et <code>beta</code> comme valeurs initiales, et le deuxième élément et l'évaluation de la position obtenue pour\n",
    "  ce coup."
   ]
  },
  {
   "cell_type": "code",
   "execution_count": null,
   "metadata": {},
   "outputs": [],
   "source": []
  },
  {
   "cell_type": "markdown",
   "metadata": {},
   "source": [
    "<font color=\"RED\" size=\"+1\">**[Q]**</font> Ecrire la fonction <code>partie_alphabeta(taille,campCPU,prof)</code> permettant à un joueur  humain de jouer contre l'ordinateur, celui-ci trouvant ses coups à l'aide de\n",
    "  l'algorithme alpha-bêta, utilisé à une profondeur <code>prof</code>. L'argument <code>campCPU</code>\n",
    "  donne le camp que doit gérer l'ordinateur (<code>'SUD'</code> ou <code>'NORD'</code>). L'argument <tt>taille</tt> donne la dimension du plateau de jeu en nombre de colonnes.\n"
   ]
  },
  {
   "cell_type": "code",
   "execution_count": null,
   "metadata": {},
   "outputs": [],
   "source": []
  },
  {
   "cell_type": "markdown",
   "metadata": {},
   "source": [
    "## Pour aller plus loin..."
   ]
  },
  {
   "cell_type": "markdown",
   "metadata": {},
   "source": [
    "Ne pas hésiter à ajouter des fonctionnalités ou des améliorations à votre programme.\n",
    "Par exemple :\n",
    "- une interface graphique pour afficher le tablier, saisir les coups,...\n",
    "- proposer une nouvelle fonction d'évaluation plus efficace que celle donnée dans\n",
    "  l'exercice 2. Tester le programme en le faisant jouer contre lui même un grand nombre de\n",
    "  fois (automatiquement).\n",
    "- ajouter la règle suivante: un coup qui retire toutes les graines du camp de\n",
    "  l'adversaire peut être quand même joué mais dans ce cas, aucune prise n'est effectuée.\n",
    "- toute autre amélioration que vous pouvez envisager.\n",
    "\n"
   ]
  }
 ],
 "metadata": {
  "kernelspec": {
   "display_name": "Python 3 (ipykernel)",
   "language": "python",
   "name": "python3"
  },
  "language_info": {
   "codemirror_mode": {
    "name": "ipython",
    "version": 3
   },
   "file_extension": ".py",
   "mimetype": "text/x-python",
   "name": "python",
   "nbconvert_exporter": "python",
   "pygments_lexer": "ipython3",
   "version": "3.8.12"
  }
 },
 "nbformat": 4,
 "nbformat_minor": 4
}
