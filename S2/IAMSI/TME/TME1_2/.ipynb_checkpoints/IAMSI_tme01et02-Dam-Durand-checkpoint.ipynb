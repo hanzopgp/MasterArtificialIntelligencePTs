{
 "cells": [
  {
   "cell_type": "markdown",
   "metadata": {},
   "source": [
    "IAMSI -- 2021-2022\n",
    "\n",
    "--------\n",
    "*&copy; Equipe pédagogique : Gauvain Bourgne, Jean-Gabriel Ganascia, Marie-Jeanne Lesot, Christophe Marsala.*"
   ]
  },
  {
   "cell_type": "markdown",
   "metadata": {},
   "source": [
    "# TME 1 et 2 : Jeu à 2 joueurs -  Programmation d'un joueur d'Awélé"
   ]
  },
  {
   "cell_type": "markdown",
   "metadata": {},
   "source": [
    "<font color=\"RED\" size=\"+1\">**[Q]**</font> **Indiquer dans la boîte ci-dessous vos noms et prénoms**"
   ]
  },
  {
   "cell_type": "markdown",
   "metadata": {},
   "source": [
    "Damien Dam, Enzo Durand"
   ]
  },
  {
   "cell_type": "markdown",
   "metadata": {},
   "source": [
    "<font color=\"RED\" size=\"+1\">**[Q]**</font> **Renommer ce fichier ipython**\n",
    "\n",
    "Tout en haut de cette page, cliquer sur <tt>tme01et02</tt> et rajouter à la suite de <tt>tme01et02</tt> les noms des membres du binômes séparés par un tiret.\n",
    "\n",
    "Par exemple, pour le binôme Luke Skywalker et Han Solo, le nom de fichier devient : <pre>tme01et02-Skywalker-Solo</pre>"
   ]
  },
  {
   "cell_type": "markdown",
   "metadata": {},
   "source": [
    "## Présentation"
   ]
  },
  {
   "cell_type": "markdown",
   "metadata": {},
   "source": [
    "### Objectifs des TME 1 et 2\n",
    "\n",
    "Le travail à réaliser est le suivant : programmer en Python un joueur artificiel d'Awélé dont les règles du jeu sont\n",
    "  fournies ci-dessous (ne pas hésiter pas à faire quelques parties sur le site dont l'adresse est donnée).\n",
    "  \n",
    "*A noter* :  Il est autorisé d'écrire des fonctions auxiliaires permettant de simplifier l'écriture\n",
    "  de la fonction répondant à une question. Dans ce cas, ces fonctions doivent être dûment commentées et spécifiées.\n",
    "  "
   ]
  },
  {
   "cell_type": "markdown",
   "metadata": {},
   "source": [
    "#### Compte-rendu des séances de TME 1 et 2\n",
    "\n",
    "Le fichier ipython que vous remplissez ici fait office de compte-rendu pour ces 2 séances de TME.\n",
    "\n",
    "Il y a 2 soumissions à faire **obligatoirement** sur le site Moodle :\n",
    "- 1er compte-rendu : <font color=\"RED\">à l'issue de la première séance</font>, soumettre ce qui a été réalisé lors de la séance.\n",
    "- 2e compte-rendu : <font color=\"RED\">à l'issue de la deuxième séance</font>, soumettre la version finale du travail réalisé durant les 2 séances.\n",
    "\n",
    "Votre compte-rendu a la forme d'un unique fichier ipynb (ce fichier-ci complété, NON ZIPPE).\n"
   ]
  },
  {
   "cell_type": "markdown",
   "metadata": {},
   "source": [
    "### Grille de notation\n",
    "\n",
    "Le barème (indicatif) pour ces 2 séances de TME est le suivant :\n",
    "- implémentation correcte et effective du minimax : 10 sur 20\n",
    "- implémentation correcte et effective de l'alpha-bêta : 15 sur 20\n",
    "- implémentation d'améliorations ou d'extensions (``pour aller plus loin...'') : +0 à +3 points\n",
    "- programme commenté : -1 à +1 points\n",
    "- efficacité des fonctions :  -1 à +2 points\n",
    "\n",
    "La note finale ne dépassera pas 20."
   ]
  },
  {
   "cell_type": "markdown",
   "metadata": {},
   "source": [
    "Une fonction utile dans la suite est la fonction <tt>input</tt> qui permet de demander à l'entrée d'une valeur saisie au clavier. Elle renvoie une chaîne de caractères."
   ]
  },
  {
   "cell_type": "code",
   "execution_count": 1,
   "metadata": {},
   "outputs": [],
   "source": [
    "# Exemple d'utilisation de input():\n",
    "# annee_naiss = input(\"Entrer l\\'année de naissance : \")\n",
    "# print(\"Cela fait donc\",2021-int(annee_naiss),\" ans\")"
   ]
  },
  {
   "cell_type": "markdown",
   "metadata": {},
   "source": [
    "## Présentation du jeu d'Awélé\n",
    "\n",
    "L'Awélé est un jeu d'origine africaine qui se joue sur un plateau (ou tablier) où chacun des 2 joueurs (Sud et Nord) possède 6 cases.  Les règles de ce jeu  sont simples et facilement implémentables.\n",
    "\n",
    "Voir la page wikipédia (http://fr.wikipedia.org/wiki/Awalé) qui détaille les règles que nous utilisons ici, ainsi que le site http://s.helan.free.fr/awale/lejeu/jouer/ qui permet de s'initier en jouant\n",
    "  contre un joueur artificiel.\n",
    "\n",
    "### Règles du jeu\n",
    "Dans la position de départ, toutes les cases sont remplies avec 4 graines.  Le joueur dont\n",
    "c'est le tour de jeu (on considère que le camp Sud débute toujours la partie.) choisit une de ses cases contenant des graines, et en retire toutes les graines qu'elle contient.  Il sème alors ces graines une par une dans les cases suivantes dans le sens inverse des aiguilles d'une montre.  Au cours de cette pose, s'il repasse sur la case qui contenait les graines au départ, il n'y dépose pas de graine.\n",
    "\n",
    "Si la dernière graine est semée dans une case de l'adversaire contenant 2 ou 3 graines après la pose, les graines dans cette case sont capturées par le joueur et elles sont alors retirées du jeu (elles sont mises dans le butin du joueur).  Dans ce cas, si l'avant-dernière case est aussi une case ennemie contenant 2 ou 3 graines, les graines en sont aussi capturées, et ainsi de suite tant que des prises sont possibles (toujours dans le camp ennemi).\n",
    "\n",
    "Il est à noter qu'un coup n'effectue pas forcément une prise, mais si une prise existe à l'issue d'un coup, elle doit obligatoirement être réalisée totalement.\n",
    "\n",
    "A l'issue du coup ainsi exécuté, il doit rester au moins une graine dans l'une des cases de l'adversaire (il ne faut pas ''affamer'' l'adversaire) sinon la position est considérée comme illégale et le coup ne peut pas être joué.\n",
    "\n",
    "Dès qu'un joueur a capturé 25 graines ou plus, il est déclaré vainqueur de la partie et le jeu s'arrête.\n",
    "\n",
    "Dans le cas où un joueur ne peut pas jouer, la partie s'arrête et toutes les graines restant sur le tablier sont capturées par son adversaire.  Dans ce cas, le joueur qui a capturé le plus de graines a gagné.\n",
    "\n",
    "### Représentation du tablier\n",
    "\n",
    "Le tablier est toujours représenté avec les cases de Sud en bas.  \n",
    "Les cases sont ordonnées et repérées par des chiffres, de 1 à 6, de la gauche vers la droite. Dans chaque case, on indique le nombre de graines qu'elle contient. Ainsi, le tablier de départ classique est donné ci-dessous:\n",
    "\n",
    "<p />\n",
    "<table>\n",
    "<tr>\n",
    "<td>\n",
    "**NORD**<br>\n",
    "$\\begin{array}{|c|c|c|c|c|c|} \\hline\n",
    "      4 & 4 & 4 & 4 &\t4 & 4\\\\\n",
    "      \\hline\n",
    "      4 & 4 & 4 & 4 & 4 & 4\\\\\n",
    "      \\hline\n",
    "\\end{array}$<br>\n",
    "**SUD**<br>\n",
    "\n",
    "$\\begin{array}{cccccc} \n",
    "      1 & 2 & 3 & 4 & 5 & 6\\\\\n",
    "\\end{array}$\n",
    "</td>\n",
    "</tr>\n",
    "</table>\n",
    "\n",
    "Un coup est noté en donnant le camp qui joue ainsi que le numéro de la case qui est vidée.  Par exemple, $($SUD$, 2)$ si le camp Sud joue en prenant les graines de la deuxième case en partant de la gauche qui se trouve dans son camp. Ou alors, $($NORD$, 6)$ si le camp Nord joue en prenant les graines de la case numéro 6 qui se trouve dans son camp, c'est à dire la sixième case en partant de la gauche qui se trouve dans son camp, soit celle la plus en haut et à droite du tablier.\n",
    "\n",
    "\n",
    "### Exemple de coup avec prise de graines\n",
    "\n",
    "A partir de la position située à gauche dans la figure ci-dessous, Sud décide de jouer le coup $4$.  La position au centre de la figure montre la situation intermédiaire, suite au dépôt des $6$ graines dans les $6$ cases qui suivent la case $4$ dans l'ordre inverse des aiguilles d'une montre.\n",
    "\n",
    "<p />\n",
    "<table>\n",
    "<tr>\n",
    "<td>Départ</td>\n",
    "<td>SUD a réparti les graines de $4$</td>\n",
    "<td>SUD retire les graines dans le camp NORD</td>\n",
    "</tr>\n",
    "<tr>\n",
    "<td>\n",
    "**NORD**<br>\n",
    "$\\begin{array}{|c|c|c|c|c|c|} \\hline\n",
    " & 2 & 1 & 2 & 1 & 1\\\\\n",
    "\\hline\n",
    "1 & & & {\\bf 6} & & 1\\\\\n",
    "     \\hline\n",
    "\\end{array}$<br>\n",
    "**SUD**<br>\n",
    "$\\begin{array}{cccccc} \n",
    "      1 & 2 & 3 & 4 & 5 & 6\\\\\n",
    "\\end{array}$\n",
    "\n",
    "</td>\n",
    "<td>\n",
    "**NORD**<br>\n",
    "$\\begin{array}{|c|c|c|c|c|c|} \\hline\n",
    "& 2 & {\\bf 2} & {\\bf 3} & {\\bf 2} & {\\bf 2}\\\\\n",
    "\\hline\n",
    "1 & & & & {\\bf 1} & {\\bf 2}\\\\\n",
    "      \\hline\n",
    "\\end{array}$<br>\n",
    "**SUD**<br>\n",
    "\n",
    "$\\begin{array}{cccccc} \n",
    "      1 & 2 & 3 & 4 & 5 & 6\\\\\n",
    "\\end{array}$\n",
    "</td>\n",
    "<td>\n",
    "**NORD**<br>\n",
    "$\\begin{array}{|c|c|c|c|c|c|} \\hline\n",
    "& 2 & & & & \\\\\n",
    "\\hline\n",
    "1 & & & & {\\bf 1} & {\\bf 2}\\\\\n",
    "      \\hline\n",
    "\\end{array}$<br>\n",
    "**SUD**<br>\n",
    "\n",
    "$\\begin{array}{cccccc} \n",
    "      1 & 2 & 3 & 4 & 5 & 6\\\\\n",
    "\\end{array}$\n",
    "</td>\n",
    "</tr>\n",
    "\n",
    "</table>\n",
    "\n",
    "\n",
    "Comme la dernière case où une graine a été posée (la case $3$ du camp Nord) contient maintenant $2$ graines, celles-ci sont prises par Sud, ainsi que celles des cases $4$, $5$ et $6$ qui contiennent (en suivant cet ordre) $2$ ou $3$ graines.  Au total, avec ce coup, Sud prend $9$ graines.  A l'issue des prises réalisées, on obtient finalement la nouvelle position présentée à droite de la figure.  Maintenant, Nord n'a qu'une seule possibilité et doit jouer les graines de la case $2$."
   ]
  },
  {
   "cell_type": "markdown",
   "metadata": {},
   "source": [
    "## Programmer un joueur d'Awélé"
   ]
  },
  {
   "cell_type": "markdown",
   "metadata": {},
   "source": [
    "### Structure de données"
   ]
  },
  {
   "cell_type": "markdown",
   "metadata": {},
   "source": [
    "Pour représenter une position d'Awélé en Python. Une *position* est définie par les éléments suivants :\n",
    "- une *dimension* qui correspond au nombre de colonnes (dans l'Awélé original, il y a 6 colonnes). On note $n$ ce nombre de colonnes dans la suite de ce texte ;\n",
    "- un *plateau* qui correspond au plateau de jeu et donne le nombre de graines dans chaque case ;\n",
    "- le *trait* qui correspond au camp devant jouer dans la position donnée. Il y a\n",
    "  deux camps: \"NORD et \"SUD\" ;\n",
    "- le *butin* qui correspond au nombre de graines déjà ramassées par chacun des joueurs.\n",
    "\n",
    "\n",
    "En Python, une telle position est représentée en tant que dictionnaire qui associe à chaque nom de champ sa valeur.\n",
    "\n",
    "Dans ce qui suit, on distingue :\n",
    "- un coup *correct* qui correspond à un numéro de colonne correct (valeur comprise entre 1 et $n$), et pour lequel la case correspondante contient au moins une graine;\n",
    "- un coup *autorisé* qui est un coup à la fois correct et permettant d'atteindre une position légale du jeu, c'est-à-dire une position qui respecte la règle obligeant à laisser au moins une graine dans le camp de son adversaire."
   ]
  },
  {
   "cell_type": "markdown",
   "metadata": {},
   "source": [
    "** Représentation du plateau de jeu en Python**\n",
    "\n",
    "Pour représenter le plateau en Python, on utilise une liste d'entiers, chaque entier correspondant au nombre de graines dans une case. \n",
    "\n",
    "Soit un plateau de jeu de $n$ colonnes.\n",
    "\n",
    "Pour le camp SUD :\n",
    "- le nombre de graines de la case de la colonne 1 est stocké en position $0$ dans la liste Python ;\n",
    "- le nombre de graines de la case de la colonne  2 est stocké en position $1$ dans la liste Python ;\n",
    "- ...\n",
    "- le nombre de graines de la case de la colonne  $n$ est stocké en position $n-1$ dans la liste Python.\n",
    "\n",
    "Pour le camp NORD :\n",
    "- le nombre de graines de la case de la colonne  1 est stocké en position $2n-1$ dans la liste Python ;\n",
    "- le nombre de graines de la case de la colonne  2 est stocké en position $2n-2$ dans la liste Python ;\n",
    "- ...\n",
    "- le nombre de graines de la case de la colonne  $n$ est stocké en position $n$ dans la liste Python.\n",
    "\n",
    "(il est conseillé de faire un schéma pour bien comprendre).\n",
    "\n",
    "Cette représentation à l'avantage de favoriser le parcours des cases du plateau : en parcourant la liste par positions croissantes, on retrouve le parcours en sens inverse des aiguilles d'une montre. Ce parcours peut alors se faire en Python en incrémentant de 1 la position pour passer à la case suivante, et en réalisant un calcul modulo $2n$."
   ]
  },
  {
   "cell_type": "markdown",
   "metadata": {},
   "source": [
    "### Fonctions fournies"
   ]
  },
  {
   "cell_type": "markdown",
   "metadata": {},
   "source": [
    "Plusieurs fonctions sont fournies dans ce qui suit :\n",
    "- <tt>position_initiale(n)</tt> : qui définit la position initiale du jeu. L'argument est un entier <tt>n</tt> qui donne le nombre de colonnes du plateau du jeu ;\n",
    "- <tt>affichage(position)</tt> : affichage de façon textuelle d'une position ;\n",
    "- <tt>duplique(position)</tt> : recopie d'une position en la dupliquant pour pouvoir y apporter des modifications sans altérer la position originale ;\n",
    "- <tt>joue_un_coup(position,coup)</tt> : renvoie la position obtenue une fois le coup joué dans la position donnée. Cette fonction fait l'hypothèse que le coup donné est un coup correct et elle ne vérifie donc pas que la position résultante est bien une position légale du jeu.\n"
   ]
  },
  {
   "cell_type": "code",
   "execution_count": 2,
   "metadata": {},
   "outputs": [],
   "source": [
    "# - - - - - - - - - - - - - - - TYPES UTILISES\n",
    "# POSITION : dictionnaire non vide qui contient différentes informations sur\n",
    "#            une position, associées au nom de leur champ.\n",
    "# COUP : valeur entière comprise entre 1 et le nombre de colonnes du tablier\n",
    "#\n",
    "#\n",
    "# - - - - - - - - - - - - - - - INITIALISATION\n",
    "\n",
    "from time import time\n",
    "import numpy as np\n",
    "from matplotlib import pyplot as plt\n",
    "\n",
    "JOEUR_SUD  = 0\n",
    "JOEUR_NORD = 1\n",
    "NOM_CAMPS = {JOEUR_SUD: \"SUD\", JOEUR_NORD: \"NORD\"}\n",
    "\n",
    "class AwelePosition:\n",
    "\tdef __init__(self, n):\n",
    "\t\tself.dimension = n\t\t\t\t\t\t\t# le nombre de colonnes du plateau\n",
    "\t\tself.plateau = [4 for _ in range(0, 2*n)]\t# on met 4 graines dans chaque case\n",
    "\t\tself.trait = JOEUR_SUD\t\t\t\t\t\t# le joueur qui doit jouer: 'SUD' ou 'NORD'\n",
    "\t\tself.butin = {JOEUR_SUD: 0, JOEUR_NORD: 0}\t# graines prises par chaque joueur\n",
    "\n",
    "\tdef __str__(self):\n",
    "\t\t\"\"\"Afficher la position avec la fonction print()\"\"\"\n",
    "\t\tn = self.dimension\n",
    "\t\tbuffercol = \"colonnes:\"\n",
    "\t\tfor i in range(1, n + 1):\n",
    "\t\t\tbuffercol += f\"\\t {i} \"\n",
    "\t\tbuffer = \"\\n* * * * * * * * * * * * * * * * * * * *\\n\"\n",
    "\t\tbuffer += f\"\\t\\tNORD (prises:{self.butin[JOEUR_NORD]})\\n\"\n",
    "\t\tbuffer += \"< - - - - - - - - - - - - - - -\\n\"\n",
    "\t\tbuffer += buffercol + \"\\n        \"\n",
    "\t\tfor x in self.getCamp(JOEUR_NORD):\n",
    "\t\t\tbuffer += f\"\\t[{x}]\"\n",
    "\t\tbuffer += \"\\n        \"\n",
    "\t\tfor x in self.getCamp(JOEUR_SUD):\n",
    "\t\t\tbuffer += f\"\\t[{x}]\"\n",
    "\t\tbuffer += '\\n' + buffercol\n",
    "\t\tbuffer += \"\\n- - - - - - - - - - - - - - - >\\n\"\n",
    "\t\tbuffer += f\"\\t\\tSUD (prises:{self.butin[JOEUR_SUD]})\\n\"\n",
    "\t\tbuffer += '-> camp au trait: ' + NOM_CAMPS[self.trait]\n",
    "\t\tbuffer += \"\\n* * * * * * * * * * * * * * * * * * * *\\n\"\n",
    "\t\treturn buffer\n",
    "\n",
    "\tdef estChezEnnemi(self, i):\n",
    "\t\treturn (self.trait == JOEUR_NORD and i < self.dimension) \\\n",
    "\t\t\t\tor (self.trait == JOEUR_SUD and i >= self.dimension)\n",
    "\n",
    "\tdef jouer(self, coup):\n",
    "\t\t\"\"\"Joeur le coup, avec l'hypothese que coup est legal\"\"\"\n",
    "\t\tn = self.dimension\n",
    "\t\tindice_depart = (coup - 1) * (self.trait == JOEUR_SUD) + (2*n - coup) * (self.trait == JOEUR_NORD)\n",
    "\t\tnbGraines = self.plateau[indice_depart]\n",
    "\t\tself.plateau[indice_depart] = 0\n",
    "\t\tindice_courant = indice_depart\n",
    "\t\twhile nbGraines:\n",
    "\t\t\tindice_courant = (indice_courant + 1) % (2*n)\n",
    "\t\t\tif indice_courant != indice_depart:\n",
    "\t\t\t\tself.plateau[indice_courant] += 1\n",
    "\t\t\t\tnbGraines -= 1\n",
    "\t\twhile self.estChezEnnemi(indice_courant) and self.plateau[indice_courant] in (2,3):\n",
    "\t\t\tself.butin[self.trait] += self.plateau[indice_courant]\n",
    "\t\t\tself.plateau[indice_courant] = 0\n",
    "\t\t\tindice_courant = (indice_courant - 1) % (2*n)\n",
    "\t\tself.trait = JOEUR_NORD if self.trait == JOEUR_SUD else JOEUR_SUD\n",
    "\n",
    "\tdef getCamp(self, joeur):\n",
    "\t\t\"\"\"Renvoyer la liste representant le camp du joeur passer en parametre\"\"\"\n",
    "\t\tif joeur == JOEUR_NORD:\n",
    "\t\t\treturn list(reversed(self.plateau[self.dimension:]))\n",
    "\t\telif joeur == JOEUR_SUD:\n",
    "\t\t\treturn self.plateau[:self.dimension]\n",
    "\t\treturn None\n"
   ]
  },
  {
   "cell_type": "markdown",
   "metadata": {},
   "source": [
    "Les instructions qui suivent permettent de voir comment utiliser les fonctions précédentes."
   ]
  },
  {
   "cell_type": "code",
   "execution_count": 3,
   "metadata": {},
   "outputs": [
    {
     "name": "stdout",
     "output_type": "stream",
     "text": [
      "\n",
      "* * * * * * * * * * * * * * * * * * * *\n",
      "\t\tNORD (prises:2)\n",
      "< - - - - - - - - - - - - - - -\n",
      "colonnes:\t 1 \t 2 \t 3 \t 4 \t 5 \t 6 \n",
      "        \t[0]\t[1]\t[7]\t[2]\t[7]\t[7]\n",
      "        \t[1]\t[1]\t[1]\t[9]\t[0]\t[7]\n",
      "colonnes:\t 1 \t 2 \t 3 \t 4 \t 5 \t 6 \n",
      "- - - - - - - - - - - - - - - >\n",
      "\t\tSUD (prises:3)\n",
      "-> camp au trait: NORD\n",
      "* * * * * * * * * * * * * * * * * * * *\n",
      "\n",
      "#######################################\n",
      "Partie sur un tablier réduit pour tester:\n",
      "\n",
      "* * * * * * * * * * * * * * * * * * * *\n",
      "\t\tNORD (prises:3)\n",
      "< - - - - - - - - - - - - - - -\n",
      "colonnes:\t 1 \t 2 \t 3 \n",
      "        \t[0]\t[9]\t[1]\n",
      "        \t[1]\t[10]\t[0]\n",
      "colonnes:\t 1 \t 2 \t 3 \n",
      "- - - - - - - - - - - - - - - >\n",
      "\t\tSUD (prises:0)\n",
      "-> camp au trait: SUD\n",
      "* * * * * * * * * * * * * * * * * * * *\n",
      "\n",
      "#######################################\n",
      "Essai de prises:\n",
      "\n",
      "* * * * * * * * * * * * * * * * * * * *\n",
      "\t\tNORD (prises:0)\n",
      "< - - - - - - - - - - - - - - -\n",
      "colonnes:\t 1 \t 2 \t 3 \t 4 \t 5 \t 6 \n",
      "        \t[2]\t[2]\t[2]\t[2]\t[2]\t[2]\n",
      "        \t[1]\t[2]\t[3]\t[4]\t[5]\t[1]\n",
      "colonnes:\t 1 \t 2 \t 3 \t 4 \t 5 \t 6 \n",
      "- - - - - - - - - - - - - - - >\n",
      "\t\tSUD (prises:0)\n",
      "-> camp au trait: SUD\n",
      "* * * * * * * * * * * * * * * * * * * *\n",
      "\n",
      "\n",
      "* * * * * * * * * * * * * * * * * * * *\n",
      "\t\tNORD (prises:0)\n",
      "< - - - - - - - - - - - - - - -\n",
      "colonnes:\t 1 \t 2 \t 3 \t 4 \t 5 \t 6 \n",
      "        \t[2]\t[2]\t[0]\t[0]\t[0]\t[0]\n",
      "        \t[1]\t[2]\t[3]\t[4]\t[0]\t[2]\n",
      "colonnes:\t 1 \t 2 \t 3 \t 4 \t 5 \t 6 \n",
      "- - - - - - - - - - - - - - - >\n",
      "\t\tSUD (prises:12)\n",
      "-> camp au trait: NORD\n",
      "* * * * * * * * * * * * * * * * * * * *\n",
      "\n"
     ]
    }
   ],
   "source": [
    "# ------------------------- POUR VOIR COMMENT CA MARCHE:\n",
    "maPosition = AwelePosition(6)\n",
    "maPosition.jouer(1) # SUD joue\n",
    "maPosition.jouer(1) # NORD joue\n",
    "maPosition.jouer(2) # SUD joue\n",
    "maPosition.jouer(4) # NORD joue\n",
    "maPosition.jouer(3) # SUD joue\n",
    "maPosition.jouer(2) # NORD joue\n",
    "maPosition.jouer(5) # SUD joue\n",
    "print(maPosition)\n",
    "\n",
    "print(\"#######################################\\nPartie sur un tablier réduit pour tester:\")\n",
    "maPosition = AwelePosition(3)\n",
    "maPosition.jouer(1) # SUD joue\n",
    "maPosition.jouer(1) # NORD joue\n",
    "maPosition.jouer(3) # SUD joue\n",
    "maPosition.jouer(3) # NORD joue\n",
    "maPosition.jouer(1) # SUD joue\n",
    "maPosition.jouer(1) # NORD joue\n",
    "print(maPosition)\n",
    "\n",
    "print(\"#######################################\\nEssai de prises:\")\n",
    "maPosition = AwelePosition(6)\n",
    "maPosition.plateau = [1, 2, 3, 4, 5, 1, 2, 2, 2, 2, 2, 2]\n",
    "print(maPosition)\n",
    "maPosition.jouer(5) # SUD joue\n",
    "print(maPosition)\n",
    "# ------------------------- FIN TEST"
   ]
  },
  {
   "cell_type": "markdown",
   "metadata": {},
   "source": [
    "### Fonctions simples"
   ]
  },
  {
   "cell_type": "markdown",
   "metadata": {},
   "source": [
    "<font color=\"RED\" size=\"+1\">**[Q]**</font> Ecrire les fonctions suivantes :\n",
    "- <tt>est_correct(position,nombre)</tt>: rend le booléen <tt>True</tt> si le nombre donné peut être un coup correct dans la position donnée, c'est-à-dire si ce nombre est un entier compris entre 1\n",
    "  et <tt>n</tt> et si de plus la case correspondante du plateau (pour le camp qui doit donc jouer\n",
    "  dans la position) contient au moins une graine.\n",
    "- <tt>est_legale(position)</tt>: rend le booléen <tt>True</tt> si la position donnée est légale, c'est-à-dire si le camp qui doit jouer possède au moins une graine dans son camp.\n",
    "- <tt>effectue_si_valide(position,coup)</tt>: rend la nouvelle position obtenue en jouant <tt>coup</tt>\n",
    "  dans la position donnée. Cette fonction retourne le booléen <tt>False</tt> si le coup\n",
    "  n'est pas correct ou si la position résultante n'est pas une position légale du jeu.\n",
    "- <tt>est_terminale(position)</tt>: rend le booléen <tt>True</tt> si la position est\n",
    "  terminale, c'est-à-dire si aucun coup n'est correct, ou si tout coup correct ne permet\n",
    "  pas d'atteindre une position légale ou bien si l'un des deux joueurs a gagné un nombre de graines suffisant. Dans le jeu Awélé original à 6 colonnes, la position est gagnée dès qu'un camp a remporté 25 graines, ce qui correspond à $6*4+1$ graines. Ce nombre de graines nécessaire pour remporter la victoire dépend donc de la taille du plateau de jeu.\n"
   ]
  },
  {
   "cell_type": "code",
   "execution_count": 4,
   "metadata": {},
   "outputs": [],
   "source": [
    "from copy import deepcopy\n",
    "\n",
    "def est_correct(position: AwelePosition, coup: int) -> bool:\n",
    "\tif coup < 1 or coup > position.dimension:\n",
    "\t\treturn False\n",
    "\tcamp = position.getCamp(position.trait)\n",
    "\treturn camp[coup - 1] > 0\n",
    "\n",
    "def est_legale(position: AwelePosition) -> bool:\n",
    "\treturn any(position.getCamp(position.trait))\n",
    "\n",
    "def effectue_si_valide(position: AwelePosition, coup: int):\n",
    "\tif est_correct(position, coup):\n",
    "\t\tnouvelle_pos = deepcopy(position)\n",
    "\t\tnouvelle_pos.jouer(coup)\n",
    "\t\tif est_legale(nouvelle_pos):\n",
    "\t\t\treturn nouvelle_pos\n",
    "\treturn False\n",
    "\n",
    "def est_terminale(position: AwelePosition) -> bool:\n",
    "\tgagne = 4 * position.dimension + 1\n",
    "\tfor coup in range(1, position.dimension + 1):\n",
    "\t\tpos = effectue_si_valide(position, coup)\n",
    "\t\tif pos and position.butin[JOEUR_NORD] < gagne and position.butin[JOEUR_SUD] < gagne:\n",
    "\t\t\treturn False\n",
    "\treturn True\n"
   ]
  },
  {
   "cell_type": "markdown",
   "metadata": {},
   "source": [
    "### Moteur de jeu simple"
   ]
  },
  {
   "cell_type": "markdown",
   "metadata": {},
   "source": [
    "<font color=\"RED\" size=\"+1\">**[Q]**</font> Ecrire la fonction <tt>partie_humains(taille)</tt> permettant à deux joueurs humains de\n",
    "  s'affronter dans une partie d'Awélé sur un plateau qui contient <tt>taille</tt> colonnes (on fait l'hypothèse que c'est un entier strictement positif).  \n",
    "  Dans cette fonction, les joueurs entrent à tour de rôle leur coup à jouer. Après chaque coup, la position est affichée avec les butins de chaque joueur. Le jeu s'arrête lorsque une position terminale est atteinte et le programme affiche alors le nom du camp vainqueur.\n",
    "  Durant la partie, les coups sont donnés en utilisant la fonction <tt>input()</tt> de Python.\n"
   ]
  },
  {
   "cell_type": "code",
   "execution_count": 5,
   "metadata": {},
   "outputs": [],
   "source": [
    "def partie_humains(n):\n",
    "\tposition = AwelePosition(n)\n",
    "\twhile not est_terminale(position):\n",
    "\t\tprint(position)\n",
    "\t\twhile True:\n",
    "\t\t\tcoup = int(input(f\"{NOM_CAMPS[position.trait]} va jouer: \"))\n",
    "\t\t\tnouvelle_pos = effectue_si_valide(position, coup)\n",
    "\t\t\tif nouvelle_pos:\n",
    "\t\t\t\tbreak\n",
    "\t\tposition = nouvelle_pos"
   ]
  },
  {
   "cell_type": "markdown",
   "metadata": {},
   "source": [
    "<font color=\"RED\" size=\"+1\">**[Q]**</font> Ecrire la fonction <tt>genere_un_coup(position)</tt> qui retourne un coup autorisé pour la position donnée. Le coup est choisi de façon aléatoire parmi les coups possibles dans la position donnée. Cette fonction rend la valeur 0 si aucun coup n'est possible."
   ]
  },
  {
   "cell_type": "code",
   "execution_count": 6,
   "metadata": {},
   "outputs": [],
   "source": [
    "from random import choice\n",
    "\n",
    "def genere_un_coup(position: AwelePosition) -> int:\n",
    "\tpossible = [coup for coup in range(1, position.dimension + 1) if effectue_si_valide(position,coup)]\n",
    "\treturn choice(possible) if len(possible) else 0"
   ]
  },
  {
   "cell_type": "markdown",
   "metadata": {},
   "source": [
    "<font color=\"RED\" size=\"+1\">**[Q]**</font> Ecrire la fonction <tt>partie_aleatoire(taille,campCPU)</tt> permettant à un joueur humain\n",
    "  de jouer contre l'ordinateur qui choisit aléatoirement ses coups. L'argument\n",
    "  <tt>campCPU</tt> donne le camp que doit gérer l'ordinateur (<tt>'SUD'</tt> ou <tt>'NORD'</tt>) et l'argument <tt>taille</tt> est un entier strictement positif donnant le nombre de colonnes du plateau de jeu."
   ]
  },
  {
   "cell_type": "code",
   "execution_count": 7,
   "metadata": {},
   "outputs": [],
   "source": [
    "def partie_aleatoire(taille: int, campCPU: int):\n",
    "\tposition = AwelePosition(taille)\n",
    "\twhile not est_terminale(position):\n",
    "\t\tprint(position)\n",
    "\t\tif position.trait == campCPU:\t# CPU joue\n",
    "\t\t\tcoup = genere_un_coup(position)\n",
    "\t\t\tif not coup:\n",
    "\t\t\t\tbreak\n",
    "\t\t\tposition.jouer(coup)\n",
    "\t\t\tprint(f\"CPU ({NOM_CAMPS[campCPU]}) a joue {coup}\")\n",
    "\t\telse:\t\t# humain joue\n",
    "\t\t\twhile True:\n",
    "\t\t\t\tcoup = int(input(f\"{NOM_CAMPS[position.trait]} va jouer: \"))\n",
    "\t\t\t\tnouvelle_pos = effectue_si_valide(position, coup)\n",
    "\t\t\t\tif nouvelle_pos:\n",
    "\t\t\t\t\tbreak\n",
    "\t\t\tposition = nouvelle_pos\n",
    "\tif position.butin[JOEUR_SUD] > position.butin[JOEUR_NORD]:\n",
    "\t\tprint(f\"{NOM_CAMPS[JOEUR_SUD]} gagne\")\n",
    "\telif position.butin[JOEUR_SUD] < position.butin[JOEUR_NORD]:\n",
    "\t\tprint(f\"{NOM_CAMPS[JOEUR_NORD]} gagne\")\n",
    "\telse:\n",
    "\t\tprint(\"DRAW\")"
   ]
  },
  {
   "cell_type": "markdown",
   "metadata": {},
   "source": [
    "## Joueur artificiel simple"
   ]
  },
  {
   "cell_type": "markdown",
   "metadata": {},
   "source": [
    "On considère la fonction d'évaluation suivante de la position $P$ :\n",
    "$$f(P) = \\left.\n",
    "  \\begin{array}{ll}\n",
    "        +99      & \\text{si } P \\text{ est gagnée par sud} \\\\\n",
    "        -99      & \\text{si } P \\text{ est gagnée par nord} \\\\\n",
    "        (2f_g(P,sud) + f_{12}(P,nord)) - (2f_g(P,nord) + f_{12}(P,sud))& \\text{sinon }\n",
    "   \\end{array} \\right.$$\n",
    "\n",
    "avec\n",
    "- $f_g(P,c)$ : nombre de graines déjà gagnées par le camp $c$ dans la position $P$\n",
    "- $f_{12}(P,c)$ : nombre de cases du camp $c$ contenant 1 ou 2 graines, dans la position $P$.\n"
   ]
  },
  {
   "cell_type": "markdown",
   "metadata": {},
   "source": [
    "<font color=\"RED\" size=\"+1\">**[Q]**</font> Ecrire la fonction <tt>evalue(position)</tt> qui rend la valeur de l'évaluation de la position obtenue en utilisant la fonction $f$."
   ]
  },
  {
   "cell_type": "code",
   "execution_count": 8,
   "metadata": {},
   "outputs": [],
   "source": [
    "def f12(position:AwelePosition, trait: int) -> int:\n",
    "\tl = position.getCamp(trait)\n",
    "\treturn len([x for x in l if x in (1,2)])\n",
    "\n",
    "def evalue(position: AwelePosition):\n",
    "\tgagne = 4 * position.dimension + 1\n",
    "\tif position.butin[JOEUR_SUD] >= gagne:\n",
    "\t\treturn 99\n",
    "\telif position.butin[JOEUR_NORD] >= gagne:\n",
    "\t\treturn -99\n",
    "\treturn 2 * (position.butin[JOEUR_SUD] - position.butin[JOEUR_NORD]) + f12(position, JOEUR_NORD) - f12(position, JOEUR_SUD)"
   ]
  },
  {
   "cell_type": "markdown",
   "metadata": {},
   "source": [
    "<font color=\"RED\" size=\"+1\">**[Q]**</font> Ecrire la fonction <tt>minimax(position,prof)</tt> qui, pour la position donnée, retourne un tuple Python dont le premier terme correspond au meilleur coup à jouer trouvé par l'application de l'algorithme du minimax à une profondeur <tt>prof</tt>, et le deuxième terme correspond à l'évaluation de la position obtenue pour ce coup."
   ]
  },
  {
   "cell_type": "code",
   "execution_count": 9,
   "metadata": {},
   "outputs": [
    {
     "name": "stdout",
     "output_type": "stream",
     "text": [
      "(4, 11) 10\n"
     ]
    }
   ],
   "source": [
    "feuilles = 0\t# nombre de feuilles traversees\n",
    "\n",
    "def coups_possibles(position: AwelePosition) -> list:\n",
    "\treturn [coup for coup in range(1, position.dimension + 1) if effectue_si_valide(position, coup)]\n",
    "\n",
    "def minimax(position: AwelePosition, prof: int, coup: int = 0) -> tuple:\n",
    "\tif prof == 0 or est_terminale(position):\n",
    "\t\tglobal feuilles\n",
    "\t\tfeuilles += 1\n",
    "\t\treturn coup, evalue(position)\n",
    "\tif position.trait == JOEUR_SUD:\t# maximiser\n",
    "\t\tvalue = -100\n",
    "\t\tbest = 0\n",
    "\t\tfor coup in coups_possibles(position):\n",
    "\t\t\tnouvelle_pos = deepcopy(position)\n",
    "\t\t\tnouvelle_pos.jouer(coup)\n",
    "\t\t\tx = max(value, minimax(nouvelle_pos, prof - 1, coup)[1])\n",
    "\t\t\tif x > value:\n",
    "\t\t\t\tvalue = x\n",
    "\t\t\t\tbest = coup\n",
    "\telse:\n",
    "\t\tvalue = 100\n",
    "\t\tbest = 0\n",
    "\t\tfor coup in coups_possibles(position):\n",
    "\t\t\tnouvelle_pos = deepcopy(position)\n",
    "\t\t\tnouvelle_pos.jouer(coup)\n",
    "\t\t\tx = min(value, minimax(nouvelle_pos, prof - 1, coup)[1])\n",
    "\t\t\tif x < value:\n",
    "\t\t\t\tvalue = x\n",
    "\t\t\t\tbest = coup\n",
    "\treturn best, value\n",
    "\n",
    "pos = AwelePosition(6)\n",
    "pos.plateau = [1,0,0,6,0,1,1,1,1,1,2,0]\n",
    "print(minimax(pos, 2), feuilles)\n",
    "\t"
   ]
  },
  {
   "cell_type": "markdown",
   "metadata": {},
   "source": [
    "<font color=\"RED\" size=\"+1\">**[Q]**</font> Ecrire la fonction <tt>partie_minimax(taille,campCPU,prof)</tt> permettant à un joueur humain de jouer contre l'ordinateur, celui-ci trouvant ses coups à l'aide de l'algorithme minimax, utilisé à une profondeur <tt>prof</tt>. L'argument <tt>campCPU</tt> donne le camp que doit gérer l'ordinateur (<tt>'SUD'</tt> ou <tt>'NORD'</tt>). L'argument <tt>taille</tt> donne la dimension du plateau de jeu en nombre de colonnes.\n"
   ]
  },
  {
   "cell_type": "code",
   "execution_count": 10,
   "metadata": {},
   "outputs": [],
   "source": [
    "def partie_minimax(taille: int, campCPU: int, prof: int):\n",
    "\tposition = AwelePosition(taille)\n",
    "\twhile not est_terminale(position):\n",
    "\t\tprint(position)\n",
    "\t\tif position.trait == campCPU:\t# CPU joue\n",
    "\t\t\tcoup = minimax(position, prof)[0]\n",
    "\t\t\tif not coup:\n",
    "\t\t\t\tbreak\n",
    "\t\t\tposition.jouer(coup)\n",
    "\t\t\tprint(f\"CPU ({NOM_CAMPS[campCPU]}) a joue {coup}\")\n",
    "\t\telse:\t\t# humain joue\n",
    "\t\t\twhile True:\n",
    "\t\t\t\tcoup = int(input(f\"{NOM_CAMPS[position.trait]} va jouer: \"))\n",
    "\t\t\t\tnouvelle_pos = effectue_si_valide(position, coup)\n",
    "\t\t\t\tif nouvelle_pos:\n",
    "\t\t\t\t\tbreak\n",
    "\t\t\tposition = nouvelle_pos\n",
    "\tif position.butin[JOEUR_SUD] > position.butin[JOEUR_NORD]:\n",
    "\t\tprint(f\"{NOM_CAMPS[JOEUR_SUD]} gagne\")\n",
    "\telif position.butin[JOEUR_SUD] < position.butin[JOEUR_NORD]:\n",
    "\t\tprint(f\"{NOM_CAMPS[JOEUR_NORD]} gagne\")\n",
    "\telse:\n",
    "\t\tprint(\"DRAW\")"
   ]
  },
  {
   "cell_type": "code",
   "execution_count": 11,
   "metadata": {},
   "outputs": [],
   "source": [
    "# ------------------------- TEST\n",
    "# maPosition = AwelePosition(6)\n",
    "# print(maPosition)\n",
    "# maPosition.jouer(1) # SUD joue\n",
    "# maPosition.jouer(1) # NORD joue\n",
    "# maPosition.jouer(2) # SUD joue\n",
    "# maPosition.jouer(4) # NORD joue\n",
    "# maPosition.jouer(3) # SUD joue\n",
    "# maPosition.jouer(2) # NORD joue\n",
    "# maPosition.jouer(5) # SUD joue\n",
    "# print(maPosition)\n",
    "\n",
    "# maPosition = AwelePosition(3)\n",
    "# print(maPosition)\n",
    "# maPosition.jouer(1) # SUD joue\n",
    "# maPosition.jouer(1) # NORD joue\n",
    "# maPosition.jouer(3) # SUD joue\n",
    "# maPosition.jouer(3) # NORD joue\n",
    "# maPosition.jouer(1) # SUD joue\n",
    "# print(maPosition)\n",
    "# maPosition.jouer(1) # NORD joue\n",
    "# print(maPosition)\n",
    "\n",
    "# --------\n",
    "#partie_humains(4)\n",
    "#partie_aleatoire(5,\"SUD\")\n",
    "# print(\"*************************\\n********* Partie minimax: \")\n",
    "# decommenter la ligne suivante:\n",
    "# partie_minimax(6, JOEUR_NORD,7)"
   ]
  },
  {
   "cell_type": "markdown",
   "metadata": {},
   "source": [
    "## Joueur artificiel élaboré"
   ]
  },
  {
   "cell_type": "markdown",
   "metadata": {},
   "source": [
    "<font color=\"RED\" size=\"+1\">**[Q]**</font> Ecrire la fonction <code>alphabeta(position,prof,alpha,beta)</code> qui, pour la position donnée, retourne le tuple dont le premier élément correspond au meilleur coup à jouer trouvé par l'application de l'algorithme du alpha-bêta à une profondeur <code>prof</code>, avec les valeurs <code>alpha</code> et <code>beta</code> comme valeurs initiales, et le deuxième élément et l'évaluation de la position obtenue pour\n",
    "  ce coup."
   ]
  },
  {
   "cell_type": "code",
   "execution_count": 12,
   "metadata": {},
   "outputs": [
    {
     "name": "stdout",
     "output_type": "stream",
     "text": [
      "(4, 99) 7\n"
     ]
    }
   ],
   "source": [
    "feuilles = 0\t# nombre de feuilles traversees\n",
    "\n",
    "def alpha_beta(position:AwelePosition, prof: int, alpha:int, beta:int, coup=0) -> tuple:\n",
    "\tif prof == 0 or est_terminale(position):\n",
    "\t\tglobal feuilles\n",
    "\t\tfeuilles += 1\n",
    "\t\treturn coup, evalue(position)\n",
    "\tif position.trait == JOEUR_SUD:\t# maximiser\n",
    "\t\tbest = 0\n",
    "\t\tfor coup in coups_possibles(position):\n",
    "\t\t\tnouvelle_pos = deepcopy(position)\n",
    "\t\t\tnouvelle_pos.jouer(coup)\n",
    "\t\t\tx = max(alpha, alpha_beta(nouvelle_pos, prof - 1, alpha, beta, coup)[1])\n",
    "\t\t\tif x > alpha:\n",
    "\t\t\t\talpha = x\n",
    "\t\t\t\tbest = coup\n",
    "\t\t\tif alpha >= beta:\n",
    "\t\t\t\tbreak\n",
    "\t\treturn best, alpha\n",
    "\telse:\n",
    "\t\tbest = 0\n",
    "\t\tfor coup in coups_possibles(position):\n",
    "\t\t\tnouvelle_pos = deepcopy(position)\n",
    "\t\t\tnouvelle_pos.jouer(coup)\n",
    "\t\t\tx = min(beta, alpha_beta(nouvelle_pos, prof - 1, alpha, beta, coup)[1])\n",
    "\t\t\tif x < beta:\n",
    "\t\t\t\tbeta = x\n",
    "\t\t\t\tbest = coup\n",
    "\t\t\tif alpha >= beta:\n",
    "\t\t\t\tbreak\n",
    "\t\treturn best, beta\n",
    "\n",
    "pos = AwelePosition(6)\n",
    "pos.plateau = [1,0,0,6,0,1,1,1,1,1,2,0]\n",
    "pos.butin[JOEUR_SUD] = pos.butin[JOEUR_NORD] = 17\n",
    "print(alpha_beta(pos, 2, -100, 100), feuilles)"
   ]
  },
  {
   "cell_type": "markdown",
   "metadata": {},
   "source": [
    "<font color=\"RED\" size=\"+1\">**[Q]**</font> Ecrire la fonction <code>partie_alphabeta(taille,campCPU,prof)</code> permettant à un joueur  humain de jouer contre l'ordinateur, celui-ci trouvant ses coups à l'aide de\n",
    "  l'algorithme alpha-bêta, utilisé à une profondeur <code>prof</code>. L'argument <code>campCPU</code>\n",
    "  donne le camp que doit gérer l'ordinateur (<code>'SUD'</code> ou <code>'NORD'</code>). L'argument <tt>taille</tt> donne la dimension du plateau de jeu en nombre de colonnes.\n"
   ]
  },
  {
   "cell_type": "code",
   "execution_count": 13,
   "metadata": {},
   "outputs": [],
   "source": [
    "def partie_alphabeta(taille: int, campCPU: int, prof: int):\n",
    "\tposition = AwelePosition(taille)\n",
    "\twhile not est_terminale(position):\n",
    "\t\tprint(position)\n",
    "\t\tif position.trait == campCPU:\t# CPU joue\n",
    "\t\t\tcoup = alpha_beta(position, prof, -1000, 1000)[0]\n",
    "\t\t\tif not coup:\n",
    "\t\t\t\tbreak\n",
    "\t\t\tposition.jouer(coup)\n",
    "\t\t\tprint(f\"CPU ({NOM_CAMPS[campCPU]}) a joue {coup}\")\n",
    "\t\telse:\t\t# humain joue\n",
    "\t\t\twhile True:\n",
    "\t\t\t\tcoup = int(input(f\"{NOM_CAMPS[position.trait]} va jouer: \"))\n",
    "\t\t\t\tnouvelle_pos = effectue_si_valide(position, coup)\n",
    "\t\t\t\tif nouvelle_pos:\n",
    "\t\t\t\t\tbreak\n",
    "\t\t\tposition = nouvelle_pos\n",
    "\tif position.butin[JOEUR_SUD] > position.butin[JOEUR_NORD]:\n",
    "\t\tprint(f\"{NOM_CAMPS[JOEUR_SUD]} gagne\")\n",
    "\telif position.butin[JOEUR_SUD] < position.butin[JOEUR_NORD]:\n",
    "\t\tprint(f\"{NOM_CAMPS[JOEUR_NORD]} gagne\")\n",
    "\telse:\n",
    "\t\tprint(\"DRAW\")"
   ]
  },
  {
   "cell_type": "code",
   "execution_count": 14,
   "metadata": {},
   "outputs": [],
   "source": [
    "def cpu_vs_cpu_minimax(taille: int, prof_sud: int, prof_nord):\n",
    "\tposition = AwelePosition(taille)\n",
    "\twhile not est_terminale(position):\n",
    "\t\tprof = prof_sud if position.trait == JOEUR_SUD else prof_nord\n",
    "\t\tcoup = minimax(position, prof)[0]\n",
    "\t\tif not coup:\n",
    "\t\t\tbreak\n",
    "\t\tposition.jouer(coup)\n",
    "\tif position.butin[JOEUR_SUD] > position.butin[JOEUR_NORD]:\n",
    "\t\tprint(f\"{NOM_CAMPS[JOEUR_SUD]} gagne\")\n",
    "\telif position.butin[JOEUR_SUD] < position.butin[JOEUR_NORD]:\n",
    "\t\tprint(f\"{NOM_CAMPS[JOEUR_NORD]} gagne\")\n",
    "\telse:\n",
    "\t\tprint(\"DRAW\")\n",
    "\n",
    "def cpu_vs_cpu_alphabeta(taille: int, prof_sud: int, prof_nord):\n",
    "\tposition = AwelePosition(taille)\n",
    "\twhile not est_terminale(position):\n",
    "\t\tprof = prof_sud if position.trait == JOEUR_SUD else prof_nord\n",
    "\t\tcoup = alpha_beta(position, prof, -1000, 1000)[0]\n",
    "\t\tif not coup:\n",
    "\t\t\tbreak\n",
    "\t\tposition.jouer(coup)\n",
    "\tif position.butin[JOEUR_SUD] > position.butin[JOEUR_NORD]:\n",
    "\t\tprint(f\"{NOM_CAMPS[JOEUR_SUD]} gagne\")\n",
    "\telif position.butin[JOEUR_SUD] < position.butin[JOEUR_NORD]:\n",
    "\t\tprint(f\"{NOM_CAMPS[JOEUR_NORD]} gagne\")\n",
    "\telse:\n",
    "\t\tprint(\"DRAW\")"
   ]
  },
  {
   "cell_type": "code",
   "execution_count": 15,
   "metadata": {},
   "outputs": [
    {
     "name": "stdout",
     "output_type": "stream",
     "text": [
      "SUD gagne\n",
      " done in 9.341s\n"
     ]
    }
   ],
   "source": [
    "t0 = time()\n",
    "cpu_vs_cpu_minimax(6,5,5)\n",
    "print(\" done in %0.3fs\" % (time() - t0))"
   ]
  },
  {
   "cell_type": "code",
   "execution_count": 16,
   "metadata": {},
   "outputs": [
    {
     "name": "stdout",
     "output_type": "stream",
     "text": [
      "SUD gagne\n",
      " done in 2.274s\n"
     ]
    }
   ],
   "source": [
    "t0 = time()\n",
    "cpu_vs_cpu_alphabeta(6,5,5)\n",
    "print(\" done in %0.3fs\" % (time() - t0))"
   ]
  },
  {
   "cell_type": "code",
   "execution_count": 17,
   "metadata": {},
   "outputs": [
    {
     "name": "stdout",
     "output_type": "stream",
     "text": [
      "146717\n"
     ]
    }
   ],
   "source": [
    "print(feuilles)"
   ]
  },
  {
   "cell_type": "markdown",
   "metadata": {},
   "source": [
    "## Pour aller plus loin..."
   ]
  },
  {
   "cell_type": "markdown",
   "metadata": {},
   "source": [
    "Ne pas hésiter à ajouter des fonctionnalités ou des améliorations à votre programme.\n",
    "Par exemple :\n",
    "- une interface graphique pour afficher le tablier, saisir les coups,...\n",
    "- proposer une nouvelle fonction d'évaluation plus efficace que celle donnée dans\n",
    "  l'exercice 2. Tester le programme en le faisant jouer contre lui même un grand nombre de\n",
    "  fois (automatiquement).\n",
    "- ajouter la règle suivante: un coup qui retire toutes les graines du camp de\n",
    "  l'adversaire peut être quand même joué mais dans ce cas, aucune prise n'est effectuée.\n",
    "- toute autre amélioration que vous pouvez envisager.\n",
    "\n"
   ]
  },
  {
   "cell_type": "markdown",
   "metadata": {},
   "source": [
    "### --> Amelioration de la fonction d'evaluation"
   ]
  },
  {
   "cell_type": "code",
   "execution_count": 18,
   "metadata": {},
   "outputs": [],
   "source": [
    "# 2 graines rapportent plus de points si on fait un coup gagnant\n",
    "# cette fonction prend donc en compte cela\n",
    "def f12_boost(position: AwelePosition, trait: int) -> int:\n",
    "    score = 0\n",
    "    l = position.getCamp(trait)\n",
    "    for x in l:\n",
    "        if x == 1:\n",
    "            score += 1\n",
    "        if x == 2:\n",
    "            score += 2\n",
    "    return score\n",
    "\n",
    "# si le coup ou on va jouer nous retirent des graines risquees\n",
    "# cela est encore mieux\n",
    "def freste(position: AwelePosition, coup: int) -> int:\n",
    "    coef = 3\n",
    "    if position.plateau[coup] == 1:\n",
    "        return coef*1\n",
    "    elif position.plateau[coup] == 2:\n",
    "        return coef*2\n",
    "    else:\n",
    "        return 0\n",
    "\n",
    "# on peut se dire que lorsque l'on est en avance, on peut prendre plus de risque pour marquer des points.\n",
    "# lorsque l'on est en train de perdre, il faut faire attention et prioriser la defense.\n",
    "def evalue_boost(position: AwelePosition, f12_function):\n",
    "    gagne = 4 * position.dimension + 1\n",
    "    if position.butin[JOEUR_SUD] >= gagne:\n",
    "        return 99\n",
    "    elif position.butin[JOEUR_NORD] >= gagne:\n",
    "        return -99\n",
    "    if position.butin[JOEUR_SUD] > position.butin[JOEUR_NORD]:\n",
    "        return 2 * (position.butin[JOEUR_SUD] - position.butin[JOEUR_NORD]) + f12_function(position, JOEUR_NORD) - 1.5*f12_function(position, JOEUR_SUD)\n",
    "    else:\n",
    "        return 2 * (position.butin[JOEUR_SUD] - position.butin[JOEUR_NORD]) + 1.5*f12_function(position, JOEUR_NORD) - f12_function(position, JOEUR_SUD)\n",
    "\n",
    "def evalue(position: AwelePosition, f12_function):\n",
    "    gagne = 4 * position.dimension + 1\n",
    "    if position.butin[JOEUR_SUD] >= gagne:\n",
    "        return 99\n",
    "    elif position.butin[JOEUR_NORD] >= gagne:\n",
    "        return -99\n",
    "    return 2 * (position.butin[JOEUR_SUD] - position.butin[JOEUR_NORD]) + f12_function(position, JOEUR_NORD) - f12_function(position, JOEUR_SUD)"
   ]
  },
  {
   "cell_type": "code",
   "execution_count": 19,
   "metadata": {},
   "outputs": [],
   "source": [
    "# redefinition de la fonction pour prendre en compte plusieurs fonction d'evaluation\n",
    "def cpu_vs_cpu_alphabeta(taille: int, prof_sud: int, prof_nord):\n",
    "    position = AwelePosition(taille)\n",
    "    n_coup = 0\n",
    "    while not est_terminale(position):\n",
    "        prof = prof_sud if position.trait == JOEUR_SUD else prof_nord\n",
    "        coup = alpha_beta(position, prof, -1000, 1000)[0]\n",
    "        if not coup:\n",
    "            break\n",
    "        n_coup += 1\n",
    "        if n_coup > 1000:\n",
    "            break\n",
    "        position.jouer(coup)\n",
    "    if position.butin[JOEUR_SUD] > position.butin[JOEUR_NORD]:\n",
    "        # print(f\"{NOM_CAMPS[JOEUR_SUD]} gagne\")\n",
    "        return \"SUD\", position.butin[JOEUR_SUD] - position.butin[JOEUR_NORD]\n",
    "    elif position.butin[JOEUR_SUD] < position.butin[JOEUR_NORD]:\n",
    "        # print(f\"{NOM_CAMPS[JOEUR_NORD]} gagne\")\n",
    "        return \"NORD\", position.butin[JOEUR_NORD] - position.butin[JOEUR_NORD]\n",
    "    else:\n",
    "        # print(\"DRAW\")\n",
    "        return \"DRAW\", 0"
   ]
  },
  {
   "cell_type": "code",
   "execution_count": 20,
   "metadata": {},
   "outputs": [],
   "source": [
    "def results(n_partie):\n",
    "    winners = []\n",
    "    ecart = 0\n",
    "\n",
    "    for i in tqdm(range(n_partie)):\n",
    "        nom, score  = cpu_vs_cpu_alphabeta(8,3,3)\n",
    "        winners.append(nom)\n",
    "        ecart += score\n",
    "\n",
    "    u, c = np.unique(winners, return_counts=True)\n",
    "    print(\"parties gagnees : \", u, c)\n",
    "    print(\"ecart moyen pour le gagnant :\", ecart/n_partie)"
   ]
  },
  {
   "cell_type": "markdown",
   "metadata": {},
   "source": [
    "### --> Test de partie contre le minimax avec l'ancienne fonction d'evaluation"
   ]
  },
  {
   "cell_type": "code",
   "execution_count": 21,
   "metadata": {},
   "outputs": [],
   "source": [
    "# JOUEUR SUD : EVALUE BOOST\n",
    "# JOUEUR NORD : EVALUE"
   ]
  },
  {
   "cell_type": "code",
   "execution_count": 22,
   "metadata": {},
   "outputs": [],
   "source": [
    "import random\n",
    "from tqdm import tqdm\n",
    "\n",
    "# redefinition de alpha beta pour randomisation et quelques changements\n",
    "def alpha_beta(position:AwelePosition, prof: int, alpha:int, beta:int, coup=0) -> tuple:\n",
    "    if prof == 0 or est_terminale(position):\n",
    "        global feuilles\n",
    "        feuilles += 1\n",
    "        if position.trait == JOEUR_SUD:\n",
    "            return coup, evalue_boost(position, f12)\n",
    "        else:\n",
    "            return coup, evalue(position, f12)\n",
    "    if position.trait == JOEUR_SUD:\t# maximiser\n",
    "        best = 0\n",
    "        cp = coups_possibles(position)\n",
    "        random.shuffle(cp) # petit tricks pour eviter de faire la meme partie en boucle dans les simulations\n",
    "        for coup in cp:\n",
    "            nouvelle_pos = deepcopy(position)\n",
    "            nouvelle_pos.jouer(coup)\n",
    "            x = max(alpha, alpha_beta(nouvelle_pos, prof - 1, alpha, beta, coup)[1])\n",
    "            if x > alpha:\n",
    "                alpha = x\n",
    "                best = coup\n",
    "            if alpha >= beta:\n",
    "                break\n",
    "        return best, alpha\n",
    "    else:\n",
    "        best = 0\n",
    "        cp = coups_possibles(position)\n",
    "        random.shuffle(cp)\n",
    "        for coup in cp:\n",
    "            nouvelle_pos = deepcopy(position)\n",
    "            nouvelle_pos.jouer(coup)\n",
    "            x = min(beta, alpha_beta(nouvelle_pos, prof - 1, alpha, beta, coup)[1])\n",
    "            if x < beta:\n",
    "                beta = x\n",
    "                best = coup\n",
    "            if alpha >= beta:\n",
    "                break\n",
    "        return best, beta"
   ]
  },
  {
   "cell_type": "code",
   "execution_count": 23,
   "metadata": {},
   "outputs": [],
   "source": [
    "n = 50\n",
    "# results(n)"
   ]
  },
  {
   "cell_type": "code",
   "execution_count": 24,
   "metadata": {},
   "outputs": [],
   "source": [
    "# CONCLUSION : PETITE AMELIORATION GRACE AU REACTION SUIVANT LE SCORE"
   ]
  },
  {
   "cell_type": "code",
   "execution_count": 25,
   "metadata": {},
   "outputs": [],
   "source": [
    "# JOUEUR SUD : EVALUE, F12_BOOST\n",
    "# JOUEUR NORD : EVALUE, F12"
   ]
  },
  {
   "cell_type": "code",
   "execution_count": 26,
   "metadata": {},
   "outputs": [],
   "source": [
    "# redefinition de alpha beta pour randomisation et quelques changements\n",
    "def alpha_beta(position:AwelePosition, prof: int, alpha:int, beta:int, coup=0) -> tuple:\n",
    "    if prof == 0 or est_terminale(position):\n",
    "        global feuilles\n",
    "        feuilles += 1\n",
    "        if position.trait == JOEUR_SUD:\n",
    "            return coup, evalue(position, f12_boost)\n",
    "        else:\n",
    "            return coup, evalue(position, f12)\n",
    "    if position.trait == JOEUR_SUD:\t# maximiser\n",
    "        best = 0\n",
    "        cp = coups_possibles(position)\n",
    "        random.shuffle(cp) # petit tricks pour eviter de faire la meme partie en boucle dans les simulations\n",
    "        for coup in cp:\n",
    "            nouvelle_pos = deepcopy(position)\n",
    "            nouvelle_pos.jouer(coup)\n",
    "            x = max(alpha, alpha_beta(nouvelle_pos, prof - 1, alpha, beta, coup)[1])\n",
    "            if x > alpha:\n",
    "                alpha = x\n",
    "                best = coup\n",
    "            if alpha >= beta:\n",
    "                break\n",
    "        return best, alpha\n",
    "    else:\n",
    "        best = 0\n",
    "        cp = coups_possibles(position)\n",
    "        random.shuffle(cp)\n",
    "        for coup in cp:\n",
    "            nouvelle_pos = deepcopy(position)\n",
    "            nouvelle_pos.jouer(coup)\n",
    "            x = min(beta, alpha_beta(nouvelle_pos, prof - 1, alpha, beta, coup)[1])\n",
    "            if x < beta:\n",
    "                beta = x\n",
    "                best = coup\n",
    "            if alpha >= beta:\n",
    "                break\n",
    "        return best, beta"
   ]
  },
  {
   "cell_type": "code",
   "execution_count": 27,
   "metadata": {},
   "outputs": [],
   "source": [
    "# results(n)"
   ]
  },
  {
   "cell_type": "code",
   "execution_count": 28,
   "metadata": {},
   "outputs": [],
   "source": [
    "# CONCLUSION : BONNE AMELIORATION LORSQUE L'ON PREND EN COMPTE LE NOMBRE DE GRAINE QU'IL EST POSSIBLE DE GAGNER"
   ]
  },
  {
   "cell_type": "code",
   "execution_count": 29,
   "metadata": {},
   "outputs": [],
   "source": [
    "# JOUEUR SUD : EVALUE, F12_BOOST\n",
    "# JOUEUR NORD : EVALUE_BOOST, F12"
   ]
  },
  {
   "cell_type": "code",
   "execution_count": 30,
   "metadata": {},
   "outputs": [],
   "source": [
    "# redefinition de alpha beta pour randomisation et quelques changements\n",
    "def alpha_beta(position:AwelePosition, prof: int, alpha:int, beta:int, coup=0) -> tuple:\n",
    "    if prof == 0 or est_terminale(position):\n",
    "        global feuilles\n",
    "        feuilles += 1\n",
    "        if position.trait == JOEUR_SUD:\n",
    "            return coup, evalue(position, f12_boost)\n",
    "        else:\n",
    "            return coup, evalue_boost(position, f12)\n",
    "    if position.trait == JOEUR_SUD:\t# maximiser\n",
    "        best = 0\n",
    "        cp = coups_possibles(position)\n",
    "        random.shuffle(cp) # petit tricks pour eviter de faire la meme partie en boucle dans les simulations\n",
    "        for coup in cp:\n",
    "            nouvelle_pos = deepcopy(position)\n",
    "            nouvelle_pos.jouer(coup)\n",
    "            x = max(alpha, alpha_beta(nouvelle_pos, prof - 1, alpha, beta, coup)[1])\n",
    "            if x > alpha:\n",
    "                alpha = x\n",
    "                best = coup\n",
    "            if alpha >= beta:\n",
    "                break\n",
    "        return best, alpha\n",
    "    else:\n",
    "        best = 0\n",
    "        cp = coups_possibles(position)\n",
    "        random.shuffle(cp)\n",
    "        for coup in cp:\n",
    "            nouvelle_pos = deepcopy(position)\n",
    "            nouvelle_pos.jouer(coup)\n",
    "            x = min(beta, alpha_beta(nouvelle_pos, prof - 1, alpha, beta, coup)[1])\n",
    "            if x < beta:\n",
    "                beta = x\n",
    "                best = coup\n",
    "            if alpha >= beta:\n",
    "                break\n",
    "        return best, beta"
   ]
  },
  {
   "cell_type": "code",
   "execution_count": 31,
   "metadata": {},
   "outputs": [],
   "source": [
    "# results(n)"
   ]
  },
  {
   "cell_type": "code",
   "execution_count": 32,
   "metadata": {},
   "outputs": [],
   "source": [
    "# CONCLUSION : PRENDRE EN COMPTE LE FAIT D'ETRE DERRIERE AU SCORE EST MOINS IMPORTANT QUE\n",
    "# DE COMPTER LES CASES AYANT 1 OU 2 GRAINES DANS LE CAMP ADVERSE DIFFEREMMENT"
   ]
  },
  {
   "cell_type": "code",
   "execution_count": 33,
   "metadata": {},
   "outputs": [],
   "source": [
    "# JOUEUR SUD : EVALUE, F12, FRESTE\n",
    "# JOUEUR NORD : EVALUE, F12, NO_FRESTE"
   ]
  },
  {
   "cell_type": "code",
   "execution_count": 34,
   "metadata": {},
   "outputs": [],
   "source": [
    "# redefinition de alpha beta pour randomisation et quelques changements\n",
    "def alpha_beta(position:AwelePosition, prof: int, alpha:int, beta:int, coup=0) -> tuple:\n",
    "    if prof == 0 or est_terminale(position):\n",
    "        global feuilles\n",
    "        feuilles += 1\n",
    "        if position.trait == JOEUR_SUD:\n",
    "            return coup, evalue(position, f12) + freste(position, coup)\n",
    "        else:\n",
    "            return coup, evalue(position, f12)\n",
    "    if position.trait == JOEUR_SUD:\t# maximiser\n",
    "        best = 0\n",
    "        cp = coups_possibles(position)\n",
    "        random.shuffle(cp) # petit tricks pour eviter de faire la meme partie en boucle dans les simulations\n",
    "        for coup in cp:\n",
    "            nouvelle_pos = deepcopy(position)\n",
    "            nouvelle_pos.jouer(coup)\n",
    "            x = max(alpha, alpha_beta(nouvelle_pos, prof - 1, alpha, beta, coup)[1])\n",
    "            if x > alpha:\n",
    "                alpha = x\n",
    "                best = coup\n",
    "            if alpha >= beta:\n",
    "                break\n",
    "        return best, alpha\n",
    "    else:\n",
    "        best = 0\n",
    "        cp = coups_possibles(position)\n",
    "        random.shuffle(cp)\n",
    "        for coup in cp:\n",
    "            nouvelle_pos = deepcopy(position)\n",
    "            nouvelle_pos.jouer(coup)\n",
    "            x = min(beta, alpha_beta(nouvelle_pos, prof - 1, alpha, beta, coup)[1])\n",
    "            if x < beta:\n",
    "                beta = x\n",
    "                best = coup\n",
    "            if alpha >= beta:\n",
    "                break\n",
    "        return best, beta"
   ]
  },
  {
   "cell_type": "code",
   "execution_count": 35,
   "metadata": {},
   "outputs": [],
   "source": [
    "# n = 50\n",
    "# results(n)"
   ]
  },
  {
   "cell_type": "code",
   "execution_count": 36,
   "metadata": {},
   "outputs": [],
   "source": [
    "# CONCLUSION"
   ]
  },
  {
   "cell_type": "code",
   "execution_count": 37,
   "metadata": {},
   "outputs": [],
   "source": [
    "# JOUEUR SUD : EVALUE_BOOST, F12_BOOST, FRESTE\n",
    "# JOUEUR NORD : EVALUE, F12, NO_FRESTE"
   ]
  },
  {
   "cell_type": "code",
   "execution_count": 38,
   "metadata": {},
   "outputs": [],
   "source": [
    "# redefinition de alpha beta pour randomisation et quelques changements\n",
    "\n",
    "def alpha_beta(position:AwelePosition, prof: int, alpha:int, beta:int, coup=0) -> tuple:\n",
    "    if prof == 0 or est_terminale(position):\n",
    "        global feuilles, feuilles_sud, feuilles_nord\n",
    "        feuilles += 1\n",
    "        if position.trait == JOEUR_SUD:\n",
    "            feuilles_sud += 1\n",
    "            return coup, evalue_boost(position, f12_boost) + freste(position, coup)\n",
    "        else:\n",
    "            feuilles_nord += 1\n",
    "            return coup, evalue(position, f12)\n",
    "    if position.trait == JOEUR_SUD:\t# maximiser\n",
    "        best = 0\n",
    "        cp = coups_possibles(position)\n",
    "        random.shuffle(cp) # petit tricks pour eviter de faire la meme partie en boucle dans les simulations\n",
    "        for coup in cp:\n",
    "            nouvelle_pos = deepcopy(position)\n",
    "            nouvelle_pos.jouer(coup)\n",
    "            x = max(alpha, alpha_beta(nouvelle_pos, prof - 1, alpha, beta, coup)[1])\n",
    "            if x > alpha:\n",
    "                alpha = x\n",
    "                best = coup\n",
    "            if alpha >= beta:\n",
    "                break\n",
    "        return best, alpha\n",
    "    else:\n",
    "        best = 0\n",
    "        cp = coups_possibles(position)\n",
    "        random.shuffle(cp)\n",
    "        for coup in cp:\n",
    "            nouvelle_pos = deepcopy(position)\n",
    "            nouvelle_pos.jouer(coup)\n",
    "            x = min(beta, alpha_beta(nouvelle_pos, prof - 1, alpha, beta, coup)[1])\n",
    "            if x < beta:\n",
    "                beta = x\n",
    "                best = coup\n",
    "            if alpha >= beta:\n",
    "                break\n",
    "        return best, beta"
   ]
  },
  {
   "cell_type": "code",
   "execution_count": 40,
   "metadata": {},
   "outputs": [
    {
     "name": "stderr",
     "output_type": "stream",
     "text": [
      "100%|██████████| 10/10 [00:09<00:00,  1.01it/s]"
     ]
    },
    {
     "name": "stdout",
     "output_type": "stream",
     "text": [
      "parties gagnees :  ['NORD' 'SUD'] [1 9]\n",
      "ecart moyen pour le gagnant : 9.9\n",
      "47170 45827\n"
     ]
    },
    {
     "name": "stderr",
     "output_type": "stream",
     "text": [
      "\n"
     ]
    }
   ],
   "source": [
    "n = 10\n",
    "feuilles_sud, feuilles_nord = 0, 0\n",
    "results(n)\n",
    "print(feuilles_sud, feuilles_nord)"
   ]
  },
  {
   "cell_type": "code",
   "execution_count": null,
   "metadata": {},
   "outputs": [],
   "source": [
    "# CONCLUSION : FAUSSE INTUITION ._."
   ]
  },
  {
   "cell_type": "markdown",
   "metadata": {},
   "source": [
    "### --> Intuition sur les fonctions d'evaluation"
   ]
  },
  {
   "cell_type": "code",
   "execution_count": null,
   "metadata": {},
   "outputs": [],
   "source": [
    "# est ce qu'avoir une meilleur fonction d'evaluation peut ameliorer la vitesse de notre algorithme\n",
    "# grace a l'elagage alpha beta, pour cela on va regarde le nombre de noeuds explore suivant le joueur"
   ]
  },
  {
   "cell_type": "code",
   "execution_count": null,
   "metadata": {},
   "outputs": [],
   "source": []
  },
  {
   "cell_type": "code",
   "execution_count": null,
   "metadata": {},
   "outputs": [],
   "source": []
  },
  {
   "cell_type": "code",
   "execution_count": null,
   "metadata": {},
   "outputs": [],
   "source": []
  },
  {
   "cell_type": "markdown",
   "metadata": {},
   "source": [
    "### --> Quelques statistiques"
   ]
  },
  {
   "cell_type": "markdown",
   "metadata": {},
   "source": [
    "- nb noeud / prof\n",
    "- nb noeud / taille\n",
    "- nb noeud si pas alpha\n",
    "- nb noeud si alpha\n",
    "- nb noeud suivant fonction d'evaluation\n",
    "-"
   ]
  },
  {
   "cell_type": "code",
   "execution_count": null,
   "metadata": {},
   "outputs": [],
   "source": []
  }
 ],
 "metadata": {
  "kernelspec": {
   "display_name": "Python 3 (ipykernel)",
   "language": "python",
   "name": "python3"
  },
  "language_info": {
   "codemirror_mode": {
    "name": "ipython",
    "version": 3
   },
   "file_extension": ".py",
   "mimetype": "text/x-python",
   "name": "python",
   "nbconvert_exporter": "python",
   "pygments_lexer": "ipython3",
   "version": "3.8.12"
  }
 },
 "nbformat": 4,
 "nbformat_minor": 4
}
