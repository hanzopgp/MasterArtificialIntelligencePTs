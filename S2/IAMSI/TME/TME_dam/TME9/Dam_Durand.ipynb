{
 "cells": [
  {
   "cell_type": "markdown",
   "metadata": {},
   "source": [
    "IAMSI -- 2021-2022\n",
    "--------\n",
    "\n",
    "\n",
    "# TME 09 : Règles d'association"
   ]
  },
  {
   "cell_type": "markdown",
   "metadata": {},
   "source": [
    "<font color=\"RED\" size=\"+1\">**[Q]**</font> **Indiquer dans la boîte ci-dessous vos noms et prénoms**"
   ]
  },
  {
   "cell_type": "markdown",
   "metadata": {},
   "source": [
    "DAM Damien, DURAND Enzo"
   ]
  },
  {
   "cell_type": "markdown",
   "metadata": {},
   "source": [
    "## Présentation"
   ]
  },
  {
   "cell_type": "markdown",
   "metadata": {},
   "source": [
    "### But de ce TME\n",
    "\n",
    "Ce TME a pour but de réaliser une implémentation *intuitive* de l'algorithme **apriori** afin de la comparer à une version efficace de cet algorithme, puis à une implémentation de l'algorithme **fp-growth**.\n"
   ]
  },
  {
   "cell_type": "markdown",
   "metadata": {},
   "source": [
    "#### Contenu de l'archive téléchargée\n",
    "\n",
    "Une fois détarée, l'archive **tme-09.tgz** crée le répertoire <code>tme09</code> contenant :\n",
    "- ce notebook que vous lisez en ce moment et que vous allez compléter.\n",
    "- un répertoire <code>dataset</code> contenant des bases d'exemples pour tester les algorithmes\n",
    "- deux fichiers exécutables (Linux): <code>apriori32</code> et <code>fpgrowth32</code> (ces 2 programmes ont été développés par Christian Borgelt, plus d'infos sur sa page web  http://www.borgelt.net/software.html). Ces programmes seront utilisés en fin de séance. Si vous n'êtes pas sous Linux, vous pouvez trouver une version pour votre OS ici:\n",
    "    - <code>apriori</code> : https://borgelt.net/apriori.html\n",
    "    - <code>fpgrowth</code> : https://borgelt.net/fpgrowth.html\n",
    "\n"
   ]
  },
  {
   "cell_type": "markdown",
   "metadata": {},
   "source": [
    "#### Compte-rendu de la séance\n",
    "\n",
    "Le compte-rendu de ce TME se compose de ce notebook complété par les réponses aux questions posées.\n",
    "\n",
    "Ce compte-rendu est à poster : \n",
    "- à l'issue de la séance, un premier envoi doit être **obligatoirement** fait avec ce que vous avez réalisé\n",
    "- si nécessaire, un complément peut être envoyé **au plus tard avant le début de la prochaine séance**.\n"
   ]
  },
  {
   "cell_type": "markdown",
   "metadata": {},
   "source": [
    "<font color=\"RED\">IMPORTANT: soumission de votre fichier final</font>\n",
    "\n",
    "**Nom à donner au fichier à poster** : *Nom1_Nom2.ipynb* \n",
    "- *Nom1* et *Nom2* : noms des membres du binôme\n",
    "- ne pas compresser ou faire une archive: envoyer le notebook tel quel, éventuellement, si vous avez d'autres fichiers à envoyer, les  joindre au message."
   ]
  },
  {
   "cell_type": "code",
   "execution_count": 1,
   "metadata": {},
   "outputs": [
    {
     "data": {
      "text/plain": [
       "['/Users/trung/Desktop/M1/IAMSI/tme-09',\n",
       " '/Users/trung/opt/anaconda3/lib/python37.zip',\n",
       " '/Users/trung/opt/anaconda3/lib/python3.7',\n",
       " '/Users/trung/opt/anaconda3/lib/python3.7/lib-dynload',\n",
       " '',\n",
       " '/Users/trung/opt/anaconda3/lib/python3.7/site-packages',\n",
       " '/Users/trung/opt/anaconda3/lib/python3.7/site-packages/aeosa',\n",
       " '/Users/trung/opt/anaconda3/lib/python3.7/site-packages/IPython/extensions',\n",
       " '/Users/trung/.ipython',\n",
       " '/Users/trung/.local/lib/python3.7/site-packages']"
      ]
     },
     "execution_count": 1,
     "metadata": {},
     "output_type": "execute_result"
    }
   ],
   "source": [
    "# Vérification de la version de Python utilisée:\n",
    "import sys\n",
    "sys.path # le path doit contenir python3.5 ou une version supérieure"
   ]
  },
  {
   "cell_type": "markdown",
   "metadata": {},
   "source": [
    "## Traitement d'une base d'apprentissage\n",
    "\n",
    "\n",
    "### Chargement de la base\n",
    "\n",
    "On commence par travailler sur la base exemple du fichier <code>exemple-1.txt</code> (fourni dans le répertoire datasets). \n",
    "\n",
    "Ce fichier contient une transaction par ligne. Chaque transaction est composée d'un groupe d'items séparés par un espace.\n",
    "\n",
    "On peut charger en Python ce fichier par la commande suivante (le répertoire datasets doit se trouver dans le répertoire courant) :"
   ]
  },
  {
   "cell_type": "code",
   "execution_count": 2,
   "metadata": {
    "scrolled": true
   },
   "outputs": [
    {
     "name": "stdout",
     "output_type": "stream",
     "text": [
      "ligne 1 : ['a', 'b', 'c']\n",
      "ligne 2 : ['a', 'd', 'e']\n",
      "ligne 3 : ['b', 'c', 'd']\n",
      "ligne 4 : ['a', 'b', 'c', 'd']\n",
      "ligne 5 : ['b', 'c']\n",
      "ligne 6 : ['a', 'b', 'd']\n",
      "ligne 7 : ['d', 'e']\n",
      "ligne 8 : ['a', 'b', 'c', 'd']\n",
      "ligne 9 : ['c', 'd', 'e']\n",
      "ligne 10 : ['a', 'b', 'c']\n"
     ]
    }
   ],
   "source": [
    "import csv\n",
    "with open('datasets/exemple-1.txt', 'r') as fichier:\n",
    "    lecteur = csv.reader(fichier, delimiter=' ')\n",
    "    i = 0\n",
    "    for ligne in lecteur:\n",
    "        i += 1\n",
    "        print('ligne',i,':',ligne)"
   ]
  },
  {
   "cell_type": "markdown",
   "metadata": {},
   "source": [
    "<font color=\"RED\" size=\"+1\">**[Q]**</font>  Ecrire la fonction <code>chargeBase</code> qui prend en argument un nom de fichier, respectant le format énoncé plus haut, le lit et rend un dictionnaire dont les clés sont les numéros de ligne (une transaction) et les valeurs associées les itemsets correspondants représentés sous forme d'ensembles Python (des <code>set()</code> donc).\n",
    "\n",
    "Ici, il est plus intéressant de représenter un itemset comme un ensemble Python plutôt que comme une liste. Il est ainsi plus facile de réaliser des comparaisons d'ensembles ou des ajouts d'éléments.\n",
    "\n",
    "Dans le reste de ce document, on appelle **BASE** un dictionnaire de ce type."
   ]
  },
  {
   "cell_type": "code",
   "execution_count": 43,
   "metadata": {},
   "outputs": [
    {
     "data": {
      "text/plain": [
       "{0: {'a', 'b', 'c'},\n",
       " 1: {'a', 'd', 'e'},\n",
       " 2: {'b', 'c', 'd'},\n",
       " 3: {'a', 'b', 'c', 'd'},\n",
       " 4: {'b', 'c'},\n",
       " 5: {'a', 'b', 'd'},\n",
       " 6: {'d', 'e'},\n",
       " 7: {'a', 'b', 'c', 'd'},\n",
       " 8: {'c', 'd', 'e'},\n",
       " 9: {'a', 'b', 'c'}}"
      ]
     },
     "execution_count": 43,
     "metadata": {},
     "output_type": "execute_result"
    }
   ],
   "source": [
    "def chargeBase(fname:str,delimiteur=' '):\n",
    "\td = dict()\n",
    "\twith open(fname, 'r') as f:\n",
    "\t\tlecteur = csv.reader(f, delimiter=delimiteur)\n",
    "\t\ti = 0\n",
    "\t\tfor ligne in lecteur:\n",
    "\t\t\td[i] = set(ligne)\n",
    "\t\t\ti += 1\n",
    "\treturn d\n",
    "\n",
    "chargeBase('datasets/exemple-1.txt')"
   ]
  },
  {
   "cell_type": "code",
   "execution_count": 5,
   "metadata": {},
   "outputs": [
    {
     "name": "stdout",
     "output_type": "stream",
     "text": [
      "Résultat du chargement de 'exemple-1.txt', on obtient : \n"
     ]
    },
    {
     "data": {
      "text/plain": [
       "{0: {'a', 'b', 'c'},\n",
       " 1: {'a', 'd', 'e'},\n",
       " 2: {'b', 'c', 'd'},\n",
       " 3: {'a', 'b', 'c', 'd'},\n",
       " 4: {'b', 'c'},\n",
       " 5: {'a', 'b', 'd'},\n",
       " 6: {'d', 'e'},\n",
       " 7: {'a', 'b', 'c', 'd'},\n",
       " 8: {'c', 'd', 'e'},\n",
       " 9: {'a', 'b', 'c'}}"
      ]
     },
     "execution_count": 5,
     "metadata": {},
     "output_type": "execute_result"
    }
   ],
   "source": [
    "print(\"Résultat du chargement de 'exemple-1.txt', on obtient : \")\n",
    "Base1 = chargeBase('datasets/exemple-1.txt')\n",
    "Base1"
   ]
  },
  {
   "cell_type": "markdown",
   "metadata": {},
   "source": [
    "On utilise la variable **Base1** dans la suite pour faire référence à cette base."
   ]
  },
  {
   "cell_type": "markdown",
   "metadata": {},
   "source": [
    "## Itemsets et support"
   ]
  },
  {
   "cell_type": "markdown",
   "metadata": {},
   "source": [
    "<font color=\"RED\" size=\"+1\">**[Q]**</font>  Ecrire la fonction <code>noms_items</code> qui prend en argument une BASE et rend l'ensemble des items qui composent cette base."
   ]
  },
  {
   "cell_type": "code",
   "execution_count": 6,
   "metadata": {},
   "outputs": [],
   "source": [
    "def noms_items(base):\n",
    "\tens = set()\n",
    "\tfor t in base:\n",
    "\t\tens = ens.union(base[t])\n",
    "\treturn ens"
   ]
  },
  {
   "cell_type": "code",
   "execution_count": 7,
   "metadata": {},
   "outputs": [
    {
     "name": "stdout",
     "output_type": "stream",
     "text": [
      "Pour la BASE précédente :\n"
     ]
    },
    {
     "data": {
      "text/plain": [
       "{'a', 'b', 'c', 'd', 'e'}"
      ]
     },
     "execution_count": 7,
     "metadata": {},
     "output_type": "execute_result"
    }
   ],
   "source": [
    "print(\"Pour la BASE précédente :\")\n",
    "noms_items(Base1)"
   ]
  },
  {
   "cell_type": "markdown",
   "metadata": {},
   "source": [
    "<font color=\"RED\" size=\"+1\">**[Q]**</font>  Ecrire la fonction <code>singletons</code> qui prend en argument une BASE et rend la liste des itemsets de taille 1 obtenus à partir de cette base.\n",
    "\n",
    "*Remarque*: attention, ici on utilise une **liste** pour stocker les itemsets (un itemset est un ensemble Python) car il n'est pas possible en Python de créer des ensembles d'ensembles.\n"
   ]
  },
  {
   "cell_type": "code",
   "execution_count": 8,
   "metadata": {},
   "outputs": [],
   "source": [
    "def singletons(base):\n",
    "\titems = noms_items(base)\n",
    "\treturn [{item} for item in items]"
   ]
  },
  {
   "cell_type": "code",
   "execution_count": 9,
   "metadata": {},
   "outputs": [
    {
     "name": "stdout",
     "output_type": "stream",
     "text": [
      "Exemple: singletons(Base1) rend :\n"
     ]
    },
    {
     "data": {
      "text/plain": [
       "[{'d'}, {'b'}, {'a'}, {'c'}, {'e'}]"
      ]
     },
     "execution_count": 9,
     "metadata": {},
     "output_type": "execute_result"
    }
   ],
   "source": [
    "print(\"Exemple: singletons(Base1) rend :\")\n",
    "singletons(Base1)"
   ]
  },
  {
   "cell_type": "markdown",
   "metadata": {},
   "source": [
    "<font color=\"RED\" size=\"+1\">**[Q]**</font>  Ecrire la fonction <code>comptage</code> qui, pour une BASE et un itemset donnés, rend le nombre de transactions de BASE qui contiennent cet itemset."
   ]
  },
  {
   "cell_type": "code",
   "execution_count": 35,
   "metadata": {},
   "outputs": [],
   "source": [
    "def comptage(base, itemset):\n",
    "\tn = 0\n",
    "\tfor t in base:\n",
    "\t\tn += (itemset <= base[t])\n",
    "\treturn n"
   ]
  },
  {
   "cell_type": "code",
   "execution_count": 13,
   "metadata": {},
   "outputs": [
    {
     "name": "stdout",
     "output_type": "stream",
     "text": [
      "Comptage de l'itemset {'a','b','c'} dans la base précédente : \n",
      "comptage(Base1,{'a','b','c'}) rend la valeur 4\n"
     ]
    }
   ],
   "source": [
    "print(\"Comptage de l'itemset {'a','b','c'} dans la base précédente : \")\n",
    "print(\"comptage(Base1,{'a','b','c'}) rend la valeur \"+str(comptage(Base1,{'a','b','c'})))"
   ]
  },
  {
   "cell_type": "markdown",
   "metadata": {},
   "source": [
    "<font color=\"RED\" size=\"+1\">**[Q]**</font>  Ecrire la fonction <code>support</code> qui, pour une BASE et un itemset donnés, rend le support de cet itemset dans la BASE."
   ]
  },
  {
   "cell_type": "code",
   "execution_count": 14,
   "metadata": {},
   "outputs": [],
   "source": [
    "def support(base, itemset):\n",
    "\treturn comptage(base, itemset) / len(base)"
   ]
  },
  {
   "cell_type": "code",
   "execution_count": 15,
   "metadata": {},
   "outputs": [
    {
     "name": "stdout",
     "output_type": "stream",
     "text": [
      "Support de l'itemset {'a','b','c'} dans la base précédente : 0.4\n"
     ]
    }
   ],
   "source": [
    "print(\"Support de l'itemset {'a','b','c'} dans la base précédente : \" \\\n",
    "      +str(support(Base1,{'a','b','c'})))"
   ]
  },
  {
   "cell_type": "markdown",
   "metadata": {},
   "source": [
    "## Implémentation de l'algorithme a-priori\n",
    "\n",
    "Dans cette partie, une implémentation de la partie de construction des itemsets fréquents de l'algorithme a-priori est réalisée. On ne s'intéresse pas dans cette question à la génération des règles d'association (mais cela peut être fait en complément).\n",
    "\n",
    "Votre programme doit pouvoir s'appliquer aux bases fournies dans le répertoire *datasets* (éventuellement, sur au moins les 10 premiers exemples de la base mushrooms)."
   ]
  },
  {
   "cell_type": "markdown",
   "metadata": {},
   "source": [
    "<font color=\"RED\" size=\"+1\">**[Q]**</font>  Ecrire la fonction <code>apriori_gen</code> qui prend en argument une liste d'itemsets de même longueur $k$, applique l'algorithme apriori-gen pour rendre la liste des itemsets candidats de longueurs $k+1$.\n"
   ]
  },
  {
   "cell_type": "code",
   "execution_count": 32,
   "metadata": {},
   "outputs": [],
   "source": [
    "from typing import List, Set\n",
    "from itertools import combinations\n",
    "\n",
    "def apriori_gen(list_itemsets: List[Set[str]]) -> List[Set[str]]:\n",
    "\tres = set()\n",
    "\tk = len(list_itemsets[0])\n",
    "\tfor set1, set2 in combinations(list_itemsets, 2):\n",
    "\t\tc = set1.union(set2)\n",
    "\t\tif len(c) != k + 1:\n",
    "\t\t\tcontinue\n",
    "\t\tfor i in c:\n",
    "\t\t\tcandidat = c - {i}\n",
    "\t\t\tif candidat not in list_itemsets:\n",
    "\t\t\t\tbreak\n",
    "\t\telse:\n",
    "\t\t\tres.add(frozenset(c))\n",
    "\treturn [set(c) for c in res]"
   ]
  },
  {
   "cell_type": "code",
   "execution_count": 34,
   "metadata": {},
   "outputs": [
    {
     "name": "stdout",
     "output_type": "stream",
     "text": [
      "Exemple: apriori_gen([{'a'}, {'b'}, {'c'}, {'d'}]) rend \n",
      "[{'c', 'd'}, {'c', 'b'}, {'c', 'a'}, {'d', 'b'}, {'d', 'a'}, {'b', 'a'}]\n",
      "\n",
      "Exemple: apriori_gen([{'a','b'},{'a','d'},{'b','d'},{'b','c'},{'c','d'}]) rend \n",
      "[{'d', 'b', 'a'}, {'c', 'd', 'b'}]\n"
     ]
    }
   ],
   "source": [
    "print(\"Exemple: apriori_gen([{'a'}, {'b'}, {'c'}, {'d'}]) rend \")\n",
    "print(apriori_gen([{'a'}, {'b'}, {'c'}, {'d'}]))\n",
    "\n",
    "print(\"\\nExemple: apriori_gen([{'a','b'},{'a','d'},{'b','d'},{'b','c'},{'c','d'}]) rend \")\n",
    "print(apriori_gen([{'a', 'b'}, {'a', 'd'}, {'b', 'd'}, {'b', 'c'}, {'c', 'd'}]))"
   ]
  },
  {
   "cell_type": "markdown",
   "metadata": {},
   "source": [
    "<font color=\"RED\" size=\"+1\">**[Q]**</font>  Ecrire la fonction <code>apriori</code> qui prend en argument une BASE et une valeur réelle comprise entre 0 et 1, et qui rend une liste de tuples dont le premier élément et un itemset trouvé et le deuxième élément est la valeur de support correspondante."
   ]
  },
  {
   "cell_type": "code",
   "execution_count": 38,
   "metadata": {},
   "outputs": [],
   "source": [
    "def apriori(base, minsup:float):\n",
    "\tCk = singletons(base)\n",
    "\tF = []\n",
    "\twhile len(Ck):\n",
    "\t\tFk = []\n",
    "\t\tfor c in Ck:\n",
    "\t\t\tsupc = comptage(base, c) / len(base)\n",
    "\t\t\tif supc >= minsup:\n",
    "\t\t\t\tFk.append(c)\n",
    "\t\t\t\tF.append((c, supc))\n",
    "\t\tCk = apriori_gen(Fk)\n",
    "\treturn F"
   ]
  },
  {
   "cell_type": "code",
   "execution_count": 39,
   "metadata": {},
   "outputs": [
    {
     "name": "stdout",
     "output_type": "stream",
     "text": [
      "Exemple: apriori(Base1, 0.3]) rend \n",
      "[({'d'}, 0.7), ({'b'}, 0.7), ({'a'}, 0.6), ({'c'}, 0.7), ({'e'}, 0.3), ({'c', 'd'}, 0.4), ({'c', 'b'}, 0.6), ({'c', 'a'}, 0.4), ({'d', 'b'}, 0.4), ({'d', 'a'}, 0.4), ({'b', 'a'}, 0.5), ({'e', 'd'}, 0.3), ({'c', 'b', 'a'}, 0.4), ({'c', 'd', 'b'}, 0.3), ({'d', 'b', 'a'}, 0.3)]\n"
     ]
    }
   ],
   "source": [
    "print(\"Exemple: apriori(Base1, 0.3]) rend \")\n",
    "print(apriori(Base1,0.3))"
   ]
  },
  {
   "cell_type": "code",
   "execution_count": 16,
   "metadata": {},
   "outputs": [
    {
     "name": "stdout",
     "output_type": "stream",
     "text": [
      "Exemple: apriori(Base1, 0.3]) rend \n",
      "[({'c'}, 0.7), ({'a'}, 0.6), ({'d'}, 0.7), ({'b'}, 0.7), ({'e'}, 0.3), ({'c', 'a'}, 0.4), ({'d', 'c'}, 0.4), ({'b', 'c'}, 0.6), ({'d', 'a'}, 0.4), ({'b', 'a'}, 0.5), ({'b', 'd'}, 0.4), ({'e', 'd'}, 0.3), ({'b', 'c', 'a'}, 0.4), ({'b', 'd', 'c'}, 0.3), ({'b', 'd', 'a'}, 0.3)]\n"
     ]
    }
   ],
   "source": [
    "print(\"Exemple: apriori(Base1, 0.3]) rend \")\n",
    "print(apriori(Base1,0.3))"
   ]
  },
  {
   "cell_type": "markdown",
   "metadata": {},
   "source": [
    "## Expérimentations"
   ]
  },
  {
   "cell_type": "markdown",
   "metadata": {},
   "source": [
    "### Vérification avec la base du TD\n",
    "\n",
    "Utiliser la fonction <code>apriori</code> avec la base de transactions du TD afin de vérifier que les itemsets obtenus sont corrects."
   ]
  },
  {
   "cell_type": "code",
   "execution_count": 40,
   "metadata": {},
   "outputs": [],
   "source": [
    "BaseTD = chargeBase('datasets/td.txt')"
   ]
  },
  {
   "cell_type": "code",
   "execution_count": 41,
   "metadata": {},
   "outputs": [
    {
     "name": "stdout",
     "output_type": "stream",
     "text": [
      "Exemple: apriori(BaseTD, 0.3) rend \n",
      "[({'d'}, 0.9), ({'b'}, 0.7), ({'a'}, 0.5), ({'c'}, 0.5), ({'e'}, 0.6), ({'c', 'd'}, 0.4), ({'e', 'b'}, 0.4), ({'c', 'b'}, 0.3), ({'e', 'a'}, 0.4), ({'d', 'b'}, 0.6), ({'d', 'a'}, 0.4), ({'b', 'a'}, 0.3), ({'e', 'd'}, 0.6), ({'e', 'd', 'a'}, 0.4), ({'e', 'd', 'b'}, 0.4)]\n"
     ]
    }
   ],
   "source": [
    "print(\"Exemple: apriori(BaseTD, 0.3) rend \")\n",
    "print(apriori(BaseTD,0.3))"
   ]
  },
  {
   "cell_type": "markdown",
   "metadata": {},
   "source": [
    "### Comparaisons avec les implémentations apriori et fpgrowth"
   ]
  },
  {
   "cell_type": "markdown",
   "metadata": {},
   "source": [
    "<font color=\"RED\" size=\"+1\">**[Q]**</font>  Tester votre fonction <code>apriori</code> sur les 3 bases données dans datasets et confronter les résultats obtenus avec ceux fournis par l'exécutable <code>apriori</code>."
   ]
  },
  {
   "cell_type": "code",
   "execution_count": 44,
   "metadata": {},
   "outputs": [
    {
     "name": "stdout",
     "output_type": "stream",
     "text": [
      "Résultat du chargement de 'mushrooms.txt', on obtient : \n",
      "8416  transactions.\n"
     ]
    }
   ],
   "source": [
    "print(\"Résultat du chargement de 'mushrooms.txt', on obtient : \")\n",
    "Base_mushrooms = chargeBase('datasets/mushrooms.txt',delimiteur=',')\n",
    "#Base_mushrooms\n",
    "print(len(Base_mushrooms),' transactions.')"
   ]
  },
  {
   "cell_type": "code",
   "execution_count": 45,
   "metadata": {
    "scrolled": false
   },
   "outputs": [
    {
     "name": "stdout",
     "output_type": "stream",
     "text": [
      "Pour la BASE précédente :\n",
      "{'KNOBBED', 'NARROW', 'TAPERING', 'SPICY', 'CLUB', 'SMOOTH', 'FIBROUS', 'BROWN', 'GROOVES', 'URBAN', 'BRUISES', 'NO', 'CROWDED', 'ATTACHED', 'CONICAL', 'ORANGE', 'EDIBLE', 'EQUAL', 'RED', 'BUFF', 'BULBOUS', 'BELL', 'CONVEX', 'LEAVES', 'TWO', 'GRASSES', 'PARTIAL', 'BROAD', 'PENDANT', 'CLOSE', 'GRAY', 'SOLITARY', 'ONE', 'FISHY', 'MEADOWS', 'SCATTERED', 'FREE', 'PURPLE', 'CHOCOLATE', 'ANISE', 'WASTE', 'SILKY', 'BLACK', 'ENLARGING', 'CLUSTERED', 'MUSTY', 'SCALY', 'SUNKEN', 'PINK', 'ROOTED', '?', 'CREOSOTE', 'FLARING', 'ALMOND', 'LARGE', 'EVANESCENT', 'SEVERAL', 'NONE', 'FLAT', 'GREEN', 'PATHS', 'ABUNDANT', 'WOODS', 'PUNGENT', 'FOUL', 'WHITE', 'NUMEROUS', 'POISONOUS', 'CINNAMON', 'YELLOW'}\n",
      "Exemple: singletons(Base_mushrooms) rend :\n",
      "[{'KNOBBED'}, {'NARROW'}, {'TAPERING'}, {'SPICY'}, {'CLUB'}, {'SMOOTH'}, {'FIBROUS'}, {'BROWN'}, {'GROOVES'}, {'URBAN'}, {'BRUISES'}, {'NO'}, {'CROWDED'}, {'ATTACHED'}, {'CONICAL'}, {'ORANGE'}, {'EDIBLE'}, {'EQUAL'}, {'RED'}, {'BUFF'}, {'BULBOUS'}, {'BELL'}, {'CONVEX'}, {'LEAVES'}, {'TWO'}, {'GRASSES'}, {'PARTIAL'}, {'BROAD'}, {'PENDANT'}, {'CLOSE'}, {'GRAY'}, {'SOLITARY'}, {'ONE'}, {'FISHY'}, {'MEADOWS'}, {'SCATTERED'}, {'FREE'}, {'PURPLE'}, {'CHOCOLATE'}, {'ANISE'}, {'WASTE'}, {'SILKY'}, {'BLACK'}, {'ENLARGING'}, {'CLUSTERED'}, {'MUSTY'}, {'SCALY'}, {'SUNKEN'}, {'PINK'}, {'ROOTED'}, {'?'}, {'CREOSOTE'}, {'FLARING'}, {'ALMOND'}, {'LARGE'}, {'EVANESCENT'}, {'SEVERAL'}, {'NONE'}, {'FLAT'}, {'GREEN'}, {'PATHS'}, {'ABUNDANT'}, {'WOODS'}, {'PUNGENT'}, {'FOUL'}, {'WHITE'}, {'NUMEROUS'}, {'POISONOUS'}, {'CINNAMON'}, {'YELLOW'}]\n"
     ]
    }
   ],
   "source": [
    "print(\"Pour la BASE précédente :\")\n",
    "print(noms_items(Base_mushrooms))\n",
    "print(\"Exemple: singletons(Base_mushrooms) rend :\")\n",
    "print(singletons(Base_mushrooms))"
   ]
  },
  {
   "cell_type": "code",
   "execution_count": 46,
   "metadata": {},
   "outputs": [
    {
     "name": "stdout",
     "output_type": "stream",
     "text": [
      "[({'PARTIAL'}, 1.0), ({'ONE'}, 0.9230038022813688), ({'FREE'}, 0.9743346007604563), ({'WHITE'}, 0.9771863117870723), ({'ONE', 'WHITE'}, 0.9001901140684411), ({'FREE', 'ONE'}, 0.9001901140684411), ({'PARTIAL', 'ONE'}, 0.9230038022813688), ({'PARTIAL', 'FREE'}, 0.9743346007604563), ({'PARTIAL', 'WHITE'}, 0.9771863117870723), ({'FREE', 'WHITE'}, 0.9743346007604563), ({'PARTIAL', 'ONE', 'WHITE'}, 0.9001901140684411), ({'PARTIAL', 'FREE', 'ONE'}, 0.9001901140684411), ({'FREE', 'ONE', 'WHITE'}, 0.9001901140684411), ({'PARTIAL', 'WHITE', 'FREE'}, 0.9743346007604563), ({'PARTIAL', 'FREE', 'ONE', 'WHITE'}, 0.9001901140684411)]\n"
     ]
    }
   ],
   "source": [
    "print(apriori(Base_mushrooms,0.9))"
   ]
  },
  {
   "cell_type": "code",
   "execution_count": 21,
   "metadata": {},
   "outputs": [
    {
     "name": "stdout",
     "output_type": "stream",
     "text": [
      "[({'WHITE'}, 0.9771863117870723), ({'PARTIAL'}, 1.0), ({'FREE'}, 0.9743346007604563), ({'ONE'}, 0.9230038022813688), ({'WHITE', 'PARTIAL'}, 0.9771863117870723), ({'WHITE', 'FREE'}, 0.9743346007604563), ({'WHITE', 'ONE'}, 0.9001901140684411), ({'PARTIAL', 'FREE'}, 0.9743346007604563), ({'PARTIAL', 'ONE'}, 0.9230038022813688), ({'FREE', 'ONE'}, 0.9001901140684411), ({'WHITE', 'PARTIAL', 'FREE'}, 0.9743346007604563), ({'WHITE', 'PARTIAL', 'ONE'}, 0.9001901140684411), ({'WHITE', 'FREE', 'ONE'}, 0.9001901140684411), ({'PARTIAL', 'FREE', 'ONE'}, 0.9001901140684411), ({'FREE', 'WHITE', 'PARTIAL', 'ONE'}, 0.9001901140684411)]\n"
     ]
    }
   ],
   "source": [
    "print(apriori(Base_mushrooms,0.9))"
   ]
  },
  {
   "cell_type": "code",
   "execution_count": 47,
   "metadata": {},
   "outputs": [
    {
     "name": "stdout",
     "output_type": "stream",
     "text": [
      "Résultat du chargement de 'titanic-red.csv', on obtient : \n",
      "741  transactions.\n"
     ]
    }
   ],
   "source": [
    "print(\"Résultat du chargement de 'titanic-red.csv', on obtient : \")\n",
    "Base_titanic = chargeBase('datasets/titanic-red.csv',delimiteur=',')\n",
    "print(len(Base_titanic),' transactions.')"
   ]
  },
  {
   "cell_type": "code",
   "execution_count": 48,
   "metadata": {},
   "outputs": [
    {
     "name": "stdout",
     "output_type": "stream",
     "text": [
      "Pour la BASE Titanic :\n",
      "{'StockholmSwedenNewYork', 'GunnislakeEnglandButteMT', 'HalesworthEngland', 'VancouverBC', 'StIvesCornwallHoughtonMI', 'IsleofWightEngland', 'TreherbertCardiffWales', 'LondonEngland', 'OsloNorwayCameronWI', 'LondonWinnipegMB', 'KrakorydSwedenBloomingtonIL', 'StLeonardsonSeaEnglandOhio', 'GlenRidgeNJ', 'NewYorkNYBriarcliffManorNY', 'EnglandSacramentoCA', 'EastProvidenceRI', 'GuernseyEnglandEdgewoodRI', 'WestKensingtonLondon', 'EnglandHartfordCT', 'PlymouthDorsetHoughtonMI', 'JacksonvilleFL', 'WestonSuperMareMooseJawSK', 'GreensburgPA', 'BarreCoWashingtonVT', 'AustraliaFingalND', 'WestHavenCT', 'TorontoON', 'KrakuddenSwedenMouneIL', 'ItalyPhiladelphiaPA', 'FondduLacWI', 'HolleyNY', 'HartfordHuntingdonshire', 'KilmacowenCoSligoIrelandNewYorkNY', 'EnglandBrooklynNY', 'RotterdamNetherlands', 'Cornwall', 'pclass', 'CoClareIrelandWashingtonDC', 'AlbanyNY', 'BronxNY', 'BrunswickME', 'GoteborgSwedenRockfordIL', 'ForesvikNorwayPortlandND', 'EastOrangeNJ', 'CooperstownNY', 'sex', 'ProvoUT', 'TampicoMT', 'Glasgow', 'SeattleWA', 'SkaraSwedenRockfordIL', 'LuccaItalyCalifornia', 'ColumbusOH', 'CornwallCamdenNJ', 'LosAngelesCA', 'RochesterNY', '3rd', 'KingwilliamstownCoCorkIrelandGlensFallsNY', 'Pennsylvania', 'IlfracombeDevon', 'MontrealPQ', 'NewYorkNY', 'DenmarkNewYorkNY', 'BelgiumMontrealPQ', 'BrightonSussex', 'KontiolahtiFinlandDetroitMI', 'OttawaON', 'GreenportNY', 'BaysideQueensNY', 'SaloFinlandAstoriaOR', 'HarrisburgPA', 'female', 'CornwallHoughtonMI', 'LyndhurstEngland', 'StIvesCornwallCalumetMI', 'YoungstownOH', 'PerkinsCountySD', \"StAnne'sonSeaLancashire\", 'CornwallEnglandHoughtonMI', 'DowagiacMI', 'BirkdaleEnglandClevelandOhio', 'IrelandChicagoIL', 'KarbergSwedenJeromeJunctionAZ', 'LondonEnglandNorfolkVA', 'StLouisMO', 'DevonportEngland', 'SittingbourneEnglandSanDiegoCA', 'NorwichNewYorkNY', 'IlfordEssexWinnipegMB', 'LondonEastOrangeNJ', 'MexicoCityMexico', 'Austria', 'CoCorkIrelandRoxburyMA', 'alive', 'WimbledonParkLondonHaylingIslandHants', 'CopenhagenDenmark', 'AuburnNY', 'GuernseyMontclairNJand/orToledoOhio', 'LakewoodNJ', 'BallydehobCoCorkIrelandNewYorkNY', 'WiltshireEnglandNiagaraFallsNY', 'ScituateMA', 'Guernsey', 'GreenwichCT', 'Belfast', 'SpringfieldMA', 'embarked', 'LimaPeru', 'EastBridgewaterMA', 'CornwallAkronOH', 'Russia', 'WorcesterMA', 'WestBromwichEnglandPontiacMI', 'SouthingtonNoankCT', 'MamaroneckNY', 'StockholmSweden', 'HaverfordPACooperstownNY', 'NewYorkNYGreenwichCT', 'ParisFranceNewYorkNY', 'HornseyEngland', 'CalgaryAB', 'VictoriaBC', 'UpperBurmaIndiaPittsburghPA', 'LondonBirmingham', 'RuotsinphyhtaaFinlandNewYorkNY', 'DenmarkHillSurreyChicago', 'LondonParis', 'StAustallCornwall', 'RuotsinphytaaFinlandNewYorkNY', 'IrelandBrooklynNY', 'BrocktonMA', 'WarwickEngland', 'AustriaHungaryGermantownPhiladelphiaPA', 'Syria', 'MontrealPQChestervilleON', 'CoCorkIrelandCharlestownMA', 'StantonIA', 'WaukeganChicagoIL', 'TuxedoParkNY', 'DagsasSwedenFowerMN', 'BrynMawrPA', 'GoteborgSwedenHuntleyIL', 'ParisHaiti', 'AustriaHungary', 'StroodKentEnglandDetroitMI', 'home.dest', 'EnglandDetroitMI', 'GenevaSwitzerlandRadnorPA', 'ClevedonEngland', 'London', '1st', 'AscotBerkshireRochesterNY', 'CornwallClearCreekCO', 'DeerLodgeMT', 'RoachdaleIN', 'HamiltonON', 'LiverpoolMontrealPQ', 'BuenosAiresArgentinaNewJerseyNJ', 'MilfordNH', 'BroomfieldChelmsfordEngland', 'HarrowEngland', 'LondonBrooklynNY', 'BristolAvonJacksonvilleFL', 'SouthseaHants', 'VadsbroSwedenMinisteeMI', 'DuluthMN', 'WestHampsteadLondonNeepawaMB', 'LondonEnglandMariettaOhioandMilwaukeeWI', 'IndiaPittsburghPA', 'SpainHavanaCuba', 'HessleYorks', 'OsloNorwayBayonneNJ', 'MiddleburgHeightsOH', 'BuffaloNY', 'BrennesNorwayNewYork', 'ChelseaLondon', 'FrankfortKY', 'SanFranciscoCA', 'StAndrewsGuernsey', 'BridgwaterSomersetEngland', 'BristolEnglandClevelandOH', 'CoSligoIrelandHartfordCT', 'ProvidenceRI', 'HartfordCT', 'MyrenSwedenNewYorkNY', 'CambridgeMA', 'FinlandMinneapolisMN', 'IrelandPhiladelphiaPA', 'LondonMontrealPQ', 'AltdorfSwitzerland', 'SomersetBernardsvilleNJ', 'male', 'ElizabethNJ', 'LexingtonMA', 'ElkinsParkPA', 'SeattleWAToledoOH', 'SurbitonHillSurrey', 'BangkokThailandRosevilleIL', 'TrentonNJ', 'SwedenChicagoIL', 'LondonNewYorkNY', 'BaselSwitzerland', 'SyriaFredericksburgVA', 'SouthamptonNewYorkNY', 'DetroitMI', 'TaalintehdasFinlandHobokenNJ', 'MinneapolisMN', 'CornwallHancockMI', 'LondonStatenIslandNY', 'EffingtonRutSD', 'PlymouthEngland', 'BournmouthEngland', 'HelsinkiFinlandAshtabulaOhio', 'DeephavenMNCedarRapidsIA', 'FinlandWashingtonDC', 'dead', 'MontevideoUruguay', 'IllinoisUSA', 'PlymouthDevonDetroitMI', 'BridgeruleDevon', 'BromsgroveEnglandMontrealPQ', 'BenningtonVT', 'Spain', 'WindsorEnglandNewYorkNY', 'Southampton', 'SwedenWinnipegMN', 'StJamesLongIslandNY', 'StreathamSurrey', 'GuernseyWilmingtonDE', 'England', 'NewYorkNYStamfordCT', 'GermantownPhiladelphiaPA', 'MadridSpain', 'TranvikFinlandNewYork', 'SwedenJolietIL', 'HudsonNY', 'CapeTownSouthAfricaSeattleWA', 'GallipolisOhioParisNewYork', 'BishopstokeHantsFayetteValleyID', 'SaultStMarieON', 'AberdeenPortlandOR', 'NorthEvingtonEngland', 'StockholmSwedenWashingtonDC', 'ParisMontrealPQ', 'ToftaSwedenJolietIL', 'BostonMA', 'SydneyAustralia', 'BournemouthEngland', 'RussiaNewYorkNY', 'CornwallSpokaneWA', 'FinlandSudburyON', 'SwedenWorcesterMA', 'FolkstoneKentNewYorkNY', 'RotherfieldSussexEnglandEssexCoMA', 'WestHobokenNJ', 'StDenysSouthamptonHants', 'ChicagoIL', 'ZurichSwitzerland', 'Argentina', 'BristolEnglandNewBritainCT', 'HarrowontheHillMiddlesex', 'TokyoJapan', 'PortlandOR', 'BrightonMA', 'HuntingtonWV', 'ElmiraNYOrangeNJ', 'Liverpool', 'HaddenfieldNJ', 'NorwayLosAngelesCA', 'EnglandSaltLakeCityUtah', 'WinnipegMB', 'PhiladelphiaPA', 'BerneSwitzerlandCentralCityIA', 'SwindonEngland', 'BulgariaCoonRapidsIA', 'GreenBayWI', 'LondonSkantealesNY', 'WashingtonDC', 'LiverpoolEnglandBedfordOH', 'GunturIndiaBentonHarbourMI', 'IndianapolisIN', 'AmeniaND', 'GlasgowBangorME', 'DevonEnglandWichitaKS', 'HaverfordPA', 'WestonSuperMareSomerset', 'BrynMawrPAUSA', 'Queenstown', 'SyriaOttawaON', 'LondonVancouverBC', 'Paris', 'EnglandSanFranciscoCA', 'WalthamstowEngland', 'CoSligoIrelandNewYorkNY', 'BelmontMA', 'ManchesterEngland', 'LakeArthurChavezCountyNM', '2nd', 'IrelandNewYorkNY', 'LondonMiddlesex', 'LowerClaptonMiddlesexorErdingtonBirmingham', 'NewYorkNYIthacaNY', 'NorrlotSwedenChicagoIL', 'AughnacliffCoLongfordIrelandNewYorkNY', 'Portugal', 'ParisFrance', 'StoughtonMA', 'AustriaNiagaraFallsNY', 'survived', 'JanjgirIndiaPennsylvania', 'NewForestEngland', 'IndiaRapidCitySD', 'AsarumSwedenBrooklynNY', 'CoAthloneIrelandNewYorkNY', 'SwedenAkeleyMN', 'UnionHillNJ', 'IsleworthEngland', 'KingstonSurrey', 'PondersendEnglandNewDurhamNJ', 'SyriaKentON', 'MedeltorpSwedenChicagoIL', 'EnglandAlbionNY', 'BergenNorway', 'NewarkNJ', 'NiceFrance', 'Greece', 'CoLimerickIrelandSherbrookePQ', 'PomeroyWA', 'SyriaNewYorkNY', 'MtAiryPhiladelphiaPA', 'BathEnglandMassachusetts', 'BelgiumDetroitMI', 'SyriaYoungstownOH', 'OmahaNE', 'BulgariaChicagoIL', 'HongKongNewYorkNY', 'NewYorkNYWashingtonDC', 'EnglandNewYorkNY', 'BrooklynNY', 'DorchesterMA', 'Ireland', 'WestcliffonSeaEssex', 'WinnipegMN', 'ParisNewYorkNY', 'MilwaukeeWI', 'SwedenArlingtonNJ', 'BrooklineMA', 'DorkingSurreyEngland', 'MerrillWI', 'NewBritainCT', 'YoevilEnglandCottageGroveOR', 'BournemouthEnglandNewarkNJ', 'Cherbourg', 'LondonFortByronNY', 'CologneGermany', 'PenzanceCornwallAkronOH', 'EnglandPhiladelphiaPA', 'LittleOnnHallStaffs', 'EnglandBenningtonVT', 'HalifaxNS', 'WoodfordCountyKY', 'Croatia', 'EnglandOglesbyIL', 'BarcelonaSpainHavanaCuba', 'DenverCO', 'StIvesCornwallHancockMI', 'LondonChicagoIL', 'GuernseyElizabethNJ', 'PetworthSussex', 'CoLongfordIrelandNewYorkNY', 'MoscowBronxNY', 'AntwerpBelgiumStantonOH', 'WorcesterEngland', 'CatfordKentDetroitMI', 'SarniaON', 'KingwilliamstownCoCorkIrelandNewYorkNY', 'BelfastNI', 'OskarshamnSwedenMinneapolisMN'}\n",
      "Exemple: singletons(Base_titanic) rend :\n",
      "[{'StockholmSwedenNewYork'}, {'GunnislakeEnglandButteMT'}, {'HalesworthEngland'}, {'VancouverBC'}, {'StIvesCornwallHoughtonMI'}, {'IsleofWightEngland'}, {'TreherbertCardiffWales'}, {'LondonEngland'}, {'OsloNorwayCameronWI'}, {'LondonWinnipegMB'}, {'KrakorydSwedenBloomingtonIL'}, {'StLeonardsonSeaEnglandOhio'}, {'GlenRidgeNJ'}, {'NewYorkNYBriarcliffManorNY'}, {'EnglandSacramentoCA'}, {'EastProvidenceRI'}, {'GuernseyEnglandEdgewoodRI'}, {'WestKensingtonLondon'}, {'EnglandHartfordCT'}, {'PlymouthDorsetHoughtonMI'}, {'JacksonvilleFL'}, {'WestonSuperMareMooseJawSK'}, {'GreensburgPA'}, {'BarreCoWashingtonVT'}, {'AustraliaFingalND'}, {'WestHavenCT'}, {'TorontoON'}, {'KrakuddenSwedenMouneIL'}, {'ItalyPhiladelphiaPA'}, {'FondduLacWI'}, {'HolleyNY'}, {'HartfordHuntingdonshire'}, {'KilmacowenCoSligoIrelandNewYorkNY'}, {'EnglandBrooklynNY'}, {'RotterdamNetherlands'}, {'Cornwall'}, {'pclass'}, {'CoClareIrelandWashingtonDC'}, {'AlbanyNY'}, {'BronxNY'}, {'BrunswickME'}, {'GoteborgSwedenRockfordIL'}, {'ForesvikNorwayPortlandND'}, {'EastOrangeNJ'}, {'CooperstownNY'}, {'sex'}, {'ProvoUT'}, {'TampicoMT'}, {'Glasgow'}, {'SeattleWA'}, {'SkaraSwedenRockfordIL'}, {'LuccaItalyCalifornia'}, {'ColumbusOH'}, {'CornwallCamdenNJ'}, {'LosAngelesCA'}, {'RochesterNY'}, {'3rd'}, {'KingwilliamstownCoCorkIrelandGlensFallsNY'}, {'Pennsylvania'}, {'IlfracombeDevon'}, {'MontrealPQ'}, {'NewYorkNY'}, {'DenmarkNewYorkNY'}, {'BelgiumMontrealPQ'}, {'BrightonSussex'}, {'KontiolahtiFinlandDetroitMI'}, {'OttawaON'}, {'GreenportNY'}, {'BaysideQueensNY'}, {'SaloFinlandAstoriaOR'}, {'HarrisburgPA'}, {'female'}, {'CornwallHoughtonMI'}, {'LyndhurstEngland'}, {'StIvesCornwallCalumetMI'}, {'YoungstownOH'}, {'PerkinsCountySD'}, {\"StAnne'sonSeaLancashire\"}, {'CornwallEnglandHoughtonMI'}, {'DowagiacMI'}, {'BirkdaleEnglandClevelandOhio'}, {'IrelandChicagoIL'}, {'KarbergSwedenJeromeJunctionAZ'}, {'LondonEnglandNorfolkVA'}, {'StLouisMO'}, {'DevonportEngland'}, {'SittingbourneEnglandSanDiegoCA'}, {'NorwichNewYorkNY'}, {'IlfordEssexWinnipegMB'}, {'LondonEastOrangeNJ'}, {'MexicoCityMexico'}, {'Austria'}, {'CoCorkIrelandRoxburyMA'}, {'alive'}, {'WimbledonParkLondonHaylingIslandHants'}, {'CopenhagenDenmark'}, {'AuburnNY'}, {'GuernseyMontclairNJand/orToledoOhio'}, {'LakewoodNJ'}, {'BallydehobCoCorkIrelandNewYorkNY'}, {'WiltshireEnglandNiagaraFallsNY'}, {'ScituateMA'}, {'Guernsey'}, {'GreenwichCT'}, {'Belfast'}, {'SpringfieldMA'}, {'embarked'}, {'LimaPeru'}, {'EastBridgewaterMA'}, {'CornwallAkronOH'}, {'Russia'}, {'WorcesterMA'}, {'WestBromwichEnglandPontiacMI'}, {'SouthingtonNoankCT'}, {'MamaroneckNY'}, {'StockholmSweden'}, {'HaverfordPACooperstownNY'}, {'NewYorkNYGreenwichCT'}, {'ParisFranceNewYorkNY'}, {'HornseyEngland'}, {'CalgaryAB'}, {'VictoriaBC'}, {'UpperBurmaIndiaPittsburghPA'}, {'LondonBirmingham'}, {'RuotsinphyhtaaFinlandNewYorkNY'}, {'DenmarkHillSurreyChicago'}, {'LondonParis'}, {'StAustallCornwall'}, {'RuotsinphytaaFinlandNewYorkNY'}, {'IrelandBrooklynNY'}, {'BrocktonMA'}, {'WarwickEngland'}, {'AustriaHungaryGermantownPhiladelphiaPA'}, {'Syria'}, {'MontrealPQChestervilleON'}, {'CoCorkIrelandCharlestownMA'}, {'StantonIA'}, {'WaukeganChicagoIL'}, {'TuxedoParkNY'}, {'DagsasSwedenFowerMN'}, {'BrynMawrPA'}, {'GoteborgSwedenHuntleyIL'}, {'ParisHaiti'}, {'AustriaHungary'}, {'StroodKentEnglandDetroitMI'}, {'home.dest'}, {'EnglandDetroitMI'}, {'GenevaSwitzerlandRadnorPA'}, {'ClevedonEngland'}, {'London'}, {'1st'}, {'AscotBerkshireRochesterNY'}, {'CornwallClearCreekCO'}, {'DeerLodgeMT'}, {'RoachdaleIN'}, {'HamiltonON'}, {'LiverpoolMontrealPQ'}, {'BuenosAiresArgentinaNewJerseyNJ'}, {'MilfordNH'}, {'BroomfieldChelmsfordEngland'}, {'HarrowEngland'}, {'LondonBrooklynNY'}, {'BristolAvonJacksonvilleFL'}, {'SouthseaHants'}, {'VadsbroSwedenMinisteeMI'}, {'DuluthMN'}, {'WestHampsteadLondonNeepawaMB'}, {'LondonEnglandMariettaOhioandMilwaukeeWI'}, {'IndiaPittsburghPA'}, {'SpainHavanaCuba'}, {'HessleYorks'}, {'OsloNorwayBayonneNJ'}, {'MiddleburgHeightsOH'}, {'BuffaloNY'}, {'BrennesNorwayNewYork'}, {'ChelseaLondon'}, {'FrankfortKY'}, {'SanFranciscoCA'}, {'StAndrewsGuernsey'}, {'BridgwaterSomersetEngland'}, {'BristolEnglandClevelandOH'}, {'CoSligoIrelandHartfordCT'}, {'ProvidenceRI'}, {'HartfordCT'}, {'MyrenSwedenNewYorkNY'}, {'CambridgeMA'}, {'FinlandMinneapolisMN'}, {'IrelandPhiladelphiaPA'}, {'LondonMontrealPQ'}, {'AltdorfSwitzerland'}, {'SomersetBernardsvilleNJ'}, {'male'}, {'ElizabethNJ'}, {'LexingtonMA'}, {'ElkinsParkPA'}, {'SeattleWAToledoOH'}, {'SurbitonHillSurrey'}, {'BangkokThailandRosevilleIL'}, {'TrentonNJ'}, {'SwedenChicagoIL'}, {'LondonNewYorkNY'}, {'BaselSwitzerland'}, {'SyriaFredericksburgVA'}, {'SouthamptonNewYorkNY'}, {'DetroitMI'}, {'TaalintehdasFinlandHobokenNJ'}, {'MinneapolisMN'}, {'CornwallHancockMI'}, {'LondonStatenIslandNY'}, {'EffingtonRutSD'}, {'PlymouthEngland'}, {'BournmouthEngland'}, {'HelsinkiFinlandAshtabulaOhio'}, {'DeephavenMNCedarRapidsIA'}, {'FinlandWashingtonDC'}, {'dead'}, {'MontevideoUruguay'}, {'IllinoisUSA'}, {'PlymouthDevonDetroitMI'}, {'BridgeruleDevon'}, {'BromsgroveEnglandMontrealPQ'}, {'BenningtonVT'}, {'Spain'}, {'WindsorEnglandNewYorkNY'}, {'Southampton'}, {'SwedenWinnipegMN'}, {'StJamesLongIslandNY'}, {'StreathamSurrey'}, {'GuernseyWilmingtonDE'}, {'England'}, {'NewYorkNYStamfordCT'}, {'GermantownPhiladelphiaPA'}, {'MadridSpain'}, {'TranvikFinlandNewYork'}, {'SwedenJolietIL'}, {'HudsonNY'}, {'CapeTownSouthAfricaSeattleWA'}, {'GallipolisOhioParisNewYork'}, {'BishopstokeHantsFayetteValleyID'}, {'SaultStMarieON'}, {'AberdeenPortlandOR'}, {'NorthEvingtonEngland'}, {'StockholmSwedenWashingtonDC'}, {'ParisMontrealPQ'}, {'ToftaSwedenJolietIL'}, {'BostonMA'}, {'SydneyAustralia'}, {'BournemouthEngland'}, {'RussiaNewYorkNY'}, {'CornwallSpokaneWA'}, {'FinlandSudburyON'}, {'SwedenWorcesterMA'}, {'FolkstoneKentNewYorkNY'}, {'RotherfieldSussexEnglandEssexCoMA'}, {'WestHobokenNJ'}, {'StDenysSouthamptonHants'}, {'ChicagoIL'}, {'ZurichSwitzerland'}, {'Argentina'}, {'BristolEnglandNewBritainCT'}, {'HarrowontheHillMiddlesex'}, {'TokyoJapan'}, {'PortlandOR'}, {'BrightonMA'}, {'HuntingtonWV'}, {'ElmiraNYOrangeNJ'}, {'Liverpool'}, {'HaddenfieldNJ'}, {'NorwayLosAngelesCA'}, {'EnglandSaltLakeCityUtah'}, {'WinnipegMB'}, {'PhiladelphiaPA'}, {'BerneSwitzerlandCentralCityIA'}, {'SwindonEngland'}, {'BulgariaCoonRapidsIA'}, {'GreenBayWI'}, {'LondonSkantealesNY'}, {'WashingtonDC'}, {'LiverpoolEnglandBedfordOH'}, {'GunturIndiaBentonHarbourMI'}, {'IndianapolisIN'}, {'AmeniaND'}, {'GlasgowBangorME'}, {'DevonEnglandWichitaKS'}, {'HaverfordPA'}, {'WestonSuperMareSomerset'}, {'BrynMawrPAUSA'}, {'Queenstown'}, {'SyriaOttawaON'}, {'LondonVancouverBC'}, {'Paris'}, {'EnglandSanFranciscoCA'}, {'WalthamstowEngland'}, {'CoSligoIrelandNewYorkNY'}, {'BelmontMA'}, {'ManchesterEngland'}, {'LakeArthurChavezCountyNM'}, {'2nd'}, {'IrelandNewYorkNY'}, {'LondonMiddlesex'}, {'LowerClaptonMiddlesexorErdingtonBirmingham'}, {'NewYorkNYIthacaNY'}, {'NorrlotSwedenChicagoIL'}, {'AughnacliffCoLongfordIrelandNewYorkNY'}, {'Portugal'}, {'ParisFrance'}, {'StoughtonMA'}, {'AustriaNiagaraFallsNY'}, {'survived'}, {'JanjgirIndiaPennsylvania'}, {'NewForestEngland'}, {'IndiaRapidCitySD'}, {'AsarumSwedenBrooklynNY'}, {'CoAthloneIrelandNewYorkNY'}, {'SwedenAkeleyMN'}, {'UnionHillNJ'}, {'IsleworthEngland'}, {'KingstonSurrey'}, {'PondersendEnglandNewDurhamNJ'}, {'SyriaKentON'}, {'MedeltorpSwedenChicagoIL'}, {'EnglandAlbionNY'}, {'BergenNorway'}, {'NewarkNJ'}, {'NiceFrance'}, {'Greece'}, {'CoLimerickIrelandSherbrookePQ'}, {'PomeroyWA'}, {'SyriaNewYorkNY'}, {'MtAiryPhiladelphiaPA'}, {'BathEnglandMassachusetts'}, {'BelgiumDetroitMI'}, {'SyriaYoungstownOH'}, {'OmahaNE'}, {'BulgariaChicagoIL'}, {'HongKongNewYorkNY'}, {'NewYorkNYWashingtonDC'}, {'EnglandNewYorkNY'}, {'BrooklynNY'}, {'DorchesterMA'}, {'Ireland'}, {'WestcliffonSeaEssex'}, {'WinnipegMN'}, {'ParisNewYorkNY'}, {'MilwaukeeWI'}, {'SwedenArlingtonNJ'}, {'BrooklineMA'}, {'DorkingSurreyEngland'}, {'MerrillWI'}, {'NewBritainCT'}, {'YoevilEnglandCottageGroveOR'}, {'BournemouthEnglandNewarkNJ'}, {'Cherbourg'}, {'LondonFortByronNY'}, {'CologneGermany'}, {'PenzanceCornwallAkronOH'}, {'EnglandPhiladelphiaPA'}, {'LittleOnnHallStaffs'}, {'EnglandBenningtonVT'}, {'HalifaxNS'}, {'WoodfordCountyKY'}, {'Croatia'}, {'EnglandOglesbyIL'}, {'BarcelonaSpainHavanaCuba'}, {'DenverCO'}, {'StIvesCornwallHancockMI'}, {'LondonChicagoIL'}, {'GuernseyElizabethNJ'}, {'PetworthSussex'}, {'CoLongfordIrelandNewYorkNY'}, {'MoscowBronxNY'}, {'AntwerpBelgiumStantonOH'}, {'WorcesterEngland'}, {'CatfordKentDetroitMI'}, {'SarniaON'}, {'KingwilliamstownCoCorkIrelandNewYorkNY'}, {'BelfastNI'}, {'OskarshamnSwedenMinneapolisMN'}]\n"
     ]
    }
   ],
   "source": [
    "# décommenter les lignes suivantes:\n",
    "\n",
    "print(\"Pour la BASE Titanic :\")\n",
    "print(noms_items(Base_titanic))\n",
    "\n",
    "print(\"Exemple: singletons(Base_titanic) rend :\")\n",
    "print(singletons(Base_titanic))"
   ]
  },
  {
   "cell_type": "code",
   "execution_count": 49,
   "metadata": {},
   "outputs": [
    {
     "name": "stdout",
     "output_type": "stream",
     "text": [
      "({'male', 'dead'}, 0.46963562753036436)\n",
      "({'male', 'Southampton'}, 0.46288798920377866)\n",
      "({'dead', 'Southampton'}, 0.41295546558704455)\n",
      "({'male', 'dead', 'Southampton'}, 0.3684210526315789)\n",
      "({'female', 'alive'}, 0.32388663967611336)\n",
      "({'2nd', 'Southampton'}, 0.30634278002699056)\n",
      "({'alive', 'Southampton'}, 0.2982456140350877)\n",
      "({'female', 'Southampton'}, 0.2483130904183536)\n",
      "({'1st', 'alive'}, 0.23076923076923078)\n",
      "({'male', '1st'}, 0.21997300944669365)\n",
      "({'1st', 'Southampton'}, 0.20917678812415655)\n",
      "({'male', '2nd'}, 0.20647773279352227)\n",
      "({'female', 'alive', 'Southampton'}, 0.203778677462888)\n"
     ]
    }
   ],
   "source": [
    "Lres = apriori(Base_titanic,0.2)\n",
    "\n",
    "# tri sur les valeurs de supports:\n",
    "#print(sorted(Lres, key=lambda data: data[1]))\n",
    "\n",
    "# tri sur la taille des itemsets\n",
    "#print(sorted(Lres, key=lambda data: len(data[0])))\n",
    "\n",
    "for t in sorted(Lres, key=lambda data: data[1],reverse = True):\n",
    "    if len(t[0])>1:\n",
    "        print(t)\n"
   ]
  },
  {
   "cell_type": "code",
   "execution_count": 51,
   "metadata": {},
   "outputs": [
    {
     "name": "stdout",
     "output_type": "stream",
     "text": [
      "tri sur les valeurs de supports:\n",
      "({'female', 'alive', 'Southampton'}, 0.203778677462888)\n",
      "({'male', '2nd'}, 0.20647773279352227)\n",
      "({'1st', 'Southampton'}, 0.20917678812415655)\n",
      "({'male', '1st'}, 0.21997300944669365)\n",
      "({'1st', 'alive'}, 0.23076923076923078)\n",
      "({'female', 'Southampton'}, 0.2483130904183536)\n",
      "({'alive', 'Southampton'}, 0.2982456140350877)\n",
      "({'2nd', 'Southampton'}, 0.30634278002699056)\n",
      "({'female', 'alive'}, 0.32388663967611336)\n",
      "({'male', 'dead', 'Southampton'}, 0.3684210526315789)\n",
      "({'dead', 'Southampton'}, 0.41295546558704455)\n",
      "({'male', 'Southampton'}, 0.46288798920377866)\n",
      "({'male', 'dead'}, 0.46963562753036436)\n",
      "\n",
      "tri sur la taille des itemsets\n",
      "({'1st', 'Southampton'}, 0.20917678812415655)\n",
      "({'2nd', 'Southampton'}, 0.30634278002699056)\n",
      "({'female', 'alive'}, 0.32388663967611336)\n",
      "({'1st', 'alive'}, 0.23076923076923078)\n",
      "({'male', '1st'}, 0.21997300944669365)\n",
      "({'female', 'Southampton'}, 0.2483130904183536)\n",
      "({'male', '2nd'}, 0.20647773279352227)\n",
      "({'male', 'Southampton'}, 0.46288798920377866)\n",
      "({'male', 'dead'}, 0.46963562753036436)\n",
      "({'alive', 'Southampton'}, 0.2982456140350877)\n",
      "({'dead', 'Southampton'}, 0.41295546558704455)\n",
      "({'female', 'alive', 'Southampton'}, 0.203778677462888)\n",
      "({'male', 'dead', 'Southampton'}, 0.3684210526315789)\n",
      "\n",
      "({'male', 'dead'}, 0.46963562753036436)\n",
      "({'male', 'Southampton'}, 0.46288798920377866)\n",
      "({'dead', 'Southampton'}, 0.41295546558704455)\n",
      "({'male', 'dead', 'Southampton'}, 0.3684210526315789)\n",
      "({'female', 'alive'}, 0.32388663967611336)\n",
      "({'2nd', 'Southampton'}, 0.30634278002699056)\n",
      "({'alive', 'Southampton'}, 0.2982456140350877)\n",
      "({'female', 'Southampton'}, 0.2483130904183536)\n",
      "({'1st', 'alive'}, 0.23076923076923078)\n",
      "({'male', '1st'}, 0.21997300944669365)\n",
      "({'1st', 'Southampton'}, 0.20917678812415655)\n",
      "({'male', '2nd'}, 0.20647773279352227)\n",
      "({'female', 'alive', 'Southampton'}, 0.203778677462888)\n"
     ]
    }
   ],
   "source": [
    "Lres = apriori(Base_titanic,0.2)\n",
    "\n",
    "print(\"tri sur les valeurs de supports:\")\n",
    "for t in sorted(Lres, key=lambda data: data[1]):\n",
    "\tif len(t[0])>1:\n",
    "\t\tprint(t)\n",
    "\n",
    "print(\"\\ntri sur la taille des itemsets\")\n",
    "for t in sorted(Lres, key=lambda data: len(data[0])):\n",
    "\tif len(t[0])>1:\n",
    "\t\tprint(t)\n",
    "\n",
    "print()\n",
    "for t in sorted(Lres, key=lambda data: data[1],reverse = True):\n",
    "\tif len(t[0])>1:\n",
    "\t\tprint(t)\n"
   ]
  },
  {
   "cell_type": "markdown",
   "metadata": {},
   "source": [
    "<font color=\"RED\" size=\"+1\">**[Q]**</font>  Utiliser l'éxécutable <code>apriori</code> pour générer des règles d'association (voir les différentes options en annexe) sur les différentes bases de données fournies. Tester différents seuils (support et confiance). "
   ]
  },
  {
   "cell_type": "code",
   "execution_count": 52,
   "metadata": {},
   "outputs": [
    {
     "name": "stdout",
     "output_type": "stream",
     "text": [
      "./apriori - find frequent item sets with the apriori algorithm\n",
      "version 6.30 (2020.01.09)        (c) 1996-2022   Christian Borgelt\n",
      "reading datasets/mushrooms.txt ... [70 item(s), 8416 transaction(s)] done [0.01s].\n",
      "filtering, sorting and recoding items ... [4 item(s)] done [0.00s].\n",
      "sorting and reducing transactions ... [4/8416 transaction(s)] done [0.00s].\n",
      "building transaction tree ... [6 node(s)] done [0.00s].\n",
      "checking subsets of size 1 2 3 done [0.00s].\n",
      "writing res.txt ... [15 set(s)] done [0.00s].\n",
      "PARTIAL (100)\n",
      "ONE PARTIAL (92.3004)\n",
      "ONE (92.3004)\n",
      "ONE FREE PARTIAL WHITE (90.019)\n",
      "ONE FREE PARTIAL (90.019)\n",
      "ONE FREE WHITE (90.019)\n",
      "ONE FREE (90.019)\n",
      "ONE WHITE PARTIAL (90.019)\n",
      "ONE WHITE (90.019)\n",
      "FREE PARTIAL WHITE (97.4335)\n",
      "FREE PARTIAL (97.4335)\n",
      "FREE WHITE (97.4335)\n",
      "FREE (97.4335)\n",
      "WHITE PARTIAL (97.7186)\n",
      "WHITE (97.7186)\n"
     ]
    }
   ],
   "source": [
    "!./apriori datasets/mushrooms.txt -s90 res.txt\n",
    "!cat res.txt"
   ]
  },
  {
   "cell_type": "code",
   "execution_count": 54,
   "metadata": {},
   "outputs": [
    {
     "name": "stdout",
     "output_type": "stream",
     "text": [
      "./apriori - find frequent item sets with the apriori algorithm\n",
      "version 6.30 (2020.01.09)        (c) 1996-2022   Christian Borgelt\n",
      "reading datasets/titanic-red.csv ... [378 item(s), 741 transaction(s)] done [0.00s].\n",
      "filtering, sorting and recoding items ... [9 item(s)] done [0.00s].\n",
      "sorting and reducing transactions ... [32/741 transaction(s)] done [0.00s].\n",
      "building transaction tree ... [48 node(s)] done [0.00s].\n",
      "checking subsets of size 1 2 3 done [0.00s].\n",
      "writing res.txt ... [22 set(s)] done [0.00s].\n",
      "Cherbourg (23.7517)\n",
      "3rd (27.1255)\n",
      "2nd (34.8178)\n",
      "2nd male (20.6478)\n",
      "2nd Southampton (30.6343)\n",
      "1st (37.9217)\n",
      "1st alive (23.0769)\n",
      "1st male (21.9973)\n",
      "1st Southampton (20.9177)\n",
      "female (38.8664)\n",
      "female alive (32.3887)\n",
      "female alive Southampton (20.3779)\n",
      "female Southampton (24.8313)\n",
      "alive (46.4238)\n",
      "alive Southampton (29.8246)\n",
      "dead (53.4413)\n",
      "dead male (46.9636)\n",
      "dead male Southampton (36.8421)\n",
      "dead Southampton (41.2955)\n",
      "male (60.9987)\n",
      "male Southampton (46.2888)\n",
      "Southampton (71.1201)\n"
     ]
    }
   ],
   "source": [
    "!./apriori datasets/titanic-red.csv -s20 res.txt\n",
    "!cat res.txt"
   ]
  },
  {
   "cell_type": "markdown",
   "metadata": {},
   "source": [
    "<font color=\"RED\" size=\"+1\">**[Q]**</font>   Ajouter les deux mesures d'intérêt vues en TD (lift et RR) et afficher leurs valeurs pour chaque règle trouvée. Ajouter un argument au programme afin de pouvoir sélectionner une de ces mesures pour éliminer les règles inintéressantes.\n"
   ]
  },
  {
   "cell_type": "code",
   "execution_count": 57,
   "metadata": {},
   "outputs": [
    {
     "name": "stdout",
     "output_type": "stream",
     "text": [
      "./apriori - find frequent item sets with the apriori algorithm\n",
      "version 6.30 (2020.01.09)        (c) 1996-2022   Christian Borgelt\n",
      "reading datasets/titanic-red.csv ... [378 item(s), 741 transaction(s)] done [0.00s].\n",
      "filtering, sorting and recoding items ... [9 item(s)] done [0.00s].\n",
      "sorting and reducing transactions ... [32/741 transaction(s)] done [0.00s].\n",
      "building transaction tree ... [48 node(s)] done [0.00s].\n",
      "checking subsets of size 1 2 3 done [0.00s].\n",
      "writing res.txt ... [13 set(s)] done [0.00s].\n",
      "2nd male (20.6478)\n",
      "2nd Southampton (30.6343)\n",
      "1st alive (23.0769)\n",
      "1st male (21.9973)\n",
      "1st Southampton (20.9177)\n",
      "female alive (32.3887)\n",
      "female alive Southampton (20.3779)\n",
      "female Southampton (24.8313)\n",
      "alive Southampton (29.8246)\n",
      "dead male (46.9636)\n",
      "dead male Southampton (36.8421)\n",
      "dead Southampton (41.2955)\n",
      "male Southampton (46.2888)\n"
     ]
    }
   ],
   "source": [
    "!./apriori datasets/titanic-red.csv -s20 -el res.txt\n",
    "!cat res.txt"
   ]
  },
  {
   "cell_type": "code",
   "execution_count": 61,
   "metadata": {},
   "outputs": [
    {
     "name": "stdout",
     "output_type": "stream",
     "text": [
      "./apriori - find frequent item sets with the apriori algorithm\n",
      "version 6.30 (2020.01.09)        (c) 1996-2022   Christian Borgelt\n",
      "reading datasets/mushrooms.txt ... [70 item(s), 8416 transaction(s)] done [0.01s].\n",
      "filtering, sorting and recoding items ... [4 item(s)] done [0.00s].\n",
      "sorting and reducing transactions ... [4/8416 transaction(s)] done [0.00s].\n",
      "building transaction tree ... [6 node(s)] done [0.00s].\n",
      "checking subsets of size 1 2 3 4 done [0.00s].\n",
      "writing res.txt ... [11 set(s)] done [0.00s].\n",
      "ONE FREE (90.019)\n",
      "ONE FREE WHITE (90.019)\n",
      "ONE FREE WHITE PARTIAL (90.019)\n",
      "ONE FREE PARTIAL (90.019)\n",
      "ONE WHITE (90.019)\n",
      "ONE WHITE PARTIAL (90.019)\n",
      "ONE PARTIAL (92.3004)\n",
      "FREE WHITE (97.4335)\n",
      "FREE WHITE PARTIAL (97.4335)\n",
      "FREE PARTIAL (97.4335)\n",
      "WHITE PARTIAL (97.7186)\n"
     ]
    }
   ],
   "source": [
    "!./apriori datasets/mushrooms.txt -s90 -el res.txt\n",
    "!cat res.txt"
   ]
  },
  {
   "cell_type": "markdown",
   "metadata": {},
   "source": [
    "<font color=\"RED\" size=\"+1\">**[Q]**</font>  Ajouter les deux mesures d'intérêt suivantes et afficher leurs valeurs\n",
    "  pour chaque règle trouvée. Ajouter un argument au programme afin de pouvoir sélectionner une de ces mesures pour éliminer les règles inintéressantes.\n",
    "  \n",
    "Par exemple:\n",
    "\n",
    "\\begin{align}\n",
    "  \\text {Interest}(X \\longrightarrow Y) & =  \\frac{P(X,Y)}{P(X)}P(Y)  \\\\\n",
    " \\text {IS}(X \\longrightarrow Y) & =  \\frac{P(X,Y)}{\\sqrt{P(X)P(Y)}}\n",
    "\\end{align}"
   ]
  },
  {
   "cell_type": "markdown",
   "metadata": {},
   "source": [
    "### Utilisation de fp-growth"
   ]
  },
  {
   "cell_type": "markdown",
   "metadata": {},
   "source": [
    "<font color=\"RED\" size=\"+1\">**[Q]**</font>   Utiliser <code>fpgrowth</code> pour générer des règles d'association sur les différentes\n",
    "  bases de données. Comparer avec les résultats obtenus dans la section précédente. En  particulier, comparer les temps d'éxecution."
   ]
  },
  {
   "cell_type": "code",
   "execution_count": 66,
   "metadata": {},
   "outputs": [
    {
     "name": "stdout",
     "output_type": "stream",
     "text": [
      "./apriori - find frequent item sets with the apriori algorithm\n",
      "version 6.30 (2020.01.09)        (c) 1996-2022   Christian Borgelt\n",
      "reading datasets/titanic-red.csv ... [378 item(s), 741 transaction(s)] done [0.00s].\n",
      "filtering, sorting and recoding items ... [9 item(s)] done [0.00s].\n",
      "sorting and reducing transactions ... [32/741 transaction(s)] done [0.00s].\n",
      "building transaction tree ... [48 node(s)] done [0.00s].\n",
      "checking subsets of size 1 2 3 done [0.00s].\n",
      "writing <null> ... [13 set(s)] done [0.00s].\n",
      "\n",
      "real\t0m0.008s\n",
      "user\t0m0.002s\n",
      "sys\t0m0.003s\n",
      "./fpgrowth - find frequent item sets with the fpgrowth algorithm\n",
      "version 6.20 (2022.01.09)        (c) 2004-2022   Christian Borgelt\n",
      "reading datasets/titanic-red.csv ... [378 item(s), 741 transaction(s)] done [0.00s].\n",
      "filtering, sorting and recoding items ... [9 item(s)] done [0.00s].\n",
      "sorting and reducing transactions ... [32/741 transaction(s)] done [0.00s].\n",
      "finding frequent item set(s) ... done [0.00s].\n",
      "writing <null> ... [13 set(s)] done [0.00s].\n",
      "\n",
      "real\t0m0.005s\n",
      "user\t0m0.002s\n",
      "sys\t0m0.001s\n"
     ]
    }
   ],
   "source": [
    "!time ./apriori datasets/titanic-red.csv -s20 -el\n",
    "!time ./fpgrowth datasets/titanic-red.csv -s20 -el"
   ]
  },
  {
   "cell_type": "code",
   "execution_count": 67,
   "metadata": {},
   "outputs": [
    {
     "name": "stdout",
     "output_type": "stream",
     "text": [
      "./apriori - find frequent item sets with the apriori algorithm\n",
      "version 6.30 (2020.01.09)        (c) 1996-2022   Christian Borgelt\n",
      "reading datasets/mushrooms.txt ... [70 item(s), 8416 transaction(s)] done [0.01s].\n",
      "filtering, sorting and recoding items ... [4 item(s)] done [0.00s].\n",
      "sorting and reducing transactions ... [4/8416 transaction(s)] done [0.00s].\n",
      "building transaction tree ... [6 node(s)] done [0.00s].\n",
      "checking subsets of size 1 2 3 4 done [0.00s].\n",
      "writing <null> ... [11 set(s)] done [0.00s].\n",
      "\n",
      "real\t0m0.021s\n",
      "user\t0m0.014s\n",
      "sys\t0m0.004s\n",
      "./fpgrowth - find frequent item sets with the fpgrowth algorithm\n",
      "version 6.20 (2022.01.09)        (c) 2004-2022   Christian Borgelt\n",
      "reading datasets/mushrooms.txt ... [70 item(s), 8416 transaction(s)] done [0.01s].\n",
      "filtering, sorting and recoding items ... [4 item(s)] done [0.00s].\n",
      "sorting and reducing transactions ... [4/8416 transaction(s)] done [0.00s].\n",
      "finding frequent item set(s) ... done [0.00s].\n",
      "writing <null> ... [11 set(s)] done [0.00s].\n",
      "\n",
      "real\t0m0.017s\n",
      "user\t0m0.013s\n",
      "sys\t0m0.002s\n"
     ]
    }
   ],
   "source": [
    "!time ./apriori datasets/mushrooms.txt -s90 -el\n",
    "!time ./fpgrowth datasets/mushrooms.txt -s90 -el"
   ]
  },
  {
   "cell_type": "markdown",
   "metadata": {},
   "source": [
    "> On peut constater que fpgrowth est legerement plus efficace qu'apriori"
   ]
  },
  {
   "cell_type": "markdown",
   "metadata": {},
   "source": [
    "<font color=\"RED\" size=\"+1\">**[Q]**</font>  En essayant différentes valeurs de seuil, tester la génération de règles d'association intéressantes sur les bases de données fournies."
   ]
  },
  {
   "cell_type": "code",
   "execution_count": null,
   "metadata": {},
   "outputs": [],
   "source": []
  },
  {
   "cell_type": "markdown",
   "metadata": {},
   "source": [
    "## Annexes: utilisation des exécutables *apriori* et *fpgrowth*\n",
    "\n",
    "La documentation complète de ces programmes est disponible aux URL suivantes:\n",
    "- pour *apriori*: http://www.borgelt.net/doc/apriori/apriori.html\n",
    "- pour *fp-growth*: http://www.borgelt.net/doc/fpgrowth/fpgrowth.html\n",
    "\n",
    "\n",
    "Leur format d'utilisation général est:\n",
    "\n",
    "        ./<programme> [options] infile [outfile]\n",
    "\n",
    "(où <<code>programme</code>> est soit *apriori*, soit *fpgrowth*).\n",
    "\n",
    "Les options de base de ces 2 programmes sont:\n",
    "- sans argument: génération des itemsets fréquents (argument {<code>-ts</code> activé par défaut)\n",
    "- *tr*: pour obtenir les règles d'associations\n",
    "- *s*: pour fournir une valeur minimale de support. Le support est ici donné en valeur absolue ($n_{AB}$) et non pas en valeur relative ($\\frac{n_{AB}}{n}$).\n",
    "- *m*: pour fournir un nombre minimum d'items dans un itemset\n",
    "- *n*: pour fournir un nombre maximum d'items dans un itemset\n",
    "\n",
    "\n",
    "Par exemple (commandes lancées dans le répertoire père du répertoire *datasets/*):\n",
    "\n",
    "        ./apriori -trs50m2n5 datasets/exemple-1.txt fichier-resultat.out  \n",
    "        ./fpgrowth -trs50m2n5 datasets/mushrooms.txt fichier-resultat.out  \n"
   ]
  },
  {
   "cell_type": "code",
   "execution_count": null,
   "metadata": {},
   "outputs": [],
   "source": []
  }
 ],
 "metadata": {
  "kernelspec": {
   "display_name": "Python 3",
   "language": "python",
   "name": "python3"
  },
  "language_info": {
   "codemirror_mode": {
    "name": "ipython",
    "version": 3
   },
   "file_extension": ".py",
   "mimetype": "text/x-python",
   "name": "python",
   "nbconvert_exporter": "python",
   "pygments_lexer": "ipython3",
   "version": "3.7.4"
  }
 },
 "nbformat": 4,
 "nbformat_minor": 1
}
