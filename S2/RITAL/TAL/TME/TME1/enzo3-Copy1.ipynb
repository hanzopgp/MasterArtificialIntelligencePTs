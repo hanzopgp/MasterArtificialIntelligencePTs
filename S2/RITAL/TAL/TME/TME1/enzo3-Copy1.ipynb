{
 "cells": [
  {
   "cell_type": "markdown",
   "id": "a9a2ee77-b525-45b9-ae3b-fc60ecfe82bd",
   "metadata": {},
   "source": [
    "# I) General"
   ]
  },
  {
   "cell_type": "markdown",
   "id": "53d94991-0b5a-4f2c-ae45-4ef4e3044fc9",
   "metadata": {},
   "source": [
    "## 1. Importations"
   ]
  },
  {
   "cell_type": "code",
   "execution_count": 3,
   "id": "c2624ab3-0e87-4aec-965a-0c167f72b323",
   "metadata": {},
   "outputs": [],
   "source": [
    "import numpy as np\n",
    "import matplotlib.pyplot as plt\n",
    "import pandas as pd\n",
    "import codecs\n",
    "import re\n",
    "import os.path\n",
    "import random\n",
    "import string\n",
    "import re\n",
    "import unicodedata\n",
    "from time import time\n",
    "from tqdm import tqdm\n",
    "\n",
    "import nltk\n",
    "from nltk.corpus import stopwords\n",
    "from nltk.stem.snowball import SnowballStemmer\n",
    "\n",
    "from sklearn.svm import SVC\n",
    "from sklearn.naive_bayes import MultinomialNB\n",
    "from sklearn.linear_model import LogisticRegression\n",
    "from sklearn.svm import LinearSVC\n",
    "from sklearn.metrics import confusion_matrix, classification_report, accuracy_score, f1_score, roc_auc_score\n",
    "from sklearn.model_selection import train_test_split, GridSearchCV, StratifiedKFold\n",
    "from sklearn.feature_extraction.text import CountVectorizer, TfidfVectorizer, TfidfTransformer\n",
    "from sklearn.pipeline import Pipeline\n",
    "from sklearn.ensemble import RandomForestClassifier, VotingClassifier\n",
    "import sklearn.naive_bayes as nb\n",
    "\n",
    "from wordcloud import WordCloud\n",
    "\n",
    "import warnings\n",
    "warnings.filterwarnings(\"ignore\")"
   ]
  },
  {
   "cell_type": "markdown",
   "id": "59e47be5-218d-4c0f-8466-cb4909407d97",
   "metadata": {},
   "source": [
    "# II) First data set french presidents"
   ]
  },
  {
   "cell_type": "markdown",
   "id": "64ef1384-0481-4808-9ec6-7ce5a81d34f6",
   "metadata": {},
   "source": [
    "## 1. Data visualization"
   ]
  },
  {
   "cell_type": "code",
   "execution_count": 4,
   "id": "14039a68-9a44-4cad-8d4a-ee31bd1b4daa",
   "metadata": {},
   "outputs": [],
   "source": [
    "def load_pres(fname):\n",
    "    alltxts = []\n",
    "    alllabs = []\n",
    "    s=codecs.open(fname, 'r','utf-8')\n",
    "    while True:\n",
    "        txt = s.readline()\n",
    "        if(len(txt))<5:\n",
    "            break\n",
    "        lab = re.sub(r\"<[0-9]*:[0-9]*:(.)>.*\",\"\\\\1\",txt)\n",
    "        txt = re.sub(r\"<[0-9]*:[0-9]*:.>(.*)\",\"\\\\1\",txt)\n",
    "        if lab.count('M') >0:\n",
    "            alllabs.append(-1)\n",
    "        else: \n",
    "            alllabs.append(1)\n",
    "        alltxts.append(txt)\n",
    "    return alltxts,alllabs"
   ]
  },
  {
   "cell_type": "code",
   "execution_count": 5,
   "id": "6514b486-277f-4599-a9ea-370483f067a5",
   "metadata": {},
   "outputs": [],
   "source": [
    "def preprocessing(X):\n",
    "    res = []\n",
    "    for doc in X:\n",
    "        punc = string.punctuation\n",
    "        punc += '\\n\\r\\t'\n",
    "        doc = doc.translate(str.maketrans(punc, ' ' * len(punc)))\n",
    "        doc = unicodedata.normalize('NFD', doc).encode('ascii', 'ignore').decode(\"utf-8\")\n",
    "        doc = doc.lower()\n",
    "        doc = re.sub('[0-9]+', '', doc)\n",
    "        res.append(doc)\n",
    "    return np.array(res)\n",
    "\n",
    "def formal(X):\n",
    "    stemmer = SnowballStemmer(language='french')\n",
    "#     nltk.download('stopwords')\n",
    "    res = []\n",
    "    stop = stopwords.words('french')\n",
    "    for doc in X:\n",
    "        new_doc = \"\"\n",
    "        for w in doc.split():\n",
    "            if w not in stop:\n",
    "                new_doc += w + \" \"\n",
    "        new_doc = [stemmer.stem(X) for X in new_doc.split()]\n",
    "        new_doc = \" \".join(new_doc)\n",
    "        res.append(new_doc)\n",
    "    return res\n",
    "\n",
    "def flatten(A):\n",
    "    rt = []\n",
    "    for i in A:\n",
    "        if isinstance(i,list): \n",
    "            rt.extend(flatten(i))\n",
    "        else: \n",
    "            rt.append(i)\n",
    "    return rt"
   ]
  },
  {
   "cell_type": "code",
   "execution_count": 6,
   "id": "4aebd144-5d1c-4ac8-8690-806b833dd9c3",
   "metadata": {},
   "outputs": [],
   "source": [
    "def result_for_pandas(vectorizer,clf,X_train,X_test,Y_train,Y_test,windows=10,threshold=0.5):\n",
    "#def result_for_pandas(vectorizer,final,X_train_final,X_test_final,Y_train_final,Y_test_final):\n",
    "    #X_final_vector = vectorizer.fit_transform(X_train_final)\n",
    "    #X_test_vector = vectorizer.transform(X_test_final)\n",
    "    #final.fit(X_final_vector,  Y_train_final)\n",
    "    #grid_predictions = final.predict(X_test_vector)\n",
    "    \n",
    "    X_train_2 = vectorizer.fit_transform(X_train,y_train)\n",
    "    X_test_2 = vectorizer.transform(X_test)\n",
    "\n",
    "    #clf = sv.LinearSVC(C=100, class_weight=\"balanced\")\n",
    "    X_train_3 = clf.fit(X_train_2,y_train)\n",
    "    y_pred = clf.predict(X_test_2)\n",
    "    #y_pred = final_postprocessing(y_pred, windows, threshold)\n",
    "    #classification_report(y_test,y_pred)\n",
    "    #return classification_report(Y_test_final, grid_predictions,output_dict=True),X_final_vector\n",
    "    return classification_report(y_test, y_pred,output_dict=True),X_train_2\n",
    "\n",
    "\n",
    "def result_for_graphic_min_max_df(liste_x,liste_y,final,X_train_final,X_test_final,Y_train_final,Y_test_final,dico_param,windows=10,threshold=0.5):\n",
    "    result = []\n",
    "    f1_score_0 = 0.;f1_score_1=0.;recall_0= 0.;recall_1= 0.;precision_0= 0.;precision_1= 0.;nb_mot= 0.\n",
    "    \n",
    "    for i in liste_x:\n",
    "        temps = []\n",
    "        for j in liste_y:\n",
    "            try :\n",
    "                vectorizer_exp = TfidfVectorizer(\n",
    "                    lowercase=dico_param[\"lowercase\"],\n",
    "                     stop_words=dico_param[\"stop_words\"],\n",
    "                     strip_accents=dico_param[\"strip_accents\"],\n",
    "                     # use_idf=dico_param[\"use_idf\"],\n",
    "                     # smooth_idf=dico_param[\"smooth_idf\"],\n",
    "                     #sublinear_tf=dico_param[\"sublinear_tf\"],\n",
    "                     max_features=dico_param[\"max_features\"],\n",
    "                     min_df=i,\n",
    "                     max_df=j,\n",
    "                     ngram_range=dico_param[\"ngram_range\"],\n",
    "                              )\n",
    "\n",
    "                results,vect_temps = result_for_pandas(vectorizer_exp,final,X_train_final,X_test_final,Y_train_final,Y_test_final,windows=10,threshold=0.5)\n",
    "                pds = pd.DataFrame(results)\n",
    "                f1_score_0 = pds.loc[\"f1-score\"][\"-1\"]\n",
    "                f1_score_1 = pds.loc[\"f1-score\"][\"1\"]\n",
    "                recall_0 = pds.loc[\"recall\"][\"-1\"]\n",
    "                recall_1 = pds.loc[\"recall\"][\"1\"]\n",
    "                precision_0 = pds.loc[\"precision\"][\"-1\"]\n",
    "                precision_1 = pds.loc[\"precision\"][\"1\"]\n",
    "                nb_mot = vect_temps.shape[1]\n",
    "                temps.append((f1_score_0,f1_score_1,recall_0,recall_1,precision_0,precision_1,nb_mot))\n",
    "            except : #Case where max_df < min_df\n",
    "                temps.append((f1_score_0,f1_score_1,recall_0,recall_1,precision_0,precision_1,nb_mot))\n",
    "        result.append(temps)\n",
    "    \n",
    "    for i in range(len(result)) :\n",
    "        for j in range(1,len(result[i])):\n",
    "            if result[i][j] == 0.0 :\n",
    "                result[i][j] = result[i][j-1]\n",
    "    return np.array(result)\n",
    "\n",
    "def display_min_max_df(liste_x,liste_y,result,nom_fichier):\n",
    "    ind = 1\n",
    "    plt.figure(figsize=(20,20))      \n",
    "    for i,val in enumerate(result) :\n",
    "        plt.subplot(4,4,ind)\n",
    "\n",
    "        plt.plot(liste_y,np.array(result[i])[:,0],label=f\"f1-score -1\")\n",
    "        plt.plot(liste_y,np.array(result[i])[:,1],label=f\"f1-score 1\")\n",
    "        plt.plot(liste_y,np.array(result[i])[:,2],label=f\"recall -1\")\n",
    "        plt.plot(liste_y,np.array(result[i])[:,3],label=f\"recall 1\")\n",
    "        plt.plot(liste_y,np.array(result[i])[:,4],label=f\"precision -1\")\n",
    "        plt.plot(liste_y,np.array(result[i])[:,5],label=f\"precision 1\")\n",
    "\n",
    "        plt.title(f\"Min_df = {liste_x[i]:.5f}\")\n",
    "        plt.xlabel(\"Max_df\")\n",
    "        plt.ylabel(\"Score\") # based function Max_df\n",
    "        plt.legend(bbox_to_anchor=(1.0,1.0),loc='upper left')\n",
    "        ind += 1\n",
    "    plt.savefig(nom_fichier)\n",
    "\n",
    "def display_nb_mot_min_max_df(liste_x,liste_y,result,nom_fichier):\n",
    "    ind = 1\n",
    "    plt.figure(figsize=(20,20))      \n",
    "    for i,val in enumerate(result) :\n",
    "        plt.subplot(4,4,ind)\n",
    "        plt.plot(liste_y,np.array(result[i])[:,-1],label=f\"Nombre de mot\")\n",
    "\n",
    "        plt.title(f\"Min_df = {liste_x[i]}.5f\")\n",
    "        plt.xlabel(\"Max_df\")\n",
    "        plt.ylabel(\"Nombre de mot\") # based function Max_df\n",
    "        plt.legend(bbox_to_anchor=(1.0,1.0),loc='upper left')\n",
    "        ind += 1\n",
    "    plt.savefig(nom_fichier)\n",
    "\n",
    "def result_for_graphic_n_gram(liste_z,final,X_train_final,X_test_final,Y_train_final,Y_test_final,dico_param,windows=10,threshold=0.5):\n",
    "    result_n_gram = []\n",
    "    for n in liste_z:\n",
    "        vectorizer_exp = TfidfVectorizer(\n",
    "            lowercase=dico_param[\"lowercase\"],\n",
    "         stop_words=dico_param[\"stop_words\"],\n",
    "         strip_accents=dico_param[\"strip_accents\"],\n",
    "          #use_idf=dico_param[\"use_idf\"],\n",
    "          #smooth_idf=dico_param[\"smooth_idf\"],\n",
    "         #sublinear_tf=dico_param[\"sublinear_tf\"],\n",
    "         max_features=dico_param[\"max_features\"],\n",
    "         min_df=dico_param[\"min_df\"],\n",
    "         max_df=dico_param[\"max_df\"],\n",
    "         ngram_range=n,\n",
    "         )\n",
    "            \n",
    "        results,vect_temps = result_for_pandas(vectorizer_exp,final,X_train_final,X_test_final,Y_train_final,Y_test_final,windows=10,threshold=0.5)\n",
    "        pds = pd.DataFrame(results)\n",
    "        f1_score_0 = pds.loc[\"f1-score\"][\"-1\"]\n",
    "        f1_score_1 = pds.loc[\"f1-score\"][\"1\"]\n",
    "        recall_0 = pds.loc[\"recall\"][\"-1\"]\n",
    "        recall_1 = pds.loc[\"recall\"][\"1\"]\n",
    "        precision_0 = pds.loc[\"precision\"][\"-1\"]\n",
    "        precision_1 = pds.loc[\"precision\"][\"1\"]\n",
    "        nb_mot = vect_temps.shape[1]\n",
    "        result_n_gram.append((f1_score_0,f1_score_1,recall_0,recall_1,precision_0,precision_1,nb_mot))\n",
    "    return np.array(result_n_gram)\n",
    "\n",
    "def display_nb_mot_score_n_gram(liste_z,result_n_gram,nom_fichier):\n",
    "    ind = 1\n",
    "    plt.figure(figsize=(10,10))      \n",
    "    for i,val in enumerate(result_n_gram) :\n",
    "        plt.subplot(1,3,ind)\n",
    "        plt.scatter(np.array(result_n_gram[i])[-1],np.array(result_n_gram[i])[0],label=f\"f1-score -1\")\n",
    "        plt.scatter(np.array(result_n_gram[i])[-1],np.array(result_n_gram[i])[1],label=f\"f1-score 1\")\n",
    "        plt.scatter(np.array(result_n_gram[i])[-1],np.array(result_n_gram[i])[2],label=f\"recall -1\")\n",
    "        plt.scatter(np.array(result_n_gram[i])[-1],np.array(result_n_gram[i])[3],label=f\"recall 1\")\n",
    "        plt.scatter(np.array(result_n_gram[i])[-1],np.array(result_n_gram[i])[4],label=f\"precision -1\")\n",
    "        plt.scatter(np.array(result_n_gram[i])[-1],np.array(result_n_gram[i])[5],label=f\"precision 1\")\n",
    "\n",
    "        plt.title(f\"N-gram = {liste_z[i]}\")\n",
    "        plt.xlabel(\"N-gram\")\n",
    "        plt.ylabel(\"Score\") \n",
    "        plt.legend(bbox_to_anchor=(1.0,1.0),loc='upper left')\n",
    "        ind += 1\n",
    "    plt.savefig(nom_fichier)\n",
    "    \n",
    "def display_graphic_analysis(dico_param,liste_x,liste_y,liste_z,final_model,X_train_final,X_test_final,Y_train_final,Y_test_final,name_data):\n",
    "    result = result_for_graphic_min_max_df(liste_x,liste_y,final_model,X_train_final,X_test_final,Y_train_final,Y_test_final,dico_param)\n",
    "    display_min_max_df(liste_x,liste_y,result,f'{name_data}_min_df_max_df_f1_score.png')\n",
    "    display_nb_mot_min_max_df(liste_x,liste_y,result,f'{name_data}_min_df_max_df_nombre_mot.png')\n",
    "    result_n_gram = result_for_graphic_n_gram(liste_z,final_model,X_train_final,X_test_final,Y_train_final,Y_test_final,dico_param)\n",
    "    display_nb_mot_score_n_gram(liste_z,result_n_gram,f\"{name_data}_n_gram_f1_score_nb_mot\")"
   ]
  },
  {
   "cell_type": "code",
   "execution_count": 7,
   "id": "0415e735-c91e-45c2-8e74-4f6e68516679",
   "metadata": {},
   "outputs": [],
   "source": [
    "fname = \"./data/corpus.tache1.learn.utf8\"\n",
    "alltxts,alllabs = load_pres(fname)\n",
    "\n",
    "vectorizer = TfidfVectorizer(lowercase=False,\n",
    "                                 stop_words=None,\n",
    "                                 strip_accents=None,\n",
    "                                 # use_idf=True,\n",
    "                                 # smooth_idf=True,\n",
    "                                 # sublinear_tf=False,\n",
    "                             \n",
    "                                 max_features=50_000,\n",
    "                                 min_df=1,\n",
    "                                 max_df=0.5,\n",
    "                                 ngram_range=(1,2),\n",
    "                                 )\n",
    "clf = LinearSVC(class_weight=\"balanced\",\n",
    "                      max_iter=10_000,\n",
    "                C=1.15)\n",
    "\n",
    "X_train,X_test,y_train,y_test = train_test_split(alltxts,alllabs,test_size=0.33,random_state=1)\n",
    "    \n",
    "dico_param = {\"lowercase\":False,\n",
    "     \"stop_words\":None,\n",
    "     \"strip_accents\":None,\n",
    "      #\"use_idf\":True,\n",
    "      #\"smooth_idf\":False,\n",
    "     #\"sublinear_tf\":True,\n",
    "     \"max_features\":50_000,\n",
    "     \"min_df\":1,\n",
    "     \"max_df\":0.5,\n",
    "     \"ngram_range\":(1,2)\n",
    "    } #Param's optimal\n",
    "\n",
    "liste_x = np.arange(1,32,2) #min_df\n",
    "liste_y = np.linspace(0.01,1,16) #max_df\n",
    "liste_z = [(1,1),(1,2),(2,2)] #n_gram\n",
    "\n",
    "# display_graphic_analysis(dico_param,liste_x,liste_y,liste_z,clf,X_train,X_test,y_train,y_test,\"president\")"
   ]
  },
  {
   "cell_type": "code",
   "execution_count": 8,
   "id": "ced27408-0e58-44f9-ab5e-6cc88bc0e6f2",
   "metadata": {},
   "outputs": [],
   "source": [
    "fname = \"./data/corpus.tache1.learn.utf8\"\n",
    "alltxts, alllabs = load_pres(fname)\n",
    "X = np.array(alltxts)[:1000]\n",
    "Y = np.array(alllabs)[:1000]\n",
    "X_preprocess = preprocessing(X)\n",
    "X_train = formal(X_preprocess)"
   ]
  },
  {
   "cell_type": "code",
   "execution_count": 9,
   "id": "42464ac7-5026-406d-8f21-afbbd19e6ade",
   "metadata": {},
   "outputs": [
    {
     "data": {
      "image/png": "[encoded data removed]",
      "text/plain": [
       "<Figure size 432x288 with 1 Axes>"
      ]
     },
     "metadata": {
      "needs_background": "light"
     },
     "output_type": "display_data"
    }
   ],
   "source": [
    "words = \"\".join(flatten(X))\n",
    "wordcloud = WordCloud(background_color='white', max_words=200).generate(words)\n",
    "plt.imshow(wordcloud)\n",
    "plt.axis(\"off\")\n",
    "plt.show()"
   ]
  },
  {
   "cell_type": "code",
   "execution_count": 10,
   "id": "7fe5d6b1-a627-4e6f-a4c6-0aae4666b96b",
   "metadata": {},
   "outputs": [
    {
     "name": "stdout",
     "output_type": "stream",
     "text": [
      "[9.99995000e-06 9.99995000e-06 9.99995000e-06 ... 6.56948143e+00\n",
      " 6.72022017e+00 7.12689082e+00]\n",
      "['insiste' 'malabar' 'malentendus' ... 'et' 'la' 'de']\n"
     ]
    },
    {
     "data": {
      "image/png": "[encoded data removed]",
      "text/plain": [
       "<Figure size 576x576 with 1 Axes>"
      ]
     },
     "metadata": {
      "needs_background": "light"
     },
     "output_type": "display_data"
    }
   ],
   "source": [
    "words = \"\".join(flatten(X_preprocess))\n",
    "unique_words, count = np.unique(words.split(), return_counts=True)\n",
    "count = np.log(count+1e-5)\n",
    "\n",
    "count_sort_ind = np.argsort(count)\n",
    "unique_words = unique_words[count_sort_ind]\n",
    "count = np.sort(count)\n",
    "print(count)\n",
    "print(unique_words)\n",
    "\n",
    "fig = plt.figure(figsize=(8,8))\n",
    "ax = fig.add_axes([0,0,1,1])\n",
    "ax.bar(np.arange(len(count)),np.log(count))\n",
    "plt.title(\"Log du nombre d'apparition / mot\")\n",
    "plt.show()"
   ]
  },
  {
   "cell_type": "code",
   "execution_count": 11,
   "id": "8e9c73f4-3575-44ae-b7c4-7a40e6882cbe",
   "metadata": {},
   "outputs": [
    {
     "name": "stdout",
     "output_type": "stream",
     "text": [
      "[   1    1    1 ...  713  829 1245]\n",
      "['insiste' 'malabar' 'malentendus' ... 'et' 'la' 'de']\n"
     ]
    },
    {
     "data": {
      "image/png": "[encoded data removed]",
      "text/plain": [
       "<Figure size 720x720 with 1 Axes>"
      ]
     },
     "metadata": {
      "needs_background": "light"
     },
     "output_type": "display_data"
    }
   ],
   "source": [
    "unique_words, count = np.unique(words.split(), return_counts=True)\n",
    "\n",
    "count_sort_ind = np.argsort(count)\n",
    "unique_words = unique_words[count_sort_ind]\n",
    "count = np.sort(count)\n",
    "print(count)\n",
    "print(unique_words)\n",
    "\n",
    "fig = plt.figure(figsize=(10,10))\n",
    "ax = fig.add_axes([0,0,1,1])\n",
    "ax.bar(unique_words[len(count)-25:],count[len(count)-25:])\n",
    "plt.title(\"Nombre d'apparition / mot les plus frequent\")\n",
    "plt.show()"
   ]
  },
  {
   "cell_type": "markdown",
   "id": "2d23de8a-b2a7-487d-a3d1-1ec6569dc8fe",
   "metadata": {},
   "source": [
    "## 2. Features and model selection"
   ]
  },
  {
   "cell_type": "code",
   "execution_count": 12,
   "id": "f73ba526-ea80-42ed-b487-086291f9e3d8",
   "metadata": {},
   "outputs": [],
   "source": [
    "def naive_balancing(X, Y):\n",
    "    label, count = np.unique(Y, return_counts=True)\n",
    "    idx_pos = np.where(Y == 1, True, False)\n",
    "    Y_pos = Y[idx_pos]\n",
    "    Y_pos = Y_pos[:count.min()]\n",
    "    idx_neg = np.where(Y == -1, True, False)\n",
    "    Y_neg = Y[idx_neg]\n",
    "    new_Y = np.concatenate((Y_pos, Y_neg))\n",
    "    new_X = np.concatenate((X[:count.min()], X[idx_neg]))    \n",
    "    tmp = list(zip(new_X, new_Y))\n",
    "    random.shuffle(tmp)\n",
    "    new_X, new_Y = zip(*tmp)  \n",
    "    label, count = np.unique(new_Y, return_counts=True)\n",
    "    print(label, count)\n",
    "    return new_X, new_Y\n",
    "\n",
    "def get_all_data_vectorized(X, X_test, Y, Y_test, vectorizer, transformer=None):\n",
    "    X_vector = vectorizer.fit_transform(X)\n",
    "    if transformer is not None:\n",
    "        transformer = transformer.fit(X_vector)\n",
    "        X_final = transformer.transform(X_vector)\n",
    "    else:\n",
    "        X_final = X_vector\n",
    "    X_test_vector = vectorizer.transform(X_test)\n",
    "    return X_final, X_test_vector, Y, Y_test\n",
    "\n",
    "def get_inf_acc(predictions, Y_test):\n",
    "    idx_inf = np.where(predictions==-1, True, False)\n",
    "    tmp_pred = predictions[idx_inf]\n",
    "    tmp_real = Y_test[idx_inf]\n",
    "    cpt = 0\n",
    "    for i in range(len(tmp_pred)):\n",
    "        if tmp_pred[i] == tmp_real[i]:\n",
    "            cpt += 1\n",
    "    return np.round((cpt/len(tmp_pred))*100, 2)\n",
    "\n",
    "def get_sup_acc(predictions, Y_test):\n",
    "    idx_inf = np.where(predictions==1, True, False)\n",
    "    tmp_pred = predictions[idx_inf]\n",
    "    tmp_real = Y_test[idx_inf]\n",
    "    cpt = 0\n",
    "    for i in range(len(tmp_pred)):\n",
    "        if tmp_pred[i] == tmp_real[i]:\n",
    "            cpt += 1\n",
    "    return np.round((cpt/len(tmp_pred))*100, 2)\n",
    "\n",
    "def display_infos(clf, X_test, Y_test):\n",
    "    # Check le nombre de predictions pour chaque label\n",
    "    predictions = clf.predict(X_test)\n",
    "    unique, counts = np.unique(predictions, return_counts=True)\n",
    "    print(\"/!\\ Prediction counts for label \", unique, \" --> \", counts)\n",
    "    # Check le nombre de predictions pour chaque label\n",
    "    unique, counts = np.unique(Y_test, return_counts=True)\n",
    "    print(\"/!\\ Ground truth counts for label \", unique, \" --> \", counts)\n",
    "    # Check la precision du label en inferiorite\n",
    "    acc = get_inf_acc(predictions, Y_test)\n",
    "    print(\"/!\\ Accuracy of inferior label :\", acc, \"%\")\n",
    "    # Check la precision du label en superiorite\n",
    "    acc = get_sup_acc(predictions, Y_test)\n",
    "    print(\"/!\\ Accuracy of superior label :\", acc, \"%\\n\")\n",
    "    \n",
    "def display_model_scores(model, X_test, Y_test, search=True):\n",
    "    if search:\n",
    "        best_parameters = model.best_estimator_.get_params()\n",
    "        for param_name in sorted(best_parameters.keys()):\n",
    "            print(\"--->%s: %r\" % (param_name, best_parameters[param_name]))\n",
    "        # print(model.best_score_)\n",
    "    grid_predictions = model.predict(X_test)\n",
    "    print(confusion_matrix(Y_test, grid_predictions))\n",
    "    print(classification_report(Y_test, grid_predictions))\n",
    "    \n",
    "def stemm(X):\n",
    "    stemmer = SnowballStemmer(\"french\")\n",
    "    stem = stemmer.stem(X)\n",
    "    return X"
   ]
  },
  {
   "cell_type": "markdown",
   "id": "4eaaa19b-3d06-4215-beec-ef2b8247525d",
   "metadata": {},
   "source": [
    "### --> Loading and splitting data"
   ]
  },
  {
   "cell_type": "code",
   "execution_count": 13,
   "id": "d7dc8537-0303-4c38-ba50-8809c3d5f31e",
   "metadata": {},
   "outputs": [
    {
     "name": "stdout",
     "output_type": "stream",
     "text": [
      "45930\n",
      "11483\n"
     ]
    }
   ],
   "source": [
    "fname = \"./data/corpus.tache1.learn.utf8\"\n",
    "alltxts, alllabs = load_pres(fname)\n",
    "X = np.array(alltxts)\n",
    "Y = np.array(alllabs)\n",
    "# new_X, new_Y = naive_balancing(X,Y)\n",
    "X_train, X_test, Y_train, Y_test = train_test_split(X, Y, test_size=0.2, shuffle=False) # Test avec new_X, new_Y\n",
    "train_size = len(X_train)\n",
    "test_size = len(X_test)\n",
    "print(train_size)\n",
    "print(test_size)"
   ]
  },
  {
   "cell_type": "markdown",
   "id": "5c7ea3b5-4819-4df4-9682-595978e58abd",
   "metadata": {},
   "source": [
    "### --> Stemming"
   ]
  },
  {
   "cell_type": "code",
   "execution_count": 14,
   "id": "1f2db072-2ff9-4a52-9ec2-c465a5090161",
   "metadata": {},
   "outputs": [],
   "source": [
    "# print(len(X_train))\n",
    "# stemmer = snowballstemmer.stemmer('french');\n",
    "# for i in range(len(X_train)):\n",
    "#     stemmer.stemWords(X_train[i].split()[j] for j in range(len(X_train[i].split())))\n",
    "# print(np.array(X_train).shape)\n",
    "# for i in range(len(X_test)):\n",
    "#     stemmer.stemWords(X_test[i].split()[j] for j in range(len(X_test[i].split())))"
   ]
  },
  {
   "cell_type": "markdown",
   "id": "ece7252b-9395-4062-9f86-b120bda61e56",
   "metadata": {},
   "source": [
    "### --> Feature selection depending the model selected"
   ]
  },
  {
   "cell_type": "code",
   "execution_count": 15,
   "id": "6d043459-0dc2-4e8e-aa58-49c041fa63bb",
   "metadata": {},
   "outputs": [],
   "source": [
    "search = False\n",
    "sw = stopwords.words('french')\n",
    "\n",
    "if search :\n",
    "    \n",
    "    pipeline_svc = Pipeline(\n",
    "        [\n",
    "            (\"vect\", TfidfVectorizer(max_features=100_000)), # avoids overfit on train set (having more features than individuals is bad most of the time)\n",
    "            (\"clf\", LinearSVC(class_weight=\"balanced\", # balanced class weight parameter is mandatory in our case\n",
    "                              max_iter=1000, # also avoids overfit\n",
    "                              C=100)) # regularization so the model doesn't predict only one class  \n",
    "        ]\n",
    "    )\n",
    "    # pipeline_nb = Pipeline(\n",
    "    #     [\n",
    "    #         (\"vect\", TfidfVectorizer(max_features=80_000)),\n",
    "    #         (\"clf\", MultinomialNB())      \n",
    "    #     ]\n",
    "    # )\n",
    "    # pipeline_lr = Pipeline(\n",
    "    #     [\n",
    "    #         (\"vect\", TfidfVectorizer(max_features=50_000)),\n",
    "    #         (\"clf\", LogisticRegression(class_weight=\"balanced\",\n",
    "    #                                    max_iter=1000,\n",
    "    #                                    C=100))        \n",
    "    #     ]\n",
    "    # )\n",
    "    parameters_vectorizer = {\n",
    "        \"vect__lowercase\": (False,),\n",
    "        \"vect__stop_words\": (None,),\n",
    "        \"vect__strip_accents\": (\"ascii\",),\n",
    "        \"vect__use_idf\": (True,),\n",
    "        \"vect__smooth_idf\": (False,),\n",
    "        \"vect__sublinear_tf\": (True,),\n",
    "        \n",
    "        \"vect__min_df\": (1,),\n",
    "        \"vect__max_df\": np.arange(0.4,0.6,0.05), # max_df seems to occur before max_features ?\n",
    "        \"vect__ngram_range\": [(1, 2),],\n",
    "        }\n",
    "    \n",
    "    strat_kfold = StratifiedKFold(n_splits=3, shuffle=True)\n",
    "\n",
    "    grid_search_parameters_svc = GridSearchCV(pipeline_svc, \n",
    "                                              parameters_vectorizer, \n",
    "                                              scoring=\"f1_micro\", # test \"rog_auc\", \"f1_micro\"\n",
    "                                              n_jobs=8, \n",
    "                                              verbose=3, \n",
    "                                              cv=strat_kfold,\n",
    "                                              refit=True\n",
    "                                              )\n",
    "    # grid_search_parameters_nb = GridSearchCV(pipeline_nb, \n",
    "    #                                           parameters_vectorizer, \n",
    "    #                                           scoring=\"f1\",\n",
    "    #                                           n_jobs=8, \n",
    "    #                                           verbose=3, \n",
    "    #                                           cv=strat_kfold,\n",
    "    #                                           refit=True\n",
    "    #                                           )\n",
    "    # grid_search_parameters_lr = GridSearchCV(pipeline_lr, \n",
    "    #                                           parameters_vectorizer, \n",
    "    #                                           scoring=\"f1\", \n",
    "    #                                           n_jobs=8, \n",
    "    #                                           verbose=3, \n",
    "    #                                           cv=strat_kfold,\n",
    "    #                                           refit=True\n",
    "    #                                           )\n",
    "    \n",
    "    print(\"============================================= SVC + VECTORIZER =============================================\")\n",
    "    t0 = time()\n",
    "    grid_search_parameters_svc.fit(X_train, Y_train)\n",
    "    print(\"done in %0.3fs\" % (time() - t0))\n",
    "    display_model_scores(grid_search_parameters_svc, X_train, Y_train) # check overfit X_train\n",
    "    display_model_scores(grid_search_parameters_svc, X_test, Y_test)\n",
    "    \n",
    "#     print(\"============================================= NB + VECTORIZER =============================================\")\n",
    "#     t0 = time()\n",
    "#     grid_search_parameters_nb.fit(X_train, Y_train)\n",
    "#     print(\"done in %0.3fs\" % (time() - t0))\n",
    "#     display_model_scores(grid_search_parameters_nb, X_train, Y_train)\n",
    "#     display_model_scores(grid_search_parameters_nb, X_test, Y_test) \n",
    "    \n",
    "    # print(\"============================================= LR + VECTORIZER =============================================\")\n",
    "    # t0 = time()\n",
    "    # grid_search_parameters_lr.fit(X_train, Y_train)\n",
    "    # print(\"done in %0.3fs\" % (time() - t0))\n",
    "    # display_model_scores(grid_search_parameters_lr, X_train, Y_train)\n",
    "    # display_model_scores(grid_search_parameters_lr, X_test, Y_test) "
   ]
  },
  {
   "cell_type": "code",
   "execution_count": 16,
   "id": "c0330726-67ec-419b-914a-6d42e4e27396",
   "metadata": {},
   "outputs": [],
   "source": [
    "# display_model_scores(grid_search_parameters_svc, X_test, Y_test)\n",
    "# display_model_scores(grid_search_parameters_nb, X_test, Y_test)\n",
    "# display_model_scores(grid_search_parameters_lr, X_test, Y_test)"
   ]
  },
  {
   "cell_type": "markdown",
   "id": "e0829553-7d75-4619-ae11-a2b9bdf6b67e",
   "metadata": {},
   "source": [
    "### --> Building optimal vectorizer for each model"
   ]
  },
  {
   "cell_type": "code",
   "execution_count": 17,
   "id": "0dbc5c7a-2a6b-44d4-823a-9e95a4dd584e",
   "metadata": {},
   "outputs": [
    {
     "name": "stdout",
     "output_type": "stream",
     "text": [
      "(45930, 100000)\n",
      "(45930, 12920)\n",
      "(45930, 50000)\n"
     ]
    }
   ],
   "source": [
    "# vectorizer_svc = TfidfVectorizer(lowercase=False,       # Almost false everytime in our case\n",
    "#                                  stop_words=None,       # Never remove stopwords\n",
    "#                                  strip_accents=\"ascii\", # Sometimes none sometimes ascii, doesn't really matter\n",
    "#                                  use_idf=True,          # Always true\n",
    "#                                  smooth_idf=False,      # Sometimes true sometimes false, doesn't really matter\n",
    "#                                  sublinear_tf=True,     # Sometimes true sometimes false, doesn't really matter\n",
    "                             \n",
    "#                                  max_features=50_000,   # Avoids overfit and reduce noise\n",
    "#                                  min_df=1,              # Always 1, meaning we don't remove anything\n",
    "#                                  max_df=0.79,           # One of the most meaningful parameters, can be 0.05, 0.9 ...\n",
    "#                                  ngram_range=(1,2),     # Always unigram + bigram\n",
    "#                                  )\n",
    "\n",
    "vectorizer_svc = TfidfVectorizer(lowercase=False,       \n",
    "                                 stop_words=None,       \n",
    "                                 strip_accents=\"ascii\", \n",
    "                                 use_idf=True,          \n",
    "                                 smooth_idf=False,      \n",
    "                                 sublinear_tf=True,     \n",
    "                             \n",
    "                                 max_features=100_000,   \n",
    "                                 min_df=1,              \n",
    "                                 max_df=0.55,           \n",
    "                                 ngram_range=(1,2),     \n",
    "                                 )\n",
    "\n",
    "vectorizer_nb = TfidfVectorizer(lowercase=False,\n",
    "                                stop_words=None,\n",
    "                                strip_accents=None,\n",
    "                                # use_idf=True,\n",
    "                                # smooth_idf=True,\n",
    "                                # sublinear_tf=False,\n",
    "                             \n",
    "                                max_features=80_000,\n",
    "                                min_df=15,\n",
    "                                max_df=0.05,\n",
    "                                ngram_range=(1,2),\n",
    "                                )\n",
    "\n",
    "vectorizer_lr = TfidfVectorizer(lowercase=False,\n",
    "                                stop_words=None,\n",
    "                                strip_accents=\"ascii\",\n",
    "                                use_idf=True,\n",
    "                                smooth_idf=False,\n",
    "                                sublinear_tf=False, # true ?\n",
    "                             \n",
    "                                max_features=50_000,\n",
    "                                min_df=1,\n",
    "                                max_df=0.5, # 0.05 ?\n",
    "                                ngram_range=(1,2),\n",
    "                                )\n",
    "\n",
    "# Remove comment for stemming\n",
    "# print(len(X_train))\n",
    "# stemmer = snowballstemmer.stemmer('french');\n",
    "# for i in range(len(X_train)):\n",
    "#     stemmer.stemWords(X_train[i].split()[j] for j in range(len(X_train[i].split())))\n",
    "# print(np.array(X_train).shape)\n",
    "\n",
    "X_train_vector_svc, X_test_vector_svc, Y_train_svc, Y_test_svc = get_all_data_vectorized(X_train, X_test, Y_train, Y_test, vectorizer_svc)\n",
    "print(X_train_vector_svc.shape)\n",
    "X_train_vector_nb, X_test_vector_nb, Y_train_nb, Y_test_nb = get_all_data_vectorized(X_train, X_test, Y_train, Y_test, vectorizer_nb)\n",
    "print(X_train_vector_nb.shape)\n",
    "X_train_vector_lr, X_test_vector_lr, Y_train_lr, Y_test_lr = get_all_data_vectorized(X_train, X_test, Y_train, Y_test, vectorizer_lr)\n",
    "print(X_train_vector_lr.shape)"
   ]
  },
  {
   "cell_type": "markdown",
   "id": "3aa31fed-288f-499e-84c5-f89456e562e4",
   "metadata": {},
   "source": [
    "### --> Model selection SVC"
   ]
  },
  {
   "cell_type": "code",
   "execution_count": 18,
   "id": "ecb67c3d-60a3-4ba0-a2d3-dd2956fbb625",
   "metadata": {},
   "outputs": [],
   "source": [
    "search = False\n",
    "if search:\n",
    "    # parameters = {\n",
    "    #     'C': np.arange(1,1.2,0.05) # according to our vectorizing parameters, this parameter doesn't matter a lot   \n",
    "    # }                              # but with other parameters it can take values around ~ 100\n",
    "    \n",
    "    parameters = {\n",
    "        'C': np.arange(3.2,4,0.05)  \n",
    "    }\n",
    "    \n",
    "    strat_kfold = StratifiedKFold(n_splits=5, shuffle=True)\n",
    "\n",
    "    optimal_svc = GridSearchCV(LinearSVC(class_weight=\"balanced\",\n",
    "                                         max_iter=2000),\n",
    "                               parameters, \n",
    "                               scoring=\"f1\",\n",
    "                               n_jobs=8, \n",
    "                               verbose=3, \n",
    "                               cv=strat_kfold,\n",
    "                               refit=True\n",
    "                               )\n",
    "\n",
    "    t0 = time()\n",
    "    optimal_svc.fit(X_train_vector_svc, Y_train_svc)\n",
    "    print(\"done in %0.3fs\" % (time() - t0))\n",
    "    \n",
    "    display_model_scores(optimal_svc, X_train_vector_svc, Y_train_svc)\n",
    "    display_model_scores(optimal_svc, X_test_vector_svc, Y_test_svc)"
   ]
  },
  {
   "cell_type": "markdown",
   "id": "c69a5a43-a39d-4378-9e23-2a1bb5c282c3",
   "metadata": {},
   "source": [
    "### --> Model selection NB"
   ]
  },
  {
   "cell_type": "code",
   "execution_count": 19,
   "id": "e76a57ee-371e-4e50-a131-ee8b24a871ca",
   "metadata": {},
   "outputs": [],
   "source": [
    "search = False\n",
    "if search:\n",
    "    parameters = {\n",
    "        'alpha': np.arange(0, 1, 0.05),\n",
    "    }\n",
    "    \n",
    "    strat_kfold = StratifiedKFold(n_splits=5, shuffle=True)\n",
    "\n",
    "    optimal_nb = GridSearchCV(MultinomialNB(),\n",
    "                              parameters, \n",
    "                              scoring=\"f1\",\n",
    "                              n_jobs=8, \n",
    "                              verbose=3, \n",
    "                              cv=strat_kfold,\n",
    "                              refit=True\n",
    "                              )\n",
    "\n",
    "    t0 = time()\n",
    "    optimal_nb.fit(X_train_vector_nb, Y_train_nb)\n",
    "    print(\"done in %0.3fs\" % (time() - t0))\n",
    "    \n",
    "    display_model_scores(optimal_nb, X_train_vector_nb, Y_train_nb)\n",
    "    display_model_scores(optimal_nb, X_test_vector_nb, Y_test_nb)"
   ]
  },
  {
   "cell_type": "markdown",
   "id": "1557da0e-f6ea-43ac-ae92-4a1dc1167b3a",
   "metadata": {},
   "source": [
    "### --> Model selection LR"
   ]
  },
  {
   "cell_type": "code",
   "execution_count": 20,
   "id": "e30b4ac9-5f14-499d-aa23-0b26a3777cba",
   "metadata": {},
   "outputs": [],
   "source": [
    "search = False\n",
    "if search:\n",
    "    parameters = {\n",
    "        'C': (40,44,46) \n",
    "    }\n",
    "    \n",
    "    strat_kfold = StratifiedKFold(n_splits=5, shuffle=True)\n",
    "\n",
    "    optimal_lr = GridSearchCV(LogisticRegression(class_weight=\"balanced\",\n",
    "                                                      max_iter=2000),\n",
    "                               parameters, \n",
    "                               scoring=\"f1\",\n",
    "                               n_jobs=8, \n",
    "                               verbose=3, \n",
    "                               cv=strat_kfold,\n",
    "                               refit=True\n",
    "                               )\n",
    "\n",
    "    t0 = time()\n",
    "    optimal_lr.fit(X_train_vector_lr, Y_train_lr)\n",
    "    print(\"done in %0.3fs\" % (time() - t0))\n",
    "    \n",
    "    display_model_scores(optimal_lr, X_train_vector_lr, Y_train_lr)\n",
    "    display_model_scores(optimal_lr, X_test_vector_lr, Y_test_lr)"
   ]
  },
  {
   "cell_type": "markdown",
   "id": "d992e59b-f003-447a-ba8e-be40f59b4b71",
   "metadata": {},
   "source": [
    "### --> Test 3 optimal models without max_iter"
   ]
  },
  {
   "cell_type": "code",
   "execution_count": 21,
   "id": "c0339ed0-79ea-48bd-929a-6096f1e47e8c",
   "metadata": {},
   "outputs": [
    {
     "name": "stdout",
     "output_type": "stream",
     "text": [
      "done in 1.565s\n",
      "[[ 6358     2]\n",
      " [   17 39553]]\n",
      "              precision    recall  f1-score   support\n",
      "\n",
      "          -1       1.00      1.00      1.00      6360\n",
      "           1       1.00      1.00      1.00     39570\n",
      "\n",
      "    accuracy                           1.00     45930\n",
      "   macro avg       1.00      1.00      1.00     45930\n",
      "weighted avg       1.00      1.00      1.00     45930\n",
      "\n",
      "[[ 691  472]\n",
      " [ 673 9647]]\n",
      "              precision    recall  f1-score   support\n",
      "\n",
      "          -1       0.51      0.59      0.55      1163\n",
      "           1       0.95      0.93      0.94     10320\n",
      "\n",
      "    accuracy                           0.90     11483\n",
      "   macro avg       0.73      0.76      0.75     11483\n",
      "weighted avg       0.91      0.90      0.90     11483\n",
      "\n"
     ]
    }
   ],
   "source": [
    "# final_svc = LinearSVC(class_weight=\"balanced\",\n",
    "#                       max_iter=10_000,\n",
    "#                       C=1.15)\n",
    "\n",
    "final_svc = LinearSVC(class_weight=\"balanced\",\n",
    "                      max_iter=10_000,\n",
    "                      C=3.95)\n",
    "\n",
    "t0 = time()\n",
    "final_svc.fit(X_train_vector_svc, Y_train_svc)\n",
    "print(\"done in %0.3fs\" % (time() - t0))\n",
    "    \n",
    "display_model_scores(final_svc, X_train_vector_svc, Y_train_svc, search=False)\n",
    "display_model_scores(final_svc, X_test_vector_svc, Y_test_svc, search=False)"
   ]
  },
  {
   "cell_type": "code",
   "execution_count": 22,
   "id": "902acf2b-ba70-427f-bd09-a6e6ff09d650",
   "metadata": {},
   "outputs": [
    {
     "name": "stdout",
     "output_type": "stream",
     "text": [
      "done in 0.008s\n",
      "[[ 2849  3511]\n",
      " [  452 39118]]\n",
      "              precision    recall  f1-score   support\n",
      "\n",
      "          -1       0.86      0.45      0.59      6360\n",
      "           1       0.92      0.99      0.95     39570\n",
      "\n",
      "    accuracy                           0.91     45930\n",
      "   macro avg       0.89      0.72      0.77     45930\n",
      "weighted avg       0.91      0.91      0.90     45930\n",
      "\n",
      "[[  411   752]\n",
      " [  207 10113]]\n",
      "              precision    recall  f1-score   support\n",
      "\n",
      "          -1       0.67      0.35      0.46      1163\n",
      "           1       0.93      0.98      0.95     10320\n",
      "\n",
      "    accuracy                           0.92     11483\n",
      "   macro avg       0.80      0.67      0.71     11483\n",
      "weighted avg       0.90      0.92      0.90     11483\n",
      "\n"
     ]
    }
   ],
   "source": [
    "final_nb = MultinomialNB(alpha=0.1)\n",
    "\n",
    "t0 = time()\n",
    "final_nb.fit(X_train_vector_nb, Y_train_nb)\n",
    "print(\"done in %0.3fs\" % (time() - t0))\n",
    "    \n",
    "display_model_scores(final_nb, X_train_vector_nb, Y_train_nb, search=False)\n",
    "display_model_scores(final_nb, X_test_vector_nb, Y_test_nb, search=False)"
   ]
  },
  {
   "cell_type": "code",
   "execution_count": 23,
   "id": "fd64d29e-bea4-4d12-949d-8567052db71d",
   "metadata": {},
   "outputs": [
    {
     "name": "stdout",
     "output_type": "stream",
     "text": [
      "done in 4.708s\n",
      "[[ 6357     3]\n",
      " [  102 39468]]\n",
      "              precision    recall  f1-score   support\n",
      "\n",
      "          -1       0.98      1.00      0.99      6360\n",
      "           1       1.00      1.00      1.00     39570\n",
      "\n",
      "    accuracy                           1.00     45930\n",
      "   macro avg       0.99      1.00      1.00     45930\n",
      "weighted avg       1.00      1.00      1.00     45930\n",
      "\n",
      "[[ 727  436]\n",
      " [ 834 9486]]\n",
      "              precision    recall  f1-score   support\n",
      "\n",
      "          -1       0.47      0.63      0.53      1163\n",
      "           1       0.96      0.92      0.94     10320\n",
      "\n",
      "    accuracy                           0.89     11483\n",
      "   macro avg       0.71      0.77      0.74     11483\n",
      "weighted avg       0.91      0.89      0.90     11483\n",
      "\n"
     ]
    }
   ],
   "source": [
    "final_lr = LogisticRegression(class_weight=\"balanced\",\n",
    "                              max_iter=10_000,\n",
    "                              C=44)\n",
    "\n",
    "t0 = time()\n",
    "final_lr.fit(X_train_vector_lr, Y_train_lr)\n",
    "print(\"done in %0.3fs\" % (time() - t0))\n",
    "    \n",
    "display_model_scores(final_lr, X_train_vector_lr, Y_train_lr, search=False)\n",
    "display_model_scores(final_lr, X_test_vector_lr, Y_test_lr, search=False)"
   ]
  },
  {
   "cell_type": "markdown",
   "id": "483eecb9-e46d-428f-a1af-375eb6233a3f",
   "metadata": {},
   "source": [
    "### --> Testing voting classifier"
   ]
  },
  {
   "cell_type": "code",
   "execution_count": 24,
   "id": "f5c88932-2515-4257-ad55-f9a23a39e7aa",
   "metadata": {},
   "outputs": [
    {
     "name": "stderr",
     "output_type": "stream",
     "text": [
      "Intel(R) Extension for Scikit-learn* enabled (https://github.com/intel/scikit-learn-intelex)\n"
     ]
    }
   ],
   "source": [
    "from sklearnex import patch_sklearn\n",
    "patch_sklearn() # Should speed up learning somehow"
   ]
  },
  {
   "cell_type": "code",
   "execution_count": 25,
   "id": "14394ca5-092e-42b4-beec-429adb5b3a90",
   "metadata": {},
   "outputs": [],
   "source": [
    "svc_for_vote = SVC(kernel='linear', # VotingClassifier doesn't work with linearSVC() module if voting=\"soft\"\n",
    "                   probability=True,\n",
    "                   class_weight=\"balanced\",\n",
    "                   max_iter=10_000,\n",
    "                   C=3.95,\n",
    "                   verbose=3)"
   ]
  },
  {
   "cell_type": "code",
   "execution_count": 26,
   "id": "d22fdbe6-4848-4010-b8cd-9f1d6b17caa2",
   "metadata": {},
   "outputs": [
    {
     "name": "stdout",
     "output_type": "stream",
     "text": [
      "[Voting] ....................... (1 of 3) Processing lr, total=   4.8s\n",
      "[Voting] ....................... (2 of 3) Processing nb, total=   0.0s\n"
     ]
    },
    {
     "ename": "KeyboardInterrupt",
     "evalue": "",
     "output_type": "error",
     "traceback": [
      "\u001b[1;31m---------------------------------------------------------------------------\u001b[0m",
      "\u001b[1;31mKeyboardInterrupt\u001b[0m                         Traceback (most recent call last)",
      "\u001b[1;32m~\\AppData\\Local\\Temp/ipykernel_10276/1709353107.py\u001b[0m in \u001b[0;36m<module>\u001b[1;34m\u001b[0m\n\u001b[0;32m      9\u001b[0m \u001b[1;33m\u001b[0m\u001b[0m\n\u001b[0;32m     10\u001b[0m \u001b[0mt0\u001b[0m \u001b[1;33m=\u001b[0m \u001b[0mtime\u001b[0m\u001b[1;33m(\u001b[0m\u001b[1;33m)\u001b[0m\u001b[1;33m\u001b[0m\u001b[1;33m\u001b[0m\u001b[0m\n\u001b[1;32m---> 11\u001b[1;33m \u001b[0mvoting_clf_soft\u001b[0m\u001b[1;33m.\u001b[0m\u001b[0mfit\u001b[0m\u001b[1;33m(\u001b[0m\u001b[0mX_train_vector_svc\u001b[0m\u001b[1;33m,\u001b[0m \u001b[0mY_train_svc\u001b[0m\u001b[1;33m)\u001b[0m\u001b[1;33m\u001b[0m\u001b[1;33m\u001b[0m\u001b[0m\n\u001b[0m\u001b[0;32m     12\u001b[0m \u001b[0mprint\u001b[0m\u001b[1;33m(\u001b[0m\u001b[1;34m\"done in %0.3fs\"\u001b[0m \u001b[1;33m%\u001b[0m \u001b[1;33m(\u001b[0m\u001b[0mtime\u001b[0m\u001b[1;33m(\u001b[0m\u001b[1;33m)\u001b[0m \u001b[1;33m-\u001b[0m \u001b[0mt0\u001b[0m\u001b[1;33m)\u001b[0m\u001b[1;33m)\u001b[0m\u001b[1;33m\u001b[0m\u001b[1;33m\u001b[0m\u001b[0m\n\u001b[0;32m     13\u001b[0m \u001b[1;33m\u001b[0m\u001b[0m\n",
      "\u001b[1;32m~\\anaconda3\\lib\\site-packages\\sklearn\\ensemble\\_voting.py\u001b[0m in \u001b[0;36mfit\u001b[1;34m(self, X, y, sample_weight)\u001b[0m\n\u001b[0;32m    322\u001b[0m         \u001b[0mtransformed_y\u001b[0m \u001b[1;33m=\u001b[0m \u001b[0mself\u001b[0m\u001b[1;33m.\u001b[0m\u001b[0mle_\u001b[0m\u001b[1;33m.\u001b[0m\u001b[0mtransform\u001b[0m\u001b[1;33m(\u001b[0m\u001b[0my\u001b[0m\u001b[1;33m)\u001b[0m\u001b[1;33m\u001b[0m\u001b[1;33m\u001b[0m\u001b[0m\n\u001b[0;32m    323\u001b[0m \u001b[1;33m\u001b[0m\u001b[0m\n\u001b[1;32m--> 324\u001b[1;33m         \u001b[1;32mreturn\u001b[0m \u001b[0msuper\u001b[0m\u001b[1;33m(\u001b[0m\u001b[1;33m)\u001b[0m\u001b[1;33m.\u001b[0m\u001b[0mfit\u001b[0m\u001b[1;33m(\u001b[0m\u001b[0mX\u001b[0m\u001b[1;33m,\u001b[0m \u001b[0mtransformed_y\u001b[0m\u001b[1;33m,\u001b[0m \u001b[0msample_weight\u001b[0m\u001b[1;33m)\u001b[0m\u001b[1;33m\u001b[0m\u001b[1;33m\u001b[0m\u001b[0m\n\u001b[0m\u001b[0;32m    325\u001b[0m \u001b[1;33m\u001b[0m\u001b[0m\n\u001b[0;32m    326\u001b[0m     \u001b[1;32mdef\u001b[0m \u001b[0mpredict\u001b[0m\u001b[1;33m(\u001b[0m\u001b[0mself\u001b[0m\u001b[1;33m,\u001b[0m \u001b[0mX\u001b[0m\u001b[1;33m)\u001b[0m\u001b[1;33m:\u001b[0m\u001b[1;33m\u001b[0m\u001b[1;33m\u001b[0m\u001b[0m\n",
      "\u001b[1;32m~\\anaconda3\\lib\\site-packages\\sklearn\\ensemble\\_voting.py\u001b[0m in \u001b[0;36mfit\u001b[1;34m(self, X, y, sample_weight)\u001b[0m\n\u001b[0;32m     72\u001b[0m             )\n\u001b[0;32m     73\u001b[0m \u001b[1;33m\u001b[0m\u001b[0m\n\u001b[1;32m---> 74\u001b[1;33m         self.estimators_ = Parallel(n_jobs=self.n_jobs)(\n\u001b[0m\u001b[0;32m     75\u001b[0m             delayed(_fit_single_estimator)(\n\u001b[0;32m     76\u001b[0m                 \u001b[0mclone\u001b[0m\u001b[1;33m(\u001b[0m\u001b[0mclf\u001b[0m\u001b[1;33m)\u001b[0m\u001b[1;33m,\u001b[0m\u001b[1;33m\u001b[0m\u001b[1;33m\u001b[0m\u001b[0m\n",
      "\u001b[1;32m~\\anaconda3\\lib\\site-packages\\joblib\\parallel.py\u001b[0m in \u001b[0;36m__call__\u001b[1;34m(self, iterable)\u001b[0m\n\u001b[0;32m   1044\u001b[0m                 \u001b[0mself\u001b[0m\u001b[1;33m.\u001b[0m\u001b[0m_iterating\u001b[0m \u001b[1;33m=\u001b[0m \u001b[0mself\u001b[0m\u001b[1;33m.\u001b[0m\u001b[0m_original_iterator\u001b[0m \u001b[1;32mis\u001b[0m \u001b[1;32mnot\u001b[0m \u001b[1;32mNone\u001b[0m\u001b[1;33m\u001b[0m\u001b[1;33m\u001b[0m\u001b[0m\n\u001b[0;32m   1045\u001b[0m \u001b[1;33m\u001b[0m\u001b[0m\n\u001b[1;32m-> 1046\u001b[1;33m             \u001b[1;32mwhile\u001b[0m \u001b[0mself\u001b[0m\u001b[1;33m.\u001b[0m\u001b[0mdispatch_one_batch\u001b[0m\u001b[1;33m(\u001b[0m\u001b[0miterator\u001b[0m\u001b[1;33m)\u001b[0m\u001b[1;33m:\u001b[0m\u001b[1;33m\u001b[0m\u001b[1;33m\u001b[0m\u001b[0m\n\u001b[0m\u001b[0;32m   1047\u001b[0m                 \u001b[1;32mpass\u001b[0m\u001b[1;33m\u001b[0m\u001b[1;33m\u001b[0m\u001b[0m\n\u001b[0;32m   1048\u001b[0m \u001b[1;33m\u001b[0m\u001b[0m\n",
      "\u001b[1;32m~\\anaconda3\\lib\\site-packages\\joblib\\parallel.py\u001b[0m in \u001b[0;36mdispatch_one_batch\u001b[1;34m(self, iterator)\u001b[0m\n\u001b[0;32m    859\u001b[0m                 \u001b[1;32mreturn\u001b[0m \u001b[1;32mFalse\u001b[0m\u001b[1;33m\u001b[0m\u001b[1;33m\u001b[0m\u001b[0m\n\u001b[0;32m    860\u001b[0m             \u001b[1;32melse\u001b[0m\u001b[1;33m:\u001b[0m\u001b[1;33m\u001b[0m\u001b[1;33m\u001b[0m\u001b[0m\n\u001b[1;32m--> 861\u001b[1;33m                 \u001b[0mself\u001b[0m\u001b[1;33m.\u001b[0m\u001b[0m_dispatch\u001b[0m\u001b[1;33m(\u001b[0m\u001b[0mtasks\u001b[0m\u001b[1;33m)\u001b[0m\u001b[1;33m\u001b[0m\u001b[1;33m\u001b[0m\u001b[0m\n\u001b[0m\u001b[0;32m    862\u001b[0m                 \u001b[1;32mreturn\u001b[0m \u001b[1;32mTrue\u001b[0m\u001b[1;33m\u001b[0m\u001b[1;33m\u001b[0m\u001b[0m\n\u001b[0;32m    863\u001b[0m \u001b[1;33m\u001b[0m\u001b[0m\n",
      "\u001b[1;32m~\\anaconda3\\lib\\site-packages\\joblib\\parallel.py\u001b[0m in \u001b[0;36m_dispatch\u001b[1;34m(self, batch)\u001b[0m\n\u001b[0;32m    777\u001b[0m         \u001b[1;32mwith\u001b[0m \u001b[0mself\u001b[0m\u001b[1;33m.\u001b[0m\u001b[0m_lock\u001b[0m\u001b[1;33m:\u001b[0m\u001b[1;33m\u001b[0m\u001b[1;33m\u001b[0m\u001b[0m\n\u001b[0;32m    778\u001b[0m             \u001b[0mjob_idx\u001b[0m \u001b[1;33m=\u001b[0m \u001b[0mlen\u001b[0m\u001b[1;33m(\u001b[0m\u001b[0mself\u001b[0m\u001b[1;33m.\u001b[0m\u001b[0m_jobs\u001b[0m\u001b[1;33m)\u001b[0m\u001b[1;33m\u001b[0m\u001b[1;33m\u001b[0m\u001b[0m\n\u001b[1;32m--> 779\u001b[1;33m             \u001b[0mjob\u001b[0m \u001b[1;33m=\u001b[0m \u001b[0mself\u001b[0m\u001b[1;33m.\u001b[0m\u001b[0m_backend\u001b[0m\u001b[1;33m.\u001b[0m\u001b[0mapply_async\u001b[0m\u001b[1;33m(\u001b[0m\u001b[0mbatch\u001b[0m\u001b[1;33m,\u001b[0m \u001b[0mcallback\u001b[0m\u001b[1;33m=\u001b[0m\u001b[0mcb\u001b[0m\u001b[1;33m)\u001b[0m\u001b[1;33m\u001b[0m\u001b[1;33m\u001b[0m\u001b[0m\n\u001b[0m\u001b[0;32m    780\u001b[0m             \u001b[1;31m# A job can complete so quickly than its callback is\u001b[0m\u001b[1;33m\u001b[0m\u001b[1;33m\u001b[0m\u001b[1;33m\u001b[0m\u001b[0m\n\u001b[0;32m    781\u001b[0m             \u001b[1;31m# called before we get here, causing self._jobs to\u001b[0m\u001b[1;33m\u001b[0m\u001b[1;33m\u001b[0m\u001b[1;33m\u001b[0m\u001b[0m\n",
      "\u001b[1;32m~\\anaconda3\\lib\\site-packages\\joblib\\_parallel_backends.py\u001b[0m in \u001b[0;36mapply_async\u001b[1;34m(self, func, callback)\u001b[0m\n\u001b[0;32m    206\u001b[0m     \u001b[1;32mdef\u001b[0m \u001b[0mapply_async\u001b[0m\u001b[1;33m(\u001b[0m\u001b[0mself\u001b[0m\u001b[1;33m,\u001b[0m \u001b[0mfunc\u001b[0m\u001b[1;33m,\u001b[0m \u001b[0mcallback\u001b[0m\u001b[1;33m=\u001b[0m\u001b[1;32mNone\u001b[0m\u001b[1;33m)\u001b[0m\u001b[1;33m:\u001b[0m\u001b[1;33m\u001b[0m\u001b[1;33m\u001b[0m\u001b[0m\n\u001b[0;32m    207\u001b[0m         \u001b[1;34m\"\"\"Schedule a func to be run\"\"\"\u001b[0m\u001b[1;33m\u001b[0m\u001b[1;33m\u001b[0m\u001b[0m\n\u001b[1;32m--> 208\u001b[1;33m         \u001b[0mresult\u001b[0m \u001b[1;33m=\u001b[0m \u001b[0mImmediateResult\u001b[0m\u001b[1;33m(\u001b[0m\u001b[0mfunc\u001b[0m\u001b[1;33m)\u001b[0m\u001b[1;33m\u001b[0m\u001b[1;33m\u001b[0m\u001b[0m\n\u001b[0m\u001b[0;32m    209\u001b[0m         \u001b[1;32mif\u001b[0m \u001b[0mcallback\u001b[0m\u001b[1;33m:\u001b[0m\u001b[1;33m\u001b[0m\u001b[1;33m\u001b[0m\u001b[0m\n\u001b[0;32m    210\u001b[0m             \u001b[0mcallback\u001b[0m\u001b[1;33m(\u001b[0m\u001b[0mresult\u001b[0m\u001b[1;33m)\u001b[0m\u001b[1;33m\u001b[0m\u001b[1;33m\u001b[0m\u001b[0m\n",
      "\u001b[1;32m~\\anaconda3\\lib\\site-packages\\joblib\\_parallel_backends.py\u001b[0m in \u001b[0;36m__init__\u001b[1;34m(self, batch)\u001b[0m\n\u001b[0;32m    570\u001b[0m         \u001b[1;31m# Don't delay the application, to avoid keeping the input\u001b[0m\u001b[1;33m\u001b[0m\u001b[1;33m\u001b[0m\u001b[1;33m\u001b[0m\u001b[0m\n\u001b[0;32m    571\u001b[0m         \u001b[1;31m# arguments in memory\u001b[0m\u001b[1;33m\u001b[0m\u001b[1;33m\u001b[0m\u001b[1;33m\u001b[0m\u001b[0m\n\u001b[1;32m--> 572\u001b[1;33m         \u001b[0mself\u001b[0m\u001b[1;33m.\u001b[0m\u001b[0mresults\u001b[0m \u001b[1;33m=\u001b[0m \u001b[0mbatch\u001b[0m\u001b[1;33m(\u001b[0m\u001b[1;33m)\u001b[0m\u001b[1;33m\u001b[0m\u001b[1;33m\u001b[0m\u001b[0m\n\u001b[0m\u001b[0;32m    573\u001b[0m \u001b[1;33m\u001b[0m\u001b[0m\n\u001b[0;32m    574\u001b[0m     \u001b[1;32mdef\u001b[0m \u001b[0mget\u001b[0m\u001b[1;33m(\u001b[0m\u001b[0mself\u001b[0m\u001b[1;33m)\u001b[0m\u001b[1;33m:\u001b[0m\u001b[1;33m\u001b[0m\u001b[1;33m\u001b[0m\u001b[0m\n",
      "\u001b[1;32m~\\anaconda3\\lib\\site-packages\\joblib\\parallel.py\u001b[0m in \u001b[0;36m__call__\u001b[1;34m(self)\u001b[0m\n\u001b[0;32m    260\u001b[0m         \u001b[1;31m# change the default number of processes to -1\u001b[0m\u001b[1;33m\u001b[0m\u001b[1;33m\u001b[0m\u001b[1;33m\u001b[0m\u001b[0m\n\u001b[0;32m    261\u001b[0m         \u001b[1;32mwith\u001b[0m \u001b[0mparallel_backend\u001b[0m\u001b[1;33m(\u001b[0m\u001b[0mself\u001b[0m\u001b[1;33m.\u001b[0m\u001b[0m_backend\u001b[0m\u001b[1;33m,\u001b[0m \u001b[0mn_jobs\u001b[0m\u001b[1;33m=\u001b[0m\u001b[0mself\u001b[0m\u001b[1;33m.\u001b[0m\u001b[0m_n_jobs\u001b[0m\u001b[1;33m)\u001b[0m\u001b[1;33m:\u001b[0m\u001b[1;33m\u001b[0m\u001b[1;33m\u001b[0m\u001b[0m\n\u001b[1;32m--> 262\u001b[1;33m             return [func(*args, **kwargs)\n\u001b[0m\u001b[0;32m    263\u001b[0m                     for func, args, kwargs in self.items]\n\u001b[0;32m    264\u001b[0m \u001b[1;33m\u001b[0m\u001b[0m\n",
      "\u001b[1;32m~\\anaconda3\\lib\\site-packages\\joblib\\parallel.py\u001b[0m in \u001b[0;36m<listcomp>\u001b[1;34m(.0)\u001b[0m\n\u001b[0;32m    260\u001b[0m         \u001b[1;31m# change the default number of processes to -1\u001b[0m\u001b[1;33m\u001b[0m\u001b[1;33m\u001b[0m\u001b[1;33m\u001b[0m\u001b[0m\n\u001b[0;32m    261\u001b[0m         \u001b[1;32mwith\u001b[0m \u001b[0mparallel_backend\u001b[0m\u001b[1;33m(\u001b[0m\u001b[0mself\u001b[0m\u001b[1;33m.\u001b[0m\u001b[0m_backend\u001b[0m\u001b[1;33m,\u001b[0m \u001b[0mn_jobs\u001b[0m\u001b[1;33m=\u001b[0m\u001b[0mself\u001b[0m\u001b[1;33m.\u001b[0m\u001b[0m_n_jobs\u001b[0m\u001b[1;33m)\u001b[0m\u001b[1;33m:\u001b[0m\u001b[1;33m\u001b[0m\u001b[1;33m\u001b[0m\u001b[0m\n\u001b[1;32m--> 262\u001b[1;33m             return [func(*args, **kwargs)\n\u001b[0m\u001b[0;32m    263\u001b[0m                     for func, args, kwargs in self.items]\n\u001b[0;32m    264\u001b[0m \u001b[1;33m\u001b[0m\u001b[0m\n",
      "\u001b[1;32m~\\anaconda3\\lib\\site-packages\\sklearn\\utils\\fixes.py\u001b[0m in \u001b[0;36m__call__\u001b[1;34m(self, *args, **kwargs)\u001b[0m\n\u001b[0;32m    214\u001b[0m     \u001b[1;32mdef\u001b[0m \u001b[0m__call__\u001b[0m\u001b[1;33m(\u001b[0m\u001b[0mself\u001b[0m\u001b[1;33m,\u001b[0m \u001b[1;33m*\u001b[0m\u001b[0margs\u001b[0m\u001b[1;33m,\u001b[0m \u001b[1;33m**\u001b[0m\u001b[0mkwargs\u001b[0m\u001b[1;33m)\u001b[0m\u001b[1;33m:\u001b[0m\u001b[1;33m\u001b[0m\u001b[1;33m\u001b[0m\u001b[0m\n\u001b[0;32m    215\u001b[0m         \u001b[1;32mwith\u001b[0m \u001b[0mconfig_context\u001b[0m\u001b[1;33m(\u001b[0m\u001b[1;33m**\u001b[0m\u001b[0mself\u001b[0m\u001b[1;33m.\u001b[0m\u001b[0mconfig\u001b[0m\u001b[1;33m)\u001b[0m\u001b[1;33m:\u001b[0m\u001b[1;33m\u001b[0m\u001b[1;33m\u001b[0m\u001b[0m\n\u001b[1;32m--> 216\u001b[1;33m             \u001b[1;32mreturn\u001b[0m \u001b[0mself\u001b[0m\u001b[1;33m.\u001b[0m\u001b[0mfunction\u001b[0m\u001b[1;33m(\u001b[0m\u001b[1;33m*\u001b[0m\u001b[0margs\u001b[0m\u001b[1;33m,\u001b[0m \u001b[1;33m**\u001b[0m\u001b[0mkwargs\u001b[0m\u001b[1;33m)\u001b[0m\u001b[1;33m\u001b[0m\u001b[1;33m\u001b[0m\u001b[0m\n\u001b[0m\u001b[0;32m    217\u001b[0m \u001b[1;33m\u001b[0m\u001b[0m\n\u001b[0;32m    218\u001b[0m \u001b[1;33m\u001b[0m\u001b[0m\n",
      "\u001b[1;32m~\\anaconda3\\lib\\site-packages\\sklearn\\ensemble\\_base.py\u001b[0m in \u001b[0;36m_fit_single_estimator\u001b[1;34m(estimator, X, y, sample_weight, message_clsname, message)\u001b[0m\n\u001b[0;32m     40\u001b[0m     \u001b[1;32melse\u001b[0m\u001b[1;33m:\u001b[0m\u001b[1;33m\u001b[0m\u001b[1;33m\u001b[0m\u001b[0m\n\u001b[0;32m     41\u001b[0m         \u001b[1;32mwith\u001b[0m \u001b[0m_print_elapsed_time\u001b[0m\u001b[1;33m(\u001b[0m\u001b[0mmessage_clsname\u001b[0m\u001b[1;33m,\u001b[0m \u001b[0mmessage\u001b[0m\u001b[1;33m)\u001b[0m\u001b[1;33m:\u001b[0m\u001b[1;33m\u001b[0m\u001b[1;33m\u001b[0m\u001b[0m\n\u001b[1;32m---> 42\u001b[1;33m             \u001b[0mestimator\u001b[0m\u001b[1;33m.\u001b[0m\u001b[0mfit\u001b[0m\u001b[1;33m(\u001b[0m\u001b[0mX\u001b[0m\u001b[1;33m,\u001b[0m \u001b[0my\u001b[0m\u001b[1;33m)\u001b[0m\u001b[1;33m\u001b[0m\u001b[1;33m\u001b[0m\u001b[0m\n\u001b[0m\u001b[0;32m     43\u001b[0m     \u001b[1;32mreturn\u001b[0m \u001b[0mestimator\u001b[0m\u001b[1;33m\u001b[0m\u001b[1;33m\u001b[0m\u001b[0m\n\u001b[0;32m     44\u001b[0m \u001b[1;33m\u001b[0m\u001b[0m\n",
      "\u001b[1;32m~\\anaconda3\\lib\\site-packages\\sklearnex\\svm\\svc.py\u001b[0m in \u001b[0;36mfit\u001b[1;34m(self, X, y, sample_weight)\u001b[0m\n\u001b[0;32m     42\u001b[0m \u001b[1;33m\u001b[0m\u001b[0m\n\u001b[0;32m     43\u001b[0m     \u001b[1;32mdef\u001b[0m \u001b[0mfit\u001b[0m\u001b[1;33m(\u001b[0m\u001b[0mself\u001b[0m\u001b[1;33m,\u001b[0m \u001b[0mX\u001b[0m\u001b[1;33m,\u001b[0m \u001b[0my\u001b[0m\u001b[1;33m,\u001b[0m \u001b[0msample_weight\u001b[0m\u001b[1;33m=\u001b[0m\u001b[1;32mNone\u001b[0m\u001b[1;33m)\u001b[0m\u001b[1;33m:\u001b[0m\u001b[1;33m\u001b[0m\u001b[1;33m\u001b[0m\u001b[0m\n\u001b[1;32m---> 44\u001b[1;33m         dispatch(self, 'svm.SVC.fit', {\n\u001b[0m\u001b[0;32m     45\u001b[0m             \u001b[1;34m'onedal'\u001b[0m\u001b[1;33m:\u001b[0m \u001b[0mself\u001b[0m\u001b[1;33m.\u001b[0m\u001b[0m__class__\u001b[0m\u001b[1;33m.\u001b[0m\u001b[0m_onedal_fit\u001b[0m\u001b[1;33m,\u001b[0m\u001b[1;33m\u001b[0m\u001b[1;33m\u001b[0m\u001b[0m\n\u001b[0;32m     46\u001b[0m             \u001b[1;34m'sklearn'\u001b[0m\u001b[1;33m:\u001b[0m \u001b[0msklearn_SVC\u001b[0m\u001b[1;33m.\u001b[0m\u001b[0mfit\u001b[0m\u001b[1;33m,\u001b[0m\u001b[1;33m\u001b[0m\u001b[1;33m\u001b[0m\u001b[0m\n",
      "\u001b[1;32m~\\anaconda3\\lib\\site-packages\\sklearnex\\_device_offload.py\u001b[0m in \u001b[0;36mdispatch\u001b[1;34m(obj, method_name, branches, *args, **kwargs)\u001b[0m\n\u001b[0;32m    151\u001b[0m     \u001b[0mlogging\u001b[0m\u001b[1;33m.\u001b[0m\u001b[0minfo\u001b[0m\u001b[1;33m(\u001b[0m\u001b[1;34mf\"sklearn.{method_name}: {get_patch_message(backend, q)}\"\u001b[0m\u001b[1;33m)\u001b[0m\u001b[1;33m\u001b[0m\u001b[1;33m\u001b[0m\u001b[0m\n\u001b[0;32m    152\u001b[0m     \u001b[1;32mif\u001b[0m \u001b[0mbackend\u001b[0m \u001b[1;33m==\u001b[0m \u001b[1;34m'onedal'\u001b[0m\u001b[1;33m:\u001b[0m\u001b[1;33m\u001b[0m\u001b[1;33m\u001b[0m\u001b[0m\n\u001b[1;32m--> 153\u001b[1;33m         \u001b[1;32mreturn\u001b[0m \u001b[0mbranches\u001b[0m\u001b[1;33m[\u001b[0m\u001b[0mbackend\u001b[0m\u001b[1;33m]\u001b[0m\u001b[1;33m(\u001b[0m\u001b[0mobj\u001b[0m\u001b[1;33m,\u001b[0m \u001b[1;33m*\u001b[0m\u001b[0mhostargs\u001b[0m\u001b[1;33m,\u001b[0m \u001b[1;33m**\u001b[0m\u001b[0mhostkwargs\u001b[0m\u001b[1;33m,\u001b[0m \u001b[0mqueue\u001b[0m\u001b[1;33m=\u001b[0m\u001b[0mq\u001b[0m\u001b[1;33m)\u001b[0m\u001b[1;33m\u001b[0m\u001b[1;33m\u001b[0m\u001b[0m\n\u001b[0m\u001b[0;32m    154\u001b[0m     \u001b[1;32mif\u001b[0m \u001b[0mbackend\u001b[0m \u001b[1;33m==\u001b[0m \u001b[1;34m'sklearn'\u001b[0m\u001b[1;33m:\u001b[0m\u001b[1;33m\u001b[0m\u001b[1;33m\u001b[0m\u001b[0m\n\u001b[0;32m    155\u001b[0m         \u001b[1;32mreturn\u001b[0m \u001b[0mbranches\u001b[0m\u001b[1;33m[\u001b[0m\u001b[0mbackend\u001b[0m\u001b[1;33m]\u001b[0m\u001b[1;33m(\u001b[0m\u001b[0mobj\u001b[0m\u001b[1;33m,\u001b[0m \u001b[1;33m*\u001b[0m\u001b[0mhostargs\u001b[0m\u001b[1;33m,\u001b[0m \u001b[1;33m**\u001b[0m\u001b[0mhostkwargs\u001b[0m\u001b[1;33m)\u001b[0m\u001b[1;33m\u001b[0m\u001b[1;33m\u001b[0m\u001b[0m\n",
      "\u001b[1;32m~\\anaconda3\\lib\\site-packages\\sklearnex\\svm\\svc.py\u001b[0m in \u001b[0;36m_onedal_fit\u001b[1;34m(self, X, y, sample_weight, queue)\u001b[0m\n\u001b[0;32m    123\u001b[0m \u001b[1;33m\u001b[0m\u001b[0m\n\u001b[0;32m    124\u001b[0m         \u001b[0mself\u001b[0m\u001b[1;33m.\u001b[0m\u001b[0m_onedal_estimator\u001b[0m \u001b[1;33m=\u001b[0m \u001b[0monedal_SVC\u001b[0m\u001b[1;33m(\u001b[0m\u001b[1;33m**\u001b[0m\u001b[0monedal_params\u001b[0m\u001b[1;33m)\u001b[0m\u001b[1;33m\u001b[0m\u001b[1;33m\u001b[0m\u001b[0m\n\u001b[1;32m--> 125\u001b[1;33m         \u001b[0mself\u001b[0m\u001b[1;33m.\u001b[0m\u001b[0m_onedal_estimator\u001b[0m\u001b[1;33m.\u001b[0m\u001b[0mfit\u001b[0m\u001b[1;33m(\u001b[0m\u001b[0mX\u001b[0m\u001b[1;33m,\u001b[0m \u001b[0my\u001b[0m\u001b[1;33m,\u001b[0m \u001b[0msample_weight\u001b[0m\u001b[1;33m,\u001b[0m \u001b[0mqueue\u001b[0m\u001b[1;33m=\u001b[0m\u001b[0mqueue\u001b[0m\u001b[1;33m)\u001b[0m\u001b[1;33m\u001b[0m\u001b[1;33m\u001b[0m\u001b[0m\n\u001b[0m\u001b[0;32m    126\u001b[0m \u001b[1;33m\u001b[0m\u001b[0m\n\u001b[0;32m    127\u001b[0m         \u001b[1;32mif\u001b[0m \u001b[0mself\u001b[0m\u001b[1;33m.\u001b[0m\u001b[0mclass_weight\u001b[0m \u001b[1;33m==\u001b[0m \u001b[1;34m'balanced'\u001b[0m\u001b[1;33m:\u001b[0m\u001b[1;33m\u001b[0m\u001b[1;33m\u001b[0m\u001b[0m\n",
      "\u001b[1;32m~\\anaconda3\\lib\\site-packages\\onedal\\svm\\svm.py\u001b[0m in \u001b[0;36mfit\u001b[1;34m(self, X, y, sample_weight, queue)\u001b[0m\n\u001b[0;32m    380\u001b[0m \u001b[1;33m\u001b[0m\u001b[0m\n\u001b[0;32m    381\u001b[0m     \u001b[1;32mdef\u001b[0m \u001b[0mfit\u001b[0m\u001b[1;33m(\u001b[0m\u001b[0mself\u001b[0m\u001b[1;33m,\u001b[0m \u001b[0mX\u001b[0m\u001b[1;33m,\u001b[0m \u001b[0my\u001b[0m\u001b[1;33m,\u001b[0m \u001b[0msample_weight\u001b[0m\u001b[1;33m=\u001b[0m\u001b[1;32mNone\u001b[0m\u001b[1;33m,\u001b[0m \u001b[0mqueue\u001b[0m\u001b[1;33m=\u001b[0m\u001b[1;32mNone\u001b[0m\u001b[1;33m)\u001b[0m\u001b[1;33m:\u001b[0m\u001b[1;33m\u001b[0m\u001b[1;33m\u001b[0m\u001b[0m\n\u001b[1;32m--> 382\u001b[1;33m         \u001b[1;32mreturn\u001b[0m \u001b[0msuper\u001b[0m\u001b[1;33m(\u001b[0m\u001b[1;33m)\u001b[0m\u001b[1;33m.\u001b[0m\u001b[0m_fit\u001b[0m\u001b[1;33m(\u001b[0m\u001b[0mX\u001b[0m\u001b[1;33m,\u001b[0m \u001b[0my\u001b[0m\u001b[1;33m,\u001b[0m \u001b[0msample_weight\u001b[0m\u001b[1;33m,\u001b[0m \u001b[0m_backend\u001b[0m\u001b[1;33m.\u001b[0m\u001b[0msvm\u001b[0m\u001b[1;33m.\u001b[0m\u001b[0mclassification\u001b[0m\u001b[1;33m,\u001b[0m \u001b[0mqueue\u001b[0m\u001b[1;33m)\u001b[0m\u001b[1;33m\u001b[0m\u001b[1;33m\u001b[0m\u001b[0m\n\u001b[0m\u001b[0;32m    383\u001b[0m \u001b[1;33m\u001b[0m\u001b[0m\n\u001b[0;32m    384\u001b[0m     \u001b[1;32mdef\u001b[0m \u001b[0mpredict\u001b[0m\u001b[1;33m(\u001b[0m\u001b[0mself\u001b[0m\u001b[1;33m,\u001b[0m \u001b[0mX\u001b[0m\u001b[1;33m,\u001b[0m \u001b[0mqueue\u001b[0m\u001b[1;33m=\u001b[0m\u001b[1;32mNone\u001b[0m\u001b[1;33m)\u001b[0m\u001b[1;33m:\u001b[0m\u001b[1;33m\u001b[0m\u001b[1;33m\u001b[0m\u001b[0m\n",
      "\u001b[1;32m~\\anaconda3\\lib\\site-packages\\onedal\\svm\\svm.py\u001b[0m in \u001b[0;36m_fit\u001b[1;34m(self, X, y, sample_weight, module, queue)\u001b[0m\n\u001b[0;32m    210\u001b[0m         \u001b[0mresult\u001b[0m \u001b[1;33m=\u001b[0m \u001b[0mmodule\u001b[0m\u001b[1;33m.\u001b[0m\u001b[0mtrain\u001b[0m\u001b[1;33m(\u001b[0m\u001b[0mpolicy\u001b[0m\u001b[1;33m,\u001b[0m \u001b[0mparams\u001b[0m\u001b[1;33m,\u001b[0m \u001b[1;33m*\u001b[0m\u001b[0mto_table\u001b[0m\u001b[1;33m(\u001b[0m\u001b[0mX\u001b[0m\u001b[1;33m,\u001b[0m \u001b[0my\u001b[0m\u001b[1;33m,\u001b[0m \u001b[0msample_weight\u001b[0m\u001b[1;33m)\u001b[0m\u001b[1;33m)\u001b[0m\u001b[1;33m\u001b[0m\u001b[1;33m\u001b[0m\u001b[0m\n\u001b[0;32m    211\u001b[0m \u001b[1;33m\u001b[0m\u001b[0m\n\u001b[1;32m--> 212\u001b[1;33m         \u001b[1;32mif\u001b[0m \u001b[0mself\u001b[0m\u001b[1;33m.\u001b[0m\u001b[0m_sparse\u001b[0m\u001b[1;33m:\u001b[0m\u001b[1;33m\u001b[0m\u001b[1;33m\u001b[0m\u001b[0m\n\u001b[0m\u001b[0;32m    213\u001b[0m             \u001b[0mself\u001b[0m\u001b[1;33m.\u001b[0m\u001b[0mdual_coef_\u001b[0m \u001b[1;33m=\u001b[0m \u001b[0msp\u001b[0m\u001b[1;33m.\u001b[0m\u001b[0mcsr_matrix\u001b[0m\u001b[1;33m(\u001b[0m\u001b[0mfrom_table\u001b[0m\u001b[1;33m(\u001b[0m\u001b[0mresult\u001b[0m\u001b[1;33m.\u001b[0m\u001b[0mcoeffs\u001b[0m\u001b[1;33m)\u001b[0m\u001b[1;33m.\u001b[0m\u001b[0mT\u001b[0m\u001b[1;33m)\u001b[0m\u001b[1;33m\u001b[0m\u001b[1;33m\u001b[0m\u001b[0m\n\u001b[0;32m    214\u001b[0m             \u001b[0mself\u001b[0m\u001b[1;33m.\u001b[0m\u001b[0msupport_vectors_\u001b[0m \u001b[1;33m=\u001b[0m \u001b[0msp\u001b[0m\u001b[1;33m.\u001b[0m\u001b[0mcsr_matrix\u001b[0m\u001b[1;33m(\u001b[0m\u001b[0mfrom_table\u001b[0m\u001b[1;33m(\u001b[0m\u001b[0mresult\u001b[0m\u001b[1;33m.\u001b[0m\u001b[0msupport_vectors\u001b[0m\u001b[1;33m)\u001b[0m\u001b[1;33m)\u001b[0m\u001b[1;33m\u001b[0m\u001b[1;33m\u001b[0m\u001b[0m\n",
      "\u001b[1;31mKeyboardInterrupt\u001b[0m: "
     ]
    }
   ],
   "source": [
    "voting_clf_soft = VotingClassifier(estimators=[\n",
    "                                            ('lr', final_lr), \n",
    "                                            ('nb', final_nb),\n",
    "                                            ('svc', svc_for_vote)\n",
    "                                            ],\n",
    "                                  voting='soft',\n",
    "                                  n_jobs=1,\n",
    "                                  verbose=3)\n",
    "\n",
    "t0 = time()\n",
    "voting_clf_soft.fit(X_train_vector_svc, Y_train_svc)\n",
    "print(\"done in %0.3fs\" % (time() - t0))\n",
    "    \n",
    "display_model_scores(voting_clf_soft, X_train_vector_svc, Y_train_svc, search=False)\n",
    "display_model_scores(voting_clf_soft, X_train_vector_svc, Y_test_svc, search=False)"
   ]
  },
  {
   "cell_type": "code",
   "execution_count": null,
   "id": "470bb705-4c91-4027-8a8a-eaa43576b059",
   "metadata": {},
   "outputs": [],
   "source": [
    "voting_clf_hard = VotingClassifier(estimators=[\n",
    "                                            ('lr', final_lr), \n",
    "                                            ('nb', final_nb),\n",
    "                                            ('svc', final_svc)\n",
    "                                            ],\n",
    "                                  voting='hard',\n",
    "                                  n_jobs=1)\n",
    "\n",
    "t0 = time()\n",
    "voting_clf_hard.fit(X_train_vector_svc, Y_train_svc)\n",
    "print(\"done in %0.3fs\" % (time() - t0))\n",
    "    \n",
    "display_model_scores(voting_clf_hard, X_train_vector_svc, Y_train_svc, search=False)\n",
    "display_model_scores(voting_clf_hard, X_train_vector_svc, Y_test_svc, search=False)"
   ]
  },
  {
   "cell_type": "markdown",
   "id": "c52049d5-b2ab-4f3a-b201-45d5e7c38e87",
   "metadata": {},
   "source": [
    "## 3. Final training on whole train dataset"
   ]
  },
  {
   "cell_type": "code",
   "execution_count": null,
   "id": "68020fdf-0cb8-459b-9e57-d488ddeb65f7",
   "metadata": {},
   "outputs": [],
   "source": [
    "fname = \"./data/corpus.tache1.learn.utf8\"\n",
    "alltxts_train_final, alllabs_train_final = load_pres(fname)\n",
    "X_train_final = np.array(alltxts_train_final)\n",
    "Y_train_final = np.array(alllabs_train_final)"
   ]
  },
  {
   "cell_type": "code",
   "execution_count": null,
   "id": "a7976729-ca7c-4047-bc9d-aa8c55c7f263",
   "metadata": {},
   "outputs": [],
   "source": [
    "X_final_vector_svc = vectorizer_svc.fit_transform(X_train_final)\n",
    "X_final_vector_nb = vectorizer_nb.fit_transform(X_train_final)\n",
    "X_final_vector_lr = vectorizer_lr.fit_transform(X_train_final)\n",
    "\n",
    "t0 = time()\n",
    "final_svc.fit(X_final_vector_svc,  Y_train_final)\n",
    "print(\" done in %0.3fs\" % (time() - t0))\n",
    "\n",
    "t0 = time()\n",
    "final_nb.fit(X_final_vector_nb,  Y_train_final)\n",
    "print(\" done in %0.3fs\" % (time() - t0))\n",
    "\n",
    "t0 = time()\n",
    "final_lr.fit(X_final_vector_lr,  Y_train_final)\n",
    "print(\" done in %0.3fs\" % (time() - t0))\n",
    "\n",
    "t0 = time()\n",
    "voting_clf_soft.fit(X_final_vector_svc,  Y_train_final)\n",
    "print(\" done in %0.3fs\" % (time() - t0))\n",
    "\n",
    "t0 = time()\n",
    "voting_clf_hard.fit(X_final_vector_svc,  Y_train_final)\n",
    "print(\" done in %0.3fs\" % (time() - t0))"
   ]
  },
  {
   "cell_type": "code",
   "execution_count": null,
   "id": "0df7f491-266c-4138-8133-778a88f9564f",
   "metadata": {},
   "outputs": [],
   "source": [
    "# display_model_scores(final_svc, X_final_vector_svc, Y_train_final, False)\n",
    "# display_model_scores(final_nb, X_final_vector_nb, Y_train_final, False)\n",
    "# display_model_scores(final_lr, X_final_vector_lr, Y_train_final, False)"
   ]
  },
  {
   "cell_type": "markdown",
   "id": "8d11fef9-7dbb-4f4f-aa2d-82aaa289fc70",
   "metadata": {},
   "source": [
    "## 4. Computing final test predicitons"
   ]
  },
  {
   "cell_type": "code",
   "execution_count": null,
   "id": "0a7b98b3-ae1e-47cb-82a0-213956ece836",
   "metadata": {},
   "outputs": [],
   "source": [
    "fname =\"./data/corpus.tache1.test.utf8\"\n",
    "alltxts_test_final, _ = load_pres(fname)\n",
    "X_test_final = np.array(alltxts_test_final)"
   ]
  },
  {
   "cell_type": "code",
   "execution_count": null,
   "id": "642630d1-95f1-4e0b-85ec-dc5bdd81b3c8",
   "metadata": {},
   "outputs": [],
   "source": [
    "X_test_vector_svc = vectorizer_svc.transform(X_test_final)\n",
    "final_pred_svc = final_svc.predict(X_test_vector_svc)\n",
    "\n",
    "X_test_vector_nb = vectorizer_nb.transform(X_test_final)\n",
    "final_pred_nb = final_nb.predict(X_test_vector_nb)\n",
    "\n",
    "X_test_vector_lr = vectorizer_lr.transform(X_test_final)\n",
    "final_pred_lr = final_lr.predict(X_test_vector_lr)\n",
    "\n",
    "X_test_vector_soft = vectorizer_svc.transform(X_test_final)\n",
    "final_pred_soft = voting_clf_soft.predict(X_test_vector_soft)\n",
    "\n",
    "X_test_vector_hard = vectorizer_svc.transform(X_test_final)\n",
    "final_pred_hard = voting_clf_hard.predict(X_test_vector_hard)"
   ]
  },
  {
   "cell_type": "code",
   "execution_count": null,
   "id": "f6b87f1e-1bad-4599-9f15-4f9bd1196449",
   "metadata": {},
   "outputs": [],
   "source": [
    "print(final_pred_svc.shape)\n",
    "print(final_pred_nb.shape)\n",
    "print(final_pred_lr.shape)\n",
    "print(final_pred_soft.shape)\n",
    "print(final_pred_hard.shape)"
   ]
  },
  {
   "cell_type": "code",
   "execution_count": null,
   "id": "364f36fe-ae9a-4741-9ad7-59834572c8f0",
   "metadata": {},
   "outputs": [],
   "source": [
    "save = False\n",
    "if save :\n",
    "    f = open(\"../TME1/output/preds_svc_noshuffle_last.txt\", \"a\")\n",
    "    preds = \"\"\n",
    "    for i in range(len(final_pred_svc)):\n",
    "        preds += str(final_pred_svc[i]) + \"\\n\"\n",
    "    # print(preds)\n",
    "    f.write(preds)\n",
    "    f.close()\n",
    "\n",
    "#     f = open(\"../TME1/output/preds_nb_noshuffle.txt\", \"a\")\n",
    "#     preds = \"\"\n",
    "#     for i in range(len(final_pred_nb)):\n",
    "#         preds += str(final_pred_nb[i]) + \"\\n\"\n",
    "#     # print(preds)\n",
    "#     f.write(preds)\n",
    "#     f.close()\n",
    "\n",
    "#     f = open(\"../TME1/output/preds_lr_noshuffle.txt\", \"a\")\n",
    "#     preds = \"\"\n",
    "#     for i in range(len(final_pred_lr)):\n",
    "#         preds += str(final_pred_lr[i]) + \"\\n\"\n",
    "#     # print(preds)\n",
    "#     f.write(preds)\n",
    "#     f.close()"
   ]
  },
  {
   "cell_type": "markdown",
   "id": "23cf2dcc-5191-4aff-8c05-98f20bc00c15",
   "metadata": {},
   "source": [
    "## 5. Post processing"
   ]
  },
  {
   "cell_type": "markdown",
   "id": "d5fbf548-9ed2-4d62-8db8-29f3c9a0bb49",
   "metadata": {},
   "source": [
    "### --> Train our best model with our best vectorizer and check our f1 score before postprocessing"
   ]
  },
  {
   "cell_type": "code",
   "execution_count": null,
   "id": "26f04100-b75a-4815-8eed-fef17e59df42",
   "metadata": {},
   "outputs": [],
   "source": [
    "# vectorizer_svc = TfidfVectorizer(lowercase=False,\n",
    "#                                  stop_words=None,\n",
    "#                                  strip_accents=None,\n",
    "#                                  # use_idf=True,\n",
    "#                                  # smooth_idf=True,\n",
    "#                                  # sublinear_tf=False,\n",
    "                             \n",
    "#                                  max_features=50_000,\n",
    "#                                  min_df=1,\n",
    "#                                  max_df=0.5,\n",
    "#                                  ngram_range=(1,2),\n",
    "#                                  )\n",
    "\n",
    "vectorizer_svc = TfidfVectorizer(lowercase=False,\n",
    "                                 stop_words=None,\n",
    "                                 strip_accents=\"ascii\",\n",
    "                                 use_idf=True,\n",
    "                                 smooth_idf=False,\n",
    "                                 sublinear_tf=True,\n",
    "                             \n",
    "                                 max_features=100_000,\n",
    "                                 min_df=1,\n",
    "                                 max_df=0.55,\n",
    "                                 ngram_range=(1,2),\n",
    "                                 )\n",
    "\n",
    "# Remove comment for stemming\n",
    "# print(len(X_train))\n",
    "# stemmer = snowballstemmer.stemmer('french');\n",
    "# for i in range(len(X_train)):\n",
    "#     stemmer.stemWords(X_train[i].split()[j] for j in range(len(X_train[i].split())))\n",
    "# print(np.array(X_train).shape)\n",
    "\n",
    "X_train_vector_svc, X_test_vector_svc, Y_train_svc, Y_test_svc = get_all_data_vectorized(X_train, X_test, Y_train, Y_test, vectorizer_svc)\n",
    "print(X_train_vector_svc.shape)\n",
    "X_train_vector_lr, X_test_vector_lr, Y_train_lr, Y_test_lr = get_all_data_vectorized(X_train, X_test, Y_train, Y_test, vectorizer_lr)\n",
    "print(X_train_vector_lr.shape)\n",
    "\n",
    "# final_svc = LinearSVC(class_weight=\"balanced\",\n",
    "#                       max_iter=10_000,\n",
    "#                       C=1.15)\n",
    "final_svc = LinearSVC(class_weight=\"balanced\",\n",
    "                      max_iter=10_000,\n",
    "                      C=3.95)\n",
    "final_lr = LogisticRegression(class_weight=\"balanced\",\n",
    "                              max_iter=10_000,\n",
    "                              C=44)\n",
    "\n",
    "voting_clf_soft = VotingClassifier(estimators=[\n",
    "                                            ('lr', final_lr), \n",
    "                                            ('nb', final_nb),\n",
    "                                            ('svc', svc_for_vote)\n",
    "                                            ],\n",
    "                                  voting='soft',\n",
    "                                  n_jobs=1,\n",
    "                                  verbose=3)\n",
    "\n",
    "t0 = time()\n",
    "final_svc.fit(X_train_vector_svc, Y_train_svc)\n",
    "print(\"done in %0.3fs\" % (time() - t0))\n",
    "\n",
    "t0 = time()\n",
    "final_lr.fit(X_train_vector_lr, Y_train_lr)\n",
    "print(\"done in %0.3fs\" % (time() - t0))\n",
    "\n",
    "t0 = time()\n",
    "voting_clf_soft.fit(X_train_vector_svc, Y_train_svc)\n",
    "print(\"done in %0.3fs\" % (time() - t0))\n",
    "    \n",
    "display_model_scores(final_svc, X_test_vector_svc, Y_test_svc, search=False)\n",
    "display_model_scores(final_lr, X_test_vector_lr, Y_test_lr, search=False)\n",
    "display_model_scores(voting_clf_soft, X_test_vector_svc, Y_test_svc, search=False)"
   ]
  },
  {
   "cell_type": "markdown",
   "id": "ddc192d1-be1b-400e-a78b-200ad1c21e0c",
   "metadata": {},
   "source": [
    "### --> Preprocessing optimization functions"
   ]
  },
  {
   "cell_type": "code",
   "execution_count": null,
   "id": "f7c47db2-99c5-45a7-a7cc-d4fddb1071fa",
   "metadata": {},
   "outputs": [],
   "source": [
    "from tqdm import tqdm\n",
    "\n",
    "def postprocessing(pred, window_size, Y_test, threshold):\n",
    "    uni, cpt = np.unique(pred, return_counts=True)\n",
    "    prob_mit = cpt[0]/len(pred)\n",
    "    prob_chi = cpt[1]/len(pred)\n",
    "    new_final_pred = pred.copy()\n",
    "    # new_final_pred = soft_smoothing(new_final_pred) # No idea if it's a good idea\n",
    "    # Hard smoothing until it converges\n",
    "    while True: \n",
    "        new_final_pred_tmp = hard_smoothing(pred, new_final_pred, window_size, threshold)\n",
    "        if np.array_equiv(new_final_pred_tmp, new_final_pred):\n",
    "            break\n",
    "    new_final_pred = new_final_pred_tmp\n",
    "    # Making sure to delete all solo values\n",
    "    while True: \n",
    "        new_final_pred_tmp = soft_smoothing(new_final_pred)\n",
    "        if np.array_equiv(new_final_pred_tmp, new_final_pred):\n",
    "            break\n",
    "    new_final_pred = new_final_pred_tmp\n",
    "    return new_final_pred, f1_score(new_final_pred, Y_test, average=\"binary\")\n",
    "\n",
    "# Smoothing values with a rolling window\n",
    "def hard_smoothing(pred, new_final_pred, window_size, threshold):\n",
    "    for i in range(window_size, len(new_final_pred) - window_size):\n",
    "        neighbors = pred[int(i-window_size/2):int(i+window_size/2)] # Here we need to use pred and now new_final_pred_svc !!!\n",
    "        unique, counts = np.unique(neighbors, return_counts=True)\n",
    "\n",
    "        if len(unique) == 1:\n",
    "            if unique[0] == 1:\n",
    "                unique = np.append(unique,-1)\n",
    "                counts = np.append(counts,0)\n",
    "            else:\n",
    "                unique = np.append(unique,1)\n",
    "                counts = np.append(counts,0)\n",
    "                \n",
    "        # Probability smoothing learning\n",
    "        if counts[0]/(counts[0]+counts[1]) > threshold: # This one seems useless after testing results\n",
    "            new_final_pred[i] = int(unique[0])\n",
    "        else:\n",
    "            new_final_pred[i] = int(unique[1])\n",
    "        if counts[1]/(counts[0]+counts[1]) > threshold: # Learning a threshold there instead of using prob_chi might be an error\n",
    "            new_final_pred[i] = int(unique[1])\n",
    "        else:\n",
    "            new_final_pred[i] = int(unique[0])\n",
    "                        \n",
    "        # Probability smoothing with probs\n",
    "        # if counts[0]/(counts[0]+counts[1]) > prob_mit: # This one seems useless after testing results\n",
    "        #     new_final_pred[i] = int(unique[0])\n",
    "        # else:\n",
    "        #     new_final_pred[i] = int(unique[1])\n",
    "        # if counts[1]/(counts[0]+counts[1]) > prob_chi: # Learning a threshold there instead of using prob_chi might be an error\n",
    "        #     new_final_pred[i] = int(unique[1])\n",
    "        # else:\n",
    "        #     new_final_pred[i] = int(unique[0])\n",
    "        \n",
    "    return new_final_pred\n",
    "\n",
    "# Smoothing solo values\n",
    "def soft_smoothing(new_final_pred_svc):\n",
    "    for i in range(1, len(new_final_pred_svc)-1):\n",
    "        if (new_final_pred_svc[i-1] == -1 and new_final_pred_svc[i+1] == -1):\n",
    "            new_final_pred_svc[i] = -1\n",
    "        elif (new_final_pred_svc[i-1] == 1 and new_final_pred_svc[i+1] == 1):\n",
    "            new_final_pred_svc[i] = 1\n",
    "    return new_final_pred_svc\n",
    "\n",
    "def optimize_postprocessing(preds, Y_test_svc):\n",
    "    maxi = 0\n",
    "    for window_size in tqdm(range(8,14,1)):\n",
    "        for threshold in np.arange(0,1,0.1):\n",
    "            new_preds, score = postprocessing(preds, window_size, Y_test_svc, threshold)\n",
    "            if score > maxi:\n",
    "                print(\"Update score :\", score, \"for ws:\", window_size, \"and threshold:\", threshold)\n",
    "                maxi = score\n",
    "                best_ws = window_size\n",
    "                best_thresh = threshold\n",
    "                best_preds = new_preds\n",
    "    return maxi, best_ws, best_thresh, best_preds\n",
    "\n",
    "def final_postprocessing(pred, window_size, threshold):\n",
    "    uni, cpt = np.unique(pred, return_counts=True)\n",
    "    prob_mit = cpt[0]/len(pred)\n",
    "    prob_chi = cpt[1]/len(pred)\n",
    "    new_final_pred = pred.copy()\n",
    "    new_final_pred = soft_smoothing(new_final_pred)\n",
    "    new_final_pred = hard_smoothing(pred, new_final_pred, window_size, threshold)\n",
    "    new_final_pred = soft_smoothing(new_final_pred)\n",
    "    return new_final_pred\n",
    "\n",
    "def final_postprocessing2(pred, window_size, threshold):\n",
    "    new_final_pred = pred.copy()\n",
    "    # new_final_pred = soft_smoothing(new_final_pred) # No idea if it's a good idea\n",
    "    # Hard smoothing until it converges\n",
    "    while True: \n",
    "        new_final_pred_tmp = hard_smoothing(pred, new_final_pred, window_size, threshold)\n",
    "        if np.array_equiv(new_final_pred_tmp, new_final_pred):\n",
    "            break\n",
    "    new_final_pred = new_final_pred_tmp\n",
    "    # Making sure to delete all solo values\n",
    "    while True: \n",
    "        new_final_pred_tmp = soft_smoothing(new_final_pred)\n",
    "        if np.array_equiv(new_final_pred_tmp, new_final_pred):\n",
    "            break\n",
    "    new_final_pred = new_final_pred_tmp\n",
    "    return new_final_pred"
   ]
  },
  {
   "cell_type": "markdown",
   "id": "b50bc47e-c2ec-4e38-90d8-e8fe0d5272c9",
   "metadata": {},
   "source": [
    "## 6. Computing final test predictions after postprocessing"
   ]
  },
  {
   "cell_type": "markdown",
   "id": "6bfb5c98-951d-480d-a487-e4c6e0405886",
   "metadata": {},
   "source": [
    "### --> Find our best model for the smoothing"
   ]
  },
  {
   "cell_type": "code",
   "execution_count": null,
   "id": "e60970e1-a68f-4250-b78b-cc55563372cf",
   "metadata": {},
   "outputs": [],
   "source": [
    "final_model = voting_clf_soft\n",
    "X_test_vector_final = X_test_vector_svc\n",
    "Y_test_final = Y_test_svc\n",
    "\n",
    "maxi, best_ws, best_thresh, best_preds = optimize_postprocessing(final_model.predict(X_test_vector_final), Y_test_final) "
   ]
  },
  {
   "cell_type": "markdown",
   "id": "f1ffbd78-e550-43b4-a888-86e6ff4becf8",
   "metadata": {},
   "source": [
    "### --> Displaying our f1 score after postprocessing"
   ]
  },
  {
   "cell_type": "code",
   "execution_count": null,
   "id": "92b9ee14-f1f1-4e06-86f5-460502cbd313",
   "metadata": {},
   "outputs": [],
   "source": [
    "print(\"best parameters:\", maxi, best_ws, best_thresh, best_preds)\n",
    "print(\"------------------------------before------------------------------\")\n",
    "print(classification_report(final_model.predict(X_test_vector_final), Y_test_final))\n",
    "print(\"------------------------------after------------------------------\")\n",
    "print(classification_report(best_preds, Y_test_final))"
   ]
  },
  {
   "cell_type": "code",
   "execution_count": null,
   "id": "845852fd-f4e1-4774-b7b4-19ad8ee91d20",
   "metadata": {},
   "outputs": [],
   "source": [
    "# with svc : 0.77, 0.98, 0.96 on test\n",
    "# with soft : "
   ]
  },
  {
   "cell_type": "markdown",
   "id": "28f8ac6a-da91-4894-ac80-cdeccc44d146",
   "metadata": {},
   "source": [
    "### --> Results after postprocessing"
   ]
  },
  {
   "cell_type": "code",
   "execution_count": null,
   "id": "0cec717d-adf0-495e-a5f3-b67232489bf8",
   "metadata": {},
   "outputs": [],
   "source": [
    "print(\"------------------------------before------------------------------\")\n",
    "print(final_model.predict(X_test_vector_final)[:500])\n",
    "print(\"------------------------------after------------------------------\")\n",
    "print(final_postprocessing2(final_model.predict(X_test_vector_final)[:500], best_ws, best_thresh))"
   ]
  },
  {
   "cell_type": "code",
   "execution_count": null,
   "id": "0806c53a-775c-4d16-8488-dc1522df267a",
   "metadata": {},
   "outputs": [],
   "source": [
    "fname = \"./data/corpus.tache1.test.utf8\"\n",
    "alltxts_test_final, _ = load_pres(fname)\n",
    "X_test_final = np.array(alltxts_test_final)"
   ]
  },
  {
   "cell_type": "code",
   "execution_count": null,
   "id": "e0f97849-e248-4cda-9887-f6d97d498237",
   "metadata": {},
   "outputs": [],
   "source": [
    "# X_test_vector_svc = vectorizer_svc.transform(X_test_final)\n",
    "# final_pred_svc = final_svc.predict(X_test_vector_svc)\n",
    "\n",
    "X_test_vector_svc = vectorizer_svc.transform(X_test_final)\n",
    "final_pred_soft = voting_clf_soft.predict(X_test_vector_svc)"
   ]
  },
  {
   "cell_type": "code",
   "execution_count": null,
   "id": "8a476929-aa72-46ca-84af-1f202bb415a6",
   "metadata": {},
   "outputs": [],
   "source": [
    "# new_final_pred_svc = final_postprocessing(final_pred_svc, best_ws, best_thresh)\n",
    "# new_final_pred_svc2 = final_postprocessing2(final_pred_svc, best_ws, best_thresh)\n",
    "\n",
    "new_final_pred_soft = final_postprocessing(final_pred_soft, best_ws, best_thresh)\n",
    "new_final_pred_soft2 = final_postprocessing2(final_pred_soft, best_ws, best_thresh)"
   ]
  },
  {
   "cell_type": "code",
   "execution_count": null,
   "id": "0f8526ef-a6ca-4adc-ab8b-50b83b8eb5c5",
   "metadata": {},
   "outputs": [],
   "source": [
    "# print(new_final_pred_svc.shape)\n",
    "\n",
    "print(new_final_pred_soft.shape)"
   ]
  },
  {
   "cell_type": "code",
   "execution_count": null,
   "id": "14ea84fb-7628-4dd1-be6f-fe59bdaf2eae",
   "metadata": {},
   "outputs": [],
   "source": [
    "# print(final_pred_svc[500:1000])\n",
    "# print(new_final_pred_svc[500:1000])\n",
    "\n",
    "print(final_pred_soft[500:1000])\n",
    "print(new_final_pred_soft[500:1000])"
   ]
  },
  {
   "cell_type": "code",
   "execution_count": null,
   "id": "4619f0ab-4259-4a93-9f67-24ffd2d1a638",
   "metadata": {},
   "outputs": [],
   "source": [
    "save=True\n",
    "if save :\n",
    "#     f = open(\"../TME1/output/preds_svc_no_shuffle_postprocess_last.txt\", \"w\")\n",
    "#     preds = \"\"\n",
    "#     for i in range(len(new_final_pred_svc)):\n",
    "#         preds += str(new_final_pred_svc[i]) + \"\\n\"\n",
    "#     # print(preds)\n",
    "#     f.write(preds)\n",
    "#     f.close()\n",
    "\n",
    "#     f = open(\"../TME1/output/preds_svc_no_shuffle_postprocess2_last.txt\", \"w\")\n",
    "#     preds2 = \"\"\n",
    "#     for i in range(len(new_final_pred_svc2)):\n",
    "#         preds2 += str(new_final_pred_svc2[i]) + \"\\n\"\n",
    "#     # print(preds)\n",
    "#     f.write(preds2)\n",
    "#     f.close()\n",
    "\n",
    "    f = open(\"../TME1/output/preds_softvoting_postprocess.txt\", \"w\")\n",
    "    preds = \"\"\n",
    "    for i in range(len(new_final_pred_soft)):\n",
    "        preds += str(new_final_pred_soft[i]) + \"\\n\"\n",
    "    # print(preds)\n",
    "    f.write(preds)\n",
    "    f.close()\n",
    "    \n",
    "# BEST PERFORMANCE SVC : 79% ACC ON TEST F1_MIT !!!"
   ]
  },
  {
   "cell_type": "markdown",
   "id": "2cc0cb06-6c17-4aad-a9e6-78aa13dfd122",
   "metadata": {},
   "source": [
    "# III) Movie dataset"
   ]
  },
  {
   "cell_type": "code",
   "execution_count": 41,
   "id": "c4964733-6d60-4e24-9021-c677a414c761",
   "metadata": {},
   "outputs": [],
   "source": [
    "def load_movies(path2data): \n",
    "    alltxts = []\n",
    "    labs = []\n",
    "    cpt = 0\n",
    "    for cl in os.listdir(path2data): \n",
    "        for f in os.listdir(path2data+cl):\n",
    "            txt = open(path2data+cl+'/'+f).read()\n",
    "            alltxts.append(txt)\n",
    "            labs.append(cpt)\n",
    "        cpt+=1 \n",
    "    return alltxts,labs"
   ]
  },
  {
   "cell_type": "markdown",
   "id": "d088549f-6e62-4dda-8ffe-a3c33b194e0d",
   "metadata": {},
   "source": [
    "## 1. Data visualization"
   ]
  },
  {
   "cell_type": "code",
   "execution_count": null,
   "id": "ca299be8-2602-4e0d-8b2e-149fd8ab073f",
   "metadata": {},
   "outputs": [],
   "source": []
  },
  {
   "cell_type": "markdown",
   "id": "ca1f5a9f-1c34-41a0-ad0e-e287ec81bf41",
   "metadata": {},
   "source": [
    "## 2. Feature and model selection"
   ]
  },
  {
   "cell_type": "markdown",
   "id": "e031aef3-be22-4de0-a0e1-4bdca2adf185",
   "metadata": {},
   "source": [
    "### --> Loading and splitting data"
   ]
  },
  {
   "cell_type": "code",
   "execution_count": 42,
   "id": "0d1d30e1-b802-4892-bb73-9efb6eb9fb0a",
   "metadata": {},
   "outputs": [
    {
     "name": "stdout",
     "output_type": "stream",
     "text": [
      "1340\n",
      "660\n"
     ]
    }
   ],
   "source": [
    "path =  \"./data/movies1000/\"\n",
    "alltxts,alllabs = load_movies(path)\n",
    "X = np.array(alltxts)\n",
    "Y = np.array(alllabs)\n",
    "X_train, X_test, Y_train, Y_test = train_test_split(X, Y, test_size=0.33, shuffle=True)\n",
    "print(len(X_train))\n",
    "print(len(X_test))"
   ]
  },
  {
   "cell_type": "markdown",
   "id": "1c8a7ebf-9656-4b25-94dd-d9c193560a3a",
   "metadata": {},
   "source": [
    "### --> Stemming"
   ]
  },
  {
   "cell_type": "code",
   "execution_count": 43,
   "id": "91b21a68-f1f7-4b16-98c3-4882cb8a4f26",
   "metadata": {},
   "outputs": [],
   "source": [
    "# Remove comment for stemming\n",
    "# print(len(X_train))\n",
    "# stemmer = snowballstemmer.stemmer('french');\n",
    "# for i in range(len(X_train)):\n",
    "#     stemmer.stemWords(X_train[i].split()[j] for j in range(len(X_train[i].split())))\n",
    "# print(np.array(X_train).shape)"
   ]
  },
  {
   "cell_type": "markdown",
   "id": "1148268c-3f84-4a14-9b43-dc02026852af",
   "metadata": {},
   "source": [
    "### --> Feature selection depending the model selected"
   ]
  },
  {
   "cell_type": "code",
   "execution_count": 44,
   "id": "670e0ce9-bd56-4c47-b1b3-db34a1784a72",
   "metadata": {},
   "outputs": [],
   "source": [
    "search = False\n",
    "sw = stopwords.words('french')\n",
    "\n",
    "if search :\n",
    "    \n",
    "    pipeline_svc = Pipeline(\n",
    "        [\n",
    "            (\"vect\", TfidfVectorizer(max_features=10_000)), # avoids overfit on train set (having more features than individuals is bad most of the time)\n",
    "            (\"clf\", LinearSVC(max_iter=1000, # also avoids overfit\n",
    "                              C=100)) # regularization so the model doesn't predict only one class  \n",
    "        ]\n",
    "    )\n",
    "    pipeline_nb = Pipeline(\n",
    "        [\n",
    "            (\"vect\", TfidfVectorizer(max_features=10_000)),\n",
    "            (\"clf\", MultinomialNB())      \n",
    "        ]\n",
    "    )\n",
    "    pipeline_lr = Pipeline(\n",
    "        [\n",
    "            (\"vect\", TfidfVectorizer(max_features=10_000)),\n",
    "            (\"clf\", LogisticRegression(max_iter=1000,\n",
    "                                       C=100))        \n",
    "        ]\n",
    "    )\n",
    "    parameters_vectorizer = {\n",
    "        \"vect__lowercase\": (False,),\n",
    "        \"vect__stop_words\": (None,),\n",
    "        \"vect__strip_accents\": (None,),\n",
    "        # \"vect__use_idf\": (True,False),\n",
    "        # \"vect__smooth_idf\": (False,True),\n",
    "        # \"vect__sublinear_tf\": (False,True),\n",
    "        \n",
    "        \"vect__min_df\": (1, 5, 15, 30),\n",
    "        \"vect__max_df\": (0.01, 0.05, 0.1, 0.2, 0.5),\n",
    "        \"vect__ngram_range\": [(1, 1), (1, 2)],\n",
    "        }\n",
    "    \n",
    "    strat_kfold = StratifiedKFold(n_splits=3, shuffle=True)\n",
    "\n",
    "    grid_search_parameters_svc = GridSearchCV(pipeline_svc, \n",
    "                                              parameters_vectorizer, \n",
    "                                              scoring=\"accuracy\",\n",
    "                                              n_jobs=8, \n",
    "                                              verbose=3, \n",
    "                                              cv=strat_kfold,\n",
    "                                              refit=True\n",
    "                                              )\n",
    "    grid_search_parameters_nb = GridSearchCV(pipeline_nb, \n",
    "                                              parameters_vectorizer, \n",
    "                                              scoring=\"accuracy\",\n",
    "                                              n_jobs=8, \n",
    "                                              verbose=3, \n",
    "                                              cv=strat_kfold,\n",
    "                                              refit=True\n",
    "                                              )\n",
    "    grid_search_parameters_lr = GridSearchCV(pipeline_lr, \n",
    "                                              parameters_vectorizer, \n",
    "                                              scoring=\"accuracy\", \n",
    "                                              n_jobs=8, \n",
    "                                              verbose=3, \n",
    "                                              cv=strat_kfold,\n",
    "                                              refit=True\n",
    "                                              )\n",
    "    \n",
    "    print(\"============================================= SVC + VECTORIZER =============================================\")\n",
    "    t0 = time()\n",
    "    grid_search_parameters_svc.fit(X_train, Y_train)\n",
    "    print(\"done in %0.3fs\" % (time() - t0))\n",
    "    display_model_scores(grid_search_parameters_svc, X_train, Y_train) # check overfit X_train\n",
    "    display_model_scores(grid_search_parameters_svc, X_test, Y_test)\n",
    "    \n",
    "    print(\"============================================= NB + VECTORIZER =============================================\")\n",
    "    t0 = time()\n",
    "    grid_search_parameters_nb.fit(X_train, Y_train)\n",
    "    print(\"done in %0.3fs\" % (time() - t0))\n",
    "    display_model_scores(grid_search_parameters_nb, X_train, Y_train)\n",
    "    display_model_scores(grid_search_parameters_nb, X_test, Y_test) \n",
    "    \n",
    "    print(\"============================================= LR + VECTORIZER =============================================\")\n",
    "    t0 = time()\n",
    "    grid_search_parameters_lr.fit(X_train, Y_train)\n",
    "    print(\"done in %0.3fs\" % (time() - t0))\n",
    "    display_model_scores(grid_search_parameters_lr, X_train, Y_train)\n",
    "    display_model_scores(grid_search_parameters_lr, X_test, Y_test) "
   ]
  },
  {
   "cell_type": "markdown",
   "id": "dddd58d3-498a-43db-9c34-eed97f3a1d87",
   "metadata": {},
   "source": [
    "### --> Building optimal vectorizer for each model"
   ]
  },
  {
   "cell_type": "code",
   "execution_count": 45,
   "id": "bd400815-ec0d-4543-8d1c-7ab8e8908d6a",
   "metadata": {},
   "outputs": [
    {
     "name": "stdout",
     "output_type": "stream",
     "text": [
      "(1340, 10000)\n",
      "(1340, 8872)\n",
      "(1340, 10000)\n"
     ]
    }
   ],
   "source": [
    "vectorizer_svc = TfidfVectorizer(lowercase=False,\n",
    "                                 stop_words=None,\n",
    "                                 strip_accents=None,\n",
    "                                 # use_idf=True,\n",
    "                                 # smooth_idf=True,\n",
    "                                 # sublinear_tf=False,\n",
    "                             \n",
    "                                 max_features=10_000,\n",
    "                                 min_df=5,\n",
    "                                 max_df=0.5,\n",
    "                                 ngram_range=(1,2),\n",
    "                                 )\n",
    "\n",
    "vectorizer_nb = TfidfVectorizer(lowercase=False,\n",
    "                                stop_words=None,\n",
    "                                strip_accents=None,\n",
    "                                # use_idf=True,\n",
    "                                # smooth_idf=True,\n",
    "                                # sublinear_tf=False,\n",
    "                             \n",
    "                                max_features=10_000,\n",
    "                                min_df=15,\n",
    "                                max_df=0.1,\n",
    "                                ngram_range=(1,2),\n",
    "                                )\n",
    "\n",
    "vectorizer_lr = TfidfVectorizer(lowercase=False,\n",
    "                                stop_words=None,\n",
    "                                strip_accents=None,\n",
    "                                # use_idf=True,\n",
    "                                # smooth_idf=True,\n",
    "                                # sublinear_tf=False,\n",
    "                             \n",
    "                                max_features=10_000,\n",
    "                                min_df=5,\n",
    "                                max_df=0.5,\n",
    "                                ngram_range=(1,2),\n",
    "                                )\n",
    "\n",
    "# Remove comment for stemming\n",
    "# print(len(X_train))\n",
    "# stemmer = snowballstemmer.stemmer('french');\n",
    "# for i in range(len(X_train)):\n",
    "#     stemmer.stemWords(X_train[i].split()[j] for j in range(len(X_train[i].split())))\n",
    "# print(np.array(X_train).shape)\n",
    "\n",
    "X_train_vector_svc, X_test_vector_svc, Y_train_svc, Y_test_svc = get_all_data_vectorized(X_train, X_test, Y_train, Y_test, vectorizer_svc)\n",
    "print(X_train_vector_svc.shape)\n",
    "X_train_vector_nb, X_test_vector_nb, Y_train_nb, Y_test_nb = get_all_data_vectorized(X_train, X_test, Y_train, Y_test, vectorizer_nb)\n",
    "print(X_train_vector_nb.shape)\n",
    "X_train_vector_lr, X_test_vector_lr, Y_train_lr, Y_test_lr = get_all_data_vectorized(X_train, X_test, Y_train, Y_test, vectorizer_lr)\n",
    "print(X_train_vector_lr.shape)"
   ]
  },
  {
   "cell_type": "code",
   "execution_count": 46,
   "id": "3cc7c4cb-78c4-4763-bb10-9717aed1be12",
   "metadata": {},
   "outputs": [],
   "source": [
    "# vectorizer_svc = TfidfVectorizer(lowercase=False,\n",
    "#                                  stop_words=None,\n",
    "#                                  strip_accents=None,\n",
    "#                                  # use_idf=True,\n",
    "#                                  # smooth_idf=True,\n",
    "#                                  # sublinear_tf=False,\n",
    "                             \n",
    "#                                  max_features=None,\n",
    "#                                  min_df=5,\n",
    "#                                  max_df=0.5,\n",
    "#                                  ngram_range=(1,2),\n",
    "#                                  )\n",
    "\n",
    "\n",
    "# svc = LinearSVC(max_iter=10000, C=1)\n",
    "\n",
    "# X_vector = vectorizer_svc.fit_transform(X_train)\n",
    "# X_test_vector = vectorizer_svc.transform(X_test)\n",
    "# svc.fit(X_vector,Y_train)\n",
    "# preds = svc.predict(X_test_vector)\n",
    "# display_model_scores(svc, X_vector, Y_train, search=False)\n",
    "# display_model_scores(svc, X_test_vector, Y_test, search=False)\n",
    "\n",
    "# path = \"./data/testSentiment.txt\"\n",
    "# f = open(path,encoding=\"utf8\")\n",
    "# X_test_final = np.array(f.readlines())\n",
    "\n",
    "# X_test_vector = vectorizer_svc.transform(X_test_final)\n",
    "# pred = svc.predict(X_test_vector)\n",
    "\n",
    "# print(pred.shape)\n",
    "\n",
    "# save=True\n",
    "# if save :\n",
    "#     f = open(\"../TME1/output/movies_pred_svc_test.txt\", \"a\")\n",
    "#     preds = \"\"\n",
    "#     for i in range(len(pred)):\n",
    "#         preds += str(pred[i]) + \"\\n\"\n",
    "#     f.write(preds)\n",
    "#     f.close()"
   ]
  },
  {
   "cell_type": "markdown",
   "id": "fb7862f8-a526-4ae2-ae04-674ad40e1e87",
   "metadata": {},
   "source": [
    "### --> Model selection SVC"
   ]
  },
  {
   "cell_type": "code",
   "execution_count": 47,
   "id": "b0b37ce6-a74a-4c82-b341-b46090afb24e",
   "metadata": {},
   "outputs": [],
   "source": [
    "search = False\n",
    "if search:\n",
    "    parameters = {\n",
    "        'C': (1,10,50,100,200,500)    \n",
    "    }\n",
    "    \n",
    "    strat_kfold = StratifiedKFold(n_splits=5, shuffle=True)\n",
    "\n",
    "    optimal_svc = GridSearchCV(LinearSVC(max_iter=5000),\n",
    "                               parameters, \n",
    "                               scoring=\"accuracy\",\n",
    "                               n_jobs=8, \n",
    "                               verbose=3, \n",
    "                               cv=strat_kfold,\n",
    "                               refit=True\n",
    "                               )\n",
    "\n",
    "    t0 = time()\n",
    "    optimal_svc.fit(X_train_vector_svc, Y_train_svc)\n",
    "    print(\"done in %0.3fs\" % (time() - t0))\n",
    "    \n",
    "    display_model_scores(optimal_svc, X_train_vector_svc, Y_train_svc)\n",
    "    display_model_scores(optimal_svc, X_test_vector_svc, Y_test_svc)"
   ]
  },
  {
   "cell_type": "markdown",
   "id": "9cdbe9f3-abc7-4270-a078-e2ec029683c3",
   "metadata": {},
   "source": [
    "### --> Model selection NB"
   ]
  },
  {
   "cell_type": "code",
   "execution_count": 48,
   "id": "89172faf-3d4c-445b-b037-d39e7493aeda",
   "metadata": {},
   "outputs": [],
   "source": [
    "if search:\n",
    "    parameters = {\n",
    "        'alpha': np.arange(0, 1, 0.05),\n",
    "    }\n",
    "    \n",
    "    strat_kfold = StratifiedKFold(n_splits=5, shuffle=True)\n",
    "\n",
    "    optimal_nb = GridSearchCV(MultinomialNB(),\n",
    "                              parameters, \n",
    "                              scoring=\"accuracy\",\n",
    "                              n_jobs=8, \n",
    "                              verbose=3, \n",
    "                              cv=strat_kfold,\n",
    "                              refit=True\n",
    "                              )\n",
    "\n",
    "    t0 = time()\n",
    "    optimal_nb.fit(X_train_vector_nb, Y_train_nb)\n",
    "    print(\"done in %0.3fs\" % (time() - t0))\n",
    "    \n",
    "    display_model_scores(optimal_nb, X_train_vector_nb, Y_train_nb)\n",
    "    display_model_scores(optimal_nb, X_test_vector_nb, Y_test_nb)"
   ]
  },
  {
   "cell_type": "markdown",
   "id": "68934338-b5d9-4c9b-b5c0-19b83d77871a",
   "metadata": {},
   "source": [
    "### --> Model selection LR"
   ]
  },
  {
   "cell_type": "code",
   "execution_count": 49,
   "id": "ac53bfbb-02d7-481d-a3a7-88b0a4359d62",
   "metadata": {},
   "outputs": [],
   "source": [
    "if search:\n",
    "    parameters = {\n",
    "        'C': (1, 10, 50, 100, 200, 500)\n",
    "    }\n",
    "    \n",
    "    strat_kfold = StratifiedKFold(n_splits=5, shuffle=True)\n",
    "\n",
    "    optimal_lr = GridSearchCV(LogisticRegression(class_weight=\"balanced\",\n",
    "                                                      max_iter=5000),\n",
    "                               parameters, \n",
    "                               scoring=\"accuracy\",\n",
    "                               n_jobs=8, \n",
    "                               verbose=3, \n",
    "                               cv=strat_kfold,\n",
    "                               refit=True\n",
    "                               )\n",
    "\n",
    "    t0 = time()\n",
    "    optimal_lr.fit(X_train_vector_lr, Y_train_lr)\n",
    "    print(\"done in %0.3fs\" % (time() - t0))\n",
    "    \n",
    "    display_model_scores(optimal_lr, X_train_vector_lr, Y_train_lr)\n",
    "    display_model_scores(optimal_lr, X_test_vector_lr, Y_test_lr)"
   ]
  },
  {
   "cell_type": "markdown",
   "id": "abf6ef09-e6bb-4055-ab98-131e2aa2fddb",
   "metadata": {},
   "source": [
    "### --> Test 3 optimal models without max_iter"
   ]
  },
  {
   "cell_type": "code",
   "execution_count": 50,
   "id": "f6fea71b-7eb2-40b5-9bed-fd6297fead9e",
   "metadata": {},
   "outputs": [
    {
     "name": "stdout",
     "output_type": "stream",
     "text": [
      "done in 0.150s\n",
      "[[677   0]\n",
      " [  0 663]]\n",
      "              precision    recall  f1-score   support\n",
      "\n",
      "           0       1.00      1.00      1.00       677\n",
      "           1       1.00      1.00      1.00       663\n",
      "\n",
      "    accuracy                           1.00      1340\n",
      "   macro avg       1.00      1.00      1.00      1340\n",
      "weighted avg       1.00      1.00      1.00      1340\n",
      "\n",
      "[[269  54]\n",
      " [ 37 300]]\n",
      "              precision    recall  f1-score   support\n",
      "\n",
      "           0       0.88      0.83      0.86       323\n",
      "           1       0.85      0.89      0.87       337\n",
      "\n",
      "    accuracy                           0.86       660\n",
      "   macro avg       0.86      0.86      0.86       660\n",
      "weighted avg       0.86      0.86      0.86       660\n",
      "\n"
     ]
    }
   ],
   "source": [
    "final_svc = LinearSVC(max_iter=10_000,\n",
    "                      C=10)\n",
    "\n",
    "t0 = time()\n",
    "final_svc.fit(X_train_vector_svc, Y_train_svc)\n",
    "print(\"done in %0.3fs\" % (time() - t0))\n",
    "    \n",
    "display_model_scores(final_svc, X_train_vector_svc, Y_train_svc, search=False)\n",
    "display_model_scores(final_svc, X_test_vector_svc, Y_test_svc, search=False)"
   ]
  },
  {
   "cell_type": "code",
   "execution_count": 51,
   "id": "1f551c79-63ca-4e34-802b-367e75001b20",
   "metadata": {},
   "outputs": [
    {
     "name": "stdout",
     "output_type": "stream",
     "text": [
      "done in 0.004s\n",
      "[[662  15]\n",
      " [ 20 643]]\n",
      "              precision    recall  f1-score   support\n",
      "\n",
      "           0       0.97      0.98      0.97       677\n",
      "           1       0.98      0.97      0.97       663\n",
      "\n",
      "    accuracy                           0.97      1340\n",
      "   macro avg       0.97      0.97      0.97      1340\n",
      "weighted avg       0.97      0.97      0.97      1340\n",
      "\n",
      "[[270  53]\n",
      " [ 64 273]]\n",
      "              precision    recall  f1-score   support\n",
      "\n",
      "           0       0.81      0.84      0.82       323\n",
      "           1       0.84      0.81      0.82       337\n",
      "\n",
      "    accuracy                           0.82       660\n",
      "   macro avg       0.82      0.82      0.82       660\n",
      "weighted avg       0.82      0.82      0.82       660\n",
      "\n"
     ]
    }
   ],
   "source": [
    "final_nb = MultinomialNB(alpha=0.0)\n",
    "\n",
    "t0 = time()\n",
    "final_nb.fit(X_train_vector_nb, Y_train_nb)\n",
    "print(\"done in %0.3fs\" % (time() - t0))\n",
    "    \n",
    "display_model_scores(final_nb, X_train_vector_nb, Y_train_nb, search=False)\n",
    "display_model_scores(final_nb, X_test_vector_nb, Y_test_nb, search=False)"
   ]
  },
  {
   "cell_type": "code",
   "execution_count": 52,
   "id": "8480d604-51b8-4b99-b4c1-d568b5021064",
   "metadata": {},
   "outputs": [
    {
     "name": "stdout",
     "output_type": "stream",
     "text": [
      "done in 0.148s\n",
      "[[677   0]\n",
      " [  0 663]]\n",
      "              precision    recall  f1-score   support\n",
      "\n",
      "           0       1.00      1.00      1.00       677\n",
      "           1       1.00      1.00      1.00       663\n",
      "\n",
      "    accuracy                           1.00      1340\n",
      "   macro avg       1.00      1.00      1.00      1340\n",
      "weighted avg       1.00      1.00      1.00      1340\n",
      "\n",
      "[[263  60]\n",
      " [ 39 298]]\n",
      "              precision    recall  f1-score   support\n",
      "\n",
      "           0       0.87      0.81      0.84       323\n",
      "           1       0.83      0.88      0.86       337\n",
      "\n",
      "    accuracy                           0.85       660\n",
      "   macro avg       0.85      0.85      0.85       660\n",
      "weighted avg       0.85      0.85      0.85       660\n",
      "\n"
     ]
    }
   ],
   "source": [
    "final_lr = LogisticRegression(max_iter=10_000,\n",
    "                              C=100)\n",
    "\n",
    "t0 = time()\n",
    "final_lr.fit(X_train_vector_lr, Y_train_lr)\n",
    "print(\"done in %0.3fs\" % (time() - t0))\n",
    "    \n",
    "display_model_scores(final_lr, X_train_vector_lr, Y_train_lr, search=False)\n",
    "display_model_scores(final_lr, X_test_vector_lr, Y_test_lr, search=False) "
   ]
  },
  {
   "cell_type": "markdown",
   "id": "7a4601df-8278-453c-babc-711645652c6b",
   "metadata": {},
   "source": [
    "### --> Testing voting classifier"
   ]
  },
  {
   "cell_type": "code",
   "execution_count": null,
   "id": "81ac8416-0a7f-46a9-93c5-71584cefff50",
   "metadata": {},
   "outputs": [],
   "source": [
    "svc_for_vote = SVC(kernel='linear', # VotingClassifier doesn't work with linearSVC() module\n",
    "                   probability=True,\n",
    "                   max_iter=10_000,\n",
    "                   C=10)"
   ]
  },
  {
   "cell_type": "code",
   "execution_count": null,
   "id": "3466062b-96eb-46b9-9afb-44f95adf39c0",
   "metadata": {},
   "outputs": [],
   "source": [
    "voting_clf_soft = VotingClassifier(estimators=[\n",
    "                                    ('lr', final_lr), \n",
    "                                    ('nb', final_nb),\n",
    "                                    ('svc', svc_for_vote)\n",
    "                                    ],\n",
    "                              voting='soft',\n",
    "                              n_jobs=1)\n",
    "\n",
    "t0 = time()\n",
    "voting_clf_soft.fit(X_train_vector_lr, Y_train_lr)\n",
    "print(\"done in %0.3fs\" % (time() - t0))\n",
    "    \n",
    "display_model_scores(voting_clf_soft, X_train_vector_lr, Y_train_lr, search=False)\n",
    "display_model_scores(voting_clf_soft, X_test_vector_lr, Y_test_lr, search=False)"
   ]
  },
  {
   "cell_type": "code",
   "execution_count": null,
   "id": "249fa327-219c-4a1a-ab9e-7e5145325de5",
   "metadata": {},
   "outputs": [],
   "source": [
    "voting_clf_hard = VotingClassifier(estimators=[\n",
    "                                    ('lr', final_lr), \n",
    "                                    ('nb', final_nb),\n",
    "                                    ('svc', svc_for_vote)\n",
    "                                    ],\n",
    "                              voting='hard',\n",
    "                              n_jobs=1)\n",
    "\n",
    "t0 = time()\n",
    "voting_clf_hard.fit(X_train_vector_lr, Y_train_lr)\n",
    "print(\"done in %0.3fs\" % (time() - t0))\n",
    "    \n",
    "display_model_scores(voting_clf_hard, X_train_vector_lr, Y_train_lr, search=False)\n",
    "display_model_scores(voting_clf_hard, X_test_vector_lr, Y_test_lr, search=False)"
   ]
  },
  {
   "cell_type": "markdown",
   "id": "2116c776-7b8c-45e9-bb8f-b487cbef6d16",
   "metadata": {},
   "source": [
    "## 3. Final training"
   ]
  },
  {
   "cell_type": "code",
   "execution_count": 53,
   "id": "f1d7fdef-03b5-4f6d-baaa-9e3c2153a043",
   "metadata": {},
   "outputs": [
    {
     "name": "stdout",
     "output_type": "stream",
     "text": [
      "1340\n",
      "660\n"
     ]
    }
   ],
   "source": [
    "path =  \"./data/movies1000/\"\n",
    "alltxts,alllabs = load_movies(path)\n",
    "X = np.array(alltxts)\n",
    "Y = np.array(alllabs)\n",
    "X_train_final, X_test_final, Y_train_final, Y_test_final = train_test_split(X, Y, test_size=0.33, shuffle=True)\n",
    "print(len(X_train_final))\n",
    "print(len(X_test_final))"
   ]
  },
  {
   "cell_type": "code",
   "execution_count": 54,
   "id": "c4f5878e-9221-4a8d-a285-a7217cb651ef",
   "metadata": {},
   "outputs": [
    {
     "name": "stdout",
     "output_type": "stream",
     "text": [
      " done in 0.127s\n",
      " done in 0.002s\n",
      " done in 0.218s\n"
     ]
    }
   ],
   "source": [
    "X_final_vector_svc = vectorizer_svc.fit_transform(X_train_final)\n",
    "X_final_vector_nb = vectorizer_nb.fit_transform(X_train_final)\n",
    "X_final_vector_lr = vectorizer_lr.fit_transform(X_train_final)\n",
    "\n",
    "X_test_vector_svc = vectorizer_svc.transform(X_test_final)\n",
    "X_test_vector_nb = vectorizer_nb.transform(X_test_final)\n",
    "X_test_vector_lr = vectorizer_lr.transform(X_test_final)\n",
    "\n",
    "t0 = time()\n",
    "final_svc.fit(X_final_vector_svc,  Y_train_final)\n",
    "print(\" done in %0.3fs\" % (time() - t0))\n",
    "\n",
    "t0 = time()\n",
    "final_nb.fit(X_final_vector_nb,  Y_train_final)\n",
    "print(\" done in %0.3fs\" % (time() - t0))\n",
    "\n",
    "t0 = time()\n",
    "final_lr.fit(X_final_vector_lr,  Y_train_final)\n",
    "print(\" done in %0.3fs\" % (time() - t0))\n",
    "\n",
    "t0 = time()\n",
    "voting_clf_soft.fit(X_final_vector_lr,  Y_train_final)\n",
    "print(\" done in %0.3fs\" % (time() - t0))\n",
    "\n",
    "t0 = time()\n",
    "voting_clf_hard.fit(X_final_vector_lr,  Y_train_final)\n",
    "print(\" done in %0.3fs\" % (time() - t0))"
   ]
  },
  {
   "cell_type": "code",
   "execution_count": 55,
   "id": "24840ea3-2a60-4284-8153-1e5ac0bb4aaa",
   "metadata": {},
   "outputs": [
    {
     "name": "stdout",
     "output_type": "stream",
     "text": [
      "[[263  54]\n",
      " [ 48 295]]\n",
      "              precision    recall  f1-score   support\n",
      "\n",
      "           0       0.85      0.83      0.84       317\n",
      "           1       0.85      0.86      0.85       343\n",
      "\n",
      "    accuracy                           0.85       660\n",
      "   macro avg       0.85      0.84      0.85       660\n",
      "weighted avg       0.85      0.85      0.85       660\n",
      "\n",
      "[[265  52]\n",
      " [ 68 275]]\n",
      "              precision    recall  f1-score   support\n",
      "\n",
      "           0       0.80      0.84      0.82       317\n",
      "           1       0.84      0.80      0.82       343\n",
      "\n",
      "    accuracy                           0.82       660\n",
      "   macro avg       0.82      0.82      0.82       660\n",
      "weighted avg       0.82      0.82      0.82       660\n",
      "\n",
      "[[266  51]\n",
      " [ 49 294]]\n",
      "              precision    recall  f1-score   support\n",
      "\n",
      "           0       0.84      0.84      0.84       317\n",
      "           1       0.85      0.86      0.85       343\n",
      "\n",
      "    accuracy                           0.85       660\n",
      "   macro avg       0.85      0.85      0.85       660\n",
      "weighted avg       0.85      0.85      0.85       660\n",
      "\n"
     ]
    }
   ],
   "source": [
    "display_model_scores(final_svc, X_test_vector_svc, Y_test_final, search=False)\n",
    "display_model_scores(final_nb, X_test_vector_nb, Y_test_final, search=False)\n",
    "display_model_scores(final_lr, X_test_vector_lr, Y_test_final, search=False)\n",
    "display_model_scores(voting_clf_soft, X_test_vector_lr, Y_test_final, search=False)\n",
    "display_model_scores(voting_clf_hard, X_test_vector_lr, Y_test_final, search=False)"
   ]
  },
  {
   "cell_type": "markdown",
   "id": "bd6e5a15-ad93-4e81-a110-05b456a6e0b6",
   "metadata": {},
   "source": [
    "## 4. Training on whole dataset"
   ]
  },
  {
   "cell_type": "code",
   "execution_count": null,
   "id": "aead4b26-fcd9-4cb9-9292-1bbe0d8f190d",
   "metadata": {},
   "outputs": [],
   "source": [
    "path =  \"./data/movies1000/\"\n",
    "alltxts,alllabs = load_movies(path)\n",
    "X = np.array(alltxts)\n",
    "Y = np.array(alllabs)\n",
    "print(len(X))\n",
    "print(len(Y))"
   ]
  },
  {
   "cell_type": "code",
   "execution_count": null,
   "id": "7c674606-2d08-4ac8-87d9-0d9d25d9cae3",
   "metadata": {},
   "outputs": [],
   "source": []
  },
  {
   "cell_type": "code",
   "execution_count": null,
   "id": "c9d90488-4806-4ac5-9405-cf3e7eb8a6bb",
   "metadata": {},
   "outputs": [],
   "source": []
  },
  {
   "cell_type": "code",
   "execution_count": null,
   "id": "80ec3232-73f9-49bc-ae6b-e2ca34c1482f",
   "metadata": {},
   "outputs": [],
   "source": []
  },
  {
   "cell_type": "markdown",
   "id": "e5eff580-b3a3-48a0-bbf1-bf7991df4677",
   "metadata": {},
   "source": [
    "## 5. Computing final test predictions"
   ]
  },
  {
   "cell_type": "code",
   "execution_count": 56,
   "id": "7e653556-096d-43a0-8db2-8f61f7cb37b7",
   "metadata": {},
   "outputs": [],
   "source": [
    "path = \"./data/testSentiment.txt\"\n",
    "f = open(path,encoding=\"utf8\")\n",
    "X_test_final = np.array(f.readlines())"
   ]
  },
  {
   "cell_type": "code",
   "execution_count": 57,
   "id": "b4e51830-f430-4808-b947-81d15f5b40bb",
   "metadata": {},
   "outputs": [
    {
     "name": "stdout",
     "output_type": "stream",
     "text": [
      "25000\n",
      "Airport '77 starts as a brand new luxury 747 plane is loaded up with valuable paintings & such belonging to rich businessman Philip Stevens (James Stewart) who is flying them & a bunch of VIP's to his estate in preparation of it being opened to the public as a museum, also on board is Stevens daughter Julie (Kathleen Quinlan) & her son. The luxury jetliner takes off as planned but mid-air the plane is hi-jacked by the co-pilot Chambers (Robert Foxworth) & his two accomplice's Banker (Monte Markham) & Wilson (Michael Pataki) who knock the passengers & crew out with sleeping gas, they plan to steal the valuable cargo & land on a disused plane strip on an isolated island but while making his descent Chambers almost hits an oil rig in the Ocean & loses control of the plane sending it crashing into the sea where it sinks to the bottom right bang in the middle of the Bermuda Triangle. With air in short supply, water leaking in & having flown over 200 miles off course the problems mount for the survivor's as they await help with time fast running out...<br /><br />Also known under the slightly different tile Airport 1977 this second sequel to the smash-hit disaster thriller Airport (1970) was directed by Jerry Jameson & while once again like it's predecessors I can't say Airport '77 is any sort of forgotten classic it is entertaining although not necessarily for the right reasons. Out of the three Airport films I have seen so far I actually liked this one the best, just. It has my favourite plot of the three with a nice mid-air hi-jacking & then the crashing (didn't he see the oil rig?) & sinking of the 747 (maybe the makers were trying to cross the original Airport with another popular disaster flick of the period The Poseidon Adventure (1972)) & submerged is where it stays until the end with a stark dilemma facing those trapped inside, either suffocate when the air runs out or drown as the 747 floods or if any of the doors are opened & it's a decent idea that could have made for a great little disaster flick but bad unsympathetic character's, dull dialogue, lethargic set-pieces & a real lack of danger or suspense or tension means this is a missed opportunity. While the rather sluggish plot keeps one entertained for 108 odd minutes not that much happens after the plane sinks & there's not as much urgency as I thought there should have been. Even when the Navy become involved things don't pick up that much with a few shots of huge ships & helicopters flying about but there's just something lacking here. George Kennedy as the jinxed airline worker Joe Patroni is back but only gets a couple of scenes & barely even says anything preferring to just look worried in the background.<br /><br />The home video & theatrical version of Airport '77 run 108 minutes while the US TV versions add an extra hour of footage including a new opening credits sequence, many more scenes with George Kennedy as Patroni, flashbacks to flesh out character's, longer rescue scenes & the discovery or another couple of dead bodies including the navigator. While I would like to see this extra footage I am not sure I could sit through a near three hour cut of Airport '77. As expected the film has dated badly with horrible fashions & interior design choices, I will say no more other than the toy plane model effects aren't great either. Along with the other two Airport sequels this takes pride of place in the Razzie Award's Hall of Shame although I can think of lots of worse films than this so I reckon that's a little harsh. The action scenes are a little dull unfortunately, the pace is slow & not much excitement or tension is generated which is a shame as I reckon this could have been a pretty good film if made properly.<br /><br />The production values are alright if nothing spectacular. The acting isn't great, two time Oscar winner Jack Lemmon has said since it was a mistake to star in this, one time Oscar winner James Stewart looks old & frail, also one time Oscar winner Lee Grant looks drunk while Sir Christopher Lee is given little to do & there are plenty of other familiar faces to look out for too.<br /><br />Airport '77 is the most disaster orientated of the three Airport films so far & I liked the ideas behind it even if they were a bit silly, the production & bland direction doesn't help though & a film about a sunken plane just shouldn't be this boring or lethargic. Followed by The Concorde ... Airport '79 (1979).\n",
      "\n"
     ]
    }
   ],
   "source": [
    "print(len(X_test_final))\n",
    "print(X_test_final[2])"
   ]
  },
  {
   "cell_type": "markdown",
   "id": "7ec0b878-2769-4a72-bb04-54ab0dcb1dea",
   "metadata": {},
   "source": [
    "### --> SVC"
   ]
  },
  {
   "cell_type": "code",
   "execution_count": 58,
   "id": "502ba6b8-7dc0-47cb-a1db-db916caf79bc",
   "metadata": {},
   "outputs": [],
   "source": [
    "final_svc = LinearSVC(max_iter=10_000,\n",
    "                      C=10)\n",
    "\n",
    "vectorizer_svc_final = TfidfVectorizer(lowercase=False,\n",
    "                                     stop_words=None,\n",
    "                                     strip_accents=None,\n",
    "                                     # use_idf=True,\n",
    "                                     # smooth_idf=True,\n",
    "                                     # sublinear_tf=False,\n",
    "\n",
    "                                     max_features=10_000,\n",
    "                                     min_df=5,\n",
    "                                     max_df=0.5,\n",
    "                                     ngram_range=(1,2),\n",
    "                                     )"
   ]
  },
  {
   "cell_type": "code",
   "execution_count": 59,
   "id": "a8cfab55-6de2-4eaa-904d-556c1de0614f",
   "metadata": {},
   "outputs": [],
   "source": [
    "path =  \"./data/movies1000/\"\n",
    "alltxts,alllabs = load_movies(path)\n",
    "X = np.array(alltxts)\n",
    "Y = np.array(alllabs)\n",
    "# X_train_final, X_test_final, Y_train_final, Y_test_final = train_test_split(X, Y, test_size=0.33, shuffle=True)\n",
    "\n",
    "X_final_vector = vectorizer_svc_final.fit_transform(X)\n",
    "final_svc.fit(X_final_vector, Y)\n",
    "\n",
    "path = \"./data/testSentiment.txt\"\n",
    "f = open(path,encoding=\"utf8\")\n",
    "X_test_final = np.array(f.readlines())\n",
    "X_test_vector = vectorizer_svc_final.transform(X_test_final)\n",
    "final_pred_svc = final_svc.predict(X_test_vector)"
   ]
  },
  {
   "cell_type": "code",
   "execution_count": 60,
   "id": "ab21adc3-5761-4f41-917e-6acfccac921b",
   "metadata": {},
   "outputs": [
    {
     "name": "stdout",
     "output_type": "stream",
     "text": [
      "(array([0, 1]), array([13454, 11546], dtype=int64))\n"
     ]
    }
   ],
   "source": [
    "print(np.unique(final_pred_svc, return_counts=True))"
   ]
  },
  {
   "cell_type": "code",
   "execution_count": 61,
   "id": "9a587bea-5608-4ec5-96a6-35eac4e7c6bb",
   "metadata": {},
   "outputs": [],
   "source": [
    "save=False\n",
    "if save :\n",
    "    f = open(\"../TME1/output/movies_pred_svc_bug.txt\", \"w\")\n",
    "    preds = \"\"\n",
    "    for i in range(len(final_pred_svc)):\n",
    "        preds += str(final_pred_svc[i]) + \"\\n\"\n",
    "    f.write(preds)\n",
    "    f.close()"
   ]
  },
  {
   "cell_type": "markdown",
   "id": "b8aa8db8-7c17-413a-9ff9-ef0b25791396",
   "metadata": {},
   "source": [
    "### --> LR"
   ]
  },
  {
   "cell_type": "code",
   "execution_count": 62,
   "id": "bedba57d-71bb-41d4-9a99-01984b46f9c8",
   "metadata": {},
   "outputs": [],
   "source": [
    "final_lr = LogisticRegression(max_iter=10_000,\n",
    "                              C=100)\n",
    "\n",
    "vectorizer_lr_final = TfidfVectorizer(lowercase=False,\n",
    "                                    stop_words=None,\n",
    "                                    strip_accents=None,\n",
    "                                    # use_idf=True,\n",
    "                                    # smooth_idf=True,\n",
    "                                    # sublinear_tf=False,\n",
    "\n",
    "                                    max_features=10_000,\n",
    "                                    min_df=5,\n",
    "                                    max_df=0.5,\n",
    "                                    ngram_range=(1,2),\n",
    "                                    )"
   ]
  },
  {
   "cell_type": "code",
   "execution_count": 63,
   "id": "52633e54-2002-4101-8c16-ec549c50e1a6",
   "metadata": {},
   "outputs": [],
   "source": [
    "path =  \"./data/movies1000/\"\n",
    "alltxts,alllabs = load_movies(path)\n",
    "X = np.array(alltxts)\n",
    "Y = np.array(alllabs)\n",
    "# X_train_final, X_test_final, Y_train_final, Y_test_final = train_test_split(X, Y, test_size=0.33, shuffle=True)\n",
    "\n",
    "X_final_vector = vectorizer_lr_final.fit_transform(X)\n",
    "final_lr.fit(X_final_vector, Y)\n",
    "\n",
    "path = \"./data/testSentiment.txt\"\n",
    "f = open(path,encoding=\"utf8\")\n",
    "X_test_final = np.array(f.readlines())\n",
    "X_test_vector = vectorizer_lr_final.transform(X_test_final)\n",
    "final_pred_lr = final_lr.predict(X_test_vector)"
   ]
  },
  {
   "cell_type": "code",
   "execution_count": 64,
   "id": "f75b83ab-d5e5-48e6-a720-d7b1270801e9",
   "metadata": {},
   "outputs": [
    {
     "name": "stdout",
     "output_type": "stream",
     "text": [
      "(array([0, 1]), array([13374, 11626], dtype=int64))\n"
     ]
    }
   ],
   "source": [
    "print(np.unique(final_pred_lr, return_counts=True))"
   ]
  },
  {
   "cell_type": "code",
   "execution_count": 65,
   "id": "8aa5e382-e745-4576-b5fb-6b6fce5a4e02",
   "metadata": {},
   "outputs": [],
   "source": [
    "save=False\n",
    "if save :\n",
    "    f = open(\"../TME1/output/movies_pred_lr_bug.txt\", \"w\")\n",
    "    preds = \"\"\n",
    "    for i in range(len(final_pred_lr)):\n",
    "        preds += str(final_pred_lr[i]) + \"\\n\"\n",
    "    f.write(preds)\n",
    "    f.close()\n",
    "    \n",
    "# BEST PERFORMANCE : 82% ACC ON TEST !!!"
   ]
  },
  {
   "cell_type": "code",
   "execution_count": 66,
   "id": "3574079b-6430-4032-8794-5ab6aa8993a0",
   "metadata": {},
   "outputs": [
    {
     "name": "stdout",
     "output_type": "stream",
     "text": [
      "25000\n",
      "25000\n"
     ]
    }
   ],
   "source": [
    "print(len(final_pred_lr))\n",
    "print(len(final_pred_svc))"
   ]
  },
  {
   "cell_type": "markdown",
   "id": "fcf1b9b6-85b8-41da-b33c-5389294337bf",
   "metadata": {},
   "source": [
    "### --> FINAL"
   ]
  },
  {
   "cell_type": "code",
   "execution_count": 67,
   "id": "0e925c79-44bc-495f-8fc7-81144db3bccf",
   "metadata": {},
   "outputs": [
    {
     "name": "stdout",
     "output_type": "stream",
     "text": [
      "[[677   0]\n",
      " [  0 663]]\n",
      "              precision    recall  f1-score   support\n",
      "\n",
      "           0       1.00      1.00      1.00       677\n",
      "           1       1.00      1.00      1.00       663\n",
      "\n",
      "    accuracy                           1.00      1340\n",
      "   macro avg       1.00      1.00      1.00      1340\n",
      "weighted avg       1.00      1.00      1.00      1340\n",
      "\n",
      "[[274  49]\n",
      " [ 40 297]]\n",
      "              precision    recall  f1-score   support\n",
      "\n",
      "           0       0.87      0.85      0.86       323\n",
      "           1       0.86      0.88      0.87       337\n",
      "\n",
      "    accuracy                           0.87       660\n",
      "   macro avg       0.87      0.86      0.86       660\n",
      "weighted avg       0.87      0.87      0.87       660\n",
      "\n",
      "(25000,)\n"
     ]
    }
   ],
   "source": [
    "# vectorizer_svc = TfidfVectorizer(lowercase=False,\n",
    "#                                  stop_words=None,\n",
    "#                                  strip_accents=None,\n",
    "#                                  # use_idf=True,\n",
    "#                                  # smooth_idf=True,\n",
    "#                                  # sublinear_tf=False,\n",
    "                             \n",
    "#                                  max_features=None,\n",
    "#                                  min_df=5,\n",
    "#                                  max_df=0.5,\n",
    "#                                  ngram_range=(1,2),\n",
    "#                                  )\n",
    "\n",
    "# svc = LinearSVC(max_iter=10000, C=1)\n",
    "\n",
    "# X_vector = vectorizer_svc.fit_transform(X_train)\n",
    "# X_test_vector = vectorizer_svc.transform(X_test)\n",
    "# svc.fit(X_vector,Y_train)\n",
    "# preds = svc.predict(X_test_vector)\n",
    "# display_model_scores(svc, X_vector, Y_train, search=False)\n",
    "# display_model_scores(svc, X_test_vector, Y_test, search=False)\n",
    "\n",
    "\n",
    "\n",
    "\n",
    "\n",
    "\n",
    "# path = \"./data/testSentiment.txt\"\n",
    "# f = open(path,encoding=\"utf8\")\n",
    "# X_test_final = np.array(f.readlines())\n",
    "\n",
    "# X_test_vector = vectorizer_svc.transform(X_test_final)\n",
    "# pred = svc.predict(X_test_vector)\n",
    "\n",
    "# print(pred.shape)\n",
    "\n",
    "# save=False\n",
    "# if save :\n",
    "#     f = open(\"../TME1/output/movies_pred_svc_debug.txt\", \"w\")\n",
    "#     preds = \"\"\n",
    "#     for i in range(len(pred)):\n",
    "#         preds += str(pred[i]) + \"\\n\"\n",
    "#     f.write(preds)\n",
    "#     f.close()"
   ]
  }
 ],
 "metadata": {
  "kernelspec": {
   "display_name": "Python 3 (ipykernel)",
   "language": "python",
   "name": "python3"
  },
  "language_info": {
   "codemirror_mode": {
    "name": "ipython",
    "version": 3
   },
   "file_extension": ".py",
   "mimetype": "text/x-python",
   "name": "python",
   "nbconvert_exporter": "python",
   "pygments_lexer": "ipython3",
   "version": "3.8.12"
  }
 },
 "nbformat": 4,
 "nbformat_minor": 5
}
