{
 "cells": [
  {
   "cell_type": "markdown",
   "metadata": {},
   "source": [
    "# Classification de documents : prise en main des outils\n",
    "\n",
    "Le but de ce TP est de classer des documents textuels... Dans un premier temps, nous allons vérifier le bon fonctionnement des outils sur des données jouets puis appliquer les concepts sur des données réelles.\n",
    "\n",
    "\n",
    "## Conception de la chaine de traitement\n",
    "Pour rappel, une chaine de traitement de documents classique est composée des étapes suivantes:\n",
    "1. Lecture des données et importation\n",
    "    - Dans le cadre de nos TP, nous faisons l'hypothèse que le corpus tient en mémoire... Si ce n'est pas le cas, il faut alors ajouter des structures de données avec des buffers (*data-reader*), bien plus complexes à mettre en place.\n",
    "    - Le plus grand piège concerne l'encodage des données. Dans le TP... Pas (ou peu) de problème. Dans la vraie vie: il faut faire attention à toujours maitriser les formats d'entrée et de sortie.\n",
    "1. Traitement des données brutes paramétrique. Chaque traitement doit être activable ou desactivable + paramétrable si besoin.\n",
    "    - Enlever les informations *inutiles* : chiffre, ponctuations, majuscules, etc... <BR>\n",
    "    **L'utilité dépend de l'application!**\n",
    "    - Segmenter en mots (=*Tokenization*)\n",
    "    - Elimination des stop-words\n",
    "    - Stemming/lemmatisation (racinisation)\n",
    "    - Byte-pair encoding pour trouver les mots composés (e.g. Sorbonne Université, Ville de Paris, Premier Ministre, etc...)\n",
    "1. Traitement des données numériques\n",
    "    - Normalisation *term-frequency* / binarisation\n",
    "    - Normalisation *inverse document frequency*\n",
    "    - Elimination des mots rares, des mots trop fréquents\n",
    "    - Construction de critère de séparabilité pour éliminer des mots etc...\n",
    "1. Apprentissage d'un classifieur\n",
    "    - Choix du type de classifieur\n",
    "    - Réglage des paramètres du classifieur (régularisation, etc...)\n",
    "\n",
    "## Exploitation de la chaine de traitement\n",
    "\n",
    "On appelle cette étape la réalisation d'une campagne d'expériences: c'est le point clé que nous voulons traviller en TAL cette année.\n",
    "1. Il est impossible de tester toutes les combinaisons par rapport aux propositions ci-dessus... Il faut donc en éliminer un certain nombre.\n",
    "    - En discutant avec les experts métiers\n",
    "    - En faisant des tests préliminaires\n",
    "1. Après ce premier filtrage, il faut:\n",
    "    - Choisir une évaluation fiable et pas trop lente (validation croisée, leave-one-out, split apprentissage/test simple)\n",
    "    - Lancer des expériences en grand\n",
    "        - = *grid-search*\n",
    "        - parallèliser sur plusieurs machines\n",
    "        - savoir lancer sur un serveur et se déconnecter\n",
    "1. Collecter et analyser les résultats\n",
    "\n",
    "\n",
    "## Inférence\n",
    "\n",
    "L'inférence est ensuite très classique: la chaine de traitement optimale est apte à traiter de nouveaux documents\n",
    "\n",
    "# Etape 1: charger les données"
   ]
  },
  {
   "cell_type": "code",
   "execution_count": null,
   "metadata": {},
   "outputs": [],
   "source": [
    "# !pip install ipython\n",
    "# !pip install nbconvert\n",
    "# !jupyter nbconvert --to python classifDoc_2021.ipynb"
   ]
  },
  {
   "cell_type": "code",
   "execution_count": 1,
   "metadata": {},
   "outputs": [],
   "source": [
    "import numpy as np\n",
    "import matplotlib.pyplot as plt\n",
    "\n",
    "import codecs\n",
    "import re\n",
    "import os.path"
   ]
  },
  {
   "cell_type": "code",
   "execution_count": 2,
   "metadata": {},
   "outputs": [],
   "source": [
    "# Chargement des données:\n",
    "def load_pres(fname):\n",
    "    alltxts = []\n",
    "    alllabs = []\n",
    "    s=codecs.open(fname, 'r','utf-8') # pour régler le codage\n",
    "    while True:\n",
    "        txt = s.readline()\n",
    "        if(len(txt))<5:\n",
    "            break\n",
    "        lab = re.sub(r\"<[0-9]*:[0-9]*:(.)>.*\",\"\\\\1\",txt)\n",
    "        txt = re.sub(r\"<[0-9]*:[0-9]*:.>(.*)\",\"\\\\1\",txt)\n",
    "        if lab.count('M') >0:\n",
    "            alllabs.append(-1)\n",
    "        else: \n",
    "            alllabs.append(1)\n",
    "        alltxts.append(txt)\n",
    "    return alltxts,alllabs"
   ]
  },
  {
   "cell_type": "code",
   "execution_count": 3,
   "metadata": {},
   "outputs": [],
   "source": [
    "fname = \"data/corpus.tache1.learn.utf8\"\n",
    "\n",
    "alltxts, alllabs = load_pres(fname)"
   ]
  },
  {
   "cell_type": "code",
   "execution_count": 4,
   "metadata": {},
   "outputs": [
    {
     "name": "stdout",
     "output_type": "stream",
     "text": [
      "57413 57413\n",
      " Quand je dis chers amis, il ne s'agit pas là d'une formule diplomatique, mais de l'expression de ce que je ressens.\n",
      "\n",
      "1\n",
      " Je compte sur vous.\n",
      "\n",
      "1\n"
     ]
    }
   ],
   "source": [
    "print(len(alltxts),len(alllabs))\n",
    "print(alltxts[0])\n",
    "print(alllabs[0])\n",
    "print(alltxts[-1])\n",
    "print(alllabs[-1])"
   ]
  },
  {
   "cell_type": "code",
   "execution_count": 5,
   "metadata": {},
   "outputs": [],
   "source": [
    "# def load_movies(path2data): # 1 classe par répertoire\n",
    "#     alltxts = [] # init vide\n",
    "#     labs = []\n",
    "#     cpt = 0\n",
    "#     for cl in os.listdir(path2data): # parcours des fichiers d'un répertoire\n",
    "#         for f in os.listdir(path2data+cl):\n",
    "#             txt = open(path2data+cl+'/'+f).read()\n",
    "#             alltxts.append(txt)\n",
    "#             labs.append(cpt)\n",
    "#         cpt+=1 # chg répertoire = cht classe\n",
    "#     return alltxts,labs"
   ]
  },
  {
   "cell_type": "code",
   "execution_count": 6,
   "metadata": {},
   "outputs": [],
   "source": [
    "# path = \"movies1000/\"\n",
    "\n",
    "# alltxts,alllabs = load_movies(path)"
   ]
  },
  {
   "cell_type": "code",
   "execution_count": 7,
   "metadata": {},
   "outputs": [],
   "source": [
    "# print(len(alltxts),len(alllabs))\n",
    "# print(alltxts[0])\n",
    "# print(alllabs[0])\n",
    "# print(alltxts[-1])\n",
    "# print(alllabs[-1])"
   ]
  },
  {
   "cell_type": "markdown",
   "metadata": {},
   "source": [
    "# Transformation paramétrique du texte\n",
    "\n",
    "Vous devez tester, par exemple, les cas suivants:\n",
    "- transformation en minuscule ou pas\n",
    "- suppression de la ponctuation\n",
    "- transformation des mots entièrement en majuscule en marqueurs spécifiques\n",
    "- suppression des chiffres ou pas\n",
    "- conservation d'une partie du texte seulement (seulement la première ligne = titre, seulement la dernière ligne = résumé, ...)\n",
    "- stemming\n",
    "- ...\n",
    "\n",
    "\n",
    "Vérifier systématiquement sur un exemple ou deux le bon fonctionnement des méthodes sur deux documents (au moins un de chaque classe)."
   ]
  },
  {
   "cell_type": "code",
   "execution_count": 8,
   "metadata": {},
   "outputs": [],
   "source": [
    "import string\n",
    "import re\n",
    "import unicodedata\n",
    "import nltk\n",
    "from nltk.corpus import stopwords\n",
    "from nltk.stem import *\n",
    "from nltk.stem.snowball import SnowballStemmer\n",
    "\n",
    "def preprocessing(X):\n",
    "    res = []\n",
    "    for doc in X:\n",
    "        punc = string.punctuation  # recupération de la ponctuation\n",
    "        punc += '\\n\\r\\t'\n",
    "        doc = doc.translate(str.maketrans(punc, ' ' * len(punc)))\n",
    "        doc = unicodedata.normalize('NFD', doc).encode('ascii', 'ignore').decode(\"utf-8\")\n",
    "        doc = doc.lower()\n",
    "        doc = re.sub('[0-9]+', '', doc)\n",
    "        res.append(doc)\n",
    "    return np.array(res)\n",
    "\n",
    "def formal(X):\n",
    "    stemmer = SnowballStemmer(language='french')\n",
    "#     nltk.download('stopwords')\n",
    "    res = []\n",
    "    stop = stopwords.words('french')\n",
    "    for doc in X:\n",
    "        new_doc = \"\"\n",
    "        for w in doc.split():\n",
    "            if w not in stop:\n",
    "                new_doc += w + \" \"\n",
    "        new_doc = [stemmer.stem(X) for X in new_doc.split()]\n",
    "        new_doc = \" \".join(new_doc)\n",
    "        res.append(new_doc)\n",
    "    return res"
   ]
  },
  {
   "cell_type": "code",
   "execution_count": 9,
   "metadata": {},
   "outputs": [
    {
     "name": "stdout",
     "output_type": "stream",
     "text": [
      " Quand je dis chers amis, il ne s'agit pas là d'une formule diplomatique, mais de l'expression de ce que je ressens.\n",
      "\n",
      " quand je dis chers amis  il ne s agit pas la d une formule diplomatique  mais de l expression de ce que je ressens  \n",
      "\n",
      " quand dis cher amis agit formul diplomat express ressen\n"
     ]
    }
   ],
   "source": [
    "X = np.array(alltxts[:1000])\n",
    "Y = np.array(alllabs[:1000])\n",
    "        \n",
    "print(X[0])\n",
    "X_preprocess = preprocessing(X)\n",
    "print(X_preprocess[0])\n",
    "X_train = formal(X_preprocess)\n",
    "print(\"\\n\",X_train[0])"
   ]
  },
  {
   "cell_type": "markdown",
   "metadata": {},
   "source": [
    "# Extraction du vocabulaire\n",
    "\n",
    "Exploration préliminaire des jeux de données.\n",
    "\n",
    "- Quelle est la taille d'origine du vocabulaire?\n",
    "- Que reste-t-il si on ne garde que les 100 mots les plus fréquents? [word cloud]\n",
    "- Quels sont les 100 mots dont la fréquence documentaire est la plus grande? [word cloud]\n",
    "- Quels sont les 100 mots les plus discriminants au sens de odds ratio? [word cloud]\n",
    "- Quelle est la distribution d'apparition des mots (Zipf)\n",
    "- Quels sont les 100 bigrammes/trigrammes les plus fréquents?\n"
   ]
  },
  {
   "cell_type": "code",
   "execution_count": 10,
   "metadata": {},
   "outputs": [
    {
     "name": "stdout",
     "output_type": "stream",
     "text": [
      "(1000,)\n",
      "(1000,)\n",
      " Quand je dis chers amis, il ne s'agit pas là d'une formule diplomatique, mais de l'expression de ce que je ressens.\n",
      " D'abord merci de cet exceptionnel accueil que les Congolais, les Brazavillois, nou\n"
     ]
    },
    {
     "data": {
      "image/png": "[encoded data removed]",
      "text/plain": [
       "<Figure size 432x288 with 1 Axes>"
      ]
     },
     "metadata": {
      "needs_background": "light"
     },
     "output_type": "display_data"
    }
   ],
   "source": [
    "from wordcloud import WordCloud\n",
    "from sklearn.feature_extraction.text import CountVectorizer\n",
    "\n",
    "print(X.shape)\n",
    "print(Y.shape)\n",
    "\n",
    "def flatten(A):\n",
    "    rt = []\n",
    "    for i in A:\n",
    "        if isinstance(i,list): \n",
    "            rt.extend(flatten(i))\n",
    "        else: \n",
    "            rt.append(i)\n",
    "    return rt\n",
    "\n",
    "words = \"\".join(flatten(X))\n",
    "print(words[:200])\n",
    "wordcloud = WordCloud(background_color='white', max_words=100).generate(words)\n",
    "plt.imshow(wordcloud)\n",
    "plt.axis(\"off\")\n",
    "plt.show()\n",
    "\n",
    "# vectorizer = CountVectorizer()\n",
    "# vector = vectorizer.fit_transform(X).toarray()\n",
    "# names = vectorizer.get_feature_names()\n",
    "# print(vector.shape)\n",
    "# n, m = vector.shape\n",
    "# vector = np.where(vector == 0, 0, 1)\n",
    "# sums = vector.sum(axis=0)\n",
    "# res = np.sort(sums)[sums.size-100:]\n",
    "# print(res)\n",
    "# words = \"\".join(flatten(X))\n",
    "# wordcloud = WordCloud(background_color='white', max_words=100).generate(words)\n",
    "# plt.imshow(wordcloud)\n",
    "# plt.axis(\"off\")\n",
    "# plt.show()"
   ]
  },
  {
   "cell_type": "code",
   "execution_count": 11,
   "metadata": {},
   "outputs": [],
   "source": [
    "words = \"\".join(flatten(X_preprocess[:1000]))\n",
    "unique_words, count = np.unique(words.split(), return_counts=True)"
   ]
  },
  {
   "cell_type": "code",
   "execution_count": 12,
   "metadata": {},
   "outputs": [],
   "source": [
    "# count = np.where(count > 100, 100, count)\n",
    "count = np.log(count)"
   ]
  },
  {
   "cell_type": "code",
   "execution_count": 13,
   "metadata": {},
   "outputs": [
    {
     "name": "stdout",
     "output_type": "stream",
     "text": [
      "[   1    1    1 ...  713  829 1245]\n",
      "['insiste' 'malabar' 'malentendus' ... 'et' 'la' 'de']\n"
     ]
    },
    {
     "data": {
      "image/png": "[encoded data removed]",
      "text/plain": [
       "<Figure size 576x576 with 1 Axes>"
      ]
     },
     "metadata": {
      "needs_background": "light"
     },
     "output_type": "display_data"
    }
   ],
   "source": [
    "unique_words, count = np.unique(words.split(), return_counts=True)\n",
    "\n",
    "count_sort_ind = np.argsort(count)\n",
    "unique_words = unique_words[count_sort_ind]\n",
    "count = np.sort(count)\n",
    "print(count)\n",
    "print(unique_words)\n",
    "\n",
    "fig = plt.figure(figsize=(8,8))\n",
    "ax = fig.add_axes([0,0,1,1])\n",
    "ax.bar(np.arange(len(count)),np.log(count))\n",
    "plt.title(\"Log du nombre d'apparition / mot\")\n",
    "plt.show()"
   ]
  },
  {
   "cell_type": "code",
   "execution_count": 14,
   "metadata": {},
   "outputs": [
    {
     "name": "stdout",
     "output_type": "stream",
     "text": [
      "[   1    1    1 ...  713  829 1245]\n",
      "['insiste' 'malabar' 'malentendus' ... 'et' 'la' 'de']\n"
     ]
    },
    {
     "data": {
      "image/png": "[encoded data removed]",
      "text/plain": [
       "<Figure size 720x720 with 1 Axes>"
      ]
     },
     "metadata": {
      "needs_background": "light"
     },
     "output_type": "display_data"
    }
   ],
   "source": [
    "unique_words, count = np.unique(words.split(), return_counts=True)\n",
    "\n",
    "count_sort_ind = np.argsort(count)\n",
    "unique_words = unique_words[count_sort_ind]\n",
    "count = np.sort(count)\n",
    "print(count)\n",
    "print(unique_words)\n",
    "\n",
    "fig = plt.figure(figsize=(10,10))\n",
    "ax = fig.add_axes([0,0,1,1])\n",
    "ax.bar(unique_words[len(count)-25:],count[len(count)-25:])\n",
    "plt.title(\"Nombre d'apparition / mot les plus frequent\")\n",
    "plt.show()"
   ]
  },
  {
   "cell_type": "markdown",
   "metadata": {},
   "source": [
    "Question qui devient de plus en plus intéressante avec les approches modernes:\n",
    "est-il possible d'extraire des tri-grammes de lettres pour représenter nos documents?\n",
    "\n",
    "Quelle performances attendrent? Quels sont les avantages et les inconvénients d'une telle approche?"
   ]
  },
  {
   "cell_type": "code",
   "execution_count": 15,
   "metadata": {},
   "outputs": [],
   "source": [
    "# On peut le faire assez facilemment avec sklearn\n",
    "# Cela donne plus de contexte a nos mots mais les probabilites de tri-grammes vont etre tres faible"
   ]
  },
  {
   "cell_type": "markdown",
   "metadata": {},
   "source": [
    "# Modèles de Machine Learning\n",
    "\n",
    "Avant de lancer de grandes expériences, il faut se construire une base de travail solide en étudiant les questions suivantes:\n",
    "\n",
    "- Combien de temps ça prend d'apprendre un classifieur NB/SVM/RegLog sur ces données en fonction de la taille du vocabulaire?\n",
    "- La validation croisée est-elle nécessaire? Est ce qu'on obtient les mêmes résultats avec un simple *split*?\n",
    "- La validation croisée est-elle stable? A partir de combien de fold (travailler avec différentes graines aléatoires et faire des statistiques basiques)?"
   ]
  },
  {
   "cell_type": "code",
   "execution_count": 16,
   "metadata": {},
   "outputs": [],
   "source": [
    "# Cela prend beaucoup de temps avec des donnees textuels car nous avons un grand nombre de variables\n",
    "# Cela depend fortement de la taille du vocabulaire\n",
    "# La validation est tres pratique car on train nos modeles sur toutes les donnes contrairement au split\n",
    "# Ici on utlise le split car bien plus rapide, on pourra envisager la validation croisee quand on aura deja fait un choix au niveau des modeles"
   ]
  },
  {
   "cell_type": "markdown",
   "metadata": {},
   "source": [
    "## Première campagne d'expériences\n",
    "\n",
    "Les techniques sur lesquelles nous travaillons étant sujettes au sur-apprentissage: trouver le paramètre de régularisation dans la documentation et optimiser ce paramètre au sens de la métrique qui vous semble la plus appropriée (cf question précédente)."
   ]
  },
  {
   "cell_type": "markdown",
   "metadata": {},
   "source": [
    "- IL FAUT FAIRE PLEIN DE VARIABLE X_train1 X_train2 ... AVEC DES DONNES EN UTILISANT CountVectorizer() (ngram, preprocess, mindf, maxdf etc...)\n",
    "- COMPRENDRE LESQUELS SONT LES PLUS IMPORTANTS (mindf, maxdf)\n",
    "- PUIS APRES IL FAUT EQUILIBRER LES CLASSES\n",
    "- PUIS OPTIMISER LES MODELES\n",
    "- PUIS TESTER LES MODELES ET LES COMPARER\n",
    "- FAIRE DES COURBES PLT POUR MONTRER QU'ON A TROUVER LE MODEL OPTIMAL (mindf/test_acc)"
   ]
  },
  {
   "cell_type": "code",
   "execution_count": 17,
   "metadata": {},
   "outputs": [],
   "source": [
    "import sklearn.naive_bayes as nb\n",
    "from sklearn import svm\n",
    "from sklearn import linear_model as lin\n",
    "from sklearn.model_selection import train_test_split\n",
    "import string\n",
    "import re\n",
    "import unicodedata\n",
    "import nltk\n",
    "from nltk.corpus import stopwords\n",
    "from nltk.stem.snowball import SnowballStemmer\n",
    "from sklearn.feature_extraction.text import CountVectorizer\n",
    "from sklearn.feature_extraction.text import TfidfVectorizer"
   ]
  },
  {
   "cell_type": "markdown",
   "metadata": {},
   "source": [
    "## Fonction pour le traitement de donnees"
   ]
  },
  {
   "cell_type": "code",
   "execution_count": 18,
   "metadata": {},
   "outputs": [],
   "source": [
    "def preprocessing(X):\n",
    "    res = []\n",
    "    punc = string.punctuation  \n",
    "    punc += '\\n\\r\\t'\n",
    "    for doc in X:    \n",
    "        doc = doc.translate(str.maketrans(punc, ' ' * len(punc)))\n",
    "        doc = unicodedata.normalize('NFD', doc).encode('ascii', 'ignore').decode(\"utf-8\")\n",
    "        doc = doc.lower()\n",
    "        doc = re.sub('[0-9]+', '', doc)\n",
    "        res.append(doc)\n",
    "    return np.array(res)\n",
    "\n",
    "def formal(X):\n",
    "    stemmer = SnowballStemmer(language='french')\n",
    "#     nltk.download('stopwords')\n",
    "    res = []\n",
    "    stop = stopwords.words('french')\n",
    "    for doc in X:\n",
    "        new_doc = \"\"\n",
    "        for w in doc.split():\n",
    "            if w not in stop:\n",
    "                new_doc += w + \" \"\n",
    "        new_doc = [stemmer.stem(X) for X in new_doc.split()]\n",
    "        new_doc = \" \".join(new_doc)\n",
    "        res.append(new_doc)\n",
    "    return res"
   ]
  },
  {
   "cell_type": "markdown",
   "metadata": {},
   "source": [
    "## Importation des deux fichiers contenant les donnees"
   ]
  },
  {
   "cell_type": "code",
   "execution_count": 19,
   "metadata": {},
   "outputs": [],
   "source": [
    "fname = \"data/corpus.tache1.learn.utf8\"\n",
    "alltxts_test, alllabs_test = load_pres(fname)\n",
    "X = np.array(alltxts)\n",
    "Y = np.array(alllabs)"
   ]
  },
  {
   "cell_type": "markdown",
   "metadata": {},
   "source": [
    "## Fonctions permettant de faire notre selection de modele suivant les données"
   ]
  },
  {
   "cell_type": "code",
   "execution_count": 20,
   "metadata": {},
   "outputs": [],
   "source": [
    "model_names = [\"SVC1\", \"SVC0.8\", \"SVC0.6\", \"NB\", \"LR\"]\n",
    "\n",
    "def train_models_and_get_acc(X_train, X_test, Y_train, Y_test, display):\n",
    "    print(\"--> SVC reg=1.0 :\")\n",
    "    clf = svm.LinearSVC(class_weight=\"balanced\", C=1.0)\n",
    "    clf.fit(X_train, Y_train) \n",
    "    acc1 = np.round(clf.score(X_test, Y_test)*100, 2)\n",
    "    print(\"Acc : \", acc1, \" %\")\n",
    "    if display : display_infos(clf, X_test, Y_test)\n",
    "    \n",
    "    print(\"--> SVC reg=0.8 :\")\n",
    "    clf = svm.LinearSVC(class_weight=\"balanced\", C=0.8)\n",
    "    clf.fit(X_train, Y_train) \n",
    "    acc2 = np.round(clf.score(X_test, Y_test)*100, 2)\n",
    "    print(\"Acc : \", acc2, \" %\")\n",
    "    if display : display_infos(clf, X_test, Y_test)\n",
    "    \n",
    "    print(\"--> SVC reg=0.6 :\")\n",
    "    clf = svm.LinearSVC(class_weight=\"balanced\", C=0.6)\n",
    "    clf.fit(X_train, Y_train) \n",
    "    acc3 = np.round(clf.score(X_test, Y_test)*100, 2)\n",
    "    print(\"Acc : \", acc3, \" %\")\n",
    "    if display : display_infos(clf, X_test, Y_test)\n",
    "    \n",
    "    print(\"--> NB :\")\n",
    "    clf = nb.MultinomialNB()\n",
    "    clf.fit(X_train, Y_train)\n",
    "    acc4 = np.round(clf.score(X_test, Y_test)*100, 2)\n",
    "    print(\"Acc : \", acc4, \" %\")\n",
    "    if display : display_infos(clf, X_test, Y_test)\n",
    "    \n",
    "    print(\"--> LR :\")\n",
    "    clf = lin.LogisticRegression(class_weight=\"balanced\")\n",
    "    clf.fit(X_train, Y_train)\n",
    "    acc5 = np.round(clf.score(X_test, Y_test)*100, 2)\n",
    "    print(\"Acc : \", acc5, \" %\") \n",
    "    if display : display_infos(clf, X_test, Y_test)\n",
    "    \n",
    "    return [acc1, acc2, acc3, acc4, acc5]"
   ]
  },
  {
   "cell_type": "code",
   "execution_count": 22,
   "metadata": {},
   "outputs": [],
   "source": [
    "def display_infos(clf, X_test, Y_test):\n",
    "    # Check le nombre de predictions pour chaque label\n",
    "    predictions = clf.predict(X_test)\n",
    "    unique, counts = np.unique(predictions, return_counts=True)\n",
    "    print(\"/!\\ Prediction counts for label \", unique, \" --> \", counts)\n",
    "    # Check le nombre de predictions pour chaque label\n",
    "    unique, counts = np.unique(Y_test, return_counts=True)\n",
    "    print(\"/!\\ Ground truth counts for label \", unique, \" --> \", counts)\n",
    "    # Check la precision du label en inferiorite\n",
    "    acc = get_inf_acc(predictions, Y_test)\n",
    "    print(\"/!\\ Accuracy of inferior label :\", acc, \"%\")\n",
    "    # Check la precision du label en superiorite\n",
    "    acc = get_sup_acc(predictions, Y_test)\n",
    "    print(\"/!\\ Accuracy of superior label :\", acc, \"%\\n\")"
   ]
  },
  {
   "cell_type": "code",
   "execution_count": 23,
   "metadata": {},
   "outputs": [],
   "source": [
    "def get_inf_acc(predictions, Y_test):\n",
    "    idx_inf = np.where(predictions==-1, True, False)\n",
    "    tmp_pred = predictions[idx_inf]\n",
    "    tmp_real = Y_test[idx_inf]\n",
    "    cpt = 0\n",
    "    for i in range(len(tmp_pred)):\n",
    "        if tmp_pred[i] == tmp_real[i]:\n",
    "            cpt += 1\n",
    "    return np.round((cpt/len(tmp_pred))*100, 2)\n",
    "\n",
    "def get_sup_acc(predictions, Y_test):\n",
    "    idx_inf = np.where(predictions==1, True, False)\n",
    "    tmp_pred = predictions[idx_inf]\n",
    "    tmp_real = Y_test[idx_inf]\n",
    "    cpt = 0\n",
    "    for i in range(len(tmp_pred)):\n",
    "        if tmp_pred[i] == tmp_real[i]:\n",
    "            cpt += 1\n",
    "    return np.round((cpt/len(tmp_pred))*100, 2)"
   ]
  },
  {
   "cell_type": "code",
   "execution_count": 24,
   "metadata": {},
   "outputs": [],
   "source": [
    "def get_all_data_vectorized(X, X_test, Y, Y_test, vectorizer, transformer=None):\n",
    "    X_vector = vectorizer.fit_transform(X)\n",
    "    if transformer is not None:\n",
    "        transformer = transformer.fit(X_vector)\n",
    "        X_final = transformer.transform(X_vector)\n",
    "    else:\n",
    "        X_final = X_vector\n",
    "    X_test_vector = vectorizer.transform(X_test)\n",
    "    return X_final, X_test_vector, Y, Y_test"
   ]
  },
  {
   "cell_type": "code",
   "execution_count": 25,
   "metadata": {},
   "outputs": [],
   "source": [
    "database_models_name = [\"vanilla\", \"ngram22\", \"maxfeat500\", \"stopwords\", \"min2\", \"min3\", \"min4\", \"max0.9\", \"max0.8\", \"max0.7\", \"min3_max0.7\", \"ngram22_maxfeat500\", \"tfidfvectorizer\"]"
   ]
  },
  {
   "cell_type": "code",
   "execution_count": 26,
   "metadata": {},
   "outputs": [],
   "source": [
    "def build_database(X, X_test, Y, Y_test):\n",
    "    database = []\n",
    "\n",
    "    vectorizer = CountVectorizer()\n",
    "    X_train_vector, Y_test_vector, Y_train, Y_test = get_all_data_vectorized(X, X_test, Y, Y_test, vectorizer)\n",
    "    database.append([X_train_vector, Y_test_vector, Y_train, Y_test])\n",
    "    \n",
    "    vectorizer = CountVectorizer(ngram_range=(2, 2))\n",
    "    X_train_vector, Y_test_vector, Y_train, Y_test = get_all_data_vectorized(X, X_test, Y, Y_test, vectorizer)\n",
    "    database.append([X_train_vector, Y_test_vector, Y_train, Y_test])\n",
    "    \n",
    "    vectorizer = CountVectorizer(max_features=500)\n",
    "    X_train_vector, Y_test_vector, Y_train, Y_test = get_all_data_vectorized(X, X_test, Y, Y_test, vectorizer)\n",
    "    database.append([X_train_vector, Y_test_vector, Y_train, Y_test])\n",
    "    \n",
    "    stop = stopwords.words('french')\n",
    "    vectorizer = CountVectorizer(stop_words=stop)\n",
    "    X_train_vector, Y_test_vector, Y_train, Y_test = get_all_data_vectorized(X, X_test, Y, Y_test, vectorizer)\n",
    "    database.append([X_train_vector, Y_test_vector, Y_train, Y_test])\n",
    "    \n",
    "    vectorizer = CountVectorizer(min_df=2)\n",
    "    X_train_vector, Y_test_vector, Y_train, Y_test = get_all_data_vectorized(X, X_test, Y, Y_test, vectorizer)\n",
    "    database.append([X_train_vector, Y_test_vector, Y_train, Y_test])\n",
    "    vectorizer = CountVectorizer(min_df=3)\n",
    "    X_train_vector, Y_test_vector, Y_train, Y_test = get_all_data_vectorized(X, X_test, Y, Y_test, vectorizer)\n",
    "    database.append([X_train_vector, Y_test_vector, Y_train, Y_test])\n",
    "    vectorizer = CountVectorizer(min_df=4)\n",
    "    X_train_vector, Y_test_vector, Y_train, Y_test = get_all_data_vectorized(X, X_test, Y, Y_test, vectorizer)\n",
    "    database.append([X_train_vector, Y_test_vector, Y_train, Y_test])\n",
    "    \n",
    "    vectorizer = CountVectorizer(max_df=0.9)\n",
    "    X_train_vector, Y_test_vector, Y_train, Y_test = get_all_data_vectorized(X, X_test, Y, Y_test, vectorizer)\n",
    "    database.append([X_train_vector, Y_test_vector, Y_train, Y_test])\n",
    "    vectorizer = CountVectorizer(max_df=0.8)\n",
    "    X_train_vector, Y_test_vector, Y_train, Y_test = get_all_data_vectorized(X, X_test, Y, Y_test, vectorizer)\n",
    "    database.append([X_train_vector, Y_test_vector, Y_train, Y_test])\n",
    "    vectorizer = CountVectorizer(max_df=0.7)\n",
    "    X_train_vector, Y_test_vector, Y_train, Y_test = get_all_data_vectorized(X, X_test, Y, Y_test, vectorizer)\n",
    "    database.append([X_train_vector, Y_test_vector, Y_train, Y_test])\n",
    "    \n",
    "    vectorizer = CountVectorizer(max_df=0.7, min_df=3)\n",
    "    X_train_vector, Y_test_vector, Y_train, Y_test = get_all_data_vectorized(X, X_test, Y, Y_test, vectorizer)\n",
    "    database.append([X_train_vector, Y_test_vector, Y_train, Y_test])\n",
    "\n",
    "    vectorizer = CountVectorizer(ngram_range=(2, 2), max_features=500)\n",
    "    X_train_vector, Y_test_vector, Y_train, Y_test = get_all_data_vectorized(X, X_test, Y, Y_test, vectorizer)\n",
    "    database.append([X_train_vector, Y_test_vector, Y_train, Y_test])\n",
    "\n",
    "    vectorizer = TfidfVectorizer()\n",
    "    X_train_vector, Y_test_vector, Y_train, Y_test = get_all_data_vectorized(X, X_test, Y, Y_test, vectorizer)\n",
    "    database.append([X_train_vector, Y_test_vector, Y_train, Y_test])\n",
    "    \n",
    "    return np.array(database)"
   ]
  },
  {
   "cell_type": "code",
   "execution_count": 27,
   "metadata": {},
   "outputs": [],
   "source": [
    "def simulation(db, display=False):\n",
    "    metrics = []\n",
    "    for cpt, element in enumerate(db):\n",
    "        print(\"---------------- Testing model : \", database_models_name[cpt], \" ----------------\")\n",
    "        X_train, X_test, Y_train, Y_test = element\n",
    "        metrics.append(train_models_and_get_acc(X_train, X_test, Y_train, Y_test, display))\n",
    "    return metrics"
   ]
  },
  {
   "cell_type": "markdown",
   "metadata": {},
   "source": [
    "## Model selection manuel"
   ]
  },
  {
   "cell_type": "code",
   "execution_count": 28,
   "metadata": {},
   "outputs": [],
   "source": [
    "import warnings\n",
    "warnings.filterwarnings('ignore')"
   ]
  },
  {
   "cell_type": "code",
   "execution_count": 29,
   "metadata": {},
   "outputs": [],
   "source": [
    "# X, X_test, Y, Y_test = train_test_split((X_Y), test_size=0.2)\n",
    "# db = build_database(X, X_test, Y, Y_test)"
   ]
  },
  {
   "cell_type": "code",
   "execution_count": 30,
   "metadata": {},
   "outputs": [],
   "source": [
    "# metrics = simulation(db, display=True)"
   ]
  },
  {
   "cell_type": "code",
   "execution_count": 31,
   "metadata": {},
   "outputs": [],
   "source": [
    "# metrics = np.array(metrics)\n",
    "# n_data, n_model = metrics.shape\n",
    "# print(\"--> Simulation done on\", n_data, \"different data processing and\", n_model, \"different models\")\n",
    "# print(\"--> Metrics :\\n\", metrics)\n",
    "# print(\"--> Best accuracy :\", metrics.max(), \"from data model : '\", database_models_name[metrics.argmax()//n_model], \"' and model :'\", model_names[metrics.argmax()%n_model], \"'\")"
   ]
  },
  {
   "cell_type": "markdown",
   "metadata": {},
   "source": [
    "## Model selection avec sklearn"
   ]
  },
  {
   "cell_type": "code",
   "execution_count": 32,
   "metadata": {},
   "outputs": [],
   "source": [
    "from sklearn import svm, datasets\n",
    "from sklearn.model_selection import GridSearchCV"
   ]
  },
  {
   "cell_type": "code",
   "execution_count": 33,
   "metadata": {},
   "outputs": [],
   "source": [
    "model_names = [\"SVC\", \"NB\", \"LR\"]\n",
    "\n",
    "def train_models_and_get_acc_sklearn(X_train, X_test, Y_train, Y_test, display):\n",
    "    print(\"--> SVC :\")\n",
    "    svc = svm.SVC()\n",
    "    parameters = {'kernel':(['linear']), \n",
    "                  'C':[0.5, 1, 2, 5], \n",
    "                  'class_weight':(['balanced'])}\n",
    "    clf = GridSearchCV(svc, parameters, cv=5, verbose=True, n_jobs=-1)\n",
    "    best_clf = clf.fit(X_train, Y_train)\n",
    "    acc1 = np.round(best_clf.score(X_test, Y_test)*100, 2)\n",
    "    print(\"Acc : \", acc1, \" %\")\n",
    "    if display : \n",
    "        display_infos(clf, X_test, Y_test)\n",
    "        performance(best_clf)\n",
    "    \n",
    "    print(\"--> NB :\")\n",
    "    clf = nb.MultinomialNB()\n",
    "    clf.fit(X_train, Y_train)\n",
    "    acc2 = np.round(clf.score(X_test, Y_test)*100, 2)\n",
    "    print(\"Acc : \", acc2, \" %\")\n",
    "    if display : display_infos(clf, X_test, Y_test)\n",
    "    \n",
    "    print(\"--> LR :\")\n",
    "    lr = LogisticRegression()\n",
    "    parameters = {'max_iter' : [2000],\n",
    "                  'penalty' : ['l1', 'l2'],\n",
    "                  'C' : np.logspace(-4, 4, 20),\n",
    "                  'solver' : ['liblinear'],\n",
    "                  'class_weight':(['balanced'])}\n",
    "    clf = GridSearchCV(lr, parameters, cv=5, verbose=True, n_jobs=-1)\n",
    "    best_clf = clf.fit(X_train,Y_train)\n",
    "    acc3 = np.round(clf.score(X_test, Y_test)*100, 2)\n",
    "    print(\"Acc : \", acc3, \" %\") \n",
    "    if display : \n",
    "        display_infos(clf, X_test, Y_test)\n",
    "        performance(best_clf)\n",
    "    \n",
    "    return [acc1, acc2, acc3]"
   ]
  },
  {
   "cell_type": "code",
   "execution_count": 34,
   "metadata": {},
   "outputs": [],
   "source": [
    "def simulation_sklearn(db, display=False):\n",
    "    metrics = []\n",
    "    for cpt, element in enumerate(db):\n",
    "        print(\"---------------- Testing model : \", database_models_name[cpt], \" ----------------\")\n",
    "        X_train, X_test, Y_train, Y_test = element\n",
    "        metrics.append(train_models_and_get_acc_sklearn(X_train, X_test, Y_train, Y_test, display))\n",
    "    return metrics"
   ]
  },
  {
   "cell_type": "code",
   "execution_count": 35,
   "metadata": {},
   "outputs": [],
   "source": [
    "def get_performance(clf):\n",
    "    print('Best Score: ' + str(clf.best_score_))\n",
    "    print('Best Parameters: ' + str(clf.best_params_))"
   ]
  },
  {
   "cell_type": "code",
   "execution_count": 36,
   "metadata": {},
   "outputs": [],
   "source": [
    "# db = build_database(X, X_test, Y, Y_test)"
   ]
  },
  {
   "cell_type": "code",
   "execution_count": 37,
   "metadata": {},
   "outputs": [],
   "source": [
    "# metrics = simulation_sklearn(db, display=True)"
   ]
  },
  {
   "cell_type": "markdown",
   "metadata": {},
   "source": [
    "## Model selection + data selection avec sklearn"
   ]
  },
  {
   "cell_type": "code",
   "execution_count": 38,
   "metadata": {},
   "outputs": [],
   "source": [
    "test_size = 10_000 # Taille des data pour le grid search (MAX = 57400)"
   ]
  },
  {
   "cell_type": "markdown",
   "metadata": {},
   "source": [
    "### --> Selection de data"
   ]
  },
  {
   "cell_type": "code",
   "execution_count": 39,
   "metadata": {},
   "outputs": [],
   "source": [
    "from sklearn.pipeline import Pipeline\n",
    "from sklearn.feature_extraction.text import TfidfTransformer\n",
    "\n",
    "pipeline = Pipeline(\n",
    "    [\n",
    "        (\"vect\", CountVectorizer()),\n",
    "        (\"tfidf\", TfidfTransformer()),\n",
    "        (\"clf\", svm.SVC()),\n",
    "    ]\n",
    ")\n",
    "\n",
    "parameters = {\n",
    "    \"vect__min_df\": (0, 1, 2, 3),\n",
    "    \"vect__max_df\": (0.5, 0.75, 1.0),\n",
    "    'vect__max_features': (None, 1000, 2000, 3000),\n",
    "    \"vect__ngram_range\": ((1, 1), (1, 2), (1,3)),\n",
    "    'tfidf__use_idf': (True, False),\n",
    "    'tfidf__norm': (None, 'l1', 'l2'),\n",
    "    'clf__class_weight':(['balanced']),\n",
    "    'clf__C': (np.arange(0, 1, 0.1)),\n",
    "    'clf__kernel':(['linear'])\n",
    "                         \n",
    "    # \"clf__max_iter\": (20,)\n",
    "    # \"clf__alpha\": (0.00001, 0.000001),\n",
    "    # \"clf__penalty\": (\"l2\", \"elasticnet\"),\n",
    "    # 'clf__max_iter': (10, 50, 80),\n",
    "}"
   ]
  },
  {
   "cell_type": "code",
   "execution_count": 40,
   "metadata": {},
   "outputs": [],
   "source": [
    "# grid_search = GridSearchCV(pipeline, parameters, n_jobs=8, verbose=3, cv=5)"
   ]
  },
  {
   "cell_type": "code",
   "execution_count": 41,
   "metadata": {},
   "outputs": [],
   "source": [
    "X_select, Y_select = X[:test_size], Y[:test_size]"
   ]
  },
  {
   "cell_type": "code",
   "execution_count": 42,
   "metadata": {},
   "outputs": [],
   "source": [
    "# from time import time\n",
    "\n",
    "# t0 = time()\n",
    "# grid_search.fit(list(X_select), list(Y_select))\n",
    "# print(\"done in %0.3fs\" % (time() - t0))"
   ]
  },
  {
   "cell_type": "markdown",
   "metadata": {},
   "source": [
    "- 4320 fits et n_jobs=8:\n",
    "    - Temps pour size=2_000  -> 159s \n",
    "    - Temps pour size=10_000 -> 11075s (184 minutes)\n",
    "    - Temps pour size=20_000 ->"
   ]
  },
  {
   "cell_type": "markdown",
   "metadata": {},
   "source": [
    "### --> Affichage meilleur paramètres pour la data"
   ]
  },
  {
   "cell_type": "code",
   "execution_count": 43,
   "metadata": {},
   "outputs": [],
   "source": [
    "# best_parameters = grid_search.best_estimator_.get_params()\n",
    "# for param_name in sorted(parameters.keys()):\n",
    "#     print(\"--->%s: %r\" % (param_name, best_parameters[param_name]))"
   ]
  },
  {
   "cell_type": "markdown",
   "metadata": {},
   "source": [
    "### --> Creation du dataset optimal"
   ]
  },
  {
   "cell_type": "code",
   "execution_count": 44,
   "metadata": {},
   "outputs": [],
   "source": [
    "fname = \"data/corpus.tache1.learn.utf8\"\n",
    "alltxts_test, alllabs_test = load_pres(fname)\n",
    "X = np.array(alltxts)\n",
    "Y = np.array(alllabs)\n",
    "X, X_test, Y, Y_test = train_test_split(X, Y, test_size=0.2)"
   ]
  },
  {
   "cell_type": "code",
   "execution_count": 45,
   "metadata": {},
   "outputs": [],
   "source": [
    "transformer = TfidfTransformer(use_idf=True, \n",
    "                               norm=\"l2\")\n",
    "vectorizer = CountVectorizer(max_df=0.75, \n",
    "                             min_df=3, \n",
    "                             max_features=None, \n",
    "                             ngram_range=(1,2)\n",
    "                            )\n",
    "\n",
    "X_train_vector, X_test_vector, Y_train, Y_test = get_all_data_vectorized(X, X_test, Y, Y_test, vectorizer, transformer)"
   ]
  },
  {
   "cell_type": "markdown",
   "metadata": {},
   "source": [
    "### --> Verification perte trop grande de mots dans le vocabulaire"
   ]
  },
  {
   "cell_type": "code",
   "execution_count": 46,
   "metadata": {},
   "outputs": [
    {
     "name": "stdout",
     "output_type": "stream",
     "text": [
      "Avec parametres :  61164\n",
      "Sans parametres : 26263\n"
     ]
    }
   ],
   "source": [
    "print(\"Avec parametres : \", X_train_vector.shape[1])\n",
    "\n",
    "vectorizer = CountVectorizer()\n",
    "test, _, _, _ = get_all_data_vectorized(X, X_test, Y, Y_test, vectorizer)\n",
    "print(\"Sans parametres :\", test.shape[1])"
   ]
  },
  {
   "cell_type": "markdown",
   "metadata": {},
   "source": [
    "### --> Selection de model en partant d'un dataset optimal"
   ]
  },
  {
   "cell_type": "code",
   "execution_count": 47,
   "metadata": {},
   "outputs": [],
   "source": [
    "# En fait le premier grid search le fait deja (je crois)"
   ]
  },
  {
   "cell_type": "code",
   "execution_count": 48,
   "metadata": {},
   "outputs": [],
   "source": [
    "# X_select, Y_select = X_train_vector[:test_size], Y_train[:test_size]"
   ]
  },
  {
   "cell_type": "code",
   "execution_count": 49,
   "metadata": {},
   "outputs": [],
   "source": [
    "# svc = svm.SVC()\n",
    "# parameters = {'kernel':(['linear']), \n",
    "#               'C':np.arange(0, 1, 0.1), \n",
    "#               'class_weight':(['balanced'])}"
   ]
  },
  {
   "cell_type": "code",
   "execution_count": 50,
   "metadata": {},
   "outputs": [],
   "source": [
    "# t0 = time()\n",
    "# clf = GridSearchCV(svc, parameters, n_jobs=8, cv=5, verbose=3)\n",
    "# best_clf = clf.fit(X_select, Y_select)\n",
    "# print(\"done in %0.3fs\" % (time() - t0))"
   ]
  },
  {
   "cell_type": "code",
   "execution_count": 51,
   "metadata": {},
   "outputs": [],
   "source": [
    "# best_parameters = clf.best_estimator_.get_params()\n",
    "# for param_name in sorted(parameters.keys()):\n",
    "#     print(\"--->%s: %r\" % (param_name, best_parameters[param_name]))"
   ]
  },
  {
   "cell_type": "markdown",
   "metadata": {},
   "source": [
    "- 50 fits, njobs=8:\n",
    "    - size=10_000 --> 88s"
   ]
  },
  {
   "cell_type": "markdown",
   "metadata": {},
   "source": [
    "### --> Entrainement final après avoir selectionner les data et le modele"
   ]
  },
  {
   "cell_type": "code",
   "execution_count": 52,
   "metadata": {},
   "outputs": [],
   "source": [
    "# test_size = 10_000\n",
    "\n",
    "# X_select, Y_select = X_train_vector[:test_size], Y_train[:test_size]"
   ]
  },
  {
   "cell_type": "code",
   "execution_count": 53,
   "metadata": {},
   "outputs": [],
   "source": [
    "# optimal_model = svm.SVC(C=0.3, \n",
    "#               class_weight=\"balanced\", \n",
    "#               kernel=\"linear\")\n",
    "# optimal_model.fit(X_select, Y_select)"
   ]
  },
  {
   "cell_type": "code",
   "execution_count": 54,
   "metadata": {},
   "outputs": [],
   "source": [
    "# test_size = 10_000\n",
    "\n",
    "# X_select, Y_select = X_test_vector[:test_size], Y_test[:test_size]"
   ]
  },
  {
   "cell_type": "code",
   "execution_count": 55,
   "metadata": {},
   "outputs": [],
   "source": [
    "# acc = np.round(optimal_model.score(X_select, Y_select)*100, 2)"
   ]
  },
  {
   "cell_type": "code",
   "execution_count": 56,
   "metadata": {},
   "outputs": [],
   "source": [
    "# print(\"Acc : \", acc, \" %\")\n",
    "# display_infos(optimal_model, X_select, Y_select)"
   ]
  },
  {
   "cell_type": "code",
   "execution_count": 57,
   "metadata": {},
   "outputs": [],
   "source": [
    "# Mauvais résultat car il faut faire tt l'entrainement après avoir balance le dataset.\n",
    "# Si on ne fait pas ca dans ce sens, les gridsearch qui "
   ]
  },
  {
   "cell_type": "markdown",
   "metadata": {},
   "source": [
    "## Equilibrage des données\n",
    "\n",
    "Un problème reconnu comme dur dans la communauté est celui de l'équilibrage des classes (*balance* en anglais). Que faire si les données sont à 80, 90 ou 99% dans une des classes?\n",
    "Le problème est dur mais fréquent; les solutions sont multiples mais on peut isoler 3 grandes familles de solution.\n",
    "\n",
    "1. Ré-équilibrer le jeu de données: supprimer des données dans la classe majoritaire et/ou sur-échantilloner la classe minoritaire.<BR>\n",
    "   $\\Rightarrow$ A vous de jouer pour cette technique\n",
    "1. Changer la formulation de la fonction de coût pour pénaliser plus les erreurs dans la classe minoritaire:\n",
    "soit une fonction $\\Delta$ mesurant les écarts entre $f(x_i)$ et $y_i$ \n",
    "$$C = \\sum_i  \\alpha_i \\Delta(f(x_i),y_i), \\qquad \\alpha_i = \\left\\{\n",
    "\\begin{array}{ll}\n",
    "1 & \\mbox{si } y_i \\in \\mbox{classe majoritaire}\\\\\n",
    "B>1 & \\mbox{si } y_i \\in \\mbox{classe minoritaire}\\\\\n",
    "\\end{array} \\right.$$\n",
    "<BR>\n",
    "   $\\Rightarrow$ Les SVM et d'autres approches sklearn possèdent des arguments pour régler $B$ ou $1/B$... Ces arguments sont utiles mais pas toujours suffisant.\n",
    "1. Courbe ROC et modification du biais. Une fois la fonction $\\hat y = f(x)$ apprise, il est possible de la *bidouiller* a posteriori: si toutes les prédictions $\\hat y$ sont dans une classe, on va introduire $b$ dans $\\hat y = f(x) + b$ et le faire varier jusqu'à ce qu'un des points change de classe. On peut ensuite aller de plus en plus loin.\n",
    "Le calcul de l'ensemble des scores associés à cette approche mène directement à la courbe ROC.\n",
    "\n",
    "**Note:** certains classifieurs sont intrinsèquement plus résistante au problème d'équilibrage, c'est par exemple le cas des techniques de gradient boosting que vous verrez l'an prochain."
   ]
  },
  {
   "cell_type": "code",
   "execution_count": 58,
   "metadata": {},
   "outputs": [],
   "source": [
    "import random\n",
    "\n",
    "def naive_balancing(X, Y):\n",
    "    label, count = np.unique(Y, return_counts=True)\n",
    "\n",
    "    idx_pos = np.where(Y == 1, True, False)\n",
    "    Y_pos = Y[idx_pos]\n",
    "    Y_pos = Y_pos[:count.min()]\n",
    "\n",
    "    idx_neg = np.where(Y == -1, True, False)\n",
    "    Y_neg = Y[idx_neg]\n",
    "\n",
    "    new_Y = np.concatenate((Y_pos, Y_neg))\n",
    "    new_X = np.concatenate((X[:count.min()], X[idx_neg]))\n",
    "    \n",
    "    tmp = list(zip(new_X, new_Y))\n",
    "    random.shuffle(tmp)\n",
    "    new_X, new_Y = zip(*tmp)\n",
    "    \n",
    "    label, count = np.unique(new_Y, return_counts=True)\n",
    "    print(label, count)\n",
    "\n",
    "    return new_X, new_Y"
   ]
  },
  {
   "cell_type": "markdown",
   "metadata": {},
   "source": [
    "### --> Selection de data et model avec gridsearch apres balancing"
   ]
  },
  {
   "cell_type": "code",
   "execution_count": 59,
   "metadata": {},
   "outputs": [
    {
     "name": "stdout",
     "output_type": "stream",
     "text": [
      "[-1  1] [7523 7523]\n"
     ]
    }
   ],
   "source": [
    "fname = \"data/corpus.tache1.learn.utf8\"\n",
    "alltxts, alllabs = load_pres(fname)\n",
    "X = np.array(alltxts)\n",
    "Y = np.array(alllabs)\n",
    "new_X, new_Y = naive_balancing(X,Y)\n",
    "X_train, X_test, Y_train, Y_test = train_test_split(X, Y, test_size=0.2) # Test avec new_X, new_Y"
   ]
  },
  {
   "cell_type": "code",
   "execution_count": 60,
   "metadata": {},
   "outputs": [],
   "source": [
    "# import snowballstemmer\n",
    "\n",
    "# print(len(X_train))\n",
    "# stemmer = snowballstemmer.stemmer('french');\n",
    "# for i in range(len(X_train)):\n",
    "#     stemmer.stemWords(X_train[i].split()[j] for j in range(len(X_train[i].split())))\n",
    "# print(np.array(X_train).shape)\n",
    "# for i in range(len(X_test)):\n",
    "#     stemmer.stemWords(X_test[i].split()[j] for j in range(len(X_test[i].split())))"
   ]
  },
  {
   "cell_type": "code",
   "execution_count": 61,
   "metadata": {},
   "outputs": [
    {
     "name": "stdout",
     "output_type": "stream",
     "text": [
      "45930\n",
      "11483\n"
     ]
    }
   ],
   "source": [
    "train_size = len(X_train)\n",
    "test_size = len(X_test)\n",
    "search = False\n",
    "print(train_size)\n",
    "print(test_size)"
   ]
  },
  {
   "cell_type": "code",
   "execution_count": 62,
   "metadata": {},
   "outputs": [
    {
     "name": "stdout",
     "output_type": "stream",
     "text": [
      "Fitting 3 folds for each of 512 candidates, totalling 1536 fits\n",
      "done in 5646.937s\n"
     ]
    }
   ],
   "source": [
    "from sklearn.pipeline import Pipeline\n",
    "from sklearn.feature_extraction.text import TfidfTransformer\n",
    "from time import time\n",
    "from nltk.stem.snowball import SnowballStemmer\n",
    "\n",
    "sw = stopwords.words('french')\n",
    "\n",
    "if search :\n",
    "\n",
    "    # Search with booleans\n",
    "    pipeline1 = Pipeline(\n",
    "        [\n",
    "            (\"vect\", TfidfVectorizer()),\n",
    "            (\"clf\", svm.SVC()),\n",
    "        ]\n",
    "    )\n",
    "    parameters1 = {\n",
    "        \"vect__lowercase\": (True, False),\n",
    "        \"vect__stop_words\": (None, sw),\n",
    "        \"vect__strip_accents\": (None, \"ascii\"),\n",
    "        \"vect__use_idf\": (True, False),\n",
    "        \"vect__smooth_idf\": (True, False),\n",
    "        \"vect__use_idf\": (True, False),\n",
    "        \"vect__sublinear_tf\": (True, False),\n",
    "        \n",
    "        \"vect__min_df\": (1,),\n",
    "        \"vect__max_df\": (0.1,),\n",
    "        \"vect__ngram_range\": [(1, 2),],\n",
    "        'vect__max_features': (None,),\n",
    "\n",
    "        \"clf__C\": (10,100),\n",
    "        'clf__class_weight':([\"balanced\"]),\n",
    "        'clf__kernel':(['linear']),               \n",
    "        \"clf__max_iter\": (1000,)\n",
    "    }\n",
    "    \n",
    "    # Search with numerical values\n",
    "    pipeline2 = Pipeline(\n",
    "        [\n",
    "            (\"vect\", TfidfVectorizer()),\n",
    "            (\"clf\", svm.SVC()),\n",
    "        ]\n",
    "    )\n",
    "    parameters2 = {\n",
    "        # \"vect__lowercase\": (False,),\n",
    "        # \"vect__stop_words\": (None,),\n",
    "        # \"vect__strip_accents\": ('ascii',),\n",
    "        # \"vect__use_idf\": (True,),\n",
    "        # \"vect__smooth_idf\": (False,),\n",
    "        # \"vect__sublinear_tf\": (False,),\n",
    "        \n",
    "        \"vect__min_df\": (1,),\n",
    "        \"vect__max_df\": (0.001,),\n",
    "        \"vect__ngram_range\": [(1, 2),],\n",
    "        'vect__max_features': (None,),\n",
    "        \n",
    "        \"clf__C\": (10000,),\n",
    "        'clf__class_weight':([\"balanced\"]),\n",
    "        'clf__kernel':(['linear']),               \n",
    "        \"clf__max_iter\": (1000,)\n",
    "    }\n",
    "    \n",
    "    # Search with everything\n",
    "    pipeline3 = Pipeline(\n",
    "        [\n",
    "            (\"vect\", TfidfVectorizer()),\n",
    "            (\"clf\", svm.SVC()),\n",
    "        ]\n",
    "    )\n",
    "    parameters3 = {\n",
    "        \"vect__lowercase\": (False,True),\n",
    "        \"vect__stop_words\": (None,sw),\n",
    "        \"vect__strip_accents\": (None, 'ascii'),\n",
    "        # \"vect__use_idf\": (True,False),\n",
    "        # \"vect__smooth_idf\": (False,True),\n",
    "        # \"vect__sublinear_tf\": (False,True),\n",
    "        \n",
    "        \"vect__min_df\": (1, 3, 10, 25),\n",
    "        \"vect__max_df\": (0.05,0.1,0.5,0.9),\n",
    "        \"vect__ngram_range\": [(1, 1),(1, 2)],\n",
    "        'vect__max_features': (None,),\n",
    "        \n",
    "        \"clf__C\": (200, 500),\n",
    "        'clf__class_weight':([\"balanced\"]),\n",
    "        'clf__kernel':(['linear']),               \n",
    "        \"clf__max_iter\": (1000,)\n",
    "    }\n",
    "\n",
    "    grid_search_parameters = GridSearchCV(pipeline3, \n",
    "                                          parameters3, \n",
    "                                          scoring=\"f1\", # test \"rog_auc\"\n",
    "                                          n_jobs=8, \n",
    "                                          verbose=3, \n",
    "                                          cv=3,\n",
    "                                          refit=True\n",
    "                                          )\n",
    "    \n",
    "    t0 = time()\n",
    "    grid_search_parameters.fit(X_train, Y_train) # Essayer de fit en utilisant les pipelines dans l'autre sens et comparer f1 score\n",
    "    print(\"done in %0.3fs\" % (time() - t0))"
   ]
  },
  {
   "cell_type": "markdown",
   "metadata": {},
   "source": [
    "- size=10_000\n",
    "    - 900 fits, njob=8: 2568s (42 minutes)\n",
    "    - 135 fits, njob=8: 220s\n",
    "    - 720 fits, njob=8, scoring=\"f1\", data=naive_balanced : 234s\n",
    "    - 720 fits, njob=8, scoring=\"f1\", data=not_balanced : 287s\n",
    "- size=FULL\n",
    "    - 900 fits, njob=8, scoring=\"f1\", data=not_balanced : 12_000s\n",
    "    - 540 fits, njob=8, scoring=\"f1\", data=not_balanced : 2_631s\n",
    "    - 720 fits, njob=10, scoring=\"f1\", data=not_balanced : 1_719s\n",
    "    - 1536 fits, njob=8, scoring=\"f1\", data=not_balanced : ????s"
   ]
  },
  {
   "cell_type": "code",
   "execution_count": 63,
   "metadata": {},
   "outputs": [],
   "source": [
    "def display_model_scores(model, X_test, Y_test):\n",
    "    best_parameters = model.best_estimator_.get_params()\n",
    "    for param_name in sorted(best_parameters.keys()):\n",
    "        print(\"--->%s: %r\" % (param_name, best_parameters[param_name]))\n",
    "    print(model.best_score_)\n",
    "    grid_predictions = model.predict(X_test)\n",
    "    print(confusion_matrix(Y_test, grid_predictions))\n",
    "    print(classification_report(Y_test, grid_predictions))"
   ]
  },
  {
   "cell_type": "code",
   "execution_count": 64,
   "metadata": {},
   "outputs": [
    {
     "name": "stdout",
     "output_type": "stream",
     "text": [
      "--->clf: SVC(C=200, class_weight='balanced', kernel='linear', max_iter=1000)\n",
      "--->clf__C: 200\n",
      "--->clf__break_ties: False\n",
      "--->clf__cache_size: 200\n",
      "--->clf__class_weight: 'balanced'\n",
      "--->clf__coef0: 0.0\n",
      "--->clf__decision_function_shape: 'ovr'\n",
      "--->clf__degree: 3\n",
      "--->clf__gamma: 'scale'\n",
      "--->clf__kernel: 'linear'\n",
      "--->clf__max_iter: 1000\n",
      "--->clf__probability: False\n",
      "--->clf__random_state: None\n",
      "--->clf__shrinking: True\n",
      "--->clf__tol: 0.001\n",
      "--->clf__verbose: False\n",
      "--->memory: None\n",
      "--->steps: [('vect', TfidfVectorizer(lowercase=False, max_df=0.05, ngram_range=(1, 2))), ('clf', SVC(C=200, class_weight='balanced', kernel='linear', max_iter=1000))]\n",
      "--->vect: TfidfVectorizer(lowercase=False, max_df=0.05, ngram_range=(1, 2))\n",
      "--->vect__analyzer: 'word'\n",
      "--->vect__binary: False\n",
      "--->vect__decode_error: 'strict'\n",
      "--->vect__dtype: <class 'numpy.float64'>\n",
      "--->vect__encoding: 'utf-8'\n",
      "--->vect__input: 'content'\n",
      "--->vect__lowercase: False\n",
      "--->vect__max_df: 0.05\n",
      "--->vect__max_features: None\n",
      "--->vect__min_df: 1\n",
      "--->vect__ngram_range: (1, 2)\n",
      "--->vect__norm: 'l2'\n",
      "--->vect__preprocessor: None\n",
      "--->vect__smooth_idf: True\n",
      "--->vect__stop_words: None\n",
      "--->vect__strip_accents: None\n",
      "--->vect__sublinear_tf: False\n",
      "--->vect__token_pattern: '(?u)\\\\b\\\\w\\\\w+\\\\b'\n",
      "--->vect__tokenizer: None\n",
      "--->vect__use_idf: True\n",
      "--->vect__vocabulary: None\n",
      "--->verbose: False\n",
      "0.8923935087520197\n",
      "[[ 776  736]\n",
      " [1251 8720]]\n",
      "              precision    recall  f1-score   support\n",
      "\n",
      "          -1       0.38      0.51      0.44      1512\n",
      "           1       0.92      0.87      0.90      9971\n",
      "\n",
      "    accuracy                           0.83     11483\n",
      "   macro avg       0.65      0.69      0.67     11483\n",
      "weighted avg       0.85      0.83      0.84     11483\n",
      "\n"
     ]
    }
   ],
   "source": [
    "from sklearn.metrics import confusion_matrix, classification_report, accuracy_score, f1_score, roc_auc_score\n",
    "\n",
    "if search :\n",
    "    # display_model_scores(grid_search_parameters, X_train, Y_train)\n",
    "    display_model_scores(grid_search_parameters, X_test, Y_test)"
   ]
  },
  {
   "cell_type": "markdown",
   "metadata": {},
   "source": [
    "### --> Construction dataset optimal"
   ]
  },
  {
   "cell_type": "code",
   "execution_count": 65,
   "metadata": {},
   "outputs": [],
   "source": [
    "def stemm(X):\n",
    "    stemmer = SnowballStemmer(\"french\")\n",
    "    stem = stemmer.stem(X)\n",
    "    return X"
   ]
  },
  {
   "cell_type": "code",
   "execution_count": 91,
   "metadata": {},
   "outputs": [
    {
     "name": "stdout",
     "output_type": "stream",
     "text": [
      "(45930, 307727)\n"
     ]
    }
   ],
   "source": [
    "vectorizer = TfidfVectorizer(lowercase=False,\n",
    "                             stop_words=None,\n",
    "                             strip_accents=None,\n",
    "                             use_idf=True,\n",
    "                             smooth_idf=True,\n",
    "                             sublinear_tf=False,\n",
    "                             \n",
    "                             min_df=1,\n",
    "                             max_df=0.05,\n",
    "                             ngram_range=(1,2),\n",
    "                            )\n",
    "\n",
    "# Decommenter pour stemming\n",
    "# print(len(X_train))\n",
    "# stemmer = snowballstemmer.stemmer('french');\n",
    "# for i in range(len(X_train)):\n",
    "#     stemmer.stemWords(X_train[i].split()[j] for j in range(len(X_train[i].split())))\n",
    "# print(np.array(X_train).shape)\n",
    "\n",
    "X_train_vector, X_test_vector, Y_train, Y_test = get_all_data_vectorized(X_train, X_test, Y_train, Y_test, vectorizer, transformer)\n",
    "print(X_train_vector.shape)"
   ]
  },
  {
   "cell_type": "markdown",
   "metadata": {},
   "source": [
    "### --> Test model selection avec donnees optimales"
   ]
  },
  {
   "cell_type": "code",
   "execution_count": 93,
   "metadata": {},
   "outputs": [
    {
     "name": "stdout",
     "output_type": "stream",
     "text": [
      "Fitting 3 folds for each of 1 candidates, totalling 3 fits\n",
      "done in 1978.300s\n"
     ]
    }
   ],
   "source": [
    "if search:\n",
    "    parameters = {\n",
    "        'C': ([200]),\n",
    "        'gamma': ([\"scale\"]),\n",
    "        'class_weight':([\"balanced\"]),\n",
    "        'kernel':(['linear'])  \n",
    "        # \"max_iter\": (1000,)\n",
    "    }\n",
    "\n",
    "    optimal_model = GridSearchCV(svm.SVC(),\n",
    "                                 parameters, \n",
    "                                 scoring=\"f1\", # test \"rog_auc\"\n",
    "                                 n_jobs=8, \n",
    "                                 verbose=3, \n",
    "                                 cv=3,\n",
    "                                 refit=True\n",
    "                                 )\n",
    "\n",
    "    t0 = time()\n",
    "    optimal_model.fit(X_train_vector[:train_size], Y_train[:train_size])\n",
    "    print(\"done in %0.3fs\" % (time() - t0))"
   ]
  },
  {
   "cell_type": "code",
   "execution_count": 94,
   "metadata": {},
   "outputs": [
    {
     "name": "stdout",
     "output_type": "stream",
     "text": [
      "--->C: 200\n",
      "--->break_ties: False\n",
      "--->cache_size: 200\n",
      "--->class_weight: 'balanced'\n",
      "--->coef0: 0.0\n",
      "--->decision_function_shape: 'ovr'\n",
      "--->degree: 3\n",
      "--->gamma: 'scale'\n",
      "--->kernel: 'linear'\n",
      "--->max_iter: -1\n",
      "--->probability: False\n",
      "--->random_state: None\n",
      "--->shrinking: True\n",
      "--->tol: 0.001\n",
      "--->verbose: False\n",
      "0.9465052388890548\n",
      "[[1009  503]\n",
      " [ 650 9321]]\n",
      "              precision    recall  f1-score   support\n",
      "\n",
      "          -1       0.61      0.67      0.64      1512\n",
      "           1       0.95      0.93      0.94      9971\n",
      "\n",
      "    accuracy                           0.90     11483\n",
      "   macro avg       0.78      0.80      0.79     11483\n",
      "weighted avg       0.90      0.90      0.90     11483\n",
      "\n"
     ]
    }
   ],
   "source": [
    "if search:\n",
    "    # display_model_scores(optimal_model, X_train_vector, Y_train)\n",
    "    display_model_scores(optimal_model, X_test_vector, Y_test)"
   ]
  },
  {
   "cell_type": "markdown",
   "metadata": {},
   "source": [
    "### --> Entrainement avec model et data optimal sur le TRAIN entier sans max_iter"
   ]
  },
  {
   "cell_type": "code",
   "execution_count": 95,
   "metadata": {},
   "outputs": [],
   "source": [
    "fname = \"data/corpus.tache1.learn.utf8\"\n",
    "alltxts_train_final, alllabs_train_final = load_pres(fname)\n",
    "X_train_final = np.array(alltxts_train_final)\n",
    "Y_train_final = np.array(alllabs_train_final)"
   ]
  },
  {
   "cell_type": "code",
   "execution_count": 96,
   "metadata": {},
   "outputs": [],
   "source": [
    "final_vectorizer = TfidfVectorizer(lowercase=False,\n",
    "                             stop_words=None,\n",
    "                             strip_accents=None,\n",
    "                             use_idf=True,\n",
    "                             smooth_idf=True,\n",
    "                             sublinear_tf=False,\n",
    "                             \n",
    "                             min_df=1,\n",
    "                             max_df=0.05,\n",
    "                             ngram_range=(1,2),\n",
    "                            )\n",
    "\n",
    "X_final_vector = final_vectorizer.fit_transform(X_train_final)"
   ]
  },
  {
   "cell_type": "code",
   "execution_count": 97,
   "metadata": {},
   "outputs": [],
   "source": [
    "final_model = svm.SVC(C=200, \n",
    "                        gamma=\"scale\",\n",
    "                        class_weight=\"balanced\", \n",
    "                        kernel=\"linear\",\n",
    "                        verbose=3,\n",
    "                       )"
   ]
  },
  {
   "cell_type": "code",
   "execution_count": 101,
   "metadata": {},
   "outputs": [
    {
     "name": "stdout",
     "output_type": "stream",
     "text": [
      "(57413, 356871)\n",
      "(57413,)\n"
     ]
    }
   ],
   "source": [
    "print(X_final_vector.shape)\n",
    "print(Y_train_final.shape)"
   ]
  },
  {
   "cell_type": "code",
   "execution_count": 102,
   "metadata": {},
   "outputs": [
    {
     "name": "stdout",
     "output_type": "stream",
     "text": [
      "[LibSVM]"
     ]
    },
    {
     "data": {
      "text/plain": [
       "SVC(C=200, class_weight='balanced', kernel='linear', verbose=3)"
      ]
     },
     "execution_count": 102,
     "metadata": {},
     "output_type": "execute_result"
    }
   ],
   "source": [
    "t0 = time()\n",
    "final_model.fit(X_final_vector,  Y_train_final)\n",
    "print(\"done in %0.3fs\" % (time() - t0))"
   ]
  },
  {
   "cell_type": "markdown",
   "metadata": {},
   "source": [
    "### --> Calcul des predictions pour envoie"
   ]
  },
  {
   "cell_type": "code",
   "execution_count": 103,
   "metadata": {},
   "outputs": [],
   "source": [
    "fname = \"data/corpus.tache1.test.utf8\"\n",
    "alltxts_test_final, alllabs_test_final = load_pres(fname)\n",
    "X_test_final = np.array(alltxts_test)\n",
    "Y_test_final = np.array(alllabs_test)"
   ]
  },
  {
   "cell_type": "code",
   "execution_count": 104,
   "metadata": {},
   "outputs": [],
   "source": [
    "X_test_vector = final_vectorizer.transform(X_test_final)\n",
    "final_pred = final_model.predict(X_test_vector)"
   ]
  },
  {
   "cell_type": "code",
   "execution_count": 123,
   "metadata": {},
   "outputs": [
    {
     "name": "stdout",
     "output_type": "stream",
     "text": [
      "(57413,)\n"
     ]
    }
   ],
   "source": [
    "print(final_pred.shape)"
   ]
  },
  {
   "cell_type": "code",
   "execution_count": 132,
   "metadata": {},
   "outputs": [],
   "source": [
    "f = open(\"output/preds_line.txt\", \"a\")\n",
    "preds = \"\"\n",
    "for i in range(len(final_pred)):\n",
    "    preds += str(final_pred[i]) + \"\\n\"\n",
    "# print(preds)\n",
    "f.write(preds)\n",
    "f.close()"
   ]
  },
  {
   "cell_type": "markdown",
   "metadata": {},
   "source": [
    "### --> Test avec post processing"
   ]
  },
  {
   "cell_type": "code",
   "execution_count": null,
   "metadata": {},
   "outputs": [],
   "source": []
  }
 ],
 "metadata": {
  "kernelspec": {
   "display_name": "Python [conda env:root] *",
   "language": "python",
   "name": "conda-root-py"
  },
  "language_info": {
   "codemirror_mode": {
    "name": "ipython",
    "version": 3
   },
   "file_extension": ".py",
   "mimetype": "text/x-python",
   "name": "python",
   "nbconvert_exporter": "python",
   "pygments_lexer": "ipython3",
   "version": "3.8.12"
  }
 },
 "nbformat": 4,
 "nbformat_minor": 4
}
