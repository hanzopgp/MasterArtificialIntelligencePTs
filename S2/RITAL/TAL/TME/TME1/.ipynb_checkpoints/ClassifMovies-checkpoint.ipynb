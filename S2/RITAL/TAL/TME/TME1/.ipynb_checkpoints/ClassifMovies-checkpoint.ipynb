{
 "cells": [
  {
   "cell_type": "markdown",
   "id": "53d94991-0b5a-4f2c-ae45-4ef4e3044fc9",
   "metadata": {},
   "source": [
    "# I) General"
   ]
  },
  {
   "cell_type": "markdown",
   "id": "9b1dd39c-b224-4a69-a47b-943ad020a14d",
   "metadata": {},
   "source": [
    "## 1. Importations"
   ]
  },
  {
   "cell_type": "code",
   "execution_count": 1,
   "id": "202293a0-1589-425d-a8b1-d74799119c7a",
   "metadata": {},
   "outputs": [
    {
     "name": "stderr",
     "output_type": "stream",
     "text": [
      "Intel(R) Extension for Scikit-learn* enabled (https://github.com/intel/scikit-learn-intelex)\n"
     ]
    }
   ],
   "source": [
    "import numpy as np\n",
    "import matplotlib.pyplot as plt\n",
    "import pandas as pd\n",
    "import codecs\n",
    "import re\n",
    "import os.path\n",
    "import random\n",
    "import string\n",
    "import re\n",
    "import unicodedata\n",
    "from time import time\n",
    "from tqdm import tqdm\n",
    "\n",
    "import nltk\n",
    "from nltk.corpus import stopwords\n",
    "from nltk.stem.snowball import SnowballStemmer\n",
    "\n",
    "from sklearn.svm import SVC\n",
    "from sklearn.naive_bayes import MultinomialNB\n",
    "from sklearn.linear_model import LogisticRegression\n",
    "from sklearn.svm import LinearSVC\n",
    "from sklearn.metrics import confusion_matrix, classification_report, accuracy_score, f1_score, roc_auc_score\n",
    "from sklearn.model_selection import train_test_split, GridSearchCV, StratifiedKFold\n",
    "from sklearn.feature_extraction.text import CountVectorizer, TfidfVectorizer, TfidfTransformer\n",
    "from sklearn.pipeline import Pipeline\n",
    "from sklearn.ensemble import RandomForestClassifier, VotingClassifier\n",
    "import sklearn.naive_bayes as nb\n",
    "from sklearnex import patch_sklearn\n",
    "patch_sklearn() # Should speed up learning somehow \n",
    "\n",
    "from wordcloud import WordCloud\n",
    "\n",
    "import warnings\n",
    "warnings.filterwarnings(\"ignore\")"
   ]
  },
  {
   "cell_type": "markdown",
   "id": "2cc0cb06-6c17-4aad-a9e6-78aa13dfd122",
   "metadata": {},
   "source": [
    "# III) Movie dataset"
   ]
  },
  {
   "cell_type": "code",
   "execution_count": 2,
   "id": "c4964733-6d60-4e24-9021-c677a414c761",
   "metadata": {},
   "outputs": [],
   "source": [
    "def load_movies(path2data): \n",
    "    alltxts = []\n",
    "    labs = []\n",
    "    cpt = 0\n",
    "    for cl in os.listdir(path2data): \n",
    "        for f in os.listdir(path2data+cl):\n",
    "            txt = open(path2data+cl+'/'+f).read()\n",
    "            alltxts.append(txt)\n",
    "            labs.append(cpt)\n",
    "        cpt+=1 \n",
    "    return alltxts,labs"
   ]
  },
  {
   "cell_type": "markdown",
   "id": "ca1f5a9f-1c34-41a0-ad0e-e287ec81bf41",
   "metadata": {},
   "source": [
    "## 1. Feature and model selection"
   ]
  },
  {
   "cell_type": "code",
   "execution_count": 3,
   "id": "89249312-47ea-41f0-9bf6-0b2355846feb",
   "metadata": {},
   "outputs": [],
   "source": [
    "def get_all_data_vectorized(X, X_test, Y, Y_test, vectorizer, transformer=None):\n",
    "    X_vector = vectorizer.fit_transform(X)\n",
    "    if transformer is not None:\n",
    "        transformer = transformer.fit(X_vector)\n",
    "        X_final = transformer.transform(X_vector)\n",
    "    else:\n",
    "        X_final = X_vector\n",
    "    X_test_vector = vectorizer.transform(X_test)\n",
    "    return X_final, X_test_vector, Y, Y_test\n",
    "\n",
    "def display_model_scores(model, X_test, Y_test, search=True):\n",
    "    if search:\n",
    "        best_parameters = model.best_estimator_.get_params()\n",
    "        for param_name in sorted(best_parameters.keys()):\n",
    "            print(\"--->%s: %r\" % (param_name, best_parameters[param_name]))\n",
    "    grid_predictions = model.predict(X_test)\n",
    "    print(accuracy_score(Y_test, grid_predictions))"
   ]
  },
  {
   "cell_type": "markdown",
   "id": "e031aef3-be22-4de0-a0e1-4bdca2adf185",
   "metadata": {},
   "source": [
    "### --> Loading and splitting data"
   ]
  },
  {
   "cell_type": "code",
   "execution_count": 4,
   "id": "0d1d30e1-b802-4892-bb73-9efb6eb9fb0a",
   "metadata": {},
   "outputs": [
    {
     "name": "stdout",
     "output_type": "stream",
     "text": [
      "1340\n",
      "660\n"
     ]
    }
   ],
   "source": [
    "path =  \"./data/movies1000/\"\n",
    "alltxts,alllabs = load_movies(path)\n",
    "X = np.array(alltxts)\n",
    "Y = np.array(alllabs)\n",
    "X_train, X_test, Y_train, Y_test = train_test_split(X, Y, test_size=0.33, shuffle=True)\n",
    "print(len(X_train))\n",
    "print(len(X_test))"
   ]
  },
  {
   "cell_type": "markdown",
   "id": "1c8a7ebf-9656-4b25-94dd-d9c193560a3a",
   "metadata": {},
   "source": [
    "### --> Stemming"
   ]
  },
  {
   "cell_type": "code",
   "execution_count": 5,
   "id": "91b21a68-f1f7-4b16-98c3-4882cb8a4f26",
   "metadata": {},
   "outputs": [],
   "source": [
    "# Remove comment for stemming\n",
    "# print(len(X_train))\n",
    "# stemmer = snowballstemmer.stemmer('french');\n",
    "# for i in range(len(X_train)):\n",
    "#     stemmer.stemWords(X_train[i].split()[j] for j in range(len(X_train[i].split())))\n",
    "# print(np.array(X_train).shape)"
   ]
  },
  {
   "cell_type": "markdown",
   "id": "1148268c-3f84-4a14-9b43-dc02026852af",
   "metadata": {},
   "source": [
    "### --> Feature selection depending the model selected"
   ]
  },
  {
   "cell_type": "code",
   "execution_count": 6,
   "id": "670e0ce9-bd56-4c47-b1b3-db34a1784a72",
   "metadata": {},
   "outputs": [],
   "source": [
    "search = False\n",
    "sw = stopwords.words('french')\n",
    "\n",
    "if search :\n",
    "    \n",
    "    pipeline_svc = Pipeline(\n",
    "        [\n",
    "            (\"vect\", TfidfVectorizer(max_features=10_000)), # avoids overfit on train set (having more features than individuals is bad most of the time)\n",
    "            (\"clf\", LinearSVC(max_iter=1000,                # also avoids overfit\n",
    "                              C=100))                       # regularization so the model doesn't predict only one class  \n",
    "        ]\n",
    "    )\n",
    "    pipeline_nb = Pipeline(\n",
    "        [\n",
    "            (\"vect\", TfidfVectorizer(max_features=10_000)),\n",
    "            (\"clf\", MultinomialNB())      \n",
    "        ]\n",
    "    )\n",
    "    pipeline_lr = Pipeline(\n",
    "        [\n",
    "            (\"vect\", TfidfVectorizer(max_features=10_000)),\n",
    "            (\"clf\", LogisticRegression(max_iter=1000,\n",
    "                                       C=100))        \n",
    "        ]\n",
    "    )\n",
    "    parameters_vectorizer = {\n",
    "        \"vect__lowercase\": (False,),\n",
    "        \"vect__stop_words\": (None,),\n",
    "        \"vect__strip_accents\": (None,),\n",
    "        # \"vect__use_idf\": (True,False),\n",
    "        # \"vect__smooth_idf\": (False,True),\n",
    "        # \"vect__sublinear_tf\": (False,True),\n",
    "        \n",
    "        \"vect__min_df\": (1, 5, 15, 30),\n",
    "        \"vect__max_df\": (0.01, 0.05, 0.1, 0.2, 0.5),\n",
    "        \"vect__ngram_range\": [(1, 1), (1, 2)],\n",
    "        }\n",
    "    \n",
    "    strat_kfold = StratifiedKFold(n_splits=3, shuffle=True)\n",
    "\n",
    "    grid_search_parameters_svc = GridSearchCV(pipeline_svc, \n",
    "                                              parameters_vectorizer, \n",
    "                                              scoring=\"accuracy\",\n",
    "                                              n_jobs=8, \n",
    "                                              verbose=3, \n",
    "                                              cv=strat_kfold,\n",
    "                                              refit=True\n",
    "                                              )\n",
    "    grid_search_parameters_nb = GridSearchCV(pipeline_nb, \n",
    "                                              parameters_vectorizer, \n",
    "                                              scoring=\"accuracy\",\n",
    "                                              n_jobs=8, \n",
    "                                              verbose=3, \n",
    "                                              cv=strat_kfold,\n",
    "                                              refit=True\n",
    "                                              )\n",
    "    grid_search_parameters_lr = GridSearchCV(pipeline_lr, \n",
    "                                              parameters_vectorizer, \n",
    "                                              scoring=\"accuracy\", \n",
    "                                              n_jobs=8, \n",
    "                                              verbose=3, \n",
    "                                              cv=strat_kfold,\n",
    "                                              refit=True\n",
    "                                              )\n",
    "    \n",
    "    print(\"============================================= SVC + VECTORIZER =============================================\")\n",
    "    t0 = time()\n",
    "    grid_search_parameters_svc.fit(X_train, Y_train)\n",
    "    print(\"done in %0.3fs\" % (time() - t0))\n",
    "    display_model_scores(grid_search_parameters_svc, X_train, Y_train) # check overfit X_train\n",
    "    display_model_scores(grid_search_parameters_svc, X_test, Y_test)\n",
    "    \n",
    "    print(\"============================================= NB + VECTORIZER =============================================\")\n",
    "    t0 = time()\n",
    "    grid_search_parameters_nb.fit(X_train, Y_train)\n",
    "    print(\"done in %0.3fs\" % (time() - t0))\n",
    "    display_model_scores(grid_search_parameters_nb, X_train, Y_train)\n",
    "    display_model_scores(grid_search_parameters_nb, X_test, Y_test) \n",
    "    \n",
    "    print(\"============================================= LR + VECTORIZER =============================================\")\n",
    "    t0 = time()\n",
    "    grid_search_parameters_lr.fit(X_train, Y_train)\n",
    "    print(\"done in %0.3fs\" % (time() - t0))\n",
    "    display_model_scores(grid_search_parameters_lr, X_train, Y_train)\n",
    "    display_model_scores(grid_search_parameters_lr, X_test, Y_test) "
   ]
  },
  {
   "cell_type": "markdown",
   "id": "dddd58d3-498a-43db-9c34-eed97f3a1d87",
   "metadata": {},
   "source": [
    "### --> Building optimal vectorizer for each model"
   ]
  },
  {
   "cell_type": "code",
   "execution_count": 7,
   "id": "bd400815-ec0d-4543-8d1c-7ab8e8908d6a",
   "metadata": {},
   "outputs": [
    {
     "name": "stdout",
     "output_type": "stream",
     "text": [
      "(1340, 20000)\n",
      "(1340, 8887)\n",
      "(1340, 20000)\n"
     ]
    }
   ],
   "source": [
    "vectorizer_svc = TfidfVectorizer(lowercase=False,\n",
    "                                 stop_words=None,\n",
    "                                 strip_accents=None,\n",
    "                                 # use_idf=True,\n",
    "                                 # smooth_idf=True,\n",
    "                                 # sublinear_tf=False,\n",
    "                             \n",
    "                                 max_features=20_000,\n",
    "                                 min_df=5,\n",
    "                                 max_df=0.5,\n",
    "                                 ngram_range=(1,2),\n",
    "                                 )\n",
    "\n",
    "vectorizer_nb = TfidfVectorizer(lowercase=False,\n",
    "                                stop_words=None,\n",
    "                                strip_accents=None,\n",
    "                                # use_idf=True,\n",
    "                                # smooth_idf=True,\n",
    "                                # sublinear_tf=False,\n",
    "                             \n",
    "                                max_features=20_000,\n",
    "                                min_df=15,\n",
    "                                max_df=0.1,\n",
    "                                ngram_range=(1,2),\n",
    "                                )\n",
    "\n",
    "vectorizer_lr = TfidfVectorizer(lowercase=False,\n",
    "                                stop_words=None,\n",
    "                                strip_accents=None,\n",
    "                                # use_idf=True,\n",
    "                                # smooth_idf=True,\n",
    "                                # sublinear_tf=False,\n",
    "                             \n",
    "                                max_features=20_000,\n",
    "                                min_df=5,\n",
    "                                max_df=0.5,\n",
    "                                ngram_range=(1,2),\n",
    "                                )\n",
    "\n",
    "# Remove comment for stemming\n",
    "# print(len(X_train))\n",
    "# stemmer = snowballstemmer.stemmer('french');\n",
    "# for i in range(len(X_train)):\n",
    "#     stemmer.stemWords(X_train[i].split()[j] for j in range(len(X_train[i].split())))\n",
    "# print(np.array(X_train).shape)\n",
    "\n",
    "X_train_vector_svc, X_test_vector_svc, Y_train_svc, Y_test_svc = get_all_data_vectorized(X_train, X_test, Y_train, Y_test, vectorizer_svc)\n",
    "print(X_train_vector_svc.shape)\n",
    "X_train_vector_nb, X_test_vector_nb, Y_train_nb, Y_test_nb = get_all_data_vectorized(X_train, X_test, Y_train, Y_test, vectorizer_nb)\n",
    "print(X_train_vector_nb.shape)\n",
    "X_train_vector_lr, X_test_vector_lr, Y_train_lr, Y_test_lr = get_all_data_vectorized(X_train, X_test, Y_train, Y_test, vectorizer_lr)\n",
    "print(X_train_vector_lr.shape)"
   ]
  },
  {
   "cell_type": "markdown",
   "id": "fb7862f8-a526-4ae2-ae04-674ad40e1e87",
   "metadata": {},
   "source": [
    "### --> Model selection SVC"
   ]
  },
  {
   "cell_type": "code",
   "execution_count": 8,
   "id": "b0b37ce6-a74a-4c82-b341-b46090afb24e",
   "metadata": {},
   "outputs": [],
   "source": [
    "search = False\n",
    "if search:\n",
    "    parameters = {\n",
    "        'C': (1,10,50,100,200,500)    \n",
    "    }\n",
    "    \n",
    "    strat_kfold = StratifiedKFold(n_splits=5, shuffle=True)\n",
    "\n",
    "    optimal_svc = GridSearchCV(LinearSVC(max_iter=5000),\n",
    "                               parameters, \n",
    "                               scoring=\"accuracy\",\n",
    "                               n_jobs=8, \n",
    "                               verbose=3, \n",
    "                               cv=strat_kfold,\n",
    "                               refit=True\n",
    "                               )\n",
    "\n",
    "    t0 = time()\n",
    "    optimal_svc.fit(X_train_vector_svc, Y_train_svc)\n",
    "    print(\"done in %0.3fs\" % (time() - t0))\n",
    "    \n",
    "    display_model_scores(optimal_svc, X_train_vector_svc, Y_train_svc)\n",
    "    display_model_scores(optimal_svc, X_test_vector_svc, Y_test_svc)"
   ]
  },
  {
   "cell_type": "markdown",
   "id": "9cdbe9f3-abc7-4270-a078-e2ec029683c3",
   "metadata": {},
   "source": [
    "### --> Model selection NB"
   ]
  },
  {
   "cell_type": "code",
   "execution_count": 9,
   "id": "89172faf-3d4c-445b-b037-d39e7493aeda",
   "metadata": {},
   "outputs": [],
   "source": [
    "if search:\n",
    "    parameters = {\n",
    "        'alpha': np.arange(0, 1, 0.05),\n",
    "    }\n",
    "    \n",
    "    strat_kfold = StratifiedKFold(n_splits=5, shuffle=True)\n",
    "\n",
    "    optimal_nb = GridSearchCV(MultinomialNB(),\n",
    "                              parameters, \n",
    "                              scoring=\"accuracy\",\n",
    "                              n_jobs=8, \n",
    "                              verbose=3, \n",
    "                              cv=strat_kfold,\n",
    "                              refit=True\n",
    "                              )\n",
    "\n",
    "    t0 = time()\n",
    "    optimal_nb.fit(X_train_vector_nb, Y_train_nb)\n",
    "    print(\"done in %0.3fs\" % (time() - t0))\n",
    "    \n",
    "    display_model_scores(optimal_nb, X_train_vector_nb, Y_train_nb)\n",
    "    display_model_scores(optimal_nb, X_test_vector_nb, Y_test_nb)"
   ]
  },
  {
   "cell_type": "markdown",
   "id": "68934338-b5d9-4c9b-b5c0-19b83d77871a",
   "metadata": {},
   "source": [
    "### --> Model selection LR"
   ]
  },
  {
   "cell_type": "code",
   "execution_count": 10,
   "id": "ac53bfbb-02d7-481d-a3a7-88b0a4359d62",
   "metadata": {},
   "outputs": [],
   "source": [
    "if search:\n",
    "    parameters = {\n",
    "        'C': (1, 10, 50, 100, 200, 500)\n",
    "    }\n",
    "    \n",
    "    strat_kfold = StratifiedKFold(n_splits=5, shuffle=True)\n",
    "\n",
    "    optimal_lr = GridSearchCV(LogisticRegression(max_iter=5000),\n",
    "                               parameters, \n",
    "                               scoring=\"accuracy\",\n",
    "                               n_jobs=8, \n",
    "                               verbose=3, \n",
    "                               cv=strat_kfold,\n",
    "                               refit=True\n",
    "                               )\n",
    "\n",
    "    t0 = time()\n",
    "    optimal_lr.fit(X_train_vector_lr, Y_train_lr)\n",
    "    print(\"done in %0.3fs\" % (time() - t0))\n",
    "    \n",
    "    display_model_scores(optimal_lr, X_train_vector_lr, Y_train_lr)\n",
    "    display_model_scores(optimal_lr, X_test_vector_lr, Y_test_lr)"
   ]
  },
  {
   "cell_type": "markdown",
   "id": "abf6ef09-e6bb-4055-ab98-131e2aa2fddb",
   "metadata": {},
   "source": [
    "### --> Test 3 optimal models without max_iter"
   ]
  },
  {
   "cell_type": "code",
   "execution_count": 11,
   "id": "f6fea71b-7eb2-40b5-9bed-fd6297fead9e",
   "metadata": {},
   "outputs": [
    {
     "name": "stdout",
     "output_type": "stream",
     "text": [
      "done in 0.334s\n",
      "1.0\n",
      "0.8409090909090909\n"
     ]
    }
   ],
   "source": [
    "final_svc = LinearSVC(max_iter=10_000,\n",
    "                      C=10)\n",
    "\n",
    "t0 = time()\n",
    "final_svc.fit(X_train_vector_svc, Y_train_svc)\n",
    "print(\"done in %0.3fs\" % (time() - t0))\n",
    "    \n",
    "display_model_scores(final_svc, X_train_vector_svc, Y_train_svc, search=False)\n",
    "display_model_scores(final_svc, X_test_vector_svc, Y_test_svc, search=False)"
   ]
  },
  {
   "cell_type": "code",
   "execution_count": 12,
   "id": "1f551c79-63ca-4e34-802b-367e75001b20",
   "metadata": {},
   "outputs": [
    {
     "name": "stdout",
     "output_type": "stream",
     "text": [
      "done in 0.004s\n",
      "0.9716417910447761\n",
      "0.8166666666666667\n"
     ]
    }
   ],
   "source": [
    "final_nb = MultinomialNB(alpha=0.0)\n",
    "\n",
    "t0 = time()\n",
    "final_nb.fit(X_train_vector_nb, Y_train_nb)\n",
    "print(\"done in %0.3fs\" % (time() - t0))\n",
    "    \n",
    "display_model_scores(final_nb, X_train_vector_nb, Y_train_nb, search=False)\n",
    "display_model_scores(final_nb, X_test_vector_nb, Y_test_nb, search=False)"
   ]
  },
  {
   "cell_type": "code",
   "execution_count": 13,
   "id": "8480d604-51b8-4b99-b4c1-d568b5021064",
   "metadata": {},
   "outputs": [
    {
     "name": "stdout",
     "output_type": "stream",
     "text": [
      "done in 0.589s\n",
      "1.0\n",
      "0.8469696969696969\n"
     ]
    }
   ],
   "source": [
    "final_lr = LogisticRegression(max_iter=10_000,\n",
    "                              C=100)\n",
    "\n",
    "t0 = time()\n",
    "final_lr.fit(X_train_vector_lr, Y_train_lr)\n",
    "print(\"done in %0.3fs\" % (time() - t0))\n",
    "    \n",
    "display_model_scores(final_lr, X_train_vector_lr, Y_train_lr, search=False)\n",
    "display_model_scores(final_lr, X_test_vector_lr, Y_test_lr, search=False) "
   ]
  },
  {
   "cell_type": "markdown",
   "id": "7a4601df-8278-453c-babc-711645652c6b",
   "metadata": {},
   "source": [
    "### --> Testing voting classifier"
   ]
  },
  {
   "cell_type": "code",
   "execution_count": 14,
   "id": "81ac8416-0a7f-46a9-93c5-71584cefff50",
   "metadata": {},
   "outputs": [],
   "source": [
    "svc_for_vote = SVC(kernel='linear', # VotingClassifier doesn't work with linearSVC() module\n",
    "                   probability=True,\n",
    "                   max_iter=10_000,\n",
    "                   C=10)"
   ]
  },
  {
   "cell_type": "code",
   "execution_count": 15,
   "id": "3466062b-96eb-46b9-9afb-44f95adf39c0",
   "metadata": {},
   "outputs": [
    {
     "name": "stdout",
     "output_type": "stream",
     "text": [
      "[Voting] ....................... (1 of 3) Processing lr, total=   0.4s\n",
      "[Voting] ....................... (2 of 3) Processing nb, total=   0.0s\n",
      "[Voting] ...................... (3 of 3) Processing svc, total=  32.8s\n",
      "done in 33.252s\n",
      "1.0\n",
      "0.8469696969696969\n"
     ]
    }
   ],
   "source": [
    "voting_clf_soft = VotingClassifier(estimators=[\n",
    "                                            ('lr', final_lr), \n",
    "                                            ('nb', final_nb),\n",
    "                                            ('svc', svc_for_vote)\n",
    "                                            ],\n",
    "                                  voting='soft',\n",
    "                                  n_jobs=1,\n",
    "                                  verbose=3)\n",
    "\n",
    "t0 = time()\n",
    "voting_clf_soft.fit(X_train_vector_lr, Y_train_lr)\n",
    "print(\"done in %0.3fs\" % (time() - t0))\n",
    "    \n",
    "display_model_scores(voting_clf_soft, X_train_vector_lr, Y_train_lr, search=False)\n",
    "display_model_scores(voting_clf_soft, X_test_vector_lr, Y_test_lr, search=False)"
   ]
  },
  {
   "cell_type": "code",
   "execution_count": 16,
   "id": "249fa327-219c-4a1a-ab9e-7e5145325de5",
   "metadata": {},
   "outputs": [
    {
     "name": "stdout",
     "output_type": "stream",
     "text": [
      "[Voting] ....................... (1 of 3) Processing lr, total=   0.4s\n",
      "[Voting] ....................... (2 of 3) Processing nb, total=   0.0s\n",
      "[Voting] ...................... (3 of 3) Processing svc, total=   0.3s\n",
      "done in 0.684s\n",
      "1.0\n",
      "0.8484848484848485\n"
     ]
    }
   ],
   "source": [
    "voting_clf_hard = VotingClassifier(estimators=[\n",
    "                                            ('lr', final_lr), \n",
    "                                            ('nb', final_nb),\n",
    "                                            ('svc', final_svc)\n",
    "                                            ],\n",
    "                                  voting='hard',\n",
    "                                  n_jobs=1,\n",
    "                                  verbose=3)\n",
    "\n",
    "t0 = time()\n",
    "voting_clf_hard.fit(X_train_vector_lr, Y_train_lr)\n",
    "print(\"done in %0.3fs\" % (time() - t0))\n",
    "    \n",
    "display_model_scores(voting_clf_hard, X_train_vector_lr, Y_train_lr, search=False)\n",
    "display_model_scores(voting_clf_hard, X_test_vector_lr, Y_test_lr, search=False)"
   ]
  },
  {
   "cell_type": "markdown",
   "id": "2116c776-7b8c-45e9-bb8f-b487cbef6d16",
   "metadata": {},
   "source": [
    "## 2. Final training without max_iter"
   ]
  },
  {
   "cell_type": "code",
   "execution_count": 17,
   "id": "f1d7fdef-03b5-4f6d-baaa-9e3c2153a043",
   "metadata": {},
   "outputs": [
    {
     "name": "stdout",
     "output_type": "stream",
     "text": [
      "1340\n",
      "660\n"
     ]
    }
   ],
   "source": [
    "path =  \"./data/movies1000/\"\n",
    "alltxts,alllabs = load_movies(path)\n",
    "X = np.array(alltxts)\n",
    "Y = np.array(alllabs)\n",
    "X_train_final, X_test_final, Y_train_final, Y_test_final = train_test_split(X, Y, test_size=0.33, shuffle=True)\n",
    "print(len(X_train_final))\n",
    "print(len(X_test_final))"
   ]
  },
  {
   "cell_type": "code",
   "execution_count": 18,
   "id": "c4f5878e-9221-4a8d-a285-a7217cb651ef",
   "metadata": {},
   "outputs": [
    {
     "name": "stdout",
     "output_type": "stream",
     "text": [
      " done in 0.298s\n",
      " done in 0.003s\n",
      " done in 0.166s\n",
      "[Voting] ....................... (1 of 3) Processing lr, total=   0.3s\n",
      "[Voting] ....................... (2 of 3) Processing nb, total=   0.0s\n",
      "[Voting] ...................... (3 of 3) Processing svc, total=  31.9s\n",
      " done in 32.199s\n",
      "[Voting] ....................... (1 of 3) Processing lr, total=   0.2s\n",
      "[Voting] ....................... (2 of 3) Processing nb, total=   0.0s\n",
      "[Voting] ...................... (3 of 3) Processing svc, total=   0.3s\n",
      " done in 0.491s\n"
     ]
    }
   ],
   "source": [
    "X_final_vector_svc = vectorizer_svc.fit_transform(X_train_final)\n",
    "X_final_vector_nb = vectorizer_nb.fit_transform(X_train_final)\n",
    "X_final_vector_lr = vectorizer_lr.fit_transform(X_train_final)\n",
    "\n",
    "X_test_vector_svc = vectorizer_svc.transform(X_test_final)\n",
    "X_test_vector_nb = vectorizer_nb.transform(X_test_final)\n",
    "X_test_vector_lr = vectorizer_lr.transform(X_test_final)\n",
    "\n",
    "t0 = time()\n",
    "final_svc.fit(X_final_vector_svc,  Y_train_final)\n",
    "print(\" done in %0.3fs\" % (time() - t0))\n",
    "\n",
    "t0 = time()\n",
    "final_nb.fit(X_final_vector_nb,  Y_train_final)\n",
    "print(\" done in %0.3fs\" % (time() - t0))\n",
    "\n",
    "t0 = time()\n",
    "final_lr.fit(X_final_vector_lr,  Y_train_final)\n",
    "print(\" done in %0.3fs\" % (time() - t0))\n",
    "\n",
    "t0 = time()\n",
    "voting_clf_soft.fit(X_final_vector_lr,  Y_train_final)\n",
    "print(\" done in %0.3fs\" % (time() - t0))\n",
    "\n",
    "t0 = time()\n",
    "voting_clf_hard.fit(X_final_vector_lr,  Y_train_final)\n",
    "print(\" done in %0.3fs\" % (time() - t0))"
   ]
  },
  {
   "cell_type": "code",
   "execution_count": 19,
   "id": "24840ea3-2a60-4284-8153-1e5ac0bb4aaa",
   "metadata": {},
   "outputs": [
    {
     "name": "stdout",
     "output_type": "stream",
     "text": [
      "0.8651515151515151\n",
      "0.8348484848484848\n",
      "0.8681818181818182\n",
      "0.8606060606060606\n",
      "0.8666666666666667\n"
     ]
    }
   ],
   "source": [
    "display_model_scores(final_svc, X_test_vector_svc, Y_test_final, search=False)\n",
    "display_model_scores(final_nb, X_test_vector_nb, Y_test_final, search=False)\n",
    "display_model_scores(final_lr, X_test_vector_lr, Y_test_final, search=False)\n",
    "display_model_scores(voting_clf_soft, X_test_vector_lr, Y_test_final, search=False)\n",
    "display_model_scores(voting_clf_hard, X_test_vector_lr, Y_test_final, search=False)"
   ]
  },
  {
   "cell_type": "markdown",
   "id": "bd6e5a15-ad93-4e81-a110-05b456a6e0b6",
   "metadata": {},
   "source": [
    "## 3. Training on whole dataset"
   ]
  },
  {
   "cell_type": "code",
   "execution_count": 20,
   "id": "7c674606-2d08-4ac8-87d9-0d9d25d9cae3",
   "metadata": {},
   "outputs": [
    {
     "name": "stdout",
     "output_type": "stream",
     "text": [
      "2000\n",
      "2000\n"
     ]
    }
   ],
   "source": [
    "path =  \"./data/movies1000/\"\n",
    "alltxts,alllabs = load_movies(path)\n",
    "X = np.array(alltxts)\n",
    "Y_train_final = np.array(alllabs)\n",
    "print(len(X))\n",
    "print(len(Y))"
   ]
  },
  {
   "cell_type": "code",
   "execution_count": 21,
   "id": "c9d90488-4806-4ac5-9405-cf3e7eb8a6bb",
   "metadata": {},
   "outputs": [
    {
     "name": "stdout",
     "output_type": "stream",
     "text": [
      " done in 0.388s\n",
      " done in 0.004s\n",
      " done in 0.211s\n",
      "[Voting] ....................... (1 of 3) Processing lr, total=   0.3s\n",
      "[Voting] ....................... (2 of 3) Processing nb, total=   0.0s\n",
      "[Voting] ...................... (3 of 3) Processing svc, total= 1.1min\n",
      " done in 67.815s\n",
      "[Voting] ....................... (1 of 3) Processing lr, total=   0.2s\n",
      "[Voting] ....................... (2 of 3) Processing nb, total=   0.0s\n",
      "[Voting] ...................... (3 of 3) Processing svc, total=   0.4s\n",
      " done in 0.579s\n"
     ]
    }
   ],
   "source": [
    "X_final_vector_svc = vectorizer_svc.fit_transform(X)\n",
    "X_final_vector_nb = vectorizer_nb.fit_transform(X)\n",
    "X_final_vector_lr = vectorizer_lr.fit_transform(X)\n",
    "\n",
    "t0 = time()\n",
    "final_svc.fit(X_final_vector_svc,  Y_train_final)\n",
    "print(\" done in %0.3fs\" % (time() - t0))\n",
    "\n",
    "t0 = time()\n",
    "final_nb.fit(X_final_vector_nb,  Y_train_final)\n",
    "print(\" done in %0.3fs\" % (time() - t0))\n",
    "\n",
    "t0 = time()\n",
    "final_lr.fit(X_final_vector_lr,  Y_train_final)\n",
    "print(\" done in %0.3fs\" % (time() - t0))\n",
    "\n",
    "t0 = time()\n",
    "voting_clf_soft.fit(X_final_vector_lr,  Y_train_final)\n",
    "print(\" done in %0.3fs\" % (time() - t0))\n",
    "\n",
    "t0 = time()\n",
    "voting_clf_hard.fit(X_final_vector_lr,  Y_train_final)\n",
    "print(\" done in %0.3fs\" % (time() - t0))"
   ]
  },
  {
   "cell_type": "markdown",
   "id": "e5eff580-b3a3-48a0-bbf1-bf7991df4677",
   "metadata": {},
   "source": [
    "## 4. Computing final test predictions"
   ]
  },
  {
   "cell_type": "code",
   "execution_count": 22,
   "id": "7e653556-096d-43a0-8db2-8f61f7cb37b7",
   "metadata": {},
   "outputs": [],
   "source": [
    "path = \"./data/testSentiment.txt\"\n",
    "f = open(path,encoding=\"utf8\")\n",
    "X_test_final = np.array(f.readlines())"
   ]
  },
  {
   "cell_type": "code",
   "execution_count": 23,
   "id": "b4e51830-f430-4808-b947-81d15f5b40bb",
   "metadata": {},
   "outputs": [
    {
     "name": "stdout",
     "output_type": "stream",
     "text": [
      "25000\n",
      "Airport '77 starts as a brand new luxury 747 plane is loaded up with valuable paintings & such belonging to rich businessman Philip Stevens (James Stewart) who is flying them & a bunch of VIP's to his estate in preparation of it being opened to the public as a museum, also on board is Stevens daughter Julie (Kathleen Quinlan) & her son. The luxury jetliner takes off as planned but mid-air the plane is hi-jacked by the co-pilot Chambers (Robert Foxworth) & his two accomplice's Banker (Monte Markham) & Wilson (Michael Pataki) who knock the passengers & crew out with sleeping gas, they plan to steal the valuable cargo & land on a disused plane strip on an isolated island but while making his descent Chambers almost hits an oil rig in the Ocean & loses control of the plane sending it crashing into the sea where it sinks to the bottom right bang in the middle of the Bermuda Triangle. With air in short supply, water leaking in & having flown over 200 miles off course the problems mount for the survivor's as they await help with time fast running out...<br /><br />Also known under the slightly different tile Airport 1977 this second sequel to the smash-hit disaster thriller Airport (1970) was directed by Jerry Jameson & while once again like it's predecessors I can't say Airport '77 is any sort of forgotten classic it is entertaining although not necessarily for the right reasons. Out of the three Airport films I have seen so far I actually liked this one the best, just. It has my favourite plot of the three with a nice mid-air hi-jacking & then the crashing (didn't he see the oil rig?) & sinking of the 747 (maybe the makers were trying to cross the original Airport with another popular disaster flick of the period The Poseidon Adventure (1972)) & submerged is where it stays until the end with a stark dilemma facing those trapped inside, either suffocate when the air runs out or drown as the 747 floods or if any of the doors are opened & it's a decent idea that could have made for a great little disaster flick but bad unsympathetic character's, dull dialogue, lethargic set-pieces & a real lack of danger or suspense or tension means this is a missed opportunity. While the rather sluggish plot keeps one entertained for 108 odd minutes not that much happens after the plane sinks & there's not as much urgency as I thought there should have been. Even when the Navy become involved things don't pick up that much with a few shots of huge ships & helicopters flying about but there's just something lacking here. George Kennedy as the jinxed airline worker Joe Patroni is back but only gets a couple of scenes & barely even says anything preferring to just look worried in the background.<br /><br />The home video & theatrical version of Airport '77 run 108 minutes while the US TV versions add an extra hour of footage including a new opening credits sequence, many more scenes with George Kennedy as Patroni, flashbacks to flesh out character's, longer rescue scenes & the discovery or another couple of dead bodies including the navigator. While I would like to see this extra footage I am not sure I could sit through a near three hour cut of Airport '77. As expected the film has dated badly with horrible fashions & interior design choices, I will say no more other than the toy plane model effects aren't great either. Along with the other two Airport sequels this takes pride of place in the Razzie Award's Hall of Shame although I can think of lots of worse films than this so I reckon that's a little harsh. The action scenes are a little dull unfortunately, the pace is slow & not much excitement or tension is generated which is a shame as I reckon this could have been a pretty good film if made properly.<br /><br />The production values are alright if nothing spectacular. The acting isn't great, two time Oscar winner Jack Lemmon has said since it was a mistake to star in this, one time Oscar winner James Stewart looks old & frail, also one time Oscar winner Lee Grant looks drunk while Sir Christopher Lee is given little to do & there are plenty of other familiar faces to look out for too.<br /><br />Airport '77 is the most disaster orientated of the three Airport films so far & I liked the ideas behind it even if they were a bit silly, the production & bland direction doesn't help though & a film about a sunken plane just shouldn't be this boring or lethargic. Followed by The Concorde ... Airport '79 (1979).\n",
      "\n"
     ]
    }
   ],
   "source": [
    "print(len(X_test_final))\n",
    "print(X_test_final[2])"
   ]
  },
  {
   "cell_type": "markdown",
   "id": "7ec0b878-2769-4a72-bb04-54ab0dcb1dea",
   "metadata": {},
   "source": [
    "### --> SVC"
   ]
  },
  {
   "cell_type": "code",
   "execution_count": 24,
   "id": "502ba6b8-7dc0-47cb-a1db-db916caf79bc",
   "metadata": {},
   "outputs": [],
   "source": [
    "final_svc = LinearSVC(max_iter=10_000,\n",
    "                      C=10)\n",
    "\n",
    "vectorizer_svc_final = TfidfVectorizer(lowercase=False,\n",
    "                                     stop_words=None,\n",
    "                                     strip_accents=None,\n",
    "                                     # use_idf=True,\n",
    "                                     # smooth_idf=True,\n",
    "                                     # sublinear_tf=False,\n",
    "\n",
    "                                     max_features=10_000,\n",
    "                                     min_df=5,\n",
    "                                     max_df=0.5,\n",
    "                                     ngram_range=(1,2),\n",
    "                                     )"
   ]
  },
  {
   "cell_type": "code",
   "execution_count": 25,
   "id": "a8cfab55-6de2-4eaa-904d-556c1de0614f",
   "metadata": {},
   "outputs": [],
   "source": [
    "path =  \"./data/movies1000/\"\n",
    "alltxts,alllabs = load_movies(path)\n",
    "X = np.array(alltxts)\n",
    "Y = np.array(alllabs)\n",
    "\n",
    "X_final_vector = vectorizer_svc_final.fit_transform(X)\n",
    "final_svc.fit(X_final_vector, Y)\n",
    "\n",
    "path = \"./data/testSentiment.txt\"\n",
    "f = open(path,encoding=\"utf8\")\n",
    "X_test_final = np.array(f.readlines())\n",
    "X_test_vector = vectorizer_svc_final.transform(X_test_final)\n",
    "final_pred_svc = final_svc.predict(X_test_vector)"
   ]
  },
  {
   "cell_type": "code",
   "execution_count": 26,
   "id": "9a587bea-5608-4ec5-96a6-35eac4e7c6bb",
   "metadata": {},
   "outputs": [],
   "source": [
    "save=True\n",
    "if save :\n",
    "    f = open(\"../TME1/output/movies_pred_svc.txt\", \"w\")\n",
    "    preds = \"\"\n",
    "    for i in range(len(final_pred_svc)):\n",
    "        preds += str(final_pred_svc[i]) + \"\\n\"\n",
    "    f.write(preds)\n",
    "    f.close()"
   ]
  },
  {
   "cell_type": "markdown",
   "id": "b8aa8db8-7c17-413a-9ff9-ef0b25791396",
   "metadata": {},
   "source": [
    "### --> LR"
   ]
  },
  {
   "cell_type": "code",
   "execution_count": 27,
   "id": "bedba57d-71bb-41d4-9a99-01984b46f9c8",
   "metadata": {},
   "outputs": [],
   "source": [
    "final_lr = LogisticRegression(max_iter=10_000,\n",
    "                              C=100)\n",
    "\n",
    "vectorizer_lr_final = TfidfVectorizer(lowercase=False,\n",
    "                                    stop_words=None,\n",
    "                                    strip_accents=None,\n",
    "                                    # use_idf=True,\n",
    "                                    # smooth_idf=True,\n",
    "                                    # sublinear_tf=False,\n",
    "\n",
    "                                    max_features=10_000,\n",
    "                                    min_df=5,\n",
    "                                    max_df=0.5,\n",
    "                                    ngram_range=(1,2),\n",
    "                                    )"
   ]
  },
  {
   "cell_type": "code",
   "execution_count": 28,
   "id": "52633e54-2002-4101-8c16-ec549c50e1a6",
   "metadata": {},
   "outputs": [],
   "source": [
    "path =  \"./data/movies1000/\"\n",
    "alltxts,alllabs = load_movies(path)\n",
    "X = np.array(alltxts)\n",
    "Y = np.array(alllabs)\n",
    "\n",
    "X_final_vector = vectorizer_lr_final.fit_transform(X)\n",
    "final_lr.fit(X_final_vector, Y)\n",
    "\n",
    "path = \"./data/testSentiment.txt\"\n",
    "f = open(path,encoding=\"utf8\")\n",
    "X_test_final = np.array(f.readlines())\n",
    "X_test_vector = vectorizer_lr_final.transform(X_test_final)\n",
    "final_pred_lr = final_lr.predict(X_test_vector)"
   ]
  },
  {
   "cell_type": "code",
   "execution_count": 29,
   "id": "8aa5e382-e745-4576-b5fb-6b6fce5a4e02",
   "metadata": {},
   "outputs": [],
   "source": [
    "save=True\n",
    "if save :\n",
    "    f = open(\"../TME1/output/movies_pred_lr.txt\", \"w\")\n",
    "    preds = \"\"\n",
    "    for i in range(len(final_pred_lr)):\n",
    "        preds += str(final_pred_lr[i]) + \"\\n\"\n",
    "    f.write(preds)\n",
    "    f.close()"
   ]
  },
  {
   "cell_type": "markdown",
   "id": "1bd32d3f-fddb-45d6-bb75-63e2abe890cb",
   "metadata": {},
   "source": [
    "### --> SOFT"
   ]
  },
  {
   "cell_type": "code",
   "execution_count": 30,
   "id": "ac20b852-5641-4bf6-91d1-f562196bd481",
   "metadata": {},
   "outputs": [
    {
     "name": "stdout",
     "output_type": "stream",
     "text": [
      "done in 31.590s\n"
     ]
    }
   ],
   "source": [
    "vectorizer_lr_final = TfidfVectorizer(lowercase=False,\n",
    "                                    stop_words=None,\n",
    "                                    strip_accents=None,\n",
    "                                    # use_idf=True,\n",
    "                                    # smooth_idf=True,\n",
    "                                    # sublinear_tf=False,\n",
    "\n",
    "                                    max_features=10_000,\n",
    "                                    min_df=5,\n",
    "                                    max_df=0.5,\n",
    "                                    ngram_range=(1,2),\n",
    "                                    )\n",
    "\n",
    "svc_for_vote = SVC(kernel='linear', \n",
    "                   probability=True,\n",
    "                   max_iter=10_000,\n",
    "                   C=10)\n",
    "\n",
    "final_lr = LogisticRegression(max_iter=10_000,\n",
    "                              C=100)\n",
    "\n",
    "final_nb = MultinomialNB(alpha=0.0)\n",
    "\n",
    "voting_clf_soft = VotingClassifier(estimators=[\n",
    "                                            ('lr', final_lr), \n",
    "                                            ('nb', final_nb),\n",
    "                                            ('svc', svc_for_vote)\n",
    "                                            ],\n",
    "                                  voting='soft',\n",
    "                                  n_jobs=1)\n",
    "\n",
    "t0 = time()\n",
    "voting_clf_soft.fit(X_train_vector_lr, Y_train_lr)\n",
    "print(\"done in %0.3fs\" % (time() - t0))"
   ]
  },
  {
   "cell_type": "code",
   "execution_count": 31,
   "id": "4ddd6b28-a80d-4c99-ac1f-b7eaf6f46c33",
   "metadata": {},
   "outputs": [],
   "source": [
    "path = \"./data/testSentiment.txt\"\n",
    "f = open(path,encoding=\"utf8\")\n",
    "X_test_final = np.array(f.readlines())\n",
    "\n",
    "X_test_vector = vectorizer_lr.transform(X_test_final)\n",
    "pred = voting_clf_soft.predict(X_test_vector)"
   ]
  },
  {
   "cell_type": "code",
   "execution_count": 32,
   "id": "f647ab3e-a8f8-44f7-8e87-f56d3a6ea42a",
   "metadata": {},
   "outputs": [],
   "source": [
    "save=True\n",
    "if save :\n",
    "    f = open(\"../TME1/output/movies_pred_soft.txt\", \"w\")\n",
    "    preds = \"\"\n",
    "    for i in range(len(pred)):\n",
    "        preds += str(pred[i]) + \"\\n\"\n",
    "    f.write(preds)\n",
    "    f.close()"
   ]
  },
  {
   "cell_type": "markdown",
   "id": "f84868cf-c6c4-44af-a589-d072bd1c79e0",
   "metadata": {},
   "source": [
    "### --> HARD"
   ]
  },
  {
   "cell_type": "code",
   "execution_count": 33,
   "id": "183f4801-f30a-4050-9177-04949828d3e4",
   "metadata": {},
   "outputs": [
    {
     "name": "stdout",
     "output_type": "stream",
     "text": [
      "done in 0.658s\n"
     ]
    }
   ],
   "source": [
    "vectorizer_lr_final = TfidfVectorizer(lowercase=False,\n",
    "                                    stop_words=None,\n",
    "                                    strip_accents=None,\n",
    "                                    # use_idf=True,\n",
    "                                    # smooth_idf=True,\n",
    "                                    # sublinear_tf=False,\n",
    "\n",
    "                                    max_features=10_000,\n",
    "                                    min_df=5,\n",
    "                                    max_df=0.5,\n",
    "                                    ngram_range=(1,2),\n",
    "                                    )\n",
    "\n",
    "final_svc = LinearSVC(max_iter=10_000,\n",
    "                      C=10)\n",
    "\n",
    "final_lr = LogisticRegression(max_iter=10_000,\n",
    "                              C=100)\n",
    "\n",
    "final_nb = MultinomialNB(alpha=0.0)\n",
    "\n",
    "voting_clf_hard = VotingClassifier(estimators=[\n",
    "                                            ('lr', final_lr), \n",
    "                                            ('nb', final_nb),\n",
    "                                            ('svc', final_svc)\n",
    "                                            ],\n",
    "                                  voting='hard',\n",
    "                                  n_jobs=1)\n",
    "\n",
    "t0 = time()\n",
    "voting_clf_hard.fit(X_train_vector_lr, Y_train_lr)\n",
    "print(\"done in %0.3fs\" % (time() - t0))"
   ]
  },
  {
   "cell_type": "code",
   "execution_count": 34,
   "id": "9a60e46d-2d6d-4bad-84da-f63c0fc2cb95",
   "metadata": {},
   "outputs": [],
   "source": [
    "path = \"./data/testSentiment.txt\"\n",
    "f = open(path,encoding=\"utf8\")\n",
    "X_test_final = np.array(f.readlines())\n",
    "\n",
    "X_test_vector = vectorizer_lr.transform(X_test_final)\n",
    "pred = voting_clf_hard.predict(X_test_vector)"
   ]
  },
  {
   "cell_type": "code",
   "execution_count": 35,
   "id": "5092c9e5-60bd-4439-b5fa-0f0c499a811d",
   "metadata": {},
   "outputs": [],
   "source": [
    "save=True\n",
    "if save :\n",
    "    f = open(\"../TME1/output/movies_pred_hard.txt\", \"w\")\n",
    "    preds = \"\"\n",
    "    for i in range(len(pred)):\n",
    "        preds += str(pred[i]) + \"\\n\"\n",
    "    f.write(preds)\n",
    "    f.close()"
   ]
  },
  {
   "cell_type": "markdown",
   "id": "05f77111-b369-42fb-be98-0472cb27b057",
   "metadata": {},
   "source": [
    "## 5. Results"
   ]
  },
  {
   "cell_type": "code",
   "execution_count": null,
   "id": "d9ab07b6-8ea4-44f9-94c9-f72032183f54",
   "metadata": {},
   "outputs": [],
   "source": [
    "# BEST PERFORMANCE LR : 83.2% ACC ON TEST ACCURACY"
   ]
  }
 ],
 "metadata": {
  "kernelspec": {
   "display_name": "Python 3 (ipykernel)",
   "language": "python",
   "name": "python3"
  },
  "language_info": {
   "codemirror_mode": {
    "name": "ipython",
    "version": 3
   },
   "file_extension": ".py",
   "mimetype": "text/x-python",
   "name": "python",
   "nbconvert_exporter": "python",
   "pygments_lexer": "ipython3",
   "version": "3.8.12"
  }
 },
 "nbformat": 4,
 "nbformat_minor": 5
}
