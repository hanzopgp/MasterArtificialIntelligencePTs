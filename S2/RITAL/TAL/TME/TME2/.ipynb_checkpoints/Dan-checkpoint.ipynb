{
 "cells": [
  {
   "cell_type": "markdown",
   "metadata": {},
   "source": [
    "# NLP 2 : Neural Embeddings, Text Classification, Text Generation\n",
    "\n",
    "\n",
    "To use statistical classifiers with text, it is first necessary to vectorize the text. In the first practical session we explored the **bag of word** model. \n",
    "\n",
    "Modern **state of the art** methods uses  embeddings to vectorize the text before classification in order to avoid feature engineering.\n",
    "\n",
    "## Dataset\n",
    "https://github.com/cedias/practicalNLP/tree/master/dataset\n",
    "\n",
    "## \"Modern\" NLP pipeline\n",
    "\n",
    "By opposition to the **bag of word** model, in the modern NLP pipeline everything is **embeddings**. Instead of encoding a text as a **sparse vector** of length $D$ (size of feature dictionnary) the goal is to encode the text in a meaningful dense vector of a small size $|e| <<< |D|$. \n",
    "\n",
    "\n",
    "The raw classification pipeline is then the following:\n",
    "\n",
    "```\n",
    "raw text ---|embedding table|-->  vectors --|Neural Net|--> class \n",
    "```\n",
    "\n",
    "\n",
    "### Using a  language model:\n",
    "\n",
    "How to tokenize the text and extract a feature dictionnary is still a manual task. To directly have meaningful embeddings, it is common to use a pre-trained language model such as `word2vec` which we explore in this practical.\n",
    "\n",
    "In this setting, the pipeline becomes the following:\n",
    "```\n",
    "      \n",
    "raw text ---|(pre-trained) Language Model|--> vectors --|classifier (or fine-tuning)|--> class \n",
    "```\n",
    "\n",
    "\n",
    "- #### Classic word embeddings\n",
    "\n",
    " - [Word2Vec](https://arxiv.org/abs/1301.3781)\n",
    " - [Glove](https://nlp.stanford.edu/projects/glove/)\n",
    "\n",
    "\n",
    "- #### bleeding edge language models techniques (only here for reference)\n",
    "\n",
    " - [UMLFIT](https://arxiv.org/abs/1801.06146)\n",
    " - [ELMO](https://arxiv.org/abs/1802.05365)\n",
    " - [GPT](https://blog.openai.com/language-unsupervised/)\n",
    " - [BERT](https://arxiv.org/abs/1810.04805)\n",
    "\n",
    "\n",
    "\n",
    "\n",
    "\n",
    "\n",
    "### Goal of this session:\n",
    "\n",
    "1. Train word embeddings on training dataset\n",
    "2. Tinker with the learnt embeddings and see learnt relations\n",
    "3. Tinker with pre-trained embeddings.\n",
    "4. Use those embeddings for classification\n",
    "5. Compare different embedding models\n",
    "6. Pytorch first look: learn to generate text.\n",
    "\n",
    "\n",
    "\n",
    "\n",
    "\n",
    "##  Loading data (same as in nlp 1)"
   ]
  },
  {
   "cell_type": "code",
   "execution_count": 3,
   "metadata": {},
   "outputs": [
    {
     "name": "stdout",
     "output_type": "stream",
     "text": [
      "Number of train reviews :  25000\n",
      "----> # of positive :  12500\n",
      "----> # of negative :  12500\n",
      "\n",
      "[\"The undoubted highlight of this movie is Peter O'Toole's performance. In turn wildly comical and terribly terribly tragic. Does anybody do it better than O'Toole? I don't think so. What a great face that man has!<br /><br />The story is an odd one and quite disturbing and emotionally intense in parts (especially toward the end) but it is also oddly touching and does succeed on many levels. However, I felt the film basically revolved around Peter O'Toole's luminous performance and I'm sure I wouldn't have enjoyed it even half as much if he hadn't been in it.\", 1]\n",
      "\n",
      "Number of test reviews :  25000\n",
      "----> # of positive :  12500\n",
      "----> # of negative :  12500\n",
      "\n",
      "['Although credit should have been given to Dr. Seuess for stealing the story-line of \"Horton Hatches The Egg\", this was a fine film. It touched both the emotions and the intellect. Due especially to the incredible performance of seven year old Justin Henry and a script that was sympathetic to each character (and each one\\'s predicament), the thought provoking elements linger long after the tear jerking ones are over. Overall, superior acting from a solid cast, excellent directing, and a very powerful script. The right touches of humor throughout help keep a \"heavy\" subject from becoming tedious or difficult to sit through. Lastly, this film stands the test of time and seems in no way dated, decades after it was released.', 1]\n",
      "\n"
     ]
    }
   ],
   "source": [
    "import json\n",
    "from collections import Counter\n",
    "\n",
    "#### /!\\ YOU NEED TO UNZIP dataset/json_pol.zip first /!\\\n",
    "\n",
    "\n",
    "# Loading json\n",
    "with open(\"data/json_pol\",encoding=\"utf-8\") as f:\n",
    "    data = f.readlines()\n",
    "    json_data = json.loads(data[0])\n",
    "    train = json_data[\"train\"]\n",
    "    test = json_data[\"test\"]\n",
    "    \n",
    "\n",
    "# Quick Check\n",
    "counter_train = Counter((x[1] for x in train))\n",
    "counter_test = Counter((x[1] for x in test))\n",
    "print(\"Number of train reviews : \", len(train))\n",
    "print(\"----> # of positive : \", counter_train[1])\n",
    "print(\"----> # of negative : \", counter_train[0])\n",
    "print(\"\")\n",
    "print(train[0])\n",
    "print(\"\")\n",
    "print(\"Number of test reviews : \",len(test))\n",
    "print(\"----> # of positive : \", counter_test[1])\n",
    "print(\"----> # of negative : \", counter_test[0])\n",
    "\n",
    "print(\"\")\n",
    "print(test[0])\n",
    "print(\"\")\n",
    "\n"
   ]
  },
  {
   "cell_type": "markdown",
   "metadata": {},
   "source": [
    "## Word2Vec: Quick Recap\n",
    "\n",
    "**[Word2Vec](https://arxiv.org/abs/1301.3781) is composed of two distinct language models (CBOW and SG), optimized to quickly learn word vectors**\n",
    "\n",
    "\n",
    "given a random text: `i'm taking the dog out for a walk`\n",
    "\n",
    "\n",
    "\n",
    "### (a) Continuous Bag of Word (CBOW)\n",
    "    -  predicts a word given a context\n",
    "    \n",
    "maximizing `p(dog | i'm taking the ___ out for a walk)`\n",
    "    \n",
    "### (b) Skip-Gram (SG)               \n",
    "    -  predicts a context given a word\n",
    "    \n",
    " maximizing `p(i'm taking the out for a walk | dog)`\n",
    "\n",
    "\n",
    "\n",
    "   "
   ]
  },
  {
   "cell_type": "markdown",
   "metadata": {},
   "source": [
    "## Step 1: train (or load) a language model (word2vec)\n",
    "\n",
    "Gensim has one of [Word2Vec](https://radimrehurek.com/gensim/models/word2vec.html) fastest implementation.\n",
    "\n",
    "\n",
    "### Train:"
   ]
  },
  {
   "cell_type": "code",
   "execution_count": 4,
   "metadata": {},
   "outputs": [
    {
     "name": "stderr",
     "output_type": "stream",
     "text": [
      "2022-02-04 16:30:34,237 : INFO : collecting all words and their counts\n",
      "2022-02-04 16:30:34,238 : INFO : PROGRESS: at sentence #0, processed 0 words, keeping 0 word types\n",
      "2022-02-04 16:30:34,918 : INFO : PROGRESS: at sentence #10000, processed 2358544 words, keeping 155393 word types\n",
      "2022-02-04 16:30:35,661 : INFO : PROGRESS: at sentence #20000, processed 4675912 words, keeping 243050 word types\n",
      "2022-02-04 16:30:35,999 : INFO : collected 280617 word types from a corpus of 5844680 raw words and 25000 sentences\n",
      "2022-02-04 16:30:36,000 : INFO : Creating a fresh vocabulary\n",
      "2022-02-04 16:30:36,449 : INFO : Word2Vec lifecycle event {'msg': 'effective_min_count=5 retains 49345 unique words (17.584465659600095%% of original 280617, drops 231272)', 'datetime': '2022-02-04T16:30:36.449533', 'gensim': '4.1.2', 'python': '3.8.12 (default, Oct 12 2021, 03:01:40) [MSC v.1916 64 bit (AMD64)]', 'platform': 'Windows-10-10.0.19042-SP0', 'event': 'prepare_vocab'}\n",
      "2022-02-04 16:30:36,450 : INFO : Word2Vec lifecycle event {'msg': 'effective_min_count=5 leaves 5517507 word corpus (94.40220850414394%% of original 5844680, drops 327173)', 'datetime': '2022-02-04T16:30:36.450530', 'gensim': '4.1.2', 'python': '3.8.12 (default, Oct 12 2021, 03:01:40) [MSC v.1916 64 bit (AMD64)]', 'platform': 'Windows-10-10.0.19042-SP0', 'event': 'prepare_vocab'}\n",
      "2022-02-04 16:30:36,881 : INFO : deleting the raw counts dictionary of 280617 items\n",
      "2022-02-04 16:30:36,887 : INFO : sample=0.001 downsamples 43 most-common words\n",
      "2022-02-04 16:30:36,888 : INFO : Word2Vec lifecycle event {'msg': 'downsampling leaves estimated 4268608.194985565 word corpus (77.4%% of prior 5517507)', 'datetime': '2022-02-04T16:30:36.888848', 'gensim': '4.1.2', 'python': '3.8.12 (default, Oct 12 2021, 03:01:40) [MSC v.1916 64 bit (AMD64)]', 'platform': 'Windows-10-10.0.19042-SP0', 'event': 'prepare_vocab'}\n",
      "2022-02-04 16:30:37,638 : INFO : estimated required memory for 49345 words and 100 dimensions: 64148500 bytes\n",
      "2022-02-04 16:30:37,639 : INFO : resetting layer weights\n",
      "2022-02-04 16:30:37,667 : INFO : Word2Vec lifecycle event {'update': False, 'trim_rule': 'None', 'datetime': '2022-02-04T16:30:37.667428', 'gensim': '4.1.2', 'python': '3.8.12 (default, Oct 12 2021, 03:01:40) [MSC v.1916 64 bit (AMD64)]', 'platform': 'Windows-10-10.0.19042-SP0', 'event': 'build_vocab'}\n",
      "2022-02-04 16:30:37,668 : INFO : Word2Vec lifecycle event {'msg': 'training model with 3 workers on 49345 vocabulary and 100 features, using sg=1 hs=0 sample=0.001 negative=5 window=5 shrink_windows=True', 'datetime': '2022-02-04T16:30:37.668426', 'gensim': '4.1.2', 'python': '3.8.12 (default, Oct 12 2021, 03:01:40) [MSC v.1916 64 bit (AMD64)]', 'platform': 'Windows-10-10.0.19042-SP0', 'event': 'train'}\n",
      "2022-02-04 16:30:38,713 : INFO : EPOCH 1 - PROGRESS: at 5.73% examples, 240223 words/s, in_qsize 5, out_qsize 0\n",
      "2022-02-04 16:30:39,719 : INFO : EPOCH 1 - PROGRESS: at 11.72% examples, 247809 words/s, in_qsize 5, out_qsize 0\n",
      "2022-02-04 16:30:40,730 : INFO : EPOCH 1 - PROGRESS: at 18.09% examples, 254721 words/s, in_qsize 5, out_qsize 0\n",
      "2022-02-04 16:30:41,736 : INFO : EPOCH 1 - PROGRESS: at 24.50% examples, 258462 words/s, in_qsize 5, out_qsize 1\n",
      "2022-02-04 16:30:42,769 : INFO : EPOCH 1 - PROGRESS: at 30.79% examples, 259509 words/s, in_qsize 5, out_qsize 0\n",
      "2022-02-04 16:30:43,780 : INFO : EPOCH 1 - PROGRESS: at 37.01% examples, 261017 words/s, in_qsize 5, out_qsize 0\n",
      "2022-02-04 16:30:44,812 : INFO : EPOCH 1 - PROGRESS: at 43.49% examples, 261470 words/s, in_qsize 5, out_qsize 0\n",
      "2022-02-04 16:30:45,812 : INFO : EPOCH 1 - PROGRESS: at 49.70% examples, 262845 words/s, in_qsize 5, out_qsize 0\n",
      "2022-02-04 16:30:46,883 : INFO : EPOCH 1 - PROGRESS: at 56.35% examples, 262620 words/s, in_qsize 6, out_qsize 0\n",
      "2022-02-04 16:30:47,929 : INFO : EPOCH 1 - PROGRESS: at 62.74% examples, 263058 words/s, in_qsize 5, out_qsize 0\n",
      "2022-02-04 16:30:48,951 : INFO : EPOCH 1 - PROGRESS: at 69.65% examples, 264182 words/s, in_qsize 5, out_qsize 0\n",
      "2022-02-04 16:30:49,993 : INFO : EPOCH 1 - PROGRESS: at 76.00% examples, 263479 words/s, in_qsize 5, out_qsize 0\n",
      "2022-02-04 16:30:51,006 : INFO : EPOCH 1 - PROGRESS: at 82.60% examples, 264166 words/s, in_qsize 5, out_qsize 0\n",
      "2022-02-04 16:30:52,021 : INFO : EPOCH 1 - PROGRESS: at 88.92% examples, 264618 words/s, in_qsize 5, out_qsize 0\n",
      "2022-02-04 16:30:53,059 : INFO : EPOCH 1 - PROGRESS: at 94.68% examples, 262747 words/s, in_qsize 6, out_qsize 0\n",
      "2022-02-04 16:30:53,862 : INFO : worker thread finished; awaiting finish of 2 more threads\n",
      "2022-02-04 16:30:53,873 : INFO : worker thread finished; awaiting finish of 1 more threads\n",
      "2022-02-04 16:30:53,892 : INFO : worker thread finished; awaiting finish of 0 more threads\n",
      "2022-02-04 16:30:53,893 : INFO : EPOCH - 1 : training on 5844680 raw words (4269842 effective words) took 16.2s, 263218 effective words/s\n",
      "2022-02-04 16:30:54,906 : INFO : EPOCH 2 - PROGRESS: at 6.04% examples, 261393 words/s, in_qsize 5, out_qsize 0\n",
      "2022-02-04 16:30:55,925 : INFO : EPOCH 2 - PROGRESS: at 12.36% examples, 263934 words/s, in_qsize 6, out_qsize 0\n",
      "2022-02-04 16:30:56,945 : INFO : EPOCH 2 - PROGRESS: at 18.92% examples, 266960 words/s, in_qsize 5, out_qsize 0\n",
      "2022-02-04 16:30:57,997 : INFO : EPOCH 2 - PROGRESS: at 25.48% examples, 266456 words/s, in_qsize 5, out_qsize 0\n",
      "2022-02-04 16:30:59,003 : INFO : EPOCH 2 - PROGRESS: at 31.46% examples, 264499 words/s, in_qsize 6, out_qsize 0\n",
      "2022-02-04 16:31:00,029 : INFO : EPOCH 2 - PROGRESS: at 37.56% examples, 263356 words/s, in_qsize 6, out_qsize 0\n",
      "2022-02-04 16:31:01,075 : INFO : EPOCH 2 - PROGRESS: at 44.17% examples, 263957 words/s, in_qsize 6, out_qsize 0\n",
      "2022-02-04 16:31:02,112 : INFO : EPOCH 2 - PROGRESS: at 49.70% examples, 260322 words/s, in_qsize 5, out_qsize 0\n",
      "2022-02-04 16:31:03,120 : INFO : EPOCH 2 - PROGRESS: at 55.28% examples, 257486 words/s, in_qsize 5, out_qsize 0\n",
      "2022-02-04 16:31:04,136 : INFO : EPOCH 2 - PROGRESS: at 60.94% examples, 255743 words/s, in_qsize 5, out_qsize 0\n",
      "2022-02-04 16:31:05,169 : INFO : EPOCH 2 - PROGRESS: at 66.50% examples, 252735 words/s, in_qsize 6, out_qsize 0\n",
      "2022-02-04 16:31:06,171 : INFO : EPOCH 2 - PROGRESS: at 71.94% examples, 250359 words/s, in_qsize 6, out_qsize 0\n",
      "2022-02-04 16:31:07,181 : INFO : EPOCH 2 - PROGRESS: at 78.29% examples, 251459 words/s, in_qsize 5, out_qsize 0\n",
      "2022-02-04 16:31:08,184 : INFO : EPOCH 2 - PROGRESS: at 84.19% examples, 251552 words/s, in_qsize 5, out_qsize 0\n",
      "2022-02-04 16:31:09,191 : INFO : EPOCH 2 - PROGRESS: at 89.74% examples, 250573 words/s, in_qsize 5, out_qsize 0\n",
      "2022-02-04 16:31:10,241 : INFO : EPOCH 2 - PROGRESS: at 96.28% examples, 251700 words/s, in_qsize 5, out_qsize 0\n",
      "2022-02-04 16:31:10,761 : INFO : worker thread finished; awaiting finish of 2 more threads\n",
      "2022-02-04 16:31:10,778 : INFO : worker thread finished; awaiting finish of 1 more threads\n",
      "2022-02-04 16:31:10,811 : INFO : worker thread finished; awaiting finish of 0 more threads\n",
      "2022-02-04 16:31:10,812 : INFO : EPOCH - 2 : training on 5844680 raw words (4268739 effective words) took 16.9s, 252344 effective words/s\n",
      "2022-02-04 16:31:11,833 : INFO : EPOCH 3 - PROGRESS: at 6.04% examples, 259103 words/s, in_qsize 5, out_qsize 0\n",
      "2022-02-04 16:31:12,880 : INFO : EPOCH 3 - PROGRESS: at 11.72% examples, 245348 words/s, in_qsize 5, out_qsize 0\n",
      "2022-02-04 16:31:13,883 : INFO : EPOCH 3 - PROGRESS: at 17.90% examples, 251288 words/s, in_qsize 6, out_qsize 0\n",
      "2022-02-04 16:31:14,919 : INFO : EPOCH 3 - PROGRESS: at 24.50% examples, 255784 words/s, in_qsize 6, out_qsize 0\n",
      "2022-02-04 16:31:15,972 : INFO : EPOCH 3 - PROGRESS: at 30.96% examples, 257699 words/s, in_qsize 5, out_qsize 0\n",
      "2022-02-04 16:31:16,976 : INFO : EPOCH 3 - PROGRESS: at 37.20% examples, 259768 words/s, in_qsize 5, out_qsize 0\n",
      "2022-02-04 16:31:17,986 : INFO : EPOCH 3 - PROGRESS: at 43.66% examples, 261176 words/s, in_qsize 5, out_qsize 0\n",
      "2022-02-04 16:31:18,987 : INFO : EPOCH 3 - PROGRESS: at 49.70% examples, 261655 words/s, in_qsize 6, out_qsize 0\n",
      "2022-02-04 16:31:20,024 : INFO : EPOCH 3 - PROGRESS: at 56.35% examples, 262514 words/s, in_qsize 5, out_qsize 0\n",
      "2022-02-04 16:31:21,033 : INFO : EPOCH 3 - PROGRESS: at 61.76% examples, 259719 words/s, in_qsize 5, out_qsize 0\n",
      "2022-02-04 16:31:22,060 : INFO : EPOCH 3 - PROGRESS: at 67.87% examples, 258448 words/s, in_qsize 5, out_qsize 0\n",
      "2022-02-04 16:31:23,073 : INFO : EPOCH 3 - PROGRESS: at 74.14% examples, 258222 words/s, in_qsize 5, out_qsize 0\n",
      "2022-02-04 16:31:24,088 : INFO : EPOCH 3 - PROGRESS: at 80.54% examples, 258693 words/s, in_qsize 5, out_qsize 0\n",
      "2022-02-04 16:31:25,137 : INFO : EPOCH 3 - PROGRESS: at 86.30% examples, 257438 words/s, in_qsize 5, out_qsize 0\n",
      "2022-02-04 16:31:26,179 : INFO : EPOCH 3 - PROGRESS: at 92.52% examples, 257391 words/s, in_qsize 5, out_qsize 0\n",
      "2022-02-04 16:31:27,209 : INFO : EPOCH 3 - PROGRESS: at 98.72% examples, 257081 words/s, in_qsize 5, out_qsize 0\n",
      "2022-02-04 16:31:27,335 : INFO : worker thread finished; awaiting finish of 2 more threads\n",
      "2022-02-04 16:31:27,367 : INFO : worker thread finished; awaiting finish of 1 more threads\n",
      "2022-02-04 16:31:27,389 : INFO : worker thread finished; awaiting finish of 0 more threads\n",
      "2022-02-04 16:31:27,390 : INFO : EPOCH - 3 : training on 5844680 raw words (4268323 effective words) took 16.6s, 257511 effective words/s\n",
      "2022-02-04 16:31:28,392 : INFO : EPOCH 4 - PROGRESS: at 5.73% examples, 250315 words/s, in_qsize 5, out_qsize 0\n",
      "2022-02-04 16:31:29,397 : INFO : EPOCH 4 - PROGRESS: at 12.03% examples, 260314 words/s, in_qsize 6, out_qsize 0\n",
      "2022-02-04 16:31:30,406 : INFO : EPOCH 4 - PROGRESS: at 18.09% examples, 258429 words/s, in_qsize 5, out_qsize 0\n",
      "2022-02-04 16:31:31,432 : INFO : EPOCH 4 - PROGRESS: at 24.13% examples, 256423 words/s, in_qsize 6, out_qsize 0\n",
      "2022-02-04 16:31:32,451 : INFO : EPOCH 4 - PROGRESS: at 29.23% examples, 248689 words/s, in_qsize 5, out_qsize 0\n",
      "2022-02-04 16:31:33,481 : INFO : EPOCH 4 - PROGRESS: at 34.28% examples, 242918 words/s, in_qsize 5, out_qsize 0\n",
      "2022-02-04 16:31:34,492 : INFO : EPOCH 4 - PROGRESS: at 39.62% examples, 239681 words/s, in_qsize 5, out_qsize 0\n",
      "2022-02-04 16:31:35,493 : INFO : EPOCH 4 - PROGRESS: at 44.76% examples, 237460 words/s, in_qsize 5, out_qsize 0\n",
      "2022-02-04 16:31:36,513 : INFO : EPOCH 4 - PROGRESS: at 50.18% examples, 236853 words/s, in_qsize 5, out_qsize 0\n",
      "2022-02-04 16:31:37,535 : INFO : EPOCH 4 - PROGRESS: at 56.35% examples, 238451 words/s, in_qsize 5, out_qsize 0\n",
      "2022-02-04 16:31:38,554 : INFO : EPOCH 4 - PROGRESS: at 62.42% examples, 240379 words/s, in_qsize 6, out_qsize 0\n",
      "2022-02-04 16:31:39,560 : INFO : EPOCH 4 - PROGRESS: at 68.92% examples, 242429 words/s, in_qsize 5, out_qsize 0\n",
      "2022-02-04 16:31:40,582 : INFO : EPOCH 4 - PROGRESS: at 75.35% examples, 243891 words/s, in_qsize 5, out_qsize 0\n",
      "2022-02-04 16:31:41,613 : INFO : EPOCH 4 - PROGRESS: at 81.24% examples, 243570 words/s, in_qsize 6, out_qsize 0\n",
      "2022-02-04 16:31:42,654 : INFO : EPOCH 4 - PROGRESS: at 87.20% examples, 244032 words/s, in_qsize 6, out_qsize 0\n",
      "2022-02-04 16:31:43,705 : INFO : EPOCH 4 - PROGRESS: at 93.77% examples, 245572 words/s, in_qsize 6, out_qsize 0\n",
      "2022-02-04 16:31:44,694 : INFO : worker thread finished; awaiting finish of 2 more threads\n",
      "2022-02-04 16:31:44,711 : INFO : EPOCH 4 - PROGRESS: at 99.84% examples, 246082 words/s, in_qsize 1, out_qsize 1\n",
      "2022-02-04 16:31:44,712 : INFO : worker thread finished; awaiting finish of 1 more threads\n",
      "2022-02-04 16:31:44,736 : INFO : worker thread finished; awaiting finish of 0 more threads\n",
      "2022-02-04 16:31:44,736 : INFO : EPOCH - 4 : training on 5844680 raw words (4269024 effective words) took 17.3s, 246126 effective words/s\n",
      "2022-02-04 16:31:45,752 : INFO : EPOCH 5 - PROGRESS: at 6.04% examples, 261327 words/s, in_qsize 5, out_qsize 0\n",
      "2022-02-04 16:31:46,769 : INFO : EPOCH 5 - PROGRESS: at 12.03% examples, 257266 words/s, in_qsize 6, out_qsize 0\n",
      "2022-02-04 16:31:47,801 : INFO : EPOCH 5 - PROGRESS: at 18.27% examples, 256638 words/s, in_qsize 5, out_qsize 0\n",
      "2022-02-04 16:31:48,822 : INFO : EPOCH 5 - PROGRESS: at 24.69% examples, 259142 words/s, in_qsize 6, out_qsize 0\n",
      "2022-02-04 16:31:49,828 : INFO : EPOCH 5 - PROGRESS: at 30.30% examples, 255749 words/s, in_qsize 5, out_qsize 0\n",
      "2022-02-04 16:31:50,829 : INFO : EPOCH 5 - PROGRESS: at 35.50% examples, 251253 words/s, in_qsize 5, out_qsize 0\n",
      "2022-02-04 16:31:51,829 : INFO : EPOCH 5 - PROGRESS: at 41.26% examples, 249241 words/s, in_qsize 5, out_qsize 0\n",
      "2022-02-04 16:31:52,837 : INFO : EPOCH 5 - PROGRESS: at 47.23% examples, 250903 words/s, in_qsize 6, out_qsize 0\n",
      "2022-02-04 16:31:53,884 : INFO : EPOCH 5 - PROGRESS: at 53.56% examples, 252011 words/s, in_qsize 6, out_qsize 0\n",
      "2022-02-04 16:31:54,928 : INFO : EPOCH 5 - PROGRESS: at 59.89% examples, 252221 words/s, in_qsize 6, out_qsize 0\n",
      "2022-02-04 16:31:55,956 : INFO : EPOCH 5 - PROGRESS: at 66.50% examples, 253997 words/s, in_qsize 5, out_qsize 0\n",
      "2022-02-04 16:31:56,971 : INFO : EPOCH 5 - PROGRESS: at 72.46% examples, 253000 words/s, in_qsize 5, out_qsize 0\n",
      "2022-02-04 16:31:57,987 : INFO : EPOCH 5 - PROGRESS: at 78.47% examples, 252721 words/s, in_qsize 5, out_qsize 0\n",
      "2022-02-04 16:31:58,987 : INFO : EPOCH 5 - PROGRESS: at 84.84% examples, 254289 words/s, in_qsize 5, out_qsize 0\n",
      "2022-02-04 16:32:00,030 : INFO : EPOCH 5 - PROGRESS: at 91.18% examples, 254878 words/s, in_qsize 5, out_qsize 0\n",
      "2022-02-04 16:32:01,038 : INFO : EPOCH 5 - PROGRESS: at 97.12% examples, 254631 words/s, in_qsize 5, out_qsize 0\n",
      "2022-02-04 16:32:01,462 : INFO : worker thread finished; awaiting finish of 2 more threads\n",
      "2022-02-04 16:32:01,463 : INFO : worker thread finished; awaiting finish of 1 more threads\n",
      "2022-02-04 16:32:01,470 : INFO : worker thread finished; awaiting finish of 0 more threads\n",
      "2022-02-04 16:32:01,470 : INFO : EPOCH - 5 : training on 5844680 raw words (4268672 effective words) took 16.7s, 255134 effective words/s\n",
      "2022-02-04 16:32:01,471 : INFO : Word2Vec lifecycle event {'msg': 'training on 29223400 raw words (21344600 effective words) took 83.8s, 254699 effective words/s', 'datetime': '2022-02-04T16:32:01.471852', 'gensim': '4.1.2', 'python': '3.8.12 (default, Oct 12 2021, 03:01:40) [MSC v.1916 64 bit (AMD64)]', 'platform': 'Windows-10-10.0.19042-SP0', 'event': 'train'}\n",
      "2022-02-04 16:32:01,472 : INFO : Word2Vec lifecycle event {'params': 'Word2Vec(vocab=49345, vector_size=100, alpha=0.025)', 'datetime': '2022-02-04T16:32:01.472750', 'gensim': '4.1.2', 'python': '3.8.12 (default, Oct 12 2021, 03:01:40) [MSC v.1916 64 bit (AMD64)]', 'platform': 'Windows-10-10.0.19042-SP0', 'event': 'created'}\n"
     ]
    }
   ],
   "source": [
    "import gensim\n",
    "import logging\n",
    "\n",
    "logging.basicConfig(format='%(asctime)s : %(levelname)s : %(message)s', level=logging.INFO)\n",
    "\n",
    "text = [t.split() for t,p in train]\n",
    "\n",
    "# the following configuration is the default configuration\n",
    "w2v = gensim.models.word2vec.Word2Vec(sentences=text,\n",
    "                                vector_size=100, window=5,     ### here we train a cbow model \n",
    "                                min_count=5,                      \n",
    "                                sample=0.001, workers=3,\n",
    "                                sg=1, hs=0, negative=5,        ### set sg to 1 to train a sg model\n",
    "                                cbow_mean=1,\n",
    "                                epochs=5)"
   ]
  },
  {
   "cell_type": "markdown",
   "metadata": {},
   "source": [
    "### Load pre-trained embeddings:"
   ]
  },
  {
   "cell_type": "code",
   "execution_count": 5,
   "metadata": {},
   "outputs": [
    {
     "name": "stderr",
     "output_type": "stream",
     "text": [
      "2022-02-04 16:32:01,486 : INFO : adding document #0 to Dictionary(0 unique tokens: [])\n",
      "2022-02-04 16:32:01,487 : INFO : built Dictionary(12 unique tokens: ['computer', 'human', 'interface', 'response', 'survey']...) from 9 documents (total 29 corpus positions)\n",
      "2022-02-04 16:32:01,487 : INFO : Dictionary lifecycle event {'msg': \"built Dictionary(12 unique tokens: ['computer', 'human', 'interface', 'response', 'survey']...) from 9 documents (total 29 corpus positions)\", 'datetime': '2022-02-04T16:32:01.487708', 'gensim': '4.1.2', 'python': '3.8.12 (default, Oct 12 2021, 03:01:40) [MSC v.1916 64 bit (AMD64)]', 'platform': 'Windows-10-10.0.19042-SP0', 'event': 'created'}\n",
      "2022-02-04 16:32:01,661 : INFO : KeyedVectors lifecycle event {'fname_or_handle': 'downloaded_vectors_path', 'separately': 'None', 'sep_limit': 10485760, 'ignore': frozenset(), 'datetime': '2022-02-04T16:32:01.661157', 'gensim': '4.1.2', 'python': '3.8.12 (default, Oct 12 2021, 03:01:40) [MSC v.1916 64 bit (AMD64)]', 'platform': 'Windows-10-10.0.19042-SP0', 'event': 'saving'}\n",
      "2022-02-04 16:32:01,707 : INFO : saved downloaded_vectors_path\n",
      "2022-02-04 16:32:01,708 : INFO : loading KeyedVectors object from downloaded_vectors_path\n",
      "2022-02-04 16:32:01,744 : INFO : KeyedVectors lifecycle event {'fname': 'downloaded_vectors_path', 'datetime': '2022-02-04T16:32:01.744227', 'gensim': '4.1.2', 'python': '3.8.12 (default, Oct 12 2021, 03:01:40) [MSC v.1916 64 bit (AMD64)]', 'platform': 'Windows-10-10.0.19042-SP0', 'event': 'loaded'}\n"
     ]
    }
   ],
   "source": [
    "# It's for later\n",
    "from gensim.models import KeyedVectors\n",
    "from gensim.test.utils import datapath\n",
    "# w2v = KeyedVectors.load_word2vec_format(datapath('downloaded_vectors_path'), binary=False)\n",
    "word_vectors = w2v.wv\n",
    "word_vectors.save(\"downloaded_vectors_path\")\n",
    "# Load back with memory-mapping = read-only, shared across processes.\n",
    "wv = KeyedVectors.load(\"downloaded_vectors_path\", mmap='r')\n",
    "\n",
    "vector = wv['car']  # Get numpy vector of a word"
   ]
  },
  {
   "cell_type": "markdown",
   "metadata": {},
   "source": [
    "In Gensim, embeddings are loaded and can be used via the [\"KeyedVectors\"](https://radimrehurek.com/gensim/models/keyedvectors.html) class\n",
    "\n",
    "> Since trained word vectors are independent from the way they were trained (Word2Vec, FastText, WordRank, VarEmbed etc), they can be represented by a standalone structure, as implemented in this module.\n",
    "\n",
    ">The structure is called “KeyedVectors” and is essentially a mapping between entities and vectors. Each entity is identified by its string id, so this is a mapping between {str => 1D numpy array}.\n",
    "\n",
    ">The entity typically corresponds to a word (so the mapping maps words to 1D vectors), but for some models, they key can also correspond to a document, a graph node etc. To generalize over different use-cases, this module calls the keys entities. Each entity is always represented by its string id, no matter whether the entity is a word, a document or a graph node."
   ]
  },
  {
   "cell_type": "markdown",
   "metadata": {},
   "source": [
    "## STEP 2: Test learnt embeddings\n",
    "\n",
    "The word embedding space directly encodes similarities between words: the vector coding for the word \"great\" will be closer to the vector coding for \"good\" than to the one coding for \"bad\". Generally, [cosine similarity](https://en.wikipedia.org/wiki/Cosine_similarity) is the distance used when considering distance between vectors.\n",
    "\n",
    "KeyedVectors have a built in [similarity](https://radimrehurek.com/gensim/models /keyedvectors.html#gensim.models.keyedvectors.BaseKeyedVectors.similarity) method to compute the cosine similarity between words"
   ]
  },
  {
   "cell_type": "code",
   "execution_count": 6,
   "metadata": {},
   "outputs": [
    {
     "name": "stdout",
     "output_type": "stream",
     "text": [
      "great and good: 0.7865768\n",
      "great and bad: 0.5022187\n"
     ]
    }
   ],
   "source": [
    "# is great really closer to good than to bad ?\n",
    "print(\"great and good:\",w2v.wv.similarity(\"great\",\"good\"))\n",
    "print(\"great and bad:\",w2v.wv.similarity(\"great\",\"bad\"))"
   ]
  },
  {
   "cell_type": "markdown",
   "metadata": {},
   "source": [
    "Since cosine distance encodes similarity, neighboring words are supposed to be similar. The [most_similar](https://radimrehurek.com/gensim/models/keyedvectors.html#gensim.models.keyedvectors.BaseKeyedVectors.most_similar) method returns the `topn` words given a query."
   ]
  },
  {
   "cell_type": "code",
   "execution_count": 7,
   "metadata": {},
   "outputs": [
    {
     "name": "stdout",
     "output_type": "stream",
     "text": [
      "[('film', 0.9404187202453613), ('\"film\"', 0.8367663025856018), ('\"movie\"', 0.7905004024505615), ('programme', 0.7558467984199524), ('movie,', 0.7488239407539368)] \n",
      "\n",
      "[('amazing', 0.7759883999824524), ('excellent', 0.7680241465568542), ('fantastic', 0.7472665905952454), ('incredible', 0.7421098351478577), ('exceptional', 0.6992813348770142)] \n",
      "\n",
      "[('actor,', 0.805670440196991), ('comedian', 0.7587847709655762), ('actor.', 0.7584737539291382), ('actress', 0.7479575872421265), ('Spacey', 0.737123429775238)] \n",
      "\n"
     ]
    }
   ],
   "source": [
    "# The query can be as simple as a word, such as \"movie\"\n",
    "# Try changing the word\n",
    "print(w2v.wv.most_similar(\"movie\",topn=5),\"\\n\") # 5 most similar words\n",
    "print(w2v.wv.most_similar(\"awesome\",topn=5),\"\\n\")\n",
    "print(w2v.wv.most_similar(\"actor\",topn=5),\"\\n\")"
   ]
  },
  {
   "cell_type": "markdown",
   "metadata": {},
   "source": [
    "But it can be a more complicated query\n",
    "Word embedding spaces tend to encode much more.\n",
    "\n",
    "The most famous exemple is: `vec(king) - vec(man) + vec(woman) => vec(queen)`"
   ]
  },
  {
   "cell_type": "code",
   "execution_count": 8,
   "metadata": {},
   "outputs": [
    {
     "name": "stdout",
     "output_type": "stream",
     "text": [
      "[('awful', 0.7336580753326416), ('crappy', 0.6380244493484497), ('unbelievable', 0.6227320432662964)] \n",
      "\n",
      "[('actress', 0.8223413228988647), ('actress,', 0.7322803735733032), ('Mol', 0.7090089917182922)] \n",
      "\n",
      "[('man,', 0.7121084928512573), ('bloke', 0.673915445804596), ('soldier', 0.6614696383476257)] \n",
      "\n"
     ]
    }
   ],
   "source": [
    "# What is awesome - good + bad ?\n",
    "print(w2v.wv.most_similar(positive=[\"awesome\",\"bad\"],negative=[\"good\"],topn=3),\"\\n\")  \n",
    "print(w2v.wv.most_similar(positive=[\"actor\",\"woman\"],negative=[\"man\"],topn=3),\"\\n\") # do the famous exemple works for actor ?\n",
    "\n",
    "\n",
    "# Try other things like plurals for exemple.\n",
    "print(w2v.wv.most_similar(positive=[\"men\",\"man\"],negative=[\"women\"],topn=3),\"\\n\")"
   ]
  },
  {
   "cell_type": "markdown",
   "metadata": {},
   "source": [
    "To test learnt \"synctactic\" and \"semantic\" similarities, Mikolov et al. introduced a special dataset containing a wide variety of three way similarities."
   ]
  },
  {
   "cell_type": "code",
   "execution_count": 10,
   "metadata": {},
   "outputs": [
    {
     "name": "stderr",
     "output_type": "stream",
     "text": [
      "2022-02-04 16:32:13,723 : INFO : Evaluating word analogies for top 300000 words in the model on data/questions-words.txt\n",
      "2022-02-04 16:32:13,960 : INFO : capital-common-countries: 0.6% (1/156)\n",
      "2022-02-04 16:32:14,135 : INFO : capital-world: 0.9% (1/111)\n",
      "2022-02-04 16:32:14,166 : INFO : currency: 0.0% (0/18)\n",
      "2022-02-04 16:32:14,593 : INFO : city-in-state: 0.0% (0/301)\n",
      "2022-02-04 16:32:15,244 : INFO : family: 32.4% (136/420)\n",
      "2022-02-04 16:32:16,443 : INFO : gram1-adjective-to-adverb: 1.4% (12/870)\n",
      "2022-02-04 16:32:17,150 : INFO : gram2-opposite: 2.5% (14/552)\n",
      "2022-02-04 16:32:18,723 : INFO : gram3-comparative: 18.7% (223/1190)\n",
      "2022-02-04 16:32:19,725 : INFO : gram4-superlative: 8.9% (67/756)\n",
      "2022-02-04 16:32:20,815 : INFO : gram5-present-participle: 19.0% (154/812)\n",
      "2022-02-04 16:32:22,071 : INFO : gram6-nationality-adjective: 1.6% (15/967)\n",
      "2022-02-04 16:32:24,025 : INFO : gram7-past-tense: 19.7% (248/1260)\n",
      "2022-02-04 16:32:25,190 : INFO : gram8-plural: 7.4% (60/812)\n",
      "2022-02-04 16:32:26,083 : INFO : gram9-plural-verbs: 32.6% (212/650)\n",
      "2022-02-04 16:32:26,083 : INFO : Quadruplets with out-of-vocabulary words: 54.6%\n",
      "2022-02-04 16:32:26,084 : INFO : NB: analogies containing OOV words were skipped from evaluation! To change this behavior, use \"dummy4unknown=True\"\n",
      "2022-02-04 16:32:26,084 : INFO : Total accuracy: 12.9% (1143/8875)\n"
     ]
    }
   ],
   "source": [
    "out = w2v.wv.evaluate_word_analogies(\"data/questions-words.txt\",case_insensitive=True)  # original semantic syntactic dataset."
   ]
  },
  {
   "cell_type": "markdown",
   "metadata": {},
   "source": [
    "When training the w2v models on the review dataset, since it hasn't been learnt with a lot of data, it does not perform very well. \n"
   ]
  },
  {
   "cell_type": "markdown",
   "metadata": {},
   "source": [
    "## STEP 3:  sentiment classification\n",
    "\n",
    "In the previous practical session, we used a bag of word approach to transform text into vectors.\n",
    "Here, we propose to try to use word vectors (previously learnt or loaded).\n",
    "\n",
    "\n",
    "### <font color='green'> Since we have only word vectors and that sentences are made of multiple words, we need to aggregate them. </font>\n",
    "\n",
    "\n",
    "### (1) Vectorize reviews using word vectors:\n",
    "\n",
    "Word aggregation can be done in different ways:\n",
    "\n",
    "- Sum\n",
    "- Average\n",
    "- Min/feature\n",
    "- Max/feature\n",
    "\n",
    "#### a few pointers:\n",
    "\n",
    "- `w2v.wv.vocab` is a `set()` of the vocabulary (all existing words in your model)\n",
    "- `np.minimum(a,b) and np.maximum(a,b)` respectively return element-wise min/max "
   ]
  },
  {
   "cell_type": "code",
   "execution_count": 17,
   "metadata": {},
   "outputs": [
    {
     "name": "stderr",
     "output_type": "stream",
     "text": [
      "C:\\Users\\karna\\AppData\\Local\\Temp/ipykernel_45700/2805902571.py:28: VisibleDeprecationWarning: Creating an ndarray from ragged nested sequences (which is a list-or-tuple of lists-or-tuples-or ndarrays with different lengths or shapes) is deprecated. If you meant to do this, you must specify 'dtype=object' when creating the ndarray.\n",
      "  X = np.array([vectorize(text) for text,pol in train])\n"
     ]
    },
    {
     "name": "stdout",
     "output_type": "stream",
     "text": [
      "97\n"
     ]
    },
    {
     "name": "stderr",
     "output_type": "stream",
     "text": [
      "C:\\Users\\karna\\AppData\\Local\\Temp/ipykernel_45700/2805902571.py:29: VisibleDeprecationWarning: Creating an ndarray from ragged nested sequences (which is a list-or-tuple of lists-or-tuples-or ndarrays with different lengths or shapes) is deprecated. If you meant to do this, you must specify 'dtype=object' when creating the ndarray.\n",
      "  X_test = np.array([vectorize(text) for text,pol in test])\n"
     ]
    }
   ],
   "source": [
    "import numpy as np\n",
    "# We first need to vectorize text:\n",
    "# First we propose to a sum of them\n",
    "\n",
    "def vectorize(text,types=\"max\"):\n",
    "    \"\"\"\n",
    "    This function should vectorize one review\n",
    "\n",
    "    input: str\n",
    "    output: np.array(float)\n",
    "    \"\"\"   \n",
    "    vec = []\n",
    "    for i in text.split():\n",
    "        try :\n",
    "            vec.append(wv[i])\n",
    "        except :\n",
    "            vec.append(np.zeros(100))\n",
    "    if types == \"mean\" :\n",
    "        return np.array(vec).mean(axis=1)\n",
    "    if types == \"sum\":    \n",
    "        return np.array(vec).sum(axis=1)\n",
    "    if types == \"max\" :\n",
    "        return np.array(vec).max(axis=1)\n",
    "    if types == \"min\" :\n",
    "        return np.array(vec).min(axis=1)\n",
    "\n",
    "classes = np.array([pol for text,pol in train])\n",
    "X = np.array([vectorize(text) for text,pol in train])\n",
    "X_test = np.array([vectorize(text) for text,pol in test])\n",
    "true = np.array([pol for text,pol in test])\n",
    "\n",
    "#let's see what a review vector looks like.\n",
    "print(X[0])"
   ]
  },
  {
   "cell_type": "markdown",
   "metadata": {},
   "source": [
    "### (2) Train a classifier \n",
    "as in the previous practical session, train a logistic regression to do sentiment classification with word vectors\n",
    "\n"
   ]
  },
  {
   "cell_type": "code",
   "execution_count": 29,
   "metadata": {},
   "outputs": [
    {
     "ename": "ValueError",
     "evalue": "setting an array element with a sequence.",
     "output_type": "error",
     "traceback": [
      "\u001b[1;31m---------------------------------------------------------------------------\u001b[0m",
      "\u001b[1;31mTypeError\u001b[0m                                 Traceback (most recent call last)",
      "\u001b[1;31mTypeError\u001b[0m: only size-1 arrays can be converted to Python scalars",
      "\nThe above exception was the direct cause of the following exception:\n",
      "\u001b[1;31mValueError\u001b[0m                                Traceback (most recent call last)",
      "\u001b[1;32m~\\AppData\\Local\\Temp/ipykernel_45700/919088243.py\u001b[0m in \u001b[0;36m<module>\u001b[1;34m\u001b[0m\n\u001b[0;32m     11\u001b[0m \u001b[1;33m\u001b[0m\u001b[0m\n\u001b[0;32m     12\u001b[0m \u001b[0mclf\u001b[0m \u001b[1;33m=\u001b[0m \u001b[0msvm\u001b[0m\u001b[1;33m.\u001b[0m\u001b[0mSVC\u001b[0m\u001b[1;33m(\u001b[0m\u001b[1;33m)\u001b[0m\u001b[1;33m\u001b[0m\u001b[1;33m\u001b[0m\u001b[0m\n\u001b[1;32m---> 13\u001b[1;33m \u001b[0mclf\u001b[0m\u001b[1;33m.\u001b[0m\u001b[0mfit\u001b[0m\u001b[1;33m(\u001b[0m\u001b[0mX\u001b[0m\u001b[1;33m,\u001b[0m \u001b[0mclasses\u001b[0m\u001b[1;33m)\u001b[0m\u001b[1;33m\u001b[0m\u001b[1;33m\u001b[0m\u001b[0m\n\u001b[0m\u001b[0;32m     14\u001b[0m \u001b[0mpreds\u001b[0m \u001b[1;33m=\u001b[0m \u001b[0mclf\u001b[0m\u001b[1;33m.\u001b[0m\u001b[0mpredict\u001b[0m\u001b[1;33m(\u001b[0m\u001b[0mX_test\u001b[0m\u001b[1;33m)\u001b[0m\u001b[1;33m\u001b[0m\u001b[1;33m\u001b[0m\u001b[0m\n\u001b[0;32m     15\u001b[0m \u001b[0mprint\u001b[0m\u001b[1;33m(\u001b[0m\u001b[0maccuracy_score\u001b[0m\u001b[1;33m(\u001b[0m\u001b[0mpreds\u001b[0m\u001b[1;33m,\u001b[0m \u001b[0mtrue\u001b[0m\u001b[1;33m)\u001b[0m\u001b[1;33m)\u001b[0m\u001b[1;33m\u001b[0m\u001b[1;33m\u001b[0m\u001b[0m\n",
      "\u001b[1;32m~\\anaconda3\\lib\\site-packages\\sklearn\\svm\\_base.py\u001b[0m in \u001b[0;36mfit\u001b[1;34m(self, X, y, sample_weight)\u001b[0m\n\u001b[0;32m    188\u001b[0m             \u001b[0mcheck_consistent_length\u001b[0m\u001b[1;33m(\u001b[0m\u001b[0mX\u001b[0m\u001b[1;33m,\u001b[0m \u001b[0my\u001b[0m\u001b[1;33m)\u001b[0m\u001b[1;33m\u001b[0m\u001b[1;33m\u001b[0m\u001b[0m\n\u001b[0;32m    189\u001b[0m         \u001b[1;32melse\u001b[0m\u001b[1;33m:\u001b[0m\u001b[1;33m\u001b[0m\u001b[1;33m\u001b[0m\u001b[0m\n\u001b[1;32m--> 190\u001b[1;33m             X, y = self._validate_data(\n\u001b[0m\u001b[0;32m    191\u001b[0m                 \u001b[0mX\u001b[0m\u001b[1;33m,\u001b[0m\u001b[1;33m\u001b[0m\u001b[1;33m\u001b[0m\u001b[0m\n\u001b[0;32m    192\u001b[0m                 \u001b[0my\u001b[0m\u001b[1;33m,\u001b[0m\u001b[1;33m\u001b[0m\u001b[1;33m\u001b[0m\u001b[0m\n",
      "\u001b[1;32m~\\anaconda3\\lib\\site-packages\\sklearn\\base.py\u001b[0m in \u001b[0;36m_validate_data\u001b[1;34m(self, X, y, reset, validate_separately, **check_params)\u001b[0m\n\u001b[0;32m    579\u001b[0m                 \u001b[0my\u001b[0m \u001b[1;33m=\u001b[0m \u001b[0mcheck_array\u001b[0m\u001b[1;33m(\u001b[0m\u001b[0my\u001b[0m\u001b[1;33m,\u001b[0m \u001b[1;33m**\u001b[0m\u001b[0mcheck_y_params\u001b[0m\u001b[1;33m)\u001b[0m\u001b[1;33m\u001b[0m\u001b[1;33m\u001b[0m\u001b[0m\n\u001b[0;32m    580\u001b[0m             \u001b[1;32melse\u001b[0m\u001b[1;33m:\u001b[0m\u001b[1;33m\u001b[0m\u001b[1;33m\u001b[0m\u001b[0m\n\u001b[1;32m--> 581\u001b[1;33m                 \u001b[0mX\u001b[0m\u001b[1;33m,\u001b[0m \u001b[0my\u001b[0m \u001b[1;33m=\u001b[0m \u001b[0mcheck_X_y\u001b[0m\u001b[1;33m(\u001b[0m\u001b[0mX\u001b[0m\u001b[1;33m,\u001b[0m \u001b[0my\u001b[0m\u001b[1;33m,\u001b[0m \u001b[1;33m**\u001b[0m\u001b[0mcheck_params\u001b[0m\u001b[1;33m)\u001b[0m\u001b[1;33m\u001b[0m\u001b[1;33m\u001b[0m\u001b[0m\n\u001b[0m\u001b[0;32m    582\u001b[0m             \u001b[0mout\u001b[0m \u001b[1;33m=\u001b[0m \u001b[0mX\u001b[0m\u001b[1;33m,\u001b[0m \u001b[0my\u001b[0m\u001b[1;33m\u001b[0m\u001b[1;33m\u001b[0m\u001b[0m\n\u001b[0;32m    583\u001b[0m \u001b[1;33m\u001b[0m\u001b[0m\n",
      "\u001b[1;32m~\\anaconda3\\lib\\site-packages\\sklearn\\utils\\validation.py\u001b[0m in \u001b[0;36mcheck_X_y\u001b[1;34m(X, y, accept_sparse, accept_large_sparse, dtype, order, copy, force_all_finite, ensure_2d, allow_nd, multi_output, ensure_min_samples, ensure_min_features, y_numeric, estimator)\u001b[0m\n\u001b[0;32m    962\u001b[0m         \u001b[1;32mraise\u001b[0m \u001b[0mValueError\u001b[0m\u001b[1;33m(\u001b[0m\u001b[1;34m\"y cannot be None\"\u001b[0m\u001b[1;33m)\u001b[0m\u001b[1;33m\u001b[0m\u001b[1;33m\u001b[0m\u001b[0m\n\u001b[0;32m    963\u001b[0m \u001b[1;33m\u001b[0m\u001b[0m\n\u001b[1;32m--> 964\u001b[1;33m     X = check_array(\n\u001b[0m\u001b[0;32m    965\u001b[0m         \u001b[0mX\u001b[0m\u001b[1;33m,\u001b[0m\u001b[1;33m\u001b[0m\u001b[1;33m\u001b[0m\u001b[0m\n\u001b[0;32m    966\u001b[0m         \u001b[0maccept_sparse\u001b[0m\u001b[1;33m=\u001b[0m\u001b[0maccept_sparse\u001b[0m\u001b[1;33m,\u001b[0m\u001b[1;33m\u001b[0m\u001b[1;33m\u001b[0m\u001b[0m\n",
      "\u001b[1;32m~\\anaconda3\\lib\\site-packages\\sklearn\\utils\\validation.py\u001b[0m in \u001b[0;36mcheck_array\u001b[1;34m(array, accept_sparse, accept_large_sparse, dtype, order, copy, force_all_finite, ensure_2d, allow_nd, ensure_min_samples, ensure_min_features, estimator)\u001b[0m\n\u001b[0;32m    744\u001b[0m                     \u001b[0marray\u001b[0m \u001b[1;33m=\u001b[0m \u001b[0marray\u001b[0m\u001b[1;33m.\u001b[0m\u001b[0mastype\u001b[0m\u001b[1;33m(\u001b[0m\u001b[0mdtype\u001b[0m\u001b[1;33m,\u001b[0m \u001b[0mcasting\u001b[0m\u001b[1;33m=\u001b[0m\u001b[1;34m\"unsafe\"\u001b[0m\u001b[1;33m,\u001b[0m \u001b[0mcopy\u001b[0m\u001b[1;33m=\u001b[0m\u001b[1;32mFalse\u001b[0m\u001b[1;33m)\u001b[0m\u001b[1;33m\u001b[0m\u001b[1;33m\u001b[0m\u001b[0m\n\u001b[0;32m    745\u001b[0m                 \u001b[1;32melse\u001b[0m\u001b[1;33m:\u001b[0m\u001b[1;33m\u001b[0m\u001b[1;33m\u001b[0m\u001b[0m\n\u001b[1;32m--> 746\u001b[1;33m                     \u001b[0marray\u001b[0m \u001b[1;33m=\u001b[0m \u001b[0mnp\u001b[0m\u001b[1;33m.\u001b[0m\u001b[0masarray\u001b[0m\u001b[1;33m(\u001b[0m\u001b[0marray\u001b[0m\u001b[1;33m,\u001b[0m \u001b[0morder\u001b[0m\u001b[1;33m=\u001b[0m\u001b[0morder\u001b[0m\u001b[1;33m,\u001b[0m \u001b[0mdtype\u001b[0m\u001b[1;33m=\u001b[0m\u001b[0mdtype\u001b[0m\u001b[1;33m)\u001b[0m\u001b[1;33m\u001b[0m\u001b[1;33m\u001b[0m\u001b[0m\n\u001b[0m\u001b[0;32m    747\u001b[0m             \u001b[1;32mexcept\u001b[0m \u001b[0mComplexWarning\u001b[0m \u001b[1;32mas\u001b[0m \u001b[0mcomplex_warning\u001b[0m\u001b[1;33m:\u001b[0m\u001b[1;33m\u001b[0m\u001b[1;33m\u001b[0m\u001b[0m\n\u001b[0;32m    748\u001b[0m                 raise ValueError(\n",
      "\u001b[1;31mValueError\u001b[0m: setting an array element with a sequence."
     ]
    }
   ],
   "source": [
    "from sklearn.linear_model import LogisticRegression\n",
    "from sklearn.metrics import accuracy_score, confusion_matrix, classification_report, accuracy_score, f1_score, roc_auc_score\n",
    "from sklearn.model_selection import train_test_split\n",
    "from sklearn import svm\n",
    "\n",
    "# X_train, X_test, Y_train, Y_test = train_test_split(X, Y, train_size=0.8)\n",
    "# print(X_train.shape)\n",
    "# print(X_test.shape)\n",
    "# print(Y_train.shape)\n",
    "# print(Y_test.shape)\n",
    "\n",
    "clf = svm.SVC()\n",
    "clf.fit(X_train, Y_train)\n",
    "preds = clf.predict(X_test)\n",
    "print(accuracy_score(preds, Y_test))\n",
    "print(classification_report(preds, Y_test))\n",
    "print(f1_score(preds, Y_test))"
   ]
  },
  {
   "cell_type": "markdown",
   "metadata": {},
   "source": [
    "performance should be worst than with bag of word (~80%). Sum/Mean aggregation does not work well on long reviews (especially with many frequent words). This adds a lot of noise.\n",
    "\n",
    "## **Todo** :  Try answering the following questions:\n",
    "\n",
    "- Which word2vec model works best: skip-gram or cbow\n",
    "- Do pretrained vectors work best than those learnt on the train dataset ?\n"
   ]
  },
  {
   "cell_type": "markdown",
   "metadata": {},
   "source": [
    "\n",
    "**(Bonus)** To have a better accuracy, we could try two things:\n",
    "- Better aggregation methods (weight by tf-idf ?)\n",
    "- Another word vectorizing method such as [fasttext](https://radimrehurek.com/gensim/models/fasttext.html)\n",
    "- A document vectorizing method such as [Doc2Vec](https://radimrehurek.com/gensim/models/doc2vec.html)"
   ]
  },
  {
   "cell_type": "markdown",
   "metadata": {},
   "source": [
    "## --- Generate text with a recurrent neural network (Pytorch) ---\n",
    "### (Mostly Read & Run)\n",
    "\n",
    "The goal is to replicate the (famous) experiment from [Karpathy's blog](http://karpathy.github.io/2015/05/21/rnn-effectiveness/)\n",
    "\n",
    "To learn to generate text, we train a recurrent neural network to do the following task:\n",
    "\n",
    "Given a \"chunk\" of text: `this is random text`\n",
    "\n",
    "the goal of the network is to predict each character in **`his is random text` ** sequentially given the following sequential input **`this is random tex`**:\n",
    "\n"
   ]
  },
  {
   "cell_type": "raw",
   "metadata": {},
   "source": [
    "Input ->  Output\n",
    "--------------\n",
    "T    ->    H\n",
    "H    ->    I\n",
    "I    ->    S\n",
    "S    ->    \" \"\n",
    "\" \"  ->    I\n",
    "I    ->    S\n",
    "S    ->    \" \"\n",
    "[...]\n"
   ]
  },
  {
   "cell_type": "markdown",
   "metadata": {},
   "source": [
    "\n",
    "## Load text (dataset/input.txt)\n",
    "\n",
    "Before building training batch, we load the full text in RAM"
   ]
  },
  {
   "cell_type": "code",
   "execution_count": null,
   "metadata": {},
   "outputs": [],
   "source": [
    "import unidecode\n",
    "import string\n",
    "import random\n",
    "import re\n",
    "import torch\n",
    "import torch.nn as nn\n",
    "\n",
    "all_characters = string.printable\n",
    "n_characters = len(all_characters)\n",
    "\n",
    "file = unidecode.unidecode(open('dataset/input.txt').read()) #clean text => only ascii\n",
    "file_len = len(file)\n",
    "print('file_len =', file_len)\n"
   ]
  },
  {
   "cell_type": "markdown",
   "metadata": {},
   "source": [
    "## 2: Helper functions:\n",
    "\n",
    "We have a text and we want to feed batch of chunks to a neural network:\n",
    "\n",
    "one chunk  A,B,C,D,E\n",
    "[input] A,B,C,D -> B,C,D,E [output]\n",
    "\n",
    "Note: we will use an embedding layer instead of a one-hot encoding scheme.\n",
    "\n",
    "for this, we have 3 functions:\n",
    "\n",
    "- One to get a random str chunk of size `chunk_len` : `random_chunk` \n",
    "- One to turn a chunk into a tensor of size `(1,chunk_len)` coding for each characters : `char_tensor`\n",
    "- One to return random input and output chunks of size `(batch_size,chunk_len)` : `random_training_set`\n",
    "\n",
    "\n"
   ]
  },
  {
   "cell_type": "code",
   "execution_count": null,
   "metadata": {},
   "outputs": [],
   "source": [
    "import time, math\n",
    "\n",
    "\n",
    "#Get a piece of text\n",
    "def random_chunk(chunk_len):\n",
    "    start_index = random.randint(0, file_len - chunk_len)\n",
    "    end_index = start_index + chunk_len + 1\n",
    "    return file[start_index:end_index]\n",
    "\n",
    "\n",
    "# Turn string into list of longs\n",
    "def char_tensor(string):\n",
    "    tensor = torch.zeros(1,len(string)).long()\n",
    "    for c in range(len(string)):\n",
    "        tensor[0,c] = all_characters.index(string[c])\n",
    "    return tensor\n",
    "\n",
    "\n",
    "#Turn a piece of text in train/test\n",
    "def random_training_set(chunk_len=200, batch_size=8):\n",
    "    chunks = [random_chunk(chunk_len) for _ in range(batch_size)]\n",
    "    inp = torch.cat([char_tensor(chunk[:-1]) for chunk in chunks],dim=0)\n",
    "    target = torch.cat([char_tensor(chunk[1:]) for chunk in chunks],dim=0)\n",
    "    \n",
    "    return inp, target\n",
    "\n",
    "print(random_training_set(10,4))  ## should return 8 chunks of 10 letters. "
   ]
  },
  {
   "cell_type": "markdown",
   "metadata": {},
   "source": [
    "## The actual RNN model (only thing to complete):\n",
    "\n",
    "It should be composed of three distinct modules:\n",
    "\n",
    "- an [embedding layer](https://pytorch.org/docs/stable/nn.html#embedding) (n_characters, hidden_size)\n",
    "\n",
    "```\n",
    "nn.Embedding(len_dic,size_vec)\n",
    "```\n",
    "- a [recurrent](https://pytorch.org/docs/stable/nn.html#recurrent-layers) layer (hidden_size, hidden_size)\n",
    "```\n",
    "nn.RNN(in_size,out_size) or nn.GRU() or nn.LSTM() => rnn_cell parameter\n",
    "```\n",
    "- a [prediction](https://pytorch.org/docs/stable/nn.html#linear) layer (hidden_size, output_size)\n",
    "\n",
    "```\n",
    "nn.Linear(in_size,out_size)\n",
    "```\n",
    "=> Complete the `init` function code"
   ]
  },
  {
   "cell_type": "code",
   "execution_count": null,
   "metadata": {},
   "outputs": [],
   "source": [
    "import torch.nn.functional as f\n",
    "\n",
    "class RNN(nn.Module):\n",
    "    \n",
    "    def __init__(self, n_char, hidden_size, output_size, n_layers=1,rnn_cell=nn.RNN):\n",
    "        \"\"\"\n",
    "        Create the network\n",
    "        \"\"\"\n",
    "        super(RNN, self).__init__()\n",
    "        \n",
    "        self.n_char = n_char\n",
    "        self.hidden_size = hidden_size\n",
    "        self.output_size = output_size\n",
    "        self.n_layers = n_layers\n",
    "        \n",
    "        #  (batch,chunk_len) -> (batch, chunk_len, hidden_size)  \n",
    "        self.embed = ####\n",
    "        \n",
    "        # (batch, chunk_len, hidden_size)  -> (batch, chunk_len, hidden_size)  \n",
    "        self.rnn = ####\n",
    "        \n",
    "        #(batch, chunk_len, hidden_size) -> (batch, chunk_len, output_size)  \n",
    "        self.predict = ####\n",
    "    \n",
    "    def forward(self, input):\n",
    "        \"\"\"\n",
    "        batched forward: input is (batch > 1,chunk_len)\n",
    "        \"\"\"\n",
    "        input = self.embed(input)\n",
    "        output,_  = self.rnn(input)\n",
    "        output = self.predict(f.tanh(output))\n",
    "        return output\n",
    "    \n",
    "    def forward_seq(self, input,hidden=None):\n",
    "        \"\"\"\n",
    "        not batched forward: input is  (1,chunk_len)\n",
    "        \"\"\"\n",
    "        input = self.embed(input)\n",
    "        output,hidden  = self.rnn(input.unsqueeze(0),hidden)\n",
    "        output = self.predict(f.tanh(output))\n",
    "        return output,hidden\n"
   ]
  },
  {
   "cell_type": "markdown",
   "metadata": {},
   "source": [
    "## Text generation function\n",
    "\n",
    "Sample text from the model"
   ]
  },
  {
   "cell_type": "code",
   "execution_count": null,
   "metadata": {},
   "outputs": [],
   "source": [
    "def generate(model,prime_str='A', predict_len=100, temperature=0.8):\n",
    "    prime_input = char_tensor(prime_str).squeeze(0)\n",
    "    hidden = None\n",
    "    predicted = prime_str+\"\"\n",
    "    # Use priming string to \"build up\" hidden state\n",
    "\n",
    "    for p in range(len(prime_str)-1):\n",
    "        _,hidden = model.forward_seq(prime_input[p].unsqueeze(0),hidden)\n",
    "            \n",
    "    #print(hidden.size())\n",
    "    for p in range(predict_len):\n",
    "        output, hidden = model.forward_seq(prime_input[-1].unsqueeze(0), hidden)\n",
    "                # Sample from the network as a multinomial distribution\n",
    "        output_dist = output.data.view(-1).div(temperature).exp()\n",
    "        #print(output_dist)\n",
    "        top_i = torch.multinomial(output_dist, 1)[0]\n",
    "        #print(top_i)\n",
    "        # Add predicted character to string and use as next input\n",
    "        predicted_char = all_characters[top_i]\n",
    "        predicted += predicted_char\n",
    "        prime_input = torch.cat([prime_input,char_tensor(predicted_char).squeeze(0)])\n",
    "\n",
    "    return predicted\n",
    "\n"
   ]
  },
  {
   "cell_type": "markdown",
   "metadata": {},
   "source": [
    "## Training loop for net"
   ]
  },
  {
   "cell_type": "code",
   "execution_count": null,
   "metadata": {},
   "outputs": [],
   "source": [
    "def time_since(since):\n",
    "    s = time.time() - since\n",
    "    m = math.floor(s / 60)\n",
    "    s -= m * 60\n",
    "    return '%dm %ds' % (m, s)\n",
    "\n",
    "###Parameters\n",
    "n_epochs = 20000\n",
    "print_every = 100\n",
    "plot_every = 10\n",
    "hidden_size = 100\n",
    "n_layers = 5\n",
    "lr = 0.005\n",
    "batch_size = 16\n",
    "chunk_len = 80\n",
    "\n",
    "####\n",
    "\n",
    "model = RNN(n_characters, hidden_size, n_characters, n_layers) #create model\n",
    "model_optimizer = torch.optim.Adam(model.parameters(), lr=lr) #create Adam optimizer\n",
    "criterion = nn.CrossEntropyLoss() #chose criterion\n",
    "\n",
    "start = time.time()\n",
    "all_losses = []\n",
    "loss_avg = 0\n",
    "\n",
    "\n",
    "def train(inp, target):\n",
    "    \"\"\"\n",
    "    Train sequence for one chunk:\n",
    "    \"\"\"\n",
    "    #reset gradients\n",
    "    model_optimizer.zero_grad() \n",
    "    \n",
    "    # predict output\n",
    "    output = model(inp)\n",
    "    \n",
    "    #compute loss\n",
    "    loss =  criterion(output.view(batch_size*chunk_len,-1), target.view(-1)) \n",
    "\n",
    "    #compute gradients and backpropagate\n",
    "    loss.backward() \n",
    "    model_optimizer.step() \n",
    "\n",
    "    return loss.data.item() \n",
    "\n",
    "\n",
    "\n",
    "for epoch in range(1, n_epochs + 1):\n",
    "    loss = train(*random_training_set(chunk_len,batch_size))  #train on one chunk \n",
    "    loss_avg += loss\n",
    "\n",
    "    if epoch % print_every == 0:\n",
    "        print('[%s (%d %d%%) %.4f]' % (time_since(start), epoch, epoch / n_epochs * 100, loss))\n",
    "        print(generate(model,'Wh', 100), '\\n')\n",
    "       \n",
    "\n",
    "\n",
    "    if epoch % plot_every == 0:\n",
    "        all_losses.append(loss_avg / plot_every)\n",
    "        loss_avg = 0\n"
   ]
  },
  {
   "cell_type": "markdown",
   "metadata": {},
   "source": [
    "## Visualize loss "
   ]
  },
  {
   "cell_type": "code",
   "execution_count": null,
   "metadata": {},
   "outputs": [],
   "source": [
    "import matplotlib.pyplot as plt\n",
    "import matplotlib.ticker as ticker\n",
    "%matplotlib inline\n",
    "\n",
    "plt.figure()\n",
    "plt.plot(all_losses)"
   ]
  },
  {
   "cell_type": "markdown",
   "metadata": {},
   "source": [
    "## Try different temperatures\n",
    "\n",
    "Changing the distribution sharpness has an impact on character sampling:\n",
    "\n",
    "more or less probable things are sampled"
   ]
  },
  {
   "cell_type": "code",
   "execution_count": null,
   "metadata": {},
   "outputs": [],
   "source": [
    "print(generate(model,'T', 200, temperature=1))\n",
    "print(\"----\")\n",
    "print(generate(model,'Th', 200, temperature=0.8))\n",
    "print(\"----\")\n",
    "\n",
    "print(generate(model,'Th', 200, temperature=0.5))\n",
    "print(\"----\")\n",
    "\n",
    "print(generate(model,'Th', 200, temperature=0.3))\n",
    "print(\"----\")\n",
    "\n",
    "print(generate(model,'Th', 200, temperature=0.1))"
   ]
  },
  {
   "cell_type": "markdown",
   "metadata": {},
   "source": [
    "### Improving this code:\n",
    "\n",
    "(a) Tinker with parameters:\n",
    "\n",
    "- Is it really necessary to have 100 dims character embeddings\n",
    "- Chunk length can be gradually increased\n",
    "- Try changing RNN cell type (GRUs - LSTMs)\n",
    "\n",
    "(b) Add GPU support to go faster\n"
   ]
  },
  {
   "cell_type": "markdown",
   "metadata": {},
   "source": [
    "## ------ End of practical\n",
    "\n",
    "#### Legacy loading code"
   ]
  },
  {
   "cell_type": "code",
   "execution_count": null,
   "metadata": {},
   "outputs": [],
   "source": [
    "import glob\n",
    "from os.path import split as pathsplit\n",
    "\n",
    "dir_train = \"dataset/aclImdb/train/\"\n",
    "dir_test = \"dataset/aclImdb/test/\"\n",
    "\n",
    "train_files = glob.glob(dir_train+'pos/*.txt') + glob.glob(dir_train+'neg/*.txt')\n",
    "test_files = glob.glob(dir_test+'pos/*.txt') + glob.glob(dir_test+'neg/*.txt')\n",
    "\n",
    "\n",
    "def get_polarity(f):\n",
    "    \"\"\"\n",
    "    Extracts polarity from filename:\n",
    "    0 is negative (< 5)\n",
    "    1 is positive (> 5)\n",
    "    \"\"\"\n",
    "    _,name = pathsplit(f)\n",
    "    if int(name.split('_')[1].split('.')[0]) < 5:\n",
    "        return 0\n",
    "    else:\n",
    "        return 1\n",
    "\n",
    "\n",
    "def open_one(f):\n",
    "    \n",
    "    polarity = get_polarity(f)\n",
    "    \n",
    "    with open(f,\"r\") as review:\n",
    "        text = \" \".join(review.readlines()).strip()\n",
    "    \n",
    "    return (text,polarity)\n",
    "\n",
    "print(open_one(train_files[0]))\n",
    "\n",
    "train = [open_one(x) for x in train_files] #contains (text,pol) couples\n",
    "test = [open_one(x) for x in test_files]   #contains (text,pol) couples\n"
   ]
  }
 ],
 "metadata": {
  "kernelspec": {
   "display_name": "Python 3 (ipykernel)",
   "language": "python",
   "name": "python3"
  },
  "language_info": {
   "codemirror_mode": {
    "name": "ipython",
    "version": 3
   },
   "file_extension": ".py",
   "mimetype": "text/x-python",
   "name": "python",
   "nbconvert_exporter": "python",
   "pygments_lexer": "ipython3",
   "version": "3.8.12"
  }
 },
 "nbformat": 4,
 "nbformat_minor": 4
}
