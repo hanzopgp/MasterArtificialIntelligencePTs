{
 "cells": [
  {
   "cell_type": "code",
   "execution_count": 100,
   "id": "b3b5ecd4-66ff-4109-a7ca-a0d747589b07",
   "metadata": {},
   "outputs": [],
   "source": [
    "import nltk\n",
    "from nltk.corpus import stopwords\n",
    "from nltk.stem.snowball import SnowballStemmer\n",
    "from nltk.tokenize import word_tokenize"
   ]
  },
  {
   "cell_type": "code",
   "execution_count": 101,
   "id": "c8f0b051-aa37-436d-83c4-802ede357650",
   "metadata": {},
   "outputs": [],
   "source": [
    "corpus = {\"doc1\" : \"the new home has been saled on top forecasts\",\n",
    "          \"doc2\" : \"the home sales rise in july\",\n",
    "          \"doc3\" : \"there is an increase in home sales in july\",\n",
    "          \"doc4\" : \"july encounter a new home sales rise\"}"
   ]
  },
  {
   "cell_type": "code",
   "execution_count": null,
   "id": "5433c403-dd70-440a-bac2-08596e86e842",
   "metadata": {},
   "outputs": [],
   "source": [
    "# dictionnaire (document : score) ranking"
   ]
  },
  {
   "cell_type": "code",
   "execution_count": null,
   "id": "77e56d90-22ab-4b7e-9b6f-9944ce166bea",
   "metadata": {},
   "outputs": [],
   "source": []
  }
 ],
 "metadata": {
  "kernelspec": {
   "display_name": "Python 3 (ipykernel)",
   "language": "python",
   "name": "python3"
  },
  "language_info": {
   "codemirror_mode": {
    "name": "ipython",
    "version": 3
   },
   "file_extension": ".py",
   "mimetype": "text/x-python",
   "name": "python",
   "nbconvert_exporter": "python",
   "pygments_lexer": "ipython3",
   "version": "3.8.12"
  }
 },
 "nbformat": 4,
 "nbformat_minor": 5
}
