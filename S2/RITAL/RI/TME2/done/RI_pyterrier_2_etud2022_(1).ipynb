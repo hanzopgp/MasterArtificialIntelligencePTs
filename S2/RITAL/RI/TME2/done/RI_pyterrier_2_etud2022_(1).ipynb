{
  "cells": [
    {
      "cell_type": "markdown",
      "metadata": {
        "id": "GwvTy_CAf1ZX"
      },
      "source": [
        "# Learning-to-rank : pyTerrier - OpenNIR\n",
        "\n",
        "Dans cette partie, on s'intéresse à l'utilisation de modèles neuronaux pour la recherche d'information. \n",
        "Les modèles neuronaux utilisés ont été rassemblés dans la librairie [OpenNIR](https://opennir.net/). \n",
        "On explorera également le modèle T5 avec le plugin [monoT5](https://github.com/terrierteam/pyterrier_t5)."
      ]
    },
    {
      "cell_type": "code",
      "execution_count": 1,
      "metadata": {
        "colab": {
          "base_uri": "https://localhost:8080/"
        },
        "id": "OoUHNdegfnjW",
        "outputId": "cf608eae-f4e1-40cc-c270-e71116bdcc60"
      },
      "outputs": [
        {
          "output_type": "stream",
          "name": "stdout",
          "text": [
            "Collecting python-terrier\n",
            "  Downloading python-terrier-0.8.0.tar.gz (97 kB)\n",
            "\u001b[?25l\r\u001b[K     |███▍                            | 10 kB 21.8 MB/s eta 0:00:01\r\u001b[K     |██████▊                         | 20 kB 8.8 MB/s eta 0:00:01\r\u001b[K     |██████████▏                     | 30 kB 7.5 MB/s eta 0:00:01\r\u001b[K     |█████████████▌                  | 40 kB 7.0 MB/s eta 0:00:01\r\u001b[K     |████████████████▉               | 51 kB 4.5 MB/s eta 0:00:01\r\u001b[K     |████████████████████▎           | 61 kB 5.2 MB/s eta 0:00:01\r\u001b[K     |███████████████████████▋        | 71 kB 5.4 MB/s eta 0:00:01\r\u001b[K     |███████████████████████████     | 81 kB 5.6 MB/s eta 0:00:01\r\u001b[K     |██████████████████████████████▍ | 92 kB 6.1 MB/s eta 0:00:01\r\u001b[K     |████████████████████████████████| 97 kB 2.4 MB/s \n",
            "\u001b[?25hRequirement already satisfied: numpy in /usr/local/lib/python3.7/dist-packages (from python-terrier) (1.21.5)\n",
            "Requirement already satisfied: pandas in /usr/local/lib/python3.7/dist-packages (from python-terrier) (1.3.5)\n",
            "Collecting wget\n",
            "  Downloading wget-3.2.zip (10 kB)\n",
            "Requirement already satisfied: tqdm in /usr/local/lib/python3.7/dist-packages (from python-terrier) (4.63.0)\n",
            "Collecting pyjnius~=1.3.0\n",
            "  Downloading pyjnius-1.3.0-cp37-cp37m-manylinux2010_x86_64.whl (1.1 MB)\n",
            "\u001b[K     |████████████████████████████████| 1.1 MB 30.0 MB/s \n",
            "\u001b[?25hCollecting matchpy\n",
            "  Downloading matchpy-0.5.5-py3-none-any.whl (69 kB)\n",
            "\u001b[K     |████████████████████████████████| 69 kB 2.4 MB/s \n",
            "\u001b[?25hRequirement already satisfied: sklearn in /usr/local/lib/python3.7/dist-packages (from python-terrier) (0.0)\n",
            "Collecting deprecation\n",
            "  Downloading deprecation-2.1.0-py2.py3-none-any.whl (11 kB)\n",
            "Collecting chest\n",
            "  Downloading chest-0.2.3.tar.gz (9.6 kB)\n",
            "Requirement already satisfied: scipy in /usr/local/lib/python3.7/dist-packages (from python-terrier) (1.4.1)\n",
            "Requirement already satisfied: requests in /usr/local/lib/python3.7/dist-packages (from python-terrier) (2.23.0)\n",
            "Requirement already satisfied: joblib in /usr/local/lib/python3.7/dist-packages (from python-terrier) (1.1.0)\n",
            "Collecting nptyping\n",
            "  Downloading nptyping-1.4.4-py3-none-any.whl (31 kB)\n",
            "Requirement already satisfied: more_itertools in /usr/local/lib/python3.7/dist-packages (from python-terrier) (8.12.0)\n",
            "Collecting ir_datasets>=0.3.2\n",
            "  Downloading ir_datasets-0.5.0-py3-none-any.whl (255 kB)\n",
            "\u001b[K     |████████████████████████████████| 255 kB 39.4 MB/s \n",
            "\u001b[?25hRequirement already satisfied: jinja2 in /usr/local/lib/python3.7/dist-packages (from python-terrier) (2.11.3)\n",
            "Requirement already satisfied: statsmodels in /usr/local/lib/python3.7/dist-packages (from python-terrier) (0.10.2)\n",
            "Collecting ir_measures>=0.2.0\n",
            "  Downloading ir_measures-0.2.3.tar.gz (41 kB)\n",
            "\u001b[K     |████████████████████████████████| 41 kB 106 kB/s \n",
            "\u001b[?25hRequirement already satisfied: dill in /usr/local/lib/python3.7/dist-packages (from python-terrier) (0.3.4)\n",
            "Collecting zlib-state>=0.1.3\n",
            "  Downloading zlib_state-0.1.5-cp37-cp37m-manylinux2010_x86_64.whl (72 kB)\n",
            "\u001b[K     |████████████████████████████████| 72 kB 1.2 MB/s \n",
            "\u001b[?25hCollecting ijson>=3.1.3\n",
            "  Downloading ijson-3.1.4-cp37-cp37m-manylinux2010_x86_64.whl (126 kB)\n",
            "\u001b[K     |████████████████████████████████| 126 kB 38.3 MB/s \n",
            "\u001b[?25hCollecting lz4>=3.1.1\n",
            "  Downloading lz4-4.0.0-cp37-cp37m-manylinux_2_17_x86_64.manylinux2014_x86_64.whl (1.2 MB)\n",
            "\u001b[K     |████████████████████████████████| 1.2 MB 38.7 MB/s \n",
            "\u001b[?25hCollecting trec-car-tools>=2.5.4\n",
            "  Downloading trec_car_tools-2.6-py3-none-any.whl (8.4 kB)\n",
            "Collecting warc3-wet-clueweb09>=0.2.5\n",
            "  Downloading warc3-wet-clueweb09-0.2.5.tar.gz (17 kB)\n",
            "Collecting lxml>=4.5.2\n",
            "  Downloading lxml-4.8.0-cp37-cp37m-manylinux_2_17_x86_64.manylinux2014_x86_64.manylinux_2_24_x86_64.whl (6.4 MB)\n",
            "\u001b[K     |████████████████████████████████| 6.4 MB 33.0 MB/s \n",
            "\u001b[?25hCollecting warc3-wet>=0.2.3\n",
            "  Downloading warc3_wet-0.2.3-py3-none-any.whl (13 kB)\n",
            "Requirement already satisfied: beautifulsoup4>=4.4.1 in /usr/local/lib/python3.7/dist-packages (from ir_datasets>=0.3.2->python-terrier) (4.6.3)\n",
            "Collecting pyyaml>=5.3.1\n",
            "  Downloading PyYAML-6.0-cp37-cp37m-manylinux_2_5_x86_64.manylinux1_x86_64.manylinux_2_12_x86_64.manylinux2010_x86_64.whl (596 kB)\n",
            "\u001b[K     |████████████████████████████████| 596 kB 44.5 MB/s \n",
            "\u001b[?25hCollecting pyautocorpus>=0.1.1\n",
            "  Downloading pyautocorpus-0.1.8-cp37-cp37m-manylinux_2_12_x86_64.manylinux2010_x86_64.whl (294 kB)\n",
            "\u001b[K     |████████████████████████████████| 294 kB 45.4 MB/s \n",
            "\u001b[?25hCollecting pytrec-eval-terrier==0.5.1\n",
            "  Downloading pytrec_eval_terrier-0.5.1-cp37-cp37m-manylinux2010_x86_64.whl (291 kB)\n",
            "\u001b[K     |████████████████████████████████| 291 kB 48.6 MB/s \n",
            "\u001b[?25hCollecting cwl-eval>=1.0.10\n",
            "  Downloading cwl-eval-1.0.10.tar.gz (31 kB)\n",
            "Collecting pyndeval>=0.0.2\n",
            "  Downloading pyndeval-0.0.2-cp37-cp37m-manylinux_2_5_x86_64.manylinux1_x86_64.manylinux_2_12_x86_64.manylinux2010_x86_64.whl (59 kB)\n",
            "\u001b[K     |████████████████████████████████| 59 kB 6.6 MB/s \n",
            "\u001b[?25hRequirement already satisfied: six>=1.7.0 in /usr/local/lib/python3.7/dist-packages (from pyjnius~=1.3.0->python-terrier) (1.15.0)\n",
            "Requirement already satisfied: cython in /usr/local/lib/python3.7/dist-packages (from pyjnius~=1.3.0->python-terrier) (0.29.28)\n",
            "Requirement already satisfied: certifi>=2017.4.17 in /usr/local/lib/python3.7/dist-packages (from requests->python-terrier) (2021.10.8)\n",
            "Requirement already satisfied: idna<3,>=2.5 in /usr/local/lib/python3.7/dist-packages (from requests->python-terrier) (2.10)\n",
            "Requirement already satisfied: urllib3!=1.25.0,!=1.25.1,<1.26,>=1.21.1 in /usr/local/lib/python3.7/dist-packages (from requests->python-terrier) (1.24.3)\n",
            "Requirement already satisfied: chardet<4,>=3.0.2 in /usr/local/lib/python3.7/dist-packages (from requests->python-terrier) (3.0.4)\n",
            "Collecting cbor>=1.0.0\n",
            "  Downloading cbor-1.0.0.tar.gz (20 kB)\n",
            "Requirement already satisfied: heapdict in /usr/local/lib/python3.7/dist-packages (from chest->python-terrier) (1.0.1)\n",
            "Requirement already satisfied: packaging in /usr/local/lib/python3.7/dist-packages (from deprecation->python-terrier) (21.3)\n",
            "Requirement already satisfied: MarkupSafe>=0.23 in /usr/local/lib/python3.7/dist-packages (from jinja2->python-terrier) (2.0.1)\n",
            "Collecting multiset<3.0,>=2.0\n",
            "  Downloading multiset-2.1.1-py2.py3-none-any.whl (8.8 kB)\n",
            "Collecting typish>=1.7.0\n",
            "  Downloading typish-1.9.3-py3-none-any.whl (45 kB)\n",
            "\u001b[K     |████████████████████████████████| 45 kB 2.6 MB/s \n",
            "\u001b[?25hRequirement already satisfied: pyparsing!=3.0.5,>=2.0.2 in /usr/local/lib/python3.7/dist-packages (from packaging->deprecation->python-terrier) (3.0.7)\n",
            "Requirement already satisfied: python-dateutil>=2.7.3 in /usr/local/lib/python3.7/dist-packages (from pandas->python-terrier) (2.8.2)\n",
            "Requirement already satisfied: pytz>=2017.3 in /usr/local/lib/python3.7/dist-packages (from pandas->python-terrier) (2018.9)\n",
            "Requirement already satisfied: scikit-learn in /usr/local/lib/python3.7/dist-packages (from sklearn->python-terrier) (1.0.2)\n",
            "Requirement already satisfied: threadpoolctl>=2.0.0 in /usr/local/lib/python3.7/dist-packages (from scikit-learn->sklearn->python-terrier) (3.1.0)\n",
            "Requirement already satisfied: patsy>=0.4.0 in /usr/local/lib/python3.7/dist-packages (from statsmodels->python-terrier) (0.5.2)\n",
            "Building wheels for collected packages: python-terrier, ir-measures, cwl-eval, cbor, warc3-wet-clueweb09, chest, wget\n",
            "  Building wheel for python-terrier (setup.py) ... \u001b[?25l\u001b[?25hdone\n",
            "  Created wheel for python-terrier: filename=python_terrier-0.8.0-py3-none-any.whl size=103883 sha256=f1da85ad3561d6c2d1f20432c232f7c74b541b7727e053f7ef817ec3eef3c00c\n",
            "  Stored in directory: /root/.cache/pip/wheels/a8/ec/0c/fd9fcb409ad158d1f62534f9b1924b406f420f1a4170fb4132\n",
            "  Building wheel for ir-measures (setup.py) ... \u001b[?25l\u001b[?25hdone\n",
            "  Created wheel for ir-measures: filename=ir_measures-0.2.3-py3-none-any.whl size=53217 sha256=ac1b9a6869404fe7ac6e87e75b6a1f42c162d044544a05d508e4d9e80a20ee4f\n",
            "  Stored in directory: /root/.cache/pip/wheels/b2/06/1b/b8dc2d9a9802a9c30dd3a28d4199061297df0034d8ab9b808a\n",
            "  Building wheel for cwl-eval (setup.py) ... \u001b[?25l\u001b[?25hdone\n",
            "  Created wheel for cwl-eval: filename=cwl_eval-1.0.10-py3-none-any.whl size=37797 sha256=fe5643b7f265f1acf1cdf7204aafcf5580b2a14332823f9085ce01beae67a0d4\n",
            "  Stored in directory: /root/.cache/pip/wheels/ff/e9/ff/d2b6d72d9feb0d0b1b11aacfaf5cd866717034615c2d194093\n",
            "  Building wheel for cbor (setup.py) ... \u001b[?25l\u001b[?25hdone\n",
            "  Created wheel for cbor: filename=cbor-1.0.0-cp37-cp37m-linux_x86_64.whl size=51314 sha256=914b3186c71f47660ca86287afee9981b9ed7fe36d29102bb3a079fc8db2946c\n",
            "  Stored in directory: /root/.cache/pip/wheels/19/77/49/c9c2c8dc5848502e606e8579d0bbda18b850fb056a6c62239d\n",
            "  Building wheel for warc3-wet-clueweb09 (setup.py) ... \u001b[?25l\u001b[?25hdone\n",
            "  Created wheel for warc3-wet-clueweb09: filename=warc3_wet_clueweb09-0.2.5-py3-none-any.whl size=18922 sha256=ad0cb98d22645a4223357616ab2ea934d387379d101fa778580dd304130e62a3\n",
            "  Stored in directory: /root/.cache/pip/wheels/42/d4/3c/7c2b0c3d400ad744e4db69f2fde166655da2ed2198bfc02db6\n",
            "  Building wheel for chest (setup.py) ... \u001b[?25l\u001b[?25hdone\n",
            "  Created wheel for chest: filename=chest-0.2.3-py3-none-any.whl size=7634 sha256=d9a65e44f4e991cccd17e21db29f132e971e4e2bb89043216cbbde6a0e0496c0\n",
            "  Stored in directory: /root/.cache/pip/wheels/fc/f5/b9/c436e11300809e6b40d46a5d2592fb0bff89e0712f2e878dc7\n",
            "  Building wheel for wget (setup.py) ... \u001b[?25l\u001b[?25hdone\n",
            "  Created wheel for wget: filename=wget-3.2-py3-none-any.whl size=9675 sha256=0861278f698647e35dc17335a3e384c8c1c9cbca11858c12c69c1a5917bcb1a0\n",
            "  Stored in directory: /root/.cache/pip/wheels/a1/b6/7c/0e63e34eb06634181c63adacca38b79ff8f35c37e3c13e3c02\n",
            "Successfully built python-terrier ir-measures cwl-eval cbor warc3-wet-clueweb09 chest wget\n",
            "Installing collected packages: cbor, zlib-state, warc3-wet-clueweb09, warc3-wet, typish, trec-car-tools, pyyaml, pytrec-eval-terrier, pyndeval, pyautocorpus, multiset, lz4, lxml, ijson, cwl-eval, wget, pyjnius, nptyping, matchpy, ir-measures, ir-datasets, deprecation, chest, python-terrier\n",
            "  Attempting uninstall: pyyaml\n",
            "    Found existing installation: PyYAML 3.13\n",
            "    Uninstalling PyYAML-3.13:\n",
            "      Successfully uninstalled PyYAML-3.13\n",
            "  Attempting uninstall: lxml\n",
            "    Found existing installation: lxml 4.2.6\n",
            "    Uninstalling lxml-4.2.6:\n",
            "      Successfully uninstalled lxml-4.2.6\n",
            "Successfully installed cbor-1.0.0 chest-0.2.3 cwl-eval-1.0.10 deprecation-2.1.0 ijson-3.1.4 ir-datasets-0.5.0 ir-measures-0.2.3 lxml-4.8.0 lz4-4.0.0 matchpy-0.5.5 multiset-2.1.1 nptyping-1.4.4 pyautocorpus-0.1.8 pyjnius-1.3.0 pyndeval-0.0.2 python-terrier-0.8.0 pytrec-eval-terrier-0.5.1 pyyaml-6.0 trec-car-tools-2.6 typish-1.9.3 warc3-wet-0.2.3 warc3-wet-clueweb09-0.2.5 wget-3.2 zlib-state-0.1.5\n",
            "Collecting git+https://github.com/Georgetown-IR-Lab/OpenNIR\n",
            "  Cloning https://github.com/Georgetown-IR-Lab/OpenNIR to /tmp/pip-req-build-vap8qojh\n",
            "  Running command git clone -q https://github.com/Georgetown-IR-Lab/OpenNIR /tmp/pip-req-build-vap8qojh\n",
            "Requirement already satisfied: torch>=1.3.1 in /usr/local/lib/python3.7/dist-packages (from OpenNIR==0.1.0) (1.10.0+cu111)\n",
            "Collecting pytorch-pretrained-bert==0.6.1\n",
            "  Downloading pytorch_pretrained_bert-0.6.1-py3-none-any.whl (114 kB)\n",
            "\u001b[K     |████████████████████████████████| 114 kB 5.4 MB/s \n",
            "\u001b[?25hCollecting pytorch-transformers==1.1.0\n",
            "  Downloading pytorch_transformers-1.1.0-py3-none-any.whl (158 kB)\n",
            "\u001b[K     |████████████████████████████████| 158 kB 34.0 MB/s \n",
            "\u001b[?25hCollecting tokenizers>=0.1.1\n",
            "  Downloading tokenizers-0.11.6-cp37-cp37m-manylinux_2_12_x86_64.manylinux2010_x86_64.whl (6.5 MB)\n",
            "\u001b[K     |████████████████████████████████| 6.5 MB 46.2 MB/s \n",
            "\u001b[?25hCollecting transformers>=4.3.3\n",
            "  Downloading transformers-4.17.0-py3-none-any.whl (3.8 MB)\n",
            "\u001b[K     |████████████████████████████████| 3.8 MB 39.9 MB/s \n",
            "\u001b[?25hRequirement already satisfied: tqdm>=4.38.0 in /usr/local/lib/python3.7/dist-packages (from OpenNIR==0.1.0) (4.63.0)\n",
            "Collecting colorlog==4.0.2\n",
            "  Downloading colorlog-4.0.2-py2.py3-none-any.whl (17 kB)\n",
            "Collecting terminaltables>=3.1.0\n",
            "  Downloading terminaltables-3.1.10-py2.py3-none-any.whl (15 kB)\n",
            "Requirement already satisfied: matplotlib>=3.0.2 in /usr/local/lib/python3.7/dist-packages (from OpenNIR==0.1.0) (3.2.2)\n",
            "Requirement already satisfied: seaborn>=0.9.0 in /usr/local/lib/python3.7/dist-packages (from OpenNIR==0.1.0) (0.11.2)\n",
            "Collecting python-ternary>=1.0.6\n",
            "  Downloading python_ternary-1.0.8-py3-none-any.whl (18 kB)\n",
            "Collecting beautifulsoup4>=4.9.3\n",
            "  Downloading beautifulsoup4-4.10.0-py3-none-any.whl (97 kB)\n",
            "\u001b[K     |████████████████████████████████| 97 kB 6.1 MB/s \n",
            "\u001b[?25hRequirement already satisfied: html5lib>=1.0.1 in /usr/local/lib/python3.7/dist-packages (from OpenNIR==0.1.0) (1.0.1)\n",
            "Collecting Unidecode>=1.0.22\n",
            "  Downloading Unidecode-1.3.4-py3-none-any.whl (235 kB)\n",
            "\u001b[K     |████████████████████████████████| 235 kB 52.5 MB/s \n",
            "\u001b[?25hCollecting nltk>=3.4.5\n",
            "  Downloading nltk-3.7-py3-none-any.whl (1.5 MB)\n",
            "\u001b[K     |████████████████████████████████| 1.5 MB 41.4 MB/s \n",
            "\u001b[?25hCollecting sqlitedict>=1.6.0\n",
            "  Downloading sqlitedict-2.0.0.tar.gz (46 kB)\n",
            "\u001b[K     |████████████████████████████████| 46 kB 3.0 MB/s \n",
            "\u001b[?25hRequirement already satisfied: pytrec-eval-terrier>=0.5.1 in /usr/local/lib/python3.7/dist-packages (from OpenNIR==0.1.0) (0.5.1)\n",
            "Collecting gensim>=3.7.3\n",
            "  Downloading gensim-4.1.2-cp37-cp37m-manylinux_2_12_x86_64.manylinux2010_x86_64.whl (24.1 MB)\n",
            "\u001b[K     |████████████████████████████████| 24.1 MB 65.2 MB/s \n",
            "\u001b[?25hRequirement already satisfied: Cython>=0.29.2 in /usr/local/lib/python3.7/dist-packages (from OpenNIR==0.1.0) (0.29.28)\n",
            "Requirement already satisfied: pyjnius>=1.2.1 in /usr/local/lib/python3.7/dist-packages (from OpenNIR==0.1.0) (1.3.0)\n",
            "Requirement already satisfied: ir_datasets>=0.2.0 in /usr/local/lib/python3.7/dist-packages (from OpenNIR==0.1.0) (0.5.0)\n",
            "Requirement already satisfied: ir_measures>=0.2.1 in /usr/local/lib/python3.7/dist-packages (from OpenNIR==0.1.0) (0.2.3)\n",
            "Collecting pytools>=2018.5.2\n",
            "  Downloading pytools-2022.1.1.tar.gz (67 kB)\n",
            "\u001b[K     |████████████████████████████████| 67 kB 6.1 MB/s \n",
            "\u001b[?25hRequirement already satisfied: cached-property>=1.5.1 in /usr/local/lib/python3.7/dist-packages (from OpenNIR==0.1.0) (1.5.2)\n",
            "Collecting boto3\n",
            "  Downloading boto3-1.21.16-py3-none-any.whl (132 kB)\n",
            "\u001b[K     |████████████████████████████████| 132 kB 46.1 MB/s \n",
            "\u001b[?25hRequirement already satisfied: numpy in /usr/local/lib/python3.7/dist-packages (from pytorch-pretrained-bert==0.6.1->OpenNIR==0.1.0) (1.21.5)\n",
            "Requirement already satisfied: requests in /usr/local/lib/python3.7/dist-packages (from pytorch-pretrained-bert==0.6.1->OpenNIR==0.1.0) (2.23.0)\n",
            "Requirement already satisfied: regex in /usr/local/lib/python3.7/dist-packages (from pytorch-pretrained-bert==0.6.1->OpenNIR==0.1.0) (2019.12.20)\n",
            "Collecting sentencepiece\n",
            "  Downloading sentencepiece-0.1.96-cp37-cp37m-manylinux_2_17_x86_64.manylinux2014_x86_64.whl (1.2 MB)\n",
            "\u001b[K     |████████████████████████████████| 1.2 MB 44.9 MB/s \n",
            "\u001b[?25hCollecting soupsieve>1.2\n",
            "  Downloading soupsieve-2.3.1-py3-none-any.whl (37 kB)\n",
            "Requirement already satisfied: smart-open>=1.8.1 in /usr/local/lib/python3.7/dist-packages (from gensim>=3.7.3->OpenNIR==0.1.0) (5.2.1)\n",
            "Requirement already satisfied: scipy>=0.18.1 in /usr/local/lib/python3.7/dist-packages (from gensim>=3.7.3->OpenNIR==0.1.0) (1.4.1)\n",
            "Requirement already satisfied: six>=1.9 in /usr/local/lib/python3.7/dist-packages (from html5lib>=1.0.1->OpenNIR==0.1.0) (1.15.0)\n",
            "Requirement already satisfied: webencodings in /usr/local/lib/python3.7/dist-packages (from html5lib>=1.0.1->OpenNIR==0.1.0) (0.5.1)\n",
            "Requirement already satisfied: warc3-wet>=0.2.3 in /usr/local/lib/python3.7/dist-packages (from ir_datasets>=0.2.0->OpenNIR==0.1.0) (0.2.3)\n",
            "Requirement already satisfied: ijson>=3.1.3 in /usr/local/lib/python3.7/dist-packages (from ir_datasets>=0.2.0->OpenNIR==0.1.0) (3.1.4)\n",
            "Requirement already satisfied: lz4>=3.1.1 in /usr/local/lib/python3.7/dist-packages (from ir_datasets>=0.2.0->OpenNIR==0.1.0) (4.0.0)\n",
            "Requirement already satisfied: lxml>=4.5.2 in /usr/local/lib/python3.7/dist-packages (from ir_datasets>=0.2.0->OpenNIR==0.1.0) (4.8.0)\n",
            "Requirement already satisfied: pyyaml>=5.3.1 in /usr/local/lib/python3.7/dist-packages (from ir_datasets>=0.2.0->OpenNIR==0.1.0) (6.0)\n",
            "Requirement already satisfied: zlib-state>=0.1.3 in /usr/local/lib/python3.7/dist-packages (from ir_datasets>=0.2.0->OpenNIR==0.1.0) (0.1.5)\n",
            "Requirement already satisfied: trec-car-tools>=2.5.4 in /usr/local/lib/python3.7/dist-packages (from ir_datasets>=0.2.0->OpenNIR==0.1.0) (2.6)\n",
            "Requirement already satisfied: pyautocorpus>=0.1.1 in /usr/local/lib/python3.7/dist-packages (from ir_datasets>=0.2.0->OpenNIR==0.1.0) (0.1.8)\n",
            "Requirement already satisfied: warc3-wet-clueweb09>=0.2.5 in /usr/local/lib/python3.7/dist-packages (from ir_datasets>=0.2.0->OpenNIR==0.1.0) (0.2.5)\n",
            "Requirement already satisfied: pyndeval>=0.0.2 in /usr/local/lib/python3.7/dist-packages (from ir_measures>=0.2.1->OpenNIR==0.1.0) (0.0.2)\n",
            "Requirement already satisfied: cwl-eval>=1.0.10 in /usr/local/lib/python3.7/dist-packages (from ir_measures>=0.2.1->OpenNIR==0.1.0) (1.0.10)\n",
            "Requirement already satisfied: kiwisolver>=1.0.1 in /usr/local/lib/python3.7/dist-packages (from matplotlib>=3.0.2->OpenNIR==0.1.0) (1.3.2)\n",
            "Requirement already satisfied: pyparsing!=2.0.4,!=2.1.2,!=2.1.6,>=2.0.1 in /usr/local/lib/python3.7/dist-packages (from matplotlib>=3.0.2->OpenNIR==0.1.0) (3.0.7)\n",
            "Requirement already satisfied: cycler>=0.10 in /usr/local/lib/python3.7/dist-packages (from matplotlib>=3.0.2->OpenNIR==0.1.0) (0.11.0)\n",
            "Requirement already satisfied: python-dateutil>=2.1 in /usr/local/lib/python3.7/dist-packages (from matplotlib>=3.0.2->OpenNIR==0.1.0) (2.8.2)\n",
            "Requirement already satisfied: joblib in /usr/local/lib/python3.7/dist-packages (from nltk>=3.4.5->OpenNIR==0.1.0) (1.1.0)\n",
            "Requirement already satisfied: click in /usr/local/lib/python3.7/dist-packages (from nltk>=3.4.5->OpenNIR==0.1.0) (7.1.2)\n",
            "Collecting regex\n",
            "  Downloading regex-2022.3.2-cp37-cp37m-manylinux_2_17_x86_64.manylinux2014_x86_64.whl (749 kB)\n",
            "\u001b[K     |████████████████████████████████| 749 kB 42.2 MB/s \n",
            "\u001b[?25hCollecting platformdirs>=2.2.0\n",
            "  Downloading platformdirs-2.5.1-py3-none-any.whl (14 kB)\n",
            "Requirement already satisfied: idna<3,>=2.5 in /usr/local/lib/python3.7/dist-packages (from requests->pytorch-pretrained-bert==0.6.1->OpenNIR==0.1.0) (2.10)\n",
            "Requirement already satisfied: chardet<4,>=3.0.2 in /usr/local/lib/python3.7/dist-packages (from requests->pytorch-pretrained-bert==0.6.1->OpenNIR==0.1.0) (3.0.4)\n",
            "Requirement already satisfied: certifi>=2017.4.17 in /usr/local/lib/python3.7/dist-packages (from requests->pytorch-pretrained-bert==0.6.1->OpenNIR==0.1.0) (2021.10.8)\n",
            "Requirement already satisfied: urllib3!=1.25.0,!=1.25.1,<1.26,>=1.21.1 in /usr/local/lib/python3.7/dist-packages (from requests->pytorch-pretrained-bert==0.6.1->OpenNIR==0.1.0) (1.24.3)\n",
            "Requirement already satisfied: pandas>=0.23 in /usr/local/lib/python3.7/dist-packages (from seaborn>=0.9.0->OpenNIR==0.1.0) (1.3.5)\n",
            "Requirement already satisfied: pytz>=2017.3 in /usr/local/lib/python3.7/dist-packages (from pandas>=0.23->seaborn>=0.9.0->OpenNIR==0.1.0) (2018.9)\n",
            "Requirement already satisfied: typing-extensions in /usr/local/lib/python3.7/dist-packages (from torch>=1.3.1->OpenNIR==0.1.0) (3.10.0.2)\n",
            "Collecting huggingface-hub<1.0,>=0.1.0\n",
            "  Downloading huggingface_hub-0.4.0-py3-none-any.whl (67 kB)\n",
            "\u001b[K     |████████████████████████████████| 67 kB 5.0 MB/s \n",
            "\u001b[?25hRequirement already satisfied: packaging>=20.0 in /usr/local/lib/python3.7/dist-packages (from transformers>=4.3.3->OpenNIR==0.1.0) (21.3)\n",
            "Requirement already satisfied: filelock in /usr/local/lib/python3.7/dist-packages (from transformers>=4.3.3->OpenNIR==0.1.0) (3.6.0)\n",
            "Requirement already satisfied: importlib-metadata in /usr/local/lib/python3.7/dist-packages (from transformers>=4.3.3->OpenNIR==0.1.0) (4.11.2)\n",
            "Collecting sacremoses\n",
            "  Downloading sacremoses-0.0.47-py2.py3-none-any.whl (895 kB)\n",
            "\u001b[K     |████████████████████████████████| 895 kB 47.6 MB/s \n",
            "\u001b[?25hRequirement already satisfied: cbor>=1.0.0 in /usr/local/lib/python3.7/dist-packages (from trec-car-tools>=2.5.4->ir_datasets>=0.2.0->OpenNIR==0.1.0) (1.0.0)\n",
            "Collecting s3transfer<0.6.0,>=0.5.0\n",
            "  Downloading s3transfer-0.5.2-py3-none-any.whl (79 kB)\n",
            "\u001b[K     |████████████████████████████████| 79 kB 7.8 MB/s \n",
            "\u001b[?25hCollecting jmespath<1.0.0,>=0.7.1\n",
            "  Downloading jmespath-0.10.0-py2.py3-none-any.whl (24 kB)\n",
            "Collecting botocore<1.25.0,>=1.24.16\n",
            "  Downloading botocore-1.24.16-py3-none-any.whl (8.6 MB)\n",
            "\u001b[K     |████████████████████████████████| 8.6 MB 38.2 MB/s \n",
            "\u001b[?25hCollecting urllib3!=1.25.0,!=1.25.1,<1.26,>=1.21.1\n",
            "  Downloading urllib3-1.25.11-py2.py3-none-any.whl (127 kB)\n",
            "\u001b[K     |████████████████████████████████| 127 kB 51.9 MB/s \n",
            "\u001b[?25hRequirement already satisfied: zipp>=0.5 in /usr/local/lib/python3.7/dist-packages (from importlib-metadata->transformers>=4.3.3->OpenNIR==0.1.0) (3.7.0)\n",
            "Building wheels for collected packages: OpenNIR, pytools, sqlitedict\n",
            "  Building wheel for OpenNIR (setup.py) ... \u001b[?25l\u001b[?25hdone\n",
            "  Created wheel for OpenNIR: filename=OpenNIR-0.1.0-py3-none-any.whl size=55851484 sha256=469a3e0ba28b5ec65b10c692bbb165edf7835fb558630c0b3e397413a074756b\n",
            "  Stored in directory: /tmp/pip-ephem-wheel-cache-psuep59j/wheels/68/b8/47/db90e1bae0b939259d8975315c2d107a217ce253ed2b1be872\n",
            "  Building wheel for pytools (setup.py) ... \u001b[?25l\u001b[?25hdone\n",
            "  Created wheel for pytools: filename=pytools-2022.1.1-py2.py3-none-any.whl size=63859 sha256=932419dc981e3304b394cf609186495b65938e226aaf3afb8e0d520628c3c621\n",
            "  Stored in directory: /root/.cache/pip/wheels/ee/a2/73/6f43d4f99ec69f7731617d44b68bf85aa66fc2da7b33cbe16b\n",
            "  Building wheel for sqlitedict (setup.py) ... \u001b[?25l\u001b[?25hdone\n",
            "  Created wheel for sqlitedict: filename=sqlitedict-2.0.0-py3-none-any.whl size=15736 sha256=1578dce3ed378742e595c483fc2cea6a8557848a030f7fda7bffc82480bba854\n",
            "  Stored in directory: /root/.cache/pip/wheels/96/dd/2e/0ed4a25cb73fc30c7ea8d10b50acb7226175736067e40a7ea3\n",
            "Successfully built OpenNIR pytools sqlitedict\n",
            "Installing collected packages: urllib3, jmespath, botocore, soupsieve, s3transfer, regex, tokenizers, sentencepiece, sacremoses, platformdirs, huggingface-hub, boto3, beautifulsoup4, Unidecode, transformers, terminaltables, sqlitedict, pytorch-transformers, pytorch-pretrained-bert, pytools, python-ternary, nltk, gensim, colorlog, OpenNIR\n",
            "  Attempting uninstall: urllib3\n",
            "    Found existing installation: urllib3 1.24.3\n",
            "    Uninstalling urllib3-1.24.3:\n",
            "      Successfully uninstalled urllib3-1.24.3\n",
            "  Attempting uninstall: regex\n",
            "    Found existing installation: regex 2019.12.20\n",
            "    Uninstalling regex-2019.12.20:\n",
            "      Successfully uninstalled regex-2019.12.20\n",
            "  Attempting uninstall: beautifulsoup4\n",
            "    Found existing installation: beautifulsoup4 4.6.3\n",
            "    Uninstalling beautifulsoup4-4.6.3:\n",
            "      Successfully uninstalled beautifulsoup4-4.6.3\n",
            "  Attempting uninstall: nltk\n",
            "    Found existing installation: nltk 3.2.5\n",
            "    Uninstalling nltk-3.2.5:\n",
            "      Successfully uninstalled nltk-3.2.5\n",
            "  Attempting uninstall: gensim\n",
            "    Found existing installation: gensim 3.6.0\n",
            "    Uninstalling gensim-3.6.0:\n",
            "      Successfully uninstalled gensim-3.6.0\n",
            "\u001b[31mERROR: pip's dependency resolver does not currently take into account all the packages that are installed. This behaviour is the source of the following dependency conflicts.\n",
            "datascience 0.10.6 requires folium==0.2.1, but you have folium 0.8.3 which is incompatible.\u001b[0m\n",
            "Successfully installed OpenNIR-0.1.0 Unidecode-1.3.4 beautifulsoup4-4.10.0 boto3-1.21.16 botocore-1.24.16 colorlog-4.0.2 gensim-4.1.2 huggingface-hub-0.4.0 jmespath-0.10.0 nltk-3.7 platformdirs-2.5.1 python-ternary-1.0.8 pytools-2022.1.1 pytorch-pretrained-bert-0.6.1 pytorch-transformers-1.1.0 regex-2022.3.2 s3transfer-0.5.2 sacremoses-0.0.47 sentencepiece-0.1.96 soupsieve-2.3.1 sqlitedict-2.0.0 terminaltables-3.1.10 tokenizers-0.11.6 transformers-4.17.0 urllib3-1.25.11\n",
            "Collecting git+https://github.com/terrierteam/pyterrier_t5\n",
            "  Cloning https://github.com/terrierteam/pyterrier_t5 to /tmp/pip-req-build-kntmi_yg\n",
            "  Running command git clone -q https://github.com/terrierteam/pyterrier_t5 /tmp/pip-req-build-kntmi_yg\n",
            "Requirement already satisfied: python-terrier>=0.5.0 in /usr/local/lib/python3.7/dist-packages (from pyterrier-t5==0.0.1) (0.8.0)\n",
            "Requirement already satisfied: pandas in /usr/local/lib/python3.7/dist-packages (from pyterrier-t5==0.0.1) (1.3.5)\n",
            "Requirement already satisfied: transformers>=4.0.0 in /usr/local/lib/python3.7/dist-packages (from pyterrier-t5==0.0.1) (4.17.0)\n",
            "Requirement already satisfied: torch in /usr/local/lib/python3.7/dist-packages (from pyterrier-t5==0.0.1) (1.10.0+cu111)\n",
            "Requirement already satisfied: sentencepiece>=0.1.95 in /usr/local/lib/python3.7/dist-packages (from pyterrier-t5==0.0.1) (0.1.96)\n",
            "Requirement already satisfied: deprecation in /usr/local/lib/python3.7/dist-packages (from python-terrier>=0.5.0->pyterrier-t5==0.0.1) (2.1.0)\n",
            "Requirement already satisfied: joblib in /usr/local/lib/python3.7/dist-packages (from python-terrier>=0.5.0->pyterrier-t5==0.0.1) (1.1.0)\n",
            "Requirement already satisfied: ir-datasets>=0.3.2 in /usr/local/lib/python3.7/dist-packages (from python-terrier>=0.5.0->pyterrier-t5==0.0.1) (0.5.0)\n",
            "Requirement already satisfied: nptyping in /usr/local/lib/python3.7/dist-packages (from python-terrier>=0.5.0->pyterrier-t5==0.0.1) (1.4.4)\n",
            "Requirement already satisfied: statsmodels in /usr/local/lib/python3.7/dist-packages (from python-terrier>=0.5.0->pyterrier-t5==0.0.1) (0.10.2)\n",
            "Requirement already satisfied: sklearn in /usr/local/lib/python3.7/dist-packages (from python-terrier>=0.5.0->pyterrier-t5==0.0.1) (0.0)\n",
            "Requirement already satisfied: tqdm in /usr/local/lib/python3.7/dist-packages (from python-terrier>=0.5.0->pyterrier-t5==0.0.1) (4.63.0)\n",
            "Requirement already satisfied: scipy in /usr/local/lib/python3.7/dist-packages (from python-terrier>=0.5.0->pyterrier-t5==0.0.1) (1.4.1)\n",
            "Requirement already satisfied: matchpy in /usr/local/lib/python3.7/dist-packages (from python-terrier>=0.5.0->pyterrier-t5==0.0.1) (0.5.5)\n",
            "Requirement already satisfied: numpy in /usr/local/lib/python3.7/dist-packages (from python-terrier>=0.5.0->pyterrier-t5==0.0.1) (1.21.5)\n",
            "Requirement already satisfied: dill in /usr/local/lib/python3.7/dist-packages (from python-terrier>=0.5.0->pyterrier-t5==0.0.1) (0.3.4)\n",
            "Requirement already satisfied: ir-measures>=0.2.0 in /usr/local/lib/python3.7/dist-packages (from python-terrier>=0.5.0->pyterrier-t5==0.0.1) (0.2.3)\n",
            "Requirement already satisfied: pyjnius~=1.3.0 in /usr/local/lib/python3.7/dist-packages (from python-terrier>=0.5.0->pyterrier-t5==0.0.1) (1.3.0)\n",
            "Requirement already satisfied: chest in /usr/local/lib/python3.7/dist-packages (from python-terrier>=0.5.0->pyterrier-t5==0.0.1) (0.2.3)\n",
            "Requirement already satisfied: wget in /usr/local/lib/python3.7/dist-packages (from python-terrier>=0.5.0->pyterrier-t5==0.0.1) (3.2)\n",
            "Requirement already satisfied: jinja2 in /usr/local/lib/python3.7/dist-packages (from python-terrier>=0.5.0->pyterrier-t5==0.0.1) (2.11.3)\n",
            "Requirement already satisfied: more-itertools in /usr/local/lib/python3.7/dist-packages (from python-terrier>=0.5.0->pyterrier-t5==0.0.1) (8.12.0)\n",
            "Requirement already satisfied: requests in /usr/local/lib/python3.7/dist-packages (from python-terrier>=0.5.0->pyterrier-t5==0.0.1) (2.23.0)\n",
            "Requirement already satisfied: warc3-wet>=0.2.3 in /usr/local/lib/python3.7/dist-packages (from ir-datasets>=0.3.2->python-terrier>=0.5.0->pyterrier-t5==0.0.1) (0.2.3)\n",
            "Requirement already satisfied: zlib-state>=0.1.3 in /usr/local/lib/python3.7/dist-packages (from ir-datasets>=0.3.2->python-terrier>=0.5.0->pyterrier-t5==0.0.1) (0.1.5)\n",
            "Requirement already satisfied: pyautocorpus>=0.1.1 in /usr/local/lib/python3.7/dist-packages (from ir-datasets>=0.3.2->python-terrier>=0.5.0->pyterrier-t5==0.0.1) (0.1.8)\n",
            "Requirement already satisfied: lxml>=4.5.2 in /usr/local/lib/python3.7/dist-packages (from ir-datasets>=0.3.2->python-terrier>=0.5.0->pyterrier-t5==0.0.1) (4.8.0)\n",
            "Requirement already satisfied: warc3-wet-clueweb09>=0.2.5 in /usr/local/lib/python3.7/dist-packages (from ir-datasets>=0.3.2->python-terrier>=0.5.0->pyterrier-t5==0.0.1) (0.2.5)\n",
            "Requirement already satisfied: beautifulsoup4>=4.4.1 in /usr/local/lib/python3.7/dist-packages (from ir-datasets>=0.3.2->python-terrier>=0.5.0->pyterrier-t5==0.0.1) (4.10.0)\n",
            "Requirement already satisfied: pyyaml>=5.3.1 in /usr/local/lib/python3.7/dist-packages (from ir-datasets>=0.3.2->python-terrier>=0.5.0->pyterrier-t5==0.0.1) (6.0)\n",
            "Requirement already satisfied: trec-car-tools>=2.5.4 in /usr/local/lib/python3.7/dist-packages (from ir-datasets>=0.3.2->python-terrier>=0.5.0->pyterrier-t5==0.0.1) (2.6)\n",
            "Requirement already satisfied: lz4>=3.1.1 in /usr/local/lib/python3.7/dist-packages (from ir-datasets>=0.3.2->python-terrier>=0.5.0->pyterrier-t5==0.0.1) (4.0.0)\n",
            "Requirement already satisfied: ijson>=3.1.3 in /usr/local/lib/python3.7/dist-packages (from ir-datasets>=0.3.2->python-terrier>=0.5.0->pyterrier-t5==0.0.1) (3.1.4)\n",
            "Requirement already satisfied: soupsieve>1.2 in /usr/local/lib/python3.7/dist-packages (from beautifulsoup4>=4.4.1->ir-datasets>=0.3.2->python-terrier>=0.5.0->pyterrier-t5==0.0.1) (2.3.1)\n",
            "Requirement already satisfied: cwl-eval>=1.0.10 in /usr/local/lib/python3.7/dist-packages (from ir-measures>=0.2.0->python-terrier>=0.5.0->pyterrier-t5==0.0.1) (1.0.10)\n",
            "Requirement already satisfied: pyndeval>=0.0.2 in /usr/local/lib/python3.7/dist-packages (from ir-measures>=0.2.0->python-terrier>=0.5.0->pyterrier-t5==0.0.1) (0.0.2)\n",
            "Requirement already satisfied: pytrec-eval-terrier==0.5.1 in /usr/local/lib/python3.7/dist-packages (from ir-measures>=0.2.0->python-terrier>=0.5.0->pyterrier-t5==0.0.1) (0.5.1)\n",
            "Requirement already satisfied: cython in /usr/local/lib/python3.7/dist-packages (from pyjnius~=1.3.0->python-terrier>=0.5.0->pyterrier-t5==0.0.1) (0.29.28)\n",
            "Requirement already satisfied: six>=1.7.0 in /usr/local/lib/python3.7/dist-packages (from pyjnius~=1.3.0->python-terrier>=0.5.0->pyterrier-t5==0.0.1) (1.15.0)\n",
            "Requirement already satisfied: urllib3!=1.25.0,!=1.25.1,<1.26,>=1.21.1 in /usr/local/lib/python3.7/dist-packages (from requests->python-terrier>=0.5.0->pyterrier-t5==0.0.1) (1.25.11)\n",
            "Requirement already satisfied: chardet<4,>=3.0.2 in /usr/local/lib/python3.7/dist-packages (from requests->python-terrier>=0.5.0->pyterrier-t5==0.0.1) (3.0.4)\n",
            "Requirement already satisfied: certifi>=2017.4.17 in /usr/local/lib/python3.7/dist-packages (from requests->python-terrier>=0.5.0->pyterrier-t5==0.0.1) (2021.10.8)\n",
            "Requirement already satisfied: idna<3,>=2.5 in /usr/local/lib/python3.7/dist-packages (from requests->python-terrier>=0.5.0->pyterrier-t5==0.0.1) (2.10)\n",
            "Requirement already satisfied: packaging>=20.0 in /usr/local/lib/python3.7/dist-packages (from transformers>=4.0.0->pyterrier-t5==0.0.1) (21.3)\n",
            "Requirement already satisfied: regex!=2019.12.17 in /usr/local/lib/python3.7/dist-packages (from transformers>=4.0.0->pyterrier-t5==0.0.1) (2022.3.2)\n",
            "Requirement already satisfied: huggingface-hub<1.0,>=0.1.0 in /usr/local/lib/python3.7/dist-packages (from transformers>=4.0.0->pyterrier-t5==0.0.1) (0.4.0)\n",
            "Requirement already satisfied: filelock in /usr/local/lib/python3.7/dist-packages (from transformers>=4.0.0->pyterrier-t5==0.0.1) (3.6.0)\n",
            "Requirement already satisfied: importlib-metadata in /usr/local/lib/python3.7/dist-packages (from transformers>=4.0.0->pyterrier-t5==0.0.1) (4.11.2)\n",
            "Requirement already satisfied: sacremoses in /usr/local/lib/python3.7/dist-packages (from transformers>=4.0.0->pyterrier-t5==0.0.1) (0.0.47)\n",
            "Requirement already satisfied: tokenizers!=0.11.3,>=0.11.1 in /usr/local/lib/python3.7/dist-packages (from transformers>=4.0.0->pyterrier-t5==0.0.1) (0.11.6)\n",
            "Requirement already satisfied: typing-extensions>=3.7.4.3 in /usr/local/lib/python3.7/dist-packages (from huggingface-hub<1.0,>=0.1.0->transformers>=4.0.0->pyterrier-t5==0.0.1) (3.10.0.2)\n",
            "Requirement already satisfied: pyparsing!=3.0.5,>=2.0.2 in /usr/local/lib/python3.7/dist-packages (from packaging>=20.0->transformers>=4.0.0->pyterrier-t5==0.0.1) (3.0.7)\n",
            "Requirement already satisfied: cbor>=1.0.0 in /usr/local/lib/python3.7/dist-packages (from trec-car-tools>=2.5.4->ir-datasets>=0.3.2->python-terrier>=0.5.0->pyterrier-t5==0.0.1) (1.0.0)\n",
            "Requirement already satisfied: heapdict in /usr/local/lib/python3.7/dist-packages (from chest->python-terrier>=0.5.0->pyterrier-t5==0.0.1) (1.0.1)\n",
            "Requirement already satisfied: zipp>=0.5 in /usr/local/lib/python3.7/dist-packages (from importlib-metadata->transformers>=4.0.0->pyterrier-t5==0.0.1) (3.7.0)\n",
            "Requirement already satisfied: MarkupSafe>=0.23 in /usr/local/lib/python3.7/dist-packages (from jinja2->python-terrier>=0.5.0->pyterrier-t5==0.0.1) (2.0.1)\n",
            "Requirement already satisfied: multiset<3.0,>=2.0 in /usr/local/lib/python3.7/dist-packages (from matchpy->python-terrier>=0.5.0->pyterrier-t5==0.0.1) (2.1.1)\n",
            "Requirement already satisfied: typish>=1.7.0 in /usr/local/lib/python3.7/dist-packages (from nptyping->python-terrier>=0.5.0->pyterrier-t5==0.0.1) (1.9.3)\n",
            "Requirement already satisfied: pytz>=2017.3 in /usr/local/lib/python3.7/dist-packages (from pandas->pyterrier-t5==0.0.1) (2018.9)\n",
            "Requirement already satisfied: python-dateutil>=2.7.3 in /usr/local/lib/python3.7/dist-packages (from pandas->pyterrier-t5==0.0.1) (2.8.2)\n",
            "Requirement already satisfied: click in /usr/local/lib/python3.7/dist-packages (from sacremoses->transformers>=4.0.0->pyterrier-t5==0.0.1) (7.1.2)\n",
            "Requirement already satisfied: scikit-learn in /usr/local/lib/python3.7/dist-packages (from sklearn->python-terrier>=0.5.0->pyterrier-t5==0.0.1) (1.0.2)\n",
            "Requirement already satisfied: threadpoolctl>=2.0.0 in /usr/local/lib/python3.7/dist-packages (from scikit-learn->sklearn->python-terrier>=0.5.0->pyterrier-t5==0.0.1) (3.1.0)\n",
            "Requirement already satisfied: patsy>=0.4.0 in /usr/local/lib/python3.7/dist-packages (from statsmodels->python-terrier>=0.5.0->pyterrier-t5==0.0.1) (0.5.2)\n",
            "Building wheels for collected packages: pyterrier-t5\n",
            "  Building wheel for pyterrier-t5 (setup.py) ... \u001b[?25l\u001b[?25hdone\n",
            "  Created wheel for pyterrier-t5: filename=pyterrier_t5-0.0.1-py3-none-any.whl size=4874 sha256=5f8628ed6767b6cc6bdd2342c18f7c9b524a2f1a8014e6b0efc33e0f4c3ec415\n",
            "  Stored in directory: /tmp/pip-ephem-wheel-cache-nez7pj_f/wheels/f2/2e/ba/3dc092af062ce839caefd6e5e92776d1d435475e5c3b081594\n",
            "Successfully built pyterrier-t5\n",
            "Installing collected packages: pyterrier-t5\n",
            "Successfully installed pyterrier-t5-0.0.1\n"
          ]
        }
      ],
      "source": [
        "!pip install --upgrade python-terrier\n",
        "!pip install --upgrade git+https://github.com/Georgetown-IR-Lab/OpenNIR\n",
        "!pip install --upgrade git+https://github.com/terrierteam/pyterrier_t5"
      ]
    },
    {
      "cell_type": "markdown",
      "metadata": {
        "id": "y50E75YFgm7F"
      },
      "source": [
        "## Initialisation\n",
        "De façon similaire au TP1, on initialise PyTerrier. Nous allons travailler sur le dataset CORD19. le bloc suivant est une répétition du code en TP1."
      ]
    },
    {
      "cell_type": "code",
      "execution_count": 2,
      "metadata": {
        "colab": {
          "base_uri": "https://localhost:8080/"
        },
        "id": "qXilYgJuggfA",
        "outputId": "08b27aed-fbfa-4cef-f34f-27cfc85dc928"
      },
      "outputs": [
        {
          "output_type": "stream",
          "name": "stdout",
          "text": [
            "terrier-assemblies 5.6 jar-with-dependencies not found, downloading to /root/.pyterrier...\n",
            "Done\n",
            "terrier-python-helper 0.0.6 jar not found, downloading to /root/.pyterrier...\n",
            "Done\n"
          ]
        },
        {
          "output_type": "stream",
          "name": "stderr",
          "text": [
            "PyTerrier 0.8.0 has loaded Terrier 5.6 (built by craigmacdonald on 2021-09-17 13:27)\n",
            "\n"
          ]
        },
        {
          "output_type": "stream",
          "name": "stdout",
          "text": [
            "Better speed can be achieved with apex installed from https://www.github.com/nvidia/apex.\n"
          ]
        }
      ],
      "source": [
        "import pyterrier as pt\n",
        "if not pt.started():\n",
        "    pt.init(tqdm='notebook')\n",
        "import onir_pt"
      ]
    },
    {
      "cell_type": "code",
      "execution_count": 3,
      "metadata": {
        "colab": {
          "base_uri": "https://localhost:8080/",
          "height": 1000,
          "referenced_widgets": [
            "e2b9a68e0c504d3d8f78e6f1bcb12aa5",
            "ade64dfe1fcf4d85b506b7abb2bae303",
            "9947fe4e699c4cc0b887cd45beabea2f",
            "916dc4847cb74a778ef8c2765f092161",
            "ffba63b79b5041b5a898e92783262f6e",
            "c458604bb955498e95c3939f42456d74",
            "032be750567440c5948683371d936b67",
            "7fbed737af4f4db2987b055ebd025511",
            "a7b4fe7fcd4f4f8e8af0bac1f654b151",
            "61487a6e9d594449bdf5fe1a769a1f01",
            "16aa8a2f2f9c4c85930389edacfd542f"
          ]
        },
        "id": "587Ku9Hgg6Mv",
        "outputId": "c499fb97-1537-457c-8f3e-889a6e40c2cb"
      },
      "outputs": [
        {
          "output_type": "stream",
          "name": "stderr",
          "text": [
            "[INFO] [starting] https://ir.nist.gov/covidSubmit/data/topics-rnd5.xml\n",
            "[INFO] [finished] https://ir.nist.gov/covidSubmit/data/topics-rnd5.xml: [2ms] [18.7kB] [10.0MB/s]\n",
            "/usr/local/lib/python3.7/dist-packages/pyterrier/datasets.py:433: FutureWarning: In a future version of pandas all arguments of DataFrame.drop except for the argument 'labels' will be keyword-only\n",
            "  df.drop(df.columns.difference(['qid','query']), 1, inplace=True)\n",
            "[INFO] [starting] https://ir.nist.gov/covidSubmit/data/qrels-covid_d5_j0.5-5.txt\n",
            "[INFO] [finished] https://ir.nist.gov/covidSubmit/data/qrels-covid_d5_j0.5-5.txt: [11.16s] [1.14MB] [102kB/s]\n",
            "[INFO] [starting] building docstore\n",
            "[INFO] If you have a local copy of https://ai2-semanticscholar-cord-19.s3-us-west-2.amazonaws.com/2020-07-16/metadata.csv, you can symlink it here to avoid downloading it again: /root/.ir_datasets/downloads/80d664e496b8b7e50a39c6f6bb92e0ef\n",
            "[INFO] [starting] https://ai2-semanticscholar-cord-19.s3-us-west-2.amazonaws.com/2020-07-16/metadata.csv\n",
            "docs_iter:   0%|                                    | 0/192509 [374ms<?, ?doc/s]\n",
            "https://ai2-semanticscholar-cord-19.s3-us-west-2.amazonaws.com/2020-07-16/metadata.csv: 0.0%| 0.00/269M [0ms<?, ?B/s]\u001b[A\n",
            "https://ai2-semanticscholar-cord-19.s3-us-west-2.amazonaws.com/2020-07-16/metadata.csv: 0.0%| 57.3k/269M [108ms<08:26, 532kB/s]\u001b[A\n",
            "https://ai2-semanticscholar-cord-19.s3-us-west-2.amazonaws.com/2020-07-16/metadata.csv: 0.1%| 213k/269M [235ms<04:57, 906kB/s] \u001b[A\n",
            "https://ai2-semanticscholar-cord-19.s3-us-west-2.amazonaws.com/2020-07-16/metadata.csv: 0.3%| 819k/269M [361ms<01:58, 2.27MB/s]\u001b[A\n",
            "https://ai2-semanticscholar-cord-19.s3-us-west-2.amazonaws.com/2020-07-16/metadata.csv: 0.9%| 2.49M/269M [485ms<51.96s, 5.13MB/s]\u001b[A\n",
            "https://ai2-semanticscholar-cord-19.s3-us-west-2.amazonaws.com/2020-07-16/metadata.csv: 2.5%| 6.77M/269M [610ms<23.66s, 11.1MB/s]\u001b[A\n",
            "https://ai2-semanticscholar-cord-19.s3-us-west-2.amazonaws.com/2020-07-16/metadata.csv: 4.1%| 11.0M/269M [737ms<17.23s, 15.0MB/s]\u001b[A\n",
            "https://ai2-semanticscholar-cord-19.s3-us-west-2.amazonaws.com/2020-07-16/metadata.csv: 5.7%| 15.5M/269M [860ms<14.12s, 18.0MB/s]\u001b[A\n",
            "https://ai2-semanticscholar-cord-19.s3-us-west-2.amazonaws.com/2020-07-16/metadata.csv: 7.4%| 19.9M/269M [988ms<12.38s, 20.1MB/s]\u001b[A\n",
            "https://ai2-semanticscholar-cord-19.s3-us-west-2.amazonaws.com/2020-07-16/metadata.csv: 9.0%| 24.3M/269M [1.11s<11.22s, 21.8MB/s]\u001b[A\n",
            "https://ai2-semanticscholar-cord-19.s3-us-west-2.amazonaws.com/2020-07-16/metadata.csv: 10.7%| 28.7M/269M [1.21s<10.16s, 23.7MB/s]\u001b[A\n",
            "https://ai2-semanticscholar-cord-19.s3-us-west-2.amazonaws.com/2020-07-16/metadata.csv: 12.6%| 33.8M/269M [1.31s<9.14s, 25.7MB/s] \u001b[A\n",
            "https://ai2-semanticscholar-cord-19.s3-us-west-2.amazonaws.com/2020-07-16/metadata.csv: 14.5%| 38.9M/269M [1.43s<8.48s, 27.2MB/s]\u001b[A\n",
            "https://ai2-semanticscholar-cord-19.s3-us-west-2.amazonaws.com/2020-07-16/metadata.csv: 16.4%| 44.0M/269M [1.55s<7.94s, 28.4MB/s]\u001b[A\n",
            "https://ai2-semanticscholar-cord-19.s3-us-west-2.amazonaws.com/2020-07-16/metadata.csv: 18.3%| 49.2M/269M [1.67s<7.50s, 29.4MB/s]\u001b[A\n",
            "https://ai2-semanticscholar-cord-19.s3-us-west-2.amazonaws.com/2020-07-16/metadata.csv: 20.2%| 54.3M/269M [1.78s<7.06s, 30.4MB/s]\u001b[A\n",
            "https://ai2-semanticscholar-cord-19.s3-us-west-2.amazonaws.com/2020-07-16/metadata.csv: 22.0%| 59.4M/269M [1.89s<6.67s, 31.4MB/s]\u001b[A\n",
            "https://ai2-semanticscholar-cord-19.s3-us-west-2.amazonaws.com/2020-07-16/metadata.csv: 23.9%| 64.5M/269M [2.01s<6.38s, 32.1MB/s]\u001b[A\n",
            "https://ai2-semanticscholar-cord-19.s3-us-west-2.amazonaws.com/2020-07-16/metadata.csv: 25.8%| 69.6M/269M [2.12s<6.08s, 32.8MB/s]\u001b[A\n",
            "https://ai2-semanticscholar-cord-19.s3-us-west-2.amazonaws.com/2020-07-16/metadata.csv: 27.7%| 74.7M/269M [2.23s<5.81s, 33.5MB/s]\u001b[A\n",
            "https://ai2-semanticscholar-cord-19.s3-us-west-2.amazonaws.com/2020-07-16/metadata.csv: 29.6%| 79.8M/269M [2.34s<5.57s, 34.0MB/s]\u001b[A\n",
            "https://ai2-semanticscholar-cord-19.s3-us-west-2.amazonaws.com/2020-07-16/metadata.csv: 31.5%| 84.9M/269M [2.46s<5.34s, 34.5MB/s]\u001b[A\n",
            "https://ai2-semanticscholar-cord-19.s3-us-west-2.amazonaws.com/2020-07-16/metadata.csv: 33.4%| 90.0M/269M [2.57s<5.12s, 35.0MB/s]\u001b[A\n",
            "https://ai2-semanticscholar-cord-19.s3-us-west-2.amazonaws.com/2020-07-16/metadata.csv: 35.3%| 95.1M/269M [2.69s<4.92s, 35.4MB/s]\u001b[A\n",
            "https://ai2-semanticscholar-cord-19.s3-us-west-2.amazonaws.com/2020-07-16/metadata.csv: 37.2%| 100M/269M [2.79s<4.71s, 35.9MB/s] \u001b[A\n",
            "https://ai2-semanticscholar-cord-19.s3-us-west-2.amazonaws.com/2020-07-16/metadata.csv: 39.1%| 105M/269M [2.91s<4.53s, 36.2MB/s]\u001b[A\n",
            "https://ai2-semanticscholar-cord-19.s3-us-west-2.amazonaws.com/2020-07-16/metadata.csv: 41.0%| 110M/269M [3.02s<4.35s, 36.5MB/s]\u001b[A\n",
            "https://ai2-semanticscholar-cord-19.s3-us-west-2.amazonaws.com/2020-07-16/metadata.csv: 42.9%| 115M/269M [3.14s<4.18s, 36.8MB/s]\u001b[A\n",
            "https://ai2-semanticscholar-cord-19.s3-us-west-2.amazonaws.com/2020-07-16/metadata.csv: 44.8%| 121M/269M [3.26s<4.02s, 37.0MB/s]\u001b[A\n",
            "https://ai2-semanticscholar-cord-19.s3-us-west-2.amazonaws.com/2020-07-16/metadata.csv: 46.7%| 126M/269M [3.38s<3.86s, 37.2MB/s]\u001b[A\n",
            "https://ai2-semanticscholar-cord-19.s3-us-west-2.amazonaws.com/2020-07-16/metadata.csv: 48.6%| 131M/269M [3.51s<3.71s, 37.3MB/s]\u001b[A\n",
            "https://ai2-semanticscholar-cord-19.s3-us-west-2.amazonaws.com/2020-07-16/metadata.csv: 50.5%| 136M/269M [3.62s<3.55s, 37.6MB/s]\u001b[A\n",
            "https://ai2-semanticscholar-cord-19.s3-us-west-2.amazonaws.com/2020-07-16/metadata.csv: 52.4%| 141M/269M [3.73s<3.39s, 37.8MB/s]\u001b[A\n",
            "https://ai2-semanticscholar-cord-19.s3-us-west-2.amazonaws.com/2020-07-16/metadata.csv: 54.3%| 146M/269M [3.85s<3.24s, 37.9MB/s]\u001b[A\n",
            "https://ai2-semanticscholar-cord-19.s3-us-west-2.amazonaws.com/2020-07-16/metadata.csv: 56.2%| 151M/269M [3.96s<3.09s, 38.2MB/s]\u001b[A\n",
            "https://ai2-semanticscholar-cord-19.s3-us-west-2.amazonaws.com/2020-07-16/metadata.csv: 58.1%| 156M/269M [4.07s<2.94s, 38.4MB/s]\u001b[A\n",
            "https://ai2-semanticscholar-cord-19.s3-us-west-2.amazonaws.com/2020-07-16/metadata.csv: 60.0%| 161M/269M [4.19s<2.79s, 38.6MB/s]\u001b[A\n",
            "https://ai2-semanticscholar-cord-19.s3-us-west-2.amazonaws.com/2020-07-16/metadata.csv: 61.9%| 167M/269M [4.30s<2.65s, 38.8MB/s]\u001b[A\n",
            "https://ai2-semanticscholar-cord-19.s3-us-west-2.amazonaws.com/2020-07-16/metadata.csv: 63.8%| 172M/269M [4.41s<2.51s, 38.9MB/s]\u001b[A\n",
            "https://ai2-semanticscholar-cord-19.s3-us-west-2.amazonaws.com/2020-07-16/metadata.csv: 65.7%| 177M/269M [4.52s<2.36s, 39.1MB/s]\u001b[A\n",
            "https://ai2-semanticscholar-cord-19.s3-us-west-2.amazonaws.com/2020-07-16/metadata.csv: 67.5%| 182M/269M [4.64s<2.23s, 39.2MB/s]\u001b[A\n",
            "https://ai2-semanticscholar-cord-19.s3-us-west-2.amazonaws.com/2020-07-16/metadata.csv: 69.4%| 187M/269M [4.75s<2.09s, 39.4MB/s]\u001b[A\n",
            "https://ai2-semanticscholar-cord-19.s3-us-west-2.amazonaws.com/2020-07-16/metadata.csv: 71.3%| 192M/269M [4.86s<1.95s, 39.5MB/s]\u001b[A\n",
            "https://ai2-semanticscholar-cord-19.s3-us-west-2.amazonaws.com/2020-07-16/metadata.csv: 73.2%| 197M/269M [4.97s<1.82s, 39.7MB/s]\u001b[A\n",
            "https://ai2-semanticscholar-cord-19.s3-us-west-2.amazonaws.com/2020-07-16/metadata.csv: 75.1%| 202M/269M [5.08s<1.68s, 39.8MB/s]\u001b[A\n",
            "https://ai2-semanticscholar-cord-19.s3-us-west-2.amazonaws.com/2020-07-16/metadata.csv: 77.0%| 207M/269M [5.18s<1.55s, 40.0MB/s]\u001b[A\n",
            "https://ai2-semanticscholar-cord-19.s3-us-west-2.amazonaws.com/2020-07-16/metadata.csv: 78.9%| 212M/269M [5.30s<1.42s, 40.1MB/s]\u001b[A\n",
            "https://ai2-semanticscholar-cord-19.s3-us-west-2.amazonaws.com/2020-07-16/metadata.csv: 80.8%| 218M/269M [5.42s<1.29s, 40.2MB/s]\u001b[A\n",
            "https://ai2-semanticscholar-cord-19.s3-us-west-2.amazonaws.com/2020-07-16/metadata.csv: 82.7%| 223M/269M [5.52s<1.15s, 40.4MB/s]\u001b[A\n",
            "https://ai2-semanticscholar-cord-19.s3-us-west-2.amazonaws.com/2020-07-16/metadata.csv: 84.6%| 228M/269M [5.63s<1.02s, 40.4MB/s]\u001b[A\n",
            "https://ai2-semanticscholar-cord-19.s3-us-west-2.amazonaws.com/2020-07-16/metadata.csv: 86.5%| 233M/269M [5.74s<896ms, 40.6MB/s]\u001b[A\n",
            "https://ai2-semanticscholar-cord-19.s3-us-west-2.amazonaws.com/2020-07-16/metadata.csv: 88.4%| 238M/269M [5.86s<769ms, 40.6MB/s]\u001b[A\n",
            "https://ai2-semanticscholar-cord-19.s3-us-west-2.amazonaws.com/2020-07-16/metadata.csv: 90.3%| 243M/269M [5.97s<642ms, 40.7MB/s]\u001b[A\n",
            "https://ai2-semanticscholar-cord-19.s3-us-west-2.amazonaws.com/2020-07-16/metadata.csv: 92.2%| 248M/269M [6.09s<516ms, 40.8MB/s]\u001b[A\n",
            "https://ai2-semanticscholar-cord-19.s3-us-west-2.amazonaws.com/2020-07-16/metadata.csv: 94.1%| 253M/269M [6.21s<390ms, 40.8MB/s]\u001b[A\n",
            "https://ai2-semanticscholar-cord-19.s3-us-west-2.amazonaws.com/2020-07-16/metadata.csv: 96.0%| 258M/269M [6.31s<264ms, 41.0MB/s]\u001b[A\n",
            "https://ai2-semanticscholar-cord-19.s3-us-west-2.amazonaws.com/2020-07-16/metadata.csv: 97.9%| 264M/269M [6.43s<139ms, 41.0MB/s]\u001b[A\n",
            "\n",
            "\u001b[A[INFO] [finished] https://ai2-semanticscholar-cord-19.s3-us-west-2.amazonaws.com/2020-07-16/metadata.csv: [6.55s] [269MB] [41.1MB/s]\n",
            "docs_iter:   0%|                                    | 0/192509 [6.96s<?, ?doc/s]\n",
            "https://ai2-semanticscholar-cord-19.s3-us-west-2.amazonaws.com/2020-07-16/metadata.csv: [6.58s] [269MB] [40.9MB/s]\u001b[A\n",
            "docs_iter: 100%|██████████████████████| 192509/192509 [21.29s<0ms, 9041.27doc/s]\n",
            "[INFO] [finished] docs_iter: [21.29s] [192509doc] [9040.77doc/s]\n",
            "[INFO] [finished] building docstore [21.31s]\n"
          ]
        },
        {
          "output_type": "display_data",
          "data": {
            "application/vnd.jupyter.widget-view+json": {
              "model_id": "e2b9a68e0c504d3d8f78e6f1bcb12aa5",
              "version_minor": 0,
              "version_major": 2
            },
            "text/plain": [
              "cord19/trec-covid documents:   0%|          | 0/192509 [42ms<?, ?it/s]"
            ]
          },
          "metadata": {}
        },
        {
          "output_type": "stream",
          "name": "stderr",
          "text": [
            "/usr/local/lib/python3.7/dist-packages/ipykernel_launcher.py:15: DeprecationWarning: specifying meta and meta_lengths in IterDictIndexer.index() is deprecated, use constructor instead\n",
            "  from ipykernel import kernelapp as app\n"
          ]
        },
        {
          "output_type": "stream",
          "name": "stdout",
          "text": [
            "15:48:55.290 [ForkJoinPool-1-worker-3] WARN org.terrier.structures.indexing.Indexer - Adding an empty document to the index (6iu1dtyl) - further warnings are suppressed\n",
            "15:50:15.853 [ForkJoinPool-1-worker-3] WARN org.terrier.structures.indexing.Indexer - Indexed 54937 empty documents\n",
            "15:50:16.059 [ForkJoinPool-1-worker-3] ERROR org.terrier.structures.indexing.Indexer - Could not finish MetaIndexBuilder: \n",
            "java.io.IOException: Key 8lqzfj2e is not unique: 37597,11755\n",
            "For MetaIndex, to suppress, set metaindex.compressed.reverse.allow.duplicates=true\n",
            "\tat org.terrier.structures.collections.FSOrderedMapFile$MultiFSOMapWriter.mergeTwo(FSOrderedMapFile.java:1374)\n",
            "\tat org.terrier.structures.collections.FSOrderedMapFile$MultiFSOMapWriter.close(FSOrderedMapFile.java:1308)\n",
            "\tat org.terrier.structures.indexing.BaseMetaIndexBuilder.close(BaseMetaIndexBuilder.java:321)\n",
            "\tat org.terrier.structures.indexing.classical.BasicIndexer.createDirectIndex(BasicIndexer.java:346)\n",
            "\tat org.terrier.structures.indexing.Indexer.index(Indexer.java:369)\n",
            "\tat org.terrier.python.ParallelIndexer$1.apply(ParallelIndexer.java:63)\n",
            "\tat org.terrier.python.ParallelIndexer$1.apply(ParallelIndexer.java:52)\n",
            "\tat java.base/java.util.stream.ReferencePipeline$3$1.accept(ReferencePipeline.java:195)\n",
            "\tat java.base/java.util.Spliterators$ArraySpliterator.forEachRemaining(Spliterators.java:948)\n",
            "\tat java.base/java.util.stream.AbstractPipeline.copyInto(AbstractPipeline.java:484)\n",
            "\tat java.base/java.util.stream.AbstractPipeline.wrapAndCopyInto(AbstractPipeline.java:474)\n",
            "\tat java.base/java.util.stream.ReduceOps$ReduceTask.doLeaf(ReduceOps.java:952)\n",
            "\tat java.base/java.util.stream.ReduceOps$ReduceTask.doLeaf(ReduceOps.java:926)\n",
            "\tat java.base/java.util.stream.AbstractTask.compute(AbstractTask.java:327)\n",
            "\tat java.base/java.util.concurrent.CountedCompleter.exec(CountedCompleter.java:746)\n",
            "\tat java.base/java.util.concurrent.ForkJoinTask.doExec(ForkJoinTask.java:290)\n",
            "\tat java.base/java.util.concurrent.ForkJoinTask.doInvoke(ForkJoinTask.java:408)\n",
            "\tat java.base/java.util.concurrent.ForkJoinTask.invoke(ForkJoinTask.java:736)\n",
            "\tat java.base/java.util.stream.ReduceOps$ReduceOp.evaluateParallel(ReduceOps.java:919)\n",
            "\tat java.base/java.util.stream.AbstractPipeline.evaluate(AbstractPipeline.java:233)\n",
            "\tat java.base/java.util.stream.ReferencePipeline.reduce(ReferencePipeline.java:558)\n",
            "\tat org.terrier.python.ParallelIndexer$3.call(ParallelIndexer.java:133)\n",
            "\tat org.terrier.python.ParallelIndexer$3.call(ParallelIndexer.java:130)\n",
            "\tat java.base/java.util.concurrent.ForkJoinTask$AdaptedCallable.exec(ForkJoinTask.java:1448)\n",
            "\tat java.base/java.util.concurrent.ForkJoinTask.doExec(ForkJoinTask.java:290)\n",
            "\tat java.base/java.util.concurrent.ForkJoinPool$WorkQueue.topLevelExec(ForkJoinPool.java:1020)\n",
            "\tat java.base/java.util.concurrent.ForkJoinPool.scan(ForkJoinPool.java:1656)\n",
            "\tat java.base/java.util.concurrent.ForkJoinPool.runWorker(ForkJoinPool.java:1594)\n",
            "\tat java.base/java.util.concurrent.ForkJoinWorkerThread.run(ForkJoinWorkerThread.java:183)\n"
          ]
        }
      ],
      "source": [
        "import os\n",
        "\n",
        "dataset = pt.datasets.get_dataset('irds:cord19/trec-covid')\n",
        "topics = dataset.get_topics(variant='description')\n",
        "qrels = dataset.get_qrels()\n",
        "\n",
        "cord19 = pt.datasets.get_dataset('irds:cord19/trec-covid')\n",
        "pt_index_path = './terrier_cord19'\n",
        "\n",
        "if not os.path.exists(pt_index_path + \"/data.properties\"):\n",
        "    # création de l'index\n",
        "    indexer = pt.index.IterDictIndexer(pt_index_path)\n",
        "    index_ref = indexer.index(cord19.get_corpus_iter(), \n",
        "                              fields=('abstract',), \n",
        "                              meta=('docno',))\n",
        "\n",
        "else:\n",
        "    # dans le cas où l'index est déjà créé\n",
        "    index_ref = pt.IndexRef.of(pt_index_path + \"/data.properties\")\n",
        "\n",
        "index = pt.IndexFactory.of(index_ref)"
      ]
    },
    {
      "cell_type": "code",
      "execution_count": 4,
      "metadata": {
        "colab": {
          "base_uri": "https://localhost:8080/"
        },
        "id": "XAvedpBZg8OL",
        "outputId": "6d9d94d3-7326-4fa9-c176-48c8a73573ec"
      },
      "outputs": [
        {
          "output_type": "stream",
          "name": "stdout",
          "text": [
            "False\n"
          ]
        }
      ],
      "source": [
        "print(os.path.exists(\"terrier_index.zip\"))"
      ]
    },
    {
      "cell_type": "code",
      "execution_count": 5,
      "metadata": {
        "id": "2kUlChROhYDZ",
        "colab": {
          "base_uri": "https://localhost:8080/"
        },
        "outputId": "dae70187-da0b-4cf2-a8d6-066b49b70754"
      },
      "outputs": [
        {
          "output_type": "stream",
          "name": "stdout",
          "text": [
            "--2022-03-10 15:50:24--  http://www.dcs.gla.ac.uk/~craigm/ecir2021-tutorial/terrier_index.zip\n",
            "Resolving www.dcs.gla.ac.uk (www.dcs.gla.ac.uk)... 130.209.240.1\n",
            "Connecting to www.dcs.gla.ac.uk (www.dcs.gla.ac.uk)|130.209.240.1|:80... connected.\n",
            "HTTP request sent, awaiting response... 200 OK\n",
            "Length: 42017186 (40M) [application/zip]\n",
            "Saving to: ‘terrier_index.zip’\n",
            "\n",
            "terrier_index.zip   100%[===================>]  40.07M  18.2MB/s    in 2.2s    \n",
            "\n",
            "2022-03-10 15:50:27 (18.2 MB/s) - ‘terrier_index.zip’ saved [42017186/42017186]\n",
            "\n",
            "Archive:  terrier_index.zip\n",
            "  inflating: terrier_index/data.lexicon.fsomapfile  \n",
            "  inflating: terrier_index/data.properties  \n",
            "  inflating: terrier_index/data.lexicon.fsomaphash  \n",
            "  inflating: terrier_index/data.lexicon.fsomapid  \n",
            "  inflating: terrier_index/data.meta.idx  \n",
            "  inflating: terrier_index/data.direct.bf  \n",
            "  inflating: terrier_index/data.inverted.bf  \n",
            "  inflating: terrier_index/data.meta.zdata  \n",
            "  inflating: terrier_index/data.document.fsarrayfile  \n"
          ]
        }
      ],
      "source": [
        "#Si le chargement de la collection est trop long à cause du débit ou autres raisons,\n",
        "# il est possible de récupérer directement l'index fourni par Terrier\n",
        "import os\n",
        "\n",
        "if not os.path.exists(\"terrier_index.zip\"):\n",
        "  !wget http://www.dcs.gla.ac.uk/~craigm/ecir2021-tutorial/terrier_index.zip\n",
        "  !unzip -j terrier_index.zip -d terrier_index\n",
        "\n",
        "index_ref = pt.IndexRef.of(\"./terrier_index/data.properties\")\n",
        "index = pt.IndexFactory.of(index_ref)"
      ]
    },
    {
      "cell_type": "markdown",
      "metadata": {
        "id": "J20b-Ue9h4P8"
      },
      "source": [
        "## Modèles de ré-ordonancement neuronaux \"from scratch\"\n",
        "\n",
        "Les modèles de ré-ordonnancement dans OpenNIR sont constitués de deux éléments :\n",
        "*  ranker: un modèle d'ordonnancement (e.g., drmm, knrm, pacrr, ...). Cf la liste des [Rankers](https://opennir.net/rankers.html).\n",
        "*  vocab : défnit comment le texte est encodé par le modèle (e.g., wordvec_hash, bert, ...). Cela permet ainsi de tester plusieurs méthodes de représentation. Plus de détails concernant le [vocab](https://opennir.net/vocab.html).\n",
        "\n",
        "Les modèles de réordonnancement s'appuient sur une première étape d'ordonnancement (souvent BM25), récupèrent ensuite les textes des top documents et appliquent ensuite le modèle neuronal.\n",
        "\n"
      ]
    },
    {
      "cell_type": "code",
      "execution_count": null,
      "metadata": {
        "colab": {
          "base_uri": "https://localhost:8080/"
        },
        "id": "YQBoxvMQhp63",
        "outputId": "594da54d-e91d-4b36-c8f6-cee11589a541"
      },
      "outputs": [
        {
          "output_type": "stream",
          "name": "stdout",
          "text": [
            "config file not found: config\n",
            "\u001b[02;37m[2022-03-10 15:50:28,473][WordvecHashVocab][DEBUG] \u001b[0m\u001b[37m[starting] downloading https://dl.fbaipublicfiles.com/fasttext/vectors-english/wiki-news-300d-1M.vec.zip\u001b[0m\n"
          ]
        },
        {
          "output_type": "stream",
          "name": "stderr",
          "text": [
            ""
          ]
        },
        {
          "output_type": "stream",
          "name": "stdout",
          "text": [
            "\u001b[02;37m[2022-03-10 15:50:39,833][onir.util.download][WARNING] \u001b[0m\u001b[33mno hash provided for https://dl.fbaipublicfiles.com/fasttext/vectors-english/wiki-news-300d-1M.vec.zip; consider adding expected_md5=\"3cc8839ac3fa9a6187149b1e73328b2a\" to ensure data integrity.\u001b[0m\n",
            "\u001b[02;37m[2022-03-10 15:50:39,847][onir.util.download][DEBUG] \u001b[0m\u001b[37mdownloaded https://dl.fbaipublicfiles.com/fasttext/vectors-english/wiki-news-300d-1M.vec.zip [10.97s] [682M] [67.0MB/s]\u001b[0m\n",
            "\u001b[02;37m[2022-03-10 15:50:39,860][WordvecHashVocab][DEBUG] \u001b[0m\u001b[37m[finished] downloading https://dl.fbaipublicfiles.com/fasttext/vectors-english/wiki-news-300d-1M.vec.zip [11.39s]\u001b[0m\n",
            "\u001b[02;37m[2022-03-10 15:50:39,860][WordvecHashVocab][DEBUG] \u001b[0m\u001b[37m[starting] extracting vecs\u001b[0m\n",
            "\u001b[02;37m[2022-03-10 15:50:58,534][WordvecHashVocab][DEBUG] \u001b[0m\u001b[37m[finished] extracting vecs [18.67s]\u001b[0m\n",
            "\u001b[02;37m[2022-03-10 15:50:58,534][WordvecHashVocab][DEBUG] \u001b[0m\u001b[37m[starting] loading vecs into memory\u001b[0m\n"
          ]
        }
      ],
      "source": [
        "knrm = onir_pt.reranker('knrm', 'wordvec_hash', text_field='abstract')"
      ]
    },
    {
      "cell_type": "markdown",
      "metadata": {
        "id": "ejwWaDZbjcbI"
      },
      "source": [
        "Une fois le modèle chargé, il est nécessaire de mettre en place la pipeline d'évaluation vue dans le tp1. \n",
        "Le modèle neuronal n'est pas efficace car il n'a pas été entraîné et utilise des poids aléatoires."
      ]
    },
    {
      "cell_type": "code",
      "execution_count": null,
      "metadata": {
        "id": "KOm-2rVBiT0R"
      },
      "outputs": [],
      "source": [
        "br = pt.BatchRetrieve(index) % 100\n",
        "pipeline = br >> pt.text.get_text(dataset, 'abstract') >> knrm\n",
        "pt.Experiment(\n",
        "    [br, pipeline],\n",
        "    topics,\n",
        "    qrels,\n",
        "    names=['DPH', 'DPH >> KNRM'],\n",
        "    eval_metrics=[\"map\", \"ndcg\", 'ndcg_cut.10', 'P.10', 'mrt']\n",
        ")"
      ]
    },
    {
      "cell_type": "markdown",
      "metadata": {
        "id": "exrlN-u8kVlG"
      },
      "source": [
        "## Entraînement des modèles sur les jeux de données\n",
        "\n",
        "Pour entraîner les modèles, il est nécessaire de construire la pipeline de modèles/transformations à utliser et ensuite d'appliquer la fonction .fit() à la pipeline. \n",
        "Le code ci-dessous prend beaucoup de temps. Il est donné à titre indicatif si vous souhaitez l'utiliser sur des serveurs adaptés. L'étape suivante permet de charger directement les poids du modèle pré-entraîné à l'avance et mis à disposition de la communauté.\n",
        "\n",
        "Dans ce qui suit, on utilise le jeu de données MS MARCO medical pour pré-entraîner le modèle qui sera ensuite appliqué sur CORD19. \n",
        "Il est également possible de garder seulement le jeu de données CORD19, de le découper en train/val/test et regarder les performances. "
      ]
    },
    {
      "cell_type": "code",
      "execution_count": null,
      "metadata": {
        "id": "-OYm6l5KjP0d"
      },
      "outputs": [],
      "source": [
        "# Apprentissage du modèle sur des données médicales (MS MARCO medical)\n",
        "from sklearn.model_selection import train_test_split\n",
        "train_ds = pt.datasets.get_dataset('irds:msmarco-passage/train/medical')\n",
        "train_topics, valid_topics = train_test_split(train_ds.get_topics(), test_size=50, random_state=42)\n",
        "\n",
        "# Indexation de MS MARCO pour la première étape d'ordonnancement et récupérer les textes (pour le ranker openNIR)\n",
        "indexer = pt.index.IterDictIndexer('./terrier_msmarco-passage')\n",
        "tr_index_ref = indexer.index(train_ds.get_corpus_iter(), fields=('text',), meta=('docno',))\n",
        "\n",
        "pipeline = (pt.BatchRetrieve(tr_index_ref) % 100 # récupère les 100 premiers documents\n",
        "            >> pt.text.get_text(train_ds, 'text') # récupère le texte de ces documents\n",
        "            >> pt.apply.generic(lambda df: df.rename(columns={'text': 'abstract'})) # renomme la colonne\n",
        "            >> knrm) # applique le re-ranker\n",
        "\n",
        "\n",
        "# pipeline.fit(\n",
        "#     train_topics,\n",
        "#     train_ds.get_qrels(),\n",
        "#     valid_topics,\n",
        "#     train_ds.get_qrels())"
      ]
    },
    {
      "cell_type": "markdown",
      "metadata": {
        "id": "fdECCZjdoEa-"
      },
      "source": [
        "Pour éviter l'étape d'entraînement ici, on utlise une version pré-entraînée.\n",
        "\n",
        "**Important** : penser à supprimer la mémoire des re-rankers qui vont être mis à jour avec les modèles pré-entrainés."
      ]
    },
    {
      "cell_type": "code",
      "execution_count": null,
      "metadata": {
        "id": "8Yri8BxtoAbN"
      },
      "outputs": [],
      "source": [
        "del knrm # free up the memory before loading a new version of the ranker\n",
        "knrm = onir_pt.reranker.from_checkpoint('https://macavaney.us/knrm.medmarco.tar.gz', text_field='abstract', expected_md5=\"d70b1d4f899690dae51161537e69ed5a\")"
      ]
    },
    {
      "cell_type": "markdown",
      "metadata": {
        "id": "RL5CdbfeodMa"
      },
      "source": [
        "Il est ensuire possible de lancer la pipeline d'évaluation avec ce nouveau modèle. Les résultats sont meilleurs !"
      ]
    },
    {
      "cell_type": "code",
      "execution_count": null,
      "metadata": {
        "id": "7HOBrge4obvg"
      },
      "outputs": [],
      "source": [
        "pipeline = br >> pt.text.get_text(dataset, 'abstract') >> knrm\n",
        "pt.Experiment(\n",
        "    [br, pipeline],\n",
        "    topics,\n",
        "    qrels,\n",
        "    names=['DPH', 'DPH >> KNRM'],\n",
        "    baseline=0,       ## spécifie quelle est le modèle de référence pour calculer les améliorations.\n",
        "    eval_metrics=[\"map\", \"ndcg\", 'ndcg_cut.10', 'P.10', 'mrt']\n",
        ")"
      ]
    },
    {
      "cell_type": "markdown",
      "metadata": {
        "id": "9WgUIjF21Sj_"
      },
      "source": [
        "**Exercice 1**\n",
        "\n",
        "On souhaite savoir quel est le nombre de documents pertinents qu'il est nécessaire de retourner à l'étape de pré-ordonnancement pour utiliser ensuite le modèle KNRM. Ecrire la pipeline de traitement permettant de trouver la valeur optimale de ce paramètre (valeurs de 10 à 100 par pas de 10).\n",
        "\n",
        "Remarque : Ne pas faire de train/test exceptionnellement, on souhaite juste constater la valeur qui maximise sur le jeu de données.\n"
      ]
    },
    {
      "cell_type": "code",
      "execution_count": null,
      "metadata": {
        "id": "4hukkex10Oy4"
      },
      "outputs": [],
      "source": [
        "cutoffs = [10, 20, 30, 40, 50, 60, 70, 80, 90, 100]\n",
        "dph = pt.BatchRetrieve(index)\n",
        "res = pt.Experiment(\n",
        "    [dph % cutoff >> pt.text.get_text(dataset, 'abstract') >> knrm for cutoff in cutoffs],\n",
        "    dataset.get_topics('description'),\n",
        "    dataset.get_qrels(),\n",
        "    names=[f'c={cutoff}' for cutoff in cutoffs],\n",
        "    eval_metrics=[\"map\", \"recip_rank\", \"ndcg\", \"ndcg_cut.10\", \"mrt\"]\n",
        ")\n",
        "res"
      ]
    },
    {
      "cell_type": "markdown",
      "metadata": {
        "id": "-3lZ2WVUqQfA"
      },
      "source": [
        "## Modèle Vanilla BERT\n",
        "\n",
        "**Exercice 2**\n",
        "\n",
        "Sur le même principe que le modèle KNRM, analyser les performances du modèle vanilla BERT sans et avec pré-entraînement.\n",
        "Pour la version du modèle pré-entraîné, on utilisera le checkpoint ['https://macavaney.us/scibert-medmarco.tar.gz']('https://macavaney.us/scibert-medmarco.tar.gz') avec le paramètre expected_md5=\"854966d0b61543ffffa44cea627ab63b\".\n",
        "\n",
        "Synthétisez toutes les mesures d'évaluation dans un même tableau (bm25, knrm et Vanilla Bert / avec/sans entraînement)."
      ]
    },
    {
      "cell_type": "code",
      "execution_count": null,
      "metadata": {
        "id": "n2Hzeul_qlqp"
      },
      "outputs": [],
      "source": [
        "## VBert sans pré-traitement\n",
        "vbert = onir_pt.reranker('vbert', 'wordvec_hash', text_field='abstract')\n",
        "\n",
        "br = pt.BatchRetrieve(index) % 100\n",
        "pipeline = br >> pt.text.get_text(dataset, 'abstract') >> vbert\n",
        "pt.Experiment(\n",
        "    [br, pipeline],\n",
        "    topics,\n",
        "    qrels,\n",
        "    names=['DPH', 'DPH >> KNRM'],\n",
        "    eval_metrics=[\"map\", \"ndcg\", 'ndcg_cut.10', 'P.10', 'mrt']\n",
        ")"
      ]
    },
    {
      "cell_type": "code",
      "execution_count": null,
      "metadata": {
        "id": "MPRtJIkdrEs9"
      },
      "outputs": [],
      "source": [
        "## Chargement du checkpoint\n",
        "del vbert\n",
        "vbert = onir_pt.reranker.from_checkpoint('https://macavaney.us/scibert-medmarco.tar.gz', text_field='abstract', expected_md5=\"854966d0b61543ffffa44cea627ab63b\")\n",
        "\n",
        "br = pt.BatchRetrieve(index) % 100\n",
        "pipeline = br >> pt.text.get_text(dataset, 'abstract') >> vbert\n",
        "pt.Experiment(\n",
        "    [br, pipeline],\n",
        "    topics,\n",
        "    qrels,\n",
        "    names=['DPH', 'DPH >> KNRM'],\n",
        "    eval_metrics=[\"map\", \"ndcg\", 'ndcg_cut.10', 'P.10', 'mrt']\n",
        ")"
      ]
    },
    {
      "cell_type": "code",
      "execution_count": null,
      "metadata": {
        "id": "U7yCQygBrJGl"
      },
      "outputs": [],
      "source": [
        "## Comparaison des performances"
      ]
    },
    {
      "cell_type": "markdown",
      "metadata": {
        "id": "tHF_P3crmxs-"
      },
      "source": [
        "# MonoT5\n",
        "\n",
        "Pour expérimenter le modèle T5, on utilisera une librairie différente implémentée par pyTerrier. "
      ]
    },
    {
      "cell_type": "code",
      "execution_count": null,
      "metadata": {
        "id": "P0bxKv38rKjH"
      },
      "outputs": [],
      "source": [
        "from pyterrier_t5 import MonoT5ReRanker\n",
        "monoT5 = MonoT5ReRanker(text_field='abstract')\n",
        "\n",
        "br = pt.BatchRetrieve(index) % 30\n",
        "pipeline = (br >> pt.text.get_text(dataset, 'abstract') >> monoT5)\n",
        "pt.Experiment(\n",
        "    [br, pipeline],\n",
        "    dataset.get_topics('description'),\n",
        "    dataset.get_qrels(),\n",
        "    names=['DPH', 'DPH >> T5'],\n",
        "    eval_metrics=[\"map\", \"recip_rank\", \"ndcg\", \"ndcg_cut.10\", \"mrt\"]\n",
        ")"
      ]
    }
  ],
  "metadata": {
    "accelerator": "GPU",
    "colab": {
      "collapsed_sections": [],
      "name": "RI_pyterrier_2_etud2022 (1).ipynb",
      "provenance": []
    },
    "kernelspec": {
      "display_name": "Python 3 (ipykernel)",
      "language": "python",
      "name": "python3"
    },
    "language_info": {
      "codemirror_mode": {
        "name": "ipython",
        "version": 3
      },
      "file_extension": ".py",
      "mimetype": "text/x-python",
      "name": "python",
      "nbconvert_exporter": "python",
      "pygments_lexer": "ipython3",
      "version": "3.8.12"
    },
    "widgets": {
      "application/vnd.jupyter.widget-state+json": {
        "e2b9a68e0c504d3d8f78e6f1bcb12aa5": {
          "model_module": "@jupyter-widgets/controls",
          "model_name": "HBoxModel",
          "model_module_version": "1.5.0",
          "state": {
            "_view_name": "HBoxView",
            "_dom_classes": [],
            "_model_name": "HBoxModel",
            "_view_module": "@jupyter-widgets/controls",
            "_model_module_version": "1.5.0",
            "_view_count": null,
            "_view_module_version": "1.5.0",
            "box_style": "",
            "layout": "IPY_MODEL_ade64dfe1fcf4d85b506b7abb2bae303",
            "_model_module": "@jupyter-widgets/controls",
            "children": [
              "IPY_MODEL_9947fe4e699c4cc0b887cd45beabea2f",
              "IPY_MODEL_916dc4847cb74a778ef8c2765f092161",
              "IPY_MODEL_ffba63b79b5041b5a898e92783262f6e"
            ]
          }
        },
        "ade64dfe1fcf4d85b506b7abb2bae303": {
          "model_module": "@jupyter-widgets/base",
          "model_name": "LayoutModel",
          "model_module_version": "1.2.0",
          "state": {
            "_view_name": "LayoutView",
            "grid_template_rows": null,
            "right": null,
            "justify_content": null,
            "_view_module": "@jupyter-widgets/base",
            "overflow": null,
            "_model_module_version": "1.2.0",
            "_view_count": null,
            "flex_flow": null,
            "width": null,
            "min_width": null,
            "border": null,
            "align_items": null,
            "bottom": null,
            "_model_module": "@jupyter-widgets/base",
            "top": null,
            "grid_column": null,
            "overflow_y": null,
            "overflow_x": null,
            "grid_auto_flow": null,
            "grid_area": null,
            "grid_template_columns": null,
            "flex": null,
            "_model_name": "LayoutModel",
            "justify_items": null,
            "grid_row": null,
            "max_height": null,
            "align_content": null,
            "visibility": null,
            "align_self": null,
            "height": null,
            "min_height": null,
            "padding": null,
            "grid_auto_rows": null,
            "grid_gap": null,
            "max_width": null,
            "order": null,
            "_view_module_version": "1.2.0",
            "grid_template_areas": null,
            "object_position": null,
            "object_fit": null,
            "grid_auto_columns": null,
            "margin": null,
            "display": null,
            "left": null
          }
        },
        "9947fe4e699c4cc0b887cd45beabea2f": {
          "model_module": "@jupyter-widgets/controls",
          "model_name": "HTMLModel",
          "model_module_version": "1.5.0",
          "state": {
            "_view_name": "HTMLView",
            "style": "IPY_MODEL_c458604bb955498e95c3939f42456d74",
            "_dom_classes": [],
            "description": "",
            "_model_name": "HTMLModel",
            "placeholder": "​",
            "_view_module": "@jupyter-widgets/controls",
            "_model_module_version": "1.5.0",
            "value": "cord19/trec-covid documents: 100%",
            "_view_count": null,
            "_view_module_version": "1.5.0",
            "description_tooltip": null,
            "_model_module": "@jupyter-widgets/controls",
            "layout": "IPY_MODEL_032be750567440c5948683371d936b67"
          }
        },
        "916dc4847cb74a778ef8c2765f092161": {
          "model_module": "@jupyter-widgets/controls",
          "model_name": "FloatProgressModel",
          "model_module_version": "1.5.0",
          "state": {
            "_view_name": "ProgressView",
            "style": "IPY_MODEL_7fbed737af4f4db2987b055ebd025511",
            "_dom_classes": [],
            "description": "",
            "_model_name": "FloatProgressModel",
            "bar_style": "success",
            "max": 192509,
            "_view_module": "@jupyter-widgets/controls",
            "_model_module_version": "1.5.0",
            "value": 192509,
            "_view_count": null,
            "_view_module_version": "1.5.0",
            "orientation": "horizontal",
            "min": 0,
            "description_tooltip": null,
            "_model_module": "@jupyter-widgets/controls",
            "layout": "IPY_MODEL_a7b4fe7fcd4f4f8e8af0bac1f654b151"
          }
        },
        "ffba63b79b5041b5a898e92783262f6e": {
          "model_module": "@jupyter-widgets/controls",
          "model_name": "HTMLModel",
          "model_module_version": "1.5.0",
          "state": {
            "_view_name": "HTMLView",
            "style": "IPY_MODEL_61487a6e9d594449bdf5fe1a769a1f01",
            "_dom_classes": [],
            "description": "",
            "_model_name": "HTMLModel",
            "placeholder": "​",
            "_view_module": "@jupyter-widgets/controls",
            "_model_module_version": "1.5.0",
            "value": " 192509/192509 [01:22&lt;0ms, 2733.66it/s]",
            "_view_count": null,
            "_view_module_version": "1.5.0",
            "description_tooltip": null,
            "_model_module": "@jupyter-widgets/controls",
            "layout": "IPY_MODEL_16aa8a2f2f9c4c85930389edacfd542f"
          }
        },
        "c458604bb955498e95c3939f42456d74": {
          "model_module": "@jupyter-widgets/controls",
          "model_name": "DescriptionStyleModel",
          "model_module_version": "1.5.0",
          "state": {
            "_view_name": "StyleView",
            "_model_name": "DescriptionStyleModel",
            "description_width": "",
            "_view_module": "@jupyter-widgets/base",
            "_model_module_version": "1.5.0",
            "_view_count": null,
            "_view_module_version": "1.2.0",
            "_model_module": "@jupyter-widgets/controls"
          }
        },
        "032be750567440c5948683371d936b67": {
          "model_module": "@jupyter-widgets/base",
          "model_name": "LayoutModel",
          "model_module_version": "1.2.0",
          "state": {
            "_view_name": "LayoutView",
            "grid_template_rows": null,
            "right": null,
            "justify_content": null,
            "_view_module": "@jupyter-widgets/base",
            "overflow": null,
            "_model_module_version": "1.2.0",
            "_view_count": null,
            "flex_flow": null,
            "width": null,
            "min_width": null,
            "border": null,
            "align_items": null,
            "bottom": null,
            "_model_module": "@jupyter-widgets/base",
            "top": null,
            "grid_column": null,
            "overflow_y": null,
            "overflow_x": null,
            "grid_auto_flow": null,
            "grid_area": null,
            "grid_template_columns": null,
            "flex": null,
            "_model_name": "LayoutModel",
            "justify_items": null,
            "grid_row": null,
            "max_height": null,
            "align_content": null,
            "visibility": null,
            "align_self": null,
            "height": null,
            "min_height": null,
            "padding": null,
            "grid_auto_rows": null,
            "grid_gap": null,
            "max_width": null,
            "order": null,
            "_view_module_version": "1.2.0",
            "grid_template_areas": null,
            "object_position": null,
            "object_fit": null,
            "grid_auto_columns": null,
            "margin": null,
            "display": null,
            "left": null
          }
        },
        "7fbed737af4f4db2987b055ebd025511": {
          "model_module": "@jupyter-widgets/controls",
          "model_name": "ProgressStyleModel",
          "model_module_version": "1.5.0",
          "state": {
            "_view_name": "StyleView",
            "_model_name": "ProgressStyleModel",
            "description_width": "",
            "_view_module": "@jupyter-widgets/base",
            "_model_module_version": "1.5.0",
            "_view_count": null,
            "_view_module_version": "1.2.0",
            "bar_color": null,
            "_model_module": "@jupyter-widgets/controls"
          }
        },
        "a7b4fe7fcd4f4f8e8af0bac1f654b151": {
          "model_module": "@jupyter-widgets/base",
          "model_name": "LayoutModel",
          "model_module_version": "1.2.0",
          "state": {
            "_view_name": "LayoutView",
            "grid_template_rows": null,
            "right": null,
            "justify_content": null,
            "_view_module": "@jupyter-widgets/base",
            "overflow": null,
            "_model_module_version": "1.2.0",
            "_view_count": null,
            "flex_flow": null,
            "width": null,
            "min_width": null,
            "border": null,
            "align_items": null,
            "bottom": null,
            "_model_module": "@jupyter-widgets/base",
            "top": null,
            "grid_column": null,
            "overflow_y": null,
            "overflow_x": null,
            "grid_auto_flow": null,
            "grid_area": null,
            "grid_template_columns": null,
            "flex": null,
            "_model_name": "LayoutModel",
            "justify_items": null,
            "grid_row": null,
            "max_height": null,
            "align_content": null,
            "visibility": null,
            "align_self": null,
            "height": null,
            "min_height": null,
            "padding": null,
            "grid_auto_rows": null,
            "grid_gap": null,
            "max_width": null,
            "order": null,
            "_view_module_version": "1.2.0",
            "grid_template_areas": null,
            "object_position": null,
            "object_fit": null,
            "grid_auto_columns": null,
            "margin": null,
            "display": null,
            "left": null
          }
        },
        "61487a6e9d594449bdf5fe1a769a1f01": {
          "model_module": "@jupyter-widgets/controls",
          "model_name": "DescriptionStyleModel",
          "model_module_version": "1.5.0",
          "state": {
            "_view_name": "StyleView",
            "_model_name": "DescriptionStyleModel",
            "description_width": "",
            "_view_module": "@jupyter-widgets/base",
            "_model_module_version": "1.5.0",
            "_view_count": null,
            "_view_module_version": "1.2.0",
            "_model_module": "@jupyter-widgets/controls"
          }
        },
        "16aa8a2f2f9c4c85930389edacfd542f": {
          "model_module": "@jupyter-widgets/base",
          "model_name": "LayoutModel",
          "model_module_version": "1.2.0",
          "state": {
            "_view_name": "LayoutView",
            "grid_template_rows": null,
            "right": null,
            "justify_content": null,
            "_view_module": "@jupyter-widgets/base",
            "overflow": null,
            "_model_module_version": "1.2.0",
            "_view_count": null,
            "flex_flow": null,
            "width": null,
            "min_width": null,
            "border": null,
            "align_items": null,
            "bottom": null,
            "_model_module": "@jupyter-widgets/base",
            "top": null,
            "grid_column": null,
            "overflow_y": null,
            "overflow_x": null,
            "grid_auto_flow": null,
            "grid_area": null,
            "grid_template_columns": null,
            "flex": null,
            "_model_name": "LayoutModel",
            "justify_items": null,
            "grid_row": null,
            "max_height": null,
            "align_content": null,
            "visibility": null,
            "align_self": null,
            "height": null,
            "min_height": null,
            "padding": null,
            "grid_auto_rows": null,
            "grid_gap": null,
            "max_width": null,
            "order": null,
            "_view_module_version": "1.2.0",
            "grid_template_areas": null,
            "object_position": null,
            "object_fit": null,
            "grid_auto_columns": null,
            "margin": null,
            "display": null,
            "left": null
          }
        }
      }
    }
  },
  "nbformat": 4,
  "nbformat_minor": 0
}