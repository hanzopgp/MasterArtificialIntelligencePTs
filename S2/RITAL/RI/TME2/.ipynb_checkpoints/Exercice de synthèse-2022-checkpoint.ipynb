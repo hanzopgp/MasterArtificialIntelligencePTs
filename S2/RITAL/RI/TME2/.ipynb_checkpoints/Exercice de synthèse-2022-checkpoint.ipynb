{
 "cells": [
  {
   "cell_type": "markdown",
   "metadata": {
    "id": "LH8RegM9pN43"
   },
   "source": [
    "# Exercice de synthèse\n",
    "\n",
    "On s'intéresse ici à résoudre la tâche de [TREC CAST](http://www.treccast.ai/) qui modélise une session de recherche conversationnelle : \n",
    "\n",
    "- l'utilisateur pose des questions à un système de dialogue\n",
    "- le système de dialogue lui répond\n",
    "- on peut imagine que le système de dialogue est associé à un moteur de recherche et pour chaque question soumet une requête au système de RI pour trouver des documents.\n",
    "\n",
    "La tâche traitée ici est d'ordonnancer des documents à un instant *t* compte tenu de l'historique des requêtes. Plusieurs stratégies peuvent être mises en place (pouvant être cumulées ou pas selon vos envies) : \n",
    "\n",
    "- Construire un vecteur de contexte\n",
    "- Reformuler les requêtes en fonction du contexte (historique ou vecteur)\n",
    "- Sélectionner dans l'historique les éléments importants\n",
    "- Ordonnancement global avec prise en compte du contexte\n",
    "- ...\n",
    "\n",
    "L'objectif ici est de mettre en place plusieurs modèles de votre choix, les comparer. Vous avez le droit : \n",
    "- d'utiliser des techniques vues dans les cours précédents de l'école d'été\n",
    "- d'utiliser des datasets externes. \n",
    "\n",
    "\n",
    "Vous pouvez vous mettre en groupe pour discuter. C'est autant un travail d'implémentation que de recherche pour trouver quelle modélisation serait pertinente (et comme tout travail de recherche, je n'ai pas la réponse absolue ! ;) )\n",
    "\n",
    "A vous de jouer !"
   ]
  },
  {
   "cell_type": "markdown",
   "metadata": {
    "id": "0VZQb0Ocrf13"
   },
   "source": [
    "## Jeux de données\n",
    "\n",
    "Le challenge est composé des données suivantes : \n",
    "- jeu de données MSMarco dont l'index est stocké [ici](https://drive.google.com/drive/folders/1q1djRDCGkGBojcEBjToEF2s_VH9jAAXB?usp=sharing)\n",
    "- les requêtes et les jugements de pertinence sont disponibles [ici](https://github.com/daltonj/treccastweb/blob/master/2019/) \n",
    "\n",
    "Le format des fichiers (requêtes et jugements de pertinence) est celui de TREC : \n",
    "- Pour les requêtes : on retrouve l'identifiant des requêtes et le texte associé. A noter, les requêtes sont sous le format x_y : x pour l'identifiant de la session et y pour l'itération de la session. Cela permet de modéliser la séquence de requêtes au sein d'une session (et donc l'historique).\n",
    "```\n",
    "<query>\n",
    "<number>1_1</number>\n",
    "<text>#combine(physician assistant )</text>\n",
    "</query>\n",
    "```\n",
    "\n",
    "\n",
    "\n",
    "- Pour les jugements de pertinence : id requête, 0, id document précédé de la collection (e.g. : MARCO_ à enlever), niveau de pertinence.\n",
    "\n",
    "\n",
    "```\n",
    "1_1 0 MARCO_955948 2\n",
    "1_1 0 MARCO_6203672 2\n",
    "1_1 0 MARCO_849267 0\n",
    "1_1 0 MARCO_2331424 0\n",
    "```\n",
    "\n",
    "\n",
    "\n",
    "**Note importante** : les jugements de pertinence ont des préfixes différents faisant référence à différents jeux de données (MSMARCO, CAR, ...). C'est lié au fait que la tâche TREC CAST repose sur plusieurs index de documents. Pour faire simple, on ne considère ici que MSMARCO, donc ne prendre en compte que les jugements de pertinence qui lui sont associés."
   ]
  },
  {
   "cell_type": "markdown",
   "metadata": {
    "id": "XCne56tt0a3N"
   },
   "source": [
    "Pour charger des données depuis google drive :"
   ]
  },
  {
   "cell_type": "code",
   "execution_count": 1,
   "metadata": {
    "colab": {
     "base_uri": "https://localhost:8080/"
    },
    "executionInfo": {
     "elapsed": 26331,
     "status": "ok",
     "timestamp": 1623848751635,
     "user": {
      "displayName": "Lau re",
      "photoUrl": "https://lh3.googleusercontent.com/a-/AOh14GgzuUia-j0jYugKgvO36IkfRFcUwM6qoXOYimquhg=s64",
      "userId": "03302099944040145915"
     },
     "user_tz": -120
    },
    "id": "1yJmtaYUwfPn",
    "outputId": "3c0e5150-42f1-4996-8a6c-8ee77c5d4751"
   },
   "outputs": [
    {
     "ename": "ModuleNotFoundError",
     "evalue": "No module named 'google.colab'",
     "output_type": "error",
     "traceback": [
      "\u001b[1;31m---------------------------------------------------------------------------\u001b[0m",
      "\u001b[1;31mModuleNotFoundError\u001b[0m                       Traceback (most recent call last)",
      "\u001b[1;32m~\\AppData\\Local\\Temp/ipykernel_33908/1408506528.py\u001b[0m in \u001b[0;36m<module>\u001b[1;34m\u001b[0m\n\u001b[1;32m----> 1\u001b[1;33m \u001b[1;32mfrom\u001b[0m \u001b[0mgoogle\u001b[0m\u001b[1;33m.\u001b[0m\u001b[0mcolab\u001b[0m \u001b[1;32mimport\u001b[0m \u001b[0mdrive\u001b[0m\u001b[1;33m\u001b[0m\u001b[1;33m\u001b[0m\u001b[0m\n\u001b[0m\u001b[0;32m      2\u001b[0m \u001b[0mdrive\u001b[0m\u001b[1;33m.\u001b[0m\u001b[0mmount\u001b[0m\u001b[1;33m(\u001b[0m\u001b[1;34m'/content/drive'\u001b[0m\u001b[1;33m)\u001b[0m\u001b[1;33m\u001b[0m\u001b[1;33m\u001b[0m\u001b[0m\n",
      "\u001b[1;31mModuleNotFoundError\u001b[0m: No module named 'google.colab'"
     ]
    }
   ],
   "source": [
    "from google.colab import drive\n",
    "drive.mount('/content/drive')"
   ]
  },
  {
   "cell_type": "code",
   "execution_count": null,
   "metadata": {
    "id": "kBvFCRaUuquf"
   },
   "outputs": [],
   "source": [
    "#récupération de l'index déja créé\n",
    "# if index exists\n",
    "indexref = pt.IndexRef.of(\"/content/drive/MyDrive/etal2021/passage_index/data.properties\")\n",
    "# print(indexref.toString())\n",
    "index = pt.IndexFactory.of(indexref)\n",
    "print(index.getCollectionStatistics().toString())"
   ]
  }
 ],
 "metadata": {
  "colab": {
   "authorship_tag": "ABX9TyNPSuszXdKuSIswBKHs4hID",
   "name": "Exercice de synthèse.ipynb",
   "provenance": []
  },
  "kernelspec": {
   "display_name": "Python 3 (ipykernel)",
   "language": "python",
   "name": "python3"
  },
  "language_info": {
   "codemirror_mode": {
    "name": "ipython",
    "version": 3
   },
   "file_extension": ".py",
   "mimetype": "text/x-python",
   "name": "python",
   "nbconvert_exporter": "python",
   "pygments_lexer": "ipython3",
   "version": "3.8.12"
  }
 },
 "nbformat": 4,
 "nbformat_minor": 4
}
