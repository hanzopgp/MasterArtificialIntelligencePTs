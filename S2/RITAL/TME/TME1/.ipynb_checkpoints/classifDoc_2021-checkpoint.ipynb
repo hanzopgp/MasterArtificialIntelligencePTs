{
 "cells": [
  {
   "cell_type": "markdown",
   "metadata": {},
   "source": [
    "# Classification de documents : prise en main des outils\n",
    "\n",
    "Le but de ce TP est de classer des documents textuels... Dans un premier temps, nous allons vérifier le bon fonctionnement des outils sur des données jouets puis appliquer les concepts sur des données réelles.\n",
    "\n",
    "\n",
    "## Conception de la chaine de traitement\n",
    "Pour rappel, une chaine de traitement de documents classique est composée des étapes suivantes:\n",
    "1. Lecture des données et importation\n",
    "    - Dans le cadre de nos TP, nous faisons l'hypothèse que le corpus tient en mémoire... Si ce n'est pas le cas, il faut alors ajouter des structures de données avec des buffers (*data-reader*), bien plus complexes à mettre en place.\n",
    "    - Le plus grand piège concerne l'encodage des données. Dans le TP... Pas (ou peu) de problème. Dans la vraie vie: il faut faire attention à toujours maitriser les formats d'entrée et de sortie.\n",
    "1. Traitement des données brutes paramétrique. Chaque traitement doit être activable ou desactivable + paramétrable si besoin.\n",
    "    - Enlever les informations *inutiles* : chiffre, ponctuations, majuscules, etc... <BR>\n",
    "    **L'utilité dépend de l'application!**\n",
    "    - Segmenter en mots (=*Tokenization*)\n",
    "    - Elimination des stop-words\n",
    "    - Stemming/lemmatisation (racinisation)\n",
    "    - Byte-pair encoding pour trouver les mots composés (e.g. Sorbonne Université, Ville de Paris, Premier Ministre, etc...)\n",
    "1. Traitement des données numériques\n",
    "    - Normalisation *term-frequency* / binarisation\n",
    "    - Normalisation *inverse document frequency*\n",
    "    - Elimination des mots rares, des mots trop fréquents\n",
    "    - Construction de critère de séparabilité pour éliminer des mots etc...\n",
    "1. Apprentissage d'un classifieur\n",
    "    - Choix du type de classifieur\n",
    "    - Réglage des paramètres du classifieur (régularisation, etc...)\n",
    "\n",
    "## Exploitation de la chaine de traitement\n",
    "\n",
    "On appelle cette étape la réalisation d'une campagne d'expériences: c'est le point clé que nous voulons traviller en TAL cette année.\n",
    "1. Il est impossible de tester toutes les combinaisons par rapport aux propositions ci-dessus... Il faut donc en éliminer un certain nombre.\n",
    "    - En discutant avec les experts métiers\n",
    "    - En faisant des tests préliminaires\n",
    "1. Après ce premier filtrage, il faut:\n",
    "    - Choisir une évaluation fiable et pas trop lente (validation croisée, leave-one-out, split apprentissage/test simple)\n",
    "    - Lancer des expériences en grand\n",
    "        - = *grid-search*\n",
    "        - parallèliser sur plusieurs machines\n",
    "        - savoir lancer sur un serveur et se déconnecter\n",
    "1. Collecter et analyser les résultats\n",
    "\n",
    "\n",
    "## Inférence\n",
    "\n",
    "L'inférence est ensuite très classique: la chaine de traitement optimale est apte à traiter de nouveaux documents\n",
    "\n",
    "# Etape 1: charger les données"
   ]
  },
  {
   "cell_type": "code",
   "execution_count": 1,
   "metadata": {},
   "outputs": [],
   "source": [
    "import numpy as np\n",
    "import matplotlib.pyplot as plt\n",
    "\n",
    "import codecs\n",
    "import re\n",
    "import os.path"
   ]
  },
  {
   "cell_type": "code",
   "execution_count": 2,
   "metadata": {},
   "outputs": [],
   "source": [
    "# Chargement des données:\n",
    "def load_pres(fname):\n",
    "    alltxts = []\n",
    "    alllabs = []\n",
    "    s=codecs.open(fname, 'r','utf-8') # pour régler le codage\n",
    "    while True:\n",
    "        txt = s.readline()\n",
    "        if(len(txt))<5:\n",
    "            break\n",
    "        lab = re.sub(r\"<[0-9]*:[0-9]*:(.)>.*\",\"\\\\1\",txt)\n",
    "        txt = re.sub(r\"<[0-9]*:[0-9]*:.>(.*)\",\"\\\\1\",txt)\n",
    "        if lab.count('M') >0:\n",
    "            alllabs.append(-1)\n",
    "        else: \n",
    "            alllabs.append(1)\n",
    "        alltxts.append(txt)\n",
    "    return alltxts,alllabs"
   ]
  },
  {
   "cell_type": "code",
   "execution_count": 3,
   "metadata": {},
   "outputs": [],
   "source": [
    "fname = \"corpus.tache1.learn.utf8\"\n",
    "\n",
    "alltxts, alllabs = load_pres(fname)"
   ]
  },
  {
   "cell_type": "code",
   "execution_count": 4,
   "metadata": {},
   "outputs": [
    {
     "name": "stdout",
     "output_type": "stream",
     "text": [
      "57413 57413\n",
      " Quand je dis chers amis, il ne s'agit pas là d'une formule diplomatique, mais de l'expression de ce que je ressens.\n",
      "\n",
      "1\n",
      " Je compte sur vous.\n",
      "\n",
      "1\n"
     ]
    }
   ],
   "source": [
    "print(len(alltxts),len(alllabs))\n",
    "print(alltxts[0])\n",
    "print(alllabs[0])\n",
    "print(alltxts[-1])\n",
    "print(alllabs[-1])"
   ]
  },
  {
   "cell_type": "code",
   "execution_count": 5,
   "metadata": {},
   "outputs": [],
   "source": [
    "# def load_movies(path2data): # 1 classe par répertoire\n",
    "#     alltxts = [] # init vide\n",
    "#     labs = []\n",
    "#     cpt = 0\n",
    "#     for cl in os.listdir(path2data): # parcours des fichiers d'un répertoire\n",
    "#         for f in os.listdir(path2data+cl):\n",
    "#             txt = open(path2data+cl+'/'+f).read()\n",
    "#             alltxts.append(txt)\n",
    "#             labs.append(cpt)\n",
    "#         cpt+=1 # chg répertoire = cht classe\n",
    "#     return alltxts,labs"
   ]
  },
  {
   "cell_type": "code",
   "execution_count": 6,
   "metadata": {},
   "outputs": [],
   "source": [
    "# path = \"movies1000/\"\n",
    "\n",
    "# alltxts,alllabs = load_movies(path)"
   ]
  },
  {
   "cell_type": "code",
   "execution_count": 7,
   "metadata": {},
   "outputs": [],
   "source": [
    "# print(len(alltxts),len(alllabs))\n",
    "# print(alltxts[0])\n",
    "# print(alllabs[0])\n",
    "# print(alltxts[-1])\n",
    "# print(alllabs[-1])"
   ]
  },
  {
   "cell_type": "markdown",
   "metadata": {},
   "source": [
    "# Transformation paramétrique du texte\n",
    "\n",
    "Vous devez tester, par exemple, les cas suivants:\n",
    "- transformation en minuscule ou pas\n",
    "- suppression de la ponctuation\n",
    "- transformation des mots entièrement en majuscule en marqueurs spécifiques\n",
    "- suppression des chiffres ou pas\n",
    "- conservation d'une partie du texte seulement (seulement la première ligne = titre, seulement la dernière ligne = résumé, ...)\n",
    "- stemming\n",
    "- ...\n",
    "\n",
    "\n",
    "Vérifier systématiquement sur un exemple ou deux le bon fonctionnement des méthodes sur deux documents (au moins un de chaque classe)."
   ]
  },
  {
   "cell_type": "code",
   "execution_count": 8,
   "metadata": {},
   "outputs": [],
   "source": [
    "# import string\n",
    "# import re\n",
    "# import unicodedata\n",
    "# import nltk\n",
    "# from nltk.corpus import stopwords\n",
    "# from nltk.stem import *\n",
    "# from nltk.stem.snowball import SnowballStemmer\n",
    "\n",
    "# def preprocessing(X):\n",
    "#     res = []\n",
    "#     for doc in X:\n",
    "#         punc = string.punctuation  # recupération de la ponctuation\n",
    "#         punc += '\\n\\r\\t'\n",
    "#         doc = doc.translate(str.maketrans(punc, ' ' * len(punc)))\n",
    "#         doc = unicodedata.normalize('NFD', doc).encode('ascii', 'ignore').decode(\"utf-8\")\n",
    "#         doc = doc.lower()\n",
    "#         doc = re.sub('[0-9]+', '', doc)\n",
    "#         res.append(doc)\n",
    "#     return np.array(res)\n",
    "\n",
    "# def formal(X):\n",
    "#     stemmer = SnowballStemmer(language='french')\n",
    "# #     nltk.download('stopwords')\n",
    "#     res = []\n",
    "#     stop = stopwords.words('french')\n",
    "#     for doc in X:\n",
    "#         new_doc = \"\"\n",
    "#         for w in doc.split():\n",
    "#             if w not in stop:\n",
    "#                 new_doc += w + \" \"\n",
    "#         new_doc = [stemmer.stem(X) for X in new_doc.split()]\n",
    "#         new_doc = \" \".join(new_doc)\n",
    "#         res.append(new_doc)\n",
    "#     return res"
   ]
  },
  {
   "cell_type": "code",
   "execution_count": 9,
   "metadata": {},
   "outputs": [],
   "source": [
    "# X = np.array(alltxts[:1000])\n",
    "# Y = np.array(alllabs[:1000])\n",
    "        \n",
    "# print(X[0])\n",
    "# X_preprocess = preprocessing(X)\n",
    "# print(X_preprocess[0])\n",
    "# X_train = formal(X_preprocess)\n",
    "# print(\"\\n\",X_train[0])"
   ]
  },
  {
   "cell_type": "markdown",
   "metadata": {},
   "source": [
    "# Extraction du vocabulaire\n",
    "\n",
    "Exploration préliminaire des jeux de données.\n",
    "\n",
    "- Quelle est la taille d'origine du vocabulaire?\n",
    "- Que reste-t-il si on ne garde que les 100 mots les plus fréquents? [word cloud]\n",
    "- Quels sont les 100 mots dont la fréquence documentaire est la plus grande? [word cloud]\n",
    "- Quels sont les 100 mots les plus discriminants au sens de odds ratio? [word cloud]\n",
    "- Quelle est la distribution d'apparition des mots (Zipf)\n",
    "- Quels sont les 100 bigrammes/trigrammes les plus fréquents?\n"
   ]
  },
  {
   "cell_type": "code",
   "execution_count": 10,
   "metadata": {},
   "outputs": [],
   "source": [
    "# from wordcloud import WordCloud\n",
    "# from sklearn.feature_extraction.text import CountVectorizer\n",
    "\n",
    "# print(X.shape)\n",
    "# print(Y.shape)\n",
    "\n",
    "# def flatten(A):\n",
    "#     rt = []\n",
    "#     for i in A:\n",
    "#         if isinstance(i,list): \n",
    "#             rt.extend(flatten(i))\n",
    "#         else: \n",
    "#             rt.append(i)\n",
    "#     return rt\n",
    "\n",
    "# words = \"\".join(flatten(X))\n",
    "# wordcloud = WordCloud(background_color='white', max_words=100).generate(words)\n",
    "# plt.imshow(wordcloud)\n",
    "# plt.axis(\"off\")\n",
    "# plt.show()\n",
    "\n",
    "# vectorizer = CountVectorizer()\n",
    "# vector = vectorizer.fit_transform(X).toarray()\n",
    "# names = vectorizer.get_feature_names()\n",
    "# print(vector.shape)\n",
    "# n, m = vector.shape\n",
    "# vector = np.where(vector == 0, 0, 1)\n",
    "# sums = vector.sum(axis=0)\n",
    "# res = np.sort(sums)[sums.size-100:]\n",
    "# print(res)\n",
    "# words = \"\".join(flatten(X))\n",
    "# wordcloud = WordCloud(background_color='white', max_words=100).generate(words)\n",
    "# plt.imshow(wordcloud)\n",
    "# plt.axis(\"off\")\n",
    "# plt.show()"
   ]
  },
  {
   "cell_type": "code",
   "execution_count": 11,
   "metadata": {},
   "outputs": [],
   "source": [
    "# words = \"\".join(flatten(X_preprocess[:1000]))\n",
    "# unique_words, count = np.unique(words.split(), return_counts=True)"
   ]
  },
  {
   "cell_type": "code",
   "execution_count": 12,
   "metadata": {},
   "outputs": [],
   "source": [
    "# plt.hist(count, bins='auto')\n",
    "# plt.show()"
   ]
  },
  {
   "cell_type": "markdown",
   "metadata": {},
   "source": [
    "Question qui devient de plus en plus intéressante avec les approches modernes:\n",
    "est-il possible d'extraire des tri-grammes de lettres pour représenter nos documents?\n",
    "\n",
    "Quelle performances attendrent? Quels sont les avantages et les inconvénients d'une telle approche?"
   ]
  },
  {
   "cell_type": "code",
   "execution_count": 13,
   "metadata": {},
   "outputs": [],
   "source": [
    "# On peut le faire assez facilemment avec sklearn\n",
    "# Cela donne plus de contexte a nos mots mais les probabilites de tri-grammes vont etre tres faible"
   ]
  },
  {
   "cell_type": "markdown",
   "metadata": {},
   "source": [
    "# Modèles de Machine Learning\n",
    "\n",
    "Avant de lancer de grandes expériences, il faut se construire une base de travail solide en étudiant les questions suivantes:\n",
    "\n",
    "- Combien de temps ça prend d'apprendre un classifieur NB/SVM/RegLog sur ces données en fonction de la taille du vocabulaire?\n",
    "- La validation croisée est-elle nécessaire? Est ce qu'on obtient les mêmes résultats avec un simple *split*?\n",
    "- La validation croisée est-elle stable? A partir de combien de fold (travailler avec différentes graines aléatoires et faire des statistiques basiques)?"
   ]
  },
  {
   "cell_type": "code",
   "execution_count": 14,
   "metadata": {},
   "outputs": [],
   "source": [
    "# Cela prend beaucoup de temps avec des donnees textuels car nous avons un grand nombre de variable\n",
    "# Cela depend fortement de la taille du vocabulaire\n",
    "# La validation est tres pratique car on train nos modeles sur toutes les donnes contrairement au split\n",
    "# Ici on utlise le split car bien plus rapide, on pourra envisager la validation croisee quand on aura deja fait un choix au niveau des modeles"
   ]
  },
  {
   "cell_type": "markdown",
   "metadata": {},
   "source": [
    "## Première campagne d'expériences\n",
    "\n",
    "Les techniques sur lesquelles nous travaillons étant sujettes au sur-apprentissage: trouver le paramètre de régularisation dans la documentation et optimiser ce paramètre au sens de la métrique qui vous semble la plus appropriée (cf question précédente)."
   ]
  },
  {
   "cell_type": "markdown",
   "metadata": {},
   "source": [
    "- IL FAUT FAIRE PLEIN DE VARIABLE X_train1 X_train2 ... AVEC DES DONNES EN UTILISANT CountVectorizer() (ngram, preprocess, mindf, maxdf etc...)\n",
    "- COMPRENDRE LESQUELS SONT LES PLUS IMPORTANTS (mindf, maxdf)\n",
    "- PUIS APRES IL FAUT EQUILIBRER LES CLASSES\n",
    "- PUIS OPTIMISER LES MODELES\n",
    "- PUIS TESTER LES MODELES ET LES COMPARER\n",
    "- FAIRE DES COURBES PLT POUR MONTRER QU'ON A TROUVER LE MODEL OPTIMAL (mindf/test_acc)"
   ]
  },
  {
   "cell_type": "code",
   "execution_count": 15,
   "metadata": {},
   "outputs": [],
   "source": [
    "import sklearn.naive_bayes as nb\n",
    "from sklearn import svm\n",
    "from sklearn import linear_model as lin\n",
    "from sklearn.model_selection import train_test_split\n",
    "import string\n",
    "import re\n",
    "import unicodedata\n",
    "import nltk\n",
    "from nltk.corpus import stopwords\n",
    "from nltk.stem.snowball import SnowballStemmer\n",
    "from sklearn.feature_extraction.text import CountVectorizer"
   ]
  },
  {
   "cell_type": "markdown",
   "metadata": {},
   "source": [
    "## Fonction pour le traitement de donnees"
   ]
  },
  {
   "cell_type": "code",
   "execution_count": 16,
   "metadata": {},
   "outputs": [],
   "source": [
    "def preprocessing(X):\n",
    "    res = []\n",
    "    punc = string.punctuation  \n",
    "    punc += '\\n\\r\\t'\n",
    "    for doc in X:    \n",
    "        doc = doc.translate(str.maketrans(punc, ' ' * len(punc)))\n",
    "        doc = unicodedata.normalize('NFD', doc).encode('ascii', 'ignore').decode(\"utf-8\")\n",
    "        doc = doc.lower()\n",
    "        doc = re.sub('[0-9]+', '', doc)\n",
    "        res.append(doc)\n",
    "    return np.array(res)\n",
    "\n",
    "def formal(X):\n",
    "    stemmer = SnowballStemmer(language='french')\n",
    "#     nltk.download('stopwords')\n",
    "    res = []\n",
    "    stop = stopwords.words('french')\n",
    "    for doc in X:\n",
    "        new_doc = \"\"\n",
    "        for w in doc.split():\n",
    "            if w not in stop:\n",
    "                new_doc += w + \" \"\n",
    "        new_doc = [stemmer.stem(X) for X in new_doc.split()]\n",
    "        new_doc = \" \".join(new_doc)\n",
    "        res.append(new_doc)\n",
    "    return res"
   ]
  },
  {
   "cell_type": "markdown",
   "metadata": {},
   "source": [
    "## Importation des deux fichiers contenant les donnees"
   ]
  },
  {
   "cell_type": "code",
   "execution_count": 17,
   "metadata": {},
   "outputs": [],
   "source": [
    "fname = \"corpus.tache1.learn.utf8\"\n",
    "alltxts_test, alllabs_test = load_pres(fname)\n",
    "X = np.array(alltxts)\n",
    "Y = np.array(alllabs)\n",
    "\n",
    "fname_test = \"corpus.tache1.test.utf8\"\n",
    "alltxts_test, alllabs_test = load_pres(fname_test)\n",
    "X_test = np.array(alltxts_test)\n",
    "Y_test = np.array(alllabs_test)"
   ]
  },
  {
   "cell_type": "markdown",
   "metadata": {},
   "source": [
    "## Fonctions permettant de faire notre selection de modele suivant les données"
   ]
  },
  {
   "cell_type": "code",
   "execution_count": 18,
   "metadata": {},
   "outputs": [],
   "source": [
    "def train_models_and_get_acc(X_train, X_test, Y_train, Y_test):\n",
    "    print(\"--> SVC reg=1.0 :\")\n",
    "    clf = svm.LinearSVC(class_weight=\"balanced\", C=1.0)\n",
    "    clf.fit(X_train, Y_train) \n",
    "    acc = np.round(clf.score(X_test, Y_test)*100, 2)\n",
    "    print(\"Acc : \", acc, \" %\")\n",
    "    \n",
    "    print(\"--> SVC reg=0.8 :\")\n",
    "    clf = svm.LinearSVC(class_weight=\"balanced\", C=0.8)\n",
    "    clf.fit(X_train, Y_train) \n",
    "    acc = np.round(clf.score(X_test, Y_test)*100, 2)\n",
    "    print(\"Acc : \", acc, \" %\")\n",
    "    \n",
    "    print(\"--> SVC reg=0.6 :\")\n",
    "    clf = svm.LinearSVC(class_weight=\"balanced\", C=0.6)\n",
    "    clf.fit(X_train, Y_train) \n",
    "    acc = np.round(clf.score(X_test, Y_test)*100, 2)\n",
    "    print(\"Acc : \", acc, \" %\")\n",
    "    \n",
    "#     print(\"--> NB :\")\n",
    "#     clf = nb.MultinomialNB()\n",
    "#     clf.fit(X_train, Y_train)\n",
    "#     acc = np.round(clf.score(X_test, Y_test)*100, 2)\n",
    "#     print(\"Acc : \", acc, \" %\")\n",
    "    \n",
    "#     print(\"--> LR :\")\n",
    "#     clf = lin.LogisticRegression(class_weight=\"balanced\")\n",
    "#     clf.fit(X_train, Y_train)\n",
    "#     acc = np.round(clf.score(X_test, Y_test)*100, 2)\n",
    "#     print(\"Acc : \", acc, \" %\")\n",
    "    \n",
    "    # Check le nombre de predictions pour chaque label\n",
    "    predictions = clf.predict(X_test)\n",
    "    unique, counts = np.unique(predictions, return_counts=True)\n",
    "    print(\"/!\\ Check counts for label \", unique, \" --> \", counts)\n",
    "    \n",
    "    # Check la precision du label en inferiorite\n",
    "    acc = get_inf_acc(predictions, Y_test)\n",
    "    print(\"/!\\ Accuracy of inferior label :\", acc, \"%\")\n",
    "    \n",
    "    # Check la precision du label en superiorite\n",
    "    acc = get_sup_acc(predictions, Y_test)\n",
    "    print(\"/!\\ Accuracy of superior label :\", acc, \"%\\n\")"
   ]
  },
  {
   "cell_type": "code",
   "execution_count": 19,
   "metadata": {},
   "outputs": [],
   "source": [
    "def get_inf_acc(predictions, Y_test):\n",
    "    idx_inf = np.where(predictions==-1, True, False)\n",
    "    tmp_pred = predictions[idx_inf]\n",
    "    tmp_real = Y_test[idx_inf]\n",
    "    cpt = 0\n",
    "    for i in range(len(tmp_pred)):\n",
    "        if tmp_pred[i] == tmp_real[i]:\n",
    "            cpt += 1\n",
    "    return np.round((cpt/len(tmp_pred))*100, 2)\n",
    "\n",
    "def get_sup_acc(predictions, Y_test):\n",
    "    idx_inf = np.where(predictions==1, True, False)\n",
    "    tmp_pred = predictions[idx_inf]\n",
    "    tmp_real = Y_test[idx_inf]\n",
    "    cpt = 0\n",
    "    for i in range(len(tmp_pred)):\n",
    "        if tmp_pred[i] == tmp_real[i]:\n",
    "            cpt += 1\n",
    "    return np.round((cpt/len(tmp_pred))*100, 2)"
   ]
  },
  {
   "cell_type": "code",
   "execution_count": 20,
   "metadata": {},
   "outputs": [],
   "source": [
    "def get_all_data_vectorized(X, X_test, Y, Y_test, vectorizer):\n",
    "    X_vector = vectorizer.fit_transform(X)\n",
    "    X_train_vector, X_valid_vector, Y_train, Y_valid = train_test_split(X_vector, Y, test_size=0.2, random_state=42)\n",
    "    X_test_vector = vectorizer.transform(X_test)\n",
    "    return X_train_vector, X_valid_vector, X_test_vector, Y_train, Y_valid, Y_test"
   ]
  },
  {
   "cell_type": "code",
   "execution_count": 21,
   "metadata": {},
   "outputs": [],
   "source": [
    "database_models_name = [\"vanilla\", \"ngram22\", \"maxfeat500\", \"stopwords\", \"min2\", \"min3\", \"min4\", \"max0.9\", \"max0.8\", \"max0.7\", \"min3_max0.7\", \"ngram22_maxfeat500\"]"
   ]
  },
  {
   "cell_type": "code",
   "execution_count": 22,
   "metadata": {},
   "outputs": [],
   "source": [
    "def build_database(X, X_test, Y, Y_test):\n",
    "    database = []\n",
    "\n",
    "    vectorizer = CountVectorizer()\n",
    "    X_train_vector, X_valid_vector, Y_test_vector, Y_train, Y_valid, Y_test = get_all_data_vectorized(X, X_test, Y, Y_test, vectorizer)\n",
    "    database.append([X_train_vector, X_valid_vector, Y_test_vector, Y_train, Y_valid, Y_test])\n",
    "    \n",
    "    vectorizer = CountVectorizer(ngram_range=(2, 2))\n",
    "    X_train_vector, X_valid_vector, Y_test_vector, Y_train, Y_valid, Y_test = get_all_data_vectorized(X, X_test, Y, Y_test, vectorizer)\n",
    "    database.append([X_train_vector, X_valid_vector, Y_test_vector, Y_train, Y_valid, Y_test])\n",
    "    \n",
    "    vectorizer = CountVectorizer(max_features=500)\n",
    "    X_train_vector, X_valid_vector, Y_test_vector, Y_train, Y_valid, Y_test = get_all_data_vectorized(X, X_test, Y, Y_test, vectorizer)\n",
    "    database.append([X_train_vector, X_valid_vector, Y_test_vector, Y_train, Y_valid, Y_test])\n",
    "    \n",
    "    stop = stopwords.words('french')\n",
    "    vectorizer = CountVectorizer(stop_words=stop)\n",
    "    X_train_vector, X_valid_vector, Y_test_vector, Y_train, Y_valid, Y_test = get_all_data_vectorized(X, X_test, Y, Y_test, vectorizer)\n",
    "    database.append([X_train_vector, X_valid_vector, Y_test_vector, Y_train, Y_valid, Y_test])\n",
    "    \n",
    "    vectorizer = CountVectorizer(min_df=2)\n",
    "    X_train_vector, X_valid_vector, Y_test_vector, Y_train, Y_valid, Y_test = get_all_data_vectorized(X, X_test, Y, Y_test, vectorizer)\n",
    "    database.append([X_train_vector, X_valid_vector, Y_test_vector, Y_train, Y_valid, Y_test])\n",
    "    vectorizer = CountVectorizer(min_df=3)\n",
    "    X_train_vector, X_valid_vector, Y_test_vector, Y_train, Y_valid, Y_test = get_all_data_vectorized(X, X_test, Y, Y_test, vectorizer)\n",
    "    database.append([X_train_vector, X_valid_vector, Y_test_vector, Y_train, Y_valid, Y_test])\n",
    "    vectorizer = CountVectorizer(min_df=4)\n",
    "    X_train_vector, X_valid_vector, Y_test_vector, Y_train, Y_valid, Y_test = get_all_data_vectorized(X, X_test, Y, Y_test, vectorizer)\n",
    "    database.append([X_train_vector, X_valid_vector, Y_test_vector, Y_train, Y_valid, Y_test])\n",
    "    \n",
    "    vectorizer = CountVectorizer(max_df=0.9)\n",
    "    X_train_vector, X_valid_vector, Y_test_vector, Y_train, Y_valid, Y_test = get_all_data_vectorized(X, X_test, Y, Y_test, vectorizer)\n",
    "    database.append([X_train_vector, X_valid_vector, Y_test_vector, Y_train, Y_valid, Y_test])\n",
    "    vectorizer = CountVectorizer(max_df=0.8)\n",
    "    X_train_vector, X_valid_vector, Y_test_vector, Y_train, Y_valid, Y_test = get_all_data_vectorized(X, X_test, Y, Y_test, vectorizer)\n",
    "    database.append([X_train_vector, X_valid_vector, Y_test_vector, Y_train, Y_valid, Y_test])\n",
    "    vectorizer = CountVectorizer(max_df=0.7)\n",
    "    X_train_vector, X_valid_vector, Y_test_vector, Y_train, Y_valid, Y_test = get_all_data_vectorized(X, X_test, Y, Y_test, vectorizer)\n",
    "    database.append([X_train_vector, X_valid_vector, Y_test_vector, Y_train, Y_valid, Y_test])\n",
    "    \n",
    "    vectorizer = CountVectorizer(max_df=0.7, min_df=3)\n",
    "    X_train_vector, X_valid_vector, Y_test_vector, Y_train, Y_valid, Y_test = get_all_data_vectorized(X, X_test, Y, Y_test, vectorizer)\n",
    "    database.append([X_train_vector, X_valid_vector, Y_test_vector, Y_train, Y_valid, Y_test])\n",
    "\n",
    "    vectorizer = CountVectorizer(ngram_range=(2, 2), max_features=500)\n",
    "    X_train_vector, X_valid_vector, Y_test_vector, Y_train, Y_valid, Y_test = get_all_data_vectorized(X, X_test, Y, Y_test, vectorizer)\n",
    "    database.append([X_train_vector, X_valid_vector, Y_test_vector, Y_train, Y_valid, Y_test])\n",
    "    \n",
    "    return np.array(database)"
   ]
  },
  {
   "cell_type": "code",
   "execution_count": 23,
   "metadata": {},
   "outputs": [],
   "source": [
    "def simulation(db):\n",
    "    for cpt, element in enumerate(db):\n",
    "        print(\"---------------- Testing model : \", database_models_name[cpt], \" ----------------\")\n",
    "        X_train, X_valid, X_test, Y_train, Y_valid, Y_test = element\n",
    "        train_models_and_get_acc(X_train, X_test, Y_train, Y_test)\n",
    "    return 0"
   ]
  },
  {
   "cell_type": "code",
   "execution_count": 24,
   "metadata": {},
   "outputs": [],
   "source": [
    "import warnings\n",
    "warnings.filterwarnings('ignore')"
   ]
  },
  {
   "cell_type": "code",
   "execution_count": 25,
   "metadata": {},
   "outputs": [],
   "source": [
    "db = build_database(X, X_test, Y, Y_test)"
   ]
  },
  {
   "cell_type": "code",
   "execution_count": 26,
   "metadata": {},
   "outputs": [
    {
     "name": "stdout",
     "output_type": "stream",
     "text": [
      "---------------- Testing model :  vanilla  ----------------\n",
      "--> SVC reg=1.0 :\n",
      "Acc :  74.42  %\n",
      "--> SVC reg=0.8 :\n",
      "Acc :  74.39  %\n",
      "--> SVC reg=0.6 :\n",
      "Acc :  74.39  %\n",
      "/!\\ Check counts for label  [-1  1]  -->  [ 5115 22047]\n",
      "/!\\ Accuracy of inferior label : 10.52 %\n",
      "/!\\ Accuracy of superior label : 89.2 %\n",
      "\n",
      "---------------- Testing model :  ngram22  ----------------\n",
      "--> SVC reg=1.0 :\n",
      "Acc :  82.48  %\n",
      "--> SVC reg=0.8 :\n",
      "Acc :  82.49  %\n",
      "--> SVC reg=0.6 :\n",
      "Acc :  82.49  %\n",
      "/!\\ Check counts for label  [-1  1]  -->  [ 2403 24759]\n",
      "/!\\ Accuracy of inferior label : 11.74 %\n",
      "/!\\ Accuracy of superior label : 89.35 %\n",
      "\n",
      "---------------- Testing model :  maxfeat500  ----------------\n",
      "--> SVC reg=1.0 :\n",
      "Acc :  68.61  %\n",
      "--> SVC reg=0.8 :\n",
      "Acc :  68.62  %\n",
      "--> SVC reg=0.6 :\n",
      "Acc :  68.59  %\n",
      "/!\\ Check counts for label  [-1  1]  -->  [ 7483 19679]\n",
      "/!\\ Accuracy of inferior label : 12.49 %\n",
      "/!\\ Accuracy of superior label : 89.92 %\n",
      "\n",
      "---------------- Testing model :  stopwords  ----------------\n",
      "--> SVC reg=1.0 :\n",
      "Acc :  73.89  %\n",
      "--> SVC reg=0.8 :\n",
      "Acc :  73.85  %\n",
      "--> SVC reg=0.6 :\n",
      "Acc :  73.86  %\n",
      "/!\\ Check counts for label  [-1  1]  -->  [ 5212 21950]\n",
      "/!\\ Accuracy of inferior label : 9.88 %\n",
      "/!\\ Accuracy of superior label : 89.05 %\n",
      "\n",
      "---------------- Testing model :  min2  ----------------\n",
      "--> SVC reg=1.0 :\n",
      "Acc :  73.8  %\n",
      "--> SVC reg=0.8 :\n",
      "Acc :  73.8  %\n",
      "--> SVC reg=0.6 :\n",
      "Acc :  73.68  %\n",
      "/!\\ Check counts for label  [-1  1]  -->  [ 5400 21762]\n",
      "/!\\ Accuracy of inferior label : 10.83 %\n",
      "/!\\ Accuracy of superior label : 89.28 %\n",
      "\n",
      "---------------- Testing model :  min3  ----------------\n",
      "--> SVC reg=1.0 :\n",
      "Acc :  73.28  %\n",
      "--> SVC reg=0.8 :\n",
      "Acc :  73.23  %\n",
      "--> SVC reg=0.6 :\n",
      "Acc :  73.18  %\n",
      "/!\\ Check counts for label  [-1  1]  -->  [ 5544 21618]\n",
      "/!\\ Accuracy of inferior label : 10.62 %\n",
      "/!\\ Accuracy of superior label : 89.23 %\n",
      "\n",
      "---------------- Testing model :  min4  ----------------\n",
      "--> SVC reg=1.0 :\n",
      "Acc :  72.88  %\n",
      "--> SVC reg=0.8 :\n",
      "Acc :  72.86  %\n",
      "--> SVC reg=0.6 :\n",
      "Acc :  72.75  %\n",
      "/!\\ Check counts for label  [-1  1]  -->  [ 5669 21493]\n",
      "/!\\ Accuracy of inferior label : 10.46 %\n",
      "/!\\ Accuracy of superior label : 89.18 %\n",
      "\n",
      "---------------- Testing model :  max0.9  ----------------\n",
      "--> SVC reg=1.0 :\n",
      "Acc :  74.42  %\n",
      "--> SVC reg=0.8 :\n",
      "Acc :  74.4  %\n",
      "--> SVC reg=0.6 :\n",
      "Acc :  74.38  %\n",
      "/!\\ Check counts for label  [-1  1]  -->  [ 5117 22045]\n",
      "/!\\ Accuracy of inferior label : 10.51 %\n",
      "/!\\ Accuracy of superior label : 89.2 %\n",
      "\n",
      "---------------- Testing model :  max0.8  ----------------\n",
      "--> SVC reg=1.0 :\n",
      "Acc :  74.43  %\n",
      "--> SVC reg=0.8 :\n",
      "Acc :  74.39  %\n",
      "--> SVC reg=0.6 :\n",
      "Acc :  74.38  %\n",
      "/!\\ Check counts for label  [-1  1]  -->  [ 5116 22046]\n",
      "/!\\ Accuracy of inferior label : 10.52 %\n",
      "/!\\ Accuracy of superior label : 89.2 %\n",
      "\n",
      "---------------- Testing model :  max0.7  ----------------\n",
      "--> SVC reg=1.0 :\n",
      "Acc :  74.42  %\n",
      "--> SVC reg=0.8 :\n",
      "Acc :  74.39  %\n",
      "--> SVC reg=0.6 :\n",
      "Acc :  74.39  %\n",
      "/!\\ Check counts for label  [-1  1]  -->  [ 5114 22048]\n",
      "/!\\ Accuracy of inferior label : 10.52 %\n",
      "/!\\ Accuracy of superior label : 89.21 %\n",
      "\n",
      "---------------- Testing model :  min3_max0.7  ----------------\n",
      "--> SVC reg=1.0 :\n",
      "Acc :  73.28  %\n",
      "--> SVC reg=0.8 :\n",
      "Acc :  73.23  %\n",
      "--> SVC reg=0.6 :\n",
      "Acc :  73.18  %\n",
      "/!\\ Check counts for label  [-1  1]  -->  [ 5550 21612]\n",
      "/!\\ Accuracy of inferior label : 10.65 %\n",
      "/!\\ Accuracy of superior label : 89.23 %\n",
      "\n",
      "---------------- Testing model :  ngram22_maxfeat500  ----------------\n",
      "--> SVC reg=1.0 :\n",
      "Acc :  66.23  %\n",
      "--> SVC reg=0.8 :\n",
      "Acc :  66.23  %\n",
      "--> SVC reg=0.6 :\n",
      "Acc :  66.25  %\n",
      "/!\\ Check counts for label  [-1  1]  -->  [ 8059 19103]\n",
      "/!\\ Accuracy of inferior label : 11.23 %\n",
      "/!\\ Accuracy of superior label : 89.46 %\n",
      "\n"
     ]
    },
    {
     "data": {
      "text/plain": [
       "0"
      ]
     },
     "execution_count": 26,
     "metadata": {},
     "output_type": "execute_result"
    }
   ],
   "source": [
    "simulation(db)"
   ]
  },
  {
   "cell_type": "markdown",
   "metadata": {},
   "source": [
    "## Equilibrage des données\n",
    "\n",
    "Un problème reconnu comme dur dans la communauté est celui de l'équilibrage des classes (*balance* en anglais). Que faire si les données sont à 80, 90 ou 99% dans une des classes?\n",
    "Le problème est dur mais fréquent; les solutions sont multiples mais on peut isoler 3 grandes familles de solution.\n",
    "\n",
    "1. Ré-équilibrer le jeu de données: supprimer des données dans la classe majoritaire et/ou sur-échantilloner la classe minoritaire.<BR>\n",
    "   $\\Rightarrow$ A vous de jouer pour cette technique\n",
    "1. Changer la formulation de la fonction de coût pour pénaliser plus les erreurs dans la classe minoritaire:\n",
    "soit une fonction $\\Delta$ mesurant les écarts entre $f(x_i)$ et $y_i$ \n",
    "$$C = \\sum_i  \\alpha_i \\Delta(f(x_i),y_i), \\qquad \\alpha_i = \\left\\{\n",
    "\\begin{array}{ll}\n",
    "1 & \\mbox{si } y_i \\in \\mbox{classe majoritaire}\\\\\n",
    "B>1 & \\mbox{si } y_i \\in \\mbox{classe minoritaire}\\\\\n",
    "\\end{array} \\right.$$\n",
    "<BR>\n",
    "   $\\Rightarrow$ Les SVM et d'autres approches sklearn possèdent des arguments pour régler $B$ ou $1/B$... Ces arguments sont utiles mais pas toujours suffisant.\n",
    "1. Courbe ROC et modification du biais. Une fois la fonction $\\hat y = f(x)$ apprise, il est possible de la *bidouiller* a posteriori: si toutes les prédictions $\\hat y$ sont dans une classe, on va introduire $b$ dans $\\hat y = f(x) + b$ et le faire varier jusqu'à ce qu'un des points change de classe. On peut ensuite aller de plus en plus loin.\n",
    "Le calcul de l'ensemble des scores associés à cette approche mène directement à la courbe ROC.\n",
    "\n",
    "**Note:** certains classifieurs sont intrinsèquement plus résistante au problème d'équilibrage, c'est par exemple le cas des techniques de gradient boosting que vous verrez l'an prochain."
   ]
  },
  {
   "cell_type": "code",
   "execution_count": null,
   "metadata": {},
   "outputs": [],
   "source": []
  },
  {
   "cell_type": "code",
   "execution_count": null,
   "metadata": {},
   "outputs": [],
   "source": []
  }
 ],
 "metadata": {
  "kernelspec": {
   "display_name": "Python 3 (ipykernel)",
   "language": "python",
   "name": "python3"
  },
  "language_info": {
   "codemirror_mode": {
    "name": "ipython",
    "version": 3
   },
   "file_extension": ".py",
   "mimetype": "text/x-python",
   "name": "python",
   "nbconvert_exporter": "python",
   "pygments_lexer": "ipython3",
   "version": "3.8.12"
  }
 },
 "nbformat": 4,
 "nbformat_minor": 4
}
