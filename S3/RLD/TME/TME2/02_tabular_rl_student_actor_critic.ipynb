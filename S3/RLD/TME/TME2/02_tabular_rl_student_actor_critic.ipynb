{
  "nbformat": 4,
  "nbformat_minor": 0,
  "metadata": {
    "colab": {
      "provenance": [],
      "collapsed_sections": []
    },
    "kernelspec": {
      "name": "python3",
      "display_name": "Python 3"
    },
    "language_info": {
      "name": "python"
    },
    "widgets": {
      "application/vnd.jupyter.widget-state+json": {
        "9206d372a1a34bc0ab51bd0d8affb954": {
          "model_module": "@jupyter-widgets/output",
          "model_name": "OutputModel",
          "model_module_version": "1.0.0",
          "state": {
            "_dom_classes": [],
            "_model_module": "@jupyter-widgets/output",
            "_model_module_version": "1.0.0",
            "_model_name": "OutputModel",
            "_view_count": null,
            "_view_module": "@jupyter-widgets/output",
            "_view_module_version": "1.0.0",
            "_view_name": "OutputView",
            "layout": "IPY_MODEL_1dd2f62d6aa246849af420c2fc92b73a",
            "msg_id": "",
            "outputs": [
              {
                "output_type": "display_data",
                "data": {
                  "image/png": "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\n",
                  "text/plain": "<IPython.core.display.Image object>"
                },
                "metadata": {}
              }
            ]
          }
        },
        "1dd2f62d6aa246849af420c2fc92b73a": {
          "model_module": "@jupyter-widgets/base",
          "model_name": "LayoutModel",
          "model_module_version": "1.2.0",
          "state": {
            "_model_module": "@jupyter-widgets/base",
            "_model_module_version": "1.2.0",
            "_model_name": "LayoutModel",
            "_view_count": null,
            "_view_module": "@jupyter-widgets/base",
            "_view_module_version": "1.2.0",
            "_view_name": "LayoutView",
            "align_content": null,
            "align_items": null,
            "align_self": null,
            "border": null,
            "bottom": null,
            "display": null,
            "flex": null,
            "flex_flow": null,
            "grid_area": null,
            "grid_auto_columns": null,
            "grid_auto_flow": null,
            "grid_auto_rows": null,
            "grid_column": null,
            "grid_gap": null,
            "grid_row": null,
            "grid_template_areas": null,
            "grid_template_columns": null,
            "grid_template_rows": null,
            "height": null,
            "justify_content": null,
            "justify_items": null,
            "left": null,
            "margin": null,
            "max_height": null,
            "max_width": null,
            "min_height": null,
            "min_width": null,
            "object_fit": null,
            "object_position": null,
            "order": null,
            "overflow": null,
            "overflow_x": null,
            "overflow_y": null,
            "padding": null,
            "right": null,
            "top": null,
            "visibility": null,
            "width": null
          }
        },
        "23507cdff4f3409aa1f920411fc66173": {
          "model_module": "@jupyter-widgets/controls",
          "model_name": "HBoxModel",
          "model_module_version": "1.5.0",
          "state": {
            "_dom_classes": [],
            "_model_module": "@jupyter-widgets/controls",
            "_model_module_version": "1.5.0",
            "_model_name": "HBoxModel",
            "_view_count": null,
            "_view_module": "@jupyter-widgets/controls",
            "_view_module_version": "1.5.0",
            "_view_name": "HBoxView",
            "box_style": "",
            "children": [
              "IPY_MODEL_69dc97e6179b4029ae2e12f38d1f6fbe",
              "IPY_MODEL_530fd8fa0cf145508d8f19bbcd2fc568",
              "IPY_MODEL_271bf86d12434f84aa816a0a7aad4235"
            ],
            "layout": "IPY_MODEL_e5f4b2ca9dd24489a89001370e3fc1b1"
          }
        },
        "69dc97e6179b4029ae2e12f38d1f6fbe": {
          "model_module": "@jupyter-widgets/controls",
          "model_name": "HTMLModel",
          "model_module_version": "1.5.0",
          "state": {
            "_dom_classes": [],
            "_model_module": "@jupyter-widgets/controls",
            "_model_module_version": "1.5.0",
            "_model_name": "HTMLModel",
            "_view_count": null,
            "_view_module": "@jupyter-widgets/controls",
            "_view_module_version": "1.5.0",
            "_view_name": "HTMLView",
            "description": "",
            "description_tooltip": null,
            "layout": "IPY_MODEL_64f551e406e249bbbc3254020087f20c",
            "placeholder": "​",
            "style": "IPY_MODEL_bb7c618150734e87a5b8f61368e7288a",
            "value": "  8%"
          }
        },
        "530fd8fa0cf145508d8f19bbcd2fc568": {
          "model_module": "@jupyter-widgets/controls",
          "model_name": "FloatProgressModel",
          "model_module_version": "1.5.0",
          "state": {
            "_dom_classes": [],
            "_model_module": "@jupyter-widgets/controls",
            "_model_module_version": "1.5.0",
            "_model_name": "FloatProgressModel",
            "_view_count": null,
            "_view_module": "@jupyter-widgets/controls",
            "_view_module_version": "1.5.0",
            "_view_name": "ProgressView",
            "bar_style": "",
            "description": "",
            "description_tooltip": null,
            "layout": "IPY_MODEL_79437be98ef2410c98cc63704d7d8c7d",
            "max": 38,
            "min": 0,
            "orientation": "horizontal",
            "style": "IPY_MODEL_535d6268f5974449883fc98c6fa344d8",
            "value": 3
          }
        },
        "271bf86d12434f84aa816a0a7aad4235": {
          "model_module": "@jupyter-widgets/controls",
          "model_name": "HTMLModel",
          "model_module_version": "1.5.0",
          "state": {
            "_dom_classes": [],
            "_model_module": "@jupyter-widgets/controls",
            "_model_module_version": "1.5.0",
            "_model_name": "HTMLModel",
            "_view_count": null,
            "_view_module": "@jupyter-widgets/controls",
            "_view_module_version": "1.5.0",
            "_view_name": "HTMLView",
            "description": "",
            "description_tooltip": null,
            "layout": "IPY_MODEL_85192c7d3fd445f29a7170a326ca6321",
            "placeholder": "​",
            "style": "IPY_MODEL_cec65e2edd99462896e2e8488461133e",
            "value": " 3/38 [02:30&lt;29:07, 49.92s/it]"
          }
        },
        "e5f4b2ca9dd24489a89001370e3fc1b1": {
          "model_module": "@jupyter-widgets/base",
          "model_name": "LayoutModel",
          "model_module_version": "1.2.0",
          "state": {
            "_model_module": "@jupyter-widgets/base",
            "_model_module_version": "1.2.0",
            "_model_name": "LayoutModel",
            "_view_count": null,
            "_view_module": "@jupyter-widgets/base",
            "_view_module_version": "1.2.0",
            "_view_name": "LayoutView",
            "align_content": null,
            "align_items": null,
            "align_self": null,
            "border": null,
            "bottom": null,
            "display": null,
            "flex": null,
            "flex_flow": null,
            "grid_area": null,
            "grid_auto_columns": null,
            "grid_auto_flow": null,
            "grid_auto_rows": null,
            "grid_column": null,
            "grid_gap": null,
            "grid_row": null,
            "grid_template_areas": null,
            "grid_template_columns": null,
            "grid_template_rows": null,
            "height": null,
            "justify_content": null,
            "justify_items": null,
            "left": null,
            "margin": null,
            "max_height": null,
            "max_width": null,
            "min_height": null,
            "min_width": null,
            "object_fit": null,
            "object_position": null,
            "order": null,
            "overflow": null,
            "overflow_x": null,
            "overflow_y": null,
            "padding": null,
            "right": null,
            "top": null,
            "visibility": null,
            "width": null
          }
        },
        "64f551e406e249bbbc3254020087f20c": {
          "model_module": "@jupyter-widgets/base",
          "model_name": "LayoutModel",
          "model_module_version": "1.2.0",
          "state": {
            "_model_module": "@jupyter-widgets/base",
            "_model_module_version": "1.2.0",
            "_model_name": "LayoutModel",
            "_view_count": null,
            "_view_module": "@jupyter-widgets/base",
            "_view_module_version": "1.2.0",
            "_view_name": "LayoutView",
            "align_content": null,
            "align_items": null,
            "align_self": null,
            "border": null,
            "bottom": null,
            "display": null,
            "flex": null,
            "flex_flow": null,
            "grid_area": null,
            "grid_auto_columns": null,
            "grid_auto_flow": null,
            "grid_auto_rows": null,
            "grid_column": null,
            "grid_gap": null,
            "grid_row": null,
            "grid_template_areas": null,
            "grid_template_columns": null,
            "grid_template_rows": null,
            "height": null,
            "justify_content": null,
            "justify_items": null,
            "left": null,
            "margin": null,
            "max_height": null,
            "max_width": null,
            "min_height": null,
            "min_width": null,
            "object_fit": null,
            "object_position": null,
            "order": null,
            "overflow": null,
            "overflow_x": null,
            "overflow_y": null,
            "padding": null,
            "right": null,
            "top": null,
            "visibility": null,
            "width": null
          }
        },
        "bb7c618150734e87a5b8f61368e7288a": {
          "model_module": "@jupyter-widgets/controls",
          "model_name": "DescriptionStyleModel",
          "model_module_version": "1.5.0",
          "state": {
            "_model_module": "@jupyter-widgets/controls",
            "_model_module_version": "1.5.0",
            "_model_name": "DescriptionStyleModel",
            "_view_count": null,
            "_view_module": "@jupyter-widgets/base",
            "_view_module_version": "1.2.0",
            "_view_name": "StyleView",
            "description_width": ""
          }
        },
        "79437be98ef2410c98cc63704d7d8c7d": {
          "model_module": "@jupyter-widgets/base",
          "model_name": "LayoutModel",
          "model_module_version": "1.2.0",
          "state": {
            "_model_module": "@jupyter-widgets/base",
            "_model_module_version": "1.2.0",
            "_model_name": "LayoutModel",
            "_view_count": null,
            "_view_module": "@jupyter-widgets/base",
            "_view_module_version": "1.2.0",
            "_view_name": "LayoutView",
            "align_content": null,
            "align_items": null,
            "align_self": null,
            "border": null,
            "bottom": null,
            "display": null,
            "flex": null,
            "flex_flow": null,
            "grid_area": null,
            "grid_auto_columns": null,
            "grid_auto_flow": null,
            "grid_auto_rows": null,
            "grid_column": null,
            "grid_gap": null,
            "grid_row": null,
            "grid_template_areas": null,
            "grid_template_columns": null,
            "grid_template_rows": null,
            "height": null,
            "justify_content": null,
            "justify_items": null,
            "left": null,
            "margin": null,
            "max_height": null,
            "max_width": null,
            "min_height": null,
            "min_width": null,
            "object_fit": null,
            "object_position": null,
            "order": null,
            "overflow": null,
            "overflow_x": null,
            "overflow_y": null,
            "padding": null,
            "right": null,
            "top": null,
            "visibility": null,
            "width": null
          }
        },
        "535d6268f5974449883fc98c6fa344d8": {
          "model_module": "@jupyter-widgets/controls",
          "model_name": "ProgressStyleModel",
          "model_module_version": "1.5.0",
          "state": {
            "_model_module": "@jupyter-widgets/controls",
            "_model_module_version": "1.5.0",
            "_model_name": "ProgressStyleModel",
            "_view_count": null,
            "_view_module": "@jupyter-widgets/base",
            "_view_module_version": "1.2.0",
            "_view_name": "StyleView",
            "bar_color": null,
            "description_width": ""
          }
        },
        "85192c7d3fd445f29a7170a326ca6321": {
          "model_module": "@jupyter-widgets/base",
          "model_name": "LayoutModel",
          "model_module_version": "1.2.0",
          "state": {
            "_model_module": "@jupyter-widgets/base",
            "_model_module_version": "1.2.0",
            "_model_name": "LayoutModel",
            "_view_count": null,
            "_view_module": "@jupyter-widgets/base",
            "_view_module_version": "1.2.0",
            "_view_name": "LayoutView",
            "align_content": null,
            "align_items": null,
            "align_self": null,
            "border": null,
            "bottom": null,
            "display": null,
            "flex": null,
            "flex_flow": null,
            "grid_area": null,
            "grid_auto_columns": null,
            "grid_auto_flow": null,
            "grid_auto_rows": null,
            "grid_column": null,
            "grid_gap": null,
            "grid_row": null,
            "grid_template_areas": null,
            "grid_template_columns": null,
            "grid_template_rows": null,
            "height": null,
            "justify_content": null,
            "justify_items": null,
            "left": null,
            "margin": null,
            "max_height": null,
            "max_width": null,
            "min_height": null,
            "min_width": null,
            "object_fit": null,
            "object_position": null,
            "order": null,
            "overflow": null,
            "overflow_x": null,
            "overflow_y": null,
            "padding": null,
            "right": null,
            "top": null,
            "visibility": null,
            "width": null
          }
        },
        "cec65e2edd99462896e2e8488461133e": {
          "model_module": "@jupyter-widgets/controls",
          "model_name": "DescriptionStyleModel",
          "model_module_version": "1.5.0",
          "state": {
            "_model_module": "@jupyter-widgets/controls",
            "_model_module_version": "1.5.0",
            "_model_name": "DescriptionStyleModel",
            "_view_count": null,
            "_view_module": "@jupyter-widgets/base",
            "_view_module_version": "1.2.0",
            "_view_name": "StyleView",
            "description_width": ""
          }
        }
      }
    }
  },
  "cells": [
    {
      "cell_type": "code",
      "execution_count": 1,
      "metadata": {
        "colab": {
          "base_uri": "https://localhost:8080/"
        },
        "id": "Ze9xbSgbqjg8",
        "outputId": "97317cbd-9769-4adb-fe48-ce4f830ae366"
      },
      "outputs": [
        {
          "output_type": "stream",
          "name": "stdout",
          "text": [
            "Looking in indexes: https://pypi.org/simple, https://us-python.pkg.dev/colab-wheels/public/simple/\n",
            "Collecting git+https://github.com/osigaud/my_gym\n",
            "  Cloning https://github.com/osigaud/my_gym to /tmp/pip-req-build-vto59goz\n",
            "  Running command git clone -q https://github.com/osigaud/my_gym /tmp/pip-req-build-vto59goz\n",
            "Requirement already satisfied: numpy>=1.19.1 in /usr/local/lib/python3.7/dist-packages (from bbrl-gym==0.1.0) (1.21.6)\n",
            "Collecting gym==0.21.0\n",
            "  Downloading gym-0.21.0.tar.gz (1.5 MB)\n",
            "\u001b[K     |████████████████████████████████| 1.5 MB 22.4 MB/s \n",
            "\u001b[?25hCollecting Box2D\n",
            "  Downloading Box2D-2.3.10-cp37-cp37m-manylinux1_x86_64.whl (1.3 MB)\n",
            "\u001b[K     |████████████████████████████████| 1.3 MB 56.9 MB/s \n",
            "\u001b[?25hCollecting mazemdp>=0.1.1\n",
            "  Downloading mazemdp-0.1.1.tar.gz (15 kB)\n",
            "Requirement already satisfied: cloudpickle>=1.2.0 in /usr/local/lib/python3.7/dist-packages (from gym==0.21.0->bbrl-gym==0.1.0) (1.5.0)\n",
            "Requirement already satisfied: importlib_metadata>=4.8.1 in /usr/local/lib/python3.7/dist-packages (from gym==0.21.0->bbrl-gym==0.1.0) (4.12.0)\n",
            "Requirement already satisfied: typing-extensions>=3.6.4 in /usr/local/lib/python3.7/dist-packages (from importlib_metadata>=4.8.1->gym==0.21.0->bbrl-gym==0.1.0) (4.1.1)\n",
            "Requirement already satisfied: zipp>=0.5 in /usr/local/lib/python3.7/dist-packages (from importlib_metadata>=4.8.1->gym==0.21.0->bbrl-gym==0.1.0) (3.8.1)\n",
            "Requirement already satisfied: matplotlib in /usr/local/lib/python3.7/dist-packages (from mazemdp>=0.1.1->bbrl-gym==0.1.0) (3.2.2)\n",
            "Requirement already satisfied: kiwisolver>=1.0.1 in /usr/local/lib/python3.7/dist-packages (from matplotlib->mazemdp>=0.1.1->bbrl-gym==0.1.0) (1.4.4)\n",
            "Requirement already satisfied: cycler>=0.10 in /usr/local/lib/python3.7/dist-packages (from matplotlib->mazemdp>=0.1.1->bbrl-gym==0.1.0) (0.11.0)\n",
            "Requirement already satisfied: python-dateutil>=2.1 in /usr/local/lib/python3.7/dist-packages (from matplotlib->mazemdp>=0.1.1->bbrl-gym==0.1.0) (2.8.2)\n",
            "Requirement already satisfied: pyparsing!=2.0.4,!=2.1.2,!=2.1.6,>=2.0.1 in /usr/local/lib/python3.7/dist-packages (from matplotlib->mazemdp>=0.1.1->bbrl-gym==0.1.0) (3.0.9)\n",
            "Requirement already satisfied: six>=1.5 in /usr/local/lib/python3.7/dist-packages (from python-dateutil>=2.1->matplotlib->mazemdp>=0.1.1->bbrl-gym==0.1.0) (1.15.0)\n",
            "Building wheels for collected packages: bbrl-gym, gym, mazemdp\n",
            "  Building wheel for bbrl-gym (setup.py) ... \u001b[?25l\u001b[?25hdone\n",
            "  Created wheel for bbrl-gym: filename=bbrl_gym-0.1.0-py3-none-any.whl size=17222 sha256=1eeff05c4bbbdd7075f2574f3001917c42387fcaae45b78df097ba22dd507968\n",
            "  Stored in directory: /tmp/pip-ephem-wheel-cache-mbho3q2f/wheels/0b/2c/67/5df37c12451553731420023ff73d12effcae27a38cc5053550\n",
            "  Building wheel for gym (setup.py) ... \u001b[?25l\u001b[?25hdone\n",
            "  Created wheel for gym: filename=gym-0.21.0-py3-none-any.whl size=1616824 sha256=823773ddbb1d57a61a636d4b88388bdbb01ed8bb052706cb77f85e098156b8c0\n",
            "  Stored in directory: /root/.cache/pip/wheels/76/ee/9c/36bfe3e079df99acf5ae57f4e3464ff2771b34447d6d2f2148\n",
            "  Building wheel for mazemdp (setup.py) ... \u001b[?25l\u001b[?25hdone\n",
            "  Created wheel for mazemdp: filename=mazemdp-0.1.1-py3-none-any.whl size=14721 sha256=f70cca3f9e0685e4a6a7f7e55aa41562d5d6396bfbc20c8c633d1a52d1fcf117\n",
            "  Stored in directory: /root/.cache/pip/wheels/7f/bc/ab/90ec3e74f662c378b422671e88abc734a66f2f7959d550de1a\n",
            "Successfully built bbrl-gym gym mazemdp\n",
            "Installing collected packages: mazemdp, gym, Box2D, bbrl-gym\n",
            "  Attempting uninstall: gym\n",
            "    Found existing installation: gym 0.25.2\n",
            "    Uninstalling gym-0.25.2:\n",
            "      Successfully uninstalled gym-0.25.2\n",
            "Successfully installed Box2D-2.3.10 bbrl-gym-0.1.0 gym-0.21.0 mazemdp-0.1.1\n",
            "Matplotlib backend: module://ipykernel.pylab.backend_inline\n"
          ]
        }
      ],
      "source": [
        "try:\n",
        "    import my_gym\n",
        "except ModuleNotFoundError as e:\n",
        "    !pip install git+https://github.com/osigaud/my_gym\n",
        "\n",
        "import os\n",
        "from typing import Tuple, List\n",
        "\n",
        "import numpy as np\n",
        "import matplotlib.pyplot as plt\n",
        "from tqdm.notebook import tqdm\n",
        "\n",
        "from mazemdp.toolbox import egreedy, egreedy_loc, softmax, discreteProb\n",
        "from mazemdp.maze_plotter import show_videos\n",
        "from mazemdp.mdp import Mdp\n",
        "from my_gym.envs.maze_mdp import MazeMDPEnv\n",
        "\n",
        "import gym\n",
        "import my_gym\n",
        "from IPython.display import Video\n",
        "\n",
        "from mazemdp import random_policy\n",
        "\n",
        "# For visualization\n",
        "os.environ[\"VIDEO_FPS\"] = \"5\"\n",
        "if not os.path.isdir(\"./videos\"):\n",
        "  os.mkdir(\"./videos\")\n",
        "\n",
        "# Settings\n",
        "NB_EPISODES = 50\n",
        "TIMEOUT = 25\n",
        "MAZE_SIZE = 10\n",
        "MAZE_RATIO = 0.2"
      ]
    },
    {
      "cell_type": "code",
      "source": [
        "# Create maze environment\n",
        "env = gym.make(\"MazeMDP-v0\", kwargs={\"width\": MAZE_SIZE, \"height\": MAZE_SIZE, \"ratio\": MAZE_RATIO})\n",
        "env.reset()\n",
        "env.init_draw(\"The maze\")"
      ],
      "metadata": {
        "colab": {
          "base_uri": "https://localhost:8080/",
          "height": 737,
          "referenced_widgets": [
            "9206d372a1a34bc0ab51bd0d8affb954",
            "1dd2f62d6aa246849af420c2fc92b73a"
          ]
        },
        "id": "SWqXBTvFrKjV",
        "outputId": "5d36e77b-a5c1-4fb4-acef-74b9ca880398"
      },
      "execution_count": 2,
      "outputs": [
        {
          "output_type": "display_data",
          "data": {
            "text/plain": [
              "Output()"
            ],
            "application/vnd.jupyter.widget-view+json": {
              "version_major": 2,
              "version_minor": 0,
              "model_id": "9206d372a1a34bc0ab51bd0d8affb954"
            }
          },
          "metadata": {}
        }
      ]
    },
    {
      "cell_type": "code",
      "source": [
        "def get_policy_from_q(q: np.ndarray) -> np.ndarray:\n",
        "    # Outputs a policy given the action values\n",
        "    return np.argmax(q, axis=1)\n",
        "\n",
        "def actor_critic(\n",
        "    mdp: MazeMDPEnv,\n",
        "    nb_episodes:int,\n",
        "    timeout:int,\n",
        "    alpha_critic:float,\n",
        "    alpha_actor:float,\n",
        "    render:bool\n",
        ") -> Tuple[np.ndarray, List[float]]:\n",
        "    # Initialize the state-action value function\n",
        "    # alpha is the learning rate\n",
        "    q = np.ones((mdp.nb_states, mdp.action_space.size)) / mdp.action_space.size\n",
        "    v = np.zeros(mdp.nb_states)\n",
        "    n_update = 0\n",
        "\n",
        "    q0 = np.zeros((mdp.nb_states, mdp.action_space.size))\n",
        "    q_list = []\n",
        "\n",
        "    # Run learning cycle\n",
        "    mdp.timeout = timeout  # episode length\n",
        "\n",
        "    if render:\n",
        "        mdp.init_draw(\"Actor-Critic\")\n",
        "\n",
        "    for _ in range(nb_episodes):\n",
        "        # Draw the first state of episode i using a uniform distribution over all the states\n",
        "        s = mdp.reset(uniform=True)\n",
        "        done = False\n",
        "        while not done:\n",
        "            if render:\n",
        "                # Show the agent in the maze\n",
        "                mdp.draw_v_pi(q, q.argmax(axis=1))\n",
        "\n",
        "            # Draw the max action from q table\n",
        "            a = np.random.choice([\n",
        "                i for i in range(len(q[s,:])) if q[s,i] == np.max(q[s,:])\n",
        "            ])\n",
        "\n",
        "            # Perform a step of the MDP\n",
        "            y, r, done, _ = mdp.step(a)\n",
        "\n",
        "            # Update critic\n",
        "            delta = r + mdp.gamma * (v[y] - v[s])\n",
        "            v[s] += alpha_critic * delta\n",
        "\n",
        "            # Update actor\n",
        "            q[s,a] += alpha_actor * delta\n",
        "\n",
        "            # Normalize q so it's still probabilities\n",
        "            q[s,a] /= np.sum(q[s,])\n",
        "\n",
        "            # Update logs\n",
        "            n_update += 1\n",
        "\n",
        "            # Update the agent position\n",
        "            s = y\n",
        "        q_list.append(np.linalg.norm(np.maximum(q, q0)))\n",
        "\n",
        "    if render:\n",
        "        # Show the final policy\n",
        "        mdp.current_state = 0\n",
        "        mdp.draw_v_pi(q, get_policy_from_q(q), title=\"Actor-Critic\")\n",
        "    return q, q_list, n_update"
      ],
      "metadata": {
        "id": "K1bPbp9vrMb2"
      },
      "execution_count": 3,
      "outputs": []
    },
    {
      "cell_type": "code",
      "source": [
        "# Create maze environment\n",
        "env = gym.make(\"MazeMDP-v0\", kwargs={\"width\": 10, \"height\": 10, \"ratio\": MAZE_RATIO})\n",
        "env.reset()\n",
        "# env.init_draw(\"The maze\")\n",
        "\n",
        "alpha_critic = 0.2\n",
        "alpha_actor = 0.1\n",
        "q, q_list, _ = actor_critic(env, nb_episodes=NB_EPISODES, timeout=TIMEOUT, alpha_critic=alpha_critic, alpha_actor=alpha_actor, render=False)"
      ],
      "metadata": {
        "id": "z3dCrd7CyMZl"
      },
      "execution_count": 4,
      "outputs": []
    },
    {
      "cell_type": "code",
      "source": [
        "import time\n",
        "\n",
        "param_critic = np.arange(0.1, 2, 0.05)\n",
        "param_actor = np.arange(0.1, 1.3, 0.05)\n",
        "n_simulation = 10\n",
        "\n",
        "# param_critic = np.arange(0.1, 1, 0.3)\n",
        "# param_actor = np.arange(0.1, 1, 0.3)\n",
        "# n_simulation = 1\n",
        "\n",
        "time_tab = []\n",
        "n_update_tab = []\n",
        "q_list_tab = []\n",
        "\n",
        "for alpha_critic in tqdm(param_critic):\n",
        "  for alpha_actor in param_actor:\n",
        "    time_taken = 0\n",
        "    n_update = 0\n",
        "    for _ in range(n_simulation):\n",
        "      start = time.time()\n",
        "      _, q_list, n = actor_critic(env, nb_episodes=NB_EPISODES, timeout=TIMEOUT, alpha_critic=alpha_critic, alpha_actor=alpha_actor, render=False)\n",
        "      time_taken += time.time() - start\n",
        "      n_update += n\n",
        "      q_list_tab.append(q_list)\n",
        "    time_tab.append(time_taken/n_simulation)\n",
        "    n_update_tab.append(n_update/n_simulation)\n",
        "\n",
        "time_tab = np.array(time_tab)\n",
        "n_update_tab = np.array(n_update_tab)\n",
        "q_list_tab = np.array(q_list_tab)"
      ],
      "metadata": {
        "colab": {
          "base_uri": "https://localhost:8080/",
          "height": 49,
          "referenced_widgets": [
            "23507cdff4f3409aa1f920411fc66173",
            "69dc97e6179b4029ae2e12f38d1f6fbe",
            "530fd8fa0cf145508d8f19bbcd2fc568",
            "271bf86d12434f84aa816a0a7aad4235",
            "e5f4b2ca9dd24489a89001370e3fc1b1",
            "64f551e406e249bbbc3254020087f20c",
            "bb7c618150734e87a5b8f61368e7288a",
            "79437be98ef2410c98cc63704d7d8c7d",
            "535d6268f5974449883fc98c6fa344d8",
            "85192c7d3fd445f29a7170a326ca6321",
            "cec65e2edd99462896e2e8488461133e"
          ]
        },
        "id": "AXRQTd1sW54G",
        "outputId": "fe9f811b-9dee-4327-fa1d-6029a0ac2573"
      },
      "execution_count": null,
      "outputs": [
        {
          "output_type": "display_data",
          "data": {
            "text/plain": [
              "  0%|          | 0/38 [00:00<?, ?it/s]"
            ],
            "application/vnd.jupyter.widget-view+json": {
              "version_major": 2,
              "version_minor": 0,
              "model_id": "23507cdff4f3409aa1f920411fc66173"
            }
          },
          "metadata": {}
        }
      ]
    },
    {
      "cell_type": "code",
      "source": [
        "print((time_tab).shape)\n",
        "print((n_update_tab).shape)\n",
        "print((q_list_tab).shape)"
      ],
      "metadata": {
        "id": "bzTMijLpW56I"
      },
      "execution_count": null,
      "outputs": []
    },
    {
      "cell_type": "code",
      "source": [
        "time_tab_2d = time_tab.reshape(int(np.sqrt(time_tab.shape[0])), int(np.sqrt(time_tab.shape[0])))\n",
        "n_update_tab_2d = n_update_tab.reshape(int(np.sqrt(n_update_tab.shape[0])), int(np.sqrt(n_update_tab.shape[0])))\n",
        "q_list_tab_2d = q_list_tab.reshape(int(np.sqrt(n_update_tab.shape[0])), int(np.sqrt(n_update_tab.shape[0])), -1)"
      ],
      "metadata": {
        "id": "iOtZ0VyvW6Bm"
      },
      "execution_count": null,
      "outputs": []
    },
    {
      "cell_type": "code",
      "source": [
        "import seaborn as sns\n",
        "import matplotlib.pylab as plt\n",
        "from matplotlib.colors import LogNorm\n",
        "\n",
        "sns.set(rc = {'figure.figsize':(15,8)})\n",
        "ax = sns.heatmap(time_tab_2d, linewidth=0.5, xticklabels=np.around(param_critic, 2), yticklabels=np.around(param_actor, 2), norm=LogNorm())\n",
        "plt.title('Heatmap of time depending learning rates', fontsize=20)\n",
        "plt.xlabel('Critic learning rate', fontsize=15)\n",
        "plt.ylabel('Actor learning rate', fontsize=15)\n",
        "plt.show()\n",
        "\n",
        "sns.set(rc = {'figure.figsize':(15,8)})\n",
        "ax = sns.heatmap(n_update_tab_2d, linewidth=0.5, xticklabels=np.around(param_critic, 2), yticklabels=np.around(param_actor, 2))\n",
        "plt.title('Heatmap of n_operation depending learning rates', fontsize=20)\n",
        "plt.xlabel('Critic learning rate', fontsize=15)\n",
        "plt.ylabel('Actor learning rate', fontsize=15)\n",
        "plt.show()"
      ],
      "metadata": {
        "id": "eoY_Pc17YpwN"
      },
      "execution_count": null,
      "outputs": []
    },
    {
      "cell_type": "code",
      "source": [
        "# test_critic = 0\n",
        "# test_actor = 0\n",
        "# print(q_list_tab_2d[test_critic, test_actor])\n",
        "# print(param_critic[test_critic])\n",
        "# print(param_actor[test_actor])\n",
        "\n",
        "worst_critic, worst_actor = np.unravel_index(np.argmin(n_update_tab_2d, axis=None), n_update_tab_2d.shape)\n",
        "best_critic, best_actor = np.unravel_index(np.argmax(n_update_tab_2d, axis=None), n_update_tab_2d.shape)\n",
        "\n",
        "plt.plot(q_list_tab_2d[best_critic, best_actor], label=\"Best case convergence\")\n",
        "plt.plot(q_list_tab_2d[worst_critic, worst_actor], label=\"Worst case convergence\")\n",
        "plt.xlabel(\"Episodes\")\n",
        "plt.ylabel(\"Q norm\")\n",
        "plt.legend(loc='upper left')\n",
        "plt.title(\"Convergence depending learning rates\")\n",
        "plt.show()"
      ],
      "metadata": {
        "id": "arH20Q4LMaIE"
      },
      "execution_count": null,
      "outputs": []
    },
    {
      "cell_type": "code",
      "source": [
        "# The mini-project consists in coding a naive actor-critic algorithm and looking for the adequate policy and critic learning rates to \n",
        "# converge as fast as possible on a set of 10x10 mazes. The global report should contain your actor-critic code, the values of \n",
        "# hyper-parameters you used, and a set of learning curves highlighting the learning behavior of your algorithm, with a short discussion of your results.\n",
        "\n",
        "# Thanks to the heatmap we can see that the optimal parameters for this environment (maze 10x10) are around alpha_critic=?? and alpha_actor=??\n",
        "# Most of the optimal pairs of learning rates confirm that the critic learning rate should be superior to the actor learning rate\n",
        "\n",
        "# To get better estimation of those parameters, we perform multiple simulation with the same pair of parameters, then we take the mean time\n",
        "# We also use the same random seed\n",
        "\n",
        "# Now we can look at the learning by watching the Q norm with and without optimal learning rates. As we can see on the plot, the best parameters\n",
        "# according to the number of operation builds fast converging q values. While we can see it is kind of diverging for the worst parameters."
      ],
      "metadata": {
        "id": "BJyJeIeV0Zt7"
      },
      "execution_count": null,
      "outputs": []
    },
    {
      "cell_type": "code",
      "source": [],
      "metadata": {
        "id": "_U8o6mQzPyvZ"
      },
      "execution_count": null,
      "outputs": []
    }
  ]
}