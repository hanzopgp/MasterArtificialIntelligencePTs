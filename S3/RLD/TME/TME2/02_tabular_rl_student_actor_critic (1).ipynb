{
  "nbformat": 4,
  "nbformat_minor": 0,
  "metadata": {
    "colab": {
      "provenance": [],
      "collapsed_sections": []
    },
    "kernelspec": {
      "name": "python3",
      "display_name": "Python 3"
    },
    "language_info": {
      "name": "python"
    },
    "widgets": {
      "application/vnd.jupyter.widget-state+json": {
        "61a9196e4c94487b819d7ad58c38c0a5": {
          "model_module": "@jupyter-widgets/output",
          "model_name": "OutputModel",
          "model_module_version": "1.0.0",
          "state": {
            "_dom_classes": [],
            "_model_module": "@jupyter-widgets/output",
            "_model_module_version": "1.0.0",
            "_model_name": "OutputModel",
            "_view_count": null,
            "_view_module": "@jupyter-widgets/output",
            "_view_module_version": "1.0.0",
            "_view_name": "OutputView",
            "layout": "IPY_MODEL_43a00e4166614fc48f733a5c9846c76d",
            "msg_id": "",
            "outputs": [
              {
                "output_type": "display_data",
                "data": {
                  "image/png": "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\n",
                  "text/plain": "<IPython.core.display.Image object>"
                },
                "metadata": {}
              }
            ]
          }
        },
        "43a00e4166614fc48f733a5c9846c76d": {
          "model_module": "@jupyter-widgets/base",
          "model_name": "LayoutModel",
          "model_module_version": "1.2.0",
          "state": {
            "_model_module": "@jupyter-widgets/base",
            "_model_module_version": "1.2.0",
            "_model_name": "LayoutModel",
            "_view_count": null,
            "_view_module": "@jupyter-widgets/base",
            "_view_module_version": "1.2.0",
            "_view_name": "LayoutView",
            "align_content": null,
            "align_items": null,
            "align_self": null,
            "border": null,
            "bottom": null,
            "display": null,
            "flex": null,
            "flex_flow": null,
            "grid_area": null,
            "grid_auto_columns": null,
            "grid_auto_flow": null,
            "grid_auto_rows": null,
            "grid_column": null,
            "grid_gap": null,
            "grid_row": null,
            "grid_template_areas": null,
            "grid_template_columns": null,
            "grid_template_rows": null,
            "height": null,
            "justify_content": null,
            "justify_items": null,
            "left": null,
            "margin": null,
            "max_height": null,
            "max_width": null,
            "min_height": null,
            "min_width": null,
            "object_fit": null,
            "object_position": null,
            "order": null,
            "overflow": null,
            "overflow_x": null,
            "overflow_y": null,
            "padding": null,
            "right": null,
            "top": null,
            "visibility": null,
            "width": null
          }
        },
        "acce8b8766f141048324be20d8569399": {
          "model_module": "@jupyter-widgets/controls",
          "model_name": "HBoxModel",
          "model_module_version": "1.5.0",
          "state": {
            "_dom_classes": [],
            "_model_module": "@jupyter-widgets/controls",
            "_model_module_version": "1.5.0",
            "_model_name": "HBoxModel",
            "_view_count": null,
            "_view_module": "@jupyter-widgets/controls",
            "_view_module_version": "1.5.0",
            "_view_name": "HBoxView",
            "box_style": "",
            "children": [
              "IPY_MODEL_ba9767ec398b46bdabfd7b08a0f3408d",
              "IPY_MODEL_afe0ee2dccc544fcb87d40ca2a4cf07e",
              "IPY_MODEL_f6a42ad9a2f7406bbd164e8c4e649ac0"
            ],
            "layout": "IPY_MODEL_6398ffa1972e42e4955388a7406ca90f"
          }
        },
        "ba9767ec398b46bdabfd7b08a0f3408d": {
          "model_module": "@jupyter-widgets/controls",
          "model_name": "HTMLModel",
          "model_module_version": "1.5.0",
          "state": {
            "_dom_classes": [],
            "_model_module": "@jupyter-widgets/controls",
            "_model_module_version": "1.5.0",
            "_model_name": "HTMLModel",
            "_view_count": null,
            "_view_module": "@jupyter-widgets/controls",
            "_view_module_version": "1.5.0",
            "_view_name": "HTMLView",
            "description": "",
            "description_tooltip": null,
            "layout": "IPY_MODEL_0dbfe63872ac4437a2a89d8083aff84e",
            "placeholder": "​",
            "style": "IPY_MODEL_f96d73bf6372440596907c55b54c7476",
            "value": "100%"
          }
        },
        "afe0ee2dccc544fcb87d40ca2a4cf07e": {
          "model_module": "@jupyter-widgets/controls",
          "model_name": "FloatProgressModel",
          "model_module_version": "1.5.0",
          "state": {
            "_dom_classes": [],
            "_model_module": "@jupyter-widgets/controls",
            "_model_module_version": "1.5.0",
            "_model_name": "FloatProgressModel",
            "_view_count": null,
            "_view_module": "@jupyter-widgets/controls",
            "_view_module_version": "1.5.0",
            "_view_name": "ProgressView",
            "bar_style": "success",
            "description": "",
            "description_tooltip": null,
            "layout": "IPY_MODEL_867263d2c2414e5092f146fc7b8467d5",
            "max": 3,
            "min": 0,
            "orientation": "horizontal",
            "style": "IPY_MODEL_cae3a1c4bcc84baea5731594805eaaff",
            "value": 3
          }
        },
        "f6a42ad9a2f7406bbd164e8c4e649ac0": {
          "model_module": "@jupyter-widgets/controls",
          "model_name": "HTMLModel",
          "model_module_version": "1.5.0",
          "state": {
            "_dom_classes": [],
            "_model_module": "@jupyter-widgets/controls",
            "_model_module_version": "1.5.0",
            "_model_name": "HTMLModel",
            "_view_count": null,
            "_view_module": "@jupyter-widgets/controls",
            "_view_module_version": "1.5.0",
            "_view_name": "HTMLView",
            "description": "",
            "description_tooltip": null,
            "layout": "IPY_MODEL_3bc254a2768a4cd1ac887b0ec6669d68",
            "placeholder": "​",
            "style": "IPY_MODEL_c152a5c0468c42c5a15aa44a5b4d59e0",
            "value": " 3/3 [00:02&lt;00:00,  1.41it/s]"
          }
        },
        "6398ffa1972e42e4955388a7406ca90f": {
          "model_module": "@jupyter-widgets/base",
          "model_name": "LayoutModel",
          "model_module_version": "1.2.0",
          "state": {
            "_model_module": "@jupyter-widgets/base",
            "_model_module_version": "1.2.0",
            "_model_name": "LayoutModel",
            "_view_count": null,
            "_view_module": "@jupyter-widgets/base",
            "_view_module_version": "1.2.0",
            "_view_name": "LayoutView",
            "align_content": null,
            "align_items": null,
            "align_self": null,
            "border": null,
            "bottom": null,
            "display": null,
            "flex": null,
            "flex_flow": null,
            "grid_area": null,
            "grid_auto_columns": null,
            "grid_auto_flow": null,
            "grid_auto_rows": null,
            "grid_column": null,
            "grid_gap": null,
            "grid_row": null,
            "grid_template_areas": null,
            "grid_template_columns": null,
            "grid_template_rows": null,
            "height": null,
            "justify_content": null,
            "justify_items": null,
            "left": null,
            "margin": null,
            "max_height": null,
            "max_width": null,
            "min_height": null,
            "min_width": null,
            "object_fit": null,
            "object_position": null,
            "order": null,
            "overflow": null,
            "overflow_x": null,
            "overflow_y": null,
            "padding": null,
            "right": null,
            "top": null,
            "visibility": null,
            "width": null
          }
        },
        "0dbfe63872ac4437a2a89d8083aff84e": {
          "model_module": "@jupyter-widgets/base",
          "model_name": "LayoutModel",
          "model_module_version": "1.2.0",
          "state": {
            "_model_module": "@jupyter-widgets/base",
            "_model_module_version": "1.2.0",
            "_model_name": "LayoutModel",
            "_view_count": null,
            "_view_module": "@jupyter-widgets/base",
            "_view_module_version": "1.2.0",
            "_view_name": "LayoutView",
            "align_content": null,
            "align_items": null,
            "align_self": null,
            "border": null,
            "bottom": null,
            "display": null,
            "flex": null,
            "flex_flow": null,
            "grid_area": null,
            "grid_auto_columns": null,
            "grid_auto_flow": null,
            "grid_auto_rows": null,
            "grid_column": null,
            "grid_gap": null,
            "grid_row": null,
            "grid_template_areas": null,
            "grid_template_columns": null,
            "grid_template_rows": null,
            "height": null,
            "justify_content": null,
            "justify_items": null,
            "left": null,
            "margin": null,
            "max_height": null,
            "max_width": null,
            "min_height": null,
            "min_width": null,
            "object_fit": null,
            "object_position": null,
            "order": null,
            "overflow": null,
            "overflow_x": null,
            "overflow_y": null,
            "padding": null,
            "right": null,
            "top": null,
            "visibility": null,
            "width": null
          }
        },
        "f96d73bf6372440596907c55b54c7476": {
          "model_module": "@jupyter-widgets/controls",
          "model_name": "DescriptionStyleModel",
          "model_module_version": "1.5.0",
          "state": {
            "_model_module": "@jupyter-widgets/controls",
            "_model_module_version": "1.5.0",
            "_model_name": "DescriptionStyleModel",
            "_view_count": null,
            "_view_module": "@jupyter-widgets/base",
            "_view_module_version": "1.2.0",
            "_view_name": "StyleView",
            "description_width": ""
          }
        },
        "867263d2c2414e5092f146fc7b8467d5": {
          "model_module": "@jupyter-widgets/base",
          "model_name": "LayoutModel",
          "model_module_version": "1.2.0",
          "state": {
            "_model_module": "@jupyter-widgets/base",
            "_model_module_version": "1.2.0",
            "_model_name": "LayoutModel",
            "_view_count": null,
            "_view_module": "@jupyter-widgets/base",
            "_view_module_version": "1.2.0",
            "_view_name": "LayoutView",
            "align_content": null,
            "align_items": null,
            "align_self": null,
            "border": null,
            "bottom": null,
            "display": null,
            "flex": null,
            "flex_flow": null,
            "grid_area": null,
            "grid_auto_columns": null,
            "grid_auto_flow": null,
            "grid_auto_rows": null,
            "grid_column": null,
            "grid_gap": null,
            "grid_row": null,
            "grid_template_areas": null,
            "grid_template_columns": null,
            "grid_template_rows": null,
            "height": null,
            "justify_content": null,
            "justify_items": null,
            "left": null,
            "margin": null,
            "max_height": null,
            "max_width": null,
            "min_height": null,
            "min_width": null,
            "object_fit": null,
            "object_position": null,
            "order": null,
            "overflow": null,
            "overflow_x": null,
            "overflow_y": null,
            "padding": null,
            "right": null,
            "top": null,
            "visibility": null,
            "width": null
          }
        },
        "cae3a1c4bcc84baea5731594805eaaff": {
          "model_module": "@jupyter-widgets/controls",
          "model_name": "ProgressStyleModel",
          "model_module_version": "1.5.0",
          "state": {
            "_model_module": "@jupyter-widgets/controls",
            "_model_module_version": "1.5.0",
            "_model_name": "ProgressStyleModel",
            "_view_count": null,
            "_view_module": "@jupyter-widgets/base",
            "_view_module_version": "1.2.0",
            "_view_name": "StyleView",
            "bar_color": null,
            "description_width": ""
          }
        },
        "3bc254a2768a4cd1ac887b0ec6669d68": {
          "model_module": "@jupyter-widgets/base",
          "model_name": "LayoutModel",
          "model_module_version": "1.2.0",
          "state": {
            "_model_module": "@jupyter-widgets/base",
            "_model_module_version": "1.2.0",
            "_model_name": "LayoutModel",
            "_view_count": null,
            "_view_module": "@jupyter-widgets/base",
            "_view_module_version": "1.2.0",
            "_view_name": "LayoutView",
            "align_content": null,
            "align_items": null,
            "align_self": null,
            "border": null,
            "bottom": null,
            "display": null,
            "flex": null,
            "flex_flow": null,
            "grid_area": null,
            "grid_auto_columns": null,
            "grid_auto_flow": null,
            "grid_auto_rows": null,
            "grid_column": null,
            "grid_gap": null,
            "grid_row": null,
            "grid_template_areas": null,
            "grid_template_columns": null,
            "grid_template_rows": null,
            "height": null,
            "justify_content": null,
            "justify_items": null,
            "left": null,
            "margin": null,
            "max_height": null,
            "max_width": null,
            "min_height": null,
            "min_width": null,
            "object_fit": null,
            "object_position": null,
            "order": null,
            "overflow": null,
            "overflow_x": null,
            "overflow_y": null,
            "padding": null,
            "right": null,
            "top": null,
            "visibility": null,
            "width": null
          }
        },
        "c152a5c0468c42c5a15aa44a5b4d59e0": {
          "model_module": "@jupyter-widgets/controls",
          "model_name": "DescriptionStyleModel",
          "model_module_version": "1.5.0",
          "state": {
            "_model_module": "@jupyter-widgets/controls",
            "_model_module_version": "1.5.0",
            "_model_name": "DescriptionStyleModel",
            "_view_count": null,
            "_view_module": "@jupyter-widgets/base",
            "_view_module_version": "1.2.0",
            "_view_name": "StyleView",
            "description_width": ""
          }
        }
      }
    }
  },
  "cells": [
    {
      "cell_type": "code",
      "execution_count": 1,
      "metadata": {
        "colab": {
          "base_uri": "https://localhost:8080/"
        },
        "id": "Ze9xbSgbqjg8",
        "outputId": "89d7870a-7942-45a9-f1de-6fb66d061533"
      },
      "outputs": [
        {
          "output_type": "stream",
          "name": "stdout",
          "text": [
            "Looking in indexes: https://pypi.org/simple, https://us-python.pkg.dev/colab-wheels/public/simple/\n",
            "Collecting git+https://github.com/osigaud/my_gym\n",
            "  Cloning https://github.com/osigaud/my_gym to /tmp/pip-req-build-w_inkmmb\n",
            "  Running command git clone -q https://github.com/osigaud/my_gym /tmp/pip-req-build-w_inkmmb\n",
            "Requirement already satisfied: numpy>=1.19.1 in /usr/local/lib/python3.7/dist-packages (from bbrl-gym==0.1.0) (1.21.6)\n",
            "Collecting gym==0.21.0\n",
            "  Downloading gym-0.21.0.tar.gz (1.5 MB)\n",
            "\u001b[K     |████████████████████████████████| 1.5 MB 13.2 MB/s \n",
            "\u001b[?25hCollecting Box2D\n",
            "  Downloading Box2D-2.3.10-cp37-cp37m-manylinux1_x86_64.whl (1.3 MB)\n",
            "\u001b[K     |████████████████████████████████| 1.3 MB 55.1 MB/s \n",
            "\u001b[?25hCollecting mazemdp>=0.1.1\n",
            "  Downloading mazemdp-0.1.1.tar.gz (15 kB)\n",
            "Requirement already satisfied: cloudpickle>=1.2.0 in /usr/local/lib/python3.7/dist-packages (from gym==0.21.0->bbrl-gym==0.1.0) (1.5.0)\n",
            "Requirement already satisfied: importlib_metadata>=4.8.1 in /usr/local/lib/python3.7/dist-packages (from gym==0.21.0->bbrl-gym==0.1.0) (4.12.0)\n",
            "Requirement already satisfied: zipp>=0.5 in /usr/local/lib/python3.7/dist-packages (from importlib_metadata>=4.8.1->gym==0.21.0->bbrl-gym==0.1.0) (3.8.1)\n",
            "Requirement already satisfied: typing-extensions>=3.6.4 in /usr/local/lib/python3.7/dist-packages (from importlib_metadata>=4.8.1->gym==0.21.0->bbrl-gym==0.1.0) (4.1.1)\n",
            "Requirement already satisfied: matplotlib in /usr/local/lib/python3.7/dist-packages (from mazemdp>=0.1.1->bbrl-gym==0.1.0) (3.2.2)\n",
            "Requirement already satisfied: kiwisolver>=1.0.1 in /usr/local/lib/python3.7/dist-packages (from matplotlib->mazemdp>=0.1.1->bbrl-gym==0.1.0) (1.4.4)\n",
            "Requirement already satisfied: pyparsing!=2.0.4,!=2.1.2,!=2.1.6,>=2.0.1 in /usr/local/lib/python3.7/dist-packages (from matplotlib->mazemdp>=0.1.1->bbrl-gym==0.1.0) (3.0.9)\n",
            "Requirement already satisfied: python-dateutil>=2.1 in /usr/local/lib/python3.7/dist-packages (from matplotlib->mazemdp>=0.1.1->bbrl-gym==0.1.0) (2.8.2)\n",
            "Requirement already satisfied: cycler>=0.10 in /usr/local/lib/python3.7/dist-packages (from matplotlib->mazemdp>=0.1.1->bbrl-gym==0.1.0) (0.11.0)\n",
            "Requirement already satisfied: six>=1.5 in /usr/local/lib/python3.7/dist-packages (from python-dateutil>=2.1->matplotlib->mazemdp>=0.1.1->bbrl-gym==0.1.0) (1.15.0)\n",
            "Building wheels for collected packages: bbrl-gym, gym, mazemdp\n",
            "  Building wheel for bbrl-gym (setup.py) ... \u001b[?25l\u001b[?25hdone\n",
            "  Created wheel for bbrl-gym: filename=bbrl_gym-0.1.0-py3-none-any.whl size=17222 sha256=850a9972b47ac719bd9982df9f1bc98e38964f62e4d515c73c725296b311e1cc\n",
            "  Stored in directory: /tmp/pip-ephem-wheel-cache-r1b85m_1/wheels/0b/2c/67/5df37c12451553731420023ff73d12effcae27a38cc5053550\n",
            "  Building wheel for gym (setup.py) ... \u001b[?25l\u001b[?25hdone\n",
            "  Created wheel for gym: filename=gym-0.21.0-py3-none-any.whl size=1616823 sha256=698c2d8f0b364b017927f0b88256089126398664a0161c0b5788c7a695156357\n",
            "  Stored in directory: /root/.cache/pip/wheels/76/ee/9c/36bfe3e079df99acf5ae57f4e3464ff2771b34447d6d2f2148\n",
            "  Building wheel for mazemdp (setup.py) ... \u001b[?25l\u001b[?25hdone\n",
            "  Created wheel for mazemdp: filename=mazemdp-0.1.1-py3-none-any.whl size=14721 sha256=93e265e387f8f8f8fe2e8203245f242f810cb9eef45f414907550234f93fc203\n",
            "  Stored in directory: /root/.cache/pip/wheels/7f/bc/ab/90ec3e74f662c378b422671e88abc734a66f2f7959d550de1a\n",
            "Successfully built bbrl-gym gym mazemdp\n",
            "Installing collected packages: mazemdp, gym, Box2D, bbrl-gym\n",
            "  Attempting uninstall: gym\n",
            "    Found existing installation: gym 0.25.2\n",
            "    Uninstalling gym-0.25.2:\n",
            "      Successfully uninstalled gym-0.25.2\n",
            "Successfully installed Box2D-2.3.10 bbrl-gym-0.1.0 gym-0.21.0 mazemdp-0.1.1\n",
            "Matplotlib backend: module://ipykernel.pylab.backend_inline\n"
          ]
        }
      ],
      "source": [
        "try:\n",
        "    import my_gym\n",
        "except ModuleNotFoundError as e:\n",
        "    !pip install git+https://github.com/osigaud/my_gym\n",
        "\n",
        "import os\n",
        "from typing import Tuple, List\n",
        "\n",
        "import numpy as np\n",
        "import matplotlib.pyplot as plt\n",
        "from tqdm.notebook import tqdm\n",
        "\n",
        "from mazemdp.toolbox import egreedy, egreedy_loc, softmax, discreteProb\n",
        "from mazemdp.maze_plotter import show_videos\n",
        "from mazemdp.mdp import Mdp\n",
        "from my_gym.envs.maze_mdp import MazeMDPEnv\n",
        "\n",
        "import gym\n",
        "import my_gym\n",
        "from IPython.display import Video\n",
        "\n",
        "from mazemdp import random_policy\n",
        "\n",
        "# For visualization\n",
        "os.environ[\"VIDEO_FPS\"] = \"5\"\n",
        "if not os.path.isdir(\"./videos\"):\n",
        "  os.mkdir(\"./videos\")\n",
        "\n",
        "# Settings\n",
        "NB_EPISODES = 50\n",
        "TIMEOUT = 25\n",
        "MAZE_SIZE = 10\n",
        "MAZE_RATIO = 0.2"
      ]
    },
    {
      "cell_type": "code",
      "source": [
        "# Create maze environment\n",
        "env = gym.make(\"MazeMDP-v0\", kwargs={\"width\": MAZE_SIZE, \"height\": MAZE_SIZE, \"ratio\": MAZE_RATIO})\n",
        "env.reset()\n",
        "env.init_draw(\"The maze\")"
      ],
      "metadata": {
        "colab": {
          "base_uri": "https://localhost:8080/",
          "height": 737,
          "referenced_widgets": [
            "61a9196e4c94487b819d7ad58c38c0a5",
            "43a00e4166614fc48f733a5c9846c76d"
          ]
        },
        "id": "SWqXBTvFrKjV",
        "outputId": "f0032220-e057-493c-e70a-bf2ad11d7595"
      },
      "execution_count": 2,
      "outputs": [
        {
          "output_type": "display_data",
          "data": {
            "text/plain": [
              "Output()"
            ],
            "application/vnd.jupyter.widget-view+json": {
              "version_major": 2,
              "version_minor": 0,
              "model_id": "61a9196e4c94487b819d7ad58c38c0a5"
            }
          },
          "metadata": {}
        }
      ]
    },
    {
      "cell_type": "code",
      "source": [
        "def get_policy_from_q(q: np.ndarray) -> np.ndarray:\n",
        "    # Outputs a policy given the action values\n",
        "    return np.argmax(q, axis=1)\n",
        "\n",
        "def actor_critic(\n",
        "    mdp: MazeMDPEnv,\n",
        "    nb_episodes:int,\n",
        "    timeout:int,\n",
        "    alpha_critic:float,\n",
        "    alpha_actor:float,\n",
        "    render:bool\n",
        ") -> Tuple[np.ndarray, List[float]]:\n",
        "    # Initialize the state-action value function\n",
        "    # alpha is the learning rate\n",
        "    q = np.ones((mdp.nb_states, mdp.action_space.size)) / mdp.action_space.size\n",
        "    v = np.zeros(mdp.nb_states)\n",
        "    n_update = 0\n",
        "\n",
        "    q0 = np.zeros((mdp.nb_states, mdp.action_space.size))\n",
        "    q_list = []\n",
        "\n",
        "    # Run learning cycle\n",
        "    mdp.timeout = timeout  # episode length\n",
        "\n",
        "    if render:\n",
        "        mdp.init_draw(\"Actor-Critic\")\n",
        "\n",
        "    for _ in range(nb_episodes):\n",
        "        # Draw the first state of episode i using a uniform distribution over all the states\n",
        "        s = mdp.reset(uniform=True)\n",
        "        done = False\n",
        "        while not done:\n",
        "            if render:\n",
        "                # Show the agent in the maze\n",
        "                mdp.draw_v_pi(q, q.argmax(axis=1))\n",
        "\n",
        "            # Draw the max action from q table\n",
        "            a = np.random.choice([\n",
        "                i for i in range(len(q[s,:])) if q[s,i] == np.max(q[s,:])\n",
        "            ])\n",
        "\n",
        "            # Perform a step of the MDP\n",
        "            y, r, done, _ = mdp.step(a)\n",
        "\n",
        "            # Update critic\n",
        "            delta = r + mdp.gamma * (v[y] - v[s])\n",
        "            v[s] += alpha_critic * delta\n",
        "\n",
        "            # Update actor\n",
        "            q[s,a] += alpha_actor * delta\n",
        "\n",
        "            # Normalize q so it's still probabilities\n",
        "            q[s,a] /= np.sum(q[s,])\n",
        "\n",
        "            # Update logs\n",
        "            n_update += 1\n",
        "\n",
        "            # Update the agent position\n",
        "            s = y\n",
        "        q_list.append(np.linalg.norm(np.maximum(q, q0)))\n",
        "\n",
        "    if render:\n",
        "        # Show the final policy\n",
        "        mdp.current_state = 0\n",
        "        mdp.draw_v_pi(q, get_policy_from_q(q), title=\"Actor-Critic\")\n",
        "    return q, q_list, n_update"
      ],
      "metadata": {
        "id": "K1bPbp9vrMb2"
      },
      "execution_count": 6,
      "outputs": []
    },
    {
      "cell_type": "code",
      "source": [
        "# Create maze environment\n",
        "env = gym.make(\"MazeMDP-v0\", kwargs={\"width\": 10, \"height\": 10, \"ratio\": MAZE_RATIO})\n",
        "env.reset()\n",
        "# env.init_draw(\"The maze\")\n",
        "\n",
        "alpha_critic = 0.2\n",
        "alpha_actor = 0.1\n",
        "q, q_list, _ = actor_critic(env, nb_episodes=NB_EPISODES, timeout=TIMEOUT, alpha_critic=alpha_critic, alpha_actor=alpha_actor, render=False)"
      ],
      "metadata": {
        "id": "z3dCrd7CyMZl"
      },
      "execution_count": 40,
      "outputs": []
    },
    {
      "cell_type": "code",
      "source": [
        "import time\n",
        "\n",
        "# param_critic = np.arange(0.1, 2, 0.05)\n",
        "# param_actor = np.arange(0.1, 1.3, 0.05)\n",
        "# n_simulation = 10\n",
        "\n",
        "param_critic = np.arange(0.1, 1, 0.3)\n",
        "param_actor = np.arange(0.1, 1, 0.3)\n",
        "n_simulation = 1\n",
        "\n",
        "time_tab = []\n",
        "n_update_tab = []\n",
        "q_list_tab = []\n",
        "\n",
        "for alpha_critic in tqdm(param_critic):\n",
        "  for alpha_actor in param_actor:\n",
        "    time_taken = 0\n",
        "    n_update = 0\n",
        "    for _ in range(n_simulation):\n",
        "      start = time.time()\n",
        "      _, q_list, n = actor_critic(env, nb_episodes=NB_EPISODES, timeout=TIMEOUT, alpha_critic=alpha_critic, alpha_actor=alpha_actor, render=False)\n",
        "      time_taken += time.time() - start\n",
        "      n_update += n\n",
        "      q_list_tab.append(q_list)\n",
        "    time_tab.append(time_taken/n_simulation)\n",
        "    n_update_tab.append(n_update/n_simulation)\n",
        "\n",
        "time_tab = np.array(time_tab)\n",
        "n_update_tab = np.array(n_update_tab)\n",
        "q_list_tab = np.array(q_list_tab)"
      ],
      "metadata": {
        "colab": {
          "base_uri": "https://localhost:8080/",
          "height": 49,
          "referenced_widgets": [
            "acce8b8766f141048324be20d8569399",
            "ba9767ec398b46bdabfd7b08a0f3408d",
            "afe0ee2dccc544fcb87d40ca2a4cf07e",
            "f6a42ad9a2f7406bbd164e8c4e649ac0",
            "6398ffa1972e42e4955388a7406ca90f",
            "0dbfe63872ac4437a2a89d8083aff84e",
            "f96d73bf6372440596907c55b54c7476",
            "867263d2c2414e5092f146fc7b8467d5",
            "cae3a1c4bcc84baea5731594805eaaff",
            "3bc254a2768a4cd1ac887b0ec6669d68",
            "c152a5c0468c42c5a15aa44a5b4d59e0"
          ]
        },
        "id": "AXRQTd1sW54G",
        "outputId": "9fb50fb2-d92f-47cc-c1d4-71f918e72000"
      },
      "execution_count": 41,
      "outputs": [
        {
          "output_type": "display_data",
          "data": {
            "text/plain": [
              "  0%|          | 0/3 [00:00<?, ?it/s]"
            ],
            "application/vnd.jupyter.widget-view+json": {
              "version_major": 2,
              "version_minor": 0,
              "model_id": "acce8b8766f141048324be20d8569399"
            }
          },
          "metadata": {}
        }
      ]
    },
    {
      "cell_type": "code",
      "source": [
        "print((time_tab).shape)\n",
        "print((n_update_tab).shape)\n",
        "print((q_list_tab).shape)"
      ],
      "metadata": {
        "colab": {
          "base_uri": "https://localhost:8080/"
        },
        "id": "bzTMijLpW56I",
        "outputId": "ba935f09-a8c4-41c3-fe4e-60e750c2eeb7"
      },
      "execution_count": 42,
      "outputs": [
        {
          "output_type": "stream",
          "name": "stdout",
          "text": [
            "(9,)\n",
            "(9,)\n",
            "(9, 50)\n"
          ]
        }
      ]
    },
    {
      "cell_type": "code",
      "source": [
        "time_tab_2d = time_tab.reshape(int(np.sqrt(time_tab.shape[0])), int(np.sqrt(time_tab.shape[0])))\n",
        "n_update_tab_2d = n_update_tab.reshape(int(np.sqrt(n_update_tab.shape[0])), int(np.sqrt(n_update_tab.shape[0])))\n",
        "q_list_tab_2d = q_list_tab.reshape(int(np.sqrt(n_update_tab.shape[0])), int(np.sqrt(n_update_tab.shape[0])), -1)"
      ],
      "metadata": {
        "id": "iOtZ0VyvW6Bm"
      },
      "execution_count": 43,
      "outputs": []
    },
    {
      "cell_type": "code",
      "source": [
        "test_critic = 0\n",
        "test_actor = 0\n",
        "print(q_list_tab_2d[test_critic, test_actor])\n",
        "print(param_critic[test_critic])\n",
        "print(param_actor[test_actor])"
      ],
      "metadata": {
        "colab": {
          "base_uri": "https://localhost:8080/"
        },
        "id": "JDRxHLCNaMPP",
        "outputId": "a43feab9-d5d7-4047-f5f1-02582a2bcbc6"
      },
      "execution_count": 44,
      "outputs": [
        {
          "output_type": "stream",
          "name": "stdout",
          "text": [
            "[4.5        4.5        4.5        4.5        4.5        4.5\n",
            " 4.50430235 4.50430235 4.50430235 4.50430235 4.50430235 4.50430235\n",
            " 4.50727112 4.50727112 4.50905915 4.51040229 4.51040229 4.51125251\n",
            " 4.5117637  4.5117637  4.5117637  4.51234894 4.51234894 4.51234894\n",
            " 4.51234894 4.51234894 4.51234894 4.51277183 4.51277183 4.51277183\n",
            " 4.51277183 4.51277183 4.51277183 4.51277183 4.51277183 4.51277183\n",
            " 4.51277183 4.51277183 4.51277183 4.51277183 4.51277183 4.51277183\n",
            " 4.51313898 4.51487247 4.51487247 4.51487247 4.51584413 4.51584413\n",
            " 4.51584413 4.51584413]\n",
            "0.1\n",
            "0.1\n"
          ]
        }
      ]
    },
    {
      "cell_type": "code",
      "source": [
        "# Plot convergence with useless hyperparameters and with optimal parameters + compare\n",
        "\n",
        "\n",
        "\n",
        "\n"
      ],
      "metadata": {
        "id": "iDYDvzjQbFPH"
      },
      "execution_count": null,
      "outputs": []
    },
    {
      "cell_type": "code",
      "source": [
        "import seaborn as sns\n",
        "import matplotlib.pylab as plt\n",
        "from matplotlib.colors import LogNorm\n",
        "\n",
        "sns.set(rc = {'figure.figsize':(15,8)})\n",
        "ax = sns.heatmap(time_tab_2d, linewidth=0.5, xticklabels=np.around(param_critic, 2), yticklabels=np.around(param_actor, 2), norm=LogNorm())\n",
        "plt.title('Heatmap of time depending learning rates', fontsize=20)\n",
        "plt.xlabel('Critic learning rate', fontsize=15)\n",
        "plt.ylabel('Actor learning rate', fontsize=15)\n",
        "plt.show()\n",
        "\n",
        "sns.set(rc = {'figure.figsize':(15,8)})\n",
        "ax = sns.heatmap(n_update_tab_2d, linewidth=0.5, xticklabels=np.around(param_critic, 2), yticklabels=np.around(param_actor, 2))\n",
        "plt.title('Heatmap of n_operation depending learning rates', fontsize=20)\n",
        "plt.xlabel('Critic learning rate', fontsize=15)\n",
        "plt.ylabel('Actor learning rate', fontsize=15)\n",
        "plt.show()"
      ],
      "metadata": {
        "id": "eoY_Pc17YpwN"
      },
      "execution_count": null,
      "outputs": []
    },
    {
      "cell_type": "code",
      "source": [
        "# The mini-project consists in coding a naive actor-critic algorithm and looking for the adequate policy and critic learning rates to \n",
        "# converge as fast as possible on a set of 10x10 mazes. The global report should contain your actor-critic code, the values of \n",
        "# hyper-parameters you used, and a set of learning curves highlighting the learning behavior of your algorithm, with a short discussion of your results.\n",
        "\n",
        "# Thanks to the heatmap we can see that the optimal parameters for this environment (maze 10x10) are around alpha_critic=?? and alpha_actor=??\n",
        "# Most of the optimal pairs of learning rates confirm that the critic learning rate should be superior to the actor learning rate\n",
        "\n",
        "# To get better estimation of those parameters, we perform multiple simulation with the same pair of parameters, then we take the mean time\n",
        "# We also use the same random seed\n",
        "\n",
        "# Now we can look at the learning by watching the Q norm with and without optimal learning rates\n",
        "\n",
        "\n",
        "\n"
      ],
      "metadata": {
        "id": "BJyJeIeV0Zt7"
      },
      "execution_count": null,
      "outputs": []
    }
  ]
}