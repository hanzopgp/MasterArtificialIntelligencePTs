{
  "cells": [
    {
      "cell_type": "markdown",
      "metadata": {
        "id": "PbzBJ1m9FBBb"
      },
      "source": [
        "<center><h1>1-ab: SIFT & BoW</h1></center>\n",
        "\n",
        "<center><h2><a href=\"https://rdfia.github.io/\">Course link</a></h2></center>\n",
        "\n",
        "To keep your modifications in case you want to come back later to this colab, do *File -> Save a copy in Drive*.\n",
        "\n"
      ]
    },
    {
      "cell_type": "code",
      "execution_count": 6,
      "metadata": {
        "id": "NfnKy8NB8J5e"
      },
      "outputs": [
        {
          "ename": "KeyboardInterrupt",
          "evalue": "",
          "output_type": "error",
          "traceback": [
            "\u001b[1;31m---------------------------------------------------------------------------\u001b[0m",
            "\u001b[1;31mKeyboardInterrupt\u001b[0m                         Traceback (most recent call last)",
            "\u001b[1;32mc:\\Users\\karna\\Desktop\\Projects\\MasterArtificialIntelligencePTs\\S3\\RDFIA\\TME\\TME1\\1_ab_Sift_&_Bow.ipynb Cellule 2\u001b[0m in \u001b[0;36m<cell line: 9>\u001b[1;34m()\u001b[0m\n\u001b[0;32m      <a href='vscode-notebook-cell:/c%3A/Users/karna/Desktop/Projects/MasterArtificialIntelligencePTs/S3/RDFIA/TME/TME1/1_ab_Sift_%26_Bow.ipynb#W1sZmlsZQ%3D%3D?line=6'>7</a>\u001b[0m url \u001b[39m=\u001b[39m \u001b[39m'\u001b[39m\u001b[39mhttp://webia.lip6.fr/~dancette/deep-learning/assets/TP1-2-data.zip\u001b[39m\u001b[39m'\u001b[39m\n\u001b[0;32m      <a href='vscode-notebook-cell:/c%3A/Users/karna/Desktop/Projects/MasterArtificialIntelligencePTs/S3/RDFIA/TME/TME1/1_ab_Sift_%26_Bow.ipynb#W1sZmlsZQ%3D%3D?line=7'>8</a>\u001b[0m filename \u001b[39m=\u001b[39m \u001b[39m'\u001b[39m\u001b[39mmyfile.txt\u001b[39m\u001b[39m'\u001b[39m\n\u001b[1;32m----> <a href='vscode-notebook-cell:/c%3A/Users/karna/Desktop/Projects/MasterArtificialIntelligencePTs/S3/RDFIA/TME/TME1/1_ab_Sift_%26_Bow.ipynb#W1sZmlsZQ%3D%3D?line=8'>9</a>\u001b[0m urllib\u001b[39m.\u001b[39;49mrequest\u001b[39m.\u001b[39;49murlretrieve(url, filename)\n",
            "File \u001b[1;32mc:\\ProgramData\\Anaconda3\\envs\\pytorch-gpu\\lib\\urllib\\request.py:268\u001b[0m, in \u001b[0;36murlretrieve\u001b[1;34m(url, filename, reporthook, data)\u001b[0m\n\u001b[0;32m    265\u001b[0m     reporthook(blocknum, bs, size)\n\u001b[0;32m    267\u001b[0m \u001b[39mwhile\u001b[39;00m \u001b[39mTrue\u001b[39;00m:\n\u001b[1;32m--> 268\u001b[0m     block \u001b[39m=\u001b[39m fp\u001b[39m.\u001b[39;49mread(bs)\n\u001b[0;32m    269\u001b[0m     \u001b[39mif\u001b[39;00m \u001b[39mnot\u001b[39;00m block:\n\u001b[0;32m    270\u001b[0m         \u001b[39mbreak\u001b[39;00m\n",
            "File \u001b[1;32mc:\\ProgramData\\Anaconda3\\envs\\pytorch-gpu\\lib\\http\\client.py:463\u001b[0m, in \u001b[0;36mHTTPResponse.read\u001b[1;34m(self, amt)\u001b[0m\n\u001b[0;32m    460\u001b[0m \u001b[39mif\u001b[39;00m amt \u001b[39mis\u001b[39;00m \u001b[39mnot\u001b[39;00m \u001b[39mNone\u001b[39;00m:\n\u001b[0;32m    461\u001b[0m     \u001b[39m# Amount is given, implement using readinto\u001b[39;00m\n\u001b[0;32m    462\u001b[0m     b \u001b[39m=\u001b[39m \u001b[39mbytearray\u001b[39m(amt)\n\u001b[1;32m--> 463\u001b[0m     n \u001b[39m=\u001b[39m \u001b[39mself\u001b[39;49m\u001b[39m.\u001b[39;49mreadinto(b)\n\u001b[0;32m    464\u001b[0m     \u001b[39mreturn\u001b[39;00m \u001b[39mmemoryview\u001b[39m(b)[:n]\u001b[39m.\u001b[39mtobytes()\n\u001b[0;32m    465\u001b[0m \u001b[39melse\u001b[39;00m:\n\u001b[0;32m    466\u001b[0m     \u001b[39m# Amount is not given (unbounded read) so we must check self.length\u001b[39;00m\n\u001b[0;32m    467\u001b[0m     \u001b[39m# and self.chunked\u001b[39;00m\n",
            "File \u001b[1;32mc:\\ProgramData\\Anaconda3\\envs\\pytorch-gpu\\lib\\http\\client.py:507\u001b[0m, in \u001b[0;36mHTTPResponse.readinto\u001b[1;34m(self, b)\u001b[0m\n\u001b[0;32m    502\u001b[0m         b \u001b[39m=\u001b[39m \u001b[39mmemoryview\u001b[39m(b)[\u001b[39m0\u001b[39m:\u001b[39mself\u001b[39m\u001b[39m.\u001b[39mlength]\n\u001b[0;32m    504\u001b[0m \u001b[39m# we do not use _safe_read() here because this may be a .will_close\u001b[39;00m\n\u001b[0;32m    505\u001b[0m \u001b[39m# connection, and the user is reading more bytes than will be provided\u001b[39;00m\n\u001b[0;32m    506\u001b[0m \u001b[39m# (for example, reading in 1k chunks)\u001b[39;00m\n\u001b[1;32m--> 507\u001b[0m n \u001b[39m=\u001b[39m \u001b[39mself\u001b[39;49m\u001b[39m.\u001b[39;49mfp\u001b[39m.\u001b[39;49mreadinto(b)\n\u001b[0;32m    508\u001b[0m \u001b[39mif\u001b[39;00m \u001b[39mnot\u001b[39;00m n \u001b[39mand\u001b[39;00m b:\n\u001b[0;32m    509\u001b[0m     \u001b[39m# Ideally, we would raise IncompleteRead if the content-length\u001b[39;00m\n\u001b[0;32m    510\u001b[0m     \u001b[39m# wasn't satisfied, but it might break compatibility.\u001b[39;00m\n\u001b[0;32m    511\u001b[0m     \u001b[39mself\u001b[39m\u001b[39m.\u001b[39m_close_conn()\n",
            "File \u001b[1;32mc:\\ProgramData\\Anaconda3\\envs\\pytorch-gpu\\lib\\socket.py:704\u001b[0m, in \u001b[0;36mSocketIO.readinto\u001b[1;34m(self, b)\u001b[0m\n\u001b[0;32m    702\u001b[0m \u001b[39mwhile\u001b[39;00m \u001b[39mTrue\u001b[39;00m:\n\u001b[0;32m    703\u001b[0m     \u001b[39mtry\u001b[39;00m:\n\u001b[1;32m--> 704\u001b[0m         \u001b[39mreturn\u001b[39;00m \u001b[39mself\u001b[39;49m\u001b[39m.\u001b[39;49m_sock\u001b[39m.\u001b[39;49mrecv_into(b)\n\u001b[0;32m    705\u001b[0m     \u001b[39mexcept\u001b[39;00m timeout:\n\u001b[0;32m    706\u001b[0m         \u001b[39mself\u001b[39m\u001b[39m.\u001b[39m_timeout_occurred \u001b[39m=\u001b[39m \u001b[39mTrue\u001b[39;00m\n",
            "\u001b[1;31mKeyboardInterrupt\u001b[0m: "
          ]
        }
      ],
      "source": [
        "!wget http://webia.lip6.fr/~dancette/deep-learning/assets/TP1-2-data.zip\n",
        "!unzip TP1-2-data.zip\n",
        "\n",
        "!wget https://raw.githubusercontent.com/rdfia/rdfia.github.io/master/code/1-ab/tools.py"
      ]
    },
    {
      "cell_type": "code",
      "execution_count": 4,
      "metadata": {
        "id": "2vQ_LLdx8J5b"
      },
      "outputs": [
        {
          "ename": "Exception",
          "evalue": "File `\"'tools.py'.py\"` not found.",
          "output_type": "error",
          "traceback": [
            "\u001b[1;31m---------------------------------------------------------------------------\u001b[0m",
            "\u001b[1;31mOSError\u001b[0m                                   Traceback (most recent call last)",
            "File \u001b[1;32mc:\\ProgramData\\Anaconda3\\envs\\pytorch-gpu\\lib\\site-packages\\IPython\\core\\magics\\execution.py:696\u001b[0m, in \u001b[0;36mExecutionMagics.run\u001b[1;34m(self, parameter_s, runner, file_finder)\u001b[0m\n\u001b[0;32m    695\u001b[0m     fpath \u001b[39m=\u001b[39m arg_lst[\u001b[39m0\u001b[39m]\n\u001b[1;32m--> 696\u001b[0m     filename \u001b[39m=\u001b[39m file_finder(fpath)\n\u001b[0;32m    697\u001b[0m \u001b[39mexcept\u001b[39;00m \u001b[39mIndexError\u001b[39;00m \u001b[39mas\u001b[39;00m e:\n",
            "File \u001b[1;32mc:\\ProgramData\\Anaconda3\\envs\\pytorch-gpu\\lib\\site-packages\\IPython\\utils\\path.py:91\u001b[0m, in \u001b[0;36mget_py_filename\u001b[1;34m(name)\u001b[0m\n\u001b[0;32m     90\u001b[0m \u001b[39melse\u001b[39;00m:\n\u001b[1;32m---> 91\u001b[0m     \u001b[39mraise\u001b[39;00m \u001b[39mIOError\u001b[39;00m(\u001b[39m'\u001b[39m\u001b[39mFile `\u001b[39m\u001b[39m%r\u001b[39;00m\u001b[39m` not found.\u001b[39m\u001b[39m'\u001b[39m \u001b[39m%\u001b[39m name)\n",
            "\u001b[1;31mOSError\u001b[0m: File `\"'tools.py'.py\"` not found.",
            "\nThe above exception was the direct cause of the following exception:\n",
            "\u001b[1;31mException\u001b[0m                                 Traceback (most recent call last)",
            "\u001b[1;32mc:\\Users\\karna\\Desktop\\Projects\\MasterArtificialIntelligencePTs\\S3\\RDFIA\\TME\\TME1\\1_ab_Sift_&_Bow.ipynb Cellule 3\u001b[0m in \u001b[0;36m<cell line: 6>\u001b[1;34m()\u001b[0m\n\u001b[0;32m      <a href='vscode-notebook-cell:/c%3A/Users/karna/Desktop/Projects/MasterArtificialIntelligencePTs/S3/RDFIA/TME/TME1/1_ab_Sift_%26_Bow.ipynb#W2sZmlsZQ%3D%3D?line=2'>3</a>\u001b[0m get_ipython()\u001b[39m.\u001b[39mrun_line_magic(\u001b[39m'\u001b[39m\u001b[39mmatplotlib\u001b[39m\u001b[39m'\u001b[39m, \u001b[39m'\u001b[39m\u001b[39minline\u001b[39m\u001b[39m'\u001b[39m)\n\u001b[0;32m      <a href='vscode-notebook-cell:/c%3A/Users/karna/Desktop/Projects/MasterArtificialIntelligencePTs/S3/RDFIA/TME/TME1/1_ab_Sift_%26_Bow.ipynb#W2sZmlsZQ%3D%3D?line=4'>5</a>\u001b[0m \u001b[39mimport\u001b[39;00m \u001b[39mnumpy\u001b[39;00m \u001b[39mas\u001b[39;00m \u001b[39mnp\u001b[39;00m\n\u001b[1;32m----> <a href='vscode-notebook-cell:/c%3A/Users/karna/Desktop/Projects/MasterArtificialIntelligencePTs/S3/RDFIA/TME/TME1/1_ab_Sift_%26_Bow.ipynb#W2sZmlsZQ%3D%3D?line=5'>6</a>\u001b[0m get_ipython()\u001b[39m.\u001b[39;49mrun_line_magic(\u001b[39m'\u001b[39;49m\u001b[39mrun\u001b[39;49m\u001b[39m'\u001b[39;49m, \u001b[39m\"\u001b[39;49m\u001b[39m'\u001b[39;49m\u001b[39mtools.py\u001b[39;49m\u001b[39m'\u001b[39;49m\u001b[39m\"\u001b[39;49m)\n\u001b[0;32m      <a href='vscode-notebook-cell:/c%3A/Users/karna/Desktop/Projects/MasterArtificialIntelligencePTs/S3/RDFIA/TME/TME1/1_ab_Sift_%26_Bow.ipynb#W2sZmlsZQ%3D%3D?line=6'>7</a>\u001b[0m \u001b[39mfrom\u001b[39;00m \u001b[39mos\u001b[39;00m\u001b[39m.\u001b[39;00m\u001b[39mpath\u001b[39;00m \u001b[39mimport\u001b[39;00m join\n\u001b[0;32m      <a href='vscode-notebook-cell:/c%3A/Users/karna/Desktop/Projects/MasterArtificialIntelligencePTs/S3/RDFIA/TME/TME1/1_ab_Sift_%26_Bow.ipynb#W2sZmlsZQ%3D%3D?line=8'>9</a>\u001b[0m data_path \u001b[39m=\u001b[39m \u001b[39m\"\u001b[39m\u001b[39mdata\u001b[39m\u001b[39m\"\u001b[39m\n",
            "File \u001b[1;32mc:\\ProgramData\\Anaconda3\\envs\\pytorch-gpu\\lib\\site-packages\\IPython\\core\\interactiveshell.py:2294\u001b[0m, in \u001b[0;36mInteractiveShell.run_line_magic\u001b[1;34m(self, magic_name, line, _stack_depth)\u001b[0m\n\u001b[0;32m   2292\u001b[0m     kwargs[\u001b[39m'\u001b[39m\u001b[39mlocal_ns\u001b[39m\u001b[39m'\u001b[39m] \u001b[39m=\u001b[39m \u001b[39mself\u001b[39m\u001b[39m.\u001b[39mget_local_scope(stack_depth)\n\u001b[0;32m   2293\u001b[0m \u001b[39mwith\u001b[39;00m \u001b[39mself\u001b[39m\u001b[39m.\u001b[39mbuiltin_trap:\n\u001b[1;32m-> 2294\u001b[0m     result \u001b[39m=\u001b[39m fn(\u001b[39m*\u001b[39margs, \u001b[39m*\u001b[39m\u001b[39m*\u001b[39mkwargs)\n\u001b[0;32m   2295\u001b[0m \u001b[39mreturn\u001b[39;00m result\n",
            "File \u001b[1;32mc:\\ProgramData\\Anaconda3\\envs\\pytorch-gpu\\lib\\site-packages\\IPython\\core\\magics\\execution.py:707\u001b[0m, in \u001b[0;36mExecutionMagics.run\u001b[1;34m(self, parameter_s, runner, file_finder)\u001b[0m\n\u001b[0;32m    705\u001b[0m     \u001b[39mif\u001b[39;00m os\u001b[39m.\u001b[39mname \u001b[39m==\u001b[39m \u001b[39m'\u001b[39m\u001b[39mnt\u001b[39m\u001b[39m'\u001b[39m \u001b[39mand\u001b[39;00m re\u001b[39m.\u001b[39mmatch(\u001b[39mr\u001b[39m\u001b[39m\"\u001b[39m\u001b[39m^\u001b[39m\u001b[39m'\u001b[39m\u001b[39m.*\u001b[39m\u001b[39m'\u001b[39m\u001b[39m$\u001b[39m\u001b[39m\"\u001b[39m,fpath):\n\u001b[0;32m    706\u001b[0m         warn(\u001b[39m'\u001b[39m\u001b[39mFor Windows, use double quotes to wrap a filename: \u001b[39m\u001b[39m%r\u001b[39;00m\u001b[39mun \u001b[39m\u001b[39m\"\u001b[39m\u001b[39mmypath\u001b[39m\u001b[39m\\\\\u001b[39;00m\u001b[39mmyfile.py\u001b[39m\u001b[39m\"\u001b[39m\u001b[39m'\u001b[39m)\n\u001b[1;32m--> 707\u001b[0m     \u001b[39mraise\u001b[39;00m \u001b[39mException\u001b[39;00m(msg) \u001b[39mfrom\u001b[39;00m \u001b[39me\u001b[39;00m\n\u001b[0;32m    708\u001b[0m \u001b[39mexcept\u001b[39;00m \u001b[39mTypeError\u001b[39;00m:\n\u001b[0;32m    709\u001b[0m     \u001b[39mif\u001b[39;00m fpath \u001b[39min\u001b[39;00m sys\u001b[39m.\u001b[39mmeta_path:\n",
            "\u001b[1;31mException\u001b[0m: File `\"'tools.py'.py\"` not found."
          ]
        }
      ],
      "source": [
        "import matplotlib\n",
        "import matplotlib.pyplot as plt\n",
        "%matplotlib inline  \n",
        "\n",
        "import numpy as np\n",
        "%run 'tools.py'\n",
        "from os.path import join\n",
        "\n",
        "data_path = \"data\""
      ]
    },
    {
      "cell_type": "markdown",
      "metadata": {
        "id": "48x_ha7f8J5i"
      },
      "source": [
        "# Part 1 : SIFT"
      ]
    },
    {
      "cell_type": "code",
      "execution_count": null,
      "metadata": {
        "id": "pxZOH3wD8J5i"
      },
      "outputs": [],
      "source": [
        "# example images\n",
        "I = read_grayscale(join(data_path, 'tools.tiff'))\n",
        "I2 = read_grayscale(join(data_path, 'Scene/CALsuburb/image_0205.jpg'))\n",
        "plt.imshow(I ,  cmap='gray' )"
      ]
    },
    {
      "cell_type": "code",
      "execution_count": null,
      "metadata": {
        "id": "EJKLEzx88J5k"
      },
      "outputs": [],
      "source": [
        "def compute_grad(I):\n",
        "    #####################\n",
        "    ## Your code here  ##\n",
        "    #####################\n",
        "\n",
        "    ####################\n",
        "    ##      END        #\n",
        "    ####################\n",
        "    return Ix, Iy\n",
        "\n",
        "# Example\n",
        "Ix, Iy = compute_grad(I)\n",
        "plt.imshow(Ix ,  cmap='gray')\n",
        "plt.colorbar()\n",
        "plt.show()\n",
        "plt.imshow(Iy ,  cmap='gray')\n",
        "plt.colorbar()\n",
        "plt.show()"
      ]
    },
    {
      "cell_type": "code",
      "execution_count": null,
      "metadata": {
        "id": "GtizX1JV8J5n"
      },
      "outputs": [],
      "source": [
        "def compute_grad_mod_ori(I):\n",
        "    #####################\n",
        "    ## Your code here  ##\n",
        "    #####################\n",
        "\n",
        "    \n",
        "    ####################\n",
        "    ##      END        #\n",
        "    ####################\n",
        "    return Gn, Go"
      ]
    },
    {
      "cell_type": "code",
      "execution_count": null,
      "metadata": {
        "id": "ktUrFzsk8J5p"
      },
      "outputs": [],
      "source": [
        "Gn, Go = compute_grad_mod_ori(I)\n",
        "plt.imshow(Gn)\n",
        "plt.show()\n",
        "plt.imshow(Go)\n",
        "plt.show()"
      ]
    },
    {
      "cell_type": "code",
      "execution_count": null,
      "metadata": {
        "id": "gOo5S8nu8J5r"
      },
      "outputs": [],
      "source": [
        "def compute_histogram(g_n, g_o):\n",
        "    \"\"\"\n",
        "    g_n and g_o are 4x4 matrices that contain the norm, and the discretized orientation.\n",
        "    Warning: g_o can contain -1, those values should be discarded.\n",
        "    \"\"\"\n",
        "    hist = np.zeros((8))\n",
        "\n",
        "    #####################\n",
        "    ## Votre code ici  ##\n",
        "    #####################\n",
        "\n",
        "    \n",
        "    ####################\n",
        "    ##      FIN        #\n",
        "    ####################\n",
        "    return hist\n",
        "  "
      ]
    },
    {
      "cell_type": "code",
      "execution_count": null,
      "metadata": {
        "id": "eAsumzFI8J5u"
      },
      "outputs": [],
      "source": [
        "def compute_sift_region(Gn, Go, mask=None):\n",
        "    t_min=.5\n",
        "    t_max=.2\n",
        "    with_l2 = True\n",
        "\n",
        "    patch_size = 16\n",
        "    sift = np.zeros((128)) \n",
        "\n",
        "    if mask is not None:\n",
        "        Gn = Gn * mask\n",
        "    \n",
        "    idx = 0\n",
        "    for k in range(0, patch_size, 4):\n",
        "        for l in range(0, patch_size, 4):\n",
        "            hist = compute_histogram(Gn[l:l+4,k:k+4], Go[l:l+4,k:k+4])            \n",
        "            sift[idx:idx+8] = hist\n",
        "            idx += 8\n",
        "\n",
        "    norm = np.linalg.norm(sift, ord=2)\n",
        "    # min thresholding on norm\n",
        "    if norm <= t_min:\n",
        "        return np.zeros((128))\n",
        "    # l2-normalization\n",
        "    if with_l2:\n",
        "        sift = sift / norm\n",
        "    # max thresholding on values\n",
        "    sift[sift >= t_max] = t_max\n",
        "    # l2-normalization\n",
        "    if with_l2:\n",
        "        norm = np.linalg.norm(sift, ord=2)\n",
        "        sift = sift / norm\n",
        "    return sift"
      ]
    },
    {
      "cell_type": "code",
      "execution_count": null,
      "metadata": {
        "id": "GESlu74v8J5w"
      },
      "outputs": [],
      "source": [
        "# Example of viz of SIFTs\n",
        "# set gausm to True to apply mask weighting of gradients\n",
        "#display_sift_region(I,           compute_grad_mod_ori, compute_sift_region, x=200, y=78, gausm=False)\n",
        "#display_sift_region(marche_im(), compute_grad_mod_ori, compute_sift_region, x=100, y=125, gausm=False)\n",
        "#display_sift_region(marche_im(), compute_grad_mod_ori, compute_sift_region, x=100, y=125, gausm=False)\n",
        "#display_sift_region(marche_im(), compute_grad_mod_ori, compute_sift_region, x=125, y=100, gausm=False)\n",
        "#display_sift_region(marche_im(), compute_grad_mod_ori, compute_sift_region, x=121, y=121, gausm=False)\n",
        "#display_sift_region(toy_im(),    compute_grad_mod_ori, compute_sift_region, x=95, y=95, gausm=False)"
      ]
    },
    {
      "cell_type": "code",
      "execution_count": null,
      "metadata": {
        "id": "f68dU2zc8J5y"
      },
      "outputs": [],
      "source": [
        "def compute_sift_image(I):\n",
        "    x, y = dense_sampling(I)\n",
        "    im = auto_padding(I)\n",
        "    m = gaussian_mask()\n",
        "    \n",
        "    #####################\n",
        "    ## Your code here  ##\n",
        "    #####################\n",
        "    # Here, compute on the global image (norm, gradients)\n",
        "    Gn, Go = None\n",
        "\n",
        "    ####################\n",
        "    ##      END        #\n",
        "    ####################\n",
        "\n",
        "    sifts = np.zeros((len(x), len(y), 128))\n",
        "    for i, xi in enumerate(x):\n",
        "        for j, yj in enumerate(y):\n",
        "            #####################\n",
        "            ## Your code here  ##\n",
        "            #####################\n",
        "\n",
        "            sifts[i, j, :] = None # TODO SIFT of the patch of coords (xi, yj)\n",
        "\n",
        "            ####################\n",
        "            ##      END        #\n",
        "            ####################\n",
        "\n",
        "    return sifts"
      ]
    },
    {
      "cell_type": "markdown",
      "metadata": {
        "id": "yZukBC_K8J50"
      },
      "source": [
        "# Compute SIFT"
      ]
    },
    {
      "cell_type": "markdown",
      "metadata": {
        "id": "yrzmLgQA8J50"
      },
      "source": [
        "The computation can take several minutes."
      ]
    },
    {
      "cell_type": "code",
      "execution_count": null,
      "metadata": {
        "id": "oGMbF2Sj9cus"
      },
      "outputs": [],
      "source": [
        "from google.colab import drive\n",
        "drive.mount('/content/gdrive')"
      ]
    },
    {
      "cell_type": "code",
      "execution_count": null,
      "metadata": {
        "id": "PlKBdt558J57"
      },
      "outputs": [],
      "source": [
        "max_images_per_class = 10  # You can change this to None to compute the whole dataset (takes quite some time)\n",
        "\n",
        "save_path = \"/content/gdrive/My Drive/rdfia/\"\n",
        "dir_sc = os.path.join(data_path, 'Scene')\n",
        "dir_sift = os.path.join(save_path, 'sift')\n",
        "inames, ilabls, cnames = load_dataset(dir_sc, images_per_class=max_images_per_class)\n",
        "sifts_list_by_image = compute_load_sift_dataset(dir_sc, dir_sift, inames, compute_sift_image)"
      ]
    },
    {
      "cell_type": "markdown",
      "metadata": {
        "id": "OrHHH5PL8J54"
      },
      "source": [
        "# Part 2 : Visual dictionnary"
      ]
    },
    {
      "cell_type": "code",
      "execution_count": null,
      "metadata": {
        "id": "9q755wymUvQQ"
      },
      "outputs": [],
      "source": [
        "from sklearn.cluster import KMeans\n",
        "\n",
        "path_vdict = os.path.join(save_path, 'kmeans', 'vdict.npy')\n",
        "os.makedirs(os.path.join(save_path, 'kmeans'), exist_ok=True)"
      ]
    },
    {
      "cell_type": "code",
      "execution_count": null,
      "metadata": {
        "id": "w42e1Z6d8J6A"
      },
      "outputs": [],
      "source": [
        "# Code here the `compute_visual_dict` function\n",
        "def compute_visual_dict(sift, n_clusters=1000, n_init=1, verbose=1):\n",
        "    # reorder data\n",
        "    dim_sift = sift[0].shape[-1]\n",
        "    sift = [s.reshape(-1, dim_sift) for s in sift]\n",
        "    sift = np.concatenate(sift, axis=0)\n",
        "    # remove zero vectors\n",
        "    keep = ~np.all(sift==0, axis=1)\n",
        "    sift = sift[keep]\n",
        "    # randomly pick sift\n",
        "    ids, _ = compute_split(sift.shape[0], pc=0.05)\n",
        "    sift = sift[ids]\n",
        "\n",
        "    # TODO compute kmeans on `sift`, get cluster centers, add zeros vector, and return visual dict\n",
        "    #####################\n",
        "    ## Your code here  ##\n",
        "    #####################\n",
        "\n",
        "    vdict = None\n",
        "    \n",
        "    ####################\n",
        "    ##      END        #\n",
        "    ####################\n",
        "    return vdict\n"
      ]
    },
    {
      "cell_type": "code",
      "execution_count": null,
      "metadata": {
        "id": "97qG503C8J6C"
      },
      "outputs": [],
      "source": [
        "# Run the visual dict computation (saved the first time)\n",
        "vdict = compute_or_load_vdict(dir_sc, dir_sift, inames, compute_sift_image, path_vdict, compute_visual_dict)"
      ]
    },
    {
      "cell_type": "code",
      "execution_count": null,
      "metadata": {
        "id": "pcpOdcs58J6F"
      },
      "outputs": [],
      "source": [
        "# Study of the dict\n",
        "\n",
        "# choose random images\n",
        "indexes = np.random.randint(0, len(inames), 30)\n",
        "sifts = [sifts_list_by_image[i] for i in indexes]\n",
        "chosen_inames = [inames[i] for i in indexes]\n",
        "\n",
        "regions, sifts = get_regions_and_sifts(dir_sc, chosen_inames, sifts) # Compute SIFT and regions from 30 random images\n",
        "# display_images(regions[np.random.choice(len(regions), 100)]) # Show 100 random regions\n",
        "\n",
        "centers = list(range(20))\n",
        "for center in centers:\n",
        "  center_vect = vdict[center]\n",
        "  dist = ((sifts - center_vect)**2).sum(axis=1)\n",
        "  # get best 100\n",
        "  top100 = dist.argsort()[:100]\n",
        "  top100_regions = regions[top100]\n",
        "  display_images(top100_regions) # Show 100 random regions"
      ]
    },
    {
      "cell_type": "markdown",
      "metadata": {
        "id": "5FV1iss68J6H"
      },
      "source": [
        "# Partie 3 : BoW"
      ]
    },
    {
      "cell_type": "code",
      "execution_count": null,
      "metadata": {
        "id": "5-h4r-FH8J6I"
      },
      "outputs": [],
      "source": [
        "# TODO Compute BoW for an image\n",
        "# indication: scipy.spatial.distance_matrix\n",
        "from sklearn.metrics.pairwise import euclidean_distances\n",
        "from scipy.spatial import distance_matrix\n",
        "\n",
        "def compute_feats(vdict, image_sifts):\n",
        "    \"\"\"\n",
        "    vdict: (num_clusters, 128): visual dictionnary containing all clusters.\n",
        "    image_sifts: (H, W, 128) all sift features from the given image\n",
        "    \"\"\"\n",
        "    # flatten sifts\n",
        "    sifts = image_sifts.reshape(-1, 128)  # (N, 128)\n",
        "    feats = np.zeros(vdict.shape[0])\n",
        "\n",
        "    ##################### \n",
        "    ## Your code here  ##\n",
        "    #####################\n",
        "    # compute distance from image sifts to vdict\n",
        "\n",
        "  \n",
        "    ####################\n",
        "    ##      END        #\n",
        "    ####################\n",
        "    return feats"
      ]
    },
    {
      "cell_type": "code",
      "execution_count": null,
      "metadata": {
        "id": "Is9sv-RM8J6K"
      },
      "outputs": [],
      "source": [
        "# Visualize your BoW on an image\n",
        "\n",
        "iname = inames[0]\n",
        "ipath = os.path.join(dir_sc, iname)\n",
        "im = read_grayscale(ipath)\n",
        "sift = compute_sift_image(im)\n",
        "sift = (sift * 255).astype('uint8')\n",
        "regions = compute_regions(im)\n",
        "feats = compute_feats(vdict, sift)\n",
        "\n",
        "display_vdregions_image(im, vdict, sift, feats, vdregions=None) # if you have vdregions, add it as input here"
      ]
    },
    {
      "cell_type": "markdown",
      "metadata": {
        "id": "xEmnYyZdE_vH"
      },
      "source": []
    }
  ],
  "metadata": {
    "colab": {
      "collapsed_sections": [],
      "provenance": []
    },
    "kernelspec": {
      "display_name": "Python 3.9.12 ('pytorch-gpu')",
      "language": "python",
      "name": "python3"
    },
    "language_info": {
      "codemirror_mode": {
        "name": "ipython",
        "version": 3
      },
      "file_extension": ".py",
      "mimetype": "text/x-python",
      "name": "python",
      "nbconvert_exporter": "python",
      "pygments_lexer": "ipython3",
      "version": "3.9.12"
    },
    "vscode": {
      "interpreter": {
        "hash": "90c370e87a670179b214e3307f5fe9782ce337582add0d141ac8964609230e8c"
      }
    }
  },
  "nbformat": 4,
  "nbformat_minor": 0
}
