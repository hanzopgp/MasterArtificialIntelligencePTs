{
  "nbformat": 4,
  "nbformat_minor": 0,
  "metadata": {
    "colab": {
      "provenance": [],
      "collapsed_sections": []
    },
    "kernelspec": {
      "name": "python3",
      "display_name": "Python 3"
    }
  },
  "cells": [
    {
      "cell_type": "markdown",
      "metadata": {
        "id": "zTKZy7Gj6veU"
      },
      "source": [
        "<center><h1>1-c: SVM</h1></center>\n",
        "\n",
        "<center><h2><a href=\"https://rdfia.github.io/\">Course link</a></h2></center>\n",
        "\n",
        "To keep your modifications in case you want to come back later to this colab, do *File -> Save a copy in Drive*.\n",
        "\n"
      ]
    },
    {
      "cell_type": "code",
      "metadata": {
        "id": "QK8of_MGVV2M",
        "colab": {
          "base_uri": "https://localhost:8080/"
        },
        "outputId": "63718cbc-63f5-4db8-f964-59fcc79d7410"
      },
      "source": [
        "!wget http://webia.lip6.fr/~douillard/rdfia/15_scenes_Xy.npz"
      ],
      "execution_count": 1,
      "outputs": [
        {
          "output_type": "stream",
          "name": "stdout",
          "text": [
            "--2022-10-10 16:19:23--  http://webia.lip6.fr/~douillard/rdfia/15_scenes_Xy.npz\n",
            "Resolving webia.lip6.fr (webia.lip6.fr)... 132.227.201.33\n",
            "Connecting to webia.lip6.fr (webia.lip6.fr)|132.227.201.33|:80... connected.\n",
            "HTTP request sent, awaiting response... 200 OK\n",
            "Length: 35952210 (34M) [text/plain]\n",
            "Saving to: ‘15_scenes_Xy.npz’\n",
            "\n",
            "15_scenes_Xy.npz    100%[===================>]  34.29M  14.0MB/s    in 2.4s    \n",
            "\n",
            "2022-10-10 16:19:26 (14.0 MB/s) - ‘15_scenes_Xy.npz’ saved [35952210/35952210]\n",
            "\n"
          ]
        }
      ]
    },
    {
      "cell_type": "code",
      "metadata": {
        "id": "PH3AHmt_WAOs",
        "colab": {
          "base_uri": "https://localhost:8080/"
        },
        "outputId": "746decae-b51f-4f47-b66e-12cfe5cc350f"
      },
      "source": [
        "%pylab inline\n",
        "\n",
        "import matplotlib.pyplot as plt\n",
        "import numpy as np\n",
        "from sklearn.svm import SVC\n",
        "from sklearn.model_selection import StratifiedKFold, KFold, train_test_split"
      ],
      "execution_count": 2,
      "outputs": [
        {
          "output_type": "stream",
          "name": "stdout",
          "text": [
            "Populating the interactive namespace from numpy and matplotlib\n"
          ]
        }
      ]
    },
    {
      "cell_type": "markdown",
      "metadata": {
        "id": "A6TfY3K0W8MM"
      },
      "source": [
        "Loading BoW of the whole dataset (4485 images, thus 4485 dictionnary of 1001 words):"
      ]
    },
    {
      "cell_type": "code",
      "metadata": {
        "id": "FWLV0po7WO1E",
        "colab": {
          "base_uri": "https://localhost:8080/"
        },
        "outputId": "de1a2927-51f0-41c0-99e7-469da2abcfd7"
      },
      "source": [
        "data = np.load(\"15_scenes_Xy.npz\")\n",
        "X = data[\"X\"]\n",
        "y = data[\"y\"]\n",
        "\n",
        "X.shape, y.shape"
      ],
      "execution_count": 3,
      "outputs": [
        {
          "output_type": "execute_result",
          "data": {
            "text/plain": [
              "((4485, 1001), (4485,))"
            ]
          },
          "metadata": {},
          "execution_count": 3
        }
      ]
    },
    {
      "cell_type": "markdown",
      "metadata": {
        "id": "Sfh5x5kYXFcY"
      },
      "source": [
        "Let's see what is the class distribution:"
      ]
    },
    {
      "cell_type": "code",
      "metadata": {
        "id": "RqNSdTTkWiPQ",
        "colab": {
          "base_uri": "https://localhost:8080/"
        },
        "outputId": "c5b55cb4-2089-400c-8556-7339b449f213"
      },
      "source": [
        "{c: nb for c, nb in enumerate(np.bincount(y))}"
      ],
      "execution_count": 4,
      "outputs": [
        {
          "output_type": "execute_result",
          "data": {
            "text/plain": [
              "{0: 241,\n",
              " 1: 360,\n",
              " 2: 328,\n",
              " 3: 260,\n",
              " 4: 308,\n",
              " 5: 374,\n",
              " 6: 410,\n",
              " 7: 292,\n",
              " 8: 356,\n",
              " 9: 215,\n",
              " 10: 216,\n",
              " 11: 311,\n",
              " 12: 210,\n",
              " 13: 289,\n",
              " 14: 315}"
            ]
          },
          "metadata": {},
          "execution_count": 4
        }
      ]
    },
    {
      "cell_type": "markdown",
      "metadata": {
        "id": "MVUjgR30X7pI"
      },
      "source": [
        "Split the dataset into a train & test set:"
      ]
    },
    {
      "cell_type": "code",
      "metadata": {
        "id": "AO4XiNupWjVk"
      },
      "source": [
        "# X_train, X_test, y_train, y_test = train_test_split(X, y, train_size=0.7)\n",
        "\n",
        "skf = StratifiedKFold(n_splits=5)\n",
        "for train, test in skf.split(X, y):\n",
        "  X_train = X[train]\n",
        "  y_train = y[train]\n",
        "  X_test = X[test]\n",
        "  y_test = y[test]\n",
        "  break"
      ],
      "execution_count": 5,
      "outputs": []
    },
    {
      "cell_type": "markdown",
      "metadata": {
        "id": "SsnJDa_IYdmk"
      },
      "source": [
        "Then a validation set from the train set:"
      ]
    },
    {
      "cell_type": "code",
      "metadata": {
        "id": "jjX3N-35YcFs"
      },
      "source": [
        "skf = StratifiedKFold(n_splits=5)\n",
        "for train, valid in skf.split(X_train, y_train):\n",
        "  X_train = X[train]\n",
        "  y_train = y[train]\n",
        "  X_valid = X[valid]\n",
        "  y_valid = y[valid]\n",
        "  break"
      ],
      "execution_count": 6,
      "outputs": []
    },
    {
      "cell_type": "code",
      "source": [
        "print(X_train.shape, y_train.shape, X_valid.shape, y_valid.shape, X_test.shape, y_test.shape)"
      ],
      "metadata": {
        "colab": {
          "base_uri": "https://localhost:8080/"
        },
        "id": "ZbuJRLQBfIzL",
        "outputId": "20b19b9b-ae0c-421d-e9f3-81fa8a5bd50f"
      },
      "execution_count": 7,
      "outputs": [
        {
          "output_type": "stream",
          "name": "stdout",
          "text": [
            "(2870, 1001) (2870,) (718, 1001) (718,) (897, 1001) (897,)\n"
          ]
        }
      ]
    },
    {
      "cell_type": "markdown",
      "metadata": {
        "id": "NHlcmt-SYBKQ"
      },
      "source": [
        "Let's hyperparameter gridsearch over different values of `C`:"
      ]
    },
    {
      "cell_type": "code",
      "metadata": {
        "id": "F9wZ9l5FX_QY",
        "colab": {
          "base_uri": "https://localhost:8080/"
        },
        "outputId": "bb90b431-da66-4116-a801-597f2bb1ad12"
      },
      "source": [
        "C_values = np.logspace(0.1, 3, num=10)\n",
        "accuracies = []\n",
        "\n",
        "for c in C_values:\n",
        "  print(f'Training SVM with C={c}')\n",
        "\n",
        "  clf = SVC(C=c)\n",
        "\n",
        "  # Fit on sub-train set\n",
        "  clf.fit(X_train, y_train)\n",
        "\n",
        "  # Evaluate on val set\n",
        "  acc = clf.score(X_valid, y_valid)\n",
        "  accuracies.append(acc)\n",
        "\n",
        "  print(f'--> accuracy = {acc}')"
      ],
      "execution_count": 9,
      "outputs": [
        {
          "output_type": "stream",
          "name": "stdout",
          "text": [
            "Training SVM with C=1.2589254117941673\n",
            "--> accuracy = 0.5139275766016713\n",
            "Training SVM with C=2.6437611857490992\n",
            "--> accuracy = 0.5766016713091922\n",
            "Training SVM with C=5.551935914386208\n",
            "--> accuracy = 0.6350974930362117\n",
            "Training SVM with C=11.659144011798316\n",
            "--> accuracy = 0.66991643454039\n",
            "Training SVM with C=24.484367468222267\n",
            "--> accuracy = 0.6977715877437326\n",
            "Training SVM with C=51.41751827683925\n",
            "--> accuracy = 0.713091922005571\n",
            "Training SVM with C=107.97751623277094\n",
            "--> accuracy = 0.7158774373259053\n",
            "Training SVM with C=226.7543125870802\n",
            "--> accuracy = 0.7158774373259053\n",
            "Training SVM with C=476.1872663008535\n",
            "--> accuracy = 0.7158774373259053\n",
            "Training SVM with C=1000.0\n",
            "--> accuracy = 0.7158774373259053\n"
          ]
        }
      ]
    },
    {
      "cell_type": "code",
      "metadata": {
        "id": "a8md3e7iZN5M",
        "colab": {
          "base_uri": "https://localhost:8080/",
          "height": 530
        },
        "outputId": "4bd4c8b5-c405-4fbf-c619-309962c708bc"
      },
      "source": [
        "# TODO plot the relation between `c` and the accuracy\n",
        "plt.figure(figsize=(8,8))\n",
        "plt.scatter(C_values, accuracies)\n",
        "plt.xlabel(\"C value\")\n",
        "plt.ylabel(\"Accuracy\")\n",
        "plt.legend(loc='upper right')\n",
        "plt.title(\"Relation between C and the accuracy\")\n",
        "plt.show()"
      ],
      "execution_count": 10,
      "outputs": [
        {
          "output_type": "stream",
          "name": "stderr",
          "text": [
            "WARNING:matplotlib.legend:No handles with labels found to put in legend.\n"
          ]
        },
        {
          "output_type": "display_data",
          "data": {
            "text/plain": [
              "<Figure size 576x576 with 1 Axes>"
            ],
            "image/png": "[encoded data removed]"
          },
          "metadata": {
            "needs_background": "light"
          }
        }
      ]
    },
    {
      "cell_type": "code",
      "metadata": {
        "id": "SK7WWSltbJbc",
        "colab": {
          "base_uri": "https://localhost:8080/"
        },
        "outputId": "6a22055a-1e67-4e6d-f2f3-027c163287b5"
      },
      "source": [
        "clf = SVC(C=100)\n",
        "clf.fit(X_train, y_train)\n",
        "acc1 = clf.score(X_train, y_train)\n",
        "acc2 = clf.score(X_valid, y_valid)\n",
        "acc3 = clf.score(X_test, y_test)\n",
        "\n",
        "print(acc1, acc2, acc3)"
      ],
      "execution_count": 12,
      "outputs": [
        {
          "output_type": "stream",
          "name": "stdout",
          "text": [
            "0.9996515679442509 0.7172701949860725 0.778149386845039\n"
          ]
        }
      ]
    },
    {
      "cell_type": "markdown",
      "metadata": {
        "id": "iCRk9QaGbiuM"
      },
      "source": [
        "Do the same with different kernel values, and different decision functions:"
      ]
    },
    {
      "cell_type": "code",
      "metadata": {
        "id": "Pwd0BdIhbR5o",
        "colab": {
          "base_uri": "https://localhost:8080/"
        },
        "outputId": "1e7ca7e4-96b5-4a50-e1ca-59a0992b8209"
      },
      "source": [
        "from sklearn.model_selection import GridSearchCV\n",
        "from sklearn import svm\n",
        "\n",
        "C_values = [100]\n",
        "# C_values = np.logspace(0.1, 3, num=10)\n",
        "# C_values = np.logspace(0.1, 2, num=10)\n",
        "parameters = {'kernel':('linear', 'rbf', 'sigmoid', 'poly'), 'C':C_values, 'class_weight':[None, 'balanced'], 'decision_function_shape':['ovr', 'ovo']}\n",
        "\n",
        "svc = svm.SVC()\n",
        "clf = GridSearchCV(svc, parameters, n_jobs=-1, verbose=3)\n",
        "clf.fit(X_train, y_train)"
      ],
      "execution_count": 13,
      "outputs": [
        {
          "output_type": "stream",
          "name": "stdout",
          "text": [
            "Fitting 5 folds for each of 16 candidates, totalling 80 fits\n"
          ]
        },
        {
          "output_type": "execute_result",
          "data": {
            "text/plain": [
              "GridSearchCV(estimator=SVC(), n_jobs=-1,\n",
              "             param_grid={'C': [100], 'class_weight': [None, 'balanced'],\n",
              "                         'decision_function_shape': ['ovr', 'ovo'],\n",
              "                         'kernel': ('linear', 'rbf', 'sigmoid', 'poly')},\n",
              "             verbose=3)"
            ]
          },
          "metadata": {},
          "execution_count": 13
        }
      ]
    },
    {
      "cell_type": "code",
      "source": [
        "import pandas as pd\n",
        "\n",
        "df = pd.DataFrame(clf.cv_results_)\n",
        "df"
      ],
      "metadata": {
        "colab": {
          "base_uri": "https://localhost:8080/",
          "height": 1000
        },
        "id": "nzkP1rKBj6f4",
        "outputId": "8b1b6d3f-4035-4960-f3cb-cf689e51204f"
      },
      "execution_count": 15,
      "outputs": [
        {
          "output_type": "execute_result",
          "data": {
            "text/plain": [
              "    mean_fit_time  std_fit_time  mean_score_time  std_score_time param_C  \\\n",
              "0        3.619491      0.072563         0.902440        0.112144     100   \n",
              "1        3.195389      0.043474         1.870066        0.057925     100   \n",
              "2        3.195234      0.078107         1.043676        0.055563     100   \n",
              "3        2.973230      0.011076         0.749993        0.047067     100   \n",
              "4        3.556392      0.045258         0.818485        0.100204     100   \n",
              "5        3.206967      0.049078         1.834251        0.053989     100   \n",
              "6        3.205816      0.113721         1.031223        0.076931     100   \n",
              "7        2.958810      0.046925         0.769814        0.053353     100   \n",
              "8        3.573120      0.070165         0.833429        0.140133     100   \n",
              "9        3.206205      0.037337         1.816667        0.055414     100   \n",
              "10       3.338562      0.090880         1.050291        0.043465     100   \n",
              "11       3.193279      0.258783         0.841742        0.126938     100   \n",
              "12       3.594289      0.036217         0.759401        0.030846     100   \n",
              "13       3.086576      0.129161         1.852762        0.047631     100   \n",
              "14       3.305492      0.181113         1.023636        0.078713     100   \n",
              "15       2.794919      0.419824         0.679182        0.145597     100   \n",
              "\n",
              "   param_class_weight param_decision_function_shape param_kernel  \\\n",
              "0                None                           ovr       linear   \n",
              "1                None                           ovr          rbf   \n",
              "2                None                           ovr      sigmoid   \n",
              "3                None                           ovr         poly   \n",
              "4                None                           ovo       linear   \n",
              "5                None                           ovo          rbf   \n",
              "6                None                           ovo      sigmoid   \n",
              "7                None                           ovo         poly   \n",
              "8            balanced                           ovr       linear   \n",
              "9            balanced                           ovr          rbf   \n",
              "10           balanced                           ovr      sigmoid   \n",
              "11           balanced                           ovr         poly   \n",
              "12           balanced                           ovo       linear   \n",
              "13           balanced                           ovo          rbf   \n",
              "14           balanced                           ovo      sigmoid   \n",
              "15           balanced                           ovo         poly   \n",
              "\n",
              "                                               params  split0_test_score  \\\n",
              "0   {'C': 100, 'class_weight': None, 'decision_fun...           0.722997   \n",
              "1   {'C': 100, 'class_weight': None, 'decision_fun...           0.716028   \n",
              "2   {'C': 100, 'class_weight': None, 'decision_fun...           0.111498   \n",
              "3   {'C': 100, 'class_weight': None, 'decision_fun...           0.580139   \n",
              "4   {'C': 100, 'class_weight': None, 'decision_fun...           0.722997   \n",
              "5   {'C': 100, 'class_weight': None, 'decision_fun...           0.716028   \n",
              "6   {'C': 100, 'class_weight': None, 'decision_fun...           0.111498   \n",
              "7   {'C': 100, 'class_weight': None, 'decision_fun...           0.580139   \n",
              "8   {'C': 100, 'class_weight': 'balanced', 'decisi...           0.722997   \n",
              "9   {'C': 100, 'class_weight': 'balanced', 'decisi...           0.717770   \n",
              "10  {'C': 100, 'class_weight': 'balanced', 'decisi...           0.097561   \n",
              "11  {'C': 100, 'class_weight': 'balanced', 'decisi...           0.580139   \n",
              "12  {'C': 100, 'class_weight': 'balanced', 'decisi...           0.722997   \n",
              "13  {'C': 100, 'class_weight': 'balanced', 'decisi...           0.717770   \n",
              "14  {'C': 100, 'class_weight': 'balanced', 'decisi...           0.097561   \n",
              "15  {'C': 100, 'class_weight': 'balanced', 'decisi...           0.580139   \n",
              "\n",
              "    split1_test_score  split2_test_score  split3_test_score  \\\n",
              "0            0.733449           0.670732           0.705575   \n",
              "1            0.747387           0.681185           0.726481   \n",
              "2            0.132404           0.142857           0.135889   \n",
              "3            0.590592           0.562718           0.564460   \n",
              "4            0.733449           0.670732           0.705575   \n",
              "5            0.747387           0.681185           0.726481   \n",
              "6            0.132404           0.142857           0.135889   \n",
              "7            0.590592           0.562718           0.564460   \n",
              "8            0.733449           0.670732           0.705575   \n",
              "9            0.750871           0.682927           0.728223   \n",
              "10           0.116725           0.114983           0.123693   \n",
              "11           0.587108           0.557491           0.562718   \n",
              "12           0.733449           0.670732           0.705575   \n",
              "13           0.750871           0.682927           0.728223   \n",
              "14           0.116725           0.114983           0.123693   \n",
              "15           0.587108           0.557491           0.562718   \n",
              "\n",
              "    split4_test_score  mean_test_score  std_test_score  rank_test_score  \n",
              "0            0.698606         0.706272        0.021636                5  \n",
              "1            0.705575         0.715331        0.021971                3  \n",
              "2            0.168990         0.138328        0.018555               13  \n",
              "3            0.534843         0.566551        0.018905                9  \n",
              "4            0.698606         0.706272        0.021636                5  \n",
              "5            0.705575         0.715331        0.021971                3  \n",
              "6            0.168990         0.138328        0.018555               13  \n",
              "7            0.534843         0.566551        0.018905                9  \n",
              "8            0.698606         0.706272        0.021636                5  \n",
              "9            0.705575         0.717073        0.022651                1  \n",
              "10           0.156794         0.121951        0.019431               15  \n",
              "11           0.536585         0.564808        0.017814               11  \n",
              "12           0.698606         0.706272        0.021636                5  \n",
              "13           0.705575         0.717073        0.022651                1  \n",
              "14           0.156794         0.121951        0.019431               15  \n",
              "15           0.536585         0.564808        0.017814               11  "
            ],
            "text/html": [
              "\n",
              "  <div id=\"df-db513d93-ef76-45af-9821-1e0168340295\">\n",
              "    <div class=\"colab-df-container\">\n",
              "      <div>\n",
              "<style scoped>\n",
              "    .dataframe tbody tr th:only-of-type {\n",
              "        vertical-align: middle;\n",
              "    }\n",
              "\n",
              "    .dataframe tbody tr th {\n",
              "        vertical-align: top;\n",
              "    }\n",
              "\n",
              "    .dataframe thead th {\n",
              "        text-align: right;\n",
              "    }\n",
              "</style>\n",
              "<table border=\"1\" class=\"dataframe\">\n",
              "  <thead>\n",
              "    <tr style=\"text-align: right;\">\n",
              "      <th></th>\n",
              "      <th>mean_fit_time</th>\n",
              "      <th>std_fit_time</th>\n",
              "      <th>mean_score_time</th>\n",
              "      <th>std_score_time</th>\n",
              "      <th>param_C</th>\n",
              "      <th>param_class_weight</th>\n",
              "      <th>param_decision_function_shape</th>\n",
              "      <th>param_kernel</th>\n",
              "      <th>params</th>\n",
              "      <th>split0_test_score</th>\n",
              "      <th>split1_test_score</th>\n",
              "      <th>split2_test_score</th>\n",
              "      <th>split3_test_score</th>\n",
              "      <th>split4_test_score</th>\n",
              "      <th>mean_test_score</th>\n",
              "      <th>std_test_score</th>\n",
              "      <th>rank_test_score</th>\n",
              "    </tr>\n",
              "  </thead>\n",
              "  <tbody>\n",
              "    <tr>\n",
              "      <th>0</th>\n",
              "      <td>3.619491</td>\n",
              "      <td>0.072563</td>\n",
              "      <td>0.902440</td>\n",
              "      <td>0.112144</td>\n",
              "      <td>100</td>\n",
              "      <td>None</td>\n",
              "      <td>ovr</td>\n",
              "      <td>linear</td>\n",
              "      <td>{'C': 100, 'class_weight': None, 'decision_fun...</td>\n",
              "      <td>0.722997</td>\n",
              "      <td>0.733449</td>\n",
              "      <td>0.670732</td>\n",
              "      <td>0.705575</td>\n",
              "      <td>0.698606</td>\n",
              "      <td>0.706272</td>\n",
              "      <td>0.021636</td>\n",
              "      <td>5</td>\n",
              "    </tr>\n",
              "    <tr>\n",
              "      <th>1</th>\n",
              "      <td>3.195389</td>\n",
              "      <td>0.043474</td>\n",
              "      <td>1.870066</td>\n",
              "      <td>0.057925</td>\n",
              "      <td>100</td>\n",
              "      <td>None</td>\n",
              "      <td>ovr</td>\n",
              "      <td>rbf</td>\n",
              "      <td>{'C': 100, 'class_weight': None, 'decision_fun...</td>\n",
              "      <td>0.716028</td>\n",
              "      <td>0.747387</td>\n",
              "      <td>0.681185</td>\n",
              "      <td>0.726481</td>\n",
              "      <td>0.705575</td>\n",
              "      <td>0.715331</td>\n",
              "      <td>0.021971</td>\n",
              "      <td>3</td>\n",
              "    </tr>\n",
              "    <tr>\n",
              "      <th>2</th>\n",
              "      <td>3.195234</td>\n",
              "      <td>0.078107</td>\n",
              "      <td>1.043676</td>\n",
              "      <td>0.055563</td>\n",
              "      <td>100</td>\n",
              "      <td>None</td>\n",
              "      <td>ovr</td>\n",
              "      <td>sigmoid</td>\n",
              "      <td>{'C': 100, 'class_weight': None, 'decision_fun...</td>\n",
              "      <td>0.111498</td>\n",
              "      <td>0.132404</td>\n",
              "      <td>0.142857</td>\n",
              "      <td>0.135889</td>\n",
              "      <td>0.168990</td>\n",
              "      <td>0.138328</td>\n",
              "      <td>0.018555</td>\n",
              "      <td>13</td>\n",
              "    </tr>\n",
              "    <tr>\n",
              "      <th>3</th>\n",
              "      <td>2.973230</td>\n",
              "      <td>0.011076</td>\n",
              "      <td>0.749993</td>\n",
              "      <td>0.047067</td>\n",
              "      <td>100</td>\n",
              "      <td>None</td>\n",
              "      <td>ovr</td>\n",
              "      <td>poly</td>\n",
              "      <td>{'C': 100, 'class_weight': None, 'decision_fun...</td>\n",
              "      <td>0.580139</td>\n",
              "      <td>0.590592</td>\n",
              "      <td>0.562718</td>\n",
              "      <td>0.564460</td>\n",
              "      <td>0.534843</td>\n",
              "      <td>0.566551</td>\n",
              "      <td>0.018905</td>\n",
              "      <td>9</td>\n",
              "    </tr>\n",
              "    <tr>\n",
              "      <th>4</th>\n",
              "      <td>3.556392</td>\n",
              "      <td>0.045258</td>\n",
              "      <td>0.818485</td>\n",
              "      <td>0.100204</td>\n",
              "      <td>100</td>\n",
              "      <td>None</td>\n",
              "      <td>ovo</td>\n",
              "      <td>linear</td>\n",
              "      <td>{'C': 100, 'class_weight': None, 'decision_fun...</td>\n",
              "      <td>0.722997</td>\n",
              "      <td>0.733449</td>\n",
              "      <td>0.670732</td>\n",
              "      <td>0.705575</td>\n",
              "      <td>0.698606</td>\n",
              "      <td>0.706272</td>\n",
              "      <td>0.021636</td>\n",
              "      <td>5</td>\n",
              "    </tr>\n",
              "    <tr>\n",
              "      <th>5</th>\n",
              "      <td>3.206967</td>\n",
              "      <td>0.049078</td>\n",
              "      <td>1.834251</td>\n",
              "      <td>0.053989</td>\n",
              "      <td>100</td>\n",
              "      <td>None</td>\n",
              "      <td>ovo</td>\n",
              "      <td>rbf</td>\n",
              "      <td>{'C': 100, 'class_weight': None, 'decision_fun...</td>\n",
              "      <td>0.716028</td>\n",
              "      <td>0.747387</td>\n",
              "      <td>0.681185</td>\n",
              "      <td>0.726481</td>\n",
              "      <td>0.705575</td>\n",
              "      <td>0.715331</td>\n",
              "      <td>0.021971</td>\n",
              "      <td>3</td>\n",
              "    </tr>\n",
              "    <tr>\n",
              "      <th>6</th>\n",
              "      <td>3.205816</td>\n",
              "      <td>0.113721</td>\n",
              "      <td>1.031223</td>\n",
              "      <td>0.076931</td>\n",
              "      <td>100</td>\n",
              "      <td>None</td>\n",
              "      <td>ovo</td>\n",
              "      <td>sigmoid</td>\n",
              "      <td>{'C': 100, 'class_weight': None, 'decision_fun...</td>\n",
              "      <td>0.111498</td>\n",
              "      <td>0.132404</td>\n",
              "      <td>0.142857</td>\n",
              "      <td>0.135889</td>\n",
              "      <td>0.168990</td>\n",
              "      <td>0.138328</td>\n",
              "      <td>0.018555</td>\n",
              "      <td>13</td>\n",
              "    </tr>\n",
              "    <tr>\n",
              "      <th>7</th>\n",
              "      <td>2.958810</td>\n",
              "      <td>0.046925</td>\n",
              "      <td>0.769814</td>\n",
              "      <td>0.053353</td>\n",
              "      <td>100</td>\n",
              "      <td>None</td>\n",
              "      <td>ovo</td>\n",
              "      <td>poly</td>\n",
              "      <td>{'C': 100, 'class_weight': None, 'decision_fun...</td>\n",
              "      <td>0.580139</td>\n",
              "      <td>0.590592</td>\n",
              "      <td>0.562718</td>\n",
              "      <td>0.564460</td>\n",
              "      <td>0.534843</td>\n",
              "      <td>0.566551</td>\n",
              "      <td>0.018905</td>\n",
              "      <td>9</td>\n",
              "    </tr>\n",
              "    <tr>\n",
              "      <th>8</th>\n",
              "      <td>3.573120</td>\n",
              "      <td>0.070165</td>\n",
              "      <td>0.833429</td>\n",
              "      <td>0.140133</td>\n",
              "      <td>100</td>\n",
              "      <td>balanced</td>\n",
              "      <td>ovr</td>\n",
              "      <td>linear</td>\n",
              "      <td>{'C': 100, 'class_weight': 'balanced', 'decisi...</td>\n",
              "      <td>0.722997</td>\n",
              "      <td>0.733449</td>\n",
              "      <td>0.670732</td>\n",
              "      <td>0.705575</td>\n",
              "      <td>0.698606</td>\n",
              "      <td>0.706272</td>\n",
              "      <td>0.021636</td>\n",
              "      <td>5</td>\n",
              "    </tr>\n",
              "    <tr>\n",
              "      <th>9</th>\n",
              "      <td>3.206205</td>\n",
              "      <td>0.037337</td>\n",
              "      <td>1.816667</td>\n",
              "      <td>0.055414</td>\n",
              "      <td>100</td>\n",
              "      <td>balanced</td>\n",
              "      <td>ovr</td>\n",
              "      <td>rbf</td>\n",
              "      <td>{'C': 100, 'class_weight': 'balanced', 'decisi...</td>\n",
              "      <td>0.717770</td>\n",
              "      <td>0.750871</td>\n",
              "      <td>0.682927</td>\n",
              "      <td>0.728223</td>\n",
              "      <td>0.705575</td>\n",
              "      <td>0.717073</td>\n",
              "      <td>0.022651</td>\n",
              "      <td>1</td>\n",
              "    </tr>\n",
              "    <tr>\n",
              "      <th>10</th>\n",
              "      <td>3.338562</td>\n",
              "      <td>0.090880</td>\n",
              "      <td>1.050291</td>\n",
              "      <td>0.043465</td>\n",
              "      <td>100</td>\n",
              "      <td>balanced</td>\n",
              "      <td>ovr</td>\n",
              "      <td>sigmoid</td>\n",
              "      <td>{'C': 100, 'class_weight': 'balanced', 'decisi...</td>\n",
              "      <td>0.097561</td>\n",
              "      <td>0.116725</td>\n",
              "      <td>0.114983</td>\n",
              "      <td>0.123693</td>\n",
              "      <td>0.156794</td>\n",
              "      <td>0.121951</td>\n",
              "      <td>0.019431</td>\n",
              "      <td>15</td>\n",
              "    </tr>\n",
              "    <tr>\n",
              "      <th>11</th>\n",
              "      <td>3.193279</td>\n",
              "      <td>0.258783</td>\n",
              "      <td>0.841742</td>\n",
              "      <td>0.126938</td>\n",
              "      <td>100</td>\n",
              "      <td>balanced</td>\n",
              "      <td>ovr</td>\n",
              "      <td>poly</td>\n",
              "      <td>{'C': 100, 'class_weight': 'balanced', 'decisi...</td>\n",
              "      <td>0.580139</td>\n",
              "      <td>0.587108</td>\n",
              "      <td>0.557491</td>\n",
              "      <td>0.562718</td>\n",
              "      <td>0.536585</td>\n",
              "      <td>0.564808</td>\n",
              "      <td>0.017814</td>\n",
              "      <td>11</td>\n",
              "    </tr>\n",
              "    <tr>\n",
              "      <th>12</th>\n",
              "      <td>3.594289</td>\n",
              "      <td>0.036217</td>\n",
              "      <td>0.759401</td>\n",
              "      <td>0.030846</td>\n",
              "      <td>100</td>\n",
              "      <td>balanced</td>\n",
              "      <td>ovo</td>\n",
              "      <td>linear</td>\n",
              "      <td>{'C': 100, 'class_weight': 'balanced', 'decisi...</td>\n",
              "      <td>0.722997</td>\n",
              "      <td>0.733449</td>\n",
              "      <td>0.670732</td>\n",
              "      <td>0.705575</td>\n",
              "      <td>0.698606</td>\n",
              "      <td>0.706272</td>\n",
              "      <td>0.021636</td>\n",
              "      <td>5</td>\n",
              "    </tr>\n",
              "    <tr>\n",
              "      <th>13</th>\n",
              "      <td>3.086576</td>\n",
              "      <td>0.129161</td>\n",
              "      <td>1.852762</td>\n",
              "      <td>0.047631</td>\n",
              "      <td>100</td>\n",
              "      <td>balanced</td>\n",
              "      <td>ovo</td>\n",
              "      <td>rbf</td>\n",
              "      <td>{'C': 100, 'class_weight': 'balanced', 'decisi...</td>\n",
              "      <td>0.717770</td>\n",
              "      <td>0.750871</td>\n",
              "      <td>0.682927</td>\n",
              "      <td>0.728223</td>\n",
              "      <td>0.705575</td>\n",
              "      <td>0.717073</td>\n",
              "      <td>0.022651</td>\n",
              "      <td>1</td>\n",
              "    </tr>\n",
              "    <tr>\n",
              "      <th>14</th>\n",
              "      <td>3.305492</td>\n",
              "      <td>0.181113</td>\n",
              "      <td>1.023636</td>\n",
              "      <td>0.078713</td>\n",
              "      <td>100</td>\n",
              "      <td>balanced</td>\n",
              "      <td>ovo</td>\n",
              "      <td>sigmoid</td>\n",
              "      <td>{'C': 100, 'class_weight': 'balanced', 'decisi...</td>\n",
              "      <td>0.097561</td>\n",
              "      <td>0.116725</td>\n",
              "      <td>0.114983</td>\n",
              "      <td>0.123693</td>\n",
              "      <td>0.156794</td>\n",
              "      <td>0.121951</td>\n",
              "      <td>0.019431</td>\n",
              "      <td>15</td>\n",
              "    </tr>\n",
              "    <tr>\n",
              "      <th>15</th>\n",
              "      <td>2.794919</td>\n",
              "      <td>0.419824</td>\n",
              "      <td>0.679182</td>\n",
              "      <td>0.145597</td>\n",
              "      <td>100</td>\n",
              "      <td>balanced</td>\n",
              "      <td>ovo</td>\n",
              "      <td>poly</td>\n",
              "      <td>{'C': 100, 'class_weight': 'balanced', 'decisi...</td>\n",
              "      <td>0.580139</td>\n",
              "      <td>0.587108</td>\n",
              "      <td>0.557491</td>\n",
              "      <td>0.562718</td>\n",
              "      <td>0.536585</td>\n",
              "      <td>0.564808</td>\n",
              "      <td>0.017814</td>\n",
              "      <td>11</td>\n",
              "    </tr>\n",
              "  </tbody>\n",
              "</table>\n",
              "</div>\n",
              "      <button class=\"colab-df-convert\" onclick=\"convertToInteractive('df-db513d93-ef76-45af-9821-1e0168340295')\"\n",
              "              title=\"Convert this dataframe to an interactive table.\"\n",
              "              style=\"display:none;\">\n",
              "        \n",
              "  <svg xmlns=\"http://www.w3.org/2000/svg\" height=\"24px\"viewBox=\"0 0 24 24\"\n",
              "       width=\"24px\">\n",
              "    <path d=\"M0 0h24v24H0V0z\" fill=\"none\"/>\n",
              "    <path d=\"M18.56 5.44l.94 2.06.94-2.06 2.06-.94-2.06-.94-.94-2.06-.94 2.06-2.06.94zm-11 1L8.5 8.5l.94-2.06 2.06-.94-2.06-.94L8.5 2.5l-.94 2.06-2.06.94zm10 10l.94 2.06.94-2.06 2.06-.94-2.06-.94-.94-2.06-.94 2.06-2.06.94z\"/><path d=\"M17.41 7.96l-1.37-1.37c-.4-.4-.92-.59-1.43-.59-.52 0-1.04.2-1.43.59L10.3 9.45l-7.72 7.72c-.78.78-.78 2.05 0 2.83L4 21.41c.39.39.9.59 1.41.59.51 0 1.02-.2 1.41-.59l7.78-7.78 2.81-2.81c.8-.78.8-2.07 0-2.86zM5.41 20L4 18.59l7.72-7.72 1.47 1.35L5.41 20z\"/>\n",
              "  </svg>\n",
              "      </button>\n",
              "      \n",
              "  <style>\n",
              "    .colab-df-container {\n",
              "      display:flex;\n",
              "      flex-wrap:wrap;\n",
              "      gap: 12px;\n",
              "    }\n",
              "\n",
              "    .colab-df-convert {\n",
              "      background-color: #E8F0FE;\n",
              "      border: none;\n",
              "      border-radius: 50%;\n",
              "      cursor: pointer;\n",
              "      display: none;\n",
              "      fill: #1967D2;\n",
              "      height: 32px;\n",
              "      padding: 0 0 0 0;\n",
              "      width: 32px;\n",
              "    }\n",
              "\n",
              "    .colab-df-convert:hover {\n",
              "      background-color: #E2EBFA;\n",
              "      box-shadow: 0px 1px 2px rgba(60, 64, 67, 0.3), 0px 1px 3px 1px rgba(60, 64, 67, 0.15);\n",
              "      fill: #174EA6;\n",
              "    }\n",
              "\n",
              "    [theme=dark] .colab-df-convert {\n",
              "      background-color: #3B4455;\n",
              "      fill: #D2E3FC;\n",
              "    }\n",
              "\n",
              "    [theme=dark] .colab-df-convert:hover {\n",
              "      background-color: #434B5C;\n",
              "      box-shadow: 0px 1px 3px 1px rgba(0, 0, 0, 0.15);\n",
              "      filter: drop-shadow(0px 1px 2px rgba(0, 0, 0, 0.3));\n",
              "      fill: #FFFFFF;\n",
              "    }\n",
              "  </style>\n",
              "\n",
              "      <script>\n",
              "        const buttonEl =\n",
              "          document.querySelector('#df-db513d93-ef76-45af-9821-1e0168340295 button.colab-df-convert');\n",
              "        buttonEl.style.display =\n",
              "          google.colab.kernel.accessAllowed ? 'block' : 'none';\n",
              "\n",
              "        async function convertToInteractive(key) {\n",
              "          const element = document.querySelector('#df-db513d93-ef76-45af-9821-1e0168340295');\n",
              "          const dataTable =\n",
              "            await google.colab.kernel.invokeFunction('convertToInteractive',\n",
              "                                                     [key], {});\n",
              "          if (!dataTable) return;\n",
              "\n",
              "          const docLinkHtml = 'Like what you see? Visit the ' +\n",
              "            '<a target=\"_blank\" href=https://colab.research.google.com/notebooks/data_table.ipynb>data table notebook</a>'\n",
              "            + ' to learn more about interactive tables.';\n",
              "          element.innerHTML = '';\n",
              "          dataTable['output_type'] = 'display_data';\n",
              "          await google.colab.output.renderOutput(dataTable, element);\n",
              "          const docLink = document.createElement('div');\n",
              "          docLink.innerHTML = docLinkHtml;\n",
              "          element.appendChild(docLink);\n",
              "        }\n",
              "      </script>\n",
              "    </div>\n",
              "  </div>\n",
              "  "
            ]
          },
          "metadata": {},
          "execution_count": 15
        }
      ]
    },
    {
      "cell_type": "code",
      "source": [
        "clf.best_params_"
      ],
      "metadata": {
        "colab": {
          "base_uri": "https://localhost:8080/"
        },
        "id": "6OgjQ4HKkd1Q",
        "outputId": "a3bb6332-d0c5-4595-e08a-1721515d711b"
      },
      "execution_count": 16,
      "outputs": [
        {
          "output_type": "execute_result",
          "data": {
            "text/plain": [
              "{'C': 100,\n",
              " 'class_weight': 'balanced',\n",
              " 'decision_function_shape': 'ovr',\n",
              " 'kernel': 'rbf'}"
            ]
          },
          "metadata": {},
          "execution_count": 16
        }
      ]
    },
    {
      "cell_type": "code",
      "source": [
        "clf.score(X_test, y_test)"
      ],
      "metadata": {
        "colab": {
          "base_uri": "https://localhost:8080/"
        },
        "id": "dAYX9Xiskz27",
        "outputId": "aede31a1-884f-4b78-99ed-f984057a1302"
      },
      "execution_count": 17,
      "outputs": [
        {
          "output_type": "execute_result",
          "data": {
            "text/plain": [
              "0.778149386845039"
            ]
          },
          "metadata": {},
          "execution_count": 17
        }
      ]
    },
    {
      "cell_type": "code",
      "source": [
        "clf = SVC(C=100.0, kernel=\"rbf\", class_weight=\"balanced\", decision_function_shape=\"ovr\")\n",
        "clf.fit(X_train, y_train)\n",
        "acc1 = clf.score(X_train, y_train)\n",
        "acc2 = clf.score(X_valid, y_valid)\n",
        "acc3 = clf.score(X_test, y_test)\n",
        "\n",
        "print(acc1, acc2, acc3)"
      ],
      "metadata": {
        "id": "6cEkF0z8oisW",
        "colab": {
          "base_uri": "https://localhost:8080/"
        },
        "outputId": "38d360ef-03eb-4c67-d3e5-a4655b9cbced"
      },
      "execution_count": 18,
      "outputs": [
        {
          "output_type": "stream",
          "name": "stdout",
          "text": [
            "0.9986062717770035 0.7172701949860725 0.778149386845039\n"
          ]
        }
      ]
    },
    {
      "cell_type": "code",
      "source": [],
      "metadata": {
        "id": "cS06e1JQdqgA"
      },
      "execution_count": null,
      "outputs": []
    }
  ]
}