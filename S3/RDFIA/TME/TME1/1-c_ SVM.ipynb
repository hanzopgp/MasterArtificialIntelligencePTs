{
  "nbformat": 4,
  "nbformat_minor": 0,
  "metadata": {
    "colab": {
      "provenance": [],
      "collapsed_sections": []
    },
    "kernelspec": {
      "name": "python3",
      "display_name": "Python 3"
    }
  },
  "cells": [
    {
      "cell_type": "markdown",
      "metadata": {
        "id": "zTKZy7Gj6veU"
      },
      "source": [
        "<center><h1>1-c: SVM</h1></center>\n",
        "\n",
        "<center><h2><a href=\"https://rdfia.github.io/\">Course link</a></h2></center>\n",
        "\n",
        "To keep your modifications in case you want to come back later to this colab, do *File -> Save a copy in Drive*.\n",
        "\n"
      ]
    },
    {
      "cell_type": "code",
      "metadata": {
        "id": "QK8of_MGVV2M",
        "outputId": "47a37dad-a35e-4e77-b859-047d59f14ef2",
        "colab": {
          "base_uri": "https://localhost:8080/"
        }
      },
      "source": [
        "!wget http://webia.lip6.fr/~douillard/rdfia/15_scenes_Xy.npz"
      ],
      "execution_count": 1,
      "outputs": [
        {
          "output_type": "stream",
          "name": "stdout",
          "text": [
            "--2022-09-28 14:20:18--  http://webia.lip6.fr/~douillard/rdfia/15_scenes_Xy.npz\n",
            "Resolving webia.lip6.fr (webia.lip6.fr)... 132.227.201.33\n",
            "Connecting to webia.lip6.fr (webia.lip6.fr)|132.227.201.33|:80... connected.\n",
            "HTTP request sent, awaiting response... 200 OK\n",
            "Length: 35952210 (34M) [text/plain]\n",
            "Saving to: ‘15_scenes_Xy.npz’\n",
            "\n",
            "15_scenes_Xy.npz    100%[===================>]  34.29M  23.1MB/s    in 1.5s    \n",
            "\n",
            "2022-09-28 14:20:20 (23.1 MB/s) - ‘15_scenes_Xy.npz’ saved [35952210/35952210]\n",
            "\n"
          ]
        }
      ]
    },
    {
      "cell_type": "code",
      "metadata": {
        "id": "PH3AHmt_WAOs",
        "outputId": "e50ca031-041c-464f-9c0f-ec3dc9b88354",
        "colab": {
          "base_uri": "https://localhost:8080/"
        }
      },
      "source": [
        "%pylab inline\n",
        "\n",
        "import matplotlib.pyplot as plt\n",
        "import numpy as np\n",
        "from sklearn.svm import SVC\n",
        "from sklearn.model_selection import KFold, train_test_split"
      ],
      "execution_count": 2,
      "outputs": [
        {
          "output_type": "stream",
          "name": "stdout",
          "text": [
            "Populating the interactive namespace from numpy and matplotlib\n"
          ]
        }
      ]
    },
    {
      "cell_type": "markdown",
      "metadata": {
        "id": "A6TfY3K0W8MM"
      },
      "source": [
        "Loading BoW of the whole dataset (4485 images, thus 4485 dictionnary of 1001 words):"
      ]
    },
    {
      "cell_type": "code",
      "metadata": {
        "id": "FWLV0po7WO1E",
        "outputId": "5447a0f2-72b4-4177-f6f3-219ffc4a03dd",
        "colab": {
          "base_uri": "https://localhost:8080/"
        }
      },
      "source": [
        "data = np.load(\"15_scenes_Xy.npz\")\n",
        "X = data[\"X\"]\n",
        "y = data[\"y\"]\n",
        "\n",
        "X.shape, y.shape"
      ],
      "execution_count": 3,
      "outputs": [
        {
          "output_type": "execute_result",
          "data": {
            "text/plain": [
              "((4485, 1001), (4485,))"
            ]
          },
          "metadata": {},
          "execution_count": 3
        }
      ]
    },
    {
      "cell_type": "markdown",
      "metadata": {
        "id": "Sfh5x5kYXFcY"
      },
      "source": [
        "Let's see what is the class distribution:"
      ]
    },
    {
      "cell_type": "code",
      "metadata": {
        "id": "RqNSdTTkWiPQ",
        "outputId": "d11b1224-2ab3-44b6-9295-8a65d45f8e3d",
        "colab": {
          "base_uri": "https://localhost:8080/"
        }
      },
      "source": [
        "{c: nb for c, nb in enumerate(np.bincount(y))}"
      ],
      "execution_count": 4,
      "outputs": [
        {
          "output_type": "execute_result",
          "data": {
            "text/plain": [
              "{0: 241,\n",
              " 1: 360,\n",
              " 2: 328,\n",
              " 3: 260,\n",
              " 4: 308,\n",
              " 5: 374,\n",
              " 6: 410,\n",
              " 7: 292,\n",
              " 8: 356,\n",
              " 9: 215,\n",
              " 10: 216,\n",
              " 11: 311,\n",
              " 12: 210,\n",
              " 13: 289,\n",
              " 14: 315}"
            ]
          },
          "metadata": {},
          "execution_count": 4
        }
      ]
    },
    {
      "cell_type": "markdown",
      "metadata": {
        "id": "MVUjgR30X7pI"
      },
      "source": [
        "Split the dataset into a train & test set:"
      ]
    },
    {
      "cell_type": "code",
      "metadata": {
        "id": "AO4XiNupWjVk"
      },
      "source": [
        "#TODO = train_test_split(#TODO)\n",
        "X_train, X_test, y_train, y_test = train_test_split(X, y, train_size=0.7)"
      ],
      "execution_count": 21,
      "outputs": []
    },
    {
      "cell_type": "markdown",
      "metadata": {
        "id": "SsnJDa_IYdmk"
      },
      "source": [
        "Then a validation set from the train set:"
      ]
    },
    {
      "cell_type": "code",
      "metadata": {
        "id": "jjX3N-35YcFs"
      },
      "source": [
        "#TODO = train_test_split(#TODO)\n",
        "X_test, X_valid, y_test, y_valid = train_test_split(X_test, y_test, train_size=0.5)"
      ],
      "execution_count": 22,
      "outputs": []
    },
    {
      "cell_type": "code",
      "source": [
        "print(X_train.shape, y_train.shape, X_valid.shape, y_valid.shape, X_test.shape, y_test.shape)"
      ],
      "metadata": {
        "id": "ZbuJRLQBfIzL",
        "outputId": "b0e6e8d2-352a-4670-c67d-1a398b3041c3",
        "colab": {
          "base_uri": "https://localhost:8080/"
        }
      },
      "execution_count": 23,
      "outputs": [
        {
          "output_type": "stream",
          "name": "stdout",
          "text": [
            "(3139, 1001) (3139,) (673, 1001) (673,) (673, 1001) (673,)\n"
          ]
        }
      ]
    },
    {
      "cell_type": "markdown",
      "metadata": {
        "id": "NHlcmt-SYBKQ"
      },
      "source": [
        "Let's hyperparameter gridsearch over different values of `C`:"
      ]
    },
    {
      "cell_type": "code",
      "metadata": {
        "id": "F9wZ9l5FX_QY",
        "outputId": "87b31abe-9c94-4132-eeca-67828707feb4",
        "colab": {
          "base_uri": "https://localhost:8080/"
        }
      },
      "source": [
        "C_values = np.logspace(0.1, 3, num=15)\n",
        "accuracies = []\n",
        "\n",
        "for c in C_values:\n",
        "  print(f'Training SVM with C={c}')\n",
        "\n",
        "  clf = SVC(C=c)\n",
        "\n",
        "  # Fit on sub-train set\n",
        "  clf.fit(X_train, y_train)\n",
        "\n",
        "  # Evaluate on val set\n",
        "  acc = clf.score(X_valid, y_valid)\n",
        "  accuracies.append(acc)\n",
        "\n",
        "  print(f'--> accuracy = {acc}')"
      ],
      "execution_count": 35,
      "outputs": [
        {
          "output_type": "stream",
          "name": "stdout",
          "text": [
            "Training SVM with C=1.2589254117941673\n",
            "--> accuracy = 0.5468053491827637\n",
            "Training SVM with C=2.028349816662018\n",
            "--> accuracy = 0.5913818722139673\n",
            "Training SVM with C=3.268027589410125\n",
            "--> accuracy = 0.6433878157503715\n",
            "Training SVM with C=5.2653660810448635\n",
            "--> accuracy = 0.6909361069836553\n",
            "Training SVM with C=8.483428982440719\n",
            "--> accuracy = 0.711738484398217\n",
            "Training SVM with C=13.668293180829261\n",
            "--> accuracy = 0.7355126300148589\n",
            "Training SVM with C=22.022019499873757\n",
            "--> accuracy = 0.7473997028231798\n",
            "Training SVM with C=35.48133892335755\n",
            "--> accuracy = 0.7533432392273403\n",
            "Training SVM with C=57.166665019136154\n",
            "--> accuracy = 0.7533432392273403\n",
            "Training SVM with C=92.10553176894815\n",
            "--> accuracy = 0.7563150074294205\n",
            "Training SVM with C=148.39817889675646\n",
            "--> accuracy = 0.7563150074294205\n",
            "Training SVM with C=239.095514427051\n",
            "--> accuracy = 0.7563150074294205\n",
            "Training SVM with C=385.22484200367535\n",
            "--> accuracy = 0.7563150074294205\n",
            "Training SVM with C=620.6648387041713\n",
            "--> accuracy = 0.7563150074294205\n",
            "Training SVM with C=1000.0\n",
            "--> accuracy = 0.7563150074294205\n"
          ]
        }
      ]
    },
    {
      "cell_type": "code",
      "metadata": {
        "id": "a8md3e7iZN5M",
        "outputId": "c36bc50b-3b02-4be3-b5b6-7daab94f4e11",
        "colab": {
          "base_uri": "https://localhost:8080/",
          "height": 747
        }
      },
      "source": [
        "# TODO plot the relation between `c` and the accuracy\n",
        "plt.figure(figsize=(8,8))\n",
        "plt.scatter(C_values, accuracies)\n",
        "plt.xlabel(\"C value\")\n",
        "plt.ylabel(\"Accuracy\")\n",
        "plt.legend(loc='upper right')\n",
        "plt.title(\"Relation between C and the accuracy\")\n",
        "plt.show()"
      ],
      "execution_count": 36,
      "outputs": [
        {
          "output_type": "stream",
          "name": "stderr",
          "text": [
            "WARNING:matplotlib.legend:No handles with labels found to put in legend.\n"
          ]
        },
        {
          "output_type": "display_data",
          "data": {
            "text/plain": [
              "<Figure size 864x864 with 1 Axes>"
            ],
            "image/png": "[encoded data removed]"
          },
          "metadata": {
            "needs_background": "light"
          }
        }
      ]
    },
    {
      "cell_type": "code",
      "metadata": {
        "id": "SK7WWSltbJbc"
      },
      "source": [
        "X_train, X_test, y_train, y_test = train_test_split(X, y, train_size=0.7)\n",
        "\n",
        "clf = SVC(C=c)\n",
        "clf.fit(X_train, y_train)\n",
        "acc = clf.score(X_valid, y_valid)\n",
        "\n",
        "print(acc)"
      ],
      "execution_count": null,
      "outputs": []
    },
    {
      "cell_type": "markdown",
      "metadata": {
        "id": "iCRk9QaGbiuM"
      },
      "source": [
        "Do the same with different kernel values, and different decision functions:"
      ]
    },
    {
      "cell_type": "code",
      "metadata": {
        "id": "Pwd0BdIhbR5o",
        "outputId": "0d24ac73-089e-4c26-e0ba-9080a150cdd9",
        "colab": {
          "base_uri": "https://localhost:8080/"
        }
      },
      "source": [
        "from sklearn.model_selection import GridSearchCV\n",
        "from sklearn import svm\n",
        "\n",
        "# C_values = np.logspace(0.1, 3, num=10)\n",
        "C_values = [150]\n",
        "parameters = {'kernel':('linear', 'rbf', 'sigmoid', 'poly'), 'C':C_values, 'class_weight':[None, 'balanced']}\n",
        "\n",
        "svc = svm.SVC()\n",
        "clf = GridSearchCV(svc, parameters, n_jobs=-1, verbose=3)\n",
        "clf.fit(X_train, y_train)"
      ],
      "execution_count": 52,
      "outputs": [
        {
          "output_type": "stream",
          "name": "stdout",
          "text": [
            "Fitting 5 folds for each of 8 candidates, totalling 40 fits\n"
          ]
        },
        {
          "output_type": "execute_result",
          "data": {
            "text/plain": [
              "GridSearchCV(estimator=SVC(), n_jobs=-1,\n",
              "             param_grid={'C': [150], 'class_weight': [None, 'balanced'],\n",
              "                         'kernel': ('linear', 'rbf', 'sigmoid', 'poly')},\n",
              "             verbose=3)"
            ]
          },
          "metadata": {},
          "execution_count": 52
        }
      ]
    },
    {
      "cell_type": "code",
      "source": [
        "clf.cv_results_"
      ],
      "metadata": {
        "id": "nzkP1rKBj6f4",
        "outputId": "880c2750-1792-4c2f-9719-402d5e155529",
        "colab": {
          "base_uri": "https://localhost:8080/"
        }
      },
      "execution_count": 53,
      "outputs": [
        {
          "output_type": "execute_result",
          "data": {
            "text/plain": [
              "{'mean_fit_time': array([4.47415767, 3.65855021, 3.34149747, 3.27015991, 4.25992351,\n",
              "        3.74554687, 3.45308647, 3.29195294]),\n",
              " 'std_fit_time': array([0.30581381, 0.06445105, 0.1574242 , 0.04574842, 0.35808131,\n",
              "        0.31762738, 0.18067729, 0.04470966]),\n",
              " 'mean_score_time': array([1.32216091, 2.3134738 , 1.40225487, 0.98244963, 1.05805655,\n",
              "        2.33294282, 1.39046297, 0.9007453 ]),\n",
              " 'std_score_time': array([0.33172922, 0.05383452, 0.06014748, 0.0553951 , 0.07141812,\n",
              "        0.03171155, 0.02372547, 0.21602683]),\n",
              " 'param_C': masked_array(data=[150, 150, 150, 150, 150, 150, 150, 150],\n",
              "              mask=[False, False, False, False, False, False, False, False],\n",
              "        fill_value='?',\n",
              "             dtype=object),\n",
              " 'param_class_weight': masked_array(data=[None, None, None, None, 'balanced', 'balanced',\n",
              "                    'balanced', 'balanced'],\n",
              "              mask=[False, False, False, False, False, False, False, False],\n",
              "        fill_value='?',\n",
              "             dtype=object),\n",
              " 'param_kernel': masked_array(data=['linear', 'rbf', 'sigmoid', 'poly', 'linear', 'rbf',\n",
              "                    'sigmoid', 'poly'],\n",
              "              mask=[False, False, False, False, False, False, False, False],\n",
              "        fill_value='?',\n",
              "             dtype=object),\n",
              " 'params': [{'C': 150, 'class_weight': None, 'kernel': 'linear'},\n",
              "  {'C': 150, 'class_weight': None, 'kernel': 'rbf'},\n",
              "  {'C': 150, 'class_weight': None, 'kernel': 'sigmoid'},\n",
              "  {'C': 150, 'class_weight': None, 'kernel': 'poly'},\n",
              "  {'C': 150, 'class_weight': 'balanced', 'kernel': 'linear'},\n",
              "  {'C': 150, 'class_weight': 'balanced', 'kernel': 'rbf'},\n",
              "  {'C': 150, 'class_weight': 'balanced', 'kernel': 'sigmoid'},\n",
              "  {'C': 150, 'class_weight': 'balanced', 'kernel': 'poly'}],\n",
              " 'split0_test_score': array([0.7022293 , 0.7133758 , 0.12420382, 0.57324841, 0.7022293 ,\n",
              "        0.71178344, 0.12579618, 0.57006369]),\n",
              " 'split1_test_score': array([0.71019108, 0.71815287, 0.13375796, 0.59713376, 0.71019108,\n",
              "        0.71974522, 0.12420382, 0.60031847]),\n",
              " 'split2_test_score': array([0.72770701, 0.74681529, 0.12579618, 0.57961783, 0.72770701,\n",
              "        0.74681529, 0.11624204, 0.5843949 ]),\n",
              " 'split3_test_score': array([0.72452229, 0.75477707, 0.13853503, 0.62420382, 0.72452229,\n",
              "        0.75477707, 0.12738854, 0.62101911]),\n",
              " 'split4_test_score': array([0.71132376, 0.71451356, 0.10047847, 0.60127592, 0.71132376,\n",
              "        0.71451356, 0.07974482, 0.60127592]),\n",
              " 'mean_test_score': array([0.71519469, 0.72952692, 0.12455429, 0.59509595, 0.71519469,\n",
              "        0.72952692, 0.11467508, 0.59541442]),\n",
              " 'std_test_score': array([0.00950456, 0.01761866, 0.01312615, 0.01792484, 0.00950456,\n",
              "        0.01773342, 0.0178812 , 0.01719358]),\n",
              " 'rank_test_score': array([3, 1, 7, 6, 3, 1, 8, 5], dtype=int32)}"
            ]
          },
          "metadata": {},
          "execution_count": 53
        }
      ]
    },
    {
      "cell_type": "code",
      "source": [
        "clf.best_params_"
      ],
      "metadata": {
        "id": "6OgjQ4HKkd1Q",
        "outputId": "1ea701de-bb22-4244-c765-8bd1375260f5",
        "colab": {
          "base_uri": "https://localhost:8080/"
        }
      },
      "execution_count": 54,
      "outputs": [
        {
          "output_type": "execute_result",
          "data": {
            "text/plain": [
              "{'C': 150, 'class_weight': None, 'kernel': 'rbf'}"
            ]
          },
          "metadata": {},
          "execution_count": 54
        }
      ]
    },
    {
      "cell_type": "code",
      "source": [
        "clf.score(X_test, y_test)"
      ],
      "metadata": {
        "id": "dAYX9Xiskz27",
        "outputId": "0e93d196-f1d1-4775-e587-8783a8f57319",
        "colab": {
          "base_uri": "https://localhost:8080/"
        }
      },
      "execution_count": 55,
      "outputs": [
        {
          "output_type": "execute_result",
          "data": {
            "text/plain": [
              "0.7429420505200595"
            ]
          },
          "metadata": {},
          "execution_count": 55
        }
      ]
    },
    {
      "cell_type": "code",
      "source": [],
      "metadata": {
        "id": "6cEkF0z8oisW"
      },
      "execution_count": null,
      "outputs": []
    }
  ]
}